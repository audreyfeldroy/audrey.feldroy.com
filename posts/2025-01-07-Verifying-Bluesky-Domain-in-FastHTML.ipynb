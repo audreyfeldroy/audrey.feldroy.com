{
 "cells": [
  {
   "cell_type": "markdown",
   "id": "0",
   "metadata": {},
   "source": [
    "# Verifying a Bluesky Domain Handle on a FastHTML Site"
   ]
  },
  {
   "cell_type": "markdown",
   "id": "1",
   "metadata": {},
   "source": [
    "I just changed my Bluesky to [@audrey.feldroy.com](https://bsky.app/profile/audrey.feldroy.com). To verify my domain ownership, I added this route handler to my FastHTML website:"
   ]
  },
  {
   "cell_type": "code",
   "execution_count": 6,
   "id": "c78b2027",
   "metadata": {},
   "outputs": [],
   "source": [
    "from fasthtml.common import *"
   ]
  },
  {
   "cell_type": "code",
   "execution_count": 7,
   "id": "2",
   "metadata": {},
   "outputs": [],
   "source": [
    "@rt('/.well-known/{fname}')\n",
    "def wellknown(fname: str):\n",
    "    return Path(f'.well-known/{fname}').read_text()"
   ]
  },
  {
   "cell_type": "markdown",
   "id": "3",
   "metadata": {},
   "source": [
    "In my website's repo [arg-blog-fasthtml](https://github.com/audreyfeldroy/arg-blog-fasthtml) I created a `.well-known` directory."
   ]
  },
  {
   "cell_type": "markdown",
   "id": "4",
   "metadata": {},
   "source": [
    "Within that, I created a file called `atproto-did`, containing the verification text string shown under:\n",
    "\n",
    "> https://bsky.app/settings/account > Change Handle > I have my own domain > No DNS Panel"
   ]
  },
  {
   "cell_type": "markdown",
   "id": "5",
   "metadata": {},
   "source": [
    "Then I redeployed my site and clicked the *Verify Text File* button, and my handle was updated."
   ]
  },
  {
   "cell_type": "markdown",
   "id": "6",
   "metadata": {},
   "source": [
    "## A Full Minimal FastHTML App for This"
   ]
  },
  {
   "cell_type": "markdown",
   "id": "7",
   "metadata": {},
   "source": [
    "If you have a domain but no website yet, here's a FastHTML app for verifying your domain as your Bluesky handle:"
   ]
  },
  {
   "cell_type": "code",
   "execution_count": 8,
   "id": "8",
   "metadata": {},
   "outputs": [],
   "source": [
    "from fasthtml.common import *\n",
    "\n",
    "app,rt = fast_app()\n",
    "\n",
    "@rt\n",
    "def get(): return Div(P(\"Welcome to my homepage!\"))\n",
    "\n",
    "@rt('/.well-known/{fname}')\n",
    "def wellknown(fname: str):\n",
    "    return Path(f'.well-known/{fname}').read_text()\n",
    "\n",
    "serve()"
   ]
  },
  {
   "cell_type": "markdown",
   "id": "962b3aaf",
   "metadata": {},
   "source": [
    "Then add the `.well-known/atproto-did` file, deploy, and verify."
   ]
  }
 ],
 "metadata": {
  "kernelspec": {
   "display_name": "Python 3 (ipykernel)",
   "language": "python",
   "name": "python3"
  },
  "language_info": {
   "codemirror_mode": {
    "name": "ipython",
    "version": 3
   },
   "file_extension": ".py",
   "mimetype": "text/x-python",
   "name": "python",
   "nbconvert_exporter": "python",
   "pygments_lexer": "ipython3",
   "version": "3.12.8"
  }
 },
 "nbformat": 4,
 "nbformat_minor": 5
}
