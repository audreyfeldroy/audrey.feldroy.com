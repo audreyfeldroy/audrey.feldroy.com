{
 "cells": [
  {
   "cell_type": "markdown",
   "id": "7bf09c73",
   "metadata": {},
   "source": [
    "# Troubleshooting MonsterUI on This Site"
   ]
  },
  {
   "cell_type": "markdown",
   "id": "e3fedd3d",
   "metadata": {},
   "source": [
    "My first MonsterUI notebook wasn't rendering correctly. I started to debug it in this notebook, but ended up just using this as a test notebook for the next one."
   ]
  },
  {
   "cell_type": "code",
   "execution_count": 4,
   "id": "8bff65e3",
   "metadata": {},
   "outputs": [],
   "source": [
    "from fasthtml.common import *\n",
    "from monsterui.all import *"
   ]
  },
  {
   "cell_type": "markdown",
   "id": "88ebf8e6",
   "metadata": {},
   "source": [
    "## Understand the Problem"
   ]
  },
  {
   "cell_type": "markdown",
   "id": "b91fdff1",
   "metadata": {},
   "source": [
    "[MonsterUI Buttons and Links](https://audrey.feldroy.com/nbs/2025-01-22-MonsterUI-Buttons-and-Links) is the notebook with the problem.\n",
    "\n",
    "Let's start with a subset of the problem: the H1 text \"MonsterUI Buttons and Links\" is showing up as normal text."
   ]
  },
  {
   "cell_type": "code",
   "execution_count": 13,
   "id": "cb344dfb",
   "metadata": {},
   "outputs": [
    {
     "data": {
      "text/markdown": [
       "```html\n",
       "<h1 class=\"uk-h1 \">Hi</h1>\n",
       "\n",
       "```"
      ],
      "text/plain": [
       "h1(('Hi',),{'class': 'uk-h1 '})"
      ]
     },
     "execution_count": 13,
     "metadata": {},
     "output_type": "execute_result"
    }
   ],
   "source": [
    "H1(\"Hi\")"
   ]
  },
  {
   "cell_type": "code",
   "execution_count": 14,
   "id": "8de4194e",
   "metadata": {},
   "outputs": [
    {
     "data": {
      "text/html": [
       "<h1 class=\"uk-h1 \">Hi</h1>\n"
      ],
      "text/plain": [
       "<IPython.core.display.HTML object>"
      ]
     },
     "metadata": {},
     "output_type": "display_data"
    }
   ],
   "source": [
    "show(H1(\"Hi\"))"
   ]
  },
  {
   "cell_type": "code",
   "execution_count": 6,
   "id": "b86c1d3c",
   "metadata": {},
   "outputs": [
    {
     "data": {
      "text/markdown": [
       "```html\n",
       "<a href=\"https://audrey.feldroy.com\">My Blog</a>\n",
       "```"
      ],
      "text/plain": [
       "a(('My Blog',),{'href': 'https://audrey.feldroy.com'})"
      ]
     },
     "execution_count": 6,
     "metadata": {},
     "output_type": "execute_result"
    }
   ],
   "source": [
    "A(\"My Blog\", href=\"https://audrey.feldroy.com\")"
   ]
  },
  {
   "cell_type": "markdown",
   "id": "26803b10",
   "metadata": {},
   "source": [
    "## Solution in Next Notebook"
   ]
  },
  {
   "cell_type": "markdown",
   "id": "1f2dbef1",
   "metadata": {},
   "source": [
    "I ended up rewriting the MonsterUI rendering part of main.py from scratch in https://audrey.feldroy.com/nbs/2025-01-23-This-Site-Is-Now-Powered-by-This-Blog-Post"
   ]
  },
  {
   "cell_type": "markdown",
   "id": "2fc8ff9b",
   "metadata": {},
   "source": [
    "Sometimes it's just easier to rewrite than debug."
   ]
  },
  {
   "cell_type": "markdown",
   "id": "fd465dbb",
   "metadata": {},
   "source": [
    "## Update 2025-01-30"
   ]
  },
  {
   "cell_type": "markdown",
   "id": "178a07c1",
   "metadata": {},
   "source": [
    "I'm using this notebook again to troubleshoot MonsterUI as I update my site."
   ]
  },
  {
   "cell_type": "code",
   "execution_count": 9,
   "id": "8f214482",
   "metadata": {},
   "outputs": [
    {
     "data": {
      "text/markdown": [
       "```html\n",
       "<div class=\"uk-card \">\n",
       "  <div class=\"uk-card-body space-y-6\">This is a plain Card</div>\n",
       "</div>\n",
       "\n",
       "```"
      ],
      "text/plain": [
       "div((div(('This is a plain Card',),{'class': 'uk-card-body space-y-6'}),),{'class': 'uk-card '})"
      ]
     },
     "execution_count": 9,
     "metadata": {},
     "output_type": "execute_result"
    }
   ],
   "source": [
    "c = Card(\"This is a plain Card\")\n",
    "c"
   ]
  },
  {
   "cell_type": "code",
   "execution_count": 10,
   "id": "b01228c4",
   "metadata": {},
   "outputs": [
    {
     "data": {
      "text/html": [
       "<div class=\"uk-card \">\n",
       "  <div class=\"uk-card-body space-y-6\">This is a plain Card</div>\n",
       "</div>\n"
      ],
      "text/plain": [
       "<IPython.core.display.HTML object>"
      ]
     },
     "metadata": {},
     "output_type": "display_data"
    }
   ],
   "source": [
    "show(c)"
   ]
  },
  {
   "cell_type": "code",
   "execution_count": 11,
   "id": "1c892b29",
   "metadata": {},
   "outputs": [],
   "source": [
    "c2 = Card(\"This is a Card with added Tailwind background styles to make it greeen\", cls=\"bg-green-500 dark:bg-green-400\")"
   ]
  },
  {
   "cell_type": "code",
   "execution_count": 12,
   "id": "2af8b959",
   "metadata": {},
   "outputs": [
    {
     "data": {
      "text/html": [
       "<div class=\"uk-card bg-green-500 dark:bg-green-400\">\n",
       "  <div class=\"uk-card-body space-y-6\">This is a Card with added Tailwind background styles to make it greeen</div>\n",
       "</div>\n"
      ],
      "text/plain": [
       "<IPython.core.display.HTML object>"
      ]
     },
     "metadata": {},
     "output_type": "display_data"
    }
   ],
   "source": [
    "show(c2)"
   ]
  },
  {
   "cell_type": "code",
   "execution_count": null,
   "id": "fadabd2c",
   "metadata": {},
   "outputs": [],
   "source": []
  }
 ],
 "metadata": {
  "kernelspec": {
   "display_name": "Python 3 (ipykernel)",
   "language": "python",
   "name": "python3"
  },
  "language_info": {
   "codemirror_mode": {
    "name": "ipython",
    "version": 3
   },
   "file_extension": ".py",
   "mimetype": "text/x-python",
   "name": "python",
   "nbconvert_exporter": "python",
   "pygments_lexer": "ipython3",
   "version": "3.12.8"
  }
 },
 "nbformat": 4,
 "nbformat_minor": 5
}
