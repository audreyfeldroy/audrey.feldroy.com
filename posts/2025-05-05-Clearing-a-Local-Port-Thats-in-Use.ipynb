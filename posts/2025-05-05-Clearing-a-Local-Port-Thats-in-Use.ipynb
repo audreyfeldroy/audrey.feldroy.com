{
 "cells": [
  {
   "cell_type": "markdown",
   "id": "ef4179ed",
   "metadata": {},
   "source": [
    "# Clearing a Local Port That's in Use"
   ]
  },
  {
   "cell_type": "markdown",
   "id": "fe7e4eea",
   "metadata": {},
   "source": [
    "How to find and kill an old process running on a particular port."
   ]
  },
  {
   "cell_type": "markdown",
   "id": "f195cccd",
   "metadata": {},
   "source": [
    "## Why This Matters"
   ]
  },
  {
   "cell_type": "markdown",
   "id": "2ad48ced",
   "metadata": {},
   "source": [
    "This is useful when you need to run something on a port and discover it's already in use. For example, if you're starting Uvicorn from a Jupyter notebook and get this error, and you don't want to just pick another port:"
   ]
  },
  {
   "cell_type": "markdown",
   "id": "8c1b5074",
   "metadata": {},
   "source": [
    "```sh\n",
    "ERROR:    [Errno 48] error while attempting to bind on address ('0.0.0.0', 8000): [errno 48] address already in use\n",
    "```"
   ]
  },
  {
   "cell_type": "markdown",
   "id": "7d0ce054",
   "metadata": {},
   "source": [
    "## Identify What's Running on the Port"
   ]
  },
  {
   "cell_type": "markdown",
   "id": "4bf8b86e",
   "metadata": {},
   "source": [
    "Find the PID of whatever process is running on port 8000:"
   ]
  },
  {
   "cell_type": "code",
   "execution_count": null,
   "id": "f4f329fc",
   "metadata": {},
   "outputs": [],
   "source": [
    "% lsof -i :8000\n",
    "COMMAND   PID USER   FD   TYPE             DEVICE SIZE/OFF NODE NAME\n",
    "Python  53995  arg   73u  IPv4 0xfd5e93838a5d5d03      0t0  TCP *:irdmi (LISTEN)"
   ]
  },
  {
   "cell_type": "markdown",
   "id": "5b847b0f",
   "metadata": {},
   "source": [
    "## Kill It and Recheck"
   ]
  },
  {
   "cell_type": "markdown",
   "id": "5bbb2fe0",
   "metadata": {},
   "source": [
    "Kill that process:"
   ]
  },
  {
   "cell_type": "code",
   "execution_count": null,
   "id": "ab8951ca",
   "metadata": {},
   "outputs": [],
   "source": [
    "% kill -9 53995"
   ]
  },
  {
   "cell_type": "markdown",
   "id": "5dde2ab4",
   "metadata": {},
   "source": [
    "Now when you run lsof again, the process is gone:"
   ]
  },
  {
   "cell_type": "code",
   "execution_count": null,
   "id": "b6c7250b",
   "metadata": {},
   "outputs": [],
   "source": [
    "% lsof -i :8000"
   ]
  }
 ],
 "metadata": {
  "kernelspec": {
   "display_name": "Python 3 (ipykernel)",
   "language": "python",
   "name": "python3"
  },
  "language_info": {
   "codemirror_mode": {
    "name": "ipython",
    "version": 3
   },
   "file_extension": ".py",
   "mimetype": "text/x-python",
   "name": "python",
   "nbconvert_exporter": "python",
   "pygments_lexer": "ipython3",
   "version": "3.12.8"
  }
 },
 "nbformat": 4,
 "nbformat_minor": 5
}
