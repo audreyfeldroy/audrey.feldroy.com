{
 "cells": [
  {
   "cell_type": "markdown",
   "id": "0",
   "metadata": {},
   "source": [
    "# Bash in Jupyter Notebooks"
   ]
  },
  {
   "cell_type": "markdown",
   "id": "1",
   "metadata": {},
   "source": [
    "## Variables"
   ]
  },
  {
   "cell_type": "code",
   "execution_count": null,
   "id": "2",
   "metadata": {},
   "outputs": [],
   "source": [
    "%%bash\n",
    "name=\"Uma\"\n",
    "echo \"Hi $name\"\n",
    "echo \"Note: it's safer to quote variables like ${name}\""
   ]
  },
  {
   "cell_type": "code",
   "execution_count": null,
   "id": "3",
   "metadata": {},
   "outputs": [],
   "source": [
    "%%bash\n",
    "echo \"${name}\""
   ]
  },
  {
   "cell_type": "markdown",
   "id": "4",
   "metadata": {},
   "source": [
    "`!` is like `%%bash` for one-line commands:"
   ]
  },
  {
   "cell_type": "code",
   "execution_count": null,
   "id": "5",
   "metadata": {},
   "outputs": [],
   "source": [
    "!name=\"Daniel\"; echo \"Hi ${name}\""
   ]
  },
  {
   "cell_type": "code",
   "execution_count": null,
   "id": "6",
   "metadata": {},
   "outputs": [],
   "source": [
    "!echo \"Hi ${name}\""
   ]
  },
  {
   "cell_type": "markdown",
   "id": "7",
   "metadata": {},
   "source": [
    "Variables don't persist across cells, for `%%bash` or `!`. Each cell's commands run in its own subshell."
   ]
  },
  {
   "cell_type": "markdown",
   "id": "8",
   "metadata": {},
   "source": [
    "## Constants"
   ]
  },
  {
   "cell_type": "code",
   "execution_count": null,
   "id": "9",
   "metadata": {},
   "outputs": [],
   "source": [
    "%%bash\n",
    "readonly UMA=\"the sweetest\"\n",
    "echo \"Uma is ${UMA}\""
   ]
  },
  {
   "cell_type": "markdown",
   "id": "10",
   "metadata": {},
   "source": [
    "## Control Flow"
   ]
  },
  {
   "cell_type": "code",
   "execution_count": null,
   "id": "11",
   "metadata": {},
   "outputs": [],
   "source": [
    "%%bash\n",
    "a=5\n",
    "b=4\n",
    "if [ \"$a\" -eq \"$b\" ]; then\n",
    "    echo \"Equal\"\n",
    "elif [ \"$a\" -gt \"$b\" ]; then\n",
    "    echo \"Greater\"\n",
    "else\n",
    "    echo \"Less\"\n",
    "fi"
   ]
  },
  {
   "cell_type": "code",
   "execution_count": null,
   "id": "12",
   "metadata": {},
   "outputs": [],
   "source": [
    "%%bash\n",
    "for i in {1..5}; do\n",
    "    echo $i\n",
    "done"
   ]
  },
  {
   "cell_type": "code",
   "execution_count": null,
   "id": "13",
   "metadata": {},
   "outputs": [],
   "source": [
    "%%bash\n",
    "count=2\n",
    "while [ $count -lt 5 ]; do\n",
    "    echo $count\n",
    "    ((count++))\n",
    "done"
   ]
  },
  {
   "cell_type": "markdown",
   "id": "14",
   "metadata": {},
   "source": [
    "## Functions"
   ]
  },
  {
   "cell_type": "code",
   "execution_count": null,
   "id": "15",
   "metadata": {},
   "outputs": [],
   "source": [
    "%%bash\n",
    "greet() {\n",
    "    echo \"Hello $1\"  # $1 is first argument\n",
    "    return 0\n",
    "}\n",
    "greet \"Uma the cutie\""
   ]
  },
  {
   "cell_type": "markdown",
   "id": "16",
   "metadata": {},
   "source": [
    "## Arrays"
   ]
  },
  {
   "cell_type": "code",
   "execution_count": null,
   "id": "17",
   "metadata": {},
   "outputs": [],
   "source": [
    "%%bash\n",
    "fruits=(\"apple\" \"banana\" \"orange\")\n",
    "echo \"First fruit: ${fruits[0]}\"\n",
    "echo \"All fruits: ${fruits[@]}\""
   ]
  }
 ],
 "metadata": {
  "kernelspec": {
   "display_name": "Python 3 (ipykernel)",
   "language": "python",
   "name": "python3"
  },
  "language_info": {
   "codemirror_mode": {
    "name": "ipython",
    "version": 3
   },
   "file_extension": ".py",
   "mimetype": "text/x-python",
   "name": "python",
   "nbconvert_exporter": "python",
   "pygments_lexer": "ipython3",
   "version": "3.12.7"
  }
 },
 "nbformat": 4,
 "nbformat_minor": 5
}
