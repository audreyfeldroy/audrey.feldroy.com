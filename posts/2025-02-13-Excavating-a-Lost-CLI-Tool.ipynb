{
 "cells": [
  {
   "cell_type": "markdown",
   "id": "04b0e7b6",
   "metadata": {},
   "source": [
    "# Excavating a Lost CLI Tool"
   ]
  },
  {
   "cell_type": "markdown",
   "id": "3a846832",
   "metadata": {},
   "source": [
    "I thought I had completely lost my new iteration on my notebook titler tool, but it turns out I'm finding bits and pieces in various places. Here I try to put it together again. "
   ]
  },
  {
   "cell_type": "markdown",
   "id": "bbbb7c51",
   "metadata": {},
   "source": [
    "## Setup"
   ]
  },
  {
   "cell_type": "code",
   "execution_count": null,
   "id": "ff0fa074",
   "metadata": {},
   "outputs": [],
   "source": [
    "#| default_exp unun"
   ]
  },
  {
   "cell_type": "code",
   "execution_count": 3,
   "id": "9086636c",
   "metadata": {},
   "outputs": [],
   "source": [
    "#| export\n",
    "from datetime import datetime\n",
    "import google.generativeai as genai\n",
    "import IPython\n",
    "import json\n",
    "from nbdev.export import nb_export\n",
    "from pathlib import Path\n",
    "import typer\n",
    "from typing_extensions import Annotated"
   ]
  },
  {
   "cell_type": "markdown",
   "id": "74a47730",
   "metadata": {},
   "source": [
    "To get better at posting every day, I'm time-boxing from now until 10am. I'm picking up where I left off yesterday at the bottom of [My Self-Analysis of How to Get Back to Posting Every Day](https://audrey.feldroy.com/nbs/2025-02-12-My-Self-Analysis-of-How-to-Get-Back-to-Posting-Every-Day)"
   ]
  },
  {
   "cell_type": "code",
   "execution_count": 2,
   "id": "d8a05148",
   "metadata": {},
   "outputs": [
    {
     "data": {
      "text/plain": [
       "datetime.datetime(2025, 2, 13, 9, 7, 0, 856623)"
      ]
     },
     "execution_count": 2,
     "metadata": {},
     "output_type": "execute_result"
    }
   ],
   "source": [
    "datetime.now()"
   ]
  },
  {
   "cell_type": "markdown",
   "id": "bd900c9a",
   "metadata": {},
   "source": [
    "I would like the time box to include posting to social media, which means I need to finish writing the actual post by 9:40am to give me 20 minutes of social media time. I'm a bit slow at social media, especially because I like to listen to what others are saying at least a little before I post."
   ]
  },
  {
   "cell_type": "markdown",
   "id": "f9bb171c",
   "metadata": {},
   "source": [
    "## Re-Notebookifying my nbdev-Exported Script"
   ]
  },
  {
   "cell_type": "markdown",
   "id": "e6f956e5",
   "metadata": {},
   "source": [
    "2025-02-10-How-I-Built-an-Ununtitle-CLI-Tool-With-Typer.ipynb is gone, but I found its lost exported script ununtitle.py and brought it back over into this notebook."
   ]
  },
  {
   "cell_type": "code",
   "execution_count": 5,
   "id": "45934dcd",
   "metadata": {},
   "outputs": [],
   "source": [
    "#| export\n",
    "def title_it(nb, nbpath):\n",
    "    date = datetime.fromtimestamp(Path(nbpath).stat().st_mtime).strftime('%Y-%m-%d')\n",
    "    model = genai.GenerativeModel('gemini-1.5-flash-latest')\n",
    "    prompt = f\"\"\"Given this Jupyter notebook, create a filename-title pair following these steps:\n",
    "1. Prefix the filename with `{date}-` but not the title.\n",
    "2. Think about what would be most compelling about the given notebook if it were published as a blog post.\n",
    "3. Create a list of 20 compelling titles for it.\n",
    "4. Pick the top title from the list of 20 titles. \n",
    "5. Convert it to the format: {date}-Words-In-Title-Case-With-Hyphens.ipynb\n",
    "6. Remove any special characters (like commas)\n",
    "7. If the title and/or filename sound repetitive, simplify them\n",
    "\n",
    "<notebook>{nb}</notebook>\n",
    "\n",
    "Return ONLY json like {{\"title\": \"my_title\", \"filename\": \"{date}-my_filename.ipynb\"}}, nothing else. Do not add a fenced code block. Just the JSON, please.\"\"\"\n",
    "    response = model.generate_content(prompt, safety_settings=[], request_options = {\"timeout\": 1000})\n",
    "    try:\n",
    "        return response.text\n",
    "    except Exception as ex:\n",
    "        raise ex"
   ]
  },
  {
   "cell_type": "markdown",
   "id": "ab5206bc",
   "metadata": {},
   "source": [
    "I started to modify this part but realized I don't have time to finish it because I don't know Typer well enough."
   ]
  },
  {
   "cell_type": "code",
   "execution_count": 19,
   "id": "d765d21d",
   "metadata": {},
   "outputs": [],
   "source": [
    "def main(\n",
    "    prompt: Annotated[bool, typer.Option(help=\"Confirm each file before renaming.\")] = True,\n",
    "):\n",
    "    \"\"\"\n",
    "    Rename Untitled notebooks with meaningful names based on their content.\n",
    "    \n",
    "    If --dry-run is used, show what would be renamed without actually doing it.\n",
    "    \"\"\"\n",
    "    for p in Path('.').glob('Untitled*.ipynb'):\n",
    "        with open(p) as f: nb = f.read()\n",
    "        cleaned = title_it(nb, p).replace('```json', '').replace('```', '').strip()\n",
    "        new_names = json.loads(cleaned)\n",
    "\n",
    "        if prompt:\n",
    "            response = typer.confirm(f\"Rename {p} to {new_names['filename']}\")\n",
    "        if not response: break\n",
    "        \n",
    "        if not dry_run:\n",
    "            p.rename(new_names['filename'])\n",
    "            print(f\"Renamed {p} to {new_names['filename']}\")"
   ]
  },
  {
   "cell_type": "markdown",
   "id": "fdf33c34",
   "metadata": {},
   "source": [
    "OK, this definitely doesn't do anything correctly, but I'm publishing it because I'm out of time. It's so embarrassing to publish broken code like this! I mean, I'm not even using the dry_run variable anymore, and there is a way to prompt her input with a default value that's editable probably, but I don't have time to look that up. Oh well. "
   ]
  },
  {
   "cell_type": "code",
   "execution_count": 17,
   "id": "634d705c",
   "metadata": {},
   "outputs": [
    {
     "data": {
      "text/html": [
       "<pre style=\"white-space:pre;overflow-x:auto;line-height:normal;font-family:Menlo,'DejaVu Sans Mono',consolas,'Courier New',monospace\"><span style=\"color: #808000; text-decoration-color: #808000\">Usage: </span>ipykernel_launcher.py [OPTIONS]\n",
       "</pre>\n"
      ],
      "text/plain": [
       "\u001b[33mUsage: \u001b[0mipykernel_launcher.py [OPTIONS]\n"
      ]
     },
     "metadata": {},
     "output_type": "display_data"
    },
    {
     "data": {
      "text/html": [
       "<pre style=\"white-space:pre;overflow-x:auto;line-height:normal;font-family:Menlo,'DejaVu Sans Mono',consolas,'Courier New',monospace\"><span style=\"color: #7f7f7f; text-decoration-color: #7f7f7f\">Try </span><span style=\"color: #7f7fbf; text-decoration-color: #7f7fbf\">'ipykernel_launcher.py </span><span style=\"color: #7f7fbf; text-decoration-color: #7f7fbf; font-weight: bold\">--help</span><span style=\"color: #7f7fbf; text-decoration-color: #7f7fbf\">'</span><span style=\"color: #7f7f7f; text-decoration-color: #7f7f7f\"> for help.</span>\n",
       "</pre>\n"
      ],
      "text/plain": [
       "\u001b[2mTry \u001b[0m\u001b[2;34m'ipykernel_launcher.py \u001b[0m\u001b[1;2;34m-\u001b[0m\u001b[1;2;34m-help\u001b[0m\u001b[2;34m'\u001b[0m\u001b[2m for help.\u001b[0m\n"
      ]
     },
     "metadata": {},
     "output_type": "display_data"
    },
    {
     "data": {
      "text/html": [
       "<pre style=\"white-space:pre;overflow-x:auto;line-height:normal;font-family:Menlo,'DejaVu Sans Mono',consolas,'Courier New',monospace\"><span style=\"color: #800000; text-decoration-color: #800000\">╭─ Error ─────────────────────────────────────────────────────────────────────────────────────────────────────────╮</span>\n",
       "<span style=\"color: #800000; text-decoration-color: #800000\">│</span> No such option: <span style=\"color: #008000; text-decoration-color: #008000; font-weight: bold\">-f</span>                                                                                              <span style=\"color: #800000; text-decoration-color: #800000\">│</span>\n",
       "<span style=\"color: #800000; text-decoration-color: #800000\">╰─────────────────────────────────────────────────────────────────────────────────────────────────────────────────╯</span>\n",
       "</pre>\n"
      ],
      "text/plain": [
       "\u001b[31m╭─\u001b[0m\u001b[31m Error \u001b[0m\u001b[31m────────────────────────────────────────────────────────────────────────────────────────────────────────\u001b[0m\u001b[31m─╮\u001b[0m\n",
       "\u001b[31m│\u001b[0m No such option: \u001b[1;32m-f\u001b[0m                                                                                              \u001b[31m│\u001b[0m\n",
       "\u001b[31m╰─────────────────────────────────────────────────────────────────────────────────────────────────────────────────╯\u001b[0m\n"
      ]
     },
     "metadata": {},
     "output_type": "display_data"
    },
    {
     "ename": "SystemExit",
     "evalue": "2",
     "output_type": "error",
     "traceback": [
      "An exception has occurred, use %tb to see the full traceback.\n",
      "\u001b[0;31mSystemExit\u001b[0m\u001b[0;31m:\u001b[0m 2\n"
     ]
    }
   ],
   "source": [
    "#| export\n",
    "if __name__ == \"__main__\":\n",
    "    typer.run(main)"
   ]
  },
  {
   "cell_type": "code",
   "execution_count": 18,
   "id": "8c81acf8",
   "metadata": {},
   "outputs": [],
   "source": [
    "nb_export(\"2025-02-13-Excavating-a-Lost-CLI-Tool.ipynb\", lib_path=\"../scripts\")"
   ]
  },
  {
   "cell_type": "code",
   "execution_count": null,
   "id": "dcf8e0a5",
   "metadata": {},
   "outputs": [],
   "source": []
  },
  {
   "cell_type": "markdown",
   "id": "b008701c",
   "metadata": {},
   "source": [
    "Oh no, I definitely went over time:"
   ]
  },
  {
   "cell_type": "code",
   "execution_count": 21,
   "id": "54560506",
   "metadata": {},
   "outputs": [
    {
     "data": {
      "text/plain": [
       "datetime.datetime(2025, 2, 13, 9, 47, 4, 361120)"
      ]
     },
     "execution_count": 21,
     "metadata": {},
     "output_type": "execute_result"
    }
   ],
   "source": [
    "datetime.now()"
   ]
  },
  {
   "cell_type": "markdown",
   "id": "3c3f5652",
   "metadata": {},
   "source": [
    "## Tomorrow's TODO List"
   ]
  },
  {
   "cell_type": "code",
   "execution_count": null,
   "id": "310945b2",
   "metadata": {},
   "outputs": [],
   "source": [
    "* Copy over the cells with nbdev directives \n",
    "* Remove dry_run completely\n",
    "* When prompting a user, provide the generated file name as the start of the filename prompt value for them to tap backspace and edit. "
   ]
  },
  {
   "cell_type": "code",
   "execution_count": null,
   "id": "c3688726",
   "metadata": {},
   "outputs": [],
   "source": []
  }
 ],
 "metadata": {
  "kernelspec": {
   "display_name": "Python 3 (ipykernel)",
   "language": "python",
   "name": "python3"
  },
  "language_info": {
   "codemirror_mode": {
    "name": "ipython",
    "version": 3
   },
   "file_extension": ".py",
   "mimetype": "text/x-python",
   "name": "python",
   "nbconvert_exporter": "python",
   "pygments_lexer": "ipython3",
   "version": "3.12.8"
  }
 },
 "nbformat": 4,
 "nbformat_minor": 5
}
