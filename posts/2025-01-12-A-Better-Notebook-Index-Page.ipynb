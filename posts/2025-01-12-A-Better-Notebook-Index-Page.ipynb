{
 "cells": [
  {
   "cell_type": "markdown",
   "id": "b8ca3733",
   "metadata": {},
   "source": [
    "# A Better Notebook Index Page"
   ]
  },
  {
   "cell_type": "markdown",
   "id": "0adccd3d",
   "metadata": {},
   "source": [
    "I've made good progress on creating a notebook every day. Now I have so many notebooks that my index page needs an overhaul, including:\n",
    "\n",
    "* Dates with datetime\n",
    "* Cards with execnb to grab notebook titles\n",
    "* The cache decorator to make that fast\n",
    "* Subtle CSS tweaks to increase information density"
   ]
  },
  {
   "cell_type": "code",
   "execution_count": 214,
   "id": "65753376",
   "metadata": {},
   "outputs": [],
   "source": [
    "from datetime import datetime\n",
    "from execnb.nbio import read_nb\n",
    "from fasthtml.common import *\n",
    "from fastcore.all import *\n",
    "from functools import cache\n",
    "from pathlib import Path, PosixPath"
   ]
  },
  {
   "cell_type": "markdown",
   "id": "9f9ab0bb",
   "metadata": {},
   "source": [
    "## List Live Posts"
   ]
  },
  {
   "cell_type": "code",
   "execution_count": 29,
   "id": "75e864d4",
   "metadata": {},
   "outputs": [
    {
     "data": {
      "text/plain": [
       "(#34) [Path('../arg-blog-fasthtml/nbs/2023-07-29-Blogging-With-nbdev.ipynb'),Path('../arg-blog-fasthtml/nbs/2024-12-31-Note-Box-FastTag.ipynb'),Path('../arg-blog-fasthtml/nbs/2024-07-29-Delegates-Decorator.ipynb'),Path('../arg-blog-fasthtml/nbs/2024-07-29-Auth-in-FastHTML.ipynb'),Path('../arg-blog-fasthtml/nbs/2025-01-09-Reading-and-Writing-Jupyter-Notebooks-With-Python.ipynb'),Path('../arg-blog-fasthtml/nbs/2025-01-06-Understanding-FastHTML-Headers.ipynb'),Path('../arg-blog-fasthtml/nbs/2025-01-10-Understanding-FastHTML-Routes-Requests-and-Redirects.ipynb'),Path('../arg-blog-fasthtml/nbs/2024-07-16_Xtend_Pico.ipynb'),Path('../arg-blog-fasthtml/nbs/2024-12-28-Minimal-Typography-for-FastHTML-Apps.ipynb'),Path('../arg-blog-fasthtml/nbs/2024-12-26-Showing-FTs-in-Jupyter-Notebooks.ipynb'),Path('../arg-blog-fasthtml/nbs/2025-01-04-Claude-Artifacts-in-Notebooks.ipynb'),Path('../arg-blog-fasthtml/nbs/2025-01-05-SSH-Agent-to-Save-Passphrase-Typing.ipynb'),Path('../arg-blog-fasthtml/nbs/2024-12-27-Notebook-Names-to-Cards.ipynb'),Path('../arg-blog-fasthtml/nbs/2025-01-11-NBClassic-Keyboard-Shortcuts-in-Command-and-Dual-Mode.ipynb'),Path('../arg-blog-fasthtml/nbs/2025-01-01-FastHTML-Piano-Part-1.ipynb'),Path('../arg-blog-fasthtml/nbs/2025-01-07-Verifying-Bluesky-Domain-in-FastHTML.ipynb'),Path('../arg-blog-fasthtml/nbs/2024-12-24-Trying-execnb.ipynb'),Path('../arg-blog-fasthtml/nbs/2025-01-01-Command-Substitution-in-Bash.ipynb'),Path('../arg-blog-fasthtml/nbs/2024-08-05-Claudette-FastHTML.ipynb'),Path('../arg-blog-fasthtml/nbs/2024-12-27-CSS-Scope-Leakage-Pygments.ipynb')...]"
      ]
     },
     "execution_count": 29,
     "metadata": {},
     "output_type": "execute_result"
    }
   ],
   "source": [
    "nbs = L(Path('../arg-blog-fasthtml/nbs').glob('*.ipynb'))\n",
    "nbs"
   ]
  },
  {
   "cell_type": "markdown",
   "id": "8e35e71e",
   "metadata": {},
   "source": [
    "According to this, I have 34 notebooks in `arg-blog-fasthtml/nbs`, which matches the 34 cards on audrey.feldroy.com."
   ]
  },
  {
   "cell_type": "markdown",
   "id": "506c2763",
   "metadata": {},
   "source": [
    "## Pathlib, User Directory, and PosixPath"
   ]
  },
  {
   "cell_type": "code",
   "execution_count": 30,
   "id": "fbe244ae",
   "metadata": {},
   "outputs": [
    {
     "data": {
      "text/plain": [
       "Path('/Users/arg/fun/arg-blog-fasthtml/nbs')"
      ]
     },
     "execution_count": 30,
     "metadata": {},
     "output_type": "execute_result"
    }
   ],
   "source": [
    "PosixPath('~/fun/arg-blog-fasthtml/nbs').expanduser()"
   ]
  },
  {
   "cell_type": "markdown",
   "id": "c57a8f71",
   "metadata": {},
   "source": [
    "To specify the path in terms of my home directory `~`, I use `PosixPath`."
   ]
  },
  {
   "cell_type": "code",
   "execution_count": 42,
   "id": "98f3154d",
   "metadata": {},
   "outputs": [
    {
     "data": {
      "text/plain": [
       "(#34) [Path('/Users/arg/fun/arg-blog-fasthtml/nbs/2025-01-11-NBClassic-Keyboard-Shortcuts-in-Command-and-Dual-Mode.ipynb'),Path('/Users/arg/fun/arg-blog-fasthtml/nbs/2025-01-10-Understanding-FastHTML-Routes-Requests-and-Redirects.ipynb'),Path('/Users/arg/fun/arg-blog-fasthtml/nbs/2025-01-09-Reading-and-Writing-Jupyter-Notebooks-With-Python.ipynb'),Path('/Users/arg/fun/arg-blog-fasthtml/nbs/2025-01-08-HTML-Title-Tag-in-FastHTML.ipynb'),Path('/Users/arg/fun/arg-blog-fasthtml/nbs/2025-01-07-Verifying-Bluesky-Domain-in-FastHTML.ipynb'),Path('/Users/arg/fun/arg-blog-fasthtml/nbs/2025-01-06-Understanding-FastHTML-Headers.ipynb'),Path('/Users/arg/fun/arg-blog-fasthtml/nbs/2025-01-05-SSH-Agent-to-Save-Passphrase-Typing.ipynb'),Path('/Users/arg/fun/arg-blog-fasthtml/nbs/2025-01-04-Claude-Artifacts-in-Notebooks.ipynb'),Path('/Users/arg/fun/arg-blog-fasthtml/nbs/2025-01-03-Using-zip.ipynb'),Path('/Users/arg/fun/arg-blog-fasthtml/nbs/2025-01-02-FastHTML-Piano-Part-3.ipynb'),Path('/Users/arg/fun/arg-blog-fasthtml/nbs/2025-01-02-FastHTML-Piano-Part-2.ipynb'),Path('/Users/arg/fun/arg-blog-fasthtml/nbs/2025-01-01-FastHTML-Piano-Part-1.ipynb'),Path('/Users/arg/fun/arg-blog-fasthtml/nbs/2025-01-01-Command-Substitution-in-Bash.ipynb'),Path('/Users/arg/fun/arg-blog-fasthtml/nbs/2024-12-31-Note-Box-FastTag.ipynb'),Path('/Users/arg/fun/arg-blog-fasthtml/nbs/2024-12-30-Images-In-Every-Way-In-Notebooks.ipynb'),Path('/Users/arg/fun/arg-blog-fasthtml/nbs/2024-12-29-Bash-in-Jupyter-Notebooks.ipynb'),Path('/Users/arg/fun/arg-blog-fasthtml/nbs/2024-12-28-Minimal-Typography-for-FastHTML-Apps.ipynb'),Path('/Users/arg/fun/arg-blog-fasthtml/nbs/2024-12-27-Notebook-Names-to-Cards.ipynb'),Path('/Users/arg/fun/arg-blog-fasthtml/nbs/2024-12-27-CSS-Scope-Leakage-Pygments.ipynb'),Path('/Users/arg/fun/arg-blog-fasthtml/nbs/2024-12-26-Showing-FTs-in-Jupyter-Notebooks.ipynb')...]"
      ]
     },
     "execution_count": 42,
     "metadata": {},
     "output_type": "execute_result"
    }
   ],
   "source": [
    "nbs = L(sorted(PosixPath('~/fun/arg-blog-fasthtml/nbs').expanduser().glob('*.ipynb'), reverse=True))\n",
    "nbs"
   ]
  },
  {
   "cell_type": "markdown",
   "id": "f8f7b5f2",
   "metadata": {},
   "source": [
    "Here I expand `~` into `/Users/arg/`, list files that end in .ipynb, and convert the generator object into a readable list with a fastcore `L` list."
   ]
  },
  {
   "cell_type": "markdown",
   "id": "8f1183a3",
   "metadata": {},
   "source": [
    "## Display the Notebooks List Nicely"
   ]
  },
  {
   "cell_type": "code",
   "execution_count": 43,
   "id": "d44e014e",
   "metadata": {},
   "outputs": [
    {
     "name": "stdout",
     "output_type": "stream",
     "text": [
      "2025-01-11-NBClassic-Keyboard-Shortcuts-in-Command-and-Dual-Mode.ipynb\n",
      "2025-01-10-Understanding-FastHTML-Routes-Requests-and-Redirects.ipynb\n",
      "2025-01-09-Reading-and-Writing-Jupyter-Notebooks-With-Python.ipynb\n",
      "2025-01-08-HTML-Title-Tag-in-FastHTML.ipynb\n",
      "2025-01-07-Verifying-Bluesky-Domain-in-FastHTML.ipynb\n",
      "2025-01-06-Understanding-FastHTML-Headers.ipynb\n",
      "2025-01-05-SSH-Agent-to-Save-Passphrase-Typing.ipynb\n",
      "2025-01-04-Claude-Artifacts-in-Notebooks.ipynb\n",
      "2025-01-03-Using-zip.ipynb\n",
      "2025-01-02-FastHTML-Piano-Part-3.ipynb\n",
      "2025-01-02-FastHTML-Piano-Part-2.ipynb\n",
      "2025-01-01-FastHTML-Piano-Part-1.ipynb\n",
      "2025-01-01-Command-Substitution-in-Bash.ipynb\n",
      "2024-12-31-Note-Box-FastTag.ipynb\n",
      "2024-12-30-Images-In-Every-Way-In-Notebooks.ipynb\n",
      "2024-12-29-Bash-in-Jupyter-Notebooks.ipynb\n",
      "2024-12-28-Minimal-Typography-for-FastHTML-Apps.ipynb\n",
      "2024-12-27-Notebook-Names-to-Cards.ipynb\n",
      "2024-12-27-CSS-Scope-Leakage-Pygments.ipynb\n",
      "2024-12-26-Showing-FTs-in-Jupyter-Notebooks.ipynb\n",
      "2024-12-25-Notebook-Pygments.ipynb\n",
      "2024-12-24-Trying-execnb.ipynb\n",
      "2024-12-24-Deck-the-Halls.ipynb\n",
      "2024-12-23-Exploring-execnb-and-nb2fasthtml.ipynb\n",
      "2024-12-23-Daddys_Snowman_Card.ipynb\n",
      "2024-08-05-Claudette-FastHTML.ipynb\n",
      "2024-08-04-Claudette.ipynb\n",
      "2024-07-29-FH-by-Example.ipynb\n",
      "2024-07-29-Delegates-Decorator.ipynb\n",
      "2024-07-29-Auth-in-FastHTML.ipynb\n",
      "2024-07-16_Xtend_Pico.ipynb\n",
      "2024-07-15-Printing_Components.ipynb\n",
      "2024-07-14_SemanticUI_Cards.ipynb\n",
      "2023-07-29-Blogging-With-nbdev.ipynb\n"
     ]
    }
   ],
   "source": [
    "for nb in nbs: print(nb.name)"
   ]
  },
  {
   "cell_type": "markdown",
   "id": "33cf8a98",
   "metadata": {},
   "source": [
    "If we just print the filenames, we can see my current approach of naming them with the date and TitleCase title."
   ]
  },
  {
   "cell_type": "markdown",
   "id": "96344324",
   "metadata": {},
   "source": [
    "## New Approach"
   ]
  },
  {
   "cell_type": "markdown",
   "id": "4bd7dc56",
   "metadata": {},
   "source": [
    "Doing this has given me insight about how to improve my site:\n",
    "\n",
    "* Keep naming files as before\n",
    "* Now for the index page, get the titles from the notebooks instead of the filenames"
   ]
  },
  {
   "cell_type": "markdown",
   "id": "e63668fc",
   "metadata": {},
   "source": [
    "When there were just a few notebooks, these cards were great. Now I want a more information-dense layout with tighter cards, and with titles containing proper punctuation coming from the notebooks themselves."
   ]
  },
  {
   "cell_type": "markdown",
   "id": "7daf2fca",
   "metadata": {},
   "source": [
    "## Revisit Date Parsing"
   ]
  },
  {
   "cell_type": "markdown",
   "id": "d0204966",
   "metadata": {},
   "source": [
    "I'm currently getting dates from ISO 8601-prefixed filenames with this not-great code that I hacked together quickly:"
   ]
  },
  {
   "cell_type": "code",
   "execution_count": 46,
   "id": "51d993ba",
   "metadata": {},
   "outputs": [],
   "source": [
    "def get_date_from_fname(fname):\n",
    "    try:\n",
    "        year, month, day = L(regex.findall(r\"\\d+\", fname))[0:3]\n",
    "    except Exception:\n",
    "        year, month, day = 0,0,0\n",
    "    return f\"{year}-{month}-{day}\""
   ]
  },
  {
   "cell_type": "markdown",
   "id": "5e7a96cd",
   "metadata": {},
   "source": [
    "I talked with Claude 3.5 Sonnet about it. It generated code that looked awesome at first but wasn't my favorite when I experimented with it carefully. But something good resulted: out of that I learned about `datetime.fromisoformat` and looked it up in the [Python datetime docs](https://docs.python.org/3/library/datetime.html#datetime.datetime.fromisoformat)."
   ]
  },
  {
   "cell_type": "code",
   "execution_count": 74,
   "id": "dbe470b1",
   "metadata": {},
   "outputs": [
    {
     "data": {
      "text/plain": [
       "datetime.datetime(2025, 1, 4, 0, 0)"
      ]
     },
     "execution_count": 74,
     "metadata": {},
     "output_type": "execute_result"
    }
   ],
   "source": [
    "d = datetime.fromisoformat('2025-01-04')\n",
    "d"
   ]
  },
  {
   "cell_type": "markdown",
   "id": "4bdadc6d",
   "metadata": {},
   "source": [
    "It's actually nice to have `datetime` objects here because I can get the parts like:"
   ]
  },
  {
   "cell_type": "code",
   "execution_count": 75,
   "id": "9736dc7e",
   "metadata": {},
   "outputs": [
    {
     "data": {
      "text/plain": [
       "(2025, 1, 4)"
      ]
     },
     "execution_count": 75,
     "metadata": {},
     "output_type": "execute_result"
    }
   ],
   "source": [
    "d.year, d.month, d.day"
   ]
  },
  {
   "cell_type": "markdown",
   "id": "5956ab70",
   "metadata": {},
   "source": [
    "And print them with f-strings:"
   ]
  },
  {
   "cell_type": "code",
   "execution_count": 155,
   "id": "32b58ece",
   "metadata": {},
   "outputs": [
    {
     "name": "stdout",
     "output_type": "stream",
     "text": [
      "Sat, Jan 4, 2025\n"
     ]
    }
   ],
   "source": [
    "print(f\"{d:%a, %b %-d, %Y}\")"
   ]
  },
  {
   "cell_type": "markdown",
   "id": "41130f57",
   "metadata": {},
   "source": [
    "I like that combination of readability and abbreviations. I'll try it and see if I still like it later."
   ]
  },
  {
   "cell_type": "markdown",
   "id": "3f2adffb",
   "metadata": {},
   "source": [
    "## Iterate on ISO 8601 Date Parsing"
   ]
  },
  {
   "cell_type": "markdown",
   "id": "0a9e4008",
   "metadata": {},
   "source": [
    "My improved function:"
   ]
  },
  {
   "cell_type": "code",
   "execution_count": 215,
   "id": "f6371fad",
   "metadata": {},
   "outputs": [],
   "source": [
    "@cache\n",
    "def get_date_from_iso8601_prefix(fname):\n",
    "    \"Gets date from first 10 chars YYYY-MM-DD of `fname`, where `fname` is like `2025-01-12-Get-Date-From-This.whatever\"\n",
    "    try:\n",
    "        return datetime.fromisoformat(str(fname)[:10])\n",
    "    except ValueError: return None"
   ]
  },
  {
   "cell_type": "markdown",
   "id": "81afb4d8",
   "metadata": {},
   "source": [
    "Note: on my first pass writing this notebook, I didn't use the `@cache` decorator. I waited until the end to cache, to make debugging easier for myself. It'll become clear in the next section on notebook titles why caching is good here."
   ]
  },
  {
   "cell_type": "markdown",
   "id": "e3f15daf",
   "metadata": {},
   "source": [
    "Now let's test it by grabbing a filename and passing it in."
   ]
  },
  {
   "cell_type": "code",
   "execution_count": 216,
   "id": "6543421a",
   "metadata": {},
   "outputs": [
    {
     "data": {
      "text/plain": [
       "Path('/Users/arg/fun/arg-blog-fasthtml/nbs/2025-01-11-NBClassic-Keyboard-Shortcuts-in-Command-and-Dual-Mode.ipynb')"
      ]
     },
     "execution_count": 216,
     "metadata": {},
     "output_type": "execute_result"
    }
   ],
   "source": [
    "nbs[0]"
   ]
  },
  {
   "cell_type": "code",
   "execution_count": 217,
   "id": "cef46f5e",
   "metadata": {},
   "outputs": [
    {
     "data": {
      "text/plain": [
       "'2025-01-11-NBClassic-Keyboard-Shortcuts-in-Command-and-Dual-Mode.ipynb'"
      ]
     },
     "execution_count": 217,
     "metadata": {},
     "output_type": "execute_result"
    }
   ],
   "source": [
    "nbs[0].name"
   ]
  },
  {
   "cell_type": "code",
   "execution_count": 218,
   "id": "31dcd557",
   "metadata": {},
   "outputs": [
    {
     "data": {
      "text/plain": [
       "datetime.datetime(2025, 1, 11, 0, 0)"
      ]
     },
     "execution_count": 218,
     "metadata": {},
     "output_type": "execute_result"
    }
   ],
   "source": [
    "d = get_date_from_iso8601_prefix(nbs[0].name)\n",
    "d"
   ]
  },
  {
   "cell_type": "markdown",
   "id": "2d25dbd8",
   "metadata": {},
   "source": [
    "## Iterate on Getting Notebook Titles"
   ]
  },
  {
   "cell_type": "markdown",
   "id": "f93fe4f6",
   "metadata": {},
   "source": [
    "Instead of parsing filenames, I'm going to grab the first cell of each notebook and remove the `# ` prefix."
   ]
  },
  {
   "cell_type": "code",
   "execution_count": 79,
   "id": "1478c784",
   "metadata": {},
   "outputs": [
    {
     "data": {
      "text/markdown": [
       "```json\n",
       "{ 'cell_type': 'markdown',\n",
       "  'id': '7a932161',\n",
       "  'idx_': 0,\n",
       "  'metadata': {},\n",
       "  'source': '# NBClassic Keyboard Shortcuts: Command and Dual-Mode'}\n",
       "```"
      ],
      "text/plain": [
       "{'cell_type': 'markdown',\n",
       " 'id': '7a932161',\n",
       " 'metadata': {},\n",
       " 'source': '# NBClassic Keyboard Shortcuts: Command and Dual-Mode',\n",
       " 'idx_': 0}"
      ]
     },
     "execution_count": 79,
     "metadata": {},
     "output_type": "execute_result"
    }
   ],
   "source": [
    "nbc = read_nb(nbs[0].name)\n",
    "nbc.cells[0]"
   ]
  },
  {
   "cell_type": "code",
   "execution_count": 82,
   "id": "f548757b",
   "metadata": {},
   "outputs": [
    {
     "data": {
      "text/plain": [
       "'# NBClassic Keyboard Shortcuts: Command and Dual-Mode'"
      ]
     },
     "execution_count": 82,
     "metadata": {},
     "output_type": "execute_result"
    }
   ],
   "source": [
    "nbc.cells[0].source"
   ]
  },
  {
   "cell_type": "code",
   "execution_count": 83,
   "id": "eba9ac90",
   "metadata": {},
   "outputs": [
    {
     "data": {
      "text/plain": [
       "'NBClassic Keyboard Shortcuts: Command and Dual-Mode'"
      ]
     },
     "execution_count": 83,
     "metadata": {},
     "output_type": "execute_result"
    }
   ],
   "source": [
    "nbc.cells[0].source.lstrip('# ')"
   ]
  },
  {
   "cell_type": "markdown",
   "id": "1c9800c7",
   "metadata": {},
   "source": [
    "### Make That a Function"
   ]
  },
  {
   "cell_type": "code",
   "execution_count": 88,
   "id": "fd1315f5",
   "metadata": {},
   "outputs": [],
   "source": [
    "def get_title(fname):\n",
    "    \"Get title from `fname` notebook's cell 0 source by stripping '# ' prefix\"\n",
    "    nbc = read_nb(fname)\n",
    "    return nbc.cells[0].source.lstrip('# ')"
   ]
  },
  {
   "cell_type": "code",
   "execution_count": 99,
   "id": "f7d8f7fa",
   "metadata": {},
   "outputs": [
    {
     "data": {
      "text/plain": [
       "'NBClassic Keyboard Shortcuts: Command and Dual-Mode'"
      ]
     },
     "execution_count": 99,
     "metadata": {},
     "output_type": "execute_result"
    }
   ],
   "source": [
    "get_title(nbs[0])"
   ]
  },
  {
   "cell_type": "code",
   "execution_count": 109,
   "id": "637e042b",
   "metadata": {},
   "outputs": [
    {
     "data": {
      "text/plain": [
       "'Understanding FastHTML Routes, Requests, and Redirects'"
      ]
     },
     "execution_count": 109,
     "metadata": {},
     "output_type": "execute_result"
    }
   ],
   "source": [
    "get_title(nbs[1])"
   ]
  },
  {
   "cell_type": "markdown",
   "id": "454bec13",
   "metadata": {},
   "source": [
    "### Try It on All Titles"
   ]
  },
  {
   "cell_type": "code",
   "execution_count": 102,
   "id": "c72b49dc",
   "metadata": {
    "scrolled": true
   },
   "outputs": [
    {
     "name": "stdout",
     "output_type": "stream",
     "text": [
      "['NBClassic Keyboard Shortcuts: Command and Dual-Mode', 'Understanding FastHTML Routes, Requests, and Redirects', 'Reading and Writing Jupyter Notebooks With Python', 'HTML Title Tag in FastHTML', 'Verifying a Bluesky Domain Handle on a FastHTML Site', 'Understanding FastHTML Headers', 'Using SSH Agent to Save Passphrase Typing', 'Showing Claude Artifacts in Jupyter Notebooks', 'Using zip', 'FastHTML Piano, Part 3', 'FastHTML Piano, Part 2', 'FastHTML Piano, Part 1', 'Command Substitution in Bash', 'Note Box FastTag', 'Images in Jupyter Notebooks, in Every Way', 'Bash in Jupyter Notebooks', 'Minimal Typography for FastHTML Apps', 'Transforming Notebook Names to Cards', 'How I Fixed CSS Scope Leakage in Pygments Syntax Highlighting', 'Showing Components in Notebooks', 'Converting Jupyter Notebook Cells to Pygments Syntax-Highlighted HTML', 'What Can `execnb` do?', 'Deck the Halls', \"execnb's read_nb and nb2fasthtml's render_nb\", \"Daddy's Snowman Card\", 'Using Claudette with FastHTML', 'Claudette', 'FastHTML by Example', 'Delegates Decorator\\n\\nMy study of the `@delegates` decorator and `GetAttr` from `fastcore`, as described in https://www.fast.ai/posts/2019-08-06-delegation.html', 'Auth in FastHTML\\n\\nBasic auth:\\n\\n* https://github.com/AnswerDotAI/fasthtml/blob/main/fasthtml/authmw.py\\n* https://github.com/AnswerDotAI/fasthtml/blob/main/nbs/api/00_core.ipynb has some auth tests\\n\\nOauth:\\n\\n* https://github.com/AnswerDotAI/fasthtml/blob/main/nbs/incomplete/oauth.ipynb\\n', 'Understanding FastHTML xtend\\n\\nCurrent FastHTML Pico Card: https://github.com/AnswerDotAI/fasthtml/blob/main/fasthtml/xtend.py#L76', 'Printing FastHTML Components', 'SemanticUI FastHTML Cards', 'Setting Up a Blog With nbdev\\n\\nI feel like Jupyter notebooks would be really nice for blogging or publishing \"Today I Learned\" posts. I had heard about Fastpages before via Jeremy Howard\\'s blog or YouTube videos, but seeing that it was deprecated in favor of nbdev, I decided to try nbdev.\\n\\nI followed the [End-to-End Walkthrough nbdev tutorial](https://nbdev.fast.ai/tutorials/tutorial.html).']\n"
     ]
    }
   ],
   "source": [
    "print(nbs.map(get_title))"
   ]
  },
  {
   "cell_type": "markdown",
   "id": "c9ff503f",
   "metadata": {},
   "source": [
    "### Find the Broken Titles"
   ]
  },
  {
   "cell_type": "code",
   "execution_count": 110,
   "id": "62534b98",
   "metadata": {},
   "outputs": [
    {
     "data": {
      "text/plain": [
       "(#4) ['Delegates Decorator\\n\\nMy study of the `@delegates` decorator and `GetAttr` from `fastcore`, as described in https://www.fast.ai/posts/2019-08-06-delegation.html','Auth in FastHTML\\n\\nBasic auth:\\n\\n* https://github.com/AnswerDotAI/fasthtml/blob/main/fasthtml/authmw.py\\n* https://github.com/AnswerDotAI/fasthtml/blob/main/nbs/api/00_core.ipynb has some auth tests\\n\\nOauth:\\n\\n* https://github.com/AnswerDotAI/fasthtml/blob/main/nbs/incomplete/oauth.ipynb\\n','Understanding FastHTML xtend\\n\\nCurrent FastHTML Pico Card: https://github.com/AnswerDotAI/fasthtml/blob/main/fasthtml/xtend.py#L76','Setting Up a Blog With nbdev\\n\\nI feel like Jupyter notebooks would be really nice for blogging or publishing \"Today I Learned\" posts. I had heard about Fastpages before via Jeremy Howard\\'s blog or YouTube videos, but seeing that it was deprecated in favor of nbdev, I decided to try nbdev.\\n\\nI followed the [End-to-End Walkthrough nbdev tutorial](https://nbdev.fast.ai/tutorials/tutorial.html).']"
      ]
     },
     "execution_count": 110,
     "metadata": {},
     "output_type": "execute_result"
    }
   ],
   "source": [
    "def has_newline(x): return '\\n' in x\n",
    "broken = nbs.map(get_title).filter(has_newline)\n",
    "broken"
   ]
  },
  {
   "cell_type": "markdown",
   "id": "83347947",
   "metadata": {},
   "source": [
    "### Fix Broken Titles"
   ]
  },
  {
   "cell_type": "code",
   "execution_count": 124,
   "id": "160fea71",
   "metadata": {},
   "outputs": [
    {
     "data": {
      "text/plain": [
       "'Delegates Decorator\\n\\nMy study of the `@delegates` decorator and `GetAttr` from `fastcore`, as described in https://www.fast.ai/posts/2019-08-06-delegation.html'"
      ]
     },
     "execution_count": 124,
     "metadata": {},
     "output_type": "execute_result"
    }
   ],
   "source": [
    "broken[0]"
   ]
  },
  {
   "cell_type": "code",
   "execution_count": 141,
   "id": "fcede4e2",
   "metadata": {},
   "outputs": [
    {
     "data": {
      "text/plain": [
       "['Delegates Decorator',\n",
       " '',\n",
       " 'My study of the `@delegates` decorator and `GetAttr` from `fastcore`, as described in https://www.fast.ai/posts/2019-08-06-delegation.html']"
      ]
     },
     "execution_count": 141,
     "metadata": {},
     "output_type": "execute_result"
    }
   ],
   "source": [
    "broken[0].split('\\n')"
   ]
  },
  {
   "cell_type": "code",
   "execution_count": 146,
   "id": "2799da3b",
   "metadata": {},
   "outputs": [
    {
     "data": {
      "text/plain": [
       "'Delegates Decorator'"
      ]
     },
     "execution_count": 146,
     "metadata": {},
     "output_type": "execute_result"
    }
   ],
   "source": [
    "first(broken[0].split('\\n'))"
   ]
  },
  {
   "cell_type": "code",
   "execution_count": 219,
   "id": "bd2f6fd9",
   "metadata": {},
   "outputs": [],
   "source": [
    "@cache\n",
    "def get_title(fname):\n",
    "    \"Get title from `fname` notebook's cell 0 source by stripping '# ' prefix\"\n",
    "    nbc = read_nb(fname)\n",
    "    nbc = nbc.cells[0].source.lstrip('# ')\n",
    "    if '\\n' in nbc:\n",
    "        return first(nbc.split('\\n'))\n",
    "    return nbc"
   ]
  },
  {
   "cell_type": "markdown",
   "id": "7ca33487",
   "metadata": {},
   "source": [
    "You can imagine how running this on every notebook would be slow! So we add `@cache`."
   ]
  },
  {
   "cell_type": "code",
   "execution_count": 220,
   "id": "707f4034",
   "metadata": {},
   "outputs": [
    {
     "data": {
      "text/plain": [
       "Path('/Users/arg/fun/arg-blog-fasthtml/nbs/2024-07-29-Delegates-Decorator.ipynb')"
      ]
     },
     "execution_count": 220,
     "metadata": {},
     "output_type": "execute_result"
    }
   ],
   "source": [
    "nbs[28]"
   ]
  },
  {
   "cell_type": "code",
   "execution_count": 221,
   "id": "e40fb664",
   "metadata": {},
   "outputs": [
    {
     "data": {
      "text/plain": [
       "'Delegates Decorator'"
      ]
     },
     "execution_count": 221,
     "metadata": {},
     "output_type": "execute_result"
    }
   ],
   "source": [
    "get_title(nbs[28])"
   ]
  },
  {
   "cell_type": "code",
   "execution_count": 222,
   "id": "4b39bef5",
   "metadata": {},
   "outputs": [
    {
     "name": "stdout",
     "output_type": "stream",
     "text": [
      "['NBClassic Keyboard Shortcuts: Command and Dual-Mode', 'Understanding FastHTML Routes, Requests, and Redirects', 'Reading and Writing Jupyter Notebooks With Python', 'HTML Title Tag in FastHTML', 'Verifying a Bluesky Domain Handle on a FastHTML Site', 'Understanding FastHTML Headers', 'Using SSH Agent to Save Passphrase Typing', 'Showing Claude Artifacts in Jupyter Notebooks', 'Using zip', 'FastHTML Piano, Part 3', 'FastHTML Piano, Part 2', 'FastHTML Piano, Part 1', 'Command Substitution in Bash', 'Note Box FastTag', 'Images in Jupyter Notebooks, in Every Way', 'Bash in Jupyter Notebooks', 'Minimal Typography for FastHTML Apps', 'Transforming Notebook Names to Cards', 'How I Fixed CSS Scope Leakage in Pygments Syntax Highlighting', 'Showing Components in Notebooks', 'Converting Jupyter Notebook Cells to Pygments Syntax-Highlighted HTML', 'What Can `execnb` do?', 'Deck the Halls', \"execnb's read_nb and nb2fasthtml's render_nb\", \"Daddy's Snowman Card\", 'Using Claudette with FastHTML', 'Claudette', 'FastHTML by Example', 'Delegates Decorator', 'Auth in FastHTML', 'Understanding FastHTML xtend', 'Printing FastHTML Components', 'SemanticUI FastHTML Cards', 'Setting Up a Blog With nbdev']\n"
     ]
    }
   ],
   "source": [
    "print(nbs.map(get_title))"
   ]
  },
  {
   "cell_type": "markdown",
   "id": "7d3d9642",
   "metadata": {},
   "source": [
    "## Iterate on Cards"
   ]
  },
  {
   "cell_type": "markdown",
   "id": "43796fca",
   "metadata": {},
   "source": [
    "My cards were created with this FastTag:"
   ]
  },
  {
   "cell_type": "code",
   "execution_count": 224,
   "id": "4a650149",
   "metadata": {},
   "outputs": [],
   "source": [
    "@cache\n",
    "def Card(fname):\n",
    "    date = get_date_from_fname(fname)\n",
    "    title = get_title_from_fname(fname)\n",
    "    style = \"\"\"\n",
    "        border: 1px solid #e2e8f0;\n",
    "        padding: 1.25rem;\n",
    "        border-radius: 0.5rem;\n",
    "        background: white;\n",
    "        box-shadow: 0 1px 3px rgba(0,0,0,0.12);\n",
    "        transition: transform 0.2s ease;\n",
    "        cursor: pointer;\n",
    "        text-decoration: none;\n",
    "        color: inherit;\n",
    "        display: block;\n",
    "    \"\"\"\n",
    "    header_style = \"margin-bottom: 0.5rem; font-weight: 600;\"\n",
    "    date_style = \"color: #666; font-size: 0.875rem;\"\n",
    "    \n",
    "    c = A(\n",
    "        Header(H2(title, style=header_style)),\n",
    "        I(date, style=date_style),\n",
    "        style=style,\n",
    "        href=f'/nbs/{fname[4:][:-6]}',\n",
    "        onmouseover=\"this.style.transform='translateY(-2px)';this.style.boxShadow='0 4px 6px rgba(0,0,0,0.1)'\",\n",
    "        onmouseout=\"this.style.transform='none';this.style.boxShadow='0 1px 3px rgba(0,0,0,0.12)'\"\n",
    "    )\n",
    "    return c"
   ]
  },
  {
   "cell_type": "markdown",
   "id": "f11d78ec",
   "metadata": {},
   "source": [
    "Let's rebuild it from scratch with our new functions."
   ]
  },
  {
   "cell_type": "code",
   "execution_count": 225,
   "id": "e6fbc15b",
   "metadata": {},
   "outputs": [
    {
     "data": {
      "text/plain": [
       "Path('/Users/arg/fun/arg-blog-fasthtml/nbs/2025-01-11-NBClassic-Keyboard-Shortcuts-in-Command-and-Dual-Mode.ipynb')"
      ]
     },
     "execution_count": 225,
     "metadata": {},
     "output_type": "execute_result"
    }
   ],
   "source": [
    "nbs[0]"
   ]
  },
  {
   "cell_type": "code",
   "execution_count": 226,
   "id": "5ab63707",
   "metadata": {},
   "outputs": [
    {
     "data": {
      "text/plain": [
       "'NBClassic Keyboard Shortcuts: Command and Dual-Mode'"
      ]
     },
     "execution_count": 226,
     "metadata": {},
     "output_type": "execute_result"
    }
   ],
   "source": [
    "get_title(nbs[0])"
   ]
  },
  {
   "cell_type": "code",
   "execution_count": 227,
   "id": "7bf6ceef",
   "metadata": {},
   "outputs": [
    {
     "data": {
      "text/html": [
       "<div>\n",
       "  <style>:root {font-family: system-ui, -apple-system, &quot;Segoe UI&quot;, Roboto, &quot;Helvetica Neue&quot;, sans-serif; font-size:16px;} p {line-height: 1.5;}</style>\n",
       "<a href=\"/nbs/-01-11-NBClassic-Keyboard-Shortcuts-in-Command-and-Dual-Mode\" onmouseover=\"this.style.transform='translateY(-2px)';this.style.boxShadow='0 4px 6px rgba(0,0,0,0.1)'\" onmouseout=\"this.style.transform='none';this.style.boxShadow='0 1px 3px rgba(0,0,0,0.12)'\" style=\"border:1px solid #e2e8f0;\n",
       "        padding:1rem;\n",
       "        border-radius: 0.5rem;\n",
       "        background: white;\n",
       "        box-shadow: 0 1px 3px rgba(0,0,0,0.12);\n",
       "        transition: transform 0.2s ease;\n",
       "        cursor: pointer;\n",
       "        text-decoration: none;\n",
       "        color: inherit;\n",
       "        display: block;\n",
       "    \">    <header>\n",
       "      <h2 style=\"margin:0 0 0.5rem 0;font-size:1.25rem;\">NBClassic Keyboard Shortcuts: Command and Dual-Mode</h2>\n",
       "    </header>\n",
       "    <div style=\"font-size: 0.875rem;color:#666;\">Sat, Jan 11, 2025</div>\n",
       "</a></div>\n"
      ],
      "text/plain": [
       "<IPython.core.display.HTML object>"
      ]
     },
     "metadata": {},
     "output_type": "display_data"
    }
   ],
   "source": [
    "def Card(fname):\n",
    "    date = get_date_from_iso8601_prefix(fname.name)\n",
    "    title = get_title(fname)\n",
    "    return A(\n",
    "        Header(H2(title, style=\"margin:0 0 0.5rem 0;font-size:1.25rem;\")),\n",
    "        Div(f\"{date:%a, %b %-d, %Y}\", style=\"font-size: 0.875rem;color:#666;\"),\n",
    "        href=f'/nbs/{fname.name[4:][:-6]}',\n",
    "        onmouseover=\"this.style.transform='translateY(-2px)';this.style.boxShadow='0 4px 6px rgba(0,0,0,0.1)'\",\n",
    "        onmouseout=\"this.style.transform='none';this.style.boxShadow='0 1px 3px rgba(0,0,0,0.12)'\",\n",
    "        style=\"\"\"border:1px solid #e2e8f0;\n",
    "        padding:1rem;\n",
    "        border-radius: 0.5rem;\n",
    "        background: white;\n",
    "        box-shadow: 0 1px 3px rgba(0,0,0,0.12);\n",
    "        transition: transform 0.2s ease;\n",
    "        cursor: pointer;\n",
    "        text-decoration: none;\n",
    "        color: inherit;\n",
    "        display: block;\n",
    "    \"\"\")\n",
    "show(Div(Style(':root {font-family: system-ui, -apple-system, \"Segoe UI\", Roboto, \"Helvetica Neue\", sans-serif; font-size:16px;} p {line-height: 1.5;}'), Card(nbs[0])))"
   ]
  },
  {
   "cell_type": "markdown",
   "id": "145dd86a",
   "metadata": {},
   "source": [
    "Here I had to set a root element so `rem` font sizes would show correctly here in nbclassic, where I'm working from. There's more to get it to look right here, but I'm getting a bit tired."
   ]
  },
  {
   "cell_type": "markdown",
   "id": "23b269a4",
   "metadata": {},
   "source": [
    "You may be wondering about how there's a lot of CSS getting repeated in each card instance. There aren't that many cards right now, and this is still way smaller than a React/Tailwind app. I have some interesting ideas here that I'll save for another day."
   ]
  },
  {
   "cell_type": "markdown",
   "id": "d2412a31",
   "metadata": {},
   "source": [
    "## Bringing Changes Over to My Blog App"
   ]
  },
  {
   "cell_type": "markdown",
   "id": "6021c675",
   "metadata": {},
   "source": [
    "My blog app [arg-blog-fasthtml](https://github.com/audreyfeldroy/arg-blog-fasthtml) has a `main.py` that isn't notebook-generated. \n",
    "\n",
    "Note: At this point, considering how many functions I rewrote in this notebook, it would be nice to move that `main.py` to notebooks. I originally had started writing it in notebooks but had moved to the simple main.py to make troubleshooting deployment on a PaaS easier. \n",
    "\n",
    "For now, I've updated `main.py` with all of the above manually. I'm like a manual version of `nbdev_export` and that tells me that I should automate."
   ]
  },
  {
   "cell_type": "markdown",
   "id": "33d1a700",
   "metadata": {},
   "source": [
    "## Caching"
   ]
  },
  {
   "cell_type": "markdown",
   "id": "f1b23088",
   "metadata": {},
   "source": [
    "With `@cache` on all the functions above, the index page is super snappy locally! Yes, that's the unbounded cache, but I have few and small enough things to cache that I won't worry about it for now. I can explore it another time."
   ]
  },
  {
   "cell_type": "markdown",
   "id": "433d7893",
   "metadata": {},
   "source": [
    "## Summary\n",
    "\n",
    "I've made good progress improving my blog's index page!\n",
    "\n",
    "1. Better date handling using `datetime.fromisoformat()` instead of regex parsing\n",
    "2. Getting proper titles from notebook first cells instead of filenames\n",
    "3. Tighter, more information-dense cards with improved typography\n",
    "4. Caching with `@cache` to keep things snappy\n",
    "\n",
    "It's working well locally, and we'll see what happens when I deploy. I manually updated my blog app's `main.py` with these changes, though doing this made me realize I should probably move that code into notebooks and use `nbdev_export` instead of copying by hand.\n",
    "\n",
    "There's still room for improvement, but I'm happy with my progress!"
   ]
  }
 ],
 "metadata": {
  "kernelspec": {
   "display_name": "Python 3 (ipykernel)",
   "language": "python",
   "name": "python3"
  },
  "language_info": {
   "codemirror_mode": {
    "name": "ipython",
    "version": 3
   },
   "file_extension": ".py",
   "mimetype": "text/x-python",
   "name": "python",
   "nbconvert_exporter": "python",
   "pygments_lexer": "ipython3",
   "version": "3.12.8"
  }
 },
 "nbformat": 4,
 "nbformat_minor": 5
}
