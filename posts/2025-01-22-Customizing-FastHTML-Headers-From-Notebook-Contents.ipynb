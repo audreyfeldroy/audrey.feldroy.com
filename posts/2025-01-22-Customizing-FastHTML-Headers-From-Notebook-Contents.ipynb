{
 "cells": [
  {
   "cell_type": "markdown",
   "id": "093ba298",
   "metadata": {},
   "source": [
    "# Customizing FastHTML Headers From Notebook Contents"
   ]
  },
  {
   "cell_type": "markdown",
   "id": "38685097",
   "metadata": {},
   "source": [
    "Can we customize a FastHTML app to set different headers when rendering notebooks with nb2fasthtml, based on what the notebook actually needs for its headers?"
   ]
  },
  {
   "cell_type": "code",
   "execution_count": 143,
   "id": "e3c32c51",
   "metadata": {},
   "outputs": [],
   "source": [
    "from fasthtml.common import *\n",
    "from monsterui.all import *\n",
    "from nb2fasthtml.core import *\n",
    "from pathlib import Path\n",
    "import json, yaml\n",
    "from execnb.nbio import *\n",
    "from execnb.shell import render_outputs\n",
    "from typing import Callable\n",
    "from functools import partial\n",
    "from IPython.display import display,HTML"
   ]
  },
  {
   "cell_type": "code",
   "execution_count": 39,
   "id": "25992dc7",
   "metadata": {},
   "outputs": [],
   "source": [
    "tags = [\"Python\", \"Markdown\"]"
   ]
  },
  {
   "cell_type": "code",
   "execution_count": 6,
   "id": "9adb2c59",
   "metadata": {},
   "outputs": [],
   "source": [
    "hdrs = (MarkdownJS(), HighlightJS(langs=['python', 'javascript', 'html', 'css']))"
   ]
  },
  {
   "cell_type": "markdown",
   "id": "fb76c4f9",
   "metadata": {},
   "source": [
    "Here I define what is essentially blog post frontmatter, but in multiple cells that are Markdown or Python depending on their purpose. You'll see more about this frontmatter later in the *My Multi-Cell Frontmatter Format* section."
   ]
  },
  {
   "cell_type": "markdown",
   "id": "cd1c39ea",
   "metadata": {},
   "source": [
    "## Warning"
   ]
  },
  {
   "cell_type": "markdown",
   "id": "0775180f",
   "metadata": {},
   "source": [
    "This notebook doesn't render well on https://audrey.feldroy.com/nbs/2025-01-22-Customizing-FastHTML-Headers-Per-Route-From-Notebook-Contents and I haven't figured out why. \n",
    "\n",
    "To see it a little better, download https://github.com/audreyfeldroy/arg-blog-fasthtml/blob/main/nbs/2025-01-22-Customizing-FastHTML-Headers-Per-Route-From-Notebook-Contents.ipynb\n",
    "    \n",
    "Better yet, just look at [my arg-blog-fasthtml main.py's notebook route](https://github.com/audreyfeldroy/arg-blog-fasthtml/blob/main/main.py#L90-L106) for the TL;DR on what I did."
   ]
  },
  {
   "cell_type": "markdown",
   "id": "513cc64c",
   "metadata": {},
   "source": [
    "## Background"
   ]
  },
  {
   "cell_type": "markdown",
   "id": "c1218eea",
   "metadata": {},
   "source": [
    "I like to experiment deeply with different FastHTML headers in different daily notebooks. My use cases include:\n",
    "\n",
    "* Sometimes I want vanilla CSS and JS, and other times I want the MonsterUI headers.\n",
    "* If I'm using daily notebooks to explore code cell rendering, sometimes I want to render code cells with HighlightJS, other times with Pygments or another library.\n",
    "* If I'm playing with Pico or Bootstrap, I want to add it to the headers.\n",
    "* Maybe I'll start exploring the different HTMX extensions and add them to headers in one-off notebooks.\n",
    "\n",
    "I definitely don't want all my notebooks rendered on this site with the same FastHTML headers! That's how audrey.feldroy.com started off, but today as a result of this exploration, I now have different headers depending on what the notebook needs."
   ]
  },
  {
   "cell_type": "markdown",
   "id": "4261b620",
   "metadata": {},
   "source": [
    "## Setup"
   ]
  },
  {
   "cell_type": "code",
   "execution_count": 13,
   "id": "716c0116",
   "metadata": {},
   "outputs": [],
   "source": [
    "app, rt = fast_app(hdrs=hdrs)"
   ]
  },
  {
   "cell_type": "markdown",
   "id": "2bd4be17",
   "metadata": {},
   "source": [
    "## Render NB"
   ]
  },
  {
   "cell_type": "markdown",
   "id": "950dba5b",
   "metadata": {},
   "source": [
    "This is `render_nb` from `nb2fasthtml.core`:"
   ]
  },
  {
   "cell_type": "code",
   "execution_count": null,
   "id": "e48d31b3",
   "metadata": {},
   "outputs": [],
   "source": [
    "def render_nb(fpath, # Path to Jupyter Notebook\n",
    "              wrapper=Main, #Wraps entire rendered NB, default is for pico\n",
    "              cls='container', # cls to be passed to wrapper, default is for pico\n",
    "              md_cell_wrapper=Div, # Wraps markdown cell\n",
    "              md_fn=render_md, # md -> rendered html\n",
    "              code_cell_wrapper=Card, # Wraps Source Code (body) + Outputs (footer)\n",
    "              cd_fn=render_code_source, # code cell -> code source rendered html\n",
    "              out_fn=render_code_output, # code cell -> code output rendered html\n",
    "              get_fm=get_frontmatter_md, # How to read frontmatter cell\n",
    "              fm_fn:None|Callable=render_frontmatter, # Frontmatter -> FT components\n",
    "              **kwargs # Passed to wrapper\n",
    "             ): \n",
    "    nb = read_nb(fpath)\n",
    "    res, content_start_idx = [], 0\n",
    "    if fm_fn: \n",
    "        content_start_idx = 1\n",
    "        fm = get_fm(nb.cells[0])\n",
    "        res.append(fm_fn(fm))\n",
    "    for cell in nb.cells[content_start_idx:]:\n",
    "        if   cell['cell_type']=='code'    : res.append(code_cell_wrapper(cd_fn(cell), out_fn(cell)))\n",
    "        elif cell['cell_type']=='markdown': res.append(md_cell_wrapper(md_fn(cell.source)))\n",
    "    return wrapper(cls=cls, **kwargs)(*res)"
   ]
  },
  {
   "cell_type": "markdown",
   "id": "0a932273",
   "metadata": {},
   "source": [
    "### Usage of `render_nb` in my Blog"
   ]
  },
  {
   "cell_type": "markdown",
   "id": "c68a8f9a",
   "metadata": {},
   "source": [
    "Currently in the main.py for https://audrey.feldroy.com, I call it from my notebooks detail handler:"
   ]
  },
  {
   "cell_type": "code",
   "execution_count": 14,
   "id": "db5b9376",
   "metadata": {},
   "outputs": [],
   "source": [
    "@rt('/nbs/{name}')\n",
    "def notebook(name: str):\n",
    "    nb = Path(f'nbs/{name}.ipynb')\n",
    "    return (\n",
    "        Title(get_title(nb)),\n",
    "        Style(':root {font-family: system-ui, -apple-system, \"Segoe UI\", Roboto, \"Helvetica Neue\", sans-serif; color-scheme: light dark;} body {background-color: light-dark(#ffffff, #1a1a1a); color: light-dark(#1a1a1a, #ffffff);} p {line-height: 1.5;}'),\n",
    "        render_nb(nb, wrapper=Div),\n",
    "    )"
   ]
  },
  {
   "cell_type": "markdown",
   "id": "441a9ac7",
   "metadata": {},
   "source": [
    "## Getting Frontmatter"
   ]
  },
  {
   "cell_type": "markdown",
   "id": "9aa22473",
   "metadata": {},
   "source": [
    "Here I study all the code in `get_frontmatter`, bringing in everything it depends on."
   ]
  },
  {
   "cell_type": "code",
   "execution_count": 25,
   "id": "862eb1d6",
   "metadata": {},
   "outputs": [],
   "source": [
    "_RE_FM_BASE=r'''^---\\s*\n",
    "(.*?\\S+.*?)\n",
    "---\\s*'''"
   ]
  },
  {
   "cell_type": "code",
   "execution_count": 26,
   "id": "a1708ab9",
   "metadata": {},
   "outputs": [],
   "source": [
    "_re_fm_nb = re.compile(_RE_FM_BASE+'$', flags=re.DOTALL)"
   ]
  },
  {
   "cell_type": "markdown",
   "id": "7bb68957",
   "metadata": {},
   "source": [
    "I asked AI to explain this regex:"
   ]
  },
  {
   "cell_type": "markdown",
   "id": "4bd65452",
   "metadata": {},
   "source": [
    "This regex pattern is designed to match YAML frontmatter at the start of a document:\n",
    "\n",
    "1. `^---\\s*` - Matches start of text (`^`), three dashes, and optional whitespace\n",
    "2. `(.*?\\S+.*?)` - Captures content between dashes:\n",
    "   - `.*?` - Any chars (non-greedy)\n",
    "   - `\\S+` - At least one non-whitespace char\n",
    "   - `.*?` - Any chars (non-greedy)\n",
    "3. `---\\s*` - Matches three dashes and optional whitespace\n",
    "4. `$` - End of text (with `re.DOTALL` flag allowing . to match newlines)\n",
    "\n",
    "This matches standard YAML frontmatter format like:\n",
    "```yaml\n",
    "---\n",
    "title: My Post\n",
    "date: 2024-01-22\n",
    "---\n",
    "```"
   ]
  },
  {
   "cell_type": "code",
   "execution_count": 27,
   "id": "8d658cf9",
   "metadata": {},
   "outputs": [],
   "source": [
    "def _fm2dict(s:str, nb=True):\n",
    "    \"Load YAML frontmatter into a `dict`\"\n",
    "    re_fm = _re_fm_nb if nb else _re_fm_md\n",
    "    match = re_fm.search(s.strip())\n",
    "    return yaml.safe_load(match.group(1)) if match else {}"
   ]
  },
  {
   "cell_type": "markdown",
   "id": "63610405",
   "metadata": {},
   "source": [
    "This function is for notebooks with YAML frontmatter."
   ]
  },
  {
   "cell_type": "markdown",
   "id": "2cd36f2e",
   "metadata": {},
   "source": [
    "With `nb2fasthtml` the first notebook or Quarto/Markdown cell is frontmatter, and the function that reads it is customizable. By default it's:"
   ]
  },
  {
   "cell_type": "code",
   "execution_count": 15,
   "id": "abfe6a89",
   "metadata": {},
   "outputs": [],
   "source": [
    "def get_frontmatter(source,     # metatadata source (jupyter cell or md content)\n",
    "                    nb_file=True,    # Is jupyter nb or qmd file\n",
    "                    md_fm=False # md or raw style frontmatter\n",
    "                   ):\n",
    "    if not nb_file: return _fm2dict(source)\n",
    "    if md_fm:       return _md2dict(source.source)\n",
    "    return _fm2dict(source.source, nb_file) "
   ]
  },
  {
   "cell_type": "markdown",
   "id": "efe9840d",
   "metadata": {},
   "source": [
    "We can see that it works with Quarto .qmd files in addition to Jupyter .ipynb files."
   ]
  },
  {
   "cell_type": "markdown",
   "id": "f8fbc5c6",
   "metadata": {},
   "source": [
    "## Trying It on an Example Notebook"
   ]
  },
  {
   "cell_type": "code",
   "execution_count": 55,
   "id": "31a4374c",
   "metadata": {},
   "outputs": [
    {
     "data": {
      "text/markdown": [
       "```json\n",
       "{ 'cell_type': 'markdown',\n",
       "  'idx_': 0,\n",
       "  'metadata': {},\n",
       "  'source': '# MonsterUI Buttons and Links'}\n",
       "```"
      ],
      "text/plain": [
       "{'cell_type': 'markdown',\n",
       " 'metadata': {},\n",
       " 'source': '# MonsterUI Buttons and Links',\n",
       " 'idx_': 0}"
      ]
     },
     "execution_count": 55,
     "metadata": {},
     "output_type": "execute_result"
    }
   ],
   "source": [
    "nb = read_nb(Path(\"/Users/arg/fun/arg-blog-fasthtml/nbs/2025-01-22-MonsterUI-Buttons-and-Links.ipynb\"))\n",
    "nb.cells[0]"
   ]
  },
  {
   "cell_type": "markdown",
   "id": "d45e84e2",
   "metadata": {},
   "source": [
    "This is how `render_nb` calls `get_frontmatter`:`"
   ]
  },
  {
   "cell_type": "code",
   "execution_count": 42,
   "id": "ee521e87",
   "metadata": {},
   "outputs": [
    {
     "data": {
      "text/plain": [
       "{}"
      ]
     },
     "execution_count": 42,
     "metadata": {},
     "output_type": "execute_result"
    }
   ],
   "source": [
    "fm = get_frontmatter(nb.cells[0])\n",
    "fm"
   ]
  },
  {
   "cell_type": "code",
   "execution_count": 43,
   "id": "b51a89ca",
   "metadata": {},
   "outputs": [
    {
     "data": {
      "text/plain": [
       "{}"
      ]
     },
     "execution_count": 43,
     "metadata": {},
     "output_type": "execute_result"
    }
   ],
   "source": [
    "_fm2dict(nb.cells[0].source, nb)"
   ]
  },
  {
   "cell_type": "markdown",
   "id": "05d5f5d1",
   "metadata": {},
   "source": [
    "## My Multi-Cell Frontmatter Format"
   ]
  },
  {
   "cell_type": "markdown",
   "id": "c40a3b1c",
   "metadata": {},
   "source": [
    "At first I didn't like frontmatter. I realize now that it's just YAML frontmatter that bothers me, creating a bit of mental overhead. I want my daily notebooks to feel like regular Jupyter notebooks, and I can only get into flow with writing if I have nothing bothering me."
   ]
  },
  {
   "cell_type": "markdown",
   "id": "91b7084a",
   "metadata": {},
   "source": [
    "This is perhaps a bit ambitious, but I would love my daily notebooks on audrey.feldroy.com to have literate multi-cell frontmatter, inspired by the nicely literate Markdown [llmstxt.org](https://llmstxt.org/) format. My spec for it:"
   ]
  },
  {
   "cell_type": "markdown",
   "id": "502e95df",
   "metadata": {},
   "source": [
    "### Cell 0: Title in a Markdown Heading"
   ]
  },
  {
   "cell_type": "code",
   "execution_count": 44,
   "id": "bd0fb642",
   "metadata": {},
   "outputs": [
    {
     "data": {
      "text/markdown": [
       "```json\n",
       "{ 'cell_type': 'markdown',\n",
       "  'idx_': 0,\n",
       "  'metadata': {},\n",
       "  'source': '# MonsterUI Buttons and Links'}\n",
       "```"
      ],
      "text/plain": [
       "{'cell_type': 'markdown',\n",
       " 'metadata': {},\n",
       " 'source': '# MonsterUI Buttons and Links',\n",
       " 'idx_': 0}"
      ]
     },
     "execution_count": 44,
     "metadata": {},
     "output_type": "execute_result"
    }
   ],
   "source": [
    "nb.cells[0]"
   ]
  },
  {
   "cell_type": "markdown",
   "id": "d939caeb",
   "metadata": {},
   "source": [
    "### Cell 1: Short Description in a Markdown Paragraph"
   ]
  },
  {
   "cell_type": "code",
   "execution_count": 45,
   "id": "aaa56a54",
   "metadata": {},
   "outputs": [
    {
     "data": {
      "text/markdown": [
       "```json\n",
       "{ 'cell_type': 'markdown',\n",
       "  'idx_': 1,\n",
       "  'metadata': {},\n",
       "  'source': 'Iterating through the `ButtonT` enum to show all MonsterUI button '\n",
       "            'types visually.'}\n",
       "```"
      ],
      "text/plain": [
       "{'cell_type': 'markdown',\n",
       " 'metadata': {},\n",
       " 'source': 'Iterating through the `ButtonT` enum to show all MonsterUI button types visually.',\n",
       " 'idx_': 1}"
      ]
     },
     "execution_count": 45,
     "metadata": {},
     "output_type": "execute_result"
    }
   ],
   "source": [
    "nb.cells[1]"
   ]
  },
  {
   "cell_type": "markdown",
   "id": "bcd337f8",
   "metadata": {},
   "source": [
    "This would be a separate cell, to allow me to grab it easily on the index page and in self-referential examples in future notebooks. I often use my old notebooks as examples in new notebooks.\n",
    "\n",
    "I considered keeping it in one cell separated by `\\n\\n`, but I really do like it in a separate cell for ease of use. It's also nice to have less surface area for errors: sometimes I find myself forgetting if I need 1 line break or 2, and this helps me."
   ]
  },
  {
   "cell_type": "markdown",
   "id": "ec72a64f",
   "metadata": {},
   "source": [
    "### Cell 2: Imports"
   ]
  },
  {
   "cell_type": "code",
   "execution_count": 49,
   "id": "02c8628a",
   "metadata": {
    "scrolled": true
   },
   "outputs": [
    {
     "data": {
      "text/markdown": [
       "```json\n",
       "{ 'cell_type': 'code',\n",
       "  'execution_count': 4,\n",
       "  'idx_': 2,\n",
       "  'metadata': {},\n",
       "  'outputs': [],\n",
       "  'source': 'from fastcore.utils import *\\n'\n",
       "            'from fasthtml.common import *\\n'\n",
       "            'from monsterui.all import *'}\n",
       "```"
      ],
      "text/plain": [
       "{'cell_type': 'code',\n",
       " 'execution_count': 4,\n",
       " 'metadata': {},\n",
       " 'outputs': [],\n",
       " 'source': 'from fastcore.utils import *\\nfrom fasthtml.common import *\\nfrom monsterui.all import *',\n",
       " 'idx_': 2}"
      ]
     },
     "execution_count": 49,
     "metadata": {},
     "output_type": "execute_result"
    }
   ],
   "source": [
    "nb.cells[2]"
   ]
  },
  {
   "cell_type": "markdown",
   "id": "59398cec",
   "metadata": {},
   "source": [
    "This is a `code` cell containing the imports for my notebook. I always have at least 1 import. I need them for at least 1 Python frontmatter cell, so I make them my first Python cell."
   ]
  },
  {
   "cell_type": "markdown",
   "id": "5acd2237",
   "metadata": {},
   "source": [
    "### Cell 3: Tags"
   ]
  },
  {
   "cell_type": "code",
   "execution_count": 50,
   "id": "ab4b1da2",
   "metadata": {},
   "outputs": [
    {
     "data": {
      "text/markdown": [
       "```json\n",
       "{ 'cell_type': 'code',\n",
       "  'execution_count': 2,\n",
       "  'idx_': 3,\n",
       "  'metadata': {},\n",
       "  'outputs': [],\n",
       "  'source': 'tags = [\"MonsterUI\"]'}\n",
       "```"
      ],
      "text/plain": [
       "{'cell_type': 'code',\n",
       " 'execution_count': 2,\n",
       " 'metadata': {},\n",
       " 'outputs': [],\n",
       " 'source': 'tags = [\"MonsterUI\"]',\n",
       " 'idx_': 3}"
      ]
     },
     "execution_count": 50,
     "metadata": {},
     "output_type": "execute_result"
    }
   ],
   "source": [
    "nb.cells[3]"
   ]
  },
  {
   "cell_type": "markdown",
   "id": "34f46d75",
   "metadata": {},
   "source": [
    "This is a `code` cell containing a Python list of tags. I would love to play with creating tag components, and this is convenient for me to grab and use."
   ]
  },
  {
   "cell_type": "markdown",
   "id": "450928c0",
   "metadata": {},
   "source": [
    "## Customizing Headers Per Route"
   ]
  },
  {
   "cell_type": "markdown",
   "id": "8f4cf369",
   "metadata": {},
   "source": [
    "Can FastHTML headers be customized differently for different routes?\n",
    "\n",
    "The typical pattern is to set them at the app level, like `app, rt = fast_app(hdrs=Theme.slate.headers())`. Let's see if I can change this. "
   ]
  },
  {
   "cell_type": "markdown",
   "id": "d2b62de3",
   "metadata": {},
   "source": [
    "### Cell 4: FastHTML Headers"
   ]
  },
  {
   "cell_type": "markdown",
   "id": "34130ba4",
   "metadata": {},
   "source": [
    "This is a `code` cell containing a Python definition of my FastHTML headers for the particular page. My use case for this is that I like to experiment deeply with different FastHTML headers in different daily notebooks. \n",
    "\n",
    "My use cases include:\n",
    "\n",
    "* Sometimes I want vanilla CSS and JS, and other times I want the MonsterUI headers.\n",
    "* If I'm using daily notebooks to explore code cell rendering, sometimes I want to render code cells with HighlightJS, other times with Pygments or another library.\n",
    "\n",
    "I definitely don't want all my notebooks rendered by nb2fasthtml with the same FastHTML headers!\n",
    "\n",
    "At the moment I'm not sure I like how I've defined this cell, but let's go with it and see what happens. I may get rid of it later."
   ]
  },
  {
   "cell_type": "markdown",
   "id": "28e10952",
   "metadata": {},
   "source": [
    "## How Do Headers Even Work in `FastHTML()`?"
   ]
  },
  {
   "cell_type": "code",
   "execution_count": 56,
   "id": "7e1783a2",
   "metadata": {},
   "outputs": [
    {
     "data": {
      "text/markdown": [
       "```json\n",
       "{ 'cell_type': 'code',\n",
       "  'execution_count': 5,\n",
       "  'idx_': 4,\n",
       "  'metadata': {},\n",
       "  'outputs': [],\n",
       "  'source': 'hdrs = (Theme.blue.headers(), MarkdownJS(), '\n",
       "            \"HighlightJS(langs=['python', 'javascript', 'html', 'css']))\"}\n",
       "```"
      ],
      "text/plain": [
       "{'cell_type': 'code',\n",
       " 'execution_count': 5,\n",
       " 'metadata': {},\n",
       " 'outputs': [],\n",
       " 'source': \"hdrs = (Theme.blue.headers(), MarkdownJS(), HighlightJS(langs=['python', 'javascript', 'html', 'css']))\",\n",
       " 'idx_': 4}"
      ]
     },
     "execution_count": 56,
     "metadata": {},
     "output_type": "execute_result"
    }
   ],
   "source": [
    "nb.cells[4]"
   ]
  },
  {
   "cell_type": "markdown",
   "id": "e29c976a",
   "metadata": {},
   "source": [
    "I see this in `fasthtml.core`:"
   ]
  },
  {
   "cell_type": "code",
   "execution_count": 57,
   "id": "4a7a9a60",
   "metadata": {},
   "outputs": [],
   "source": [
    "def def_hdrs(htmx=True, surreal=True):\n",
    "    \"Default headers for a FastHTML app\"\n",
    "    hdrs = []\n",
    "    if surreal: hdrs = [surrsrc,scopesrc] + hdrs\n",
    "    if htmx: hdrs = [htmxsrc,fhjsscr] + hdrs\n",
    "    return [charset, viewport] + hdrs"
   ]
  },
  {
   "cell_type": "code",
   "execution_count": 58,
   "id": "8ea90be2",
   "metadata": {},
   "outputs": [
    {
     "data": {
      "text/plain": [
       "[meta((),{'charset': 'utf-8'}),\n",
       " meta((),{'name': 'viewport', 'content': 'width=device-width, initial-scale=1, viewport-fit=cover'}),\n",
       " script((),{'src': 'https://unpkg.com/htmx.org@2.0.4/dist/htmx.min.js'}),\n",
       " script((),{'src': 'https://cdn.jsdelivr.net/gh/answerdotai/fasthtml-js@1.0.12/fasthtml.js'}),\n",
       " script((),{'src': 'https://cdn.jsdelivr.net/gh/answerdotai/surreal@main/surreal.js'}),\n",
       " script((),{'src': 'https://cdn.jsdelivr.net/gh/gnat/css-scope-inline@main/script.js'})]"
      ]
     },
     "execution_count": 58,
     "metadata": {},
     "output_type": "execute_result"
    }
   ],
   "source": [
    "def_hdrs()"
   ]
  },
  {
   "cell_type": "markdown",
   "id": "41a6727e",
   "metadata": {},
   "source": [
    "I'm breaking down portions of `FastHTML()` here to try and understand better:"
   ]
  },
  {
   "cell_type": "code",
   "execution_count": 78,
   "id": "fa1801f8",
   "metadata": {},
   "outputs": [
    {
     "data": {
      "text/plain": [
       "[meta((),{'charset': 'utf-8'}),\n",
       " meta((),{'name': 'viewport', 'content': 'width=device-width, initial-scale=1, viewport-fit=cover'}),\n",
       " script((),{'src': 'https://unpkg.com/htmx.org@2.0.4/dist/htmx.min.js'}),\n",
       " script((),{'src': 'https://cdn.jsdelivr.net/gh/answerdotai/fasthtml-js@1.0.12/fasthtml.js'}),\n",
       " script((),{'src': 'https://cdn.jsdelivr.net/gh/answerdotai/surreal@main/surreal.js'}),\n",
       " script((),{'src': 'https://cdn.jsdelivr.net/gh/gnat/css-scope-inline@main/script.js'})]"
      ]
     },
     "execution_count": 78,
     "metadata": {},
     "output_type": "execute_result"
    }
   ],
   "source": [
    "hdrs = def_hdrs()\n",
    "hdrs"
   ]
  },
  {
   "cell_type": "code",
   "execution_count": 79,
   "id": "ce11ae0c",
   "metadata": {},
   "outputs": [],
   "source": [
    "ftrs = None\n",
    "exts = 'head-support'"
   ]
  },
  {
   "cell_type": "code",
   "execution_count": 80,
   "id": "d0243c90",
   "metadata": {},
   "outputs": [],
   "source": [
    "hdrs,ftrs,exts = map(listify, (hdrs,ftrs,exts))"
   ]
  },
  {
   "cell_type": "markdown",
   "id": "fab148d2",
   "metadata": {},
   "source": [
    "### HTMX Extensions in FastHTML Headers"
   ]
  },
  {
   "cell_type": "code",
   "execution_count": 81,
   "id": "4111ff1b",
   "metadata": {},
   "outputs": [],
   "source": [
    "htmx_exts = {\n",
    "    \"head-support\": \"https://unpkg.com/htmx-ext-head-support@2.0.3/head-support.js\",\n",
    "    \"preload\": \"https://unpkg.com/htmx-ext-preload@2.1.0/preload.js\",\n",
    "    \"class-tools\": \"https://unpkg.com/htmx-ext-class-tools@2.0.1/class-tools.js\",\n",
    "    \"loading-states\": \"https://unpkg.com/htmx-ext-loading-states@2.0.0/loading-states.js\",\n",
    "    \"multi-swap\": \"https://unpkg.com/htmx-ext-multi-swap@2.0.0/multi-swap.js\",\n",
    "    \"path-deps\": \"https://unpkg.com/htmx-ext-path-deps@2.0.0/path-deps.js\",\n",
    "    \"remove-me\": \"https://unpkg.com/htmx-ext-remove-me@2.0.0/remove-me.js\",\n",
    "    \"ws\": \"https://unpkg.com/htmx-ext-ws@2.0.2/ws.js\",\n",
    "    \"chunked-transfer\": \"https://unpkg.com/htmx-ext-transfer-encoding-chunked@0.4.0/transfer-encoding-chunked.js\"\n",
    "}"
   ]
  },
  {
   "cell_type": "markdown",
   "id": "51308ef1",
   "metadata": {},
   "source": [
    "#### Head Support"
   ]
  },
  {
   "cell_type": "markdown",
   "id": "60070117",
   "metadata": {},
   "source": [
    "That's nice that FastHTML makes it easy to add these HTMX extensions. I went back and changed `exts = None` to `exts = 'head-support'` just to see what happens."
   ]
  },
  {
   "cell_type": "code",
   "execution_count": 82,
   "id": "67e24158",
   "metadata": {},
   "outputs": [
    {
     "data": {
      "text/plain": [
       "{'head-support': 'https://unpkg.com/htmx-ext-head-support@2.0.3/head-support.js'}"
      ]
     },
     "execution_count": 82,
     "metadata": {},
     "output_type": "execute_result"
    }
   ],
   "source": [
    "exts = {k:htmx_exts[k] for k in exts}\n",
    "exts"
   ]
  },
  {
   "cell_type": "markdown",
   "id": "271dc666",
   "metadata": {},
   "source": [
    "### How Scripts Are Added to Head"
   ]
  },
  {
   "cell_type": "code",
   "execution_count": 83,
   "id": "ef76b213",
   "metadata": {},
   "outputs": [],
   "source": [
    "hdrs += [Script(src=ext) for ext in exts.values()]"
   ]
  },
  {
   "cell_type": "code",
   "execution_count": 84,
   "id": "43a0f724",
   "metadata": {},
   "outputs": [
    {
     "data": {
      "text/plain": [
       "[meta((),{'charset': 'utf-8'}),\n",
       " meta((),{'name': 'viewport', 'content': 'width=device-width, initial-scale=1, viewport-fit=cover'}),\n",
       " script((),{'src': 'https://unpkg.com/htmx.org@2.0.4/dist/htmx.min.js'}),\n",
       " script((),{'src': 'https://cdn.jsdelivr.net/gh/answerdotai/fasthtml-js@1.0.12/fasthtml.js'}),\n",
       " script((),{'src': 'https://cdn.jsdelivr.net/gh/answerdotai/surreal@main/surreal.js'}),\n",
       " script((),{'src': 'https://cdn.jsdelivr.net/gh/gnat/css-scope-inline@main/script.js'}),\n",
       " script(('',),{'src': 'https://unpkg.com/htmx-ext-head-support@2.0.3/head-support.js'})]"
      ]
     },
     "execution_count": 84,
     "metadata": {},
     "output_type": "execute_result"
    }
   ],
   "source": [
    "hdrs"
   ]
  },
  {
   "cell_type": "markdown",
   "id": "ab5c5203",
   "metadata": {},
   "source": [
    "The [htmx Head Tag Support Extension](https://htmx.org/extensions/head-support/) adds support for head tags in responses to htmx requests. That looks cool. I want to explore it another day."
   ]
  },
  {
   "cell_type": "markdown",
   "id": "ed3e9707",
   "metadata": {},
   "source": [
    "### Extra JS Headers for Notebook-Based FastHTML Apps"
   ]
  },
  {
   "cell_type": "markdown",
   "id": "6f0f90f7",
   "metadata": {},
   "source": [
    "Exploring the stuff inside `if IN_NOTEBOOK`:"
   ]
  },
  {
   "cell_type": "code",
   "execution_count": 87,
   "id": "b032f80c",
   "metadata": {},
   "outputs": [
    {
     "data": {
      "text/plain": [
       "[meta((),{'charset': 'utf-8'}),\n",
       " meta((),{'name': 'viewport', 'content': 'width=device-width, initial-scale=1, viewport-fit=cover'}),\n",
       " script((),{'src': 'https://unpkg.com/htmx.org@2.0.4/dist/htmx.min.js'}),\n",
       " script((),{'src': 'https://cdn.jsdelivr.net/gh/answerdotai/fasthtml-js@1.0.12/fasthtml.js'}),\n",
       " script((),{'src': 'https://cdn.jsdelivr.net/gh/answerdotai/surreal@main/surreal.js'}),\n",
       " script((),{'src': 'https://cdn.jsdelivr.net/gh/gnat/css-scope-inline@main/script.js'}),\n",
       " script(('',),{'src': 'https://unpkg.com/htmx-ext-head-support@2.0.3/head-support.js'}),\n",
       " script((\"\\n    function sendmsg() {\\n        window.parent.postMessage({height: document.documentElement.offsetHeight}, '*');\\n    }\\n    window.onload = function() {\\n        sendmsg();\\n        document.body.addEventListener('htmx:afterSettle',    sendmsg);\\n        document.body.addEventListener('htmx:wsAfterMessage', sendmsg);\\n    };\",),{}),\n",
       " script((\"\\n    function sendmsg() {\\n        window.parent.postMessage({height: document.documentElement.offsetHeight}, '*');\\n    }\\n    window.onload = function() {\\n        sendmsg();\\n        document.body.addEventListener('htmx:afterSettle',    sendmsg);\\n        document.body.addEventListener('htmx:wsAfterMessage', sendmsg);\\n    };\",),{})]"
      ]
     },
     "execution_count": 87,
     "metadata": {},
     "output_type": "execute_result"
    }
   ],
   "source": [
    "hdrs.append(iframe_scr)\n",
    "hdrs"
   ]
  },
  {
   "cell_type": "markdown",
   "id": "e4518660",
   "metadata": {},
   "source": [
    "Ah, the `HTMX()` `IFrame` uses websockets and the JS is added like this. So much to explore another day!"
   ]
  },
  {
   "cell_type": "markdown",
   "id": "8c61b3cf",
   "metadata": {},
   "source": [
    "Inside of `if nb_hdrs` there is:"
   ]
  },
  {
   "cell_type": "code",
   "execution_count": 88,
   "id": "8d281d84",
   "metadata": {},
   "outputs": [
    {
     "data": {
      "text/html": [
       "<meta charset=\"utf-8\">\n",
       "<meta name=\"viewport\" content=\"width=device-width, initial-scale=1, viewport-fit=cover\">\n",
       "<script src=\"https://unpkg.com/htmx.org@2.0.4/dist/htmx.min.js\"></script><script src=\"https://cdn.jsdelivr.net/gh/answerdotai/fasthtml-js@1.0.12/fasthtml.js\"></script><script src=\"https://cdn.jsdelivr.net/gh/answerdotai/surreal@main/surreal.js\"></script><script src=\"https://cdn.jsdelivr.net/gh/gnat/css-scope-inline@main/script.js\"></script><script src=\"https://unpkg.com/htmx-ext-head-support@2.0.3/head-support.js\"></script><script>\n",
       "    function sendmsg() {\n",
       "        window.parent.postMessage({height: document.documentElement.offsetHeight}, '*');\n",
       "    }\n",
       "    window.onload = function() {\n",
       "        sendmsg();\n",
       "        document.body.addEventListener('htmx:afterSettle',    sendmsg);\n",
       "        document.body.addEventListener('htmx:wsAfterMessage', sendmsg);\n",
       "    };</script><script>\n",
       "    function sendmsg() {\n",
       "        window.parent.postMessage({height: document.documentElement.offsetHeight}, '*');\n",
       "    }\n",
       "    window.onload = function() {\n",
       "        sendmsg();\n",
       "        document.body.addEventListener('htmx:afterSettle',    sendmsg);\n",
       "        document.body.addEventListener('htmx:wsAfterMessage', sendmsg);\n",
       "    };</script>"
      ],
      "text/plain": [
       "<IPython.core.display.HTML object>"
      ]
     },
     "metadata": {},
     "output_type": "display_data"
    }
   ],
   "source": [
    "display(HTML(to_xml(tuple(hdrs))))"
   ]
  },
  {
   "cell_type": "markdown",
   "id": "898cc830",
   "metadata": {},
   "source": [
    "Breaking that down:"
   ]
  },
  {
   "cell_type": "code",
   "execution_count": 91,
   "id": "8816319c",
   "metadata": {},
   "outputs": [
    {
     "data": {
      "text/plain": [
       "'<meta charset=\"utf-8\">\\n<meta name=\"viewport\" content=\"width=device-width, initial-scale=1, viewport-fit=cover\">\\n<script src=\"https://unpkg.com/htmx.org@2.0.4/dist/htmx.min.js\"></script><script src=\"https://cdn.jsdelivr.net/gh/answerdotai/fasthtml-js@1.0.12/fasthtml.js\"></script><script src=\"https://cdn.jsdelivr.net/gh/answerdotai/surreal@main/surreal.js\"></script><script src=\"https://cdn.jsdelivr.net/gh/gnat/css-scope-inline@main/script.js\"></script><script src=\"https://unpkg.com/htmx-ext-head-support@2.0.3/head-support.js\"></script><script>\\n    function sendmsg() {\\n        window.parent.postMessage({height: document.documentElement.offsetHeight}, \\'*\\');\\n    }\\n    window.onload = function() {\\n        sendmsg();\\n        document.body.addEventListener(\\'htmx:afterSettle\\',    sendmsg);\\n        document.body.addEventListener(\\'htmx:wsAfterMessage\\', sendmsg);\\n    };</script><script>\\n    function sendmsg() {\\n        window.parent.postMessage({height: document.documentElement.offsetHeight}, \\'*\\');\\n    }\\n    window.onload = function() {\\n        sendmsg();\\n        document.body.addEventListener(\\'htmx:afterSettle\\',    sendmsg);\\n        document.body.addEventListener(\\'htmx:wsAfterMessage\\', sendmsg);\\n    };</script>'"
      ]
     },
     "execution_count": 91,
     "metadata": {},
     "output_type": "execute_result"
    }
   ],
   "source": [
    "to_xml(tuple(hdrs))"
   ]
  },
  {
   "cell_type": "code",
   "execution_count": 93,
   "id": "512feb0b",
   "metadata": {},
   "outputs": [
    {
     "data": {
      "text/html": [
       "<script type=\"module\">import { marked } from \"https://cdn.jsdelivr.net/npm/marked/lib/marked.esm.js\";\n",
       "proc_htmx('.marked', e => e.innerHTML = marked.parse(e.textContent));</script>[link((),{'rel': 'stylesheet', 'href': 'https://cdn.jsdelivr.net/gh/highlightjs/cdn-release/build/styles/atom-one-dark.css', 'media': '(prefers-color-scheme: dark)'}), link((),{'rel': 'stylesheet', 'href': 'https://cdn.jsdelivr.net/gh/highlightjs/cdn-release/build/styles/atom-one-light.css', 'media': '(prefers-color-scheme: light)'}), script(('',),{'src': 'https://cdn.jsdelivr.net/gh/highlightjs/cdn-release/build/highlight.min.js'}), script(('',),{'src': 'https://cdn.jsdelivr.net/gh/arronhunt/highlightjs-copy/dist/highlightjs-copy.min.js'}), link((),{'rel': 'stylesheet', 'href': 'https://cdn.jsdelivr.net/gh/arronhunt/highlightjs-copy/dist/highlightjs-copy.min.css'}), script(('',),{'src': 'https://cdn.jsdelivr.net/gh/highlightjs/cdn-release/build/languages/python.min.js'}), script(('',),{'src': 'https://cdn.jsdelivr.net/gh/highlightjs/cdn-release/build/languages/javascript.min.js'}), script(('',),{'src': 'https://cdn.jsdelivr.net/gh/highlightjs/cdn-release/build/languages/html.min.js'}), script(('',),{'src': 'https://cdn.jsdelivr.net/gh/highlightjs/cdn-release/build/languages/css.min.js'}), script(('\\nhljs.addPlugin(new CopyButtonPlugin());\\nhljs.configure({\\'cssSelector\\': \\'pre code:not([data-highlighted=\"yes\"])\\'});\\nhtmx.onLoad(hljs.highlightAll);',),{'type': 'module'})]"
      ],
      "text/plain": [
       "<IPython.core.display.HTML object>"
      ]
     },
     "execution_count": 93,
     "metadata": {},
     "output_type": "execute_result"
    }
   ],
   "source": [
    "HTML(to_xml(tuple(hdrs)))"
   ]
  },
  {
   "cell_type": "markdown",
   "id": "7cdeff6d",
   "metadata": {},
   "source": [
    "Ah, I think I see, this is how the headers are added to the Jupyter notebook. I am reading [the IPython.display.HTML docs](https://ipython.readthedocs.io/en/stable/api/generated/IPython.display.html#IPython.display.HTML)"
   ]
  },
  {
   "cell_type": "markdown",
   "id": "e06bbf8a",
   "metadata": {},
   "source": [
    "### Exception Handlers"
   ]
  },
  {
   "cell_type": "markdown",
   "id": "7d85fae6",
   "metadata": {},
   "source": [
    "A bit of a tangent, but they use `hdrs` so I'll explore them a little."
   ]
  },
  {
   "cell_type": "code",
   "execution_count": 99,
   "id": "daa44d07",
   "metadata": {},
   "outputs": [],
   "source": [
    "def _not_found(req, exc): return Div('nope')"
   ]
  },
  {
   "cell_type": "code",
   "execution_count": 100,
   "id": "4ea33768",
   "metadata": {},
   "outputs": [],
   "source": [
    "exception_handlers={404:_not_found}"
   ]
  },
  {
   "cell_type": "code",
   "execution_count": 107,
   "id": "da852726",
   "metadata": {},
   "outputs": [],
   "source": [
    "htmlkw,bodykw,body_wrap = None,None,None"
   ]
  },
  {
   "cell_type": "code",
   "execution_count": 108,
   "id": "d710877f",
   "metadata": {},
   "outputs": [],
   "source": [
    "def _wrap_ex(f, status_code, hdrs, ftrs, htmlkw, bodykw, body_wrap):\n",
    "    async def _f(req, exc):\n",
    "        req.hdrs,req.ftrs,req.htmlkw,req.bodykw = map(deepcopy, (hdrs, ftrs, htmlkw, bodykw))\n",
    "        req.body_wrap = body_wrap\n",
    "        res = await _handle(f, (req, exc))\n",
    "        return _resp(req, res, status_code=status_code)\n",
    "    return _f"
   ]
  },
  {
   "cell_type": "code",
   "execution_count": 109,
   "id": "0ac1278e",
   "metadata": {},
   "outputs": [],
   "source": [
    "excs = {k:_wrap_ex(v, k, hdrs, ftrs, htmlkw, bodykw, body_wrap=body_wrap) for k,v in exception_handlers.items()}"
   ]
  },
  {
   "cell_type": "code",
   "execution_count": 110,
   "id": "293522b6",
   "metadata": {},
   "outputs": [
    {
     "data": {
      "text/plain": [
       "{404: <function __main__._wrap_ex.<locals>._f(req, exc)>}"
      ]
     },
     "execution_count": 110,
     "metadata": {},
     "output_type": "execute_result"
    }
   ],
   "source": [
    "excs"
   ]
  },
  {
   "cell_type": "markdown",
   "id": "31ed7e31",
   "metadata": {},
   "source": [
    "### Headers in FastHTML Routing"
   ]
  },
  {
   "cell_type": "markdown",
   "id": "87109769",
   "metadata": {},
   "source": [
    "I still haven't found the exact spot where headers get added to a FastHTML route handler. Time to look at routing in more detail."
   ]
  },
  {
   "cell_type": "markdown",
   "id": "d1172133",
   "metadata": {},
   "source": [
    "I see that `route` and `_add_route` have a `body_wrap` parameter, and that it also uses `self.body_wrap`. "
   ]
  },
  {
   "cell_type": "code",
   "execution_count": 111,
   "id": "1b4c2f76",
   "metadata": {},
   "outputs": [],
   "source": [
    "%%ai\n",
    "Where are headers added before the Div or other FT returned by the route handler?"
   ]
  },
  {
   "cell_type": "markdown",
   "id": "3f3a59d8",
   "metadata": {},
   "source": [
    "Looking at the dialog, I can help trace where headers are added to route responses. The key is in the `_resp` function mentioned in `_wrap_ex`. When a route handler returns, its response goes through `_resp` which combines the headers with the content.\n",
    "\n",
    "Let me help find the exact mechanism. Looking at your exploration, I see:\n",
    "\n",
    "1. Headers are stored in the request object: `req.hdrs,req.ftrs,req.htmlkw,req.bodykw = map(deepcopy, (hdrs, ftrs, htmlkw, bodykw))`\n",
    "2. Route responses go through: `return _resp(req, res, status_code=status_code)`\n",
    "\n",
    "To find exactly where headers are added, we should look at the `_resp` function in fasthtml."
   ]
  },
  {
   "cell_type": "code",
   "execution_count": 113,
   "id": "1c9a946d",
   "metadata": {},
   "outputs": [],
   "source": [
    "def _xt_resp(req, resp, status_code):\n",
    "    cts,http_hdrs,tasks = _xt_cts(req, resp)\n",
    "    return HTMLResponse(cts, status_code=status_code, headers=http_hdrs, background=tasks)"
   ]
  },
  {
   "cell_type": "code",
   "execution_count": 112,
   "id": "eb10f290",
   "metadata": {},
   "outputs": [],
   "source": [
    "def _is_ft_resp(resp): return isinstance(resp, _iter_typs+(HttpHeader,FT)) or hasattr(resp, '__ft__')"
   ]
  },
  {
   "cell_type": "code",
   "execution_count": 114,
   "id": "7412f8be",
   "metadata": {},
   "outputs": [],
   "source": [
    "def _resp(req, resp, cls=empty, status_code=200):\n",
    "    if not resp: resp=()\n",
    "    if hasattr(resp, '__response__'): resp = resp.__response__(req)\n",
    "    if cls in (Any,FT): cls=empty\n",
    "    if isinstance(resp, FileResponse) and not os.path.exists(resp.path): raise HTTPException(404, resp.path)\n",
    "    if cls is not empty: return cls(resp, status_code=status_code)\n",
    "    if isinstance(resp, Response): return resp # respect manually set status_code\n",
    "    if _is_ft_resp(resp): return _xt_resp(req, resp, status_code)\n",
    "    if isinstance(resp, str): cls = HTMLResponse\n",
    "    elif isinstance(resp, Mapping): cls = JSONResponse\n",
    "    else:\n",
    "        resp = str(resp)\n",
    "        cls = HTMLResponse\n",
    "    return cls(resp, status_code=status_code)"
   ]
  },
  {
   "cell_type": "code",
   "execution_count": 115,
   "id": "3d7ca1e1",
   "metadata": {},
   "outputs": [],
   "source": [
    "%%ai\n",
    "Any ideas?"
   ]
  },
  {
   "cell_type": "markdown",
   "id": "bc3045b7",
   "metadata": {},
   "source": [
    "Yes - I see that `_xt_resp` is called for FastHTML responses (when `_is_ft_resp` returns True). The key is in `_xt_cts` which we haven't seen yet. Let's look at that function - it's likely where the headers from `req.hdrs` get combined with the response content.\n",
    "\n",
    "Would you like me to help find `_xt_cts` in the FastHTML source?"
   ]
  },
  {
   "cell_type": "code",
   "execution_count": 116,
   "id": "7d41ca17",
   "metadata": {},
   "outputs": [],
   "source": [
    "def _xt_cts(req, resp):\n",
    "    resp = flat_tuple(resp)\n",
    "    resp = resp + tuple(getattr(req, 'injects', ()))\n",
    "    http_hdrs,resp = partition(resp, risinstance(HttpHeader))\n",
    "    http_hdrs = {o.k:str(o.v) for o in http_hdrs}\n",
    "    tasks,resp = partition(resp, risinstance(BackgroundTask))\n",
    "    ts = BackgroundTasks()\n",
    "    for t in tasks: ts.tasks.append(t)\n",
    "    hdr_tags = 'title','meta','link','style','base'\n",
    "    heads,bdy = partition(resp, lambda o: getattr(o, 'tag', '') in hdr_tags)\n",
    "    if resp and 'hx-request' not in req.headers and not any(getattr(o, 'tag', '')=='html' for o in resp):\n",
    "        title = [] if any(getattr(o, 'tag', '')=='title' for o in heads) else [Title(req.app.title)]\n",
    "        resp = respond(req, [*heads, *title], bdy)\n",
    "    return _to_xml(req, resp, indent=fh_cfg.indent), http_hdrs, ts"
   ]
  },
  {
   "cell_type": "markdown",
   "id": "09d4d9b9",
   "metadata": {},
   "source": [
    "Okay! I see clues here. Breaking relevant parts of it down..."
   ]
  },
  {
   "cell_type": "code",
   "execution_count": 117,
   "id": "7863968f",
   "metadata": {},
   "outputs": [
    {
     "ename": "NameError",
     "evalue": "name 'resp' is not defined",
     "output_type": "error",
     "traceback": [
      "\u001b[0;31m---------------------------------------------------------------------------\u001b[0m",
      "\u001b[0;31mNameError\u001b[0m                                 Traceback (most recent call last)",
      "Cell \u001b[0;32mIn[117], line 2\u001b[0m\n\u001b[1;32m      1\u001b[0m hdr_tags \u001b[38;5;241m=\u001b[39m \u001b[38;5;124m'\u001b[39m\u001b[38;5;124mtitle\u001b[39m\u001b[38;5;124m'\u001b[39m,\u001b[38;5;124m'\u001b[39m\u001b[38;5;124mmeta\u001b[39m\u001b[38;5;124m'\u001b[39m,\u001b[38;5;124m'\u001b[39m\u001b[38;5;124mlink\u001b[39m\u001b[38;5;124m'\u001b[39m,\u001b[38;5;124m'\u001b[39m\u001b[38;5;124mstyle\u001b[39m\u001b[38;5;124m'\u001b[39m,\u001b[38;5;124m'\u001b[39m\u001b[38;5;124mbase\u001b[39m\u001b[38;5;124m'\u001b[39m\n\u001b[0;32m----> 2\u001b[0m heads,bdy \u001b[38;5;241m=\u001b[39m partition(\u001b[43mresp\u001b[49m, \u001b[38;5;28;01mlambda\u001b[39;00m o: \u001b[38;5;28mgetattr\u001b[39m(o, \u001b[38;5;124m'\u001b[39m\u001b[38;5;124mtag\u001b[39m\u001b[38;5;124m'\u001b[39m, \u001b[38;5;124m'\u001b[39m\u001b[38;5;124m'\u001b[39m) \u001b[38;5;129;01min\u001b[39;00m hdr_tags)\n\u001b[1;32m      3\u001b[0m heads\n",
      "\u001b[0;31mNameError\u001b[0m: name 'resp' is not defined"
     ]
    }
   ],
   "source": [
    "hdr_tags = 'title','meta','link','style','base'\n",
    "heads,bdy = partition(resp, lambda o: getattr(o, 'tag', '') in hdr_tags)\n",
    "heads"
   ]
  },
  {
   "cell_type": "code",
   "execution_count": 118,
   "id": "087972d4",
   "metadata": {},
   "outputs": [],
   "source": [
    "%%aip\n",
    "Construct a resp"
   ]
  },
  {
   "cell_type": "code",
   "execution_count": 119,
   "id": "189e7f4f",
   "metadata": {},
   "outputs": [
    {
     "data": {
      "text/plain": [
       "(title(('Test Page',),{}),\n",
       " meta((),{'name': 'description', 'content': 'A test page'}),\n",
       " link((),{'rel': 'stylesheet', 'href': 'style.css'}),\n",
       " style(('body { color: blue }',),{}),\n",
       " div(('Some content',),{}),\n",
       " p(('More content',),{}))"
      ]
     },
     "execution_count": 119,
     "metadata": {},
     "output_type": "execute_result"
    }
   ],
   "source": [
    "# Let's create a simple response with some header tags and body content\n",
    "resp = (\n",
    "    Title(\"Test Page\"),\n",
    "    Meta(name=\"description\", content=\"A test page\"),\n",
    "    Link(rel=\"stylesheet\", href=\"style.css\"),\n",
    "    Style(\"body { color: blue }\"),\n",
    "    Div(\"Some content\"),\n",
    "    P(\"More content\")\n",
    ")\n",
    "resp"
   ]
  },
  {
   "cell_type": "code",
   "execution_count": 121,
   "id": "d2aa7e90",
   "metadata": {},
   "outputs": [
    {
     "name": "stdout",
     "output_type": "stream",
     "text": [
      "Headers: (title(('Test Page',),{}), meta((),{'name': 'description', 'content': 'A test page'}), link((),{'rel': 'stylesheet', 'href': 'style.css'}), style(('body { color: blue }',),{}))\n"
     ]
    }
   ],
   "source": [
    "# Now try partition to see what gets separated into heads vs body\n",
    "heads, bdy = partition(resp, lambda o: getattr(o, 'tag', '') in ('title','meta','link','style','base'))\n",
    "print(\"Headers:\", heads)"
   ]
  },
  {
   "cell_type": "code",
   "execution_count": 122,
   "id": "e1463292",
   "metadata": {},
   "outputs": [
    {
     "name": "stdout",
     "output_type": "stream",
     "text": [
      "Body: (div(('Some content',),{}), p(('More content',),{}))\n"
     ]
    }
   ],
   "source": [
    "print(\"Body:\", bdy)"
   ]
  },
  {
   "cell_type": "code",
   "execution_count": 123,
   "id": "394814bd",
   "metadata": {},
   "outputs": [],
   "source": [
    "%%ai\n",
    "What does _xt_cts do?"
   ]
  },
  {
   "cell_type": "markdown",
   "id": "4a399e32",
   "metadata": {},
   "source": [
    "Based on the code and our exploration, `_xt_cts` does several key things:\n",
    "\n",
    "1. Flattens and processes response tuple:\n",
    "   ```python\n",
    "   resp = flat_tuple(resp)\n",
    "   resp = resp + tuple(getattr(req, 'injects', ()))\n",
    "   ```\n",
    "\n",
    "2. Extracts HTTP headers and background tasks:\n",
    "   ```python\n",
    "   http_hdrs,resp = partition(resp, risinstance(HttpHeader))\n",
    "   http_hdrs = {o.k:str(o.v) for o in http_hdrs}\n",
    "   tasks,resp = partition(resp, risinstance(BackgroundTask))\n",
    "   ```\n",
    "\n",
    "3. Separates HTML head tags from body content:\n",
    "   ```python\n",
    "   heads,bdy = partition(resp, lambda o: getattr(o.tag, '') in ('title','meta','link','style','base'))\n",
    "   ```\n",
    "\n",
    "4. For non-HTMX requests, wraps content in full HTML response:\n",
    "   ```python\n",
    "   if resp and 'hx-request' not in req.headers and not any(getattr(o, 'tag', '')=='html' for o in resp):\n",
    "       title = [] if any(getattr(o, 'tag', '')=='title' for o in heads) else [Title(req.app.title)]\n",
    "       resp = respond(req, [*heads, *title], bdy)\n",
    "   ```\n",
    "\n",
    "5. Returns tuple of:\n",
    "   - XML-rendered content\n",
    "   - HTTP headers dict\n",
    "   - Background tasks\n",
    "\n",
    "This is where FastHTML route responses get transformed into full HTML documents with proper head/body structure."
   ]
  },
  {
   "cell_type": "markdown",
   "id": "fc0a26f4",
   "metadata": {},
   "source": [
    "Whoa, that's so cool how the response gets partitioned."
   ]
  },
  {
   "cell_type": "code",
   "execution_count": 132,
   "id": "03c8eec3",
   "metadata": {},
   "outputs": [],
   "source": [
    "%%ai\n",
    "What could the cts in _xt_cts be short for? XT is like FT I think"
   ]
  },
  {
   "cell_type": "markdown",
   "id": "b33662e0",
   "metadata": {},
   "source": [
    "Given the context and that it's transforming content into XML/HTML, `cts` is most likely short for \"contents\". So `_xt_cts` would be \"transform contents\" - where `xt` is like `ft` (FastHTML Transform) and `cts` is contents.\n",
    "\n",
    "This makes sense since the function is all about transforming and organizing the contents of the response into proper HTML structure with headers, body, etc. before rendering to XML."
   ]
  },
  {
   "cell_type": "markdown",
   "id": "8d1e62ab",
   "metadata": {},
   "source": [
    "## Checking If the Notebook Needs MonsterUI Headers"
   ]
  },
  {
   "cell_type": "code",
   "execution_count": 126,
   "id": "4585fad2",
   "metadata": {},
   "outputs": [
    {
     "data": {
      "text/plain": [
       "'tags = [\"MonsterUI\"]'"
      ]
     },
     "execution_count": 126,
     "metadata": {},
     "output_type": "execute_result"
    }
   ],
   "source": [
    "nb.cells[3].source"
   ]
  },
  {
   "cell_type": "code",
   "execution_count": 128,
   "id": "48950488",
   "metadata": {
    "scrolled": true
   },
   "outputs": [
    {
     "data": {
      "text/plain": [
       "True"
      ]
     },
     "execution_count": 128,
     "metadata": {},
     "output_type": "execute_result"
    }
   ],
   "source": [
    "\"MonsterUI\" in nb.cells[3].source"
   ]
  },
  {
   "cell_type": "markdown",
   "id": "1a7f9444",
   "metadata": {},
   "source": [
    "A bit hacky but works for now. Maybe I don't need tags to be a Python list after all, haha. I'll leave it, though."
   ]
  },
  {
   "cell_type": "markdown",
   "id": "b09b0fbc",
   "metadata": {},
   "source": [
    "## Conditionally Including MonsterUI Headers"
   ]
  },
  {
   "cell_type": "markdown",
   "id": "186fe427",
   "metadata": {},
   "source": [
    "Modifying the `notebook` handler that calles `render_nb`:"
   ]
  },
  {
   "cell_type": "code",
   "execution_count": 151,
   "id": "03822b56",
   "metadata": {},
   "outputs": [],
   "source": [
    "def get_title(nb):\n",
    "    \"Get title from `fname` notebook's cell 0 source by stripping '# ' prefix\"\n",
    "#     nbc = read_nb(fname)\n",
    "    nb = nb.cells[0].source.lstrip('# ')\n",
    "    if '\\n' in nb:\n",
    "        return first(nbc.split('\\n'))\n",
    "    return nb"
   ]
  },
  {
   "cell_type": "code",
   "execution_count": 161,
   "id": "16ce6d02",
   "metadata": {},
   "outputs": [],
   "source": [
    "@rt('/nbs/{name}')\n",
    "def notebook(name: str):\n",
    "    fpath = Path(f'nbs/{name}.ipynb')\n",
    "    nb = read_nb(fpath)\n",
    "    if \"MonsterUI\" in nb.cells[3].source:\n",
    "        return (\n",
    "            *Theme.blue.headers(),\n",
    "            Title(get_title(nb)),\n",
    "            render_nb(fpath, wrapper=Div)\n",
    "        )\n",
    "\n",
    "    # Otherwise use default style\n",
    "    return (\n",
    "        Title(get_title(nb)),\n",
    "        Style(':root {font-family: system-ui, -apple-system, \"Segoe UI\", Roboto, \"Helvetica Neue\", sans-serif; color-scheme: light dark;} body {background-color: light-dark(#ffffff, #1a1a1a); color: light-dark(#1a1a1a, #ffffff);} p {line-height: 1.5;}'),\n",
    "        render_nb(fpath, wrapper=Div),\n",
    "    )"
   ]
  },
  {
   "cell_type": "code",
   "execution_count": 162,
   "id": "b45e8f83",
   "metadata": {},
   "outputs": [
    {
     "data": {
      "text/plain": [
       "Path('nbs/2025-01-22-MonsterUI-Buttons-and-Links.ipynb')"
      ]
     },
     "execution_count": 162,
     "metadata": {},
     "output_type": "execute_result"
    }
   ],
   "source": [
    "name = \"2025-01-22-MonsterUI-Buttons-and-Links\"\n",
    "fpath = Path(f'nbs/{name}.ipynb')\n",
    "fpath"
   ]
  },
  {
   "cell_type": "code",
   "execution_count": 163,
   "id": "94859c83",
   "metadata": {},
   "outputs": [
    {
     "data": {
      "text/plain": [
       "Path('/Users/arg/fun/arg-drafts/nbs/2025-01-22-MonsterUI-Buttons-and-Links.ipynb')"
      ]
     },
     "execution_count": 163,
     "metadata": {},
     "output_type": "execute_result"
    }
   ],
   "source": [
    "fpath.absolute()"
   ]
  },
  {
   "cell_type": "code",
   "execution_count": 164,
   "id": "f7dfef30",
   "metadata": {},
   "outputs": [
    {
     "data": {
      "text/plain": [
       "(link((),{'rel': 'stylesheet', 'href': 'https://unpkg.com/franken-ui@1.1.0/dist/css/core.min.css'}),\n",
       " script(('',),{'type': 'module', 'src': 'https://unpkg.com/franken-ui@1.1.0/dist/js/core.iife.js'}),\n",
       " script(('',),{'type': 'module', 'src': 'https://cdn.jsdelivr.net/gh/answerdotai/monsterui@main/monsterui/icon.iife.js'}),\n",
       " script(('',),{'src': 'https://cdn.tailwindcss.com'}),\n",
       " script(('\\n        const htmlElement = document.documentElement;\\n        \\n            if (\\n                localStorage.getItem(\"mode\") === \"dark\" ||\\n                (!(\"mode\" in localStorage) &&\\n                window.matchMedia(\"(prefers-color-scheme: dark)\").matches)\\n            ) {\\n                htmlElement.classList.add(\"dark\");\\n            } else {\\n                htmlElement.classList.remove(\"dark\");\\n            }\\n        \\n        htmlElement.classList.add(localStorage.getItem(\"theme\") || \"uk-theme-blue\");\\n    ',),{}),\n",
       " link((),{'rel': 'stylesheet', 'href': 'https://cdn.jsdelivr.net/npm/daisyui@4.12.22/dist/full.min.css'}),\n",
       " style(('\\n:root {\\n  --p: from hsl(var(--primary)) l c h;\\n  --pc: from hsl(var(--primary-foreground)) l c h;\\n  --s: from hsl(var(--secondary)) l c h;\\n  --sc: from hsl(var(--secondary-foreground)) l c h;\\n  --b2: from hsl(var(--card-background)) l c h;\\n  --b1: from hsl(var(--background)) l c h;\\n  --bc: from hsl(var(--foreground)) l c h;\\n  --b3: from hsl(var(--ring)) l c h;\\n  --er: from hsl(var(--destructive)) l c h;\\n  --erc: from hsl(var(--destructive-foreground)) l c h;\\n}\\n',),{}),\n",
       " title(('MonsterUI Buttons and Links',),{}),\n",
       " div((div((h1(('MonsterUI Buttons and Links',),{}),),{'class': 'frontmatter'}), div((div(('Iterating through the `ButtonT` enum to show all MonsterUI button types visually.',),{'class': 'marked'}),),{}), article((div(('\\n```python\\nfrom fastcore.utils import *\\nfrom fasthtml.common import *\\nfrom monsterui.all import *\\n```\\n',),{'class': 'marked'}), ''),{}), article((div(('\\n```python\\ntags = [\"MonsterUI\"]\\n```\\n',),{'class': 'marked'}), ''),{}), article((div((\"\\n```python\\nhdrs = (Theme.blue.headers(), MarkdownJS(), HighlightJS(langs=['python', 'javascript', 'html', 'css']))\\n```\\n\",),{'class': 'marked'}), ''),{}), div((div(('## Setup',),{'class': 'marked'}),),{}), article((div(('\\n```python\\nButton()\\n```\\n',),{'class': 'marked'}), footer(('<pre><code class=\"language-html\">&lt;button type=\"submit\" class=\"uk-button uk-button-default\"&gt;&lt;/button&gt;\\n</code></pre>\\n',),{})),{}), article((div(('\\n```python\\nshow(Button(\"Click me\"))\\n```\\n',),{'class': 'marked'}), footer(('<button type=\"submit\" class=\"uk-button uk-button-default\">Click me</button>',),{})),{}), article((div(('\\n```python\\nshow(A(\"My link\", href=\"example.com\", cls=AT.muted))\\n```\\n',),{'class': 'marked'}), footer(('<a href=\"example.com\" class=\"uk-link-muted\">My link</a>',),{})),{}), article((div(('\\n```python\\nshow(NavBar(title=\"MySite\", nav_links=(A(\"Link 1\"), A(\"Link 2\"))))\\n```\\n',),{'class': 'marked'}), footer(('<div>\\n  <div class=\"uk-container mt-5 uk-container-xlarge\">\\n    <div class=\"md:flex md:relative\">\\n      <div class=\"uk-navbar-left \">\\n        <h1 class=\"uk-h1 \">MySite</h1>\\n<uk-icon icon=\"menu\" height=\"30\" width=\"30\" hx-on-click=\"htmx.find(\\'#_S_0fkn7ATy2jXQuJL72PNg\\').classList.toggle(\\'hidden\\')\" class=\"md:hidden\"></uk-icon>      </div>\\n      <div id=\"_S_0fkn7ATy2jXQuJL72PNg\" class=\"uk-navbar-right hidden md:flex md:justify-between\">\\n        <nav class=\"uk-navbar-nav w-full flex-col md:flex-row\">\\n<a href=\"#\">Link 1</a><a href=\"#\">Link 2</a>        </nav>\\n      </div>\\n    </div>\\n  </div>\\n</div>\\n',),{})),{}), article((div(('\\n```python\\nshow(Button(\"Hey\",cls=ButtonT.primary))\\n```\\n',),{'class': 'marked'}), footer(('<button type=\"submit\" class=\"uk-button uk-button-primary\">Hey</button>',),{})),{}), article((div(('\\n```python\\nButtonT\\n```\\n',),{'class': 'marked'}), footer(('<pre ><code>&lt;enum &#x27;ButtonT&#x27;&gt;</code></pre>',),{})),{}), article((div(('\\n```python\\n[t.name for t in ButtonT]\\n```\\n',),{'class': 'marked'}), footer(('<pre ><code>[&#x27;default&#x27;, &#x27;primary&#x27;, &#x27;secondary&#x27;, &#x27;danger&#x27;, &#x27;text&#x27;, &#x27;link&#x27;, &#x27;ghost&#x27;]</code></pre>',),{})),{}), div((div(('**AI Prompt**\\n\\nIs there a convenience function in enum to list all these?',),{'class': 'marked'}),),{}), div((div(('**AI Response**\\n\\nYes! The `Enum` class in Python has a built-in method called `__members__`. You can use it like this:\\n\\n```python\\nButtonT.__members__\\n```\\n\\nWould you like me to explain more about what this returns and how it differs from the list comprehension approach you used?',),{'class': 'marked'}),),{}), article((div(('\\n```python\\nButtonT.__members__\\n```\\n',),{'class': 'marked'}), footer(('<pre ><code>mappingproxy({&#x27;default&#x27;: &lt;ButtonT.default: &#x27;uk-button-default&#x27;&gt;,\\n              &#x27;primary&#x27;: &lt;ButtonT.primary: &#x27;uk-button-primary&#x27;&gt;,\\n              &#x27;secondary&#x27;: &lt;ButtonT.secondary: &#x27;uk-button-secondary&#x27;&gt;,\\n              &#x27;danger&#x27;: &lt;ButtonT.danger: &#x27;uk-button-danger&#x27;&gt;,\\n              &#x27;text&#x27;: &lt;ButtonT.text: &#x27;uk-button-text&#x27;&gt;,\\n              &#x27;link&#x27;: &lt;ButtonT.link: &#x27;uk-button-link&#x27;&gt;,\\n              &#x27;ghost&#x27;: &lt;ButtonT.ghost: &#x27;uk-button-ghost&#x27;&gt;})</code></pre>',),{})),{}), article((div(('\\n```python\\nL(ButtonT.__members__)\\n```\\n',),{'class': 'marked'}), footer(('<pre ><code>(#7) [&#x27;default&#x27;,&#x27;primary&#x27;,&#x27;secondary&#x27;,&#x27;danger&#x27;,&#x27;text&#x27;,&#x27;link&#x27;,&#x27;ghost&#x27;]</code></pre>',),{})),{}), article((div(('\\n```python\\ndef _Button(t): return Button(f\"{t} button\",cls=t)\\nbtns = L(ButtonT.__members__).map(_Button)\\nbtns\\n```\\n',),{'class': 'marked'}), footer(('<pre ><code>(#7) [button((&#x27;default button&#x27;,),{&#x27;type&#x27;: &#x27;submit&#x27;, &#x27;class&#x27;: &#x27;uk-button default&#x27;}),button((&#x27;primary button&#x27;,),{&#x27;type&#x27;: &#x27;submit&#x27;, &#x27;class&#x27;: &#x27;uk-button primary&#x27;}),button((&#x27;secondary button&#x27;,),{&#x27;type&#x27;: &#x27;submit&#x27;, &#x27;class&#x27;: &#x27;uk-button secondary&#x27;}),button((&#x27;danger button&#x27;,),{&#x27;type&#x27;: &#x27;submit&#x27;, &#x27;class&#x27;: &#x27;uk-button danger&#x27;}),button((&#x27;text button&#x27;,),{&#x27;type&#x27;: &#x27;submit&#x27;, &#x27;class&#x27;: &#x27;uk-button text&#x27;}),button((&#x27;link button&#x27;,),{&#x27;type&#x27;: &#x27;submit&#x27;, &#x27;class&#x27;: &#x27;uk-button link&#x27;}),button((&#x27;ghost button&#x27;,),{&#x27;type&#x27;: &#x27;submit&#x27;, &#x27;class&#x27;: &#x27;uk-button ghost&#x27;})]</code></pre>',),{})),{}), article((div(('\\n```python\\nto_xml(Div(*btns))\\n```\\n',),{'class': 'marked'}), footer(('<pre ><code>&#x27;&lt;div&gt;\\\\n&lt;button type=&quot;submit&quot; class=&quot;uk-button default&quot;&gt;default button&lt;/button&gt;&lt;button type=&quot;submit&quot; class=&quot;uk-button primary&quot;&gt;primary button&lt;/button&gt;&lt;button type=&quot;submit&quot; class=&quot;uk-button secondary&quot;&gt;secondary button&lt;/button&gt;&lt;button type=&quot;submit&quot; class=&quot;uk-button danger&quot;&gt;danger button&lt;/button&gt;&lt;button type=&quot;submit&quot; class=&quot;uk-button text&quot;&gt;text button&lt;/button&gt;&lt;button type=&quot;submit&quot; class=&quot;uk-button link&quot;&gt;link button&lt;/button&gt;&lt;button type=&quot;submit&quot; class=&quot;uk-button ghost&quot;&gt;ghost button&lt;/button&gt;&lt;/div&gt;\\\\n&#x27;</code></pre>',),{})),{}), article((div(('\\n```python\\nshow(to_xml(Div(*btns)))\\n```\\n',),{'class': 'marked'}), footer(('<div>\\n<button type=\"submit\" class=\"uk-button default\">default button</button><button type=\"submit\" class=\"uk-button primary\">primary button</button><button type=\"submit\" class=\"uk-button secondary\">secondary button</button><button type=\"submit\" class=\"uk-button danger\">danger button</button><button type=\"submit\" class=\"uk-button text\">text button</button><button type=\"submit\" class=\"uk-button link\">link button</button><button type=\"submit\" class=\"uk-button ghost\">ghost button</button></div>\\n',),{})),{}), div((div((\"**AI Prompt**\\n\\nWhy don't the buttons look right?\",),{'class': 'marked'}),),{}), div((div(('**AI Response**\\n\\nLooking at the button classes in the HTML output, I notice the classes are missing the `uk-button-` prefix that we saw in the `ButtonT` enum values. Instead, they just have `uk-button default`, `uk-button primary`, etc.\\n\\nLet\\'s check what\\'s happening by looking at one button directly:\\n\\n```python\\nshow(Button(\"test\", cls=ButtonT.primary))\\n```\\n\\nThis should help us see if the issue is in how we\\'re passing the enum values to the Button constructor.',),{'class': 'marked'}),),{}), div((div(('**AI Prompt**\\n\\ndef _Button(t): return Button(f\"{t} button\",cls=ButtonT.t)\\nbtns = L(ButtonT.__members__).map(_Button)\\nbtns',),{'class': 'marked'}),),{}), div((div((\"**AI Response**\\n\\nAh, I see the issue in your code. `ButtonT.t` isn't correct - you're trying to access a property `t` on `ButtonT`, but `t` is actually the variable in your function containing the member name.\\n\\nInstead, you should use `ButtonT[t]` or `getattr(ButtonT, t)` to look up the enum member by name. Would you like to try fixing this?\",),{'class': 'marked'}),),{}), article((div(('\\n```python\\ndef _Button(t): return Button(f\"{t} button\",cls=ButtonT[t])\\nbtns = L(ButtonT.__members__).map(_Button)\\nshow(Div(*btns))\\n```\\n',),{'class': 'marked'}), footer(('<div>\\n<button type=\"submit\" class=\"uk-button uk-button-default\">default button</button><button type=\"submit\" class=\"uk-button uk-button-primary\">primary button</button><button type=\"submit\" class=\"uk-button uk-button-secondary\">secondary button</button><button type=\"submit\" class=\"uk-button uk-button-danger\">danger button</button><button type=\"submit\" class=\"uk-button uk-button-text\">text button</button><button type=\"submit\" class=\"uk-button uk-button-link\">link button</button><button type=\"submit\" class=\"uk-button uk-button-ghost\">ghost button</button></div>\\n',),{})),{}), div((div(('## Improvements ',),{'class': 'marked'}),),{}), div((div(('This part is from SolveIt office hours with Isaac Flath.',),{'class': 'marked'}),),{}), div((div(('**AI Prompt**\\n\\nIs there any other way to get `ButtonT.__members__` in enum or otherwise?',),{'class': 'marked'}),),{}), div((div(('**AI Response**\\n\\nYes! There are a few other ways to get enum members:\\n\\n1. Using `list(ButtonT)` - this gives you the values\\n2. Using `ButtonT._member_names_` - this gives you just the names\\n3. Using `ButtonT._member_map_` - similar to `__members__` but returns a regular dict\\n\\nWould you like to try any of these to see how they differ?',),{'class': 'marked'}),),{}), article((div(('\\n```python\\nlist(ButtonT)[0].value\\n```\\n',),{'class': 'marked'}), footer(('<pre ><code>&#x27;uk-button-default&#x27;</code></pre>',),{})),{}), article((div(('\\n```python\\nDiv(*[Button(v,cls=v) for v in list(ButtonT)])\\n```\\n',),{'class': 'marked'}), footer(('<pre><code class=\"language-html\">&lt;div&gt;\\n&lt;button type=\"submit\" class=\"uk-button uk-button-default\"&gt;uk-button-default&lt;/button&gt;&lt;button type=\"submit\" class=\"uk-button uk-button-primary\"&gt;uk-button-primary&lt;/button&gt;&lt;button type=\"submit\" class=\"uk-button uk-button-secondary\"&gt;uk-button-secondary&lt;/button&gt;&lt;button type=\"submit\" class=\"uk-button uk-button-danger\"&gt;uk-button-danger&lt;/button&gt;&lt;button type=\"submit\" class=\"uk-button uk-button-text\"&gt;uk-button-text&lt;/button&gt;&lt;button type=\"submit\" class=\"uk-button uk-button-link\"&gt;uk-button-link&lt;/button&gt;&lt;button type=\"submit\" class=\"uk-button uk-button-ghost\"&gt;uk-button-ghost&lt;/button&gt;&lt;/div&gt;\\n\\n</code></pre>\\n',),{})),{}), article((div(('\\n```python\\nshow(Div(*[Button(v,cls=v) for v in list(ButtonT)]))\\n```\\n',),{'class': 'marked'}), footer(('<div>\\n<button type=\"submit\" class=\"uk-button uk-button-default\">uk-button-default</button><button type=\"submit\" class=\"uk-button uk-button-primary\">uk-button-primary</button><button type=\"submit\" class=\"uk-button uk-button-secondary\">uk-button-secondary</button><button type=\"submit\" class=\"uk-button uk-button-danger\">uk-button-danger</button><button type=\"submit\" class=\"uk-button uk-button-text\">uk-button-text</button><button type=\"submit\" class=\"uk-button uk-button-link\">uk-button-link</button><button type=\"submit\" class=\"uk-button uk-button-ghost\">uk-button-ghost</button></div>\\n',),{})),{}), article((div(('\\n```python\\nshow(DivLAligned(*[Button(v,cls=v) for v in list(ButtonT)]))\\n```\\n',),{'class': 'marked'}), footer(('<div class=\"uk-flex uk-flex-left uk-flex-middle space-x-4\">\\n<button type=\"submit\" class=\"uk-button uk-button-default\">uk-button-default</button><button type=\"submit\" class=\"uk-button uk-button-primary\">uk-button-primary</button><button type=\"submit\" class=\"uk-button uk-button-secondary\">uk-button-secondary</button><button type=\"submit\" class=\"uk-button uk-button-danger\">uk-button-danger</button><button type=\"submit\" class=\"uk-button uk-button-text\">uk-button-text</button><button type=\"submit\" class=\"uk-button uk-button-link\">uk-button-link</button><button type=\"submit\" class=\"uk-button uk-button-ghost\">uk-button-ghost</button></div>\\n',),{})),{}), article((div(('\\n```python\\nshow(Grid(*[Button(v,cls=v) for v in list(ButtonT)]))\\n```\\n',),{'class': 'marked'}), footer(('<div class=\"grid grid-cols-1 sm:grid-cols-1 md:grid-cols-2 lg:grid-cols-3 xl:grid-cols-4 gap-4\">\\n<button type=\"submit\" class=\"uk-button uk-button-default\">uk-button-default</button><button type=\"submit\" class=\"uk-button uk-button-primary\">uk-button-primary</button><button type=\"submit\" class=\"uk-button uk-button-secondary\">uk-button-secondary</button><button type=\"submit\" class=\"uk-button uk-button-danger\">uk-button-danger</button><button type=\"submit\" class=\"uk-button uk-button-text\">uk-button-text</button><button type=\"submit\" class=\"uk-button uk-button-link\">uk-button-link</button><button type=\"submit\" class=\"uk-button uk-button-ghost\">uk-button-ghost</button></div>\\n',),{})),{})),{'class': 'container'}))"
      ]
     },
     "execution_count": 164,
     "metadata": {},
     "output_type": "execute_result"
    }
   ],
   "source": [
    "notebook(\"2025-01-22-MonsterUI-Buttons-and-Links\")"
   ]
  },
  {
   "cell_type": "code",
   "execution_count": 165,
   "id": "f933d9f3",
   "metadata": {},
   "outputs": [
    {
     "data": {
      "text/plain": [
       "(title(('SVG Animations in FastHTML',),{}),\n",
       " style((':root {font-family: system-ui, -apple-system, \"Segoe UI\", Roboto, \"Helvetica Neue\", sans-serif; color-scheme: light dark;} body {background-color: light-dark(#ffffff, #1a1a1a); color: light-dark(#1a1a1a, #ffffff);} p {line-height: 1.5;}',),{}),\n",
       " div((div((h1(('SVG Animations in FastHTML',),{}),),{'class': 'frontmatter'}), div((div(('Exploring how to make basic SVG animations work with FastHTML.',),{'class': 'marked'}),),{}), article((div(('\\n```python\\nfrom fastcore.meta import delegates\\nfrom fastcore.utils import snake2camel\\nfrom fasthtml.common import *\\nfrom fasthtml.svg import *\\n```\\n',),{'class': 'marked'}), ''),{}), div((div(('## FastHTML SVG Docs Examples',),{'class': 'marked'}),),{}), div((div(('The [FastHTML SVG API Docs](https://docs.fastht.ml/api/svg.html) introduce you to `fasthtml.svg` with this nice circle specified as an SVG string:',),{'class': 'marked'}),),{}), article((div(('\\n```python\\nsvg = \\'<svg width=\"50\" height=\"50\"><circle cx=\"20\" cy=\"20\" r=\"15\" fill=\"red\"></circle></svg>\\'\\nshow(NotStr(svg))\\n```\\n',),{'class': 'marked'}), footer(('<svg width=\"50\" height=\"50\"><circle cx=\"20\" cy=\"20\" r=\"15\" fill=\"red\"></circle></svg>',),{})),{}), div((div((\"Often you'll just want to paste these strings into your FastHTML apps, and that's fine. However, when you want to construct SVG elements programmatically via Python, you can!\",),{'class': 'marked'}),),{}), article((div(('\\n```python\\ndef demo(el, h=50, w=50): return show(Svg(h=h,w=w)(el))\\n```\\n',),{'class': 'marked'}), ''),{}), article((div((\"\\n```python\\ndemo(Rect(30, 30, fill='blue', rx=8, ry=8))\\n```\\n\",),{'class': 'marked'}), footer(('<svg xmlns=\"http://www.w3.org/2000/svg\" viewbox=\"0 0 50 50\" height=\"50\" width=\"50\"><rect width=\"30\" height=\"30\" fill=\"blue\" rx=\"8\" ry=\"8\"></rect></svg>',),{})),{}), div((div(('## MDN Example',),{'class': 'marked'}),),{}), div((div((\"[MDN's SVG <animate> example](https://developer.mozilla.org/en-US/docs/Web/SVG/Element/animate) is:\",),{'class': 'marked'}),),{}), article((div(('\\n```python\\nsvg = \"\"\"<svg viewBox=\"0 0 10 10\" xmlns=\"http://www.w3.org/2000/svg\">\\n  <rect width=\"10\" height=\"10\">\\n    <animate\\n      attributeName=\"rx\"\\n      values=\"0;5;0\"\\n      dur=\"10s\"\\n      repeatCount=\"indefinite\" />\\n  </rect>\\n</svg>\\n\"\"\"\\n```\\n',),{'class': 'marked'}), ''),{}), article((div(('\\n```python\\nshow(NotStr(svg))\\n```\\n',),{'class': 'marked'}), footer(('<svg viewBox=\"0 0 10 10\" xmlns=\"http://www.w3.org/2000/svg\">\\n  <rect width=\"10\" height=\"10\">\\n    <animate\\n      attributeName=\"rx\"\\n      values=\"0;5;0\"\\n      dur=\"10s\"\\n      repeatCount=\"indefinite\" />\\n  </rect>\\n</svg>\\n',),{})),{}), div((div((\"Why is that rectangle so big here? Let's try\",),{'class': 'marked'}),),{}), article((div(('\\n```python\\nsvg2 = \"\"\"<svg width=\"100\" height=\"100\">\\n  <rect width=\"10\" height=\"10\">\\n    <animate\\n      attributeName=\"rx\"\\n      values=\"0;5;0\"\\n      dur=\"10s\"\\n      repeatCount=\"indefinite\" />\\n  </rect>\\n</svg>\\n\"\"\"\\nshow(NotStr(svg2))\\n```\\n',),{'class': 'marked'}), footer(('<svg width=\"100\" height=\"100\">\\n  <rect width=\"10\" height=\"10\">\\n    <animate\\n      attributeName=\"rx\"\\n      values=\"0;5;0\"\\n      dur=\"10s\"\\n      repeatCount=\"indefinite\" />\\n  </rect>\\n</svg>\\n',),{})),{}), div((div(('## MDN Example in FastHTML',),{'class': 'marked'}),),{}), div((div((\"Currently `Rect()` doesn't accept an `animate` child. Seeing if I can make that work:\",),{'class': 'marked'}),),{}), article((div(('\\n```python\\ndef Animate(attributeName, values, dur, repeatCount):\\n    return Safe(f\"<animate {attributeName=} {values=} {dur=} {repeatCount=} />\")\\n```\\n',),{'class': 'marked'}), ''),{}), article((div(('\\n```python\\nAnimate(attributeName=\"rx\", values=\"0;5;0\", dur=\"10s\", repeatCount=\"indefinite\")\\n```\\n',),{'class': 'marked'}), footer(('<pre ><code>&quot;&lt;animate attributeName=&#x27;rx&#x27; values=&#x27;0;5;0&#x27; dur=&#x27;10s&#x27; repeatCount=&#x27;indefinite&#x27; /&gt;&quot;</code></pre>',),{})),{}), article((div(('\\n```python\\n@delegates(ft_svg)\\ndef AnimatedRect(animate, width, height, x=0, y=0, fill=None, stroke=None, stroke_width=None, rx=None, ry=None, **kwargs):\\n    \"An animated standard SVG `rect` element\"\\n    return ft_svg(\\'rect\\', animate, width=width, height=height, x=x, y=y, fill=fill,\\n                 stroke=stroke, stroke_width=stroke_width, rx=rx, ry=ry, **kwargs)\\n```\\n',),{'class': 'marked'}), ''),{}), article((div(('\\n```python\\nshow(Svg(AnimatedRect(\\n    Animate(attributeName=\"rx\", values=\"0;5;0\", dur=\"10s\", repeatCount=\"indefinite\"), \\n    width=10, height=10), h=10, w=10))\\n```\\n',),{'class': 'marked'}), footer(('<svg xmlns=\"http://www.w3.org/2000/svg\" viewbox=\"0 0 10 10\" height=\"10\" width=\"10\"><rect width=\"10\" height=\"10\"><animate attributeName=\\'rx\\' values=\\'0;5;0\\' dur=\\'10s\\' repeatCount=\\'indefinite\\' /></rect></svg>',),{})),{}), article((div(('\\n```python\\nshow(Svg(AnimatedRect(\\n    Animate(attributeName=\"rx\", values=\"0;50;0\", dur=\"10s\", repeatCount=\"indefinite\"), \\n    width=100, height=100), h=100, w=100))\\n```\\n',),{'class': 'marked'}), footer(('<svg xmlns=\"http://www.w3.org/2000/svg\" viewbox=\"0 0 100 100\" height=\"100\" width=\"100\"><rect width=\"100\" height=\"100\"><animate attributeName=\\'rx\\' values=\\'0;50;0\\' dur=\\'10s\\' repeatCount=\\'indefinite\\' /></rect></svg>',),{})),{}), article((div(('\\n```python\\ndemo(AnimatedRect(\\n        Animate(attributeName=\"rx\", values=\"0;50;0\", dur=\"1s\", repeatCount=\"indefinite\"), \\n    width=100, height=100), h=100, w=100)\\n```\\n',),{'class': 'marked'}), footer(('<svg xmlns=\"http://www.w3.org/2000/svg\" viewbox=\"0 0 100 100\" height=\"100\" width=\"100\"><rect width=\"100\" height=\"100\"><animate attributeName=\\'rx\\' values=\\'0;50;0\\' dur=\\'1s\\' repeatCount=\\'indefinite\\' /></rect></svg>',),{})),{}), div((div(('## More Complex SVG Animation',),{'class': 'marked'}),),{}), article((div(('\\n```python\\nsvg4 = \"\"\"<svg width=\"100\" height=\"100\" viewBox=\"0 0 100 100\" xmlns=\"http://www.w3.org/2000/svg\">\\n  <!-- Gradient definitions -->\\n  <defs>\\n    <linearGradient id=\"gradient1\" x1=\"0%\" y1=\"0%\" x2=\"100%\" y2=\"100%\">\\n      <stop offset=\"0%\" stop-color=\"#60a5fa\">\\n        <animate attributeName=\"stop-color\" \\n          values=\"#60a5fa;#8b5cf6;#ec4899;#60a5fa\"\\n          dur=\"8s\" repeatCount=\"indefinite\" />\\n      </stop>\\n      <stop offset=\"100%\" stop-color=\"#8b5cf6\">\\n        <animate attributeName=\"stop-color\" \\n          values=\"#8b5cf6;#ec4899;#60a5fa;#8b5cf6\"\\n          dur=\"8s\" repeatCount=\"indefinite\" />\\n      </stop>\\n    </linearGradient>\\n  </defs>\\n\\n  <!-- Background star burst -->\\n  <g>\\n    <circle cx=\"50\" cy=\"50\" r=\"45\" fill=\"url(#gradient1)\">\\n      <animate attributeName=\"opacity\"\\n        values=\"0.3;0.5;0.3\"\\n        dur=\"3s\" repeatCount=\"indefinite\" />\\n    </circle>\\n  </g>\\n\\n  <!-- Spinning triangles -->\\n  <g transform=\"translate(50 50)\">\\n    <path d=\"M0,-30 L26,15 L-26,15 Z\" fill=\"#fcd34d\" opacity=\"0.8\">\\n      <animateTransform attributeName=\"transform\"\\n        type=\"rotate\"\\n        from=\"0\"\\n        to=\"360\"\\n        dur=\"8s\"\\n        repeatCount=\"indefinite\" />\\n      <animate attributeName=\"d\"\\n        values=\"M0,-30 L26,15 L-26,15 Z;M0,-20 L35,25 L-35,25 Z;M0,-30 L26,15 L-26,15 Z\"\\n        dur=\"4s\"\\n        repeatCount=\"indefinite\" />\\n    </path>\\n  </g>\\n\\n  <!-- Bouncing squares -->\\n  <rect x=\"40\" y=\"40\" width=\"20\" height=\"20\" fill=\"#34d399\" opacity=\"0.8\">\\n    <animate attributeName=\"x\" \\n      values=\"40;30;50;40\"\\n      dur=\"3s\"\\n      repeatCount=\"indefinite\" />\\n    <animate attributeName=\"y\"\\n      values=\"40;50;30;40\"\\n      dur=\"3s\"\\n      repeatCount=\"indefinite\" />\\n    <animate attributeName=\"rx\"\\n      values=\"0;10;0\"\\n      dur=\"3s\"\\n      repeatCount=\"indefinite\" />\\n  </rect>\\n\\n  <!-- Orbiting particles -->\\n  <g>\\n    <circle cx=\"50\" cy=\"20\" r=\"4\" fill=\"#f472b6\">\\n      <animateMotion\\n        path=\"M 0,0 a 30,30 0 1,1 0,0\"\\n        dur=\"3s\"\\n        repeatCount=\"indefinite\" />\\n      <animate attributeName=\"r\"\\n        values=\"4;6;4\"\\n        dur=\"1.5s\"\\n        repeatCount=\"indefinite\" />\\n    </circle>\\n    <circle cx=\"80\" cy=\"50\" r=\"4\" fill=\"#60a5fa\">\\n      <animateMotion\\n        path=\"M 0,0 a 30,30 0 1,0 0,0\"\\n        dur=\"4s\"\\n        repeatCount=\"indefinite\" />\\n      <animate attributeName=\"r\"\\n        values=\"4;6;4\"\\n        dur=\"2s\"\\n        repeatCount=\"indefinite\" />\\n    </circle>\\n  </g>\\n\\n  <!-- Dancing dots -->\\n  <g>\\n    <circle cx=\"50\" cy=\"50\" r=\"3\" fill=\"#fcd34d\">\\n      <animateMotion\\n        path=\"M 0,0 q 15,15 0,30 q -15,15 0,0\"\\n        dur=\"2.5s\"\\n        repeatCount=\"indefinite\" />\\n    </circle>\\n    <circle cx=\"50\" cy=\"50\" r=\"3\" fill=\"#f472b6\">\\n      <animateMotion\\n        path=\"M 0,0 q -15,-15 -30,0 q -15,15 0,0\"\\n        dur=\"2.5s\"\\n        repeatCount=\"indefinite\" />\\n    </circle>\\n  </g>\\n\\n  <!-- Pulsing rings -->\\n  <circle cx=\"50\" cy=\"50\" r=\"20\" fill=\"none\" stroke=\"#93c5fd\" stroke-width=\"1\">\\n    <animate attributeName=\"r\"\\n      values=\"20;30;20\"\\n      dur=\"4s\"\\n      repeatCount=\"indefinite\" />\\n    <animate attributeName=\"stroke-opacity\"\\n      values=\"1;0;1\"\\n      dur=\"4s\"\\n      repeatCount=\"indefinite\" />\\n  </circle>\\n  <circle cx=\"50\" cy=\"50\" r=\"25\" fill=\"none\" stroke=\"#93c5fd\" stroke-width=\"1\">\\n    <animate attributeName=\"r\"\\n      values=\"25;35;25\"\\n      dur=\"4s\"\\n      repeatCount=\"indefinite\" />\\n    <animate attributeName=\"stroke-opacity\"\\n      values=\"0;1;0\"\\n      dur=\"4s\"\\n      repeatCount=\"indefinite\" />\\n  </circle>\\n</svg>\"\"\"\\nshow(NotStr(svg4))\\n```\\n',),{'class': 'marked'}), footer(('<svg width=\"100\" height=\"100\" viewBox=\"0 0 100 100\" xmlns=\"http://www.w3.org/2000/svg\">\\n  <!-- Gradient definitions -->\\n  <defs>\\n    <linearGradient id=\"gradient1\" x1=\"0%\" y1=\"0%\" x2=\"100%\" y2=\"100%\">\\n      <stop offset=\"0%\" stop-color=\"#60a5fa\">\\n        <animate attributeName=\"stop-color\" \\n          values=\"#60a5fa;#8b5cf6;#ec4899;#60a5fa\"\\n          dur=\"8s\" repeatCount=\"indefinite\" />\\n      </stop>\\n      <stop offset=\"100%\" stop-color=\"#8b5cf6\">\\n        <animate attributeName=\"stop-color\" \\n          values=\"#8b5cf6;#ec4899;#60a5fa;#8b5cf6\"\\n          dur=\"8s\" repeatCount=\"indefinite\" />\\n      </stop>\\n    </linearGradient>\\n  </defs>\\n\\n  <!-- Background star burst -->\\n  <g>\\n    <circle cx=\"50\" cy=\"50\" r=\"45\" fill=\"url(#gradient1)\">\\n      <animate attributeName=\"opacity\"\\n        values=\"0.3;0.5;0.3\"\\n        dur=\"3s\" repeatCount=\"indefinite\" />\\n    </circle>\\n  </g>\\n\\n  <!-- Spinning triangles -->\\n  <g transform=\"translate(50 50)\">\\n    <path d=\"M0,-30 L26,15 L-26,15 Z\" fill=\"#fcd34d\" opacity=\"0.8\">\\n      <animateTransform attributeName=\"transform\"\\n        type=\"rotate\"\\n        from=\"0\"\\n        to=\"360\"\\n        dur=\"8s\"\\n        repeatCount=\"indefinite\" />\\n      <animate attributeName=\"d\"\\n        values=\"M0,-30 L26,15 L-26,15 Z;M0,-20 L35,25 L-35,25 Z;M0,-30 L26,15 L-26,15 Z\"\\n        dur=\"4s\"\\n        repeatCount=\"indefinite\" />\\n    </path>\\n  </g>\\n\\n  <!-- Bouncing squares -->\\n  <rect x=\"40\" y=\"40\" width=\"20\" height=\"20\" fill=\"#34d399\" opacity=\"0.8\">\\n    <animate attributeName=\"x\" \\n      values=\"40;30;50;40\"\\n      dur=\"3s\"\\n      repeatCount=\"indefinite\" />\\n    <animate attributeName=\"y\"\\n      values=\"40;50;30;40\"\\n      dur=\"3s\"\\n      repeatCount=\"indefinite\" />\\n    <animate attributeName=\"rx\"\\n      values=\"0;10;0\"\\n      dur=\"3s\"\\n      repeatCount=\"indefinite\" />\\n  </rect>\\n\\n  <!-- Orbiting particles -->\\n  <g>\\n    <circle cx=\"50\" cy=\"20\" r=\"4\" fill=\"#f472b6\">\\n      <animateMotion\\n        path=\"M 0,0 a 30,30 0 1,1 0,0\"\\n        dur=\"3s\"\\n        repeatCount=\"indefinite\" />\\n      <animate attributeName=\"r\"\\n        values=\"4;6;4\"\\n        dur=\"1.5s\"\\n        repeatCount=\"indefinite\" />\\n    </circle>\\n    <circle cx=\"80\" cy=\"50\" r=\"4\" fill=\"#60a5fa\">\\n      <animateMotion\\n        path=\"M 0,0 a 30,30 0 1,0 0,0\"\\n        dur=\"4s\"\\n        repeatCount=\"indefinite\" />\\n      <animate attributeName=\"r\"\\n        values=\"4;6;4\"\\n        dur=\"2s\"\\n        repeatCount=\"indefinite\" />\\n    </circle>\\n  </g>\\n\\n  <!-- Dancing dots -->\\n  <g>\\n    <circle cx=\"50\" cy=\"50\" r=\"3\" fill=\"#fcd34d\">\\n      <animateMotion\\n        path=\"M 0,0 q 15,15 0,30 q -15,15 0,0\"\\n        dur=\"2.5s\"\\n        repeatCount=\"indefinite\" />\\n    </circle>\\n    <circle cx=\"50\" cy=\"50\" r=\"3\" fill=\"#f472b6\">\\n      <animateMotion\\n        path=\"M 0,0 q -15,-15 -30,0 q -15,15 0,0\"\\n        dur=\"2.5s\"\\n        repeatCount=\"indefinite\" />\\n    </circle>\\n  </g>\\n\\n  <!-- Pulsing rings -->\\n  <circle cx=\"50\" cy=\"50\" r=\"20\" fill=\"none\" stroke=\"#93c5fd\" stroke-width=\"1\">\\n    <animate attributeName=\"r\"\\n      values=\"20;30;20\"\\n      dur=\"4s\"\\n      repeatCount=\"indefinite\" />\\n    <animate attributeName=\"stroke-opacity\"\\n      values=\"1;0;1\"\\n      dur=\"4s\"\\n      repeatCount=\"indefinite\" />\\n  </circle>\\n  <circle cx=\"50\" cy=\"50\" r=\"25\" fill=\"none\" stroke=\"#93c5fd\" stroke-width=\"1\">\\n    <animate attributeName=\"r\"\\n      values=\"25;35;25\"\\n      dur=\"4s\"\\n      repeatCount=\"indefinite\" />\\n    <animate attributeName=\"stroke-opacity\"\\n      values=\"0;1;0\"\\n      dur=\"4s\"\\n      repeatCount=\"indefinite\" />\\n  </circle>\\n</svg>',),{})),{}), div((div(('I kind of like this one for representing \"a sound is currently playing\" for experimental audio apps.',),{'class': 'marked'}),),{})),{'class': 'container'}))"
      ]
     },
     "execution_count": 165,
     "metadata": {},
     "output_type": "execute_result"
    }
   ],
   "source": [
    "notebook(\"2025-01-21-SVG-Animation-in-FastHTML\")"
   ]
  },
  {
   "cell_type": "markdown",
   "id": "9f210aa8",
   "metadata": {},
   "source": [
    "Reading that as best I can, I think the conditional header inclusion worked!"
   ]
  },
  {
   "cell_type": "markdown",
   "id": "5a697e52",
   "metadata": {},
   "source": [
    "The true test of this is if it actually works when I bring it over to my arg-blog-fasthtml main.py. Let's see what happens."
   ]
  },
  {
   "cell_type": "markdown",
   "id": "38ec938e",
   "metadata": {},
   "source": [
    "## Success"
   ]
  },
  {
   "cell_type": "markdown",
   "id": "6ac0b436",
   "metadata": {},
   "source": [
    "Whoa, I can't believe I managed to get that working:\n",
    "\n",
    "* https://audrey.feldroy.com/nbs/2025-01-22-MonsterUI-Buttons-and-Links shows MonsterUI styles\n",
    "* https://audrey.feldroy.com/nbs/2025-01-21-SVG-Animation-in-FastHTML shows my vanilla CSS styles without MonsterUI\n",
    "\n",
    "Go check out the main.py in https://github.com/audreyfeldroy/arg-blog-fasthtml to see how it all fits together.\n",
    "\n",
    "I suppose we didn't actually customize `render_nb` but rather customized the part before it. Then we left the hard work of header and body partitioning to `_xt_cts`."
   ]
  },
  {
   "cell_type": "code",
   "execution_count": 1,
   "id": "21eeb046",
   "metadata": {},
   "outputs": [],
   "source": [
    "from nb2fasthtml.core import *"
   ]
  }
 ],
 "metadata": {
  "kernelspec": {
   "display_name": "Python 3 (ipykernel)",
   "language": "python",
   "name": "python3"
  },
  "language_info": {
   "codemirror_mode": {
    "name": "ipython",
    "version": 3
   },
   "file_extension": ".py",
   "mimetype": "text/x-python",
   "name": "python",
   "nbconvert_exporter": "python",
   "pygments_lexer": "ipython3",
   "version": "3.12.8"
  }
 },
 "nbformat": 4,
 "nbformat_minor": 5
}
