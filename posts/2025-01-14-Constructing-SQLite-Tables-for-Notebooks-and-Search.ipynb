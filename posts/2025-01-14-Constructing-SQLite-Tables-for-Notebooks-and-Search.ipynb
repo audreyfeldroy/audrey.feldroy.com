{
 "cells": [
  {
   "cell_type": "markdown",
   "id": "578c9c51",
   "metadata": {},
   "source": [
    "# Constructing SQLite Tables for Notebooks and Search"
   ]
  },
  {
   "cell_type": "markdown",
   "id": "33e8557f",
   "metadata": {},
   "source": [
    "SQLite full text search setup via APSW for all the notebooks on this website, inspired by the [APSW FTS5 Tour]((https://rogerbinns.github.io/apsw/example-fts.html))."
   ]
  },
  {
   "cell_type": "markdown",
   "id": "73c66efa",
   "metadata": {},
   "source": [
    "## Setup"
   ]
  },
  {
   "cell_type": "code",
   "execution_count": 40,
   "id": "ce8f0347",
   "metadata": {},
   "outputs": [],
   "source": [
    "from typing import Optional, Iterator, Any\n",
    "\n",
    "from pprint import pprint\n",
    "import re\n",
    "import functools\n",
    "\n",
    "import apsw\n",
    "import apsw.ext\n",
    "import apsw.fts5\n",
    "import apsw.fts5aux\n",
    "import apsw.fts5query\n",
    "\n",
    "from execnb.nbio import read_nb\n",
    "from fastcore.all import *\n",
    "from pathlib import Path, PosixPath"
   ]
  },
  {
   "cell_type": "code",
   "execution_count": 41,
   "id": "d7b2d974",
   "metadata": {},
   "outputs": [
    {
     "name": "stdout",
     "output_type": "stream",
     "text": [
      "FTS5 available: True\n"
     ]
    }
   ],
   "source": [
    "print(\"FTS5 available:\", \"ENABLE_FTS5\" in apsw.compile_options)"
   ]
  },
  {
   "cell_type": "markdown",
   "id": "b690ce6e",
   "metadata": {},
   "source": [
    "## Create a Notebooks Database"
   ]
  },
  {
   "cell_type": "markdown",
   "id": "ed2c4827",
   "metadata": {},
   "source": [
    "Until now I haven't had a SQLite database for anything on this site. Let's create one."
   ]
  },
  {
   "cell_type": "code",
   "execution_count": 42,
   "id": "5b86d216",
   "metadata": {},
   "outputs": [
    {
     "data": {
      "text/plain": [
       "<apsw.Connection at 0x10b282110>"
      ]
     },
     "execution_count": 42,
     "metadata": {},
     "output_type": "execute_result"
    }
   ],
   "source": [
    "connection = apsw.Connection(\"notebooks.db\")\n",
    "connection"
   ]
  },
  {
   "cell_type": "markdown",
   "id": "185ed090",
   "metadata": {},
   "source": [
    "## Create and Populate Table `notebooks`"
   ]
  },
  {
   "cell_type": "code",
   "execution_count": 43,
   "id": "e670a2f9",
   "metadata": {},
   "outputs": [
    {
     "data": {
      "text/plain": [
       "(#38) [Path('2025-01-16-Cosine-Similarity-Breakdown-in-LaTeX.ipynb'),Path('2025-01-14-Constructing-SQLite-Tables-for-Notebooks-and-Search.ipynb'),Path('2025-01-13-SQLite-FTS5-Tokenizers-unicode61-and-ascii.ipynb'),Path('2025-01-12-A-Better-Notebook-Index-Page.ipynb'),Path('2025-01-11-NBClassic-Keyboard-Shortcuts-in-Command-and-Dual-Mode.ipynb'),Path('2025-01-10-Understanding-FastHTML-Routes-Requests-and-Redirects.ipynb'),Path('2025-01-09-Reading-and-Writing-Jupyter-Notebooks-With-Python.ipynb'),Path('2025-01-08-HTML-Title-Tag-in-FastHTML.ipynb'),Path('2025-01-07-Verifying-Bluesky-Domain-in-FastHTML.ipynb'),Path('2025-01-06-Understanding-FastHTML-Headers.ipynb'),Path('2025-01-05-SSH-Agent-to-Save-Passphrase-Typing.ipynb'),Path('2025-01-04-Claude-Artifacts-in-Notebooks.ipynb'),Path('2025-01-03-Using-zip.ipynb'),Path('2025-01-02-FastHTML-Piano-Part-3.ipynb'),Path('2025-01-02-FastHTML-Piano-Part-2.ipynb'),Path('2025-01-01-FastHTML-Piano-Part-1.ipynb'),Path('2025-01-01-Command-Substitution-in-Bash.ipynb'),Path('2024-12-31-Note-Box-FastTag.ipynb'),Path('2024-12-30-Images-In-Every-Way-In-Notebooks.ipynb'),Path('2024-12-29-Bash-in-Jupyter-Notebooks.ipynb')...]"
      ]
     },
     "execution_count": 43,
     "metadata": {},
     "output_type": "execute_result"
    }
   ],
   "source": [
    "nbs = L(Path(\".\").glob(\"*.ipynb\")).sorted(reverse=True)\n",
    "nbs"
   ]
  },
  {
   "cell_type": "markdown",
   "id": "575aba7c",
   "metadata": {},
   "source": [
    "All notebooks, sorted from newest to oldest."
   ]
  },
  {
   "cell_type": "code",
   "execution_count": 44,
   "id": "d2d5e9bb",
   "metadata": {},
   "outputs": [
    {
     "data": {
      "text/markdown": [
       "```json\n",
       "{ 'cell_type': 'markdown',\n",
       "  'id': 'e865206a',\n",
       "  'idx_': 0,\n",
       "  'metadata': {},\n",
       "  'source': '# Cosine Similarity Breakdown in LaTeX'}\n",
       "```"
      ],
      "text/plain": [
       "{'cell_type': 'markdown',\n",
       " 'id': 'e865206a',\n",
       " 'metadata': {},\n",
       " 'source': '# Cosine Similarity Breakdown in LaTeX',\n",
       " 'idx_': 0}"
      ]
     },
     "execution_count": 44,
     "metadata": {},
     "output_type": "execute_result"
    }
   ],
   "source": [
    "nb = read_nb(nbs[0])\n",
    "nb.cells[0]"
   ]
  },
  {
   "cell_type": "markdown",
   "id": "c447cc8a",
   "metadata": {},
   "source": [
    "A Markdown cell looks like this."
   ]
  },
  {
   "cell_type": "code",
   "execution_count": 45,
   "id": "15c212c0",
   "metadata": {},
   "outputs": [
    {
     "data": {
      "text/plain": [
       "<apsw.Cursor at 0x10a42e560>"
      ]
     },
     "execution_count": 45,
     "metadata": {},
     "output_type": "execute_result"
    }
   ],
   "source": [
    "connection.execute(\"\"\"CREATE TABLE IF NOT EXISTS notebooks (\n",
    "    id INTEGER PRIMARY KEY,\n",
    "    path TEXT NOT NULL,\n",
    "    markdown_content TEXT)\"\"\")"
   ]
  },
  {
   "cell_type": "markdown",
   "id": "c31d4c2b",
   "metadata": {},
   "source": [
    "We create a table to put notebooks' paths and Markdown content into. (At this point we skip code cells to make things simple.)"
   ]
  },
  {
   "cell_type": "code",
   "execution_count": 46,
   "id": "07300d82",
   "metadata": {},
   "outputs": [
    {
     "data": {
      "text/plain": [
       "(#18) [{'cell_type': 'markdown', 'id': 'e865206a', 'metadata': {}, 'source': '# Cosine Similarity Breakdown in LaTeX', 'idx_': 0},{'cell_type': 'markdown', 'id': '5dc1aea0', 'metadata': {}, 'source': 'A mathematical breakdown of cosine similarity, with copy-pastable LaTeX.', 'idx_': 1},{'cell_type': 'markdown', 'id': '1bbf957e', 'metadata': {}, 'source': '## Overview', 'idx_': 2},{'cell_type': 'markdown', 'id': 'faad9583', 'metadata': {}, 'source': \"After hearing so much about cosine similarity, I thought it was something extremely difficult to understand. It turns out it's just the similarity of 2 word vectors, calculated as the cosine of the angle between them.\\n\\nThe result ranges from -1 to 1, where:\\n\\n* 1 means the vectors point in the same direction (most similar)\\n* 0 means they're perpendicular (totally unrelated)\\n* -1 means they point in opposite directions (complete opposites)\\n\\nSimilarity is just about the angle. The vectors are typically normalized to make comparisons make more sense intuitively, and to avoid having to deal with magnitudes as well.\\n\\nNote: I'm reading that the range used with word vectors is usually [0,1] because word vectors typically are non-negative.\", 'idx_': 3},{'cell_type': 'markdown', 'id': 'f5b4b6e0', 'metadata': {}, 'source': '## The Cosine Similarity Formula', 'idx_': 4},{'cell_type': 'markdown', 'id': '11d974a5', 'metadata': {}, 'source': 'The cosine similarity formula in LaTeX:', 'idx_': 5},{'cell_type': 'markdown', 'id': '1932bca7', 'metadata': {}, 'source': '## Dot Product', 'idx_': 7},{'cell_type': 'markdown', 'id': '83e774a9', 'metadata': {}, 'source': \"If you're wondering why it looks so familiar, it's probably because you can get it by rewriting the definition of the dot product:\", 'idx_': 8},{'cell_type': 'markdown', 'id': '148fa3a6', 'metadata': {}, 'source': '## Expanding Dot Product Sum', 'idx_': 10},{'cell_type': 'markdown', 'id': 'dd419125', 'metadata': {}, 'source': 'In the cosine similarity formula, the numerator is the dot product **A** . **B**. Expanding that, you get the sum of all the vector components multiplied together:', 'idx_': 11},{'cell_type': 'markdown', 'id': 'eb3a082d', 'metadata': {}, 'source': '## Magnitude: Sqrt of Sum of Squares', 'idx_': 13},{'cell_type': 'markdown', 'id': 'ff564e70', 'metadata': {}, 'source': 'The magnitude ‖A‖ is the square root of the sum of the squares of its components:', 'idx_': 14},{'cell_type': 'markdown', 'id': '7badf992', 'metadata': {}, 'source': \"It's just the length of the vector.\", 'idx_': 16},{'cell_type': 'markdown', 'id': '7fbc3d12', 'metadata': {}, 'source': '## Multiplying Vector Magnitudes', 'idx_': 17},{'cell_type': 'markdown', 'id': '69241573', 'metadata': {}, 'source': 'In the cosine similarity formula, the denominator is multiplying magnitudes $\\\\|\\\\mathbf{A}\\\\| \\\\|\\\\mathbf{B}\\\\|$ together:', 'idx_': 18},{'cell_type': 'markdown', 'id': '5d0bc906', 'metadata': {}, 'source': '## Putting It All Together', 'idx_': 20},{'cell_type': 'markdown', 'id': '0c562278', 'metadata': {}, 'source': '## Summary', 'idx_': 22},{'cell_type': 'markdown', 'id': '1260a44f', 'metadata': {}, 'source': \"Cosine similarity measures how similar two vectors are by finding the cosine of the angle between them. \\n\\nThe math is not as bad as it looks: we're just comparing the directions vectors point in, normalized by their lengths.\", 'idx_': 23}]"
      ]
     },
     "execution_count": 46,
     "metadata": {},
     "output_type": "execute_result"
    }
   ],
   "source": [
    "def is_md_cell(c): return c.cell_type == 'markdown'\n",
    "md_cells = L(nb.cells).filter(is_md_cell)\n",
    "md_cells"
   ]
  },
  {
   "cell_type": "markdown",
   "id": "7a9bde33",
   "metadata": {},
   "source": [
    "A list of only Markdown cells from a notebook looks like this."
   ]
  },
  {
   "cell_type": "code",
   "execution_count": 47,
   "id": "1438ddb1",
   "metadata": {},
   "outputs": [
    {
     "data": {
      "text/plain": [
       "(#18) ['# Cosine Similarity Breakdown in LaTeX','A mathematical breakdown of cosine similarity, with copy-pastable LaTeX.','## Overview',\"After hearing so much about cosine similarity, I thought it was something extremely difficult to understand. It turns out it's just the similarity of 2 word vectors, calculated as the cosine of the angle between them.\\n\\nThe result ranges from -1 to 1, where:\\n\\n* 1 means the vectors point in the same direction (most similar)\\n* 0 means they're perpendicular (totally unrelated)\\n* -1 means they point in opposite directions (complete opposites)\\n\\nSimilarity is just about the angle. The vectors are typically normalized to make comparisons make more sense intuitively, and to avoid having to deal with magnitudes as well.\\n\\nNote: I'm reading that the range used with word vectors is usually [0,1] because word vectors typically are non-negative.\",'## The Cosine Similarity Formula','The cosine similarity formula in LaTeX:','## Dot Product',\"If you're wondering why it looks so familiar, it's probably because you can get it by rewriting the definition of the dot product:\",'## Expanding Dot Product Sum','In the cosine similarity formula, the numerator is the dot product **A** . **B**. Expanding that, you get the sum of all the vector components multiplied together:','## Magnitude: Sqrt of Sum of Squares','The magnitude ‖A‖ is the square root of the sum of the squares of its components:',\"It's just the length of the vector.\",'## Multiplying Vector Magnitudes','In the cosine similarity formula, the denominator is multiplying magnitudes $\\\\|\\\\mathbf{A}\\\\| \\\\|\\\\mathbf{B}\\\\|$ together:','## Putting It All Together','## Summary',\"Cosine similarity measures how similar two vectors are by finding the cosine of the angle between them. \\n\\nThe math is not as bad as it looks: we're just comparing the directions vectors point in, normalized by their lengths.\"]"
      ]
     },
     "execution_count": 47,
     "metadata": {},
     "output_type": "execute_result"
    }
   ],
   "source": [
    "def cell_source(c): return c.source\n",
    "md = md_cells.map(cell_source)\n",
    "md"
   ]
  },
  {
   "cell_type": "markdown",
   "id": "5e1ddcc7",
   "metadata": {},
   "source": [
    "Map the cells to just their Markdown source. For now we don't care about the rest."
   ]
  },
  {
   "cell_type": "code",
   "execution_count": 48,
   "id": "a95f29d3",
   "metadata": {},
   "outputs": [
    {
     "data": {
      "text/plain": [
       "\"# Cosine Similarity Breakdown in LaTeX\\nA mathematical breakdown of cosine similarity, with copy-pastable LaTeX.\\n## Overview\\nAfter hearing so much about cosine similarity, I thought it was something extremely difficult to understand. It turns out it's just the similarity of 2 word vectors, calculated as the cosine of the angle between them.\\n\\nThe result ranges from -1 to 1, where:\\n\\n* 1 means the vectors point in the same direction (most similar)\\n* 0 means they're perpendicular (totally unrelated)\\n* -1 means they point in opposite directions (complete opposites)\\n\\nSimilarity is just about the angle. The vectors are typically normalized to make comparisons make more sense intuitively, and to avoid having to deal with magnitudes as well.\\n\\nNote: I'm reading that the range used with word vectors is usually [0,1] because word vectors typically are non-negative.\\n## The Cosine Similarity Formula\\nThe cosine similarity formula in LaTeX:\\n## Dot Product\\nIf you're wondering why it looks so familiar, it's probably because you can get it by rewriting the definition of the dot product:\\n## Expanding Dot Product Sum\\nIn the cosine similarity formula, the numerator is the dot product **A** . **B**. Expanding that, you get the sum of all the vector components multiplied together:\\n## Magnitude: Sqrt of Sum of Squares\\nThe magnitude ‖A‖ is the square root of the sum of the squares of its components:\\nIt's just the length of the vector.\\n## Multiplying Vector Magnitudes\\nIn the cosine similarity formula, the denominator is multiplying magnitudes $\\\\|\\\\mathbf{A}\\\\| \\\\|\\\\mathbf{B}\\\\|$ together:\\n## Putting It All Together\\n## Summary\\nCosine similarity measures how similar two vectors are by finding the cosine of the angle between them. \\n\\nThe math is not as bad as it looks: we're just comparing the directions vectors point in, normalized by their lengths.\""
      ]
     },
     "execution_count": 48,
     "metadata": {},
     "output_type": "execute_result"
    }
   ],
   "source": [
    "def extract_markdown_content(nbpath):\n",
    "    \"\"\"Extract all markdown cell content from a notebook\"\"\"\n",
    "    nb = read_nb(nbpath)\n",
    "    md_cells = L(nb.cells).filter(is_md_cell)\n",
    "    return \"\\n\".join(md_cells.map(cell_source))\n",
    "extract_markdown_content(nbs[0])"
   ]
  },
  {
   "cell_type": "markdown",
   "id": "c22857bc",
   "metadata": {},
   "source": [
    "Join all the Markdown cells' content for a notebook together, separated by 1 new line between each pair of cells."
   ]
  },
  {
   "cell_type": "code",
   "execution_count": 49,
   "id": "a77e475d",
   "metadata": {},
   "outputs": [],
   "source": [
    "def populate_notebooks_table():\n",
    "    connection.execute(\"DELETE FROM notebooks\")\n",
    "    \n",
    "    for nb_path in nbs:\n",
    "        markdown_text = extract_markdown_content(nb_path)\n",
    "        connection.execute(\n",
    "            \"INSERT INTO notebooks (path, markdown_content) VALUES (?, ?)\",\n",
    "            (str(nb_path), markdown_text)\n",
    "        )\n",
    "populate_notebooks_table()"
   ]
  },
  {
   "cell_type": "code",
   "execution_count": 50,
   "id": "6b5b53b9",
   "metadata": {},
   "outputs": [
    {
     "data": {
      "text/plain": [
       "38"
      ]
     },
     "execution_count": 50,
     "metadata": {},
     "output_type": "execute_result"
    }
   ],
   "source": [
    "connection.execute(\"SELECT count(*) FROM notebooks\").get"
   ]
  },
  {
   "cell_type": "markdown",
   "id": "a91c5a6d",
   "metadata": {},
   "source": [
    "Now we have notebook paths and their contents in a SQLite table."
   ]
  },
  {
   "cell_type": "markdown",
   "id": "131547e7",
   "metadata": {},
   "source": [
    "## Create Search Table"
   ]
  },
  {
   "cell_type": "code",
   "execution_count": 59,
   "id": "2c15375e",
   "metadata": {},
   "outputs": [],
   "source": [
    "if not connection.table_exists(\"main\", \"search\"):\n",
    "    search_table = apsw.fts5.Table.create(\n",
    "        connection,\n",
    "        \"search\",\n",
    "        content=\"notebooks\",\n",
    "        columns=None,\n",
    "        generate_triggers=True,\n",
    "        tokenize=[\"unicode61\"])\n",
    "else:\n",
    "    search_table = apsw.fts5.Table(connection, \"search\")"
   ]
  },
  {
   "cell_type": "markdown",
   "id": "9dc5454e",
   "metadata": {},
   "source": [
    "Here we check if a table named `search` already exists in the `main` database of `connection`. If it doesn't exist, we create it.\n",
    "\n",
    "`search` is a virtual table pointing at the `notebooks` table. It doesn't actually store any data! It contains indexes on that table, as well as a table-like interface for searching it."
   ]
  },
  {
   "cell_type": "markdown",
   "id": "b3b966f2",
   "metadata": {},
   "source": [
    "## Check the Tables"
   ]
  },
  {
   "cell_type": "code",
   "execution_count": 60,
   "id": "caa1b414",
   "metadata": {},
   "outputs": [
    {
     "name": "stdout",
     "output_type": "stream",
     "text": [
      "quoted name \"main\".\"search\"\n"
     ]
    }
   ],
   "source": [
    "print(\"quoted name\", search_table.quoted_table_name)"
   ]
  },
  {
   "cell_type": "markdown",
   "id": "0ec84a76",
   "metadata": {},
   "source": [
    "This verifies that the database schema `main` and table name `search have been set up."
   ]
  },
  {
   "cell_type": "markdown",
   "id": "6cc1c4f0",
   "metadata": {},
   "source": [
    "The notebooks' content:"
   ]
  },
  {
   "cell_type": "code",
   "execution_count": 61,
   "id": "003c1855",
   "metadata": {
    "scrolled": true
   },
   "outputs": [
    {
     "name": "stdout",
     "output_type": "stream",
     "text": [
      "CREATE TABLE notebooks (\n",
      "    id INTEGER PRIMARY KEY,\n",
      "    path TEXT NOT NULL,\n",
      "    markdown_content TEXT)\n"
     ]
    }
   ],
   "source": [
    "print(connection.execute(\n",
    "        \"SELECT sql FROM sqlite_schema WHERE name='notebooks'\"\n",
    "    ).get)"
   ]
  },
  {
   "cell_type": "code",
   "execution_count": 62,
   "id": "84d4b622",
   "metadata": {},
   "outputs": [
    {
     "name": "stdout",
     "output_type": "stream",
     "text": [
      "FTS5TableStructure(name='search',\n",
      "                   columns=('id', 'path', 'markdown_content'),\n",
      "                   unindexed=set(),\n",
      "                   tokenize=('unicode61',),\n",
      "                   prefix=set(),\n",
      "                   content='notebooks',\n",
      "                   content_rowid='_ROWID_',\n",
      "                   contentless_delete=None,\n",
      "                   contentless_unindexed=None,\n",
      "                   columnsize=True,\n",
      "                   tokendata=False,\n",
      "                   locale=False,\n",
      "                   detail='full')\n"
     ]
    }
   ],
   "source": [
    "pprint(search_table.structure)"
   ]
  },
  {
   "cell_type": "code",
   "execution_count": 63,
   "id": "816cd086",
   "metadata": {},
   "outputs": [
    {
     "name": "stdout",
     "output_type": "stream",
     "text": [
      "search_table.config_rank()='bm25()'\n"
     ]
    }
   ],
   "source": [
    "print(f\"{search_table.config_rank()=}\")"
   ]
  },
  {
   "cell_type": "code",
   "execution_count": 66,
   "id": "10f8b098",
   "metadata": {},
   "outputs": [
    {
     "name": "stdout",
     "output_type": "stream",
     "text": [
      "search_table.row_count=38\n"
     ]
    }
   ],
   "source": [
    "print(f\"{search_table.row_count=}\")"
   ]
  },
  {
   "cell_type": "code",
   "execution_count": 65,
   "id": "a657754d",
   "metadata": {},
   "outputs": [
    {
     "name": "stdout",
     "output_type": "stream",
     "text": [
      "search_table.tokens_per_column=[38, 302, 10334]\n"
     ]
    }
   ],
   "source": [
    "print(f\"{search_table.tokens_per_column=}\")"
   ]
  },
  {
   "cell_type": "markdown",
   "id": "555a6c42",
   "metadata": {},
   "source": [
    "## Optional Cleanup"
   ]
  },
  {
   "cell_type": "markdown",
   "id": "c46627a6",
   "metadata": {},
   "source": [
    "At one point I had to run this to drop the search table, so I could recreate it with a different tokenizer:"
   ]
  },
  {
   "cell_type": "code",
   "execution_count": 20,
   "id": "7c8bac4d",
   "metadata": {},
   "outputs": [
    {
     "data": {
      "text/plain": [
       "<apsw.Cursor at 0x1093dfa00>"
      ]
     },
     "execution_count": 20,
     "metadata": {},
     "output_type": "execute_result"
    }
   ],
   "source": [
    "connection.execute(\"DROP TABLE IF EXISTS search\")"
   ]
  },
  {
   "cell_type": "markdown",
   "id": "89c63e9e",
   "metadata": {},
   "source": [
    "## What Next?"
   ]
  },
  {
   "cell_type": "markdown",
   "id": "a4df520a",
   "metadata": {},
   "source": [
    "To be continued..."
   ]
  }
 ],
 "metadata": {
  "kernelspec": {
   "display_name": "Python 3 (ipykernel)",
   "language": "python",
   "name": "python3"
  },
  "language_info": {
   "codemirror_mode": {
    "name": "ipython",
    "version": 3
   },
   "file_extension": ".py",
   "mimetype": "text/x-python",
   "name": "python",
   "nbconvert_exporter": "python",
   "pygments_lexer": "ipython3",
   "version": "3.12.8"
  }
 },
 "nbformat": 4,
 "nbformat_minor": 5
}
