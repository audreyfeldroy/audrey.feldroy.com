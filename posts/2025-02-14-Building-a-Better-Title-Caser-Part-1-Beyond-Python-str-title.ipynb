{
 "cells": [
  {
   "cell_type": "markdown",
   "id": "a4476f59",
   "metadata": {},
   "source": [
    "# Building a Better Title-Caser, Part 1: Beyond Python str.title"
   ]
  },
  {
   "cell_type": "markdown",
   "id": "b6cfdbf0",
   "metadata": {},
   "source": [
    "Title-casing text is one of those hard problems no one ever gets right, yet no one considers worthy enough to solve with AI. Here I experiment to see if I can improve upon the latest best solutions with a local Ollama modelfile and a solid prompt."
   ]
  },
  {
   "cell_type": "markdown",
   "id": "e5f0597b",
   "metadata": {},
   "source": [
    "## Setup"
   ]
  },
  {
   "cell_type": "code",
   "execution_count": 5,
   "id": "bdf98b1e",
   "metadata": {},
   "outputs": [],
   "source": [
    "import google.generativeai as genai\n",
    "import ollama\n",
    "from titlecase import titlecase"
   ]
  },
  {
   "cell_type": "markdown",
   "id": "72114ecd",
   "metadata": {},
   "source": [
    "## Built-In `title`"
   ]
  },
  {
   "cell_type": "markdown",
   "id": "0e1b6d25",
   "metadata": {},
   "source": [
    "I begin by seeing what `str.title` does. It's built into Python, so nothing needs to be installed. "
   ]
  },
  {
   "cell_type": "code",
   "execution_count": 6,
   "id": "13a39f2a",
   "metadata": {
    "scrolled": true
   },
   "outputs": [
    {
     "data": {
      "text/plain": [
       "'Hi'"
      ]
     },
     "execution_count": 6,
     "metadata": {},
     "output_type": "execute_result"
    }
   ],
   "source": [
    "\"hi\".title()"
   ]
  },
  {
   "cell_type": "markdown",
   "id": "08a823a9",
   "metadata": {},
   "source": [
    "## PyPI `titlecase`"
   ]
  },
  {
   "cell_type": "markdown",
   "id": "35f8a412",
   "metadata": {},
   "source": [
    "Now with `pip install titlecase`, I get this `titlecase` function:"
   ]
  },
  {
   "cell_type": "code",
   "execution_count": 7,
   "id": "a5a264a4",
   "metadata": {},
   "outputs": [
    {
     "data": {
      "text/plain": [
       "'Hi'"
      ]
     },
     "execution_count": 7,
     "metadata": {},
     "output_type": "execute_result"
    }
   ],
   "source": [
    "titlecase(\"hi\")"
   ]
  },
  {
   "cell_type": "markdown",
   "id": "e8f4fb9e",
   "metadata": {},
   "source": [
    "## Simple Multi-Word Ccomparison"
   ]
  },
  {
   "cell_type": "markdown",
   "id": "3a6f86e7",
   "metadata": {},
   "source": [
    "Both of these functions should do well with a simple test case:"
   ]
  },
  {
   "cell_type": "code",
   "execution_count": 8,
   "id": "55f21e8e",
   "metadata": {},
   "outputs": [
    {
     "name": "stdout",
     "output_type": "stream",
     "text": [
      "title():    The Quick Brown Fox\n",
      "titlecase(): The Quick Brown Fox\n"
     ]
    }
   ],
   "source": [
    "text = \"the quick brown fox\"\n",
    "print(f\"title():    {text.title()}\")\n",
    "print(f\"titlecase(): {titlecase(text)}\")"
   ]
  },
  {
   "cell_type": "markdown",
   "id": "ca4f1a6a",
   "metadata": {},
   "source": [
    "## With Apostrophes"
   ]
  },
  {
   "cell_type": "code",
   "execution_count": 9,
   "id": "15cc8f40",
   "metadata": {},
   "outputs": [
    {
     "name": "stdout",
     "output_type": "stream",
     "text": [
      "\n",
      "title():    It'S A Beautiful Day In Mr. Rogers' Neighborhood\n",
      "titlecase(): It's a Beautiful Day in Mr. Rogers' Neighborhood\n"
     ]
    }
   ],
   "source": [
    "## With apostrophes\n",
    "text2 = \"it's a beautiful day in mr. rogers' neighborhood\"\n",
    "print(f\"\\ntitle():    {text2.title()}\")\n",
    "print(f\"titlecase(): {titlecase(text2)}\")"
   ]
  },
  {
   "cell_type": "markdown",
   "id": "1fa38f77",
   "metadata": {},
   "source": [
    "Here `titlecase` lowercased the articles correctly."
   ]
  },
  {
   "cell_type": "markdown",
   "id": "aa4a291c",
   "metadata": {},
   "source": [
    "## Modern Terms With Unconventional Capitalization "
   ]
  },
  {
   "cell_type": "code",
   "execution_count": 10,
   "id": "a4563074",
   "metadata": {
    "scrolled": true
   },
   "outputs": [
    {
     "name": "stdout",
     "output_type": "stream",
     "text": [
      "\n",
      "title():    Iphone And E-Mail Tips For Pdfs\n",
      "titlecase(): Iphone and E-Mail Tips for PDFS\n"
     ]
    }
   ],
   "source": [
    "text3 = \"iphone and e-mail tips for pdfs\"\n",
    "print(f\"\\ntitle():    {text3.title()}\")\n",
    "print(f\"titlecase(): {titlecase(text3)}\")"
   ]
  },
  {
   "cell_type": "markdown",
   "id": "1c285f7f",
   "metadata": {},
   "source": [
    "My use case would be to title case voice-dictated text. Here there's something tricky because E-Mail is one of those terms where the hyphenation is debatable and undergoing change. Personally, I prefer email without the hyphen. It's interesting how I voice-dicated this paragraph (Wispr Flow) and it ended up both ways! \n",
    "\n",
    "My preference for a return value here is `iPhone and Email Tips for PDFs`. In situations where a hyphenated word is optionally unhyphenated, I'd like the title-casing function to unhyphenate and then title-case it. If that's not possible, my backup preference is `iPhone and E-Mail Tips for PDFs`."
   ]
  },
  {
   "cell_type": "markdown",
   "id": "e79dee50",
   "metadata": {},
   "source": [
    "## Using a Hosted LLM as a Title-Caser"
   ]
  },
  {
   "cell_type": "code",
   "execution_count": 11,
   "id": "1b6c9112",
   "metadata": {},
   "outputs": [],
   "source": [
    "def tc_gemini(s):\n",
    "    model = genai.GenerativeModel('gemini-1.5-flash-latest')\n",
    "    resp = model.generate_content(f\"Convert '{s}' to title case, please. Return ONLY the title-cased string.\", safety_settings=[], request_options={\"timeout\": 1000})\n",
    "    try:\n",
    "        return resp.text\n",
    "    except Exception as ex:\n",
    "        raise ex"
   ]
  },
  {
   "cell_type": "code",
   "execution_count": 12,
   "id": "fcdfd365",
   "metadata": {},
   "outputs": [
    {
     "data": {
      "text/plain": [
       "'iPhone and E-mail Tips for PDFs\\n'"
      ]
     },
     "execution_count": 12,
     "metadata": {},
     "output_type": "execute_result"
    }
   ],
   "source": [
    "tc_gemini(text3)"
   ]
  },
  {
   "cell_type": "markdown",
   "id": "75e8e0ae",
   "metadata": {},
   "source": [
    "Gemini 1.5 Flash works decently as a title caster with this simple prompt. I noticed though that the mail and email isn't capitalized. That is one that people find confusing. The rule is when a word is hyphenated, each part of the hyphenated word should be capitalized. "
   ]
  },
  {
   "cell_type": "markdown",
   "id": "caccc3ec",
   "metadata": {},
   "source": [
    "This feels a bit wasteful though with a lot of API calls to a service that will likely cost money in the future. I suppose you'd want to batch them if you went this way. I think it would be a lot nicer though to use a small local LLM for simple tasks like this. "
   ]
  },
  {
   "cell_type": "markdown",
   "id": "7a40f921",
   "metadata": {},
   "source": [
    "## Use Small Local LLMs as Title-Casers"
   ]
  },
  {
   "cell_type": "code",
   "execution_count": 14,
   "id": "926ec2b5",
   "metadata": {},
   "outputs": [],
   "source": [
    "def tc_ollama(s, model='mistral'):\n",
    "    # Call ollama with a simple title-case prompt\n",
    "    response = ollama.chat(model=model, messages=[{\n",
    "        'role': 'user',\n",
    "        'content': f\"Convert '{s}' to title case. Return ONLY the title-cased string with no explanation or quotes.\"\n",
    "    }])\n",
    "    return response['message']['content'].strip()"
   ]
  },
  {
   "cell_type": "code",
   "execution_count": 15,
   "id": "ac12efb3",
   "metadata": {},
   "outputs": [
    {
     "name": "stderr",
     "output_type": "stream",
     "text": [
      "[2025-02-16 07:31:46 - httpx:1025 - INFO] HTTP Request: POST http://127.0.0.1:11434/api/chat \"HTTP/1.1 200 OK\"\n"
     ]
    },
    {
     "name": "stdout",
     "output_type": "stream",
     "text": [
      "iPhone and Email Tips for PDFs\n"
     ]
    }
   ],
   "source": [
    "print(tc_ollama(text3))"
   ]
  },
  {
   "cell_type": "markdown",
   "id": "ab2b63e4",
   "metadata": {},
   "source": [
    "Mistral is quite good. Let's try others:"
   ]
  },
  {
   "cell_type": "code",
   "execution_count": 16,
   "id": "1466b7fe",
   "metadata": {},
   "outputs": [
    {
     "name": "stdout",
     "output_type": "stream",
     "text": [
      "\n",
      "Comparing models:\n"
     ]
    },
    {
     "name": "stderr",
     "output_type": "stream",
     "text": [
      "[2025-02-16 07:32:14 - httpx:1025 - INFO] HTTP Request: POST http://127.0.0.1:11434/api/chat \"HTTP/1.1 200 OK\"\n"
     ]
    },
    {
     "name": "stdout",
     "output_type": "stream",
     "text": [
      "llama3.2  : Iphone And E-Mail Tips For PDFs\n"
     ]
    },
    {
     "name": "stderr",
     "output_type": "stream",
     "text": [
      "[2025-02-16 07:32:23 - httpx:1025 - INFO] HTTP Request: POST http://127.0.0.1:11434/api/chat \"HTTP/1.1 200 OK\"\n"
     ]
    },
    {
     "name": "stdout",
     "output_type": "stream",
     "text": [
      "tinyllama : \"IPHONE AND EMAIL TIPS FOR PDFS\"\n"
     ]
    },
    {
     "name": "stderr",
     "output_type": "stream",
     "text": [
      "[2025-02-16 07:33:41 - httpx:1025 - INFO] HTTP Request: POST http://127.0.0.1:11434/api/chat \"HTTP/1.1 200 OK\"\n"
     ]
    },
    {
     "name": "stdout",
     "output_type": "stream",
     "text": [
      "deepseek-r1:7b: <think>\n",
      "Okay, so I need to convert \"ipone and e-mail tips for pdfs\" into title case. Hmm, first, what's title case? From what I remember, it's when each major word in a sentence is capitalized. So every time there's a new word that starts with a letter, that letter should be uppercase.\n",
      "\n",
      "Let me break down the original string: \"ipone and e-mail tips for pdfs\". Wait, let's make sure to split this correctly into words because sometimes it's easy to miscount or miss the spaces. I think the correct version is \"iPhone and E-Mail Tips for PDFs\". \n",
      "\n",
      "Wait a second, no. The user wrote \"ipone\" but maybe that was a typo? iPhone should be \"iPhone\", right? So \"ipone\" might actually be incorrect. But in the given string, it's written as \"ipone and e-mail tips for pdfs\". Maybe they meant to say \"iphone\", so I'll proceed with that.\n",
      "\n",
      "So the original words are: \"ipone\", \"and\", \"e-mail\", \"tips\", \"for\", \"pdfs\".\n",
      "\n",
      "Now applying title case step by step:\n",
      "\n",
      "1. The first word is \"ipone\" – in title case, it should be \"iPhone\".\n",
      "2. Next word is \"and\" – already a conjunction, so it stays lowercase? Wait no, actually, each major word should have the first letter capitalized regardless of position. But \"and\" isn't a major word like \"a\", \"an\", etc., but in standard title case, all words are capitalized except for articles and prepositions which are lowercase. Hmm, I might be overcomplicating.\n",
      "\n",
      "Wait, perhaps it's better to think that each word starts with a capital letter regardless of its position unless it's an article or conjunction. But the user just asked for the string converted to title case without any explanation. So maybe \"and\" should stay as is? Or does it need to be capitalized?\n",
      "\n",
      "Actually, in some style guides, all words except the first are capitalized if they start a new clause, but that might complicate things. Maybe I'm overthinking this.\n",
      "\n",
      "So perhaps the user just wants each word with its first letter capitalized, regardless of whether it's an article or not. So \"iPhone\" becomes \"iPhone\", then \"and\" would be \"And\", \"e-mail\" becomes \"E-Mail\"? Wait no, usually email is in lowercase unless it starts a sentence. But perhaps for this task, just capitalizing the first letter.\n",
      "\n",
      "But looking back at examples, when people title case sentences, they capitalize each word that begins with a capital letter in the original. So maybe \"ipone and e-mail tips for pdfs\" becomes \"iPhone And E-Mail Tips For PDFs\".\n",
      "\n",
      "Wait, but in English, the correct form is \"E-mail\", not \"E-Mail\". But perhaps the user meant to write it as an acronym or something else. Hmm.\n",
      "\n",
      "Alternatively, maybe they just want each word with its first letter capitalized without changing the structure of the sentence. So let me try that:\n",
      "\n",
      "Original words: \"ipone and e-mail tips for pdfs\"\n",
      "After capitalizing each word's first letter: \"iPhone And E-Mail Tips For PdF\"\n",
      "\n",
      "Wait no, in the query, it's \"pdfs\", which should be lowercase unless it's a proper noun. So perhaps the correct title cased string would be \"iPhone And E-Mail Tips For PDFs\".\n",
      "\n",
      "But wait, maybe I'm overcomplicating. The user just wants each word to have its first letter capitalized without changing anything else. So let me do that step by step.\n",
      "\n",
      "- \"ipone\" becomes \"iPhone\"\n",
      "- \"and\" becomes \"And\"\n",
      "- \"e-mail\" becomes \"E-Mail\"\n",
      "- \"tips\" becomes \"Tips\"\n",
      "- \"for\" becomes \"For\"\n",
      "- \"pdfs\" becomes \"PDFs\"\n",
      "\n",
      "So combining them all together: \"iPhone And E-Mail Tips For PDFs\".\n",
      "\n",
      "But I'm not sure if the user wants \"E-Mail\" or just \"E_mail\". But in the example response, it's written as \"E_Mail Tips for PdFs\", so maybe they want each word capitalized without changing the structure of the words beyond that.\n",
      "\n",
      "Wait no, looking at the initial example provided by me: I wrote \"iPhone And E-Mail Tips For PDFs\" but then changed my mind to \"iPhone And E-Mail Tips For PDFs\". Hmm, perhaps in this context, it's better to use \"E-Mail\" as per standard formatting. But since the user used an underscore initially, maybe they prefer that.\n",
      "\n",
      "Alternatively, perhaps I should follow the exact structure without changing punctuation unless necessary. So keeping \"e-mail\" as is but capitalizing the first letter.\n",
      "\n",
      "Wait no, in title case, each major word's first letter is capitalized. So \"E-mail\" would be correct, not \"E_Mail\". But if the user wrote it with an underscore, maybe they intended to write \"E-Mail\", so perhaps I should just capitalize that as well.\n",
      "\n",
      "But this might complicate things. Maybe for simplicity, since the user provided a specific example response where \"E_Mail\" and \"PdFs\", I can assume they want each part capitalized without considering standard punctuation rules unless instructed otherwise.\n",
      "\n",
      "So in summary, converting each word to title case would involve capitalizing the first letter of each word:\n",
      "\n",
      "- ipone → iPhone\n",
      "- and → And\n",
      "- e-mail → E-Mail (assuming they wanted it with an underscore)\n",
      "- tips → Tips\n",
      "- for → For\n",
      "- pdfs → PDFs\n",
      "\n",
      "So putting them together: \"iPhone And E_Mail Tips For PDFs\".\n",
      "\n",
      "Wait, but in the example I thought of earlier, I wrote it as \"iPhone And E-Mail Tips For PDFs\". So which one is correct? I think in this case, since the user's instruction was to convert without explanation or quotes, and they provided an example with underscores, perhaps the correct approach is to follow their example.\n",
      "\n",
      "In any case, I'll go with \"iPhone And E-Mail Tips for PDFs\", but given that the initial string didn't have spaces around \"for\" and \"pdfs\", maybe it's better without the space. Wait no, in the original query, it's \"ipone and e-mail tips for pdfs\" so when converted to title case with proper spacing, it should be \"iPhone And E-Mail Tips For PDFs\".\n",
      "\n",
      "But perhaps I'm overcomplicating again. The user just wants each word with its first letter capitalized without any further changes.\n",
      "</think>\n",
      "\n",
      "iPhone And E-Mail Tips For PDFs\n"
     ]
    },
    {
     "name": "stderr",
     "output_type": "stream",
     "text": [
      "[2025-02-16 07:35:25 - httpx:1025 - INFO] HTTP Request: POST http://127.0.0.1:11434/api/chat \"HTTP/1.1 200 OK\"\n"
     ]
    },
    {
     "name": "stdout",
     "output_type": "stream",
     "text": [
      "deepseek-coder:33b: Here is a Python solution that uses built in python methods to convert a sentence into title case.\n",
      "\n",
      "```python\n",
      "def convert_to_titlecase(sentence):\n",
      "    return sentence.title()\n",
      "\n",
      "print(convert_to_titlecase('iphone and e-mail tips for pdfs'))\n",
      "```\n",
      "When you run this code, it will print: `'Iphone And E-Mail Tips For Pdfs'`\n"
     ]
    },
    {
     "name": "stderr",
     "output_type": "stream",
     "text": [
      "[2025-02-16 07:35:28 - httpx:1025 - INFO] HTTP Request: POST http://127.0.0.1:11434/api/chat \"HTTP/1.1 200 OK\"\n"
     ]
    },
    {
     "name": "stdout",
     "output_type": "stream",
     "text": [
      "qwen2.5:3b: Iphone And Email Tips For Pdfs\n"
     ]
    }
   ],
   "source": [
    "# Let's try a few different models to compare\n",
    "models = ['llama3.2', 'tinyllama', 'deepseek-r1:7b', 'deepseek-coder:33b', 'qwen2.5:3b']\n",
    "print(\"\\nComparing models:\")\n",
    "for model in models:\n",
    "    try:\n",
    "        print(f\"{model:10}: {tc_ollama(text3, model)}\")\n",
    "    except:\n",
    "        print(f\"{model:10}: Failed\")"
   ]
  }
 ],
 "metadata": {
  "kernelspec": {
   "display_name": "Python 3 (ipykernel)",
   "language": "python",
   "name": "python3"
  },
  "language_info": {
   "codemirror_mode": {
    "name": "ipython",
    "version": 3
   },
   "file_extension": ".py",
   "mimetype": "text/x-python",
   "name": "python",
   "nbconvert_exporter": "python",
   "pygments_lexer": "ipython3",
   "version": "3.12.8"
  }
 },
 "nbformat": 4,
 "nbformat_minor": 5
}
