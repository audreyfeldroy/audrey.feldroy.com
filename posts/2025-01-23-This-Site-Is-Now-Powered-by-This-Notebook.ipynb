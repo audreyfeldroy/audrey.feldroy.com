{
 "cells": [
  {
   "cell_type": "markdown",
   "id": "d7cd2e84",
   "metadata": {},
   "source": [
    "# This Site Is Now Powered by This Notebook"
   ]
  },
  {
   "cell_type": "markdown",
   "id": "8227a780",
   "metadata": {},
   "source": [
    "Here in this Jupyter notebook I rewrite audrey.feldroy.com and use nb_export to export it as my new main.py for arg-blog-fasthtml."
   ]
  },
  {
   "cell_type": "code",
   "execution_count": 100,
   "id": "057b1fd7",
   "metadata": {},
   "outputs": [],
   "source": [
    "#| default_exp main"
   ]
  },
  {
   "cell_type": "code",
   "execution_count": 101,
   "id": "ee4096bf",
   "metadata": {},
   "outputs": [],
   "source": [
    "#| export\n",
    "from datetime import datetime\n",
    "from execnb.nbio import read_nb\n",
    "from nb2fasthtml.core import render_code_output\n",
    "from fasthtml.common import *\n",
    "from fasthtml.jupyter import *\n",
    "from IPython.display import display, HTML\n",
    "from monsterui import franken\n",
    "from monsterui.all import Theme\n",
    "import mistletoe\n",
    "import pygments\n",
    "from pygments import highlight\n",
    "from pygments.lexers import PythonLexer\n",
    "from pygments.formatters import HtmlFormatter"
   ]
  },
  {
   "cell_type": "code",
   "execution_count": 102,
   "id": "2a9025d9",
   "metadata": {},
   "outputs": [],
   "source": [
    "tags = [\"Python\", \"Jupyter\"]"
   ]
  },
  {
   "cell_type": "markdown",
   "id": "dc8a61b0",
   "metadata": {},
   "source": [
    "## Background"
   ]
  },
  {
   "cell_type": "markdown",
   "id": "87c4f371",
   "metadata": {},
   "source": [
    "Before this notebook, the code for my blog was a main.py that I maintained by editing it in VS Code. The index page and notebooks were rendered without MonsterUI. I wanted to keep it minimal because sometimes I do crazy CSS experiments.\n",
    "\n",
    "Yesterday in [Customizing FastHTML Headers From Notebook Contents](https://audrey.feldroy.com/nbs/2025-01-22-Customizing-FastHTML-Headers-From-Notebook-Contents) I discovered that different routes can have different HTML headers thanks to `_xt_cts`. I then modified my notebook detail view to include MonsterUI headers only when I tag the notebook with \"MonsterUI\".\n",
    "\n",
    "Today I was inspired by [Solve It With Code](https://solveit.fast.ai/) Lesson 11 to try rewriting more of my blog in MonsterUI. "
   ]
  },
  {
   "cell_type": "markdown",
   "id": "999e1fdd",
   "metadata": {},
   "source": [
    "## Setup"
   ]
  },
  {
   "cell_type": "code",
   "execution_count": 103,
   "id": "6783623b",
   "metadata": {},
   "outputs": [],
   "source": [
    "#| export\n",
    "app,rt = fast_app(pico=False)"
   ]
  },
  {
   "cell_type": "code",
   "execution_count": 104,
   "id": "c0fef655",
   "metadata": {},
   "outputs": [
    {
     "data": {
      "text/html": [
       "\n",
       "<script>\n",
       "document.body.addEventListener('htmx:configRequest', (event) => {\n",
       "    if(event.detail.path.includes('://')) return;\n",
       "    htmx.config.selfRequestsOnly=false;\n",
       "    event.detail.path = `${location.protocol}//${location.hostname}:8000${event.detail.path}`;\n",
       "});\n",
       "</script>"
      ],
      "text/plain": [
       "<IPython.core.display.HTML object>"
      ]
     },
     "metadata": {},
     "output_type": "display_data"
    }
   ],
   "source": [
    "server = JupyUvi(app)"
   ]
  },
  {
   "cell_type": "markdown",
   "id": "bfad15d5",
   "metadata": {},
   "source": [
    "## Notebook Index: Cards"
   ]
  },
  {
   "cell_type": "code",
   "execution_count": 105,
   "id": "84223562",
   "metadata": {},
   "outputs": [],
   "source": [
    "def NBCard(t,d):\n",
    "    return franken.Card(d, header=franken.H3(t))"
   ]
  },
  {
   "cell_type": "code",
   "execution_count": 106,
   "id": "013c193e",
   "metadata": {},
   "outputs": [
    {
     "data": {
      "text/markdown": [
       "```html\n",
       "<div class=\"uk-card \">\n",
       "  <div class=\"uk-card-header \">\n",
       "    <h3 class=\"uk-h3 \">First Post</h3>\n",
       "  </div>\n",
       "  <div class=\"uk-card-body space-y-6\">This is a description of what my post is about</div>\n",
       "</div>\n",
       "\n",
       "```"
      ],
      "text/plain": [
       "div((div((h3(('First Post',),{'class': 'uk-h3 '}),),{'class': 'uk-card-header '}), div(('This is a description of what my post is about',),{'class': 'uk-card-body space-y-6'})),{'class': 'uk-card '})"
      ]
     },
     "execution_count": 106,
     "metadata": {},
     "output_type": "execute_result"
    }
   ],
   "source": [
    "NBCard(\"First Post\", \"This is a description of what my post is about\")"
   ]
  },
  {
   "cell_type": "code",
   "execution_count": 107,
   "id": "fa7ca786",
   "metadata": {
    "scrolled": true
   },
   "outputs": [
    {
     "data": {
      "text/html": [
       "<div class=\"uk-card \">\n",
       "  <div class=\"uk-card-header \">\n",
       "    <h3 class=\"uk-h3 \">First Post</h3>\n",
       "  </div>\n",
       "  <div class=\"uk-card-body space-y-6\">This is a description of what my post is about</div>\n",
       "</div>\n",
       "<script>if (window.htmx) htmx.process(document.body)</script>"
      ],
      "text/plain": [
       "<IPython.core.display.HTML object>"
      ]
     },
     "metadata": {},
     "output_type": "display_data"
    }
   ],
   "source": [
    "show(NBCard(\"First Post\", \"This is a description of what my post is about\"))"
   ]
  },
  {
   "cell_type": "code",
   "execution_count": 153,
   "id": "3b9600a9",
   "metadata": {},
   "outputs": [],
   "source": [
    "#| export\n",
    "def get_nb_paths(): return L(sorted(Path().glob(\"nbs/*.ipynb\"), reverse=True))"
   ]
  },
  {
   "cell_type": "markdown",
   "id": "844a5fb5",
   "metadata": {},
   "source": [
    "Note: change to `glob(\"*.ipynb\")` to run this from the notebook"
   ]
  },
  {
   "cell_type": "code",
   "execution_count": 154,
   "id": "37b11d59",
   "metadata": {
    "scrolled": true
   },
   "outputs": [
    {
     "data": {
      "text/plain": [
       "(#0) []"
      ]
     },
     "execution_count": 154,
     "metadata": {},
     "output_type": "execute_result"
    }
   ],
   "source": [
    "nb_paths = get_nb_paths()\n",
    "nb_paths"
   ]
  },
  {
   "cell_type": "code",
   "execution_count": 110,
   "id": "adf5aff7",
   "metadata": {},
   "outputs": [
    {
     "data": {
      "text/plain": [
       "'Using My Blog to Rewrite Itself'"
      ]
     },
     "execution_count": 110,
     "metadata": {},
     "output_type": "execute_result"
    }
   ],
   "source": [
    "read_nb(nb_paths[0]).cells[0].source.lstrip(\"# \")"
   ]
  },
  {
   "cell_type": "markdown",
   "id": "e59915e0",
   "metadata": {},
   "source": [
    "This is the title of the first notebook."
   ]
  },
  {
   "cell_type": "code",
   "execution_count": 111,
   "id": "013da345",
   "metadata": {},
   "outputs": [],
   "source": [
    "#| export\n",
    "def get_title_and_desc(fpath):\n",
    "    nb = read_nb(fpath)\n",
    "    title = nb.cells[0].source.lstrip(\"# \")\n",
    "    desc = nb.cells[1].source\n",
    "    return title,desc"
   ]
  },
  {
   "cell_type": "code",
   "execution_count": 112,
   "id": "932bdc46",
   "metadata": {},
   "outputs": [
    {
     "data": {
      "text/plain": [
       "('Using My Blog to Rewrite Itself',\n",
       " 'Here I use my blog made of Jupyter notebooks to rewrite itself.')"
      ]
     },
     "execution_count": 112,
     "metadata": {},
     "output_type": "execute_result"
    }
   ],
   "source": [
    "get_title_and_desc(nb_paths[0])"
   ]
  },
  {
   "cell_type": "code",
   "execution_count": 113,
   "id": "73020daf",
   "metadata": {},
   "outputs": [
    {
     "data": {
      "text/html": [
       "<div class=\"uk-card \">\n",
       "  <div class=\"uk-card-header \">\n",
       "    <h3 class=\"uk-h3 \">Using My Blog to Rewrite Itself</h3>\n",
       "  </div>\n",
       "  <div class=\"uk-card-body space-y-6\">Here I use my blog made of Jupyter notebooks to rewrite itself.</div>\n",
       "</div>\n",
       "<script>if (window.htmx) htmx.process(document.body)</script>"
      ],
      "text/plain": [
       "<IPython.core.display.HTML object>"
      ]
     },
     "metadata": {},
     "output_type": "display_data"
    }
   ],
   "source": [
    "show(NBCard(*get_title_and_desc(nb_paths[0])))"
   ]
  },
  {
   "cell_type": "code",
   "execution_count": 114,
   "id": "1b921e4c",
   "metadata": {},
   "outputs": [],
   "source": [
    "def mk_nbcard_from_nb_path(nb_path):\n",
    "    return NBCard(*get_title_and_desc(nb_path))"
   ]
  },
  {
   "cell_type": "code",
   "execution_count": 115,
   "id": "62e103d9",
   "metadata": {},
   "outputs": [
    {
     "data": {
      "text/markdown": [
       "```html\n",
       "<div class=\"uk-card \">\n",
       "  <div class=\"uk-card-header \">\n",
       "    <h3 class=\"uk-h3 \">Using My Blog to Rewrite Itself</h3>\n",
       "  </div>\n",
       "  <div class=\"uk-card-body space-y-6\">Here I use my blog made of Jupyter notebooks to rewrite itself.</div>\n",
       "</div>\n",
       "\n",
       "```"
      ],
      "text/plain": [
       "div((div((h3(('Using My Blog to Rewrite Itself',),{'class': 'uk-h3 '}),),{'class': 'uk-card-header '}), div(('Here I use my blog made of Jupyter notebooks to rewrite itself.',),{'class': 'uk-card-body space-y-6'})),{'class': 'uk-card '})"
      ]
     },
     "execution_count": 115,
     "metadata": {},
     "output_type": "execute_result"
    }
   ],
   "source": [
    "mk_nbcard_from_nb_path(nb_paths[0])"
   ]
  },
  {
   "cell_type": "code",
   "execution_count": 116,
   "id": "1c14ada6",
   "metadata": {
    "scrolled": true
   },
   "outputs": [
    {
     "data": {
      "text/plain": [
       "(#2) [div((div((h3(('Using My Blog to Rewrite Itself',),{'class': 'uk-h3 '}),),{'class': 'uk-card-header '}), div(('Here I use my blog made of Jupyter notebooks to rewrite itself.',),{'class': 'uk-card-body space-y-6'})),{'class': 'uk-card '}),div((div((h3(('Troubleshooting MonsterUI on This Site',),{'class': 'uk-h3 '}),),{'class': 'uk-card-header '}), div((\"My first MonsterUI notebook isn't rendering correctly. Here I debug it.\",),{'class': 'uk-card-body space-y-6'})),{'class': 'uk-card '})]"
      ]
     },
     "execution_count": 116,
     "metadata": {},
     "output_type": "execute_result"
    }
   ],
   "source": [
    "nb_paths.map(mk_nbcard_from_nb_path)[:2]"
   ]
  },
  {
   "cell_type": "code",
   "execution_count": 117,
   "id": "743615e3",
   "metadata": {},
   "outputs": [
    {
     "data": {
      "text/html": [
       "<div class=\"uk-card \">\n",
       "  <div class=\"uk-card-header \">\n",
       "    <h3 class=\"uk-h3 \">Using My Blog to Rewrite Itself</h3>\n",
       "  </div>\n",
       "  <div class=\"uk-card-body space-y-6\">Here I use my blog made of Jupyter notebooks to rewrite itself.</div>\n",
       "</div>\n",
       "<div class=\"uk-card \">\n",
       "  <div class=\"uk-card-header \">\n",
       "    <h3 class=\"uk-h3 \">Troubleshooting MonsterUI on This Site</h3>\n",
       "  </div>\n",
       "  <div class=\"uk-card-body space-y-6\">My first MonsterUI notebook isn&#x27;t rendering correctly. Here I debug it.</div>\n",
       "</div>\n",
       "<script>if (window.htmx) htmx.process(document.body)</script>"
      ],
      "text/plain": [
       "<IPython.core.display.HTML object>"
      ]
     },
     "metadata": {},
     "output_type": "display_data"
    }
   ],
   "source": [
    "show(*nb_paths.map(mk_nbcard_from_nb_path)[:2])"
   ]
  },
  {
   "cell_type": "markdown",
   "id": "90b24374",
   "metadata": {},
   "source": [
    "## Notebook Index: Add Dates to Cards"
   ]
  },
  {
   "cell_type": "code",
   "execution_count": 155,
   "id": "92dd2812",
   "metadata": {},
   "outputs": [],
   "source": [
    "#| export\n",
    "def get_date_from_iso8601_prefix(fname):\n",
    "    \"Gets date from first 10 chars YYYY-MM-DD of `fname`, where `fname` is like `2025-01-12-Get-Date-From-This.whatever\"\n",
    "    try:\n",
    "        return datetime.fromisoformat(str(fname)[4:14])\n",
    "    except ValueError: return None"
   ]
  },
  {
   "cell_type": "code",
   "execution_count": 119,
   "id": "3a7e33aa",
   "metadata": {},
   "outputs": [
    {
     "data": {
      "text/plain": [
       "Path('2025-01-23-Using-My-Blog-to-Rewrite-Itself.ipynb')"
      ]
     },
     "execution_count": 119,
     "metadata": {},
     "output_type": "execute_result"
    }
   ],
   "source": [
    "nb_paths[0]"
   ]
  },
  {
   "cell_type": "code",
   "execution_count": 120,
   "id": "5a617c6e",
   "metadata": {},
   "outputs": [],
   "source": [
    "date = get_date_from_iso8601_prefix(nb_paths[0])"
   ]
  },
  {
   "cell_type": "code",
   "execution_count": 121,
   "id": "258381a8",
   "metadata": {},
   "outputs": [
    {
     "data": {
      "text/markdown": [
       "```html\n",
       "<div style=\"font-size: 0.875rem;color:#666;\">Thu, Jan 23, 2025</div>\n",
       "\n",
       "```"
      ],
      "text/plain": [
       "div(('Thu, Jan 23, 2025',),{'style': 'font-size: 0.875rem;color:#666;'})"
      ]
     },
     "execution_count": 121,
     "metadata": {},
     "output_type": "execute_result"
    }
   ],
   "source": [
    "Div(f\"{date:%a, %b %-d, %Y}\", style=\"font-size: 0.875rem;color:#666;\")"
   ]
  },
  {
   "cell_type": "code",
   "execution_count": 122,
   "id": "6f30d444",
   "metadata": {},
   "outputs": [
    {
     "data": {
      "text/markdown": [
       "```html\n",
       "<p class=\"uk-text-small uk-text-muted\">Thu, Jan 23, 2025</p>\n",
       "\n",
       "```"
      ],
      "text/plain": [
       "p(('Thu, Jan 23, 2025',),{'class': 'uk-text-small uk-text-muted'})"
      ]
     },
     "execution_count": 122,
     "metadata": {},
     "output_type": "execute_result"
    }
   ],
   "source": [
    "franken.PSmall(f\"{date:%a, %b %-d, %Y}\", cls=\"uk-text-muted\")"
   ]
  },
  {
   "cell_type": "code",
   "execution_count": 123,
   "id": "6506e7f4",
   "metadata": {},
   "outputs": [],
   "source": [
    "def NBCard(t,d):\n",
    "    return franken.Card(\n",
    "        franken.CardTitle(franken.H3(t)), \n",
    "        franken.PSmall(f\"{date:%a, %b %-d, %Y}\", cls=\"uk-text-muted\"),\n",
    "        franken.P(d),\n",
    "        body_cls='space-y-2'\n",
    "    )"
   ]
  },
  {
   "cell_type": "code",
   "execution_count": 124,
   "id": "eca86a4a",
   "metadata": {},
   "outputs": [
    {
     "data": {
      "text/markdown": [
       "```html\n",
       "<div class=\"uk-card \">\n",
       "  <div class=\"uk-card-body space-y-2\">\n",
       "    <div class=\"uk-card-title \">\n",
       "      <h3 class=\"uk-h3 \">Using My Blog to Rewrite Itself</h3>\n",
       "    </div>\n",
       "    <p class=\"uk-text-small uk-text-muted\">Thu, Jan 23, 2025</p>\n",
       "    <p>Here I use my blog made of Jupyter notebooks to rewrite itself.</p>\n",
       "  </div>\n",
       "</div>\n",
       "\n",
       "```"
      ],
      "text/plain": [
       "div((div((div((h3(('Using My Blog to Rewrite Itself',),{'class': 'uk-h3 '}),),{'class': 'uk-card-title '}), p(('Thu, Jan 23, 2025',),{'class': 'uk-text-small uk-text-muted'}), p(('Here I use my blog made of Jupyter notebooks to rewrite itself.',),{})),{'class': 'uk-card-body space-y-2'}),),{'class': 'uk-card '})"
      ]
     },
     "execution_count": 124,
     "metadata": {},
     "output_type": "execute_result"
    }
   ],
   "source": [
    "c = mk_nbcard_from_nb_path(nb_paths[0])\n",
    "c"
   ]
  },
  {
   "cell_type": "code",
   "execution_count": 125,
   "id": "2029b2da",
   "metadata": {},
   "outputs": [
    {
     "data": {
      "text/html": [
       "<div class=\"uk-card \">\n",
       "  <div class=\"uk-card-body space-y-2\">\n",
       "    <div class=\"uk-card-title \">\n",
       "      <h3 class=\"uk-h3 \">Using My Blog to Rewrite Itself</h3>\n",
       "    </div>\n",
       "    <p class=\"uk-text-small uk-text-muted\">Thu, Jan 23, 2025</p>\n",
       "    <p>Here I use my blog made of Jupyter notebooks to rewrite itself.</p>\n",
       "  </div>\n",
       "</div>\n",
       "<script>if (window.htmx) htmx.process(document.body)</script>"
      ],
      "text/plain": [
       "<IPython.core.display.HTML object>"
      ]
     },
     "metadata": {},
     "output_type": "display_data"
    }
   ],
   "source": [
    "show(c)"
   ]
  },
  {
   "cell_type": "markdown",
   "id": "aaf8531e",
   "metadata": {},
   "source": [
    "## Notebook Index: Linkify Cards"
   ]
  },
  {
   "cell_type": "code",
   "execution_count": 126,
   "id": "35963707",
   "metadata": {},
   "outputs": [],
   "source": [
    "#| export\n",
    "def NBCard(title,desc,href,date):\n",
    "    return A(\n",
    "        franken.Card(\n",
    "        franken.CardTitle(franken.H3(title)), \n",
    "        franken.PSmall(f\"{date:%a, %b %-d, %Y}\", cls=\"uk-text-muted\"),\n",
    "        franken.P(desc),\n",
    "        body_cls='space-y-2'\n",
    "    ), href=href)"
   ]
  },
  {
   "cell_type": "code",
   "execution_count": 127,
   "id": "115b36a5",
   "metadata": {},
   "outputs": [],
   "source": [
    "#| export\n",
    "def mk_nbcard_from_nb_path(nb_path):\n",
    "    date = get_date_from_iso8601_prefix(nb_path)\n",
    "    return NBCard(*get_title_and_desc(nb_path), href=f'/nbs/{nb_path.name[:-6]}', date=date)"
   ]
  },
  {
   "cell_type": "code",
   "execution_count": 128,
   "id": "2666ca6a",
   "metadata": {},
   "outputs": [
    {
     "data": {
      "text/markdown": [
       "```html\n",
       "<a href=\"/nbs/2025-01-23-Troubleshooting-MonsterUI-on-This-Site\">  <div class=\"uk-card \">\n",
       "    <div class=\"uk-card-body space-y-2\">\n",
       "      <div class=\"uk-card-title \">\n",
       "        <h3 class=\"uk-h3 \">Troubleshooting MonsterUI on This Site</h3>\n",
       "      </div>\n",
       "      <p class=\"uk-text-small uk-text-muted\">Thu, Jan 23, 2025</p>\n",
       "      <p>My first MonsterUI notebook isn&#x27;t rendering correctly. Here I debug it.</p>\n",
       "    </div>\n",
       "  </div>\n",
       "</a>\n",
       "```"
      ],
      "text/plain": [
       "a((div((div((div((h3(('Troubleshooting MonsterUI on This Site',),{'class': 'uk-h3 '}),),{'class': 'uk-card-title '}), p(('Thu, Jan 23, 2025',),{'class': 'uk-text-small uk-text-muted'}), p((\"My first MonsterUI notebook isn't rendering correctly. Here I debug it.\",),{})),{'class': 'uk-card-body space-y-2'}),),{'class': 'uk-card '}),),{'href': '/nbs/2025-01-23-Troubleshooting-MonsterUI-on-This-Site'})"
      ]
     },
     "execution_count": 128,
     "metadata": {},
     "output_type": "execute_result"
    }
   ],
   "source": [
    "c = mk_nbcard_from_nb_path(nb_paths[1])\n",
    "c"
   ]
  },
  {
   "cell_type": "code",
   "execution_count": 129,
   "id": "ddb7d7c9",
   "metadata": {},
   "outputs": [
    {
     "data": {
      "text/html": [
       "<a href=\"/nbs/2025-01-23-Troubleshooting-MonsterUI-on-This-Site\">  <div class=\"uk-card \">\n",
       "    <div class=\"uk-card-body space-y-2\">\n",
       "      <div class=\"uk-card-title \">\n",
       "        <h3 class=\"uk-h3 \">Troubleshooting MonsterUI on This Site</h3>\n",
       "      </div>\n",
       "      <p class=\"uk-text-small uk-text-muted\">Thu, Jan 23, 2025</p>\n",
       "      <p>My first MonsterUI notebook isn&#x27;t rendering correctly. Here I debug it.</p>\n",
       "    </div>\n",
       "  </div>\n",
       "</a><script>if (window.htmx) htmx.process(document.body)</script>"
      ],
      "text/plain": [
       "<IPython.core.display.HTML object>"
      ]
     },
     "metadata": {},
     "output_type": "display_data"
    }
   ],
   "source": [
    "show(c)"
   ]
  },
  {
   "cell_type": "markdown",
   "id": "d9906eab",
   "metadata": {},
   "source": [
    "## Notebook Index Page"
   ]
  },
  {
   "cell_type": "code",
   "execution_count": 130,
   "id": "64b79f0b",
   "metadata": {},
   "outputs": [],
   "source": [
    "#| export\n",
    "@rt\n",
    "def index():\n",
    "    nb_paths = get_nb_paths()\n",
    "    return (\n",
    "        Theme.blue.headers(),\n",
    "        franken.Container(\n",
    "            Div(\n",
    "                franken.H1('audrey.feldroy.com'), franken.PParagraph(\"The experimental Jupyter notebooks of Audrey M. Roy Greenfeld. This website and all its notebooks are open-source at \", franken.A(\"github.com/audreyfeldroy/arg-blog-fasthtml\", href=\"https://github.com/audreyfeldroy/arg-blog-fasthtml\"), cls=\"mb-6\"),\n",
    "            ),\n",
    "            franken.Grid(*nb_paths.map(mk_nbcard_from_nb_path), cols_sm=1, cols_md=1, cols_lg=2, cols_xl=3)\n",
    "        )\n",
    "    )"
   ]
  },
  {
   "cell_type": "markdown",
   "id": "ab7b7485",
   "metadata": {},
   "source": [
    "## Notebook Detail: Frontmatter"
   ]
  },
  {
   "cell_type": "code",
   "execution_count": 131,
   "id": "39b8a1dd",
   "metadata": {},
   "outputs": [
    {
     "data": {
      "text/plain": [
       "('Troubleshooting MonsterUI on This Site',\n",
       " \"My first MonsterUI notebook isn't rendering correctly. Here I debug it.\")"
      ]
     },
     "execution_count": 131,
     "metadata": {},
     "output_type": "execute_result"
    }
   ],
   "source": [
    "t,d = get_title_and_desc(nb_paths[1])\n",
    "t,d"
   ]
  },
  {
   "cell_type": "code",
   "execution_count": 132,
   "id": "09585db9",
   "metadata": {},
   "outputs": [
    {
     "data": {
      "text/plain": [
       "\"<p>My first MonsterUI notebook isn't rendering correctly. Here I debug it.</p>\\n\""
      ]
     },
     "execution_count": 132,
     "metadata": {},
     "output_type": "execute_result"
    }
   ],
   "source": [
    "mistletoe.markdown(d)"
   ]
  },
  {
   "cell_type": "markdown",
   "id": "6d8c88fe",
   "metadata": {},
   "source": [
    "## Notebook Detail: Non-Frontmatter"
   ]
  },
  {
   "cell_type": "code",
   "execution_count": 133,
   "id": "21049f3f",
   "metadata": {},
   "outputs": [
    {
     "data": {
      "text/plain": [
       "Path('2025-01-23-Troubleshooting-MonsterUI-on-This-Site.ipynb')"
      ]
     },
     "execution_count": 133,
     "metadata": {},
     "output_type": "execute_result"
    }
   ],
   "source": [
    "nb_paths[1]"
   ]
  },
  {
   "cell_type": "markdown",
   "id": "47aa13c2",
   "metadata": {},
   "source": [
    "### Use StyledCode (Pygments) for Code Cells"
   ]
  },
  {
   "cell_type": "code",
   "execution_count": 134,
   "id": "49520a30",
   "metadata": {},
   "outputs": [],
   "source": [
    "nb = read_nb(nb_paths[1])"
   ]
  },
  {
   "cell_type": "code",
   "execution_count": 135,
   "id": "a10f74be",
   "metadata": {},
   "outputs": [
    {
     "data": {
      "text/markdown": [
       "```json\n",
       "{ 'cell_type': 'code',\n",
       "  'execution_count': 3,\n",
       "  'id': 'cb344dfb',\n",
       "  'idx_': 5,\n",
       "  'metadata': {},\n",
       "  'outputs': [ { 'data': { 'text/markdown': [ '```html\\n',\n",
       "                                              '<h1 class=\"uk-h1 \">Hi</h1>\\n',\n",
       "                                              '\\n',\n",
       "                                              '```'],\n",
       "                           'text/plain': [\"h1(('Hi',),{'class': 'uk-h1 '})\"]},\n",
       "                 'execution_count': 3,\n",
       "                 'metadata': {},\n",
       "                 'output_type': 'execute_result'}],\n",
       "  'source': 'H1(\"Hi\")'}\n",
       "```"
      ],
      "text/plain": [
       "{'cell_type': 'code',\n",
       " 'execution_count': 3,\n",
       " 'id': 'cb344dfb',\n",
       " 'metadata': {},\n",
       " 'outputs': [{'data': {'text/markdown': ['```html\\n',\n",
       "     '<h1 class=\"uk-h1 \">Hi</h1>\\n',\n",
       "     '\\n',\n",
       "     '```'],\n",
       "    'text/plain': [\"h1(('Hi',),{'class': 'uk-h1 '})\"]},\n",
       "   'execution_count': 3,\n",
       "   'metadata': {},\n",
       "   'output_type': 'execute_result'}],\n",
       " 'source': 'H1(\"Hi\")',\n",
       " 'idx_': 5}"
      ]
     },
     "execution_count": 135,
     "metadata": {},
     "output_type": "execute_result"
    }
   ],
   "source": [
    "nb.cells[5]"
   ]
  },
  {
   "cell_type": "code",
   "execution_count": 136,
   "id": "db197f39",
   "metadata": {},
   "outputs": [],
   "source": [
    "#| export\n",
    "def StyledCode(c, style='monokai'):\n",
    "    fm = HtmlFormatter(style=style, cssclass=style)\n",
    "    h = highlight(c, PythonLexer(), fm)\n",
    "    sd = fm.get_style_defs(f\".{style}\")\n",
    "    return Div(Style(sd), NotStr(h), id=style)"
   ]
  },
  {
   "cell_type": "code",
   "execution_count": 137,
   "id": "9364b11d",
   "metadata": {},
   "outputs": [
    {
     "data": {
      "text/html": [
       "<div id=\"monokai\">\n",
       "  <style>pre { line-height: 125%; }\n",
       "td.linenos .normal { color: inherit; background-color: transparent; padding-left: 5px; padding-right: 5px; }\n",
       "span.linenos { color: inherit; background-color: transparent; padding-left: 5px; padding-right: 5px; }\n",
       "td.linenos .special { color: #000000; background-color: #ffffc0; padding-left: 5px; padding-right: 5px; }\n",
       "span.linenos.special { color: #000000; background-color: #ffffc0; padding-left: 5px; padding-right: 5px; }\n",
       ".monokai .hll { background-color: #49483e }\n",
       ".monokai { background: #272822; color: #F8F8F2 }\n",
       ".monokai .c { color: #959077 } /* Comment */\n",
       ".monokai .err { color: #ED007E; background-color: #1E0010 } /* Error */\n",
       ".monokai .esc { color: #F8F8F2 } /* Escape */\n",
       ".monokai .g { color: #F8F8F2 } /* Generic */\n",
       ".monokai .k { color: #66D9EF } /* Keyword */\n",
       ".monokai .l { color: #AE81FF } /* Literal */\n",
       ".monokai .n { color: #F8F8F2 } /* Name */\n",
       ".monokai .o { color: #FF4689 } /* Operator */\n",
       ".monokai .x { color: #F8F8F2 } /* Other */\n",
       ".monokai .p { color: #F8F8F2 } /* Punctuation */\n",
       ".monokai .ch { color: #959077 } /* Comment.Hashbang */\n",
       ".monokai .cm { color: #959077 } /* Comment.Multiline */\n",
       ".monokai .cp { color: #959077 } /* Comment.Preproc */\n",
       ".monokai .cpf { color: #959077 } /* Comment.PreprocFile */\n",
       ".monokai .c1 { color: #959077 } /* Comment.Single */\n",
       ".monokai .cs { color: #959077 } /* Comment.Special */\n",
       ".monokai .gd { color: #FF4689 } /* Generic.Deleted */\n",
       ".monokai .ge { color: #F8F8F2; font-style: italic } /* Generic.Emph */\n",
       ".monokai .ges { color: #F8F8F2; font-weight: bold; font-style: italic } /* Generic.EmphStrong */\n",
       ".monokai .gr { color: #F8F8F2 } /* Generic.Error */\n",
       ".monokai .gh { color: #F8F8F2 } /* Generic.Heading */\n",
       ".monokai .gi { color: #A6E22E } /* Generic.Inserted */\n",
       ".monokai .go { color: #66D9EF } /* Generic.Output */\n",
       ".monokai .gp { color: #FF4689; font-weight: bold } /* Generic.Prompt */\n",
       ".monokai .gs { color: #F8F8F2; font-weight: bold } /* Generic.Strong */\n",
       ".monokai .gu { color: #959077 } /* Generic.Subheading */\n",
       ".monokai .gt { color: #F8F8F2 } /* Generic.Traceback */\n",
       ".monokai .kc { color: #66D9EF } /* Keyword.Constant */\n",
       ".monokai .kd { color: #66D9EF } /* Keyword.Declaration */\n",
       ".monokai .kn { color: #FF4689 } /* Keyword.Namespace */\n",
       ".monokai .kp { color: #66D9EF } /* Keyword.Pseudo */\n",
       ".monokai .kr { color: #66D9EF } /* Keyword.Reserved */\n",
       ".monokai .kt { color: #66D9EF } /* Keyword.Type */\n",
       ".monokai .ld { color: #E6DB74 } /* Literal.Date */\n",
       ".monokai .m { color: #AE81FF } /* Literal.Number */\n",
       ".monokai .s { color: #E6DB74 } /* Literal.String */\n",
       ".monokai .na { color: #A6E22E } /* Name.Attribute */\n",
       ".monokai .nb { color: #F8F8F2 } /* Name.Builtin */\n",
       ".monokai .nc { color: #A6E22E } /* Name.Class */\n",
       ".monokai .no { color: #66D9EF } /* Name.Constant */\n",
       ".monokai .nd { color: #A6E22E } /* Name.Decorator */\n",
       ".monokai .ni { color: #F8F8F2 } /* Name.Entity */\n",
       ".monokai .ne { color: #A6E22E } /* Name.Exception */\n",
       ".monokai .nf { color: #A6E22E } /* Name.Function */\n",
       ".monokai .nl { color: #F8F8F2 } /* Name.Label */\n",
       ".monokai .nn { color: #F8F8F2 } /* Name.Namespace */\n",
       ".monokai .nx { color: #A6E22E } /* Name.Other */\n",
       ".monokai .py { color: #F8F8F2 } /* Name.Property */\n",
       ".monokai .nt { color: #FF4689 } /* Name.Tag */\n",
       ".monokai .nv { color: #F8F8F2 } /* Name.Variable */\n",
       ".monokai .ow { color: #FF4689 } /* Operator.Word */\n",
       ".monokai .pm { color: #F8F8F2 } /* Punctuation.Marker */\n",
       ".monokai .w { color: #F8F8F2 } /* Text.Whitespace */\n",
       ".monokai .mb { color: #AE81FF } /* Literal.Number.Bin */\n",
       ".monokai .mf { color: #AE81FF } /* Literal.Number.Float */\n",
       ".monokai .mh { color: #AE81FF } /* Literal.Number.Hex */\n",
       ".monokai .mi { color: #AE81FF } /* Literal.Number.Integer */\n",
       ".monokai .mo { color: #AE81FF } /* Literal.Number.Oct */\n",
       ".monokai .sa { color: #E6DB74 } /* Literal.String.Affix */\n",
       ".monokai .sb { color: #E6DB74 } /* Literal.String.Backtick */\n",
       ".monokai .sc { color: #E6DB74 } /* Literal.String.Char */\n",
       ".monokai .dl { color: #E6DB74 } /* Literal.String.Delimiter */\n",
       ".monokai .sd { color: #E6DB74 } /* Literal.String.Doc */\n",
       ".monokai .s2 { color: #E6DB74 } /* Literal.String.Double */\n",
       ".monokai .se { color: #AE81FF } /* Literal.String.Escape */\n",
       ".monokai .sh { color: #E6DB74 } /* Literal.String.Heredoc */\n",
       ".monokai .si { color: #E6DB74 } /* Literal.String.Interpol */\n",
       ".monokai .sx { color: #E6DB74 } /* Literal.String.Other */\n",
       ".monokai .sr { color: #E6DB74 } /* Literal.String.Regex */\n",
       ".monokai .s1 { color: #E6DB74 } /* Literal.String.Single */\n",
       ".monokai .ss { color: #E6DB74 } /* Literal.String.Symbol */\n",
       ".monokai .bp { color: #F8F8F2 } /* Name.Builtin.Pseudo */\n",
       ".monokai .fm { color: #A6E22E } /* Name.Function.Magic */\n",
       ".monokai .vc { color: #F8F8F2 } /* Name.Variable.Class */\n",
       ".monokai .vg { color: #F8F8F2 } /* Name.Variable.Global */\n",
       ".monokai .vi { color: #F8F8F2 } /* Name.Variable.Instance */\n",
       ".monokai .vm { color: #F8F8F2 } /* Name.Variable.Magic */\n",
       ".monokai .il { color: #AE81FF } /* Literal.Number.Integer.Long */</style>\n",
       "<div class=\"monokai\"><pre><span></span><span class=\"kn\">from</span><span class=\"w\"> </span><span class=\"nn\">fasthtml.common</span><span class=\"w\"> </span><span class=\"kn\">import</span> <span class=\"o\">*</span>\n",
       "<span class=\"kn\">from</span><span class=\"w\"> </span><span class=\"nn\">monsterui.all</span><span class=\"w\"> </span><span class=\"kn\">import</span> <span class=\"o\">*</span>\n",
       "</pre></div>\n",
       "</div>\n"
      ],
      "text/plain": [
       "<IPython.core.display.HTML object>"
      ]
     },
     "execution_count": 137,
     "metadata": {},
     "output_type": "execute_result"
    }
   ],
   "source": [
    "HTML(to_xml(StyledCode(nb.cells[2].source)))"
   ]
  },
  {
   "cell_type": "code",
   "execution_count": 138,
   "id": "a8e4a3de",
   "metadata": {},
   "outputs": [
    {
     "data": {
      "text/html": [
       "<div id=\"monokai\">\n",
       "  <style>pre { line-height: 125%; }\n",
       "td.linenos .normal { color: inherit; background-color: transparent; padding-left: 5px; padding-right: 5px; }\n",
       "span.linenos { color: inherit; background-color: transparent; padding-left: 5px; padding-right: 5px; }\n",
       "td.linenos .special { color: #000000; background-color: #ffffc0; padding-left: 5px; padding-right: 5px; }\n",
       "span.linenos.special { color: #000000; background-color: #ffffc0; padding-left: 5px; padding-right: 5px; }\n",
       ".monokai .hll { background-color: #49483e }\n",
       ".monokai { background: #272822; color: #F8F8F2 }\n",
       ".monokai .c { color: #959077 } /* Comment */\n",
       ".monokai .err { color: #ED007E; background-color: #1E0010 } /* Error */\n",
       ".monokai .esc { color: #F8F8F2 } /* Escape */\n",
       ".monokai .g { color: #F8F8F2 } /* Generic */\n",
       ".monokai .k { color: #66D9EF } /* Keyword */\n",
       ".monokai .l { color: #AE81FF } /* Literal */\n",
       ".monokai .n { color: #F8F8F2 } /* Name */\n",
       ".monokai .o { color: #FF4689 } /* Operator */\n",
       ".monokai .x { color: #F8F8F2 } /* Other */\n",
       ".monokai .p { color: #F8F8F2 } /* Punctuation */\n",
       ".monokai .ch { color: #959077 } /* Comment.Hashbang */\n",
       ".monokai .cm { color: #959077 } /* Comment.Multiline */\n",
       ".monokai .cp { color: #959077 } /* Comment.Preproc */\n",
       ".monokai .cpf { color: #959077 } /* Comment.PreprocFile */\n",
       ".monokai .c1 { color: #959077 } /* Comment.Single */\n",
       ".monokai .cs { color: #959077 } /* Comment.Special */\n",
       ".monokai .gd { color: #FF4689 } /* Generic.Deleted */\n",
       ".monokai .ge { color: #F8F8F2; font-style: italic } /* Generic.Emph */\n",
       ".monokai .ges { color: #F8F8F2; font-weight: bold; font-style: italic } /* Generic.EmphStrong */\n",
       ".monokai .gr { color: #F8F8F2 } /* Generic.Error */\n",
       ".monokai .gh { color: #F8F8F2 } /* Generic.Heading */\n",
       ".monokai .gi { color: #A6E22E } /* Generic.Inserted */\n",
       ".monokai .go { color: #66D9EF } /* Generic.Output */\n",
       ".monokai .gp { color: #FF4689; font-weight: bold } /* Generic.Prompt */\n",
       ".monokai .gs { color: #F8F8F2; font-weight: bold } /* Generic.Strong */\n",
       ".monokai .gu { color: #959077 } /* Generic.Subheading */\n",
       ".monokai .gt { color: #F8F8F2 } /* Generic.Traceback */\n",
       ".monokai .kc { color: #66D9EF } /* Keyword.Constant */\n",
       ".monokai .kd { color: #66D9EF } /* Keyword.Declaration */\n",
       ".monokai .kn { color: #FF4689 } /* Keyword.Namespace */\n",
       ".monokai .kp { color: #66D9EF } /* Keyword.Pseudo */\n",
       ".monokai .kr { color: #66D9EF } /* Keyword.Reserved */\n",
       ".monokai .kt { color: #66D9EF } /* Keyword.Type */\n",
       ".monokai .ld { color: #E6DB74 } /* Literal.Date */\n",
       ".monokai .m { color: #AE81FF } /* Literal.Number */\n",
       ".monokai .s { color: #E6DB74 } /* Literal.String */\n",
       ".monokai .na { color: #A6E22E } /* Name.Attribute */\n",
       ".monokai .nb { color: #F8F8F2 } /* Name.Builtin */\n",
       ".monokai .nc { color: #A6E22E } /* Name.Class */\n",
       ".monokai .no { color: #66D9EF } /* Name.Constant */\n",
       ".monokai .nd { color: #A6E22E } /* Name.Decorator */\n",
       ".monokai .ni { color: #F8F8F2 } /* Name.Entity */\n",
       ".monokai .ne { color: #A6E22E } /* Name.Exception */\n",
       ".monokai .nf { color: #A6E22E } /* Name.Function */\n",
       ".monokai .nl { color: #F8F8F2 } /* Name.Label */\n",
       ".monokai .nn { color: #F8F8F2 } /* Name.Namespace */\n",
       ".monokai .nx { color: #A6E22E } /* Name.Other */\n",
       ".monokai .py { color: #F8F8F2 } /* Name.Property */\n",
       ".monokai .nt { color: #FF4689 } /* Name.Tag */\n",
       ".monokai .nv { color: #F8F8F2 } /* Name.Variable */\n",
       ".monokai .ow { color: #FF4689 } /* Operator.Word */\n",
       ".monokai .pm { color: #F8F8F2 } /* Punctuation.Marker */\n",
       ".monokai .w { color: #F8F8F2 } /* Text.Whitespace */\n",
       ".monokai .mb { color: #AE81FF } /* Literal.Number.Bin */\n",
       ".monokai .mf { color: #AE81FF } /* Literal.Number.Float */\n",
       ".monokai .mh { color: #AE81FF } /* Literal.Number.Hex */\n",
       ".monokai .mi { color: #AE81FF } /* Literal.Number.Integer */\n",
       ".monokai .mo { color: #AE81FF } /* Literal.Number.Oct */\n",
       ".monokai .sa { color: #E6DB74 } /* Literal.String.Affix */\n",
       ".monokai .sb { color: #E6DB74 } /* Literal.String.Backtick */\n",
       ".monokai .sc { color: #E6DB74 } /* Literal.String.Char */\n",
       ".monokai .dl { color: #E6DB74 } /* Literal.String.Delimiter */\n",
       ".monokai .sd { color: #E6DB74 } /* Literal.String.Doc */\n",
       ".monokai .s2 { color: #E6DB74 } /* Literal.String.Double */\n",
       ".monokai .se { color: #AE81FF } /* Literal.String.Escape */\n",
       ".monokai .sh { color: #E6DB74 } /* Literal.String.Heredoc */\n",
       ".monokai .si { color: #E6DB74 } /* Literal.String.Interpol */\n",
       ".monokai .sx { color: #E6DB74 } /* Literal.String.Other */\n",
       ".monokai .sr { color: #E6DB74 } /* Literal.String.Regex */\n",
       ".monokai .s1 { color: #E6DB74 } /* Literal.String.Single */\n",
       ".monokai .ss { color: #E6DB74 } /* Literal.String.Symbol */\n",
       ".monokai .bp { color: #F8F8F2 } /* Name.Builtin.Pseudo */\n",
       ".monokai .fm { color: #A6E22E } /* Name.Function.Magic */\n",
       ".monokai .vc { color: #F8F8F2 } /* Name.Variable.Class */\n",
       ".monokai .vg { color: #F8F8F2 } /* Name.Variable.Global */\n",
       ".monokai .vi { color: #F8F8F2 } /* Name.Variable.Instance */\n",
       ".monokai .vm { color: #F8F8F2 } /* Name.Variable.Magic */\n",
       ".monokai .il { color: #AE81FF } /* Literal.Number.Integer.Long */</style>\n",
       "<div class=\"monokai\"><pre><span></span><span class=\"n\">H1</span><span class=\"p\">(</span><span class=\"s2\">&quot;Hi&quot;</span><span class=\"p\">)</span>\n",
       "</pre></div>\n",
       "</div>\n"
      ],
      "text/plain": [
       "<IPython.core.display.HTML object>"
      ]
     },
     "execution_count": 138,
     "metadata": {},
     "output_type": "execute_result"
    }
   ],
   "source": [
    "HTML(to_xml(StyledCode(nb.cells[5].source)))"
   ]
  },
  {
   "cell_type": "markdown",
   "id": "b3d2dcdb",
   "metadata": {},
   "source": [
    "### Use Mistletoe for Markdown Cells"
   ]
  },
  {
   "cell_type": "code",
   "execution_count": 139,
   "id": "7001152e",
   "metadata": {},
   "outputs": [
    {
     "data": {
      "text/markdown": [
       "```json\n",
       "{ 'cell_type': 'markdown',\n",
       "  'id': 'b91fdff1',\n",
       "  'idx_': 4,\n",
       "  'metadata': {},\n",
       "  'source': '[MonsterUI Buttons and '\n",
       "            'Links](https://audrey.feldroy.com/nbs/2025-01-22-MonsterUI-Buttons-and-Links) '\n",
       "            'is the notebook with the problem.\\n'\n",
       "            '\\n'\n",
       "            'Let\\'s start with a subset of the problem: the H1 text \"MonsterUI '\n",
       "            'Buttons and Links\" is showing up as normal text.'}\n",
       "```"
      ],
      "text/plain": [
       "{'cell_type': 'markdown',\n",
       " 'id': 'b91fdff1',\n",
       " 'metadata': {},\n",
       " 'source': '[MonsterUI Buttons and Links](https://audrey.feldroy.com/nbs/2025-01-22-MonsterUI-Buttons-and-Links) is the notebook with the problem.\\n\\nLet\\'s start with a subset of the problem: the H1 text \"MonsterUI Buttons and Links\" is showing up as normal text.',\n",
       " 'idx_': 4}"
      ]
     },
     "execution_count": 139,
     "metadata": {},
     "output_type": "execute_result"
    }
   ],
   "source": [
    "nb.cells[4]"
   ]
  },
  {
   "cell_type": "code",
   "execution_count": 140,
   "id": "7938550b",
   "metadata": {},
   "outputs": [],
   "source": [
    "#| export\n",
    "def StyledMd(m):\n",
    "    return Safe(mistletoe.markdown(m))"
   ]
  },
  {
   "cell_type": "code",
   "execution_count": 141,
   "id": "4f07e0da",
   "metadata": {
    "scrolled": false
   },
   "outputs": [
    {
     "data": {
      "text/html": [
       "<p><a href=\"https://audrey.feldroy.com/nbs/2025-01-22-MonsterUI-Buttons-and-Links\">MonsterUI Buttons and Links</a> is the notebook with the problem.</p>\n",
       "<p>Let's start with a subset of the problem: the H1 text \"MonsterUI Buttons and Links\" is showing up as normal text.</p>\n"
      ],
      "text/plain": [
       "<IPython.core.display.HTML object>"
      ]
     },
     "execution_count": 141,
     "metadata": {},
     "output_type": "execute_result"
    }
   ],
   "source": [
    "HTML(StyledMd(nb.cells[4].source))"
   ]
  },
  {
   "cell_type": "markdown",
   "id": "6707307c",
   "metadata": {},
   "source": [
    "### Use Mistletoe for Output Data of Code Cells"
   ]
  },
  {
   "cell_type": "code",
   "execution_count": 142,
   "id": "76b3ef58",
   "metadata": {},
   "outputs": [
    {
     "data": {
      "text/html": [
       "<pre><code class=\"language-html\">&lt;h1 class=\"uk-h1 \"&gt;Hi&lt;/h1&gt;\n",
       "\n",
       "</code></pre>\n"
      ],
      "text/plain": [
       "<IPython.core.display.HTML object>"
      ]
     },
     "execution_count": 142,
     "metadata": {},
     "output_type": "execute_result"
    }
   ],
   "source": [
    "HTML(to_xml(StyledMd(nb.cells[5].outputs[0].data[\"text/markdown\"])))"
   ]
  },
  {
   "cell_type": "code",
   "execution_count": 143,
   "id": "725ff770",
   "metadata": {},
   "outputs": [],
   "source": [
    "#| export\n",
    "def StyledCell(c):\n",
    "    if c.cell_type == \"markdown\": return StyledMd(c.source)\n",
    "    if c.cell_type == \"code\": \n",
    "        if not c.outputs: return StyledCode(c.source)\n",
    "        return StyledCode(c.source), render_code_output(c)"
   ]
  },
  {
   "cell_type": "code",
   "execution_count": 144,
   "id": "67293372",
   "metadata": {
    "scrolled": true
   },
   "outputs": [
    {
     "data": {
      "text/plain": [
       "(#7) ['<h1>Troubleshooting MonsterUI on This Site</h1>\\n',\"<p>My first MonsterUI notebook isn't rendering correctly. Here I debug it.</p>\\n\",div((style(('pre { line-height: 125%; }\\ntd.linenos .normal { color: inherit; background-color: transparent; padding-left: 5px; padding-right: 5px; }\\nspan.linenos { color: inherit; background-color: transparent; padding-left: 5px; padding-right: 5px; }\\ntd.linenos .special { color: #000000; background-color: #ffffc0; padding-left: 5px; padding-right: 5px; }\\nspan.linenos.special { color: #000000; background-color: #ffffc0; padding-left: 5px; padding-right: 5px; }\\n.monokai .hll { background-color: #49483e }\\n.monokai { background: #272822; color: #F8F8F2 }\\n.monokai .c { color: #959077 } /* Comment */\\n.monokai .err { color: #ED007E; background-color: #1E0010 } /* Error */\\n.monokai .esc { color: #F8F8F2 } /* Escape */\\n.monokai .g { color: #F8F8F2 } /* Generic */\\n.monokai .k { color: #66D9EF } /* Keyword */\\n.monokai .l { color: #AE81FF } /* Literal */\\n.monokai .n { color: #F8F8F2 } /* Name */\\n.monokai .o { color: #FF4689 } /* Operator */\\n.monokai .x { color: #F8F8F2 } /* Other */\\n.monokai .p { color: #F8F8F2 } /* Punctuation */\\n.monokai .ch { color: #959077 } /* Comment.Hashbang */\\n.monokai .cm { color: #959077 } /* Comment.Multiline */\\n.monokai .cp { color: #959077 } /* Comment.Preproc */\\n.monokai .cpf { color: #959077 } /* Comment.PreprocFile */\\n.monokai .c1 { color: #959077 } /* Comment.Single */\\n.monokai .cs { color: #959077 } /* Comment.Special */\\n.monokai .gd { color: #FF4689 } /* Generic.Deleted */\\n.monokai .ge { color: #F8F8F2; font-style: italic } /* Generic.Emph */\\n.monokai .ges { color: #F8F8F2; font-weight: bold; font-style: italic } /* Generic.EmphStrong */\\n.monokai .gr { color: #F8F8F2 } /* Generic.Error */\\n.monokai .gh { color: #F8F8F2 } /* Generic.Heading */\\n.monokai .gi { color: #A6E22E } /* Generic.Inserted */\\n.monokai .go { color: #66D9EF } /* Generic.Output */\\n.monokai .gp { color: #FF4689; font-weight: bold } /* Generic.Prompt */\\n.monokai .gs { color: #F8F8F2; font-weight: bold } /* Generic.Strong */\\n.monokai .gu { color: #959077 } /* Generic.Subheading */\\n.monokai .gt { color: #F8F8F2 } /* Generic.Traceback */\\n.monokai .kc { color: #66D9EF } /* Keyword.Constant */\\n.monokai .kd { color: #66D9EF } /* Keyword.Declaration */\\n.monokai .kn { color: #FF4689 } /* Keyword.Namespace */\\n.monokai .kp { color: #66D9EF } /* Keyword.Pseudo */\\n.monokai .kr { color: #66D9EF } /* Keyword.Reserved */\\n.monokai .kt { color: #66D9EF } /* Keyword.Type */\\n.monokai .ld { color: #E6DB74 } /* Literal.Date */\\n.monokai .m { color: #AE81FF } /* Literal.Number */\\n.monokai .s { color: #E6DB74 } /* Literal.String */\\n.monokai .na { color: #A6E22E } /* Name.Attribute */\\n.monokai .nb { color: #F8F8F2 } /* Name.Builtin */\\n.monokai .nc { color: #A6E22E } /* Name.Class */\\n.monokai .no { color: #66D9EF } /* Name.Constant */\\n.monokai .nd { color: #A6E22E } /* Name.Decorator */\\n.monokai .ni { color: #F8F8F2 } /* Name.Entity */\\n.monokai .ne { color: #A6E22E } /* Name.Exception */\\n.monokai .nf { color: #A6E22E } /* Name.Function */\\n.monokai .nl { color: #F8F8F2 } /* Name.Label */\\n.monokai .nn { color: #F8F8F2 } /* Name.Namespace */\\n.monokai .nx { color: #A6E22E } /* Name.Other */\\n.monokai .py { color: #F8F8F2 } /* Name.Property */\\n.monokai .nt { color: #FF4689 } /* Name.Tag */\\n.monokai .nv { color: #F8F8F2 } /* Name.Variable */\\n.monokai .ow { color: #FF4689 } /* Operator.Word */\\n.monokai .pm { color: #F8F8F2 } /* Punctuation.Marker */\\n.monokai .w { color: #F8F8F2 } /* Text.Whitespace */\\n.monokai .mb { color: #AE81FF } /* Literal.Number.Bin */\\n.monokai .mf { color: #AE81FF } /* Literal.Number.Float */\\n.monokai .mh { color: #AE81FF } /* Literal.Number.Hex */\\n.monokai .mi { color: #AE81FF } /* Literal.Number.Integer */\\n.monokai .mo { color: #AE81FF } /* Literal.Number.Oct */\\n.monokai .sa { color: #E6DB74 } /* Literal.String.Affix */\\n.monokai .sb { color: #E6DB74 } /* Literal.String.Backtick */\\n.monokai .sc { color: #E6DB74 } /* Literal.String.Char */\\n.monokai .dl { color: #E6DB74 } /* Literal.String.Delimiter */\\n.monokai .sd { color: #E6DB74 } /* Literal.String.Doc */\\n.monokai .s2 { color: #E6DB74 } /* Literal.String.Double */\\n.monokai .se { color: #AE81FF } /* Literal.String.Escape */\\n.monokai .sh { color: #E6DB74 } /* Literal.String.Heredoc */\\n.monokai .si { color: #E6DB74 } /* Literal.String.Interpol */\\n.monokai .sx { color: #E6DB74 } /* Literal.String.Other */\\n.monokai .sr { color: #E6DB74 } /* Literal.String.Regex */\\n.monokai .s1 { color: #E6DB74 } /* Literal.String.Single */\\n.monokai .ss { color: #E6DB74 } /* Literal.String.Symbol */\\n.monokai .bp { color: #F8F8F2 } /* Name.Builtin.Pseudo */\\n.monokai .fm { color: #A6E22E } /* Name.Function.Magic */\\n.monokai .vc { color: #F8F8F2 } /* Name.Variable.Class */\\n.monokai .vg { color: #F8F8F2 } /* Name.Variable.Global */\\n.monokai .vi { color: #F8F8F2 } /* Name.Variable.Instance */\\n.monokai .vm { color: #F8F8F2 } /* Name.Variable.Magic */\\n.monokai .il { color: #AE81FF } /* Literal.Number.Integer.Long */',),{}), '<div class=\"monokai\"><pre><span></span><span class=\"kn\">from</span><span class=\"w\"> </span><span class=\"nn\">fasthtml.common</span><span class=\"w\"> </span><span class=\"kn\">import</span> <span class=\"o\">*</span>\\n<span class=\"kn\">from</span><span class=\"w\"> </span><span class=\"nn\">monsterui.all</span><span class=\"w\"> </span><span class=\"kn\">import</span> <span class=\"o\">*</span>\\n</pre></div>\\n'),{'id': 'monokai'}),'<h2>Understand the Problem</h2>\\n','<p><a href=\"https://audrey.feldroy.com/nbs/2025-01-22-MonsterUI-Buttons-and-Links\">MonsterUI Buttons and Links</a> is the notebook with the problem.</p>\\n<p>Let\\'s start with a subset of the problem: the H1 text \"MonsterUI Buttons and Links\" is showing up as normal text.</p>\\n',(div((style(('pre { line-height: 125%; }\\ntd.linenos .normal { color: inherit; background-color: transparent; padding-left: 5px; padding-right: 5px; }\\nspan.linenos { color: inherit; background-color: transparent; padding-left: 5px; padding-right: 5px; }\\ntd.linenos .special { color: #000000; background-color: #ffffc0; padding-left: 5px; padding-right: 5px; }\\nspan.linenos.special { color: #000000; background-color: #ffffc0; padding-left: 5px; padding-right: 5px; }\\n.monokai .hll { background-color: #49483e }\\n.monokai { background: #272822; color: #F8F8F2 }\\n.monokai .c { color: #959077 } /* Comment */\\n.monokai .err { color: #ED007E; background-color: #1E0010 } /* Error */\\n.monokai .esc { color: #F8F8F2 } /* Escape */\\n.monokai .g { color: #F8F8F2 } /* Generic */\\n.monokai .k { color: #66D9EF } /* Keyword */\\n.monokai .l { color: #AE81FF } /* Literal */\\n.monokai .n { color: #F8F8F2 } /* Name */\\n.monokai .o { color: #FF4689 } /* Operator */\\n.monokai .x { color: #F8F8F2 } /* Other */\\n.monokai .p { color: #F8F8F2 } /* Punctuation */\\n.monokai .ch { color: #959077 } /* Comment.Hashbang */\\n.monokai .cm { color: #959077 } /* Comment.Multiline */\\n.monokai .cp { color: #959077 } /* Comment.Preproc */\\n.monokai .cpf { color: #959077 } /* Comment.PreprocFile */\\n.monokai .c1 { color: #959077 } /* Comment.Single */\\n.monokai .cs { color: #959077 } /* Comment.Special */\\n.monokai .gd { color: #FF4689 } /* Generic.Deleted */\\n.monokai .ge { color: #F8F8F2; font-style: italic } /* Generic.Emph */\\n.monokai .ges { color: #F8F8F2; font-weight: bold; font-style: italic } /* Generic.EmphStrong */\\n.monokai .gr { color: #F8F8F2 } /* Generic.Error */\\n.monokai .gh { color: #F8F8F2 } /* Generic.Heading */\\n.monokai .gi { color: #A6E22E } /* Generic.Inserted */\\n.monokai .go { color: #66D9EF } /* Generic.Output */\\n.monokai .gp { color: #FF4689; font-weight: bold } /* Generic.Prompt */\\n.monokai .gs { color: #F8F8F2; font-weight: bold } /* Generic.Strong */\\n.monokai .gu { color: #959077 } /* Generic.Subheading */\\n.monokai .gt { color: #F8F8F2 } /* Generic.Traceback */\\n.monokai .kc { color: #66D9EF } /* Keyword.Constant */\\n.monokai .kd { color: #66D9EF } /* Keyword.Declaration */\\n.monokai .kn { color: #FF4689 } /* Keyword.Namespace */\\n.monokai .kp { color: #66D9EF } /* Keyword.Pseudo */\\n.monokai .kr { color: #66D9EF } /* Keyword.Reserved */\\n.monokai .kt { color: #66D9EF } /* Keyword.Type */\\n.monokai .ld { color: #E6DB74 } /* Literal.Date */\\n.monokai .m { color: #AE81FF } /* Literal.Number */\\n.monokai .s { color: #E6DB74 } /* Literal.String */\\n.monokai .na { color: #A6E22E } /* Name.Attribute */\\n.monokai .nb { color: #F8F8F2 } /* Name.Builtin */\\n.monokai .nc { color: #A6E22E } /* Name.Class */\\n.monokai .no { color: #66D9EF } /* Name.Constant */\\n.monokai .nd { color: #A6E22E } /* Name.Decorator */\\n.monokai .ni { color: #F8F8F2 } /* Name.Entity */\\n.monokai .ne { color: #A6E22E } /* Name.Exception */\\n.monokai .nf { color: #A6E22E } /* Name.Function */\\n.monokai .nl { color: #F8F8F2 } /* Name.Label */\\n.monokai .nn { color: #F8F8F2 } /* Name.Namespace */\\n.monokai .nx { color: #A6E22E } /* Name.Other */\\n.monokai .py { color: #F8F8F2 } /* Name.Property */\\n.monokai .nt { color: #FF4689 } /* Name.Tag */\\n.monokai .nv { color: #F8F8F2 } /* Name.Variable */\\n.monokai .ow { color: #FF4689 } /* Operator.Word */\\n.monokai .pm { color: #F8F8F2 } /* Punctuation.Marker */\\n.monokai .w { color: #F8F8F2 } /* Text.Whitespace */\\n.monokai .mb { color: #AE81FF } /* Literal.Number.Bin */\\n.monokai .mf { color: #AE81FF } /* Literal.Number.Float */\\n.monokai .mh { color: #AE81FF } /* Literal.Number.Hex */\\n.monokai .mi { color: #AE81FF } /* Literal.Number.Integer */\\n.monokai .mo { color: #AE81FF } /* Literal.Number.Oct */\\n.monokai .sa { color: #E6DB74 } /* Literal.String.Affix */\\n.monokai .sb { color: #E6DB74 } /* Literal.String.Backtick */\\n.monokai .sc { color: #E6DB74 } /* Literal.String.Char */\\n.monokai .dl { color: #E6DB74 } /* Literal.String.Delimiter */\\n.monokai .sd { color: #E6DB74 } /* Literal.String.Doc */\\n.monokai .s2 { color: #E6DB74 } /* Literal.String.Double */\\n.monokai .se { color: #AE81FF } /* Literal.String.Escape */\\n.monokai .sh { color: #E6DB74 } /* Literal.String.Heredoc */\\n.monokai .si { color: #E6DB74 } /* Literal.String.Interpol */\\n.monokai .sx { color: #E6DB74 } /* Literal.String.Other */\\n.monokai .sr { color: #E6DB74 } /* Literal.String.Regex */\\n.monokai .s1 { color: #E6DB74 } /* Literal.String.Single */\\n.monokai .ss { color: #E6DB74 } /* Literal.String.Symbol */\\n.monokai .bp { color: #F8F8F2 } /* Name.Builtin.Pseudo */\\n.monokai .fm { color: #A6E22E } /* Name.Function.Magic */\\n.monokai .vc { color: #F8F8F2 } /* Name.Variable.Class */\\n.monokai .vg { color: #F8F8F2 } /* Name.Variable.Global */\\n.monokai .vi { color: #F8F8F2 } /* Name.Variable.Instance */\\n.monokai .vm { color: #F8F8F2 } /* Name.Variable.Magic */\\n.monokai .il { color: #AE81FF } /* Literal.Number.Integer.Long */',),{}), '<div class=\"monokai\"><pre><span></span><span class=\"n\">H1</span><span class=\"p\">(</span><span class=\"s2\">&quot;Hi&quot;</span><span class=\"p\">)</span>\\n</pre></div>\\n'),{'id': 'monokai'}), footer(('<pre><code class=\"language-html\">&lt;h1 class=\"uk-h1 \"&gt;Hi&lt;/h1&gt;\\n\\n</code></pre>\\n',),{})),(div((style(('pre { line-height: 125%; }\\ntd.linenos .normal { color: inherit; background-color: transparent; padding-left: 5px; padding-right: 5px; }\\nspan.linenos { color: inherit; background-color: transparent; padding-left: 5px; padding-right: 5px; }\\ntd.linenos .special { color: #000000; background-color: #ffffc0; padding-left: 5px; padding-right: 5px; }\\nspan.linenos.special { color: #000000; background-color: #ffffc0; padding-left: 5px; padding-right: 5px; }\\n.monokai .hll { background-color: #49483e }\\n.monokai { background: #272822; color: #F8F8F2 }\\n.monokai .c { color: #959077 } /* Comment */\\n.monokai .err { color: #ED007E; background-color: #1E0010 } /* Error */\\n.monokai .esc { color: #F8F8F2 } /* Escape */\\n.monokai .g { color: #F8F8F2 } /* Generic */\\n.monokai .k { color: #66D9EF } /* Keyword */\\n.monokai .l { color: #AE81FF } /* Literal */\\n.monokai .n { color: #F8F8F2 } /* Name */\\n.monokai .o { color: #FF4689 } /* Operator */\\n.monokai .x { color: #F8F8F2 } /* Other */\\n.monokai .p { color: #F8F8F2 } /* Punctuation */\\n.monokai .ch { color: #959077 } /* Comment.Hashbang */\\n.monokai .cm { color: #959077 } /* Comment.Multiline */\\n.monokai .cp { color: #959077 } /* Comment.Preproc */\\n.monokai .cpf { color: #959077 } /* Comment.PreprocFile */\\n.monokai .c1 { color: #959077 } /* Comment.Single */\\n.monokai .cs { color: #959077 } /* Comment.Special */\\n.monokai .gd { color: #FF4689 } /* Generic.Deleted */\\n.monokai .ge { color: #F8F8F2; font-style: italic } /* Generic.Emph */\\n.monokai .ges { color: #F8F8F2; font-weight: bold; font-style: italic } /* Generic.EmphStrong */\\n.monokai .gr { color: #F8F8F2 } /* Generic.Error */\\n.monokai .gh { color: #F8F8F2 } /* Generic.Heading */\\n.monokai .gi { color: #A6E22E } /* Generic.Inserted */\\n.monokai .go { color: #66D9EF } /* Generic.Output */\\n.monokai .gp { color: #FF4689; font-weight: bold } /* Generic.Prompt */\\n.monokai .gs { color: #F8F8F2; font-weight: bold } /* Generic.Strong */\\n.monokai .gu { color: #959077 } /* Generic.Subheading */\\n.monokai .gt { color: #F8F8F2 } /* Generic.Traceback */\\n.monokai .kc { color: #66D9EF } /* Keyword.Constant */\\n.monokai .kd { color: #66D9EF } /* Keyword.Declaration */\\n.monokai .kn { color: #FF4689 } /* Keyword.Namespace */\\n.monokai .kp { color: #66D9EF } /* Keyword.Pseudo */\\n.monokai .kr { color: #66D9EF } /* Keyword.Reserved */\\n.monokai .kt { color: #66D9EF } /* Keyword.Type */\\n.monokai .ld { color: #E6DB74 } /* Literal.Date */\\n.monokai .m { color: #AE81FF } /* Literal.Number */\\n.monokai .s { color: #E6DB74 } /* Literal.String */\\n.monokai .na { color: #A6E22E } /* Name.Attribute */\\n.monokai .nb { color: #F8F8F2 } /* Name.Builtin */\\n.monokai .nc { color: #A6E22E } /* Name.Class */\\n.monokai .no { color: #66D9EF } /* Name.Constant */\\n.monokai .nd { color: #A6E22E } /* Name.Decorator */\\n.monokai .ni { color: #F8F8F2 } /* Name.Entity */\\n.monokai .ne { color: #A6E22E } /* Name.Exception */\\n.monokai .nf { color: #A6E22E } /* Name.Function */\\n.monokai .nl { color: #F8F8F2 } /* Name.Label */\\n.monokai .nn { color: #F8F8F2 } /* Name.Namespace */\\n.monokai .nx { color: #A6E22E } /* Name.Other */\\n.monokai .py { color: #F8F8F2 } /* Name.Property */\\n.monokai .nt { color: #FF4689 } /* Name.Tag */\\n.monokai .nv { color: #F8F8F2 } /* Name.Variable */\\n.monokai .ow { color: #FF4689 } /* Operator.Word */\\n.monokai .pm { color: #F8F8F2 } /* Punctuation.Marker */\\n.monokai .w { color: #F8F8F2 } /* Text.Whitespace */\\n.monokai .mb { color: #AE81FF } /* Literal.Number.Bin */\\n.monokai .mf { color: #AE81FF } /* Literal.Number.Float */\\n.monokai .mh { color: #AE81FF } /* Literal.Number.Hex */\\n.monokai .mi { color: #AE81FF } /* Literal.Number.Integer */\\n.monokai .mo { color: #AE81FF } /* Literal.Number.Oct */\\n.monokai .sa { color: #E6DB74 } /* Literal.String.Affix */\\n.monokai .sb { color: #E6DB74 } /* Literal.String.Backtick */\\n.monokai .sc { color: #E6DB74 } /* Literal.String.Char */\\n.monokai .dl { color: #E6DB74 } /* Literal.String.Delimiter */\\n.monokai .sd { color: #E6DB74 } /* Literal.String.Doc */\\n.monokai .s2 { color: #E6DB74 } /* Literal.String.Double */\\n.monokai .se { color: #AE81FF } /* Literal.String.Escape */\\n.monokai .sh { color: #E6DB74 } /* Literal.String.Heredoc */\\n.monokai .si { color: #E6DB74 } /* Literal.String.Interpol */\\n.monokai .sx { color: #E6DB74 } /* Literal.String.Other */\\n.monokai .sr { color: #E6DB74 } /* Literal.String.Regex */\\n.monokai .s1 { color: #E6DB74 } /* Literal.String.Single */\\n.monokai .ss { color: #E6DB74 } /* Literal.String.Symbol */\\n.monokai .bp { color: #F8F8F2 } /* Name.Builtin.Pseudo */\\n.monokai .fm { color: #A6E22E } /* Name.Function.Magic */\\n.monokai .vc { color: #F8F8F2 } /* Name.Variable.Class */\\n.monokai .vg { color: #F8F8F2 } /* Name.Variable.Global */\\n.monokai .vi { color: #F8F8F2 } /* Name.Variable.Instance */\\n.monokai .vm { color: #F8F8F2 } /* Name.Variable.Magic */\\n.monokai .il { color: #AE81FF } /* Literal.Number.Integer.Long */',),{}), '<div class=\"monokai\"><pre><span></span><span class=\"n\">A</span><span class=\"p\">(</span><span class=\"s2\">&quot;My Blog&quot;</span><span class=\"p\">,</span> <span class=\"n\">href</span><span class=\"o\">=</span><span class=\"s2\">&quot;https://audrey.feldroy.com&quot;</span><span class=\"p\">)</span>\\n</pre></div>\\n'),{'id': 'monokai'}), footer(('<pre><code class=\"language-html\">&lt;a href=\"https://audrey.feldroy.com\"&gt;My Blog&lt;/a&gt;\\n</code></pre>\\n',),{}))]"
      ]
     },
     "execution_count": 144,
     "metadata": {},
     "output_type": "execute_result"
    }
   ],
   "source": [
    "L(nb.cells).map(StyledCell)"
   ]
  },
  {
   "cell_type": "code",
   "execution_count": 145,
   "id": "bc031d94",
   "metadata": {
    "scrolled": true
   },
   "outputs": [
    {
     "data": {
      "text/html": [
       "<h1>Troubleshooting MonsterUI on This Site</h1>\n",
       "<p>My first MonsterUI notebook isn't rendering correctly. Here I debug it.</p>\n",
       "<div id=\"monokai\">\n",
       "  <style>pre { line-height: 125%; }\n",
       "td.linenos .normal { color: inherit; background-color: transparent; padding-left: 5px; padding-right: 5px; }\n",
       "span.linenos { color: inherit; background-color: transparent; padding-left: 5px; padding-right: 5px; }\n",
       "td.linenos .special { color: #000000; background-color: #ffffc0; padding-left: 5px; padding-right: 5px; }\n",
       "span.linenos.special { color: #000000; background-color: #ffffc0; padding-left: 5px; padding-right: 5px; }\n",
       ".monokai .hll { background-color: #49483e }\n",
       ".monokai { background: #272822; color: #F8F8F2 }\n",
       ".monokai .c { color: #959077 } /* Comment */\n",
       ".monokai .err { color: #ED007E; background-color: #1E0010 } /* Error */\n",
       ".monokai .esc { color: #F8F8F2 } /* Escape */\n",
       ".monokai .g { color: #F8F8F2 } /* Generic */\n",
       ".monokai .k { color: #66D9EF } /* Keyword */\n",
       ".monokai .l { color: #AE81FF } /* Literal */\n",
       ".monokai .n { color: #F8F8F2 } /* Name */\n",
       ".monokai .o { color: #FF4689 } /* Operator */\n",
       ".monokai .x { color: #F8F8F2 } /* Other */\n",
       ".monokai .p { color: #F8F8F2 } /* Punctuation */\n",
       ".monokai .ch { color: #959077 } /* Comment.Hashbang */\n",
       ".monokai .cm { color: #959077 } /* Comment.Multiline */\n",
       ".monokai .cp { color: #959077 } /* Comment.Preproc */\n",
       ".monokai .cpf { color: #959077 } /* Comment.PreprocFile */\n",
       ".monokai .c1 { color: #959077 } /* Comment.Single */\n",
       ".monokai .cs { color: #959077 } /* Comment.Special */\n",
       ".monokai .gd { color: #FF4689 } /* Generic.Deleted */\n",
       ".monokai .ge { color: #F8F8F2; font-style: italic } /* Generic.Emph */\n",
       ".monokai .ges { color: #F8F8F2; font-weight: bold; font-style: italic } /* Generic.EmphStrong */\n",
       ".monokai .gr { color: #F8F8F2 } /* Generic.Error */\n",
       ".monokai .gh { color: #F8F8F2 } /* Generic.Heading */\n",
       ".monokai .gi { color: #A6E22E } /* Generic.Inserted */\n",
       ".monokai .go { color: #66D9EF } /* Generic.Output */\n",
       ".monokai .gp { color: #FF4689; font-weight: bold } /* Generic.Prompt */\n",
       ".monokai .gs { color: #F8F8F2; font-weight: bold } /* Generic.Strong */\n",
       ".monokai .gu { color: #959077 } /* Generic.Subheading */\n",
       ".monokai .gt { color: #F8F8F2 } /* Generic.Traceback */\n",
       ".monokai .kc { color: #66D9EF } /* Keyword.Constant */\n",
       ".monokai .kd { color: #66D9EF } /* Keyword.Declaration */\n",
       ".monokai .kn { color: #FF4689 } /* Keyword.Namespace */\n",
       ".monokai .kp { color: #66D9EF } /* Keyword.Pseudo */\n",
       ".monokai .kr { color: #66D9EF } /* Keyword.Reserved */\n",
       ".monokai .kt { color: #66D9EF } /* Keyword.Type */\n",
       ".monokai .ld { color: #E6DB74 } /* Literal.Date */\n",
       ".monokai .m { color: #AE81FF } /* Literal.Number */\n",
       ".monokai .s { color: #E6DB74 } /* Literal.String */\n",
       ".monokai .na { color: #A6E22E } /* Name.Attribute */\n",
       ".monokai .nb { color: #F8F8F2 } /* Name.Builtin */\n",
       ".monokai .nc { color: #A6E22E } /* Name.Class */\n",
       ".monokai .no { color: #66D9EF } /* Name.Constant */\n",
       ".monokai .nd { color: #A6E22E } /* Name.Decorator */\n",
       ".monokai .ni { color: #F8F8F2 } /* Name.Entity */\n",
       ".monokai .ne { color: #A6E22E } /* Name.Exception */\n",
       ".monokai .nf { color: #A6E22E } /* Name.Function */\n",
       ".monokai .nl { color: #F8F8F2 } /* Name.Label */\n",
       ".monokai .nn { color: #F8F8F2 } /* Name.Namespace */\n",
       ".monokai .nx { color: #A6E22E } /* Name.Other */\n",
       ".monokai .py { color: #F8F8F2 } /* Name.Property */\n",
       ".monokai .nt { color: #FF4689 } /* Name.Tag */\n",
       ".monokai .nv { color: #F8F8F2 } /* Name.Variable */\n",
       ".monokai .ow { color: #FF4689 } /* Operator.Word */\n",
       ".monokai .pm { color: #F8F8F2 } /* Punctuation.Marker */\n",
       ".monokai .w { color: #F8F8F2 } /* Text.Whitespace */\n",
       ".monokai .mb { color: #AE81FF } /* Literal.Number.Bin */\n",
       ".monokai .mf { color: #AE81FF } /* Literal.Number.Float */\n",
       ".monokai .mh { color: #AE81FF } /* Literal.Number.Hex */\n",
       ".monokai .mi { color: #AE81FF } /* Literal.Number.Integer */\n",
       ".monokai .mo { color: #AE81FF } /* Literal.Number.Oct */\n",
       ".monokai .sa { color: #E6DB74 } /* Literal.String.Affix */\n",
       ".monokai .sb { color: #E6DB74 } /* Literal.String.Backtick */\n",
       ".monokai .sc { color: #E6DB74 } /* Literal.String.Char */\n",
       ".monokai .dl { color: #E6DB74 } /* Literal.String.Delimiter */\n",
       ".monokai .sd { color: #E6DB74 } /* Literal.String.Doc */\n",
       ".monokai .s2 { color: #E6DB74 } /* Literal.String.Double */\n",
       ".monokai .se { color: #AE81FF } /* Literal.String.Escape */\n",
       ".monokai .sh { color: #E6DB74 } /* Literal.String.Heredoc */\n",
       ".monokai .si { color: #E6DB74 } /* Literal.String.Interpol */\n",
       ".monokai .sx { color: #E6DB74 } /* Literal.String.Other */\n",
       ".monokai .sr { color: #E6DB74 } /* Literal.String.Regex */\n",
       ".monokai .s1 { color: #E6DB74 } /* Literal.String.Single */\n",
       ".monokai .ss { color: #E6DB74 } /* Literal.String.Symbol */\n",
       ".monokai .bp { color: #F8F8F2 } /* Name.Builtin.Pseudo */\n",
       ".monokai .fm { color: #A6E22E } /* Name.Function.Magic */\n",
       ".monokai .vc { color: #F8F8F2 } /* Name.Variable.Class */\n",
       ".monokai .vg { color: #F8F8F2 } /* Name.Variable.Global */\n",
       ".monokai .vi { color: #F8F8F2 } /* Name.Variable.Instance */\n",
       ".monokai .vm { color: #F8F8F2 } /* Name.Variable.Magic */\n",
       ".monokai .il { color: #AE81FF } /* Literal.Number.Integer.Long */</style>\n",
       "<div class=\"monokai\"><pre><span></span><span class=\"kn\">from</span><span class=\"w\"> </span><span class=\"nn\">fasthtml.common</span><span class=\"w\"> </span><span class=\"kn\">import</span> <span class=\"o\">*</span>\n",
       "<span class=\"kn\">from</span><span class=\"w\"> </span><span class=\"nn\">monsterui.all</span><span class=\"w\"> </span><span class=\"kn\">import</span> <span class=\"o\">*</span>\n",
       "</pre></div>\n",
       "</div>\n",
       "<h2>Understand the Problem</h2>\n",
       "<p><a href=\"https://audrey.feldroy.com/nbs/2025-01-22-MonsterUI-Buttons-and-Links\">MonsterUI Buttons and Links</a> is the notebook with the problem.</p>\n",
       "<p>Let's start with a subset of the problem: the H1 text \"MonsterUI Buttons and Links\" is showing up as normal text.</p>\n",
       "<div id=\"monokai\">\n",
       "  <style>pre { line-height: 125%; }\n",
       "td.linenos .normal { color: inherit; background-color: transparent; padding-left: 5px; padding-right: 5px; }\n",
       "span.linenos { color: inherit; background-color: transparent; padding-left: 5px; padding-right: 5px; }\n",
       "td.linenos .special { color: #000000; background-color: #ffffc0; padding-left: 5px; padding-right: 5px; }\n",
       "span.linenos.special { color: #000000; background-color: #ffffc0; padding-left: 5px; padding-right: 5px; }\n",
       ".monokai .hll { background-color: #49483e }\n",
       ".monokai { background: #272822; color: #F8F8F2 }\n",
       ".monokai .c { color: #959077 } /* Comment */\n",
       ".monokai .err { color: #ED007E; background-color: #1E0010 } /* Error */\n",
       ".monokai .esc { color: #F8F8F2 } /* Escape */\n",
       ".monokai .g { color: #F8F8F2 } /* Generic */\n",
       ".monokai .k { color: #66D9EF } /* Keyword */\n",
       ".monokai .l { color: #AE81FF } /* Literal */\n",
       ".monokai .n { color: #F8F8F2 } /* Name */\n",
       ".monokai .o { color: #FF4689 } /* Operator */\n",
       ".monokai .x { color: #F8F8F2 } /* Other */\n",
       ".monokai .p { color: #F8F8F2 } /* Punctuation */\n",
       ".monokai .ch { color: #959077 } /* Comment.Hashbang */\n",
       ".monokai .cm { color: #959077 } /* Comment.Multiline */\n",
       ".monokai .cp { color: #959077 } /* Comment.Preproc */\n",
       ".monokai .cpf { color: #959077 } /* Comment.PreprocFile */\n",
       ".monokai .c1 { color: #959077 } /* Comment.Single */\n",
       ".monokai .cs { color: #959077 } /* Comment.Special */\n",
       ".monokai .gd { color: #FF4689 } /* Generic.Deleted */\n",
       ".monokai .ge { color: #F8F8F2; font-style: italic } /* Generic.Emph */\n",
       ".monokai .ges { color: #F8F8F2; font-weight: bold; font-style: italic } /* Generic.EmphStrong */\n",
       ".monokai .gr { color: #F8F8F2 } /* Generic.Error */\n",
       ".monokai .gh { color: #F8F8F2 } /* Generic.Heading */\n",
       ".monokai .gi { color: #A6E22E } /* Generic.Inserted */\n",
       ".monokai .go { color: #66D9EF } /* Generic.Output */\n",
       ".monokai .gp { color: #FF4689; font-weight: bold } /* Generic.Prompt */\n",
       ".monokai .gs { color: #F8F8F2; font-weight: bold } /* Generic.Strong */\n",
       ".monokai .gu { color: #959077 } /* Generic.Subheading */\n",
       ".monokai .gt { color: #F8F8F2 } /* Generic.Traceback */\n",
       ".monokai .kc { color: #66D9EF } /* Keyword.Constant */\n",
       ".monokai .kd { color: #66D9EF } /* Keyword.Declaration */\n",
       ".monokai .kn { color: #FF4689 } /* Keyword.Namespace */\n",
       ".monokai .kp { color: #66D9EF } /* Keyword.Pseudo */\n",
       ".monokai .kr { color: #66D9EF } /* Keyword.Reserved */\n",
       ".monokai .kt { color: #66D9EF } /* Keyword.Type */\n",
       ".monokai .ld { color: #E6DB74 } /* Literal.Date */\n",
       ".monokai .m { color: #AE81FF } /* Literal.Number */\n",
       ".monokai .s { color: #E6DB74 } /* Literal.String */\n",
       ".monokai .na { color: #A6E22E } /* Name.Attribute */\n",
       ".monokai .nb { color: #F8F8F2 } /* Name.Builtin */\n",
       ".monokai .nc { color: #A6E22E } /* Name.Class */\n",
       ".monokai .no { color: #66D9EF } /* Name.Constant */\n",
       ".monokai .nd { color: #A6E22E } /* Name.Decorator */\n",
       ".monokai .ni { color: #F8F8F2 } /* Name.Entity */\n",
       ".monokai .ne { color: #A6E22E } /* Name.Exception */\n",
       ".monokai .nf { color: #A6E22E } /* Name.Function */\n",
       ".monokai .nl { color: #F8F8F2 } /* Name.Label */\n",
       ".monokai .nn { color: #F8F8F2 } /* Name.Namespace */\n",
       ".monokai .nx { color: #A6E22E } /* Name.Other */\n",
       ".monokai .py { color: #F8F8F2 } /* Name.Property */\n",
       ".monokai .nt { color: #FF4689 } /* Name.Tag */\n",
       ".monokai .nv { color: #F8F8F2 } /* Name.Variable */\n",
       ".monokai .ow { color: #FF4689 } /* Operator.Word */\n",
       ".monokai .pm { color: #F8F8F2 } /* Punctuation.Marker */\n",
       ".monokai .w { color: #F8F8F2 } /* Text.Whitespace */\n",
       ".monokai .mb { color: #AE81FF } /* Literal.Number.Bin */\n",
       ".monokai .mf { color: #AE81FF } /* Literal.Number.Float */\n",
       ".monokai .mh { color: #AE81FF } /* Literal.Number.Hex */\n",
       ".monokai .mi { color: #AE81FF } /* Literal.Number.Integer */\n",
       ".monokai .mo { color: #AE81FF } /* Literal.Number.Oct */\n",
       ".monokai .sa { color: #E6DB74 } /* Literal.String.Affix */\n",
       ".monokai .sb { color: #E6DB74 } /* Literal.String.Backtick */\n",
       ".monokai .sc { color: #E6DB74 } /* Literal.String.Char */\n",
       ".monokai .dl { color: #E6DB74 } /* Literal.String.Delimiter */\n",
       ".monokai .sd { color: #E6DB74 } /* Literal.String.Doc */\n",
       ".monokai .s2 { color: #E6DB74 } /* Literal.String.Double */\n",
       ".monokai .se { color: #AE81FF } /* Literal.String.Escape */\n",
       ".monokai .sh { color: #E6DB74 } /* Literal.String.Heredoc */\n",
       ".monokai .si { color: #E6DB74 } /* Literal.String.Interpol */\n",
       ".monokai .sx { color: #E6DB74 } /* Literal.String.Other */\n",
       ".monokai .sr { color: #E6DB74 } /* Literal.String.Regex */\n",
       ".monokai .s1 { color: #E6DB74 } /* Literal.String.Single */\n",
       ".monokai .ss { color: #E6DB74 } /* Literal.String.Symbol */\n",
       ".monokai .bp { color: #F8F8F2 } /* Name.Builtin.Pseudo */\n",
       ".monokai .fm { color: #A6E22E } /* Name.Function.Magic */\n",
       ".monokai .vc { color: #F8F8F2 } /* Name.Variable.Class */\n",
       ".monokai .vg { color: #F8F8F2 } /* Name.Variable.Global */\n",
       ".monokai .vi { color: #F8F8F2 } /* Name.Variable.Instance */\n",
       ".monokai .vm { color: #F8F8F2 } /* Name.Variable.Magic */\n",
       ".monokai .il { color: #AE81FF } /* Literal.Number.Integer.Long */</style>\n",
       "<div class=\"monokai\"><pre><span></span><span class=\"n\">H1</span><span class=\"p\">(</span><span class=\"s2\">&quot;Hi&quot;</span><span class=\"p\">)</span>\n",
       "</pre></div>\n",
       "</div>\n",
       "<footer><pre><code class=\"language-html\">&lt;h1 class=\"uk-h1 \"&gt;Hi&lt;/h1&gt;\n",
       "\n",
       "</code></pre>\n",
       "</footer>\n",
       "<div id=\"monokai\">\n",
       "  <style>pre { line-height: 125%; }\n",
       "td.linenos .normal { color: inherit; background-color: transparent; padding-left: 5px; padding-right: 5px; }\n",
       "span.linenos { color: inherit; background-color: transparent; padding-left: 5px; padding-right: 5px; }\n",
       "td.linenos .special { color: #000000; background-color: #ffffc0; padding-left: 5px; padding-right: 5px; }\n",
       "span.linenos.special { color: #000000; background-color: #ffffc0; padding-left: 5px; padding-right: 5px; }\n",
       ".monokai .hll { background-color: #49483e }\n",
       ".monokai { background: #272822; color: #F8F8F2 }\n",
       ".monokai .c { color: #959077 } /* Comment */\n",
       ".monokai .err { color: #ED007E; background-color: #1E0010 } /* Error */\n",
       ".monokai .esc { color: #F8F8F2 } /* Escape */\n",
       ".monokai .g { color: #F8F8F2 } /* Generic */\n",
       ".monokai .k { color: #66D9EF } /* Keyword */\n",
       ".monokai .l { color: #AE81FF } /* Literal */\n",
       ".monokai .n { color: #F8F8F2 } /* Name */\n",
       ".monokai .o { color: #FF4689 } /* Operator */\n",
       ".monokai .x { color: #F8F8F2 } /* Other */\n",
       ".monokai .p { color: #F8F8F2 } /* Punctuation */\n",
       ".monokai .ch { color: #959077 } /* Comment.Hashbang */\n",
       ".monokai .cm { color: #959077 } /* Comment.Multiline */\n",
       ".monokai .cp { color: #959077 } /* Comment.Preproc */\n",
       ".monokai .cpf { color: #959077 } /* Comment.PreprocFile */\n",
       ".monokai .c1 { color: #959077 } /* Comment.Single */\n",
       ".monokai .cs { color: #959077 } /* Comment.Special */\n",
       ".monokai .gd { color: #FF4689 } /* Generic.Deleted */\n",
       ".monokai .ge { color: #F8F8F2; font-style: italic } /* Generic.Emph */\n",
       ".monokai .ges { color: #F8F8F2; font-weight: bold; font-style: italic } /* Generic.EmphStrong */\n",
       ".monokai .gr { color: #F8F8F2 } /* Generic.Error */\n",
       ".monokai .gh { color: #F8F8F2 } /* Generic.Heading */\n",
       ".monokai .gi { color: #A6E22E } /* Generic.Inserted */\n",
       ".monokai .go { color: #66D9EF } /* Generic.Output */\n",
       ".monokai .gp { color: #FF4689; font-weight: bold } /* Generic.Prompt */\n",
       ".monokai .gs { color: #F8F8F2; font-weight: bold } /* Generic.Strong */\n",
       ".monokai .gu { color: #959077 } /* Generic.Subheading */\n",
       ".monokai .gt { color: #F8F8F2 } /* Generic.Traceback */\n",
       ".monokai .kc { color: #66D9EF } /* Keyword.Constant */\n",
       ".monokai .kd { color: #66D9EF } /* Keyword.Declaration */\n",
       ".monokai .kn { color: #FF4689 } /* Keyword.Namespace */\n",
       ".monokai .kp { color: #66D9EF } /* Keyword.Pseudo */\n",
       ".monokai .kr { color: #66D9EF } /* Keyword.Reserved */\n",
       ".monokai .kt { color: #66D9EF } /* Keyword.Type */\n",
       ".monokai .ld { color: #E6DB74 } /* Literal.Date */\n",
       ".monokai .m { color: #AE81FF } /* Literal.Number */\n",
       ".monokai .s { color: #E6DB74 } /* Literal.String */\n",
       ".monokai .na { color: #A6E22E } /* Name.Attribute */\n",
       ".monokai .nb { color: #F8F8F2 } /* Name.Builtin */\n",
       ".monokai .nc { color: #A6E22E } /* Name.Class */\n",
       ".monokai .no { color: #66D9EF } /* Name.Constant */\n",
       ".monokai .nd { color: #A6E22E } /* Name.Decorator */\n",
       ".monokai .ni { color: #F8F8F2 } /* Name.Entity */\n",
       ".monokai .ne { color: #A6E22E } /* Name.Exception */\n",
       ".monokai .nf { color: #A6E22E } /* Name.Function */\n",
       ".monokai .nl { color: #F8F8F2 } /* Name.Label */\n",
       ".monokai .nn { color: #F8F8F2 } /* Name.Namespace */\n",
       ".monokai .nx { color: #A6E22E } /* Name.Other */\n",
       ".monokai .py { color: #F8F8F2 } /* Name.Property */\n",
       ".monokai .nt { color: #FF4689 } /* Name.Tag */\n",
       ".monokai .nv { color: #F8F8F2 } /* Name.Variable */\n",
       ".monokai .ow { color: #FF4689 } /* Operator.Word */\n",
       ".monokai .pm { color: #F8F8F2 } /* Punctuation.Marker */\n",
       ".monokai .w { color: #F8F8F2 } /* Text.Whitespace */\n",
       ".monokai .mb { color: #AE81FF } /* Literal.Number.Bin */\n",
       ".monokai .mf { color: #AE81FF } /* Literal.Number.Float */\n",
       ".monokai .mh { color: #AE81FF } /* Literal.Number.Hex */\n",
       ".monokai .mi { color: #AE81FF } /* Literal.Number.Integer */\n",
       ".monokai .mo { color: #AE81FF } /* Literal.Number.Oct */\n",
       ".monokai .sa { color: #E6DB74 } /* Literal.String.Affix */\n",
       ".monokai .sb { color: #E6DB74 } /* Literal.String.Backtick */\n",
       ".monokai .sc { color: #E6DB74 } /* Literal.String.Char */\n",
       ".monokai .dl { color: #E6DB74 } /* Literal.String.Delimiter */\n",
       ".monokai .sd { color: #E6DB74 } /* Literal.String.Doc */\n",
       ".monokai .s2 { color: #E6DB74 } /* Literal.String.Double */\n",
       ".monokai .se { color: #AE81FF } /* Literal.String.Escape */\n",
       ".monokai .sh { color: #E6DB74 } /* Literal.String.Heredoc */\n",
       ".monokai .si { color: #E6DB74 } /* Literal.String.Interpol */\n",
       ".monokai .sx { color: #E6DB74 } /* Literal.String.Other */\n",
       ".monokai .sr { color: #E6DB74 } /* Literal.String.Regex */\n",
       ".monokai .s1 { color: #E6DB74 } /* Literal.String.Single */\n",
       ".monokai .ss { color: #E6DB74 } /* Literal.String.Symbol */\n",
       ".monokai .bp { color: #F8F8F2 } /* Name.Builtin.Pseudo */\n",
       ".monokai .fm { color: #A6E22E } /* Name.Function.Magic */\n",
       ".monokai .vc { color: #F8F8F2 } /* Name.Variable.Class */\n",
       ".monokai .vg { color: #F8F8F2 } /* Name.Variable.Global */\n",
       ".monokai .vi { color: #F8F8F2 } /* Name.Variable.Instance */\n",
       ".monokai .vm { color: #F8F8F2 } /* Name.Variable.Magic */\n",
       ".monokai .il { color: #AE81FF } /* Literal.Number.Integer.Long */</style>\n",
       "<div class=\"monokai\"><pre><span></span><span class=\"n\">A</span><span class=\"p\">(</span><span class=\"s2\">&quot;My Blog&quot;</span><span class=\"p\">,</span> <span class=\"n\">href</span><span class=\"o\">=</span><span class=\"s2\">&quot;https://audrey.feldroy.com&quot;</span><span class=\"p\">)</span>\n",
       "</pre></div>\n",
       "</div>\n",
       "<footer><pre><code class=\"language-html\">&lt;a href=\"https://audrey.feldroy.com\"&gt;My Blog&lt;/a&gt;\n",
       "</code></pre>\n",
       "</footer>\n",
       "<script>if (window.htmx) htmx.process(document.body)</script>"
      ],
      "text/plain": [
       "<IPython.core.display.HTML object>"
      ]
     },
     "metadata": {},
     "output_type": "display_data"
    }
   ],
   "source": [
    "show(*L(nb.cells).map(StyledCell))"
   ]
  },
  {
   "cell_type": "markdown",
   "id": "e1fcdf3f",
   "metadata": {},
   "source": [
    "## Notebook Detail Page"
   ]
  },
  {
   "cell_type": "code",
   "execution_count": 147,
   "id": "c183a185",
   "metadata": {},
   "outputs": [],
   "source": [
    "#| export\n",
    "@rt(\"/nbs/{name}\")\n",
    "def notebook(name:str):\n",
    "    fpath = Path(f'nbs/{name}.ipynb')\n",
    "    nb = read_nb(fpath)\n",
    "    title = nb.cells[0].source.lstrip(\"# \")\n",
    "    desc = nb.cells[1].source\n",
    "    if \"MonsterUI\" in title:\n",
    "        return (\n",
    "            Theme.slate.headers(),\n",
    "            franken.Container(\n",
    "                franken.H1(title), # Title\n",
    "                franken.P(desc), # Desc\n",
    "                *L(nb.cells[2:]).map(StyledCell),\n",
    "                cls=\"space-y-5\"\n",
    "            )\n",
    "    )\n",
    "    return (\n",
    "        Style(':root {font-family: system-ui, -apple-system, \"Segoe UI\", Roboto, \"Helvetica Neue\", sans-serif; color-scheme: light dark;} body {background-color: light-dark(#ffffff, #1a1a1a); color: light-dark(#1a1a1a, #ffffff);} p {line-height: 1.5;}'),\n",
    "        Div(\n",
    "            H1(title), # Title\n",
    "            P(desc), # Desc\n",
    "            *L(nb.cells[2:]).map(StyledCell),\n",
    "            cls=\"space-y-5\"\n",
    "        )\n",
    "    )"
   ]
  },
  {
   "cell_type": "markdown",
   "id": "860199ef",
   "metadata": {},
   "source": [
    "http://localhost:8000/nbs/2025-01-23-Troubleshooting-MonsterUI-on-This-Site"
   ]
  },
  {
   "cell_type": "code",
   "execution_count": 182,
   "id": "3bf845d0",
   "metadata": {},
   "outputs": [
    {
     "data": {
      "text/plain": [
       "Path('/Users/arg/fun/arg-blog-fasthtml/nbs/2025-01-23-Troubleshooting-MonsterUI-on-This-Site.ipynb')"
      ]
     },
     "execution_count": 182,
     "metadata": {},
     "output_type": "execute_result"
    }
   ],
   "source": [
    "name = \"2025-01-23-Troubleshooting-MonsterUI-on-This-Site\"\n",
    "fpath = Path(f'{name}.ipynb')\n",
    "fpath.absolute()"
   ]
  },
  {
   "cell_type": "markdown",
   "id": "b0e8cec5",
   "metadata": {},
   "source": [
    "## Troubleshooting the Troubleshooting MonsterUI Notebook"
   ]
  },
  {
   "cell_type": "code",
   "execution_count": 300,
   "id": "9fca81a7",
   "metadata": {},
   "outputs": [
    {
     "data": {
      "text/plain": [
       "(#3) [{'cell_type': 'code', 'execution_count': 2, 'id': '8bff65e3', 'metadata': {}, 'outputs': [], 'source': 'from fasthtml.common import *\\nfrom monsterui.all import *', 'idx_': 2},{'cell_type': 'code', 'execution_count': 3, 'id': 'cb344dfb', 'metadata': {}, 'outputs': [{'data': {'text/markdown': ['```html\\n', '<h1 class=\"uk-h1 \">Hi</h1>\\n', '\\n', '```'], 'text/plain': [\"h1(('Hi',),{'class': 'uk-h1 '})\"]}, 'execution_count': 3, 'metadata': {}, 'output_type': 'execute_result'}], 'source': 'H1(\"Hi\")', 'idx_': 5},{'cell_type': 'code', 'execution_count': 4, 'id': 'b86c1d3c', 'metadata': {}, 'outputs': [{'data': {'text/markdown': ['```html\\n', '<a href=\"https://audrey.feldroy.com\">My Blog</a>\\n', '```'], 'text/plain': [\"a(('My Blog',),{'href': 'https://audrey.feldroy.com'})\"]}, 'execution_count': 4, 'metadata': {}, 'output_type': 'execute_result'}], 'source': 'A(\"My Blog\", href=\"https://audrey.feldroy.com\")', 'idx_': 6}]"
      ]
     },
     "execution_count": 300,
     "metadata": {},
     "output_type": "execute_result"
    }
   ],
   "source": [
    "def is_code_cell(c): return c.cell_type == \"code\"\n",
    "cells = L(read_nb(nb_paths[1]).cells).filter(is_code_cell)\n",
    "cells"
   ]
  },
  {
   "cell_type": "code",
   "execution_count": 301,
   "id": "0a4a98b2",
   "metadata": {},
   "outputs": [
    {
     "data": {
      "text/markdown": [
       "```json\n",
       "{ 'cell_type': 'code',\n",
       "  'execution_count': 3,\n",
       "  'id': 'cb344dfb',\n",
       "  'idx_': 5,\n",
       "  'metadata': {},\n",
       "  'outputs': [ { 'data': { 'text/markdown': [ '```html\\n',\n",
       "                                              '<h1 class=\"uk-h1 \">Hi</h1>\\n',\n",
       "                                              '\\n',\n",
       "                                              '```'],\n",
       "                           'text/plain': [\"h1(('Hi',),{'class': 'uk-h1 '})\"]},\n",
       "                 'execution_count': 3,\n",
       "                 'metadata': {},\n",
       "                 'output_type': 'execute_result'}],\n",
       "  'source': 'H1(\"Hi\")'}\n",
       "```"
      ],
      "text/plain": [
       "{'cell_type': 'code',\n",
       " 'execution_count': 3,\n",
       " 'id': 'cb344dfb',\n",
       " 'metadata': {},\n",
       " 'outputs': [{'data': {'text/markdown': ['```html\\n',\n",
       "     '<h1 class=\"uk-h1 \">Hi</h1>\\n',\n",
       "     '\\n',\n",
       "     '```'],\n",
       "    'text/plain': [\"h1(('Hi',),{'class': 'uk-h1 '})\"]},\n",
       "   'execution_count': 3,\n",
       "   'metadata': {},\n",
       "   'output_type': 'execute_result'}],\n",
       " 'source': 'H1(\"Hi\")',\n",
       " 'idx_': 5}"
      ]
     },
     "execution_count": 301,
     "metadata": {},
     "output_type": "execute_result"
    }
   ],
   "source": [
    "cells[1]"
   ]
  },
  {
   "cell_type": "code",
   "execution_count": 302,
   "id": "7a989774",
   "metadata": {},
   "outputs": [
    {
     "data": {
      "text/markdown": [
       "```json\n",
       "{ 'text/markdown': ['```html\\n', '<h1 class=\"uk-h1 \">Hi</h1>\\n', '\\n', '```'],\n",
       "  'text/plain': [\"h1(('Hi',),{'class': 'uk-h1 '})\"]}\n",
       "```"
      ],
      "text/plain": [
       "{'text/markdown': ['```html\\n', '<h1 class=\"uk-h1 \">Hi</h1>\\n', '\\n', '```'],\n",
       " 'text/plain': [\"h1(('Hi',),{'class': 'uk-h1 '})\"]}"
      ]
     },
     "execution_count": 302,
     "metadata": {},
     "output_type": "execute_result"
    }
   ],
   "source": [
    "cells[1].outputs[0].data"
   ]
  },
  {
   "cell_type": "markdown",
   "id": "621ca353",
   "metadata": {},
   "source": [
    "## Troubleshooting the Cosine Similarity Notebook"
   ]
  },
  {
   "cell_type": "code",
   "execution_count": 296,
   "id": "a804bd42",
   "metadata": {},
   "outputs": [
    {
     "data": {
      "text/markdown": [
       "```json\n",
       "{ 'cell_type': 'code',\n",
       "  'execution_count': 7,\n",
       "  'id': '06004824',\n",
       "  'idx_': 6,\n",
       "  'metadata': {},\n",
       "  'outputs': [ { 'data': { 'text/latex': [ '$$\\\\text{cos}(\\\\theta) = '\n",
       "                                           '\\\\frac{\\\\mathbf{A} \\\\cdot '\n",
       "                                           '\\\\mathbf{B}}{\\\\|\\\\mathbf{A}\\\\| '\n",
       "                                           '\\\\|\\\\mathbf{B}\\\\|}$$\\n'],\n",
       "                           'text/plain': [ '<IPython.core.display.Latex '\n",
       "                                           'object>']},\n",
       "                 'metadata': {},\n",
       "                 'output_type': 'display_data'}],\n",
       "  'source': '%%latex\\n'\n",
       "            '$$\\\\text{cos}(\\\\theta) = \\\\frac{\\\\mathbf{A} \\\\cdot '\n",
       "            '\\\\mathbf{B}}{\\\\|\\\\mathbf{A}\\\\| \\\\|\\\\mathbf{B}\\\\|}$$'}\n",
       "```"
      ],
      "text/plain": [
       "{'cell_type': 'code',\n",
       " 'execution_count': 7,\n",
       " 'id': '06004824',\n",
       " 'metadata': {},\n",
       " 'outputs': [{'data': {'text/latex': ['$$\\\\text{cos}(\\\\theta) = \\\\frac{\\\\mathbf{A} \\\\cdot \\\\mathbf{B}}{\\\\|\\\\mathbf{A}\\\\| \\\\|\\\\mathbf{B}\\\\|}$$\\n'],\n",
       "    'text/plain': ['<IPython.core.display.Latex object>']},\n",
       "   'metadata': {},\n",
       "   'output_type': 'display_data'}],\n",
       " 'source': '%%latex\\n$$\\\\text{cos}(\\\\theta) = \\\\frac{\\\\mathbf{A} \\\\cdot \\\\mathbf{B}}{\\\\|\\\\mathbf{A}\\\\| \\\\|\\\\mathbf{B}\\\\|}$$',\n",
       " 'idx_': 6}"
      ]
     },
     "execution_count": 296,
     "metadata": {},
     "output_type": "execute_result"
    }
   ],
   "source": [
    "def is_code_cell(c): return c.cell_type == \"code\"\n",
    "cells = L(read_nb(nb_paths[9]).cells).filter(is_code_cell)\n",
    "cells[0]"
   ]
  },
  {
   "cell_type": "markdown",
   "id": "ab0f716c",
   "metadata": {},
   "source": [
    "## Rendering Code Outputs With render_code_output"
   ]
  },
  {
   "cell_type": "code",
   "execution_count": 304,
   "id": "289234d6",
   "metadata": {},
   "outputs": [
    {
     "data": {
      "text/markdown": [
       "```json\n",
       "{ 'cell_type': 'code',\n",
       "  'execution_count': 3,\n",
       "  'id': 'cb344dfb',\n",
       "  'idx_': 5,\n",
       "  'metadata': {},\n",
       "  'outputs': [ { 'data': { 'text/markdown': [ '```html\\n',\n",
       "                                              '<h1 class=\"uk-h1 \">Hi</h1>\\n',\n",
       "                                              '\\n',\n",
       "                                              '```'],\n",
       "                           'text/plain': [\"h1(('Hi',),{'class': 'uk-h1 '})\"]},\n",
       "                 'execution_count': 3,\n",
       "                 'metadata': {},\n",
       "                 'output_type': 'execute_result'}],\n",
       "  'source': 'H1(\"Hi\")'}\n",
       "```"
      ],
      "text/plain": [
       "{'cell_type': 'code',\n",
       " 'execution_count': 3,\n",
       " 'id': 'cb344dfb',\n",
       " 'metadata': {},\n",
       " 'outputs': [{'data': {'text/markdown': ['```html\\n',\n",
       "     '<h1 class=\"uk-h1 \">Hi</h1>\\n',\n",
       "     '\\n',\n",
       "     '```'],\n",
       "    'text/plain': [\"h1(('Hi',),{'class': 'uk-h1 '})\"]},\n",
       "   'execution_count': 3,\n",
       "   'metadata': {},\n",
       "   'output_type': 'execute_result'}],\n",
       " 'source': 'H1(\"Hi\")',\n",
       " 'idx_': 5}"
      ]
     },
     "execution_count": 304,
     "metadata": {},
     "output_type": "execute_result"
    }
   ],
   "source": [
    "cells = L(read_nb(nb_paths[1]).cells).filter(is_code_cell)\n",
    "cells[1]"
   ]
  },
  {
   "cell_type": "code",
   "execution_count": 306,
   "id": "9d406a72",
   "metadata": {},
   "outputs": [
    {
     "data": {
      "text/markdown": [
       "```html\n",
       "<footer><pre><code class=\"language-html\">&lt;h1 class=\"uk-h1 \"&gt;Hi&lt;/h1&gt;\n",
       "\n",
       "</code></pre>\n",
       "</footer>\n",
       "\n",
       "```"
      ],
      "text/plain": [
       "footer(('<pre><code class=\"language-html\">&lt;h1 class=\"uk-h1 \"&gt;Hi&lt;/h1&gt;\\n\\n</code></pre>\\n',),{})"
      ]
     },
     "execution_count": 306,
     "metadata": {},
     "output_type": "execute_result"
    }
   ],
   "source": [
    "render_code_output(cells[1])"
   ]
  },
  {
   "cell_type": "code",
   "execution_count": 156,
   "id": "6f86521c",
   "metadata": {
    "scrolled": true
   },
   "outputs": [],
   "source": [
    "# show(*L(read_nb(nb_paths[4]).cells).map(StyledCell))"
   ]
  },
  {
   "cell_type": "markdown",
   "id": "bf58bb44",
   "metadata": {},
   "source": [
    "## Serve"
   ]
  },
  {
   "cell_type": "code",
   "execution_count": null,
   "id": "9b8a50a8",
   "metadata": {},
   "outputs": [],
   "source": [
    "#| export\n",
    "serve()"
   ]
  },
  {
   "cell_type": "code",
   "execution_count": 57,
   "id": "06165fa9",
   "metadata": {},
   "outputs": [],
   "source": [
    "server.stop()"
   ]
  },
  {
   "cell_type": "markdown",
   "id": "64a4bdeb",
   "metadata": {},
   "source": [
    "## Export"
   ]
  },
  {
   "cell_type": "markdown",
   "id": "8b1f7e15",
   "metadata": {},
   "source": [
    "To export this notebook as arg-blog-fasthtml's main.py:\n",
    "\n",
    "```bash\n",
    "nb_export 2025-01-23-This-Site-Is-Now-Powered-by-This-Notebook.ipynb\n",
    "mv main.py ..\n",
    "```"
   ]
  }
 ],
 "metadata": {
  "kernelspec": {
   "display_name": "Python 3 (ipykernel)",
   "language": "python",
   "name": "python3"
  },
  "language_info": {
   "codemirror_mode": {
    "name": "ipython",
    "version": 3
   },
   "file_extension": ".py",
   "mimetype": "text/x-python",
   "name": "python",
   "nbconvert_exporter": "python",
   "pygments_lexer": "ipython3",
   "version": "3.12.8"
  }
 },
 "nbformat": 4,
 "nbformat_minor": 5
}
