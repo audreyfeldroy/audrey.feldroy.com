{
 "cells": [
  {
   "cell_type": "markdown",
   "id": "14c68c3d",
   "metadata": {},
   "source": [
    "# Genanki and fastcore"
   ]
  },
  {
   "cell_type": "markdown",
   "id": "f4a193b4",
   "metadata": {},
   "source": [
    "Working with Anki flashcard decks in Python, with genanki to work with the decks and fastcore for ease of use."
   ]
  },
  {
   "cell_type": "code",
   "execution_count": 13,
   "id": "25501342",
   "metadata": {},
   "outputs": [],
   "source": [
    "import genanki\n",
    "from fastcore.utils import *"
   ]
  },
  {
   "cell_type": "markdown",
   "id": "b6c3fd99",
   "metadata": {},
   "source": [
    "## Model"
   ]
  },
  {
   "cell_type": "markdown",
   "id": "731e2368",
   "metadata": {},
   "source": [
    "First I define a model with Q&A fields and a card template:"
   ]
  },
  {
   "cell_type": "code",
   "execution_count": 14,
   "id": "d56787f4",
   "metadata": {},
   "outputs": [],
   "source": [
    "my_model = genanki.Model(\n",
    "  1607392319,\n",
    "  'Simple  Model',\n",
    "  fields=[\n",
    "    {'name': 'Question'},\n",
    "    {'name': 'Answer'},\n",
    "  ],\n",
    "  templates=[\n",
    "    {\n",
    "      'name': 'Card 1',\n",
    "      'qfmt': '{{Question}}',\n",
    "      'afmt': '{{FrontSide}}<hr id=\"answer\">{{Answer}}',\n",
    "    },\n",
    "  ])"
   ]
  },
  {
   "cell_type": "markdown",
   "id": "cbe061e5",
   "metadata": {},
   "source": [
    "## Notes"
   ]
  },
  {
   "cell_type": "markdown",
   "id": "3e26f57f",
   "metadata": {},
   "source": [
    "I create a note:"
   ]
  },
  {
   "cell_type": "code",
   "execution_count": 15,
   "id": "7f461a72",
   "metadata": {},
   "outputs": [
    {
     "data": {
      "text/plain": [
       "Note(model=Model(model_id=1607392319, name='Simple  Model', fields=[{'name': 'Question'}, {'name': 'Answer'}], templates=[{'name': 'Card 1', 'qfmt': '{{Question}}', 'afmt': '{{FrontSide}}<hr id=\"answer\">{{Answer}}'}], css='', model_type=0), fields=['Magandang umaga', 'Good morning'], sort_field='Magandang umaga', tags=_TagList([]), guid='d?PmHtKm}t')"
      ]
     },
     "execution_count": 15,
     "metadata": {},
     "output_type": "execute_result"
    }
   ],
   "source": [
    "note_gm = genanki.Note(model=my_model, fields=['Magandang umaga', 'Good morning'])\n",
    "note_gm"
   ]
  },
  {
   "cell_type": "markdown",
   "id": "71d0aa28",
   "metadata": {},
   "source": [
    "It's nice to bulk-create notes like this:"
   ]
  },
  {
   "cell_type": "code",
   "execution_count": 16,
   "id": "00540ad9",
   "metadata": {},
   "outputs": [
    {
     "data": {
      "text/plain": [
       "(#3) [['Magandang hapon', 'Good afternoon'],['Magandang gabi', 'Good evening'],['Paalam', 'Goodbye']]"
      ]
     },
     "execution_count": 16,
     "metadata": {},
     "output_type": "execute_result"
    }
   ],
   "source": [
    "notes = L(['Magandang hapon', 'Good afternoon'],\n",
    "    ['Magandang gabi', 'Good evening'],\n",
    "    ['Paalam', 'Goodbye'])\n",
    "notes"
   ]
  },
  {
   "cell_type": "markdown",
   "id": "47adf76a",
   "metadata": {},
   "source": [
    "Recall before that in `my_model` the first field goes into `Question` and the second goes into `Answer`."
   ]
  },
  {
   "cell_type": "markdown",
   "id": "fb593c44",
   "metadata": {},
   "source": [
    "Then to actually turn those list items into notes:"
   ]
  },
  {
   "cell_type": "code",
   "execution_count": 19,
   "id": "1bdcd134",
   "metadata": {},
   "outputs": [],
   "source": [
    "def add_note(qa): return genanki.Note(model=my_model, fields=qa)"
   ]
  },
  {
   "cell_type": "code",
   "execution_count": 20,
   "id": "cab63db3",
   "metadata": {},
   "outputs": [
    {
     "data": {
      "text/plain": [
       "(#3) [Note(model=Model(model_id=1607392319, name='Simple  Model', fields=[{'name': 'Question'}, {'name': 'Answer'}], templates=[{'name': 'Card 1', 'qfmt': '{{Question}}', 'afmt': '{{FrontSide}}<hr id=\"answer\">{{Answer}}'}], css='', model_type=0), fields=['Magandang hapon', 'Good afternoon'], sort_field='Magandang hapon', tags=_TagList([]), guid='l!E%BkZ4ir'),Note(model=Model(model_id=1607392319, name='Simple  Model', fields=[{'name': 'Question'}, {'name': 'Answer'}], templates=[{'name': 'Card 1', 'qfmt': '{{Question}}', 'afmt': '{{FrontSide}}<hr id=\"answer\">{{Answer}}'}], css='', model_type=0), fields=['Magandang gabi', 'Good evening'], sort_field='Magandang gabi', tags=_TagList([]), guid='lB:)1uVms#'),Note(model=Model(model_id=1607392319, name='Simple  Model', fields=[{'name': 'Question'}, {'name': 'Answer'}], templates=[{'name': 'Card 1', 'qfmt': '{{Question}}', 'afmt': '{{FrontSide}}<hr id=\"answer\">{{Answer}}'}], css='', model_type=0), fields=['Paalam', 'Goodbye'], sort_field='Paalam', tags=_TagList([]), guid='n5_IDz@c|$')]"
      ]
     },
     "execution_count": 20,
     "metadata": {},
     "output_type": "execute_result"
    }
   ],
   "source": [
    "gn = notes.map(add_note)\n",
    "gn"
   ]
  },
  {
   "cell_type": "markdown",
   "id": "0bbbe426",
   "metadata": {},
   "source": [
    "## Deck"
   ]
  },
  {
   "cell_type": "markdown",
   "id": "6e12f9da",
   "metadata": {},
   "source": [
    "Let's create a deck and add 1 starter note:"
   ]
  },
  {
   "cell_type": "code",
   "execution_count": 7,
   "id": "ca1b8a12",
   "metadata": {},
   "outputs": [],
   "source": [
    "my_deck = genanki.Deck(\n",
    "  2059400110,\n",
    "  'Tagalog Greetings')\n",
    "\n",
    "my_deck.add_note(note_gm)"
   ]
  },
  {
   "cell_type": "markdown",
   "id": "35038be8",
   "metadata": {},
   "source": [
    "We can see the note's in the deck:"
   ]
  },
  {
   "cell_type": "code",
   "execution_count": 21,
   "id": "91a9393b",
   "metadata": {},
   "outputs": [
    {
     "data": {
      "text/plain": [
       "[Note(model=Model(model_id=1607392319, name='Simple Model', fields=[{'name': 'Question'}, {'name': 'Answer'}], templates=[{'name': 'Card 1', 'qfmt': '{{Question}}', 'afmt': '{{FrontSide}}<hr id=\"answer\">{{Answer}}'}], css='', model_type=0), fields=['Magandang umaga', 'Good morning'], sort_field='Magandang umaga', tags=_TagList([]), guid='d?PmHtKm}t')]"
      ]
     },
     "execution_count": 21,
     "metadata": {},
     "output_type": "execute_result"
    }
   ],
   "source": [
    "my_deck.notes"
   ]
  },
  {
   "cell_type": "markdown",
   "id": "aeb771ee",
   "metadata": {},
   "source": [
    "We extend it with the rest of the notes we bulk-created:"
   ]
  },
  {
   "cell_type": "code",
   "execution_count": 22,
   "id": "0d5bc126",
   "metadata": {},
   "outputs": [],
   "source": [
    "my_deck.notes.extend(gn)"
   ]
  },
  {
   "cell_type": "code",
   "execution_count": 24,
   "id": "8f4952f5",
   "metadata": {},
   "outputs": [
    {
     "data": {
      "text/plain": [
       "[Note(model=Model(model_id=1607392319, name='Simple Model', fields=[{'name': 'Question'}, {'name': 'Answer'}], templates=[{'name': 'Card 1', 'qfmt': '{{Question}}', 'afmt': '{{FrontSide}}<hr id=\"answer\">{{Answer}}'}], css='', model_type=0), fields=['Magandang umaga', 'Good morning'], sort_field='Magandang umaga', tags=_TagList([]), guid='d?PmHtKm}t'),\n",
       " Note(model=Model(model_id=1607392319, name='Simple  Model', fields=[{'name': 'Question'}, {'name': 'Answer'}], templates=[{'name': 'Card 1', 'qfmt': '{{Question}}', 'afmt': '{{FrontSide}}<hr id=\"answer\">{{Answer}}'}], css='', model_type=0), fields=['Magandang hapon', 'Good afternoon'], sort_field='Magandang hapon', tags=_TagList([]), guid='l!E%BkZ4ir'),\n",
       " Note(model=Model(model_id=1607392319, name='Simple  Model', fields=[{'name': 'Question'}, {'name': 'Answer'}], templates=[{'name': 'Card 1', 'qfmt': '{{Question}}', 'afmt': '{{FrontSide}}<hr id=\"answer\">{{Answer}}'}], css='', model_type=0), fields=['Magandang gabi', 'Good evening'], sort_field='Magandang gabi', tags=_TagList([]), guid='lB:)1uVms#'),\n",
       " Note(model=Model(model_id=1607392319, name='Simple  Model', fields=[{'name': 'Question'}, {'name': 'Answer'}], templates=[{'name': 'Card 1', 'qfmt': '{{Question}}', 'afmt': '{{FrontSide}}<hr id=\"answer\">{{Answer}}'}], css='', model_type=0), fields=['Paalam', 'Goodbye'], sort_field='Paalam', tags=_TagList([]), guid='n5_IDz@c|$')]"
      ]
     },
     "execution_count": 24,
     "metadata": {},
     "output_type": "execute_result"
    }
   ],
   "source": [
    "my_deck.notes"
   ]
  },
  {
   "cell_type": "markdown",
   "id": "2f5bbd62",
   "metadata": {},
   "source": [
    "## Packaging the Deck for Anki"
   ]
  },
  {
   "cell_type": "markdown",
   "id": "c6d6aea7",
   "metadata": {},
   "source": [
    "This writes out an Anki package file that we can import:"
   ]
  },
  {
   "cell_type": "code",
   "execution_count": 25,
   "id": "7bdc12da",
   "metadata": {},
   "outputs": [],
   "source": [
    "genanki.Package(my_deck).write_to_file('tagalog_greetings.apkg')"
   ]
  },
  {
   "cell_type": "code",
   "execution_count": 27,
   "id": "2c804009",
   "metadata": {
    "scrolled": true
   },
   "outputs": [
    {
     "name": "stdout",
     "output_type": "stream",
     "text": [
      "tagalog_greetings.apkg\r\n"
     ]
    }
   ],
   "source": [
    "!ls *.apkg"
   ]
  },
  {
   "cell_type": "markdown",
   "id": "83c8fd44",
   "metadata": {},
   "source": [
    "## Opening the Deck in Anki"
   ]
  },
  {
   "cell_type": "markdown",
   "id": "31442d54",
   "metadata": {},
   "source": [
    "In Anki Desktop:\n",
    "    \n",
    "1. I went to File > Import\n",
    "2. I chose tagalog_greetings.apkg\n",
    "3. I was able to go through the cards like any other deck!"
   ]
  },
  {
   "cell_type": "markdown",
   "id": "752a39fd",
   "metadata": {},
   "source": [
    "## Resources\n",
    "\n",
    "* Genanki: https://github.com/kerrickstaley/genanki\n",
    "* fastcore: https://fastcore.fast.ai/"
   ]
  }
 ],
 "metadata": {
  "kernelspec": {
   "display_name": "Python 3 (ipykernel)",
   "language": "python",
   "name": "python3"
  },
  "language_info": {
   "codemirror_mode": {
    "name": "ipython",
    "version": 3
   },
   "file_extension": ".py",
   "mimetype": "text/x-python",
   "name": "python",
   "nbconvert_exporter": "python",
   "pygments_lexer": "ipython3",
   "version": "3.12.8"
  }
 },
 "nbformat": 4,
 "nbformat_minor": 5
}
