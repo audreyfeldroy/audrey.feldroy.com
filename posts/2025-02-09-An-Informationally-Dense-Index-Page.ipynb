{
 "cells": [
  {
   "cell_type": "markdown",
   "id": "dc40108b",
   "metadata": {},
   "source": [
    "# An Informationally-Dense Index Page"
   ]
  },
  {
   "cell_type": "markdown",
   "id": "316ebf66",
   "metadata": {},
   "source": [
    "Now that I have a lot of notebooks, it would be nice to have a more compact index page. I want to see more of my posts from mobile all at once. I'm going to prototype it in Tailwind."
   ]
  },
  {
   "cell_type": "code",
   "execution_count": 1,
   "id": "8b9bec69",
   "metadata": {},
   "outputs": [],
   "source": [
    "from datetime import datetime\n",
    "from execnb.nbio import read_nb\n",
    "from fastcore.utils import *\n",
    "from fasthtml.common import *\n",
    "from fasthtml.jupyter import *\n",
    "from monsterui import franken\n",
    "from monsterui.all import Theme"
   ]
  },
  {
   "cell_type": "code",
   "execution_count": 2,
   "id": "88499976",
   "metadata": {},
   "outputs": [],
   "source": [
    "def get_nb_paths(): \n",
    "    root = Path() if IN_NOTEBOOK else Path(\"nbs/\")\n",
    "    return L(root.glob(\"*.ipynb\")).sorted(reverse=True)"
   ]
  },
  {
   "cell_type": "code",
   "execution_count": 3,
   "id": "7c1f960a",
   "metadata": {
    "scrolled": true
   },
   "outputs": [
    {
     "data": {
      "text/plain": [
       "(#66) [Path('2025-02-09-This-Site-Is-Now-Powered-by-This-Notebook-Part-7.ipynb'),Path('2025-02-09-An-Informationally-Dense-Index-Page.ipynb'),Path('2025-02-08-This-Notebook-Is-Also-a-Keylogger.ipynb'),Path('2025-02-07-This-Site-Is-Now-Powered-by-This-Notebook-Part-6.ipynb'),Path('2025-02-06-Creating-an-Accessible-Inline-Nav-FastTag.ipynb'),Path('2025-02-05-FastHTML-Time-Converter-Part-2.ipynb'),Path('2025-02-05-Create-a-CLI-Tool-With-Fastcore-Script.ipynb'),Path('2025-02-04-How-to-Turn-a-Jupyter-Notebook-Into-a-Python-Script.ipynb'),Path('2025-02-03-FastHTML-and-MonsterUI-Time-Converter.ipynb'),Path('2025-02-02-Text-Embeddings-and-Cosine-Similarity.ipynb'),Path('2025-02-01-Auto-Renaming-My-Untitled-ipynb-Files-With-Gemini.ipynb'),Path('2025-01-31-Performance-Optimization-Moving-HTML-Class-Injection-from-lxml-to-Mistletoe.ipynb'),Path('2025-01-30-This-Site-Is-Now-Powered-by-This-Notebook-Part-5.ipynb'),Path('2025-01-29-This-Site-Is-Now-Powered-by-This-Notebook-Part-4.ipynb'),Path('2025-01-28-Functional-Programming-with-datetime-and-Omni-Timezone-Discord-Timestamps.ipynb'),Path('2025-01-27-This-Site-Is-Now-Powered-by-This-Notebook-Part-3.ipynb'),Path('2025-01-26-Improving-Pygments-Code-Block-Display.ipynb'),Path('2025-01-25-This-Site-Is-Now-Powered-by-This-Notebook-Part-2.ipynb'),Path('2025-01-24-Creating-In-Notebook-Images-for-Social-Media-With-PIL-Pillow.ipynb'),Path('2025-01-23-Troubleshooting-MonsterUI-on-This-Site.ipynb')...]"
      ]
     },
     "execution_count": 3,
     "metadata": {},
     "output_type": "execute_result"
    }
   ],
   "source": [
    "nbpaths = get_nb_paths()\n",
    "nbpaths"
   ]
  },
  {
   "cell_type": "markdown",
   "id": "60d97119",
   "metadata": {},
   "source": [
    "## Use tighter notebook links instead of notebook cards"
   ]
  },
  {
   "cell_type": "code",
   "execution_count": 4,
   "id": "2bc33dd8",
   "metadata": {},
   "outputs": [],
   "source": [
    "def get_date_from_iso8601_prefix(fname):\n",
    "    \"Gets date from first 10 chars YYYY-MM-DD of `fname`, where `fname` is like `2025-01-12-Get-Date-From-This.whatever\"\n",
    "    try:\n",
    "        return datetime.fromisoformat(str(fname)[0:10])\n",
    "    except ValueError: return datetime.now()"
   ]
  },
  {
   "cell_type": "code",
   "execution_count": 5,
   "id": "e6d88d30",
   "metadata": {},
   "outputs": [],
   "source": [
    "def get_title_and_desc(fpath):\n",
    "    nb = read_nb(fpath)\n",
    "    title = nb.cells[0].source.lstrip(\"# \")\n",
    "    desc = nb.cells[1].source\n",
    "    return title,desc"
   ]
  },
  {
   "cell_type": "code",
   "execution_count": 6,
   "id": "9878c425",
   "metadata": {},
   "outputs": [],
   "source": [
    "app,rt = fast_app(pico=False)"
   ]
  },
  {
   "cell_type": "code",
   "execution_count": 7,
   "id": "b34cafdc",
   "metadata": {},
   "outputs": [],
   "source": [
    "def NBLink(title, desc, href, date):\n",
    "    return Div(\n",
    "        A(f\"{date:%b %-d} • {title}\", href=href, cls=\"text-md font-semibold hover:text-blue-600 no-underline block\"),\n",
    "        P(desc, cls=\"text-s text-gray-500 mt-0.5 mb-2\"),\n",
    "        cls=\"py-1 break-inside-avoid\")"
   ]
  },
  {
   "cell_type": "code",
   "execution_count": 8,
   "id": "1e29cc7e",
   "metadata": {},
   "outputs": [],
   "source": [
    "def mk_nblink_from_nbpath(nbpath):\n",
    "    date = get_date_from_iso8601_prefix(nbpath.name) or datetime.now()\n",
    "    return NBLink(*get_title_and_desc(nbpath), href=f'/nbs/{nbpath.name[:-6]}', date=date)"
   ]
  },
  {
   "cell_type": "code",
   "execution_count": 9,
   "id": "a7a47341",
   "metadata": {},
   "outputs": [],
   "source": [
    "@rt\n",
    "def index():\n",
    "    nbpaths = get_nb_paths()\n",
    "    return (\n",
    "        Theme.blue.headers(),\n",
    "        Title(\"audrey.feldroy.com\"),\n",
    "        Div(\n",
    "            H1('audrey.feldroy.com', cls=\"text-3xl font-bold mb-2\"), \n",
    "            P(\n",
    "                \"The experimental Jupyter notebooks of Audrey M. Roy Greenfeld. This website and all its notebooks are open-source at \", \n",
    "                A(\"github.com/audreyfeldroy/audrey.feldroy.com\", \n",
    "                        href=\"https://github.com/audreyfeldroy/arg-blog-fasthtml\",\n",
    "                        cls=\"text-blue-600 hover:text-blue-800\"), \n",
    "                cls=\"mb-8 text-gray-600\"\n",
    "            ),\n",
    "            Table(\n",
    "                *nbpaths.map(mk_nblink_from_nbpath), \n",
    "                \n",
    "            ),\n",
    "            cls=\"px-4 py-8 w-full columns-1 md:columns-2 lg:columns-3 gap-6\"\n",
    "        )\n",
    "    )"
   ]
  },
  {
   "cell_type": "markdown",
   "id": "dc3436b9",
   "metadata": {},
   "source": [
    "Improving this visually while providing extreme information density and compactness:"
   ]
  },
  {
   "cell_type": "code",
   "execution_count": 10,
   "id": "2a701608",
   "metadata": {},
   "outputs": [],
   "source": [
    "@rt\n",
    "def index():\n",
    "    nbpaths = get_nb_paths()\n",
    "    return (\n",
    "        Script(src=\"https://unpkg.com/@tailwindcss/browser@4\"),\n",
    "        Title(\"audrey.feldroy.com\"),\n",
    "        Div(\n",
    "            H1('audrey.feldroy.com', cls=\"text-2xl font-bold mb-2 dark:text-gray-100\"), \n",
    "            P(\n",
    "                \"The experimental Jupyter notebooks of Audrey M. Roy Greenfeld. This website and all its notebooks are open-source at \", \n",
    "                A(\"github.com/audreyfeldroy/audrey.feldroy.com\", \n",
    "                        href=\"https://github.com/audreyfeldroy/arg-blog-fasthtml\",\n",
    "                        cls=\"text-blue-600 hover:text-blue-800 dark:text-blue-400 dark:hover:text-blue-300\"), \n",
    "                cls=\"mb-4 text-gray-600 dark:text-gray-300 text-sm\"\n",
    "            ),\n",
    "            Div(\n",
    "                *nbpaths.map(mk_nblink_from_nbpath),\n",
    "                cls=\"grid grid-cols-1 sm:grid-cols-2 lg:grid-cols-3 xl:grid-cols-4 gap-x-6 gap-y-2\"\n",
    "            ),\n",
    "            cls=\"mx-auto px-2 py-4 dark:bg-gray-900 min-h-screen\"\n",
    "        ),\n",
    "    )\n",
    "\n",
    "def NBLink(title, desc, href, date):\n",
    "    return Div(\n",
    "        A(\n",
    "            Div(\n",
    "                f\"{date:%b %-d}\", \n",
    "                cls=\"text-xs font-medium text-gray-500 dark:text-gray-400\"\n",
    "            ),\n",
    "            Div(\n",
    "                title,\n",
    "                cls=\"text-base font-medium leading-snug hover:text-blue-600 dark:text-gray-100 dark:hover:text-blue-400\"\n",
    "            ),\n",
    "            P(\n",
    "                desc,\n",
    "                cls=\"text-xs text-gray-600 dark:text-gray-400 mt-0.5 line-clamp-2\"\n",
    "            ),\n",
    "            href=href,\n",
    "            cls=\"block no-underline hover:bg-gray-50 dark:hover:bg-gray-800 p-2 rounded transition-colors\"\n",
    "        ),\n",
    "        cls=\"break-inside-avoid\"\n",
    "    )"
   ]
  },
  {
   "cell_type": "code",
   "execution_count": 12,
   "id": "dd6c5e4b",
   "metadata": {},
   "outputs": [
    {
     "data": {
      "text/html": [
       "\n",
       "<script>\n",
       "document.body.addEventListener('htmx:configRequest', (event) => {\n",
       "    if(event.detail.path.includes('://')) return;\n",
       "    htmx.config.selfRequestsOnly=false;\n",
       "    event.detail.path = `${location.protocol}//${location.hostname}:8000${event.detail.path}`;\n",
       "});\n",
       "</script>"
      ],
      "text/plain": [
       "<IPython.core.display.HTML object>"
      ]
     },
     "metadata": {},
     "output_type": "display_data"
    }
   ],
   "source": [
    "server = JupyUvi(app)"
   ]
  },
  {
   "cell_type": "code",
   "execution_count": 13,
   "id": "eff27acb",
   "metadata": {},
   "outputs": [
    {
     "data": {
      "text/html": [
       "<iframe src=\"http://localhost:8000/\" style=\"width: 100%; height: auto; border: none;\" onload=\"{\n",
       "        let frame = this;\n",
       "        window.addEventListener('message', function(e) {\n",
       "            if (e.source !== frame.contentWindow) return; // Only proceed if the message is from this iframe\n",
       "            if (e.data.height) frame.style.height = (e.data.height+1) + 'px';\n",
       "        }, false);\n",
       "    }\" allow=\"accelerometer; autoplay; camera; clipboard-read; clipboard-write; display-capture; encrypted-media; fullscreen; gamepad; geolocation; gyroscope; hid; identity-credentials-get; idle-detection; magnetometer; microphone; midi; payment; picture-in-picture; publickey-credentials-get; screen-wake-lock; serial; usb; web-share; xr-spatial-tracking\"></iframe> "
      ],
      "text/plain": [
       "<IPython.core.display.HTML object>"
      ]
     },
     "execution_count": 13,
     "metadata": {},
     "output_type": "execute_result"
    }
   ],
   "source": [
    "HTMX(index)"
   ]
  },
  {
   "cell_type": "code",
   "execution_count": 99,
   "id": "a5c050ff",
   "metadata": {},
   "outputs": [],
   "source": [
    "# server.stop()"
   ]
  }
 ],
 "metadata": {
  "kernelspec": {
   "display_name": "Python 3 (ipykernel)",
   "language": "python",
   "name": "python3"
  },
  "language_info": {
   "codemirror_mode": {
    "name": "ipython",
    "version": 3
   },
   "file_extension": ".py",
   "mimetype": "text/x-python",
   "name": "python",
   "nbconvert_exporter": "python",
   "pygments_lexer": "ipython3",
   "version": "3.12.8"
  }
 },
 "nbformat": 4,
 "nbformat_minor": 5
}
