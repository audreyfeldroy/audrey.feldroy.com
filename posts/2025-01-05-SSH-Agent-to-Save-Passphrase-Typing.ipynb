{
 "cells": [
  {
   "cell_type": "markdown",
   "id": "0",
   "metadata": {},
   "source": [
    "# Using SSH Agent to Save Passphrase Typing"
   ]
  },
  {
   "cell_type": "markdown",
   "id": "1",
   "metadata": {},
   "source": [
    "In my terminal (Ghostty) when I run shell scripts that update multiple repos, I get asked my SSH key passphrase over and over. It gets annoying with 20+ repos.\n",
    "\n",
    "To get around this, I use OpenSSH's authentication agent, `ssh-agent`."
   ]
  },
  {
   "cell_type": "markdown",
   "id": "2",
   "metadata": {},
   "source": [
    "## How It Works\n",
    "\n",
    "`ssh-agent` holds my decrypted SSH key securely in memory for the current terminal session. (And the memory is not swapped to disk.)\n",
    "\n",
    "Then, when an SSH client (e.g. git) needs it to authenticate, it asks my SSH agent instead of prompting me."
   ]
  },
  {
   "cell_type": "markdown",
   "id": "3",
   "metadata": {},
   "source": [
    "## Start SSH Agent"
   ]
  },
  {
   "cell_type": "markdown",
   "id": "4",
   "metadata": {},
   "source": [
    "This is how I start an SSH agent on macOS:"
   ]
  },
  {
   "cell_type": "code",
   "execution_count": null,
   "id": "5",
   "metadata": {},
   "outputs": [],
   "source": [
    "%%bash\n",
    "eval \"$(ssh-agent -s)\""
   ]
  },
  {
   "cell_type": "markdown",
   "id": "6",
   "metadata": {},
   "source": [
    "Note: macOS and many Linux desktop distros auto-start one. I don't have one running in my Ghostty terminal session, though."
   ]
  },
  {
   "cell_type": "markdown",
   "id": "7",
   "metadata": {},
   "source": [
    "### Exploring this further"
   ]
  },
  {
   "cell_type": "markdown",
   "id": "8",
   "metadata": {},
   "source": [
    "Let's see what `ssh-agent -s` by itself actually outputs:"
   ]
  },
  {
   "cell_type": "code",
   "execution_count": null,
   "id": "9",
   "metadata": {},
   "outputs": [],
   "source": [
    "%%bash\n",
    "ssh-agent -s"
   ]
  },
  {
   "cell_type": "markdown",
   "id": "10",
   "metadata": {},
   "source": [
    "Here, `ssh-agent` starts the SSH agent. `-s` is to get output in Bash syntax."
   ]
  },
  {
   "cell_type": "markdown",
   "id": "11",
   "metadata": {},
   "source": [
    "The `$(...)` captures its output."
   ]
  },
  {
   "cell_type": "markdown",
   "id": "12",
   "metadata": {},
   "source": [
    "`eval` then executes the captured output, which:\n",
    "   - Sets `SSH_AUTH_SOCK`: The path to the Unix socket the agent uses for communication\n",
    "   - Sets `SSH_AGENT_PID`: The process ID of the agent\n",
    "   - Exports both so SSH clients can find the agent\n",
    "   - Prints confirmation that the agent is running"
   ]
  },
  {
   "cell_type": "markdown",
   "id": "13",
   "metadata": {},
   "source": [
    "## Ensure Agent Has Your Key"
   ]
  },
  {
   "cell_type": "markdown",
   "id": "14",
   "metadata": {},
   "source": [
    "To list the keys my terminal session's SSH agent has, I run:"
   ]
  },
  {
   "cell_type": "code",
   "execution_count": null,
   "id": "15",
   "metadata": {},
   "outputs": [],
   "source": [
    "%%bash\n",
    "ssh-add -l"
   ]
  },
  {
   "cell_type": "markdown",
   "id": "16",
   "metadata": {},
   "source": [
    "If my SSH key isn't there, I add it:"
   ]
  },
  {
   "cell_type": "code",
   "execution_count": null,
   "id": "17",
   "metadata": {},
   "outputs": [],
   "source": [
    "%%bash\n",
    "ssh-add"
   ]
  },
  {
   "cell_type": "markdown",
   "id": "18",
   "metadata": {},
   "source": [
    "`ssh-add` without arguments defaults to `~/.ssh/id_rsa`, `id_ecdsa`, `id_ed25519`, and `id_dsa`. (Of those, be sure to use Ed25519 or RSA, not deprecated DSA keys.)"
   ]
  },
  {
   "cell_type": "markdown",
   "id": "19",
   "metadata": {},
   "source": [
    "## Security and Other Notes\n",
    "\n",
    "`ssh-agent` is secure because it:\n",
    "- Keeps keys encrypted on disk\n",
    "- Only decrypts keys to memory\n",
    "- Restricts access via Unix socket permissions to your user\n",
    "- Clears keys when stopped/rebooted \n",
    "\n",
    "While slightly less secure than typing passphrases each time, it's far safer than removing passphrases or storing credentials in files.\n",
    "\n",
    "SSH agent forwarding (`ssh -A`) lets you use your local keys from servers you SSH into. That comes with its own risks, of course.\n",
    "\n",
    "To explore in the future: macOS has a built in agent that's different from `ssh-agent`, with keychain integration."
   ]
  }
 ],
 "metadata": {
  "kernelspec": {
   "display_name": "Python 3 (ipykernel)",
   "language": "python",
   "name": "python3"
  },
  "language_info": {
   "codemirror_mode": {
    "name": "ipython",
    "version": 3
   },
   "file_extension": ".py",
   "mimetype": "text/x-python",
   "name": "python",
   "nbconvert_exporter": "python",
   "pygments_lexer": "ipython3",
   "version": "3.12.8"
  }
 },
 "nbformat": 4,
 "nbformat_minor": 5
}
