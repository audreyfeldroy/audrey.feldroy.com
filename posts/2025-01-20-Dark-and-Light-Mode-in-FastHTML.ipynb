{
 "cells": [
  {
   "cell_type": "markdown",
   "id": "2be1a909",
   "metadata": {},
   "source": [
    "# Dark and Light Mode in FastHTML"
   ]
  },
  {
   "cell_type": "markdown",
   "id": "f085a520",
   "metadata": {},
   "source": [
    "How to make a website check the user's preferred mode and set the background appropriately."
   ]
  },
  {
   "cell_type": "code",
   "execution_count": 13,
   "id": "2b05b2dd",
   "metadata": {},
   "outputs": [],
   "source": [
    "from fasthtml.common import *\n",
    "from fasthtml.jupyter import *\n",
    "from fastcore.utils import *"
   ]
  },
  {
   "cell_type": "markdown",
   "id": "eba77738",
   "metadata": {},
   "source": [
    "## Compare a Page in Both Modes"
   ]
  },
  {
   "cell_type": "markdown",
   "id": "8185a890",
   "metadata": {},
   "source": [
    "Open your website in 2 Chrome profiles, one with light and one with dark mode. For example, in mine I noticed:\n",
    "\n",
    "* In light mode, the page and code examples correctly had light backgrounds\n",
    "* In dark mode, the code examples correctly had dark backgrounds, but the page incorrectly had a light background.\n",
    "\n",
    "This told me that I need to modify the page background styles depending on the preferred mode."
   ]
  },
  {
   "cell_type": "markdown",
   "id": "2075cfd2",
   "metadata": {},
   "source": [
    "### Try Emulating Preference Manually"
   ]
  },
  {
   "cell_type": "markdown",
   "id": "c3769994",
   "metadata": {},
   "source": [
    "In Chrome, go to `Option` `Cmd` `c` to open \"Inspect Elements\" > Elements > Styles. Click the upside-down paintbrush icon to bring up a menu of:\n",
    "\n",
    "* `prefers-color-scheme: light`\n",
    "* `prefers-color-scheme: dark`\n",
    "* Automatic dark mode (or whatever mode your laptop is in)"
   ]
  },
  {
   "cell_type": "markdown",
   "id": "18bd60c3",
   "metadata": {},
   "source": [
    "## To Update a FastHTML `main.py` With `color-scheme`"
   ]
  },
  {
   "cell_type": "markdown",
   "id": "c67bc87e",
   "metadata": {},
   "source": [
    "### Step 1: Enable light-dark Support"
   ]
  },
  {
   "cell_type": "markdown",
   "id": "c82332c6",
   "metadata": {},
   "source": [
    "To enable support for the CSS light-dark() color function, you set this on `:root`:"
   ]
  },
  {
   "cell_type": "code",
   "execution_count": 14,
   "id": "4981d86b",
   "metadata": {},
   "outputs": [
    {
     "data": {
      "text/markdown": [
       "```html\n",
       "<style>:root {color-scheme: light dark;}</style>\n",
       "\n",
       "```"
      ],
      "text/plain": [
       "style((':root {color-scheme: light dark;}',),{})"
      ]
     },
     "execution_count": 14,
     "metadata": {},
     "output_type": "execute_result"
    }
   ],
   "source": [
    "Style(':root {color-scheme: light dark;}')"
   ]
  },
  {
   "cell_type": "markdown",
   "id": "5540b8d0",
   "metadata": {},
   "source": [
    "This allows your site to respect the user's light or dark mode preference."
   ]
  },
  {
   "cell_type": "markdown",
   "id": "483acbb7",
   "metadata": {},
   "source": [
    "### Step 2: Use the light-dark Function"
   ]
  },
  {
   "cell_type": "markdown",
   "id": "5eba342a",
   "metadata": {},
   "source": [
    "Now wherever you specify CSS colors, you can specify a pair of colors."
   ]
  },
  {
   "cell_type": "code",
   "execution_count": 15,
   "id": "4172e692",
   "metadata": {},
   "outputs": [
    {
     "data": {
      "text/markdown": [
       "```html\n",
       "<style>body {background-color: light-dark(#ffffff, #1a1a1a); color: light-dark(#1a1a1a, #ffffff);}</style>\n",
       "\n",
       "```"
      ],
      "text/plain": [
       "style(('body {background-color: light-dark(#ffffff, #1a1a1a); color: light-dark(#1a1a1a, #ffffff);}',),{})"
      ]
     },
     "execution_count": 15,
     "metadata": {},
     "output_type": "execute_result"
    }
   ],
   "source": [
    "Style('body {background-color: light-dark(#ffffff, #1a1a1a); color: light-dark(#1a1a1a, #ffffff);}')"
   ]
  },
  {
   "cell_type": "markdown",
   "id": "0b74c9d1",
   "metadata": {},
   "source": [
    "Here in this example:\n",
    "\n",
    "* The first color `#ffffff` is `<body>`'s background color in light mode\n",
    "* The first color `#1a1a1a` is `<body>`'s background color in dark mode"
   ]
  },
  {
   "cell_type": "markdown",
   "id": "0dc2781d",
   "metadata": {},
   "source": [
    "If you use these values a lot, define CSS variables `--light-*` and `--dark-*`"
   ]
  },
  {
   "cell_type": "markdown",
   "id": "1909b28b",
   "metadata": {},
   "source": [
    "### Step 3: Factor Out CSS Variables (Optional)"
   ]
  },
  {
   "cell_type": "markdown",
   "id": "3b994442",
   "metadata": {},
   "source": [
    "If you find yourself repeating color constants a lot, define CSS variables in `:root` and use them in `light-dark()` like:"
   ]
  },
  {
   "cell_type": "code",
   "execution_count": 16,
   "id": "b2a4cfdc",
   "metadata": {},
   "outputs": [
    {
     "data": {
      "text/markdown": [
       "```html\n",
       "<style>:root {color-scheme: light dark; --lightshade: #ffffff; --darkshade: #1a1a1a;}\n",
       "\n",
       "body {background-color: light-dark(var(--lightshade), var(--darkshade))};</style>\n",
       "\n",
       "```"
      ],
      "text/plain": [
       "style((':root {color-scheme: light dark; --lightshade: #ffffff; --darkshade: #1a1a1a;}\\n\\nbody {background-color: light-dark(var(--lightshade), var(--darkshade))};',),{})"
      ]
     },
     "execution_count": 16,
     "metadata": {},
     "output_type": "execute_result"
    }
   ],
   "source": [
    "Style(\"\"\":root {color-scheme: light dark; --lightshade: #ffffff; --darkshade: #1a1a1a;}\n",
    "\n",
    "body {background-color: light-dark(var(--lightshade), var(--darkshade))};\"\"\")"
   ]
  },
  {
   "cell_type": "markdown",
   "id": "c55241a1",
   "metadata": {},
   "source": [
    "## Example"
   ]
  },
  {
   "cell_type": "markdown",
   "id": "dfe84422",
   "metadata": {},
   "source": [
    "Here I create a component with light-dark colors. The component respects light/dark mode preference. I need stuff to put into cards, so I'm grabbing my notebooks:"
   ]
  },
  {
   "cell_type": "code",
   "execution_count": 17,
   "id": "335dadbd",
   "metadata": {
    "scrolled": true
   },
   "outputs": [
    {
     "data": {
      "text/plain": [
       "(#41) [Path('../arg-blog-fasthtml/nbs/2023-07-29-Blogging-With-nbdev.ipynb'),Path('../arg-blog-fasthtml/nbs/2024-12-31-Note-Box-FastTag.ipynb'),Path('../arg-blog-fasthtml/nbs/2024-07-29-Delegates-Decorator.ipynb'),Path('../arg-blog-fasthtml/nbs/2024-07-29-Auth-in-FastHTML.ipynb'),Path('../arg-blog-fasthtml/nbs/2025-01-09-Reading-and-Writing-Jupyter-Notebooks-With-Python.ipynb'),Path('../arg-blog-fasthtml/nbs/2025-01-06-Understanding-FastHTML-Headers.ipynb'),Path('../arg-blog-fasthtml/nbs/2025-01-10-Understanding-FastHTML-Routes-Requests-and-Redirects.ipynb'),Path('../arg-blog-fasthtml/nbs/2024-07-16_Xtend_Pico.ipynb'),Path('../arg-blog-fasthtml/nbs/2024-12-28-Minimal-Typography-for-FastHTML-Apps.ipynb'),Path('../arg-blog-fasthtml/nbs/2024-12-26-Showing-FTs-in-Jupyter-Notebooks.ipynb'),Path('../arg-blog-fasthtml/nbs/2025-01-04-Claude-Artifacts-in-Notebooks.ipynb'),Path('../arg-blog-fasthtml/nbs/2025-01-05-SSH-Agent-to-Save-Passphrase-Typing.ipynb'),Path('../arg-blog-fasthtml/nbs/2024-12-27-Notebook-Names-to-Cards.ipynb'),Path('../arg-blog-fasthtml/nbs/2025-01-11-NBClassic-Keyboard-Shortcuts-in-Command-and-Dual-Mode.ipynb'),Path('../arg-blog-fasthtml/nbs/2025-01-01-FastHTML-Piano-Part-1.ipynb'),Path('../arg-blog-fasthtml/nbs/2025-01-18-Alarm-Sounds-App.ipynb'),Path('../arg-blog-fasthtml/nbs/2025-01-07-Verifying-Bluesky-Domain-in-FastHTML.ipynb'),Path('../arg-blog-fasthtml/nbs/2024-12-24-Trying-execnb.ipynb'),Path('../arg-blog-fasthtml/nbs/2025-01-01-Command-Substitution-in-Bash.ipynb'),Path('../arg-blog-fasthtml/nbs/2024-08-05-Claudette-FastHTML.ipynb')...]"
      ]
     },
     "execution_count": 17,
     "metadata": {},
     "output_type": "execute_result"
    }
   ],
   "source": [
    "nbs = L(Path('../arg-blog-fasthtml/nbs').glob('*.ipynb'))\n",
    "nbs"
   ]
  },
  {
   "cell_type": "code",
   "execution_count": 18,
   "id": "2c67a378",
   "metadata": {
    "scrolled": true
   },
   "outputs": [
    {
     "data": {
      "text/html": [
       "<div style=\"border: 3px solid light-dark(#eaeaea, #111111); padding: 10px; margin: 2px; border-radius: 4px; background-color: light-dark(#eeeeee, #1a1a1a); color: light-dark(#1a1a1a, #eeeeee);\">\n",
       "  <h3>2023-07-29-Blogging-With-nbdev.ipynb</h3>\n",
       "  <p>Lorem ipsum dolor sit amet.</p>\n",
       "</div>\n",
       "<script>if (window.htmx) htmx.process(document.body)</script>"
      ],
      "text/plain": [
       "<IPython.core.display.HTML object>"
      ]
     },
     "metadata": {},
     "output_type": "display_data"
    }
   ],
   "source": [
    "def LightDarkNotebookCard(nb):\n",
    "    \"A card showing notebook info\"\n",
    "    return Div(H3(nb.name), P(\"Lorem ipsum dolor sit amet.\"), style=\"border: 3px solid light-dark(#eaeaea, #111111); padding: 10px; margin: 2px; border-radius: 4px; background-color: light-dark(#eeeeee, #1a1a1a); color: light-dark(#1a1a1a, #eeeeee);\")\n",
    "show(LightDarkNotebookCard(nbs[0]))"
   ]
  },
  {
   "cell_type": "markdown",
   "id": "128eccf9",
   "metadata": {},
   "source": [
    "It's nice to create a rough component, then use AI to iterate on the design. Here I pasted my code into Claude with the prompt:\n",
    "\n",
    "> Make these FastHTML cards look better. No React or Tailwind, please.\n",
    "\n",
    "That gave me this improved card FT component:"
   ]
  },
  {
   "cell_type": "code",
   "execution_count": 19,
   "id": "2eb06987",
   "metadata": {},
   "outputs": [
    {
     "data": {
      "text/html": [
       "<div onmouseover=\"\n",
       "            this.style.transform = 'translateY(-2px)';\n",
       "            this.style.boxShadow = '0 4px 8px light-dark(rgba(0,0,0,0.1), rgba(0,0,0,0.3))';\n",
       "        \" onmouseout=\"\n",
       "            this.style.transform = 'translateY(0)';\n",
       "            this.style.boxShadow = '0 2px 4px light-dark(rgba(0,0,0,0.05), rgba(0,0,0,0.2))';\n",
       "        \" style=\"\n",
       "            border: 1px solid light-dark(#e0e0e0, #333333);\n",
       "            padding: 20px;\n",
       "            margin: 8px;\n",
       "            border-radius: 8px;\n",
       "            background-color: light-dark(#ffffff, #222222);\n",
       "            color: light-dark(#1a1a1a, #ffffff);\n",
       "            box-shadow: 0 2px 4px light-dark(rgba(0,0,0,0.05), rgba(0,0,0,0.2));\n",
       "            transition: all 0.2s ease;\n",
       "            cursor: pointer;\n",
       "        \">\n",
       "  <h3 style=\"margin: 0 0 12px 0; font-size: 1.3em;\">2023-07-29-Blogging-With-nbdev.ipynb</h3>\n",
       "  <p style=\"margin: 0; line-height: 1.5; opacity: 0.9;\">Lorem ipsum dolor sit amet.</p>\n",
       "</div>\n",
       "<script>if (window.htmx) htmx.process(document.body)</script>"
      ],
      "text/plain": [
       "<IPython.core.display.HTML object>"
      ]
     },
     "metadata": {},
     "output_type": "display_data"
    }
   ],
   "source": [
    "def LightDarkNotebookCard(nb):\n",
    "    \"A card showing notebook info with enhanced styling\"\n",
    "    return Div(\n",
    "        H3(nb.name, style=\"margin: 0 0 12px 0; font-size: 1.3em;\"),\n",
    "        P(\"Lorem ipsum dolor sit amet.\", \n",
    "          style=\"margin: 0; line-height: 1.5; opacity: 0.9;\"),\n",
    "        style=\"\"\"\n",
    "            border: 1px solid light-dark(#e0e0e0, #333333);\n",
    "            padding: 20px;\n",
    "            margin: 8px;\n",
    "            border-radius: 8px;\n",
    "            background-color: light-dark(#ffffff, #222222);\n",
    "            color: light-dark(#1a1a1a, #ffffff);\n",
    "            box-shadow: 0 2px 4px light-dark(rgba(0,0,0,0.05), rgba(0,0,0,0.2));\n",
    "            transition: all 0.2s ease;\n",
    "            cursor: pointer;\n",
    "        \"\"\",\n",
    "        onmouseover=\"\"\"\n",
    "            this.style.transform = 'translateY(-2px)';\n",
    "            this.style.boxShadow = '0 4px 8px light-dark(rgba(0,0,0,0.1), rgba(0,0,0,0.3))';\n",
    "        \"\"\",\n",
    "        onmouseout=\"\"\"\n",
    "            this.style.transform = 'translateY(0)';\n",
    "            this.style.boxShadow = '0 2px 4px light-dark(rgba(0,0,0,0.05), rgba(0,0,0,0.2))';\n",
    "        \"\"\"\n",
    "    )\n",
    "\n",
    "show(LightDarkNotebookCard(nbs[0]))"
   ]
  },
  {
   "cell_type": "markdown",
   "id": "15518a7f",
   "metadata": {},
   "source": [
    "Here I map them to a handful of list items, to make them look more realistic:"
   ]
  },
  {
   "cell_type": "code",
   "execution_count": 20,
   "id": "a34ff9a8",
   "metadata": {},
   "outputs": [
    {
     "data": {
      "text/html": [
       "<div style=\"columns: 3;\">\n",
       "  <div onmouseover=\"\n",
       "            this.style.transform = 'translateY(-2px)';\n",
       "            this.style.boxShadow = '0 4px 8px light-dark(rgba(0,0,0,0.1), rgba(0,0,0,0.3))';\n",
       "        \" onmouseout=\"\n",
       "            this.style.transform = 'translateY(0)';\n",
       "            this.style.boxShadow = '0 2px 4px light-dark(rgba(0,0,0,0.05), rgba(0,0,0,0.2))';\n",
       "        \" style=\"\n",
       "            border: 1px solid light-dark(#e0e0e0, #333333);\n",
       "            padding: 20px;\n",
       "            margin: 8px;\n",
       "            border-radius: 8px;\n",
       "            background-color: light-dark(#ffffff, #222222);\n",
       "            color: light-dark(#1a1a1a, #ffffff);\n",
       "            box-shadow: 0 2px 4px light-dark(rgba(0,0,0,0.05), rgba(0,0,0,0.2));\n",
       "            transition: all 0.2s ease;\n",
       "            cursor: pointer;\n",
       "        \">\n",
       "    <h3 style=\"margin: 0 0 12px 0; font-size: 1.3em;\">2023-07-29-Blogging-With-nbdev.ipynb</h3>\n",
       "    <p style=\"margin: 0; line-height: 1.5; opacity: 0.9;\">Lorem ipsum dolor sit amet.</p>\n",
       "  </div>\n",
       "  <div onmouseover=\"\n",
       "            this.style.transform = 'translateY(-2px)';\n",
       "            this.style.boxShadow = '0 4px 8px light-dark(rgba(0,0,0,0.1), rgba(0,0,0,0.3))';\n",
       "        \" onmouseout=\"\n",
       "            this.style.transform = 'translateY(0)';\n",
       "            this.style.boxShadow = '0 2px 4px light-dark(rgba(0,0,0,0.05), rgba(0,0,0,0.2))';\n",
       "        \" style=\"\n",
       "            border: 1px solid light-dark(#e0e0e0, #333333);\n",
       "            padding: 20px;\n",
       "            margin: 8px;\n",
       "            border-radius: 8px;\n",
       "            background-color: light-dark(#ffffff, #222222);\n",
       "            color: light-dark(#1a1a1a, #ffffff);\n",
       "            box-shadow: 0 2px 4px light-dark(rgba(0,0,0,0.05), rgba(0,0,0,0.2));\n",
       "            transition: all 0.2s ease;\n",
       "            cursor: pointer;\n",
       "        \">\n",
       "    <h3 style=\"margin: 0 0 12px 0; font-size: 1.3em;\">2024-12-31-Note-Box-FastTag.ipynb</h3>\n",
       "    <p style=\"margin: 0; line-height: 1.5; opacity: 0.9;\">Lorem ipsum dolor sit amet.</p>\n",
       "  </div>\n",
       "  <div onmouseover=\"\n",
       "            this.style.transform = 'translateY(-2px)';\n",
       "            this.style.boxShadow = '0 4px 8px light-dark(rgba(0,0,0,0.1), rgba(0,0,0,0.3))';\n",
       "        \" onmouseout=\"\n",
       "            this.style.transform = 'translateY(0)';\n",
       "            this.style.boxShadow = '0 2px 4px light-dark(rgba(0,0,0,0.05), rgba(0,0,0,0.2))';\n",
       "        \" style=\"\n",
       "            border: 1px solid light-dark(#e0e0e0, #333333);\n",
       "            padding: 20px;\n",
       "            margin: 8px;\n",
       "            border-radius: 8px;\n",
       "            background-color: light-dark(#ffffff, #222222);\n",
       "            color: light-dark(#1a1a1a, #ffffff);\n",
       "            box-shadow: 0 2px 4px light-dark(rgba(0,0,0,0.05), rgba(0,0,0,0.2));\n",
       "            transition: all 0.2s ease;\n",
       "            cursor: pointer;\n",
       "        \">\n",
       "    <h3 style=\"margin: 0 0 12px 0; font-size: 1.3em;\">2024-07-29-Delegates-Decorator.ipynb</h3>\n",
       "    <p style=\"margin: 0; line-height: 1.5; opacity: 0.9;\">Lorem ipsum dolor sit amet.</p>\n",
       "  </div>\n",
       "  <div onmouseover=\"\n",
       "            this.style.transform = 'translateY(-2px)';\n",
       "            this.style.boxShadow = '0 4px 8px light-dark(rgba(0,0,0,0.1), rgba(0,0,0,0.3))';\n",
       "        \" onmouseout=\"\n",
       "            this.style.transform = 'translateY(0)';\n",
       "            this.style.boxShadow = '0 2px 4px light-dark(rgba(0,0,0,0.05), rgba(0,0,0,0.2))';\n",
       "        \" style=\"\n",
       "            border: 1px solid light-dark(#e0e0e0, #333333);\n",
       "            padding: 20px;\n",
       "            margin: 8px;\n",
       "            border-radius: 8px;\n",
       "            background-color: light-dark(#ffffff, #222222);\n",
       "            color: light-dark(#1a1a1a, #ffffff);\n",
       "            box-shadow: 0 2px 4px light-dark(rgba(0,0,0,0.05), rgba(0,0,0,0.2));\n",
       "            transition: all 0.2s ease;\n",
       "            cursor: pointer;\n",
       "        \">\n",
       "    <h3 style=\"margin: 0 0 12px 0; font-size: 1.3em;\">2024-07-29-Auth-in-FastHTML.ipynb</h3>\n",
       "    <p style=\"margin: 0; line-height: 1.5; opacity: 0.9;\">Lorem ipsum dolor sit amet.</p>\n",
       "  </div>\n",
       "  <div onmouseover=\"\n",
       "            this.style.transform = 'translateY(-2px)';\n",
       "            this.style.boxShadow = '0 4px 8px light-dark(rgba(0,0,0,0.1), rgba(0,0,0,0.3))';\n",
       "        \" onmouseout=\"\n",
       "            this.style.transform = 'translateY(0)';\n",
       "            this.style.boxShadow = '0 2px 4px light-dark(rgba(0,0,0,0.05), rgba(0,0,0,0.2))';\n",
       "        \" style=\"\n",
       "            border: 1px solid light-dark(#e0e0e0, #333333);\n",
       "            padding: 20px;\n",
       "            margin: 8px;\n",
       "            border-radius: 8px;\n",
       "            background-color: light-dark(#ffffff, #222222);\n",
       "            color: light-dark(#1a1a1a, #ffffff);\n",
       "            box-shadow: 0 2px 4px light-dark(rgba(0,0,0,0.05), rgba(0,0,0,0.2));\n",
       "            transition: all 0.2s ease;\n",
       "            cursor: pointer;\n",
       "        \">\n",
       "    <h3 style=\"margin: 0 0 12px 0; font-size: 1.3em;\">2025-01-09-Reading-and-Writing-Jupyter-Notebooks-With-Python.ipynb</h3>\n",
       "    <p style=\"margin: 0; line-height: 1.5; opacity: 0.9;\">Lorem ipsum dolor sit amet.</p>\n",
       "  </div>\n",
       "  <div onmouseover=\"\n",
       "            this.style.transform = 'translateY(-2px)';\n",
       "            this.style.boxShadow = '0 4px 8px light-dark(rgba(0,0,0,0.1), rgba(0,0,0,0.3))';\n",
       "        \" onmouseout=\"\n",
       "            this.style.transform = 'translateY(0)';\n",
       "            this.style.boxShadow = '0 2px 4px light-dark(rgba(0,0,0,0.05), rgba(0,0,0,0.2))';\n",
       "        \" style=\"\n",
       "            border: 1px solid light-dark(#e0e0e0, #333333);\n",
       "            padding: 20px;\n",
       "            margin: 8px;\n",
       "            border-radius: 8px;\n",
       "            background-color: light-dark(#ffffff, #222222);\n",
       "            color: light-dark(#1a1a1a, #ffffff);\n",
       "            box-shadow: 0 2px 4px light-dark(rgba(0,0,0,0.05), rgba(0,0,0,0.2));\n",
       "            transition: all 0.2s ease;\n",
       "            cursor: pointer;\n",
       "        \">\n",
       "    <h3 style=\"margin: 0 0 12px 0; font-size: 1.3em;\">2025-01-06-Understanding-FastHTML-Headers.ipynb</h3>\n",
       "    <p style=\"margin: 0; line-height: 1.5; opacity: 0.9;\">Lorem ipsum dolor sit amet.</p>\n",
       "  </div>\n",
       "  <div onmouseover=\"\n",
       "            this.style.transform = 'translateY(-2px)';\n",
       "            this.style.boxShadow = '0 4px 8px light-dark(rgba(0,0,0,0.1), rgba(0,0,0,0.3))';\n",
       "        \" onmouseout=\"\n",
       "            this.style.transform = 'translateY(0)';\n",
       "            this.style.boxShadow = '0 2px 4px light-dark(rgba(0,0,0,0.05), rgba(0,0,0,0.2))';\n",
       "        \" style=\"\n",
       "            border: 1px solid light-dark(#e0e0e0, #333333);\n",
       "            padding: 20px;\n",
       "            margin: 8px;\n",
       "            border-radius: 8px;\n",
       "            background-color: light-dark(#ffffff, #222222);\n",
       "            color: light-dark(#1a1a1a, #ffffff);\n",
       "            box-shadow: 0 2px 4px light-dark(rgba(0,0,0,0.05), rgba(0,0,0,0.2));\n",
       "            transition: all 0.2s ease;\n",
       "            cursor: pointer;\n",
       "        \">\n",
       "    <h3 style=\"margin: 0 0 12px 0; font-size: 1.3em;\">2025-01-10-Understanding-FastHTML-Routes-Requests-and-Redirects.ipynb</h3>\n",
       "    <p style=\"margin: 0; line-height: 1.5; opacity: 0.9;\">Lorem ipsum dolor sit amet.</p>\n",
       "  </div>\n",
       "  <div onmouseover=\"\n",
       "            this.style.transform = 'translateY(-2px)';\n",
       "            this.style.boxShadow = '0 4px 8px light-dark(rgba(0,0,0,0.1), rgba(0,0,0,0.3))';\n",
       "        \" onmouseout=\"\n",
       "            this.style.transform = 'translateY(0)';\n",
       "            this.style.boxShadow = '0 2px 4px light-dark(rgba(0,0,0,0.05), rgba(0,0,0,0.2))';\n",
       "        \" style=\"\n",
       "            border: 1px solid light-dark(#e0e0e0, #333333);\n",
       "            padding: 20px;\n",
       "            margin: 8px;\n",
       "            border-radius: 8px;\n",
       "            background-color: light-dark(#ffffff, #222222);\n",
       "            color: light-dark(#1a1a1a, #ffffff);\n",
       "            box-shadow: 0 2px 4px light-dark(rgba(0,0,0,0.05), rgba(0,0,0,0.2));\n",
       "            transition: all 0.2s ease;\n",
       "            cursor: pointer;\n",
       "        \">\n",
       "    <h3 style=\"margin: 0 0 12px 0; font-size: 1.3em;\">2024-07-16_Xtend_Pico.ipynb</h3>\n",
       "    <p style=\"margin: 0; line-height: 1.5; opacity: 0.9;\">Lorem ipsum dolor sit amet.</p>\n",
       "  </div>\n",
       "  <div onmouseover=\"\n",
       "            this.style.transform = 'translateY(-2px)';\n",
       "            this.style.boxShadow = '0 4px 8px light-dark(rgba(0,0,0,0.1), rgba(0,0,0,0.3))';\n",
       "        \" onmouseout=\"\n",
       "            this.style.transform = 'translateY(0)';\n",
       "            this.style.boxShadow = '0 2px 4px light-dark(rgba(0,0,0,0.05), rgba(0,0,0,0.2))';\n",
       "        \" style=\"\n",
       "            border: 1px solid light-dark(#e0e0e0, #333333);\n",
       "            padding: 20px;\n",
       "            margin: 8px;\n",
       "            border-radius: 8px;\n",
       "            background-color: light-dark(#ffffff, #222222);\n",
       "            color: light-dark(#1a1a1a, #ffffff);\n",
       "            box-shadow: 0 2px 4px light-dark(rgba(0,0,0,0.05), rgba(0,0,0,0.2));\n",
       "            transition: all 0.2s ease;\n",
       "            cursor: pointer;\n",
       "        \">\n",
       "    <h3 style=\"margin: 0 0 12px 0; font-size: 1.3em;\">2024-12-28-Minimal-Typography-for-FastHTML-Apps.ipynb</h3>\n",
       "    <p style=\"margin: 0; line-height: 1.5; opacity: 0.9;\">Lorem ipsum dolor sit amet.</p>\n",
       "  </div>\n",
       "</div>\n",
       "<script>if (window.htmx) htmx.process(document.body)</script>"
      ],
      "text/plain": [
       "<IPython.core.display.HTML object>"
      ]
     },
     "metadata": {},
     "output_type": "display_data"
    }
   ],
   "source": [
    "def LightDarkList(nbs):\n",
    "    \"FT component that returns a list of notebooks\"\n",
    "    return Div(*nbs.map(LightDarkNotebookCard), style=\"columns: 3;\")\n",
    "show(to_xml(LightDarkList(nbs[:9])))"
   ]
  },
  {
   "cell_type": "markdown",
   "id": "35ebee4c",
   "metadata": {},
   "source": [
    "## FastHTML App"
   ]
  },
  {
   "cell_type": "markdown",
   "id": "b5a36b85",
   "metadata": {},
   "source": [
    "You can see this component in action by creating a little FastHTML app with this `:root` style:"
   ]
  },
  {
   "cell_type": "code",
   "execution_count": 21,
   "id": "f880b11e",
   "metadata": {},
   "outputs": [],
   "source": [
    "app, rt = fast_app(hdrs=(picolink, Style(':root {color-scheme: light dark;}')))"
   ]
  },
  {
   "cell_type": "code",
   "execution_count": 22,
   "id": "fb84ff03",
   "metadata": {},
   "outputs": [],
   "source": [
    "@rt\n",
    "def index():\n",
    "    return Main(H1(\"My Site\"), LightDarkList(nbs[:9]))"
   ]
  },
  {
   "cell_type": "markdown",
   "id": "71106dce",
   "metadata": {},
   "source": [
    "I run this app from my notebook via the next line. If using a `main.py`, replace it with `serve()`."
   ]
  },
  {
   "cell_type": "code",
   "execution_count": 23,
   "id": "1a06a67f",
   "metadata": {},
   "outputs": [
    {
     "data": {
      "text/html": [
       "\n",
       "<script>\n",
       "document.body.addEventListener('htmx:configRequest', (event) => {\n",
       "    if(event.detail.path.includes('://')) return;\n",
       "    htmx.config.selfRequestsOnly=false;\n",
       "    event.detail.path = `${location.protocol}//${location.hostname}:8000${event.detail.path}`;\n",
       "});\n",
       "</script>"
      ],
      "text/plain": [
       "<IPython.core.display.HTML object>"
      ]
     },
     "metadata": {},
     "output_type": "display_data"
    }
   ],
   "source": [
    "# server = JupyUvi(app)"
   ]
  },
  {
   "cell_type": "code",
   "execution_count": 25,
   "id": "63ee721c",
   "metadata": {},
   "outputs": [],
   "source": [
    "# server.stop()"
   ]
  },
  {
   "cell_type": "markdown",
   "id": "c646e9e9",
   "metadata": {},
   "source": [
    "## Takeaways\n",
    "\n",
    "1. Set `color-scheme: light dark` in `:root` to respect the user's dark/light mode preference.\n",
    "2. Use the `light-dark()` function to set properties based on mode\n",
    "3. Refactor colors into CSS variables if needed"
   ]
  }
 ],
 "metadata": {
  "kernelspec": {
   "display_name": "Python 3 (ipykernel)",
   "language": "python",
   "name": "python3"
  },
  "language_info": {
   "codemirror_mode": {
    "name": "ipython",
    "version": 3
   },
   "file_extension": ".py",
   "mimetype": "text/x-python",
   "name": "python",
   "nbconvert_exporter": "python",
   "pygments_lexer": "ipython3",
   "version": "3.12.8"
  }
 },
 "nbformat": 4,
 "nbformat_minor": 5
}
