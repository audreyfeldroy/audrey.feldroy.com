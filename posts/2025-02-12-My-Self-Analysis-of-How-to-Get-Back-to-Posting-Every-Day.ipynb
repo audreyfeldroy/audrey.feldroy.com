{
 "cells": [
  {
   "cell_type": "markdown",
   "id": "4ffd6d2e",
   "metadata": {},
   "source": [
    "# My Self-Analysis of How to Get Back to Posting Every Day"
   ]
  },
  {
   "cell_type": "markdown",
   "id": "fd8bc69a",
   "metadata": {},
   "source": [
    "I fell off the wagon with creating a new notebook every day, but it's not too late to get back on. Today's post is for me to figure out how to make this more sustainable. "
   ]
  },
  {
   "cell_type": "markdown",
   "id": "89675463",
   "metadata": {},
   "source": [
    "## Setup"
   ]
  },
  {
   "cell_type": "code",
   "execution_count": 26,
   "id": "72daf5b2",
   "metadata": {},
   "outputs": [],
   "source": [
    "from datetime import datetime\n",
    "from fastcore.utils import *\n",
    "from pathlib import Path"
   ]
  },
  {
   "cell_type": "markdown",
   "id": "28403004",
   "metadata": {},
   "source": [
    "## Understand the problems"
   ]
  },
  {
   "cell_type": "markdown",
   "id": "b0047702",
   "metadata": {},
   "source": [
    "* I take too long to write each daily post. \n",
    "* Often, my objective that I start out with turns out to be over-ambitious and takes me too long to implement. \n",
    "* I've gotten around that by leaving my higher objective notebook hanging and creating a new notebook branching off, exploring a sub-problem. \n",
    "* Is it just that I need to do that more? Well, let me think. \n",
    "* Sometimes, when I'm branching off subproblems, it gets overwhelming after the fifth branch-off notebook. Even after the third, it feels like a bit much. And I feel like I'm getting lost in all the branches. \n",
    "* That makes it hard to just get the smallest subproblem out as a daily post within a short amount of time. \n",
    "* Related, I also haven't been timeboxing because I've been wanting to let my ideas go free at the end of the day. Well, sort of. I've been starting my blog posts late at night after a long day of coding when I'm tired and perhaps my mind is most divergent at that time. \n",
    "* This morning I'm creating this post. First thing I started it at 9:00 a.m., and now it's 9:30 a.m. Let's see if I can get it out by 10:00 a.m."
   ]
  },
  {
   "cell_type": "markdown",
   "id": "178f381c",
   "metadata": {},
   "source": [
    "## Ask AI to clarify the problems"
   ]
  },
  {
   "cell_type": "markdown",
   "id": "8edb4774",
   "metadata": {},
   "source": [
    "I asked Claude 3.5 Sonnet: \n",
    "\n",
    "> Clarify what the key problems are here. "
   ]
  },
  {
   "cell_type": "markdown",
   "id": "5399f39e",
   "metadata": {},
   "source": [
    "From the text, there are 3 core problems making daily posting unsustainable:\n",
    "\n",
    "1. Time management:\n",
    "   - Posts take too long to complete\n",
    "   - Starting late at night when tired\n",
    "   - Not timeboxing the work\n",
    "\n",
    "2. Scope creep:\n",
    "   - Initial objectives are too ambitious\n",
    "   - Projects expand beyond original intent\n",
    "\n",
    "3. Organization:\n",
    "   - Too many branching subproblem notebooks\n",
    "   - Getting lost in the branches\n",
    "   - Difficulty focusing on smallest complete unit\n",
    "\n",
    "The root cause appears to be trying to tackle complex topics without sufficient structure and boundaries, during suboptimal times of day."
   ]
  },
  {
   "cell_type": "markdown",
   "id": "9aeb56ed",
   "metadata": {},
   "source": [
    "## Devise a Plan"
   ]
  },
  {
   "cell_type": "markdown",
   "id": "2ccd9b5c",
   "metadata": {},
   "source": [
    "Continuing to get Claude's help:\n",
    "\n",
    "> What can I do today to get this blog post out in the next 25 minutes? "
   ]
  },
  {
   "cell_type": "markdown",
   "id": "3f8ec125",
   "metadata": {},
   "source": [
    "Given it's already 9:30am and you want to finish by 10am, here's what to do in the next 25 minutes:\n",
    "\n",
    "1. Set a timer for 25 minutes right now\n",
    "2. Write a quick bullet-point list of 3 concrete actions you'll take tomorrow to address the problems identified (e.g. \"Start writing at 9am\", \"Set 45-min timer\", \"Pick one small topic\")\n",
    "3. Add a conclusion paragraph summarizing your key realization: that writing at night without timeboxing leads to scope creep\n",
    "4. Proofread once, publish\n",
    "\n",
    "Don't add any new sections or analysis - the current content identifying the problems is sufficient for a useful blog post. The goal is to ship it, not perfect it."
   ]
  },
  {
   "cell_type": "markdown",
   "id": "36053537",
   "metadata": {},
   "source": [
    "## Timebox"
   ]
  },
  {
   "cell_type": "code",
   "execution_count": 5,
   "id": "0d14ef52",
   "metadata": {},
   "outputs": [
    {
     "data": {
      "text/plain": [
       "datetime.datetime(2025, 2, 12, 9, 33, 53, 702594)"
      ]
     },
     "execution_count": 5,
     "metadata": {},
     "output_type": "execute_result"
    }
   ],
   "source": [
    "datetime.now()"
   ]
  },
  {
   "cell_type": "markdown",
   "id": "fbfbef14",
   "metadata": {},
   "source": [
    "## Pick one small topic. "
   ]
  },
  {
   "cell_type": "markdown",
   "id": "5888bf85",
   "metadata": {},
   "source": [
    "Let's analyze my incomplete drafts in the minutes that remain for today, perhaps. Maybe also analyze my story of what happened and try to find the root cause "
   ]
  },
  {
   "cell_type": "markdown",
   "id": "9f11ab7f",
   "metadata": {},
   "source": [
    "### Wait, is this doable?"
   ]
  },
  {
   "cell_type": "markdown",
   "id": "912ae42d",
   "metadata": {},
   "source": [
    "So it's a bit tricky to do. I have a catch-all repo that is for random notebooks. Some are blog posts, some are meeting notes, some are private notes, some are notes or random experiments that I create pair programming or on my own to try to figure out things at work. These are definitely not all intended to be blog posts. \n",
    "\n",
    "But it's not clear or definitive which ones are blog posts and which ones aren't. Even say a snippet of something interesting from something I do at work could end up turning out as a blog post if it involves only open source code, for example "
   ]
  },
  {
   "cell_type": "markdown",
   "id": "dc05b765",
   "metadata": {},
   "source": [
    "### Analyze something to start, anything"
   ]
  },
  {
   "cell_type": "code",
   "execution_count": 20,
   "id": "b161941e",
   "metadata": {},
   "outputs": [
    {
     "data": {
      "text/plain": [
       "(#144) [Path('Untitled9.ipynb'),Path('Untitled8.ipynb'),Path('Untitled7.ipynb'),Path('Untitled6.ipynb'),Path('Untitled5.ipynb'),Path('Untitled4.ipynb'),Path('Untitled3.ipynb'),Path('Untitled29.ipynb'),Path('Untitled28.ipynb'),Path('Untitled27.ipynb'),Path('Untitled26.ipynb'),Path('Untitled25.ipynb'),Path('Untitled24.ipynb'),Path('Untitled23.ipynb'),Path('Untitled22.ipynb'),Path('Untitled21.ipynb'),Path('Untitled20.ipynb'),Path('Untitled2.ipynb'),Path('Untitled19.ipynb'),Path('Untitled18.ipynb')...]"
      ]
     },
     "execution_count": 20,
     "metadata": {},
     "output_type": "execute_result"
    }
   ],
   "source": [
    "nbs = L(Path().glob(\"*.ipynb\")).sorted(reverse=True)\n",
    "nbs"
   ]
  },
  {
   "cell_type": "markdown",
   "id": "74d599ac",
   "metadata": {},
   "source": [
    "Okay, wow 144 notebooks in there. The latest ones are all untitled. I guess I was hoping to lean on my notebook titler pretty heavily. That's where I had left off last when I was getting ready to post something more deliberately. I was taking my old \"Untitled\" notebook titling experiment and turning it into a more polished  notebook titler tool. "
   ]
  },
  {
   "cell_type": "markdown",
   "id": "f19b8252",
   "metadata": {},
   "source": [
    "### Why I've needed a notebook auto-titler"
   ]
  },
  {
   "cell_type": "markdown",
   "id": "c32f2d7e",
   "metadata": {},
   "source": [
    "My hands have been getting tired lately, so the typing involved with copying the notebook title to Jupyter Notebooks rename dialog then adding dashes and prepending with the date was getting to be a bit too much typing. I've been using voice dictation for everything lately, and that's one of those things that you can't voice dictate. \n",
    "\n",
    "I had been hoping some automation would help up there, and I had been working on the automation. "
   ]
  },
  {
   "cell_type": "markdown",
   "id": "4aa14a18",
   "metadata": {},
   "source": [
    "### Root Cause Identified! When automation goes wrong"
   ]
  },
  {
   "cell_type": "markdown",
   "id": "f1c36210",
   "metadata": {},
   "source": [
    "I realize now that I fell off the wagon when I had been almost done creating the ultimate notebook auto-titler, and then I accidentally ran it on itself and accidentally destroyed all my work for the day. You can imagine how frustrating that felt. "
   ]
  },
  {
   "cell_type": "markdown",
   "id": "5cbbecfc",
   "metadata": {},
   "source": [
    "### Where are the latest versions of my auto-titler? "
   ]
  },
  {
   "cell_type": "markdown",
   "id": "64e4d1bb",
   "metadata": {},
   "source": [
    "[Auto-Renaming My Untitled.ipynb Files With Gemini 1.5 Flash](https://audrey.feldroy.com/nbs/2025-02-01-Auto-Renaming-My-Untitled-ipynb-Files-With-Gemini) is the latest public version.\n",
    "\n",
    "As for the private versions, I have a notebook that I retrieved from a Jupyter notebook checkpoint that is only slightly more advanced than that notebook above."
   ]
  },
  {
   "cell_type": "markdown",
   "id": "1fe0e7b9",
   "metadata": {},
   "source": [
    "## Plan for Tomorrow"
   ]
  },
  {
   "cell_type": "markdown",
   "id": "afdd21d1",
   "metadata": {},
   "source": [
    "* Start writing at 9 a.m. sharp. (Or the moment I get my laptop open after dropping off my daughter at school.)\n",
    "* Time box myself: Import datetime at the start and set a target end time for 10am. \n",
    "* Identify a subproblem in that Jupyter Notebook checkpoint notebook and make that my blog topic. \n"
   ]
  },
  {
   "cell_type": "code",
   "execution_count": 25,
   "id": "05f58d82",
   "metadata": {},
   "outputs": [
    {
     "data": {
      "text/plain": [
       "datetime.datetime(2025, 2, 12, 10, 1, 27, 65936)"
      ]
     },
     "execution_count": 25,
     "metadata": {},
     "output_type": "execute_result"
    }
   ],
   "source": [
    "datetime.now()"
   ]
  }
 ],
 "metadata": {
  "kernelspec": {
   "display_name": "Python 3 (ipykernel)",
   "language": "python",
   "name": "python3"
  },
  "language_info": {
   "codemirror_mode": {
    "name": "ipython",
    "version": 3
   },
   "file_extension": ".py",
   "mimetype": "text/x-python",
   "name": "python",
   "nbconvert_exporter": "python",
   "pygments_lexer": "ipython3",
   "version": "3.12.8"
  }
 },
 "nbformat": 4,
 "nbformat_minor": 5
}
