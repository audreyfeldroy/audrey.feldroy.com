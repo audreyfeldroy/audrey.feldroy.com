{
 "cells": [
  {
   "cell_type": "markdown",
   "id": "46b9db0b",
   "metadata": {},
   "source": [
    "# How to Turn a Jupyter Notebook Into a Python Script"
   ]
  },
  {
   "cell_type": "markdown",
   "id": "2cd52976",
   "metadata": {},
   "source": [
    "Here I turn this Jupyter notebook into a Python script, using nbdev's nb_export function from the notebook itself."
   ]
  },
  {
   "cell_type": "markdown",
   "id": "078c24e4",
   "metadata": {},
   "source": [
    "## Name the Module"
   ]
  },
  {
   "cell_type": "markdown",
   "id": "06abe6f9",
   "metadata": {},
   "source": [
    "First, I add the `default_exp` directive with the module name I want created from this notebook:"
   ]
  },
  {
   "cell_type": "code",
   "execution_count": 6,
   "id": "beac4abf",
   "metadata": {},
   "outputs": [],
   "source": [
    "#| default_exp rename_nbs"
   ]
  },
  {
   "cell_type": "markdown",
   "id": "8ee59c5c",
   "metadata": {},
   "source": [
    "## Bring Over Code"
   ]
  },
  {
   "cell_type": "markdown",
   "id": "02559180",
   "metadata": {},
   "source": [
    "In this section, I copy over just the important cells from [Auto-Renaming My Untitled.ipynb Files With Gemini 1.5 Flash](https://audrey.feldroy.com/nbs/2025-02-01-Auto-Renaming-My-Untitled-ipynb-Files-With-Gemini)\n",
    "\n",
    "I also define function `get_untitled_nbs`.\n",
    "\n",
    "I add the export directive to each cell, so that it gets added to my script."
   ]
  },
  {
   "cell_type": "code",
   "execution_count": 8,
   "id": "7d5318a3",
   "metadata": {},
   "outputs": [],
   "source": [
    "#| export\n",
    "from datetime import datetime\n",
    "from fastcore.utils import *\n",
    "import google.generativeai as genai\n",
    "from nbdev.export import nb_export\n",
    "from pathlib import Path"
   ]
  },
  {
   "cell_type": "code",
   "execution_count": 9,
   "id": "91ed4200",
   "metadata": {},
   "outputs": [],
   "source": [
    "#| export\n",
    "def generate_title_part(nb):\n",
    "    prompt = f\"\"\"Given this Jupyter notebook, create a filename following these EXACT steps:\n",
    "1. Extract the title from the first cell if it starts with '#'. In this case it's: \"FastHTML By Example, Part 2\"\n",
    "2. Convert to the format: Words-In-Title-Case-With-Hyphens.ipynb\n",
    "3. Remove any special characters (like commas)\n",
    "4. If the filename sounds repetitive, simplify it.\n",
    "5. If the first cell does not contain a title, create one based on the entire notebook's contents.\n",
    "\n",
    "<notebook>\n",
    "{nb}\n",
    "</notebook>\n",
    "\n",
    "Return ONLY the filename, nothing else.\"\"\"\n",
    "    safety_settings = [\n",
    "        {\"category\": \"HARM_CATEGORY_HARASSMENT\", \"threshold\": \"BLOCK_NONE\",},\n",
    "        {\"category\": \"HARM_CATEGORY_HATE_SPEECH\", \"threshold\": \"BLOCK_NONE\",},\n",
    "        {\"category\": \"HARM_CATEGORY_SEXUALLY_EXPLICIT\", \"threshold\": \"BLOCK_NONE\",},\n",
    "        {\"category\": \"HARM_CATEGORY_DANGEROUS_CONTENT\", \"threshold\": \"BLOCK_NONE\",},\n",
    "    ]\n",
    "    model = genai.GenerativeModel('gemini-1.5-flash-latest')\n",
    "    response = model.generate_content(prompt, safety_settings=safety_settings, request_options = {\"timeout\": 1000})\n",
    "    try:\n",
    "        return response.text\n",
    "    except Exception as ex:\n",
    "        raise ex"
   ]
  },
  {
   "cell_type": "code",
   "execution_count": 10,
   "id": "1c2c36a7",
   "metadata": {},
   "outputs": [],
   "source": [
    "#| export\n",
    "def rename_notebook(nb_path):\n",
    "    \"\"\"Rename an untitled notebook based on its contents and modification date\"\"\"\n",
    "    date = datetime.fromtimestamp(Path(nb_path).stat().st_mtime).strftime('%Y-%m-%d')\n",
    "    with open(nb_path) as f: nb = f.read()\n",
    "    \n",
    "    title_part = generate_title_part(nb)\n",
    "    \n",
    "    new_name = f\"{date}-{title_part.strip()}\"\n",
    "    new_path = Path(new_name)\n",
    "    \n",
    "    if new_path.exists():\n",
    "        print(f\"Warning: {new_path} already exists\")\n",
    "        return nb_path\n",
    "    else:\n",
    "        nb_path.rename(new_path)\n",
    "        print(f\"Renamed {nb_path} to {new_path}\")\n",
    "        return new_path"
   ]
  },
  {
   "cell_type": "code",
   "execution_count": 11,
   "id": "a36c9615",
   "metadata": {},
   "outputs": [],
   "source": [
    "#| export\n",
    "def get_untitled_nbs(nbs_path): return L(Path(nbs_path).expanduser().glob(\"Untitled*.ipynb\"))"
   ]
  },
  {
   "cell_type": "code",
   "execution_count": 16,
   "id": "e9516cea",
   "metadata": {},
   "outputs": [],
   "source": [
    "#| export\n",
    "if __name__ == '__main__':\n",
    "    nbs = get_untitled_nbs(\"~/fun/arg-drafts\")\n",
    "    new_paths = nbs.map(rename_notebook)"
   ]
  },
  {
   "cell_type": "markdown",
   "id": "b0644684",
   "metadata": {},
   "source": [
    "## Export It"
   ]
  },
  {
   "cell_type": "markdown",
   "id": "39b3d609",
   "metadata": {},
   "source": [
    "Here I export `rename_nbs.py` from this notebook to a new `scripts/` directory where I'm going to put all my Python scripts:"
   ]
  },
  {
   "cell_type": "code",
   "execution_count": 17,
   "id": "7f676611",
   "metadata": {},
   "outputs": [],
   "source": [
    "nb_export(\"2025-02-04-Using-nb_export-to-Export-a-Python-Module-From-a-Notebook.ipynb\", lib_path=\"../scripts\")"
   ]
  },
  {
   "cell_type": "code",
   "execution_count": 55,
   "id": "548c4e80",
   "metadata": {},
   "outputs": [
    {
     "name": "stdout",
     "output_type": "stream",
     "text": [
      "rename_nbs.py\r\n"
     ]
    }
   ],
   "source": [
    "!ls ../scripts/"
   ]
  },
  {
   "cell_type": "markdown",
   "id": "0d8137d2",
   "metadata": {},
   "source": [
    "It's amazing to call `nb_export` as a function in notebooks! I often use the nb_export command in my terminal, which is nice, but in-notebook use is even nicer."
   ]
  }
 ],
 "metadata": {
  "kernelspec": {
   "display_name": "Python 3 (ipykernel)",
   "language": "python",
   "name": "python3"
  },
  "language_info": {
   "codemirror_mode": {
    "name": "ipython",
    "version": 3
   },
   "file_extension": ".py",
   "mimetype": "text/x-python",
   "name": "python",
   "nbconvert_exporter": "python",
   "pygments_lexer": "ipython3",
   "version": "3.12.8"
  }
 },
 "nbformat": 4,
 "nbformat_minor": 5
}
