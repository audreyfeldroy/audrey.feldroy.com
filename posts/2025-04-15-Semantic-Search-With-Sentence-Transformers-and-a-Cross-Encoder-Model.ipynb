{
 "cells": [
  {
   "cell_type": "markdown",
   "id": "b1cd5bf5",
   "metadata": {},
   "source": [
    "# Semantic Search With Sentence Transformers and a Cross-Encoder Model"
   ]
  },
  {
   "cell_type": "markdown",
   "id": "eaa66d71",
   "metadata": {},
   "source": [
    "Continuing the Sentence Transformers exploration, I use a cross-encoder model to rank my notebooks by similarity to search queries."
   ]
  },
  {
   "cell_type": "markdown",
   "id": "772a5ee2",
   "metadata": {},
   "source": [
    "## Setup"
   ]
  },
  {
   "cell_type": "code",
   "execution_count": 8,
   "id": "26cb6133",
   "metadata": {},
   "outputs": [],
   "source": [
    "from fastcore.utils import *\n",
    "from pathlib import Path\n",
    "from sentence_transformers import CrossEncoder"
   ]
  },
  {
   "cell_type": "markdown",
   "id": "346a62c8",
   "metadata": {},
   "source": [
    "## Bi-Encoder vs. Cross-Encoder Model"
   ]
  },
  {
   "cell_type": "markdown",
   "id": "8666a1d1",
   "metadata": {},
   "source": [
    "A cross-encoder model takes 2 texts as input and outputs 1 similarity score. That means you can't precompute embeddings like I did with the bi-encoder model, but rather must use the cross-encoder model to generate similarities each time."
   ]
  },
  {
   "cell_type": "markdown",
   "id": "22985df0",
   "metadata": {},
   "source": [
    "| Aspect | Bi-Encoder | Cross-Encoder |\n",
    "|--------|------------|---------------|\n",
    "| **Input/Output** | Encodes texts separately into embeddings | Takes text pair, outputs similarity score |\n",
    "| **Accuracy** | Lower accuracy but sufficient for initial retrieval | Higher accuracy for relevance ranking |\n",
    "| **Computational Cost** | More efficient (can pre-compute embeddings) | More expensive (must process each text pair) |\n",
    "| **Scalability** | Good for large-scale retrieval | Poor for large datasets |\n",
    "| **Use Case** | Initial retrieval from large corpus | Re-ranking a small set of candidates |\n",
    "| **Storage** | Requires storing embeddings | No embedding storage needed |"
   ]
  },
  {
   "cell_type": "markdown",
   "id": "28a2989e",
   "metadata": {},
   "source": [
    "Cross-encoders excel at precision, but are typically used after a bi-encoder has narrowed down search results to 10-100 documents. In my case, I have less than 100 notebooks on this site, so I can get away with using just a cross-encoder."
   ]
  },
  {
   "cell_type": "markdown",
   "id": "6b3a2156",
   "metadata": {},
   "source": [
    "## Download a Cross-Encoder Model"
   ]
  },
  {
   "cell_type": "code",
   "execution_count": 10,
   "id": "7845f1eb",
   "metadata": {
    "scrolled": true
   },
   "outputs": [],
   "source": [
    "ce_model = CrossEncoder(\"cross-encoder/ms-marco-MiniLM-L6-v2\")"
   ]
  },
  {
   "cell_type": "markdown",
   "id": "8ce1746a",
   "metadata": {},
   "source": [
    "## Get All Notebook Paths"
   ]
  },
  {
   "cell_type": "markdown",
   "id": "8782968d",
   "metadata": {},
   "source": [
    "We put each notebook to be searched into a list."
   ]
  },
  {
   "cell_type": "code",
   "execution_count": 12,
   "id": "91b7c93c",
   "metadata": {},
   "outputs": [],
   "source": [
    "def get_nb_paths(): \n",
    "    root = Path() if IN_NOTEBOOK else Path(\"nbs/\")\n",
    "    return L(root.glob(\"*.ipynb\")).sorted(reverse=True)"
   ]
  },
  {
   "cell_type": "code",
   "execution_count": 16,
   "id": "8a5d3fce",
   "metadata": {},
   "outputs": [],
   "source": [
    "nb_paths = get_nb_paths()"
   ]
  },
  {
   "cell_type": "code",
   "execution_count": 17,
   "id": "20c3b163",
   "metadata": {},
   "outputs": [],
   "source": [
    "def read_nb_simple(nb_path):\n",
    "    with open(nb_path, 'r', encoding='utf-8') as f:\n",
    "        return f.read()"
   ]
  },
  {
   "cell_type": "code",
   "execution_count": 18,
   "id": "e92b9505",
   "metadata": {},
   "outputs": [],
   "source": [
    "nbs = L(nb_paths).map(read_nb_simple)"
   ]
  },
  {
   "cell_type": "markdown",
   "id": "d97c496f",
   "metadata": {},
   "source": [
    "## Search for a Test Query String"
   ]
  },
  {
   "cell_type": "markdown",
   "id": "7713de71",
   "metadata": {},
   "source": [
    "Let's search my notebooks for a test string."
   ]
  },
  {
   "cell_type": "code",
   "execution_count": 46,
   "id": "83030f67",
   "metadata": {},
   "outputs": [],
   "source": [
    "q = \"Web search\"\n",
    "hits = ce_model.rank(q, nbs, return_documents=False)"
   ]
  },
  {
   "cell_type": "code",
   "execution_count": 47,
   "id": "311bce36",
   "metadata": {},
   "outputs": [
    {
     "data": {
      "text/plain": [
       "[{'corpus_id': 37, 'score': np.float32(-4.74905)},\n",
       " {'corpus_id': 70, 'score': np.float32(-5.289769)},\n",
       " {'corpus_id': 1, 'score': np.float32(-5.520778)},\n",
       " {'corpus_id': 32, 'score': np.float32(-5.8513002)},\n",
       " {'corpus_id': 0, 'score': np.float32(-6.227929)},\n",
       " {'corpus_id': 38, 'score': np.float32(-6.256436)},\n",
       " {'corpus_id': 23, 'score': np.float32(-6.4169016)},\n",
       " {'corpus_id': 20, 'score': np.float32(-6.501535)},\n",
       " {'corpus_id': 54, 'score': np.float32(-6.5156918)},\n",
       " {'corpus_id': 43, 'score': np.float32(-6.5381203)}]"
      ]
     },
     "execution_count": 47,
     "metadata": {},
     "output_type": "execute_result"
    }
   ],
   "source": [
    "hits[:10]"
   ]
  },
  {
   "cell_type": "code",
   "execution_count": 48,
   "id": "80c6db81",
   "metadata": {},
   "outputs": [],
   "source": [
    "def print_search_result(hit): print(f\"{hit['score']} {nb_paths[hit['corpus_id']]}\")"
   ]
  },
  {
   "cell_type": "code",
   "execution_count": 49,
   "id": "ea2e5b4b",
   "metadata": {},
   "outputs": [
    {
     "name": "stdout",
     "output_type": "stream",
     "text": [
      "-4.749050140380859 2025-01-14-Constructing-SQLite-Tables-for-Notebooks-and-Search.ipynb\n",
      "-5.289769172668457 2024-07-16_Xtend_Pico.ipynb\n",
      "-5.520778179168701 2025-04-14-Semantic-Search-With-Sentence-Transformers-and-a-Bi-Encoder-Model.ipynb\n",
      "-5.851300239562988 2025-01-20-Dark-and-Light-Mode-in-FastHTML.ipynb\n",
      "-6.22792911529541 2025-04-15-Semantic-Search-With-Sentence-Transformers-and-a-Cross-Encoder-Model.ipynb\n",
      "-6.256435871124268 2025-01-13-SQLite-FTS5-Tokenizers-unicode61-and-ascii.ipynb\n",
      "-6.416901588439941 2025-01-27-This-Site-Is-Now-Powered-by-This-Notebook-Part-3.ipynb\n",
      "-6.501534938812256 2025-01-30-This-Site-Is-Now-Powered-by-This-Notebook-Part-5.ipynb\n",
      "-6.515691757202148 2024-12-30-Images-In-Every-Way-In-Notebooks.ipynb\n",
      "-6.538120269775391 2025-01-08-HTML-Title-Tag-in-FastHTML.ipynb\n"
     ]
    },
    {
     "data": {
      "text/plain": [
       "(#10) [None,None,None,None,None,None,None,None,None,None]"
      ]
     },
     "execution_count": 49,
     "metadata": {},
     "output_type": "execute_result"
    }
   ],
   "source": [
    "L(hits[:10]).map(print_search_result)"
   ]
  },
  {
   "cell_type": "markdown",
   "id": "ca36ad7d",
   "metadata": {},
   "source": [
    "Those results seem not as good as those from the bi-encoder. Let's try another cross-encoder model."
   ]
  },
  {
   "cell_type": "markdown",
   "id": "7e6b9eac",
   "metadata": {},
   "source": [
    "## Another Cross-Encoder: ms-marco-MiniLM-L12-v2"
   ]
  },
  {
   "cell_type": "code",
   "execution_count": 52,
   "id": "c8988b92",
   "metadata": {},
   "outputs": [
    {
     "data": {
      "application/vnd.jupyter.widget-view+json": {
       "model_id": "a0ccd8294cbb46db81afc72ead0ef6f0",
       "version_major": 2,
       "version_minor": 0
      },
      "text/plain": [
       "config.json:   0%|          | 0.00/791 [00:00<?, ?B/s]"
      ]
     },
     "metadata": {},
     "output_type": "display_data"
    },
    {
     "data": {
      "application/vnd.jupyter.widget-view+json": {
       "model_id": "ff16792544cd413fa098619a0ded339b",
       "version_major": 2,
       "version_minor": 0
      },
      "text/plain": [
       "model.safetensors:   0%|          | 0.00/133M [00:00<?, ?B/s]"
      ]
     },
     "metadata": {},
     "output_type": "display_data"
    },
    {
     "data": {
      "application/vnd.jupyter.widget-view+json": {
       "model_id": "e836bd1b264a4ebc8072b320eeb25be8",
       "version_major": 2,
       "version_minor": 0
      },
      "text/plain": [
       "tokenizer_config.json:   0%|          | 0.00/1.33k [00:00<?, ?B/s]"
      ]
     },
     "metadata": {},
     "output_type": "display_data"
    },
    {
     "data": {
      "application/vnd.jupyter.widget-view+json": {
       "model_id": "5cdf72a84121414685f86c2e973448cc",
       "version_major": 2,
       "version_minor": 0
      },
      "text/plain": [
       "vocab.txt:   0%|          | 0.00/232k [00:00<?, ?B/s]"
      ]
     },
     "metadata": {},
     "output_type": "display_data"
    },
    {
     "data": {
      "application/vnd.jupyter.widget-view+json": {
       "model_id": "c1ef74d5246f4cf3a48162002f98541d",
       "version_major": 2,
       "version_minor": 0
      },
      "text/plain": [
       "tokenizer.json:   0%|          | 0.00/711k [00:00<?, ?B/s]"
      ]
     },
     "metadata": {},
     "output_type": "display_data"
    },
    {
     "data": {
      "application/vnd.jupyter.widget-view+json": {
       "model_id": "1e5068804c474c678e815e82460040f0",
       "version_major": 2,
       "version_minor": 0
      },
      "text/plain": [
       "special_tokens_map.json:   0%|          | 0.00/132 [00:00<?, ?B/s]"
      ]
     },
     "metadata": {},
     "output_type": "display_data"
    },
    {
     "data": {
      "application/vnd.jupyter.widget-view+json": {
       "model_id": "8b419e40bce24099afda5838b385ee2d",
       "version_major": 2,
       "version_minor": 0
      },
      "text/plain": [
       "README.md:   0%|          | 0.00/3.66k [00:00<?, ?B/s]"
      ]
     },
     "metadata": {},
     "output_type": "display_data"
    }
   ],
   "source": [
    "ce_model = CrossEncoder(\"cross-encoder/ms-marco-MiniLM-L12-v2\")"
   ]
  },
  {
   "cell_type": "code",
   "execution_count": 53,
   "id": "a9505369",
   "metadata": {},
   "outputs": [],
   "source": [
    "hits = ce_model.rank(q, nbs, return_documents=False)"
   ]
  },
  {
   "cell_type": "code",
   "execution_count": 54,
   "id": "ba595b7e",
   "metadata": {},
   "outputs": [
    {
     "name": "stdout",
     "output_type": "stream",
     "text": [
      "-2.2172038555145264 2024-07-16_Xtend_Pico.ipynb\n",
      "-4.159910202026367 2025-01-14-Constructing-SQLite-Tables-for-Notebooks-and-Search.ipynb\n",
      "-4.701387882232666 2025-04-15-Semantic-Search-With-Sentence-Transformers-and-a-Cross-Encoder-Model.ipynb\n",
      "-5.170993328094482 2025-02-12-My-Self-Analysis-of-How-to-Get-Back-to-Posting-Every-Day.ipynb\n",
      "-5.205975532531738 2025-01-13-SQLite-FTS5-Tokenizers-unicode61-and-ascii.ipynb\n",
      "-5.208843231201172 2025-04-14-Semantic-Search-With-Sentence-Transformers-and-a-Bi-Encoder-Model.ipynb\n",
      "-5.574733257293701 2025-01-20-Dark-and-Light-Mode-in-FastHTML.ipynb\n",
      "-5.780138969421387 2024-12-30-Images-In-Every-Way-In-Notebooks.ipynb\n",
      "-5.9362897872924805 2024-12-27-Notebook-Names-to-Cards.ipynb\n",
      "-6.101370334625244 2025-01-24-Creating-In-Notebook-Images-for-Social-Media-With-PIL-Pillow.ipynb\n"
     ]
    },
    {
     "data": {
      "text/plain": [
       "(#10) [None,None,None,None,None,None,None,None,None,None]"
      ]
     },
     "execution_count": 54,
     "metadata": {},
     "output_type": "execute_result"
    }
   ],
   "source": [
    "L(hits[:10]).map(print_search_result)"
   ]
  },
  {
   "cell_type": "markdown",
   "id": "85035bc9",
   "metadata": {},
   "source": [
    "Fascinating how \"Web\" is emphasized so much, rather than the idea of \"Web search\"."
   ]
  },
  {
   "cell_type": "markdown",
   "id": "498ae4f7",
   "metadata": {},
   "source": [
    "## Another Cross-Encoder: ms-marco-TinyBERT-L2-v2"
   ]
  },
  {
   "cell_type": "code",
   "execution_count": 59,
   "id": "b5ba2c00",
   "metadata": {},
   "outputs": [
    {
     "data": {
      "application/vnd.jupyter.widget-view+json": {
       "model_id": "5f9565f038af4ab49f6a96f7acd41088",
       "version_major": 2,
       "version_minor": 0
      },
      "text/plain": [
       "config.json:   0%|          | 0.00/787 [00:00<?, ?B/s]"
      ]
     },
     "metadata": {},
     "output_type": "display_data"
    },
    {
     "data": {
      "application/vnd.jupyter.widget-view+json": {
       "model_id": "770ce2ab65c4411f8573d74f3af9f4bc",
       "version_major": 2,
       "version_minor": 0
      },
      "text/plain": [
       "model.safetensors:   0%|          | 0.00/17.6M [00:00<?, ?B/s]"
      ]
     },
     "metadata": {},
     "output_type": "display_data"
    },
    {
     "data": {
      "application/vnd.jupyter.widget-view+json": {
       "model_id": "3f81778105504097bcd320b9e38edb40",
       "version_major": 2,
       "version_minor": 0
      },
      "text/plain": [
       "tokenizer_config.json:   0%|          | 0.00/1.33k [00:00<?, ?B/s]"
      ]
     },
     "metadata": {},
     "output_type": "display_data"
    },
    {
     "data": {
      "application/vnd.jupyter.widget-view+json": {
       "model_id": "896262e1c66a490c97b231b36b0778f1",
       "version_major": 2,
       "version_minor": 0
      },
      "text/plain": [
       "vocab.txt:   0%|          | 0.00/232k [00:00<?, ?B/s]"
      ]
     },
     "metadata": {},
     "output_type": "display_data"
    },
    {
     "data": {
      "application/vnd.jupyter.widget-view+json": {
       "model_id": "93cde123cb3d4338a13472621f894b81",
       "version_major": 2,
       "version_minor": 0
      },
      "text/plain": [
       "tokenizer.json:   0%|          | 0.00/711k [00:00<?, ?B/s]"
      ]
     },
     "metadata": {},
     "output_type": "display_data"
    },
    {
     "data": {
      "application/vnd.jupyter.widget-view+json": {
       "model_id": "3746d3e755014d729855e9ca268b4331",
       "version_major": 2,
       "version_minor": 0
      },
      "text/plain": [
       "special_tokens_map.json:   0%|          | 0.00/132 [00:00<?, ?B/s]"
      ]
     },
     "metadata": {},
     "output_type": "display_data"
    },
    {
     "data": {
      "application/vnd.jupyter.widget-view+json": {
       "model_id": "1c2a3b084d9a44fba79765c16200719b",
       "version_major": 2,
       "version_minor": 0
      },
      "text/plain": [
       "README.md:   0%|          | 0.00/3.50k [00:00<?, ?B/s]"
      ]
     },
     "metadata": {},
     "output_type": "display_data"
    },
    {
     "name": "stdout",
     "output_type": "stream",
     "text": [
      "-8.323616981506348 2025-01-14-Constructing-SQLite-Tables-for-Notebooks-and-Search.ipynb\n",
      "-8.499364852905273 2025-04-14-Semantic-Search-With-Sentence-Transformers-and-a-Bi-Encoder-Model.ipynb\n",
      "-8.768281936645508 2025-04-15-Semantic-Search-With-Sentence-Transformers-and-a-Cross-Encoder-Model.ipynb\n",
      "-8.79620361328125 2025-01-13-SQLite-FTS5-Tokenizers-unicode61-and-ascii.ipynb\n",
      "-10.260381698608398 2024-08-05-Claudette-FastHTML.ipynb\n",
      "-10.28246784210205 2025-01-07-Verifying-Bluesky-Domain-in-FastHTML.ipynb\n",
      "-10.379759788513184 2024-07-15-Printing_Components.ipynb\n",
      "-10.407485961914062 2025-01-18-Alarm-Sounds-App.ipynb\n",
      "-10.417764663696289 2024-12-23-Exploring-execnb-and-nb2fasthtml.ipynb\n",
      "-10.446236610412598 2025-02-06-Creating-an-Accessible-Inline-Nav-FastTag.ipynb\n"
     ]
    },
    {
     "data": {
      "text/plain": [
       "(#10) [None,None,None,None,None,None,None,None,None,None]"
      ]
     },
     "execution_count": 59,
     "metadata": {},
     "output_type": "execute_result"
    }
   ],
   "source": [
    "ce_model = CrossEncoder(\"cross-encoder/ms-marco-TinyBERT-L2-v2\")\n",
    "hits = ce_model.rank(q, nbs, return_documents=False)\n",
    "L(hits[:10]).map(print_search_result)"
   ]
  },
  {
   "cell_type": "markdown",
   "id": "49fb4254",
   "metadata": {},
   "source": [
    "This seems the best! I like this ranking."
   ]
  },
  {
   "cell_type": "markdown",
   "id": "49397ae8",
   "metadata": {},
   "source": [
    "## Reflection"
   ]
  },
  {
   "cell_type": "markdown",
   "id": "9823b1f4",
   "metadata": {},
   "source": [
    "After experimenting with a few cross-encoder models, I found that the TinyBERT model (`cross-encoder/ms-marco-TinyBERT-L2-v2`) gave the most intuitive results out of both the cross-encoder and bi-encoder models. \n",
    "\n",
    "It seemed to understand the semantic relationship between \"Web search\" and my notebooks about search functionality better than the larger models."
   ]
  }
 ],
 "metadata": {
  "kernelspec": {
   "display_name": "Python 3 (ipykernel)",
   "language": "python",
   "name": "python3"
  },
  "language_info": {
   "codemirror_mode": {
    "name": "ipython",
    "version": 3
   },
   "file_extension": ".py",
   "mimetype": "text/x-python",
   "name": "python",
   "nbconvert_exporter": "python",
   "pygments_lexer": "ipython3",
   "version": "3.12.8"
  }
 },
 "nbformat": 4,
 "nbformat_minor": 5
}
