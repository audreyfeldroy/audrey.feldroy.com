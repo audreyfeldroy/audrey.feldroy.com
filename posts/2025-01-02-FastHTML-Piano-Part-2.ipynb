{
 "cells": [
  {
   "cell_type": "markdown",
   "id": "90fb93f9",
   "metadata": {},
   "source": [
    "# FastHTML Piano, Part 2"
   ]
  },
  {
   "cell_type": "code",
   "execution_count": 2,
   "id": "446332d4",
   "metadata": {},
   "outputs": [],
   "source": [
    "from fastcore.all import *\n",
    "from fasthtml.common import *\n",
    "from fasthtml.jupyter import *\n",
    "from IPython.display import display, Javascript"
   ]
  },
  {
   "cell_type": "markdown",
   "id": "cd3369ba",
   "metadata": {},
   "source": [
    "## Piano Keys"
   ]
  },
  {
   "cell_type": "markdown",
   "id": "851e7c34",
   "metadata": {},
   "source": [
    "In Part 1 we defined piano keys like this:"
   ]
  },
  {
   "cell_type": "code",
   "execution_count": 3,
   "id": "116829a6",
   "metadata": {},
   "outputs": [],
   "source": [
    "def Key(note, octave): return Div(\n",
    "    Div(note, Sub(octave, style='font-size:10px;pointer-events:none;'), style='position:absolute;bottom:0;text-align:center;width:100%;pointer-events:none;'),\n",
    "    onmouseover=\"event.target.style.backgroundColor = '#eef';\",\n",
    "    onmouseout=\"event.target.style.backgroundColor = '#fff';\",\n",
    "    style='cursor:pointer;font:16px \"Open Sans\",\"Lucida Grande\",\"Arial\",sans-serif;text-align:center;border:1px solid black;border-radius:5px;width:20px;height:80px;margin-right:3px;box-shadow:2px 2px darkgray;display:inline-block;position:relative;user-select:none;-moz-user-select:none;-webkit-user-select:none;-ms-user-select:none;')"
   ]
  },
  {
   "cell_type": "code",
   "execution_count": 4,
   "id": "4fb00913",
   "metadata": {},
   "outputs": [
    {
     "data": {
      "text/html": [
       "<div onmouseover=\"event.target.style.backgroundColor = '#eef';\" onmouseout=\"event.target.style.backgroundColor = '#fff';\" style='cursor:pointer;font:16px \"Open Sans\",\"Lucida Grande\",\"Arial\",sans-serif;text-align:center;border:1px solid black;border-radius:5px;width:20px;height:80px;margin-right:3px;box-shadow:2px 2px darkgray;display:inline-block;position:relative;user-select:none;-moz-user-select:none;-webkit-user-select:none;-ms-user-select:none;'>\n",
       "  <div style=\"position:absolute;bottom:0;text-align:center;width:100%;pointer-events:none;\">\n",
       "C<sub style=\"font-size:10px;pointer-events:none;\">5</sub>  </div>\n",
       "</div>\n",
       "<div onmouseover=\"event.target.style.backgroundColor = '#eef';\" onmouseout=\"event.target.style.backgroundColor = '#fff';\" style='cursor:pointer;font:16px \"Open Sans\",\"Lucida Grande\",\"Arial\",sans-serif;text-align:center;border:1px solid black;border-radius:5px;width:20px;height:80px;margin-right:3px;box-shadow:2px 2px darkgray;display:inline-block;position:relative;user-select:none;-moz-user-select:none;-webkit-user-select:none;-ms-user-select:none;'>\n",
       "  <div style=\"position:absolute;bottom:0;text-align:center;width:100%;pointer-events:none;\">\n",
       "D<sub style=\"font-size:10px;pointer-events:none;\">5</sub>  </div>\n",
       "</div>\n",
       "<script>if (window.htmx) htmx.process(document.body)</script>"
      ],
      "text/plain": [
       "<IPython.core.display.HTML object>"
      ]
     },
     "metadata": {},
     "output_type": "display_data"
    }
   ],
   "source": [
    "show(Key('C','5'), Key('D','5'))"
   ]
  },
  {
   "cell_type": "markdown",
   "id": "1866b6e4",
   "metadata": {},
   "source": [
    "We'll be adding frequencies to the keys."
   ]
  },
  {
   "cell_type": "markdown",
   "id": "8ad44fc7",
   "metadata": {},
   "source": [
    "## Frequencies of Notes"
   ]
  },
  {
   "cell_type": "markdown",
   "id": "4bebfa7c",
   "metadata": {},
   "source": [
    "Even though our piano has just the white keys, we need all the notes to calculate the frequencies:"
   ]
  },
  {
   "cell_type": "code",
   "execution_count": 17,
   "id": "e3e25b50",
   "metadata": {},
   "outputs": [
    {
     "data": {
      "text/plain": [
       "(#12) ['C','C#','D','D#','E','F','F#','G','G#','A','A#','B']"
      ]
     },
     "execution_count": 17,
     "metadata": {},
     "output_type": "execute_result"
    }
   ],
   "source": [
    "notes_in_octave = L(['C', 'C#', 'D', 'D#', 'E', 'F', 'F#', 'G', 'G#', 'A', 'A#', 'B'])\n",
    "notes_in_octave"
   ]
  },
  {
   "cell_type": "markdown",
   "id": "330915be",
   "metadata": {},
   "source": [
    "There are 12 notes per octave. I define `npo` for later use:"
   ]
  },
  {
   "cell_type": "code",
   "execution_count": 18,
   "id": "ddeca69e",
   "metadata": {},
   "outputs": [
    {
     "data": {
      "text/plain": [
       "12"
      ]
     },
     "execution_count": 18,
     "metadata": {},
     "output_type": "execute_result"
    }
   ],
   "source": [
    "npo = len(notes_in_octave)\n",
    "npo"
   ]
  },
  {
   "cell_type": "markdown",
   "id": "9079b040",
   "metadata": {},
   "source": [
    "We use a4's frequency to calculate the other note frequencies:"
   ]
  },
  {
   "cell_type": "code",
   "execution_count": 19,
   "id": "431fc7dd",
   "metadata": {},
   "outputs": [],
   "source": [
    "a4_freq = 440.0"
   ]
  },
  {
   "cell_type": "code",
   "execution_count": 20,
   "id": "8eb9414a",
   "metadata": {},
   "outputs": [
    {
     "data": {
      "text/plain": [
       "9"
      ]
     },
     "execution_count": 20,
     "metadata": {},
     "output_type": "execute_result"
    }
   ],
   "source": [
    "notes_in_octave.index('A')"
   ]
  },
  {
   "cell_type": "markdown",
   "id": "30260467",
   "metadata": {},
   "source": [
    "And a4's index:"
   ]
  },
  {
   "cell_type": "code",
   "execution_count": 21,
   "id": "87296c69",
   "metadata": {},
   "outputs": [
    {
     "data": {
      "text/plain": [
       "57"
      ]
     },
     "execution_count": 21,
     "metadata": {},
     "output_type": "execute_result"
    }
   ],
   "source": [
    "a4i = notes_in_octave.index('A') + (4 * npo)\n",
    "a4i"
   ]
  },
  {
   "cell_type": "markdown",
   "id": "7ed4e164",
   "metadata": {},
   "source": [
    "Instead of a hardcoded table in JS with all the note frequencies for all octaves, we define this Python function:"
   ]
  },
  {
   "cell_type": "code",
   "execution_count": 22,
   "id": "939963e8",
   "metadata": {},
   "outputs": [
    {
     "data": {
      "text/plain": [
       "440.0"
      ]
     },
     "execution_count": 22,
     "metadata": {},
     "output_type": "execute_result"
    }
   ],
   "source": [
    "def freq(note, octave):\n",
    "    ni = notes_in_octave.index(note) + (octave * npo)\n",
    "    semitones_from_a4 = ni - a4i\n",
    "    freq = a4_freq * (2 ** (semitones_from_a4 / npo))\n",
    "    return round(freq, ndigits=1)\n",
    "freq('A', 4)"
   ]
  },
  {
   "cell_type": "code",
   "execution_count": 23,
   "id": "ef4605b1",
   "metadata": {},
   "outputs": [
    {
     "data": {
      "text/plain": [
       "130.8"
      ]
     },
     "execution_count": 23,
     "metadata": {},
     "output_type": "execute_result"
    }
   ],
   "source": [
    "freq('C', 3)"
   ]
  },
  {
   "cell_type": "markdown",
   "id": "114dcada",
   "metadata": {},
   "source": [
    "## Keys With Frequencies"
   ]
  },
  {
   "cell_type": "markdown",
   "id": "caab578c",
   "metadata": {},
   "source": [
    "I like the idea of showing the frequencies on the piano keys."
   ]
  },
  {
   "cell_type": "code",
   "execution_count": 24,
   "id": "549a85ae",
   "metadata": {},
   "outputs": [],
   "source": [
    "def Key(note, octave): \n",
    "    f = freq(note,octave)\n",
    "    return Div(\n",
    "        Div(Div(f, style=\"font-size:10px;transform:rotate(90deg);position:absolute;left:-6px;bottom:50px;\"), note, Sub(octave, style='font-size:10px;pointer-events:none;'), style='position:absolute;bottom:1px;text-align:center;width:100%;pointer-events:none;'),\n",
    "        onmouseover=\"event.target.style.backgroundColor = '#eef';\",\n",
    "        onmouseout=\"event.target.style.backgroundColor = '#fff';\",\n",
    "        style='cursor:pointer;font:10px \"Open Sans\",\"Lucida Grande\",\"Arial\",sans-serif;text-align:center;border:1px solid black;border-radius:5px;width:22px;height:80px;margin-right:3px;box-shadow:2px 2px darkgray;display:inline-block;position:relative;user-select:none;-moz-user-select:none;-webkit-user-select:none;-ms-user-select:none;')"
   ]
  },
  {
   "cell_type": "code",
   "execution_count": 25,
   "id": "7749b7b4",
   "metadata": {},
   "outputs": [
    {
     "data": {
      "text/html": [
       "<div onmouseover=\"event.target.style.backgroundColor = '#eef';\" onmouseout=\"event.target.style.backgroundColor = '#fff';\" style='cursor:pointer;font:10px \"Open Sans\",\"Lucida Grande\",\"Arial\",sans-serif;text-align:center;border:1px solid black;border-radius:5px;width:22px;height:80px;margin-right:3px;box-shadow:2px 2px darkgray;display:inline-block;position:relative;user-select:none;-moz-user-select:none;-webkit-user-select:none;-ms-user-select:none;'>\n",
       "  <div style=\"position:absolute;bottom:1px;text-align:center;width:100%;pointer-events:none;\">\n",
       "    <div style=\"font-size:10px;transform:rotate(90deg);position:absolute;left:-6px;bottom:50px;\">440.0</div>\n",
       "A<sub style=\"font-size:10px;pointer-events:none;\">4</sub>  </div>\n",
       "</div>\n",
       "<script>if (window.htmx) htmx.process(document.body)</script>"
      ],
      "text/plain": [
       "<IPython.core.display.HTML object>"
      ]
     },
     "metadata": {},
     "output_type": "display_data"
    }
   ],
   "source": [
    "show(Key('A', 4))"
   ]
  },
  {
   "cell_type": "markdown",
   "id": "4524d5d1",
   "metadata": {},
   "source": [
    "## Octaves"
   ]
  },
  {
   "cell_type": "code",
   "execution_count": 26,
   "id": "5281cd72",
   "metadata": {},
   "outputs": [
    {
     "data": {
      "text/html": [
       "<div style=\"display:inline-block;padding:0 6px 0 0;\">\n",
       "  <div onmouseover=\"event.target.style.backgroundColor = '#eef';\" onmouseout=\"event.target.style.backgroundColor = '#fff';\" style='cursor:pointer;font:10px \"Open Sans\",\"Lucida Grande\",\"Arial\",sans-serif;text-align:center;border:1px solid black;border-radius:5px;width:22px;height:80px;margin-right:3px;box-shadow:2px 2px darkgray;display:inline-block;position:relative;user-select:none;-moz-user-select:none;-webkit-user-select:none;-ms-user-select:none;'>\n",
       "    <div style=\"position:absolute;bottom:1px;text-align:center;width:100%;pointer-events:none;\">\n",
       "      <div style=\"font-size:10px;transform:rotate(90deg);position:absolute;left:-6px;bottom:50px;\">261.6</div>\n",
       "C<sub style=\"font-size:10px;pointer-events:none;\">4</sub>    </div>\n",
       "  </div>\n",
       "  <div onmouseover=\"event.target.style.backgroundColor = '#eef';\" onmouseout=\"event.target.style.backgroundColor = '#fff';\" style='cursor:pointer;font:10px \"Open Sans\",\"Lucida Grande\",\"Arial\",sans-serif;text-align:center;border:1px solid black;border-radius:5px;width:22px;height:80px;margin-right:3px;box-shadow:2px 2px darkgray;display:inline-block;position:relative;user-select:none;-moz-user-select:none;-webkit-user-select:none;-ms-user-select:none;'>\n",
       "    <div style=\"position:absolute;bottom:1px;text-align:center;width:100%;pointer-events:none;\">\n",
       "      <div style=\"font-size:10px;transform:rotate(90deg);position:absolute;left:-6px;bottom:50px;\">277.2</div>\n",
       "C#<sub style=\"font-size:10px;pointer-events:none;\">4</sub>    </div>\n",
       "  </div>\n",
       "  <div onmouseover=\"event.target.style.backgroundColor = '#eef';\" onmouseout=\"event.target.style.backgroundColor = '#fff';\" style='cursor:pointer;font:10px \"Open Sans\",\"Lucida Grande\",\"Arial\",sans-serif;text-align:center;border:1px solid black;border-radius:5px;width:22px;height:80px;margin-right:3px;box-shadow:2px 2px darkgray;display:inline-block;position:relative;user-select:none;-moz-user-select:none;-webkit-user-select:none;-ms-user-select:none;'>\n",
       "    <div style=\"position:absolute;bottom:1px;text-align:center;width:100%;pointer-events:none;\">\n",
       "      <div style=\"font-size:10px;transform:rotate(90deg);position:absolute;left:-6px;bottom:50px;\">293.7</div>\n",
       "D<sub style=\"font-size:10px;pointer-events:none;\">4</sub>    </div>\n",
       "  </div>\n",
       "  <div onmouseover=\"event.target.style.backgroundColor = '#eef';\" onmouseout=\"event.target.style.backgroundColor = '#fff';\" style='cursor:pointer;font:10px \"Open Sans\",\"Lucida Grande\",\"Arial\",sans-serif;text-align:center;border:1px solid black;border-radius:5px;width:22px;height:80px;margin-right:3px;box-shadow:2px 2px darkgray;display:inline-block;position:relative;user-select:none;-moz-user-select:none;-webkit-user-select:none;-ms-user-select:none;'>\n",
       "    <div style=\"position:absolute;bottom:1px;text-align:center;width:100%;pointer-events:none;\">\n",
       "      <div style=\"font-size:10px;transform:rotate(90deg);position:absolute;left:-6px;bottom:50px;\">311.1</div>\n",
       "D#<sub style=\"font-size:10px;pointer-events:none;\">4</sub>    </div>\n",
       "  </div>\n",
       "  <div onmouseover=\"event.target.style.backgroundColor = '#eef';\" onmouseout=\"event.target.style.backgroundColor = '#fff';\" style='cursor:pointer;font:10px \"Open Sans\",\"Lucida Grande\",\"Arial\",sans-serif;text-align:center;border:1px solid black;border-radius:5px;width:22px;height:80px;margin-right:3px;box-shadow:2px 2px darkgray;display:inline-block;position:relative;user-select:none;-moz-user-select:none;-webkit-user-select:none;-ms-user-select:none;'>\n",
       "    <div style=\"position:absolute;bottom:1px;text-align:center;width:100%;pointer-events:none;\">\n",
       "      <div style=\"font-size:10px;transform:rotate(90deg);position:absolute;left:-6px;bottom:50px;\">329.6</div>\n",
       "E<sub style=\"font-size:10px;pointer-events:none;\">4</sub>    </div>\n",
       "  </div>\n",
       "  <div onmouseover=\"event.target.style.backgroundColor = '#eef';\" onmouseout=\"event.target.style.backgroundColor = '#fff';\" style='cursor:pointer;font:10px \"Open Sans\",\"Lucida Grande\",\"Arial\",sans-serif;text-align:center;border:1px solid black;border-radius:5px;width:22px;height:80px;margin-right:3px;box-shadow:2px 2px darkgray;display:inline-block;position:relative;user-select:none;-moz-user-select:none;-webkit-user-select:none;-ms-user-select:none;'>\n",
       "    <div style=\"position:absolute;bottom:1px;text-align:center;width:100%;pointer-events:none;\">\n",
       "      <div style=\"font-size:10px;transform:rotate(90deg);position:absolute;left:-6px;bottom:50px;\">349.2</div>\n",
       "F<sub style=\"font-size:10px;pointer-events:none;\">4</sub>    </div>\n",
       "  </div>\n",
       "  <div onmouseover=\"event.target.style.backgroundColor = '#eef';\" onmouseout=\"event.target.style.backgroundColor = '#fff';\" style='cursor:pointer;font:10px \"Open Sans\",\"Lucida Grande\",\"Arial\",sans-serif;text-align:center;border:1px solid black;border-radius:5px;width:22px;height:80px;margin-right:3px;box-shadow:2px 2px darkgray;display:inline-block;position:relative;user-select:none;-moz-user-select:none;-webkit-user-select:none;-ms-user-select:none;'>\n",
       "    <div style=\"position:absolute;bottom:1px;text-align:center;width:100%;pointer-events:none;\">\n",
       "      <div style=\"font-size:10px;transform:rotate(90deg);position:absolute;left:-6px;bottom:50px;\">370.0</div>\n",
       "F#<sub style=\"font-size:10px;pointer-events:none;\">4</sub>    </div>\n",
       "  </div>\n",
       "  <div onmouseover=\"event.target.style.backgroundColor = '#eef';\" onmouseout=\"event.target.style.backgroundColor = '#fff';\" style='cursor:pointer;font:10px \"Open Sans\",\"Lucida Grande\",\"Arial\",sans-serif;text-align:center;border:1px solid black;border-radius:5px;width:22px;height:80px;margin-right:3px;box-shadow:2px 2px darkgray;display:inline-block;position:relative;user-select:none;-moz-user-select:none;-webkit-user-select:none;-ms-user-select:none;'>\n",
       "    <div style=\"position:absolute;bottom:1px;text-align:center;width:100%;pointer-events:none;\">\n",
       "      <div style=\"font-size:10px;transform:rotate(90deg);position:absolute;left:-6px;bottom:50px;\">392.0</div>\n",
       "G<sub style=\"font-size:10px;pointer-events:none;\">4</sub>    </div>\n",
       "  </div>\n",
       "  <div onmouseover=\"event.target.style.backgroundColor = '#eef';\" onmouseout=\"event.target.style.backgroundColor = '#fff';\" style='cursor:pointer;font:10px \"Open Sans\",\"Lucida Grande\",\"Arial\",sans-serif;text-align:center;border:1px solid black;border-radius:5px;width:22px;height:80px;margin-right:3px;box-shadow:2px 2px darkgray;display:inline-block;position:relative;user-select:none;-moz-user-select:none;-webkit-user-select:none;-ms-user-select:none;'>\n",
       "    <div style=\"position:absolute;bottom:1px;text-align:center;width:100%;pointer-events:none;\">\n",
       "      <div style=\"font-size:10px;transform:rotate(90deg);position:absolute;left:-6px;bottom:50px;\">415.3</div>\n",
       "G#<sub style=\"font-size:10px;pointer-events:none;\">4</sub>    </div>\n",
       "  </div>\n",
       "  <div onmouseover=\"event.target.style.backgroundColor = '#eef';\" onmouseout=\"event.target.style.backgroundColor = '#fff';\" style='cursor:pointer;font:10px \"Open Sans\",\"Lucida Grande\",\"Arial\",sans-serif;text-align:center;border:1px solid black;border-radius:5px;width:22px;height:80px;margin-right:3px;box-shadow:2px 2px darkgray;display:inline-block;position:relative;user-select:none;-moz-user-select:none;-webkit-user-select:none;-ms-user-select:none;'>\n",
       "    <div style=\"position:absolute;bottom:1px;text-align:center;width:100%;pointer-events:none;\">\n",
       "      <div style=\"font-size:10px;transform:rotate(90deg);position:absolute;left:-6px;bottom:50px;\">440.0</div>\n",
       "A<sub style=\"font-size:10px;pointer-events:none;\">4</sub>    </div>\n",
       "  </div>\n",
       "  <div onmouseover=\"event.target.style.backgroundColor = '#eef';\" onmouseout=\"event.target.style.backgroundColor = '#fff';\" style='cursor:pointer;font:10px \"Open Sans\",\"Lucida Grande\",\"Arial\",sans-serif;text-align:center;border:1px solid black;border-radius:5px;width:22px;height:80px;margin-right:3px;box-shadow:2px 2px darkgray;display:inline-block;position:relative;user-select:none;-moz-user-select:none;-webkit-user-select:none;-ms-user-select:none;'>\n",
       "    <div style=\"position:absolute;bottom:1px;text-align:center;width:100%;pointer-events:none;\">\n",
       "      <div style=\"font-size:10px;transform:rotate(90deg);position:absolute;left:-6px;bottom:50px;\">466.2</div>\n",
       "A#<sub style=\"font-size:10px;pointer-events:none;\">4</sub>    </div>\n",
       "  </div>\n",
       "  <div onmouseover=\"event.target.style.backgroundColor = '#eef';\" onmouseout=\"event.target.style.backgroundColor = '#fff';\" style='cursor:pointer;font:10px \"Open Sans\",\"Lucida Grande\",\"Arial\",sans-serif;text-align:center;border:1px solid black;border-radius:5px;width:22px;height:80px;margin-right:3px;box-shadow:2px 2px darkgray;display:inline-block;position:relative;user-select:none;-moz-user-select:none;-webkit-user-select:none;-ms-user-select:none;'>\n",
       "    <div style=\"position:absolute;bottom:1px;text-align:center;width:100%;pointer-events:none;\">\n",
       "      <div style=\"font-size:10px;transform:rotate(90deg);position:absolute;left:-6px;bottom:50px;\">493.9</div>\n",
       "B<sub style=\"font-size:10px;pointer-events:none;\">4</sub>    </div>\n",
       "  </div>\n",
       "</div>\n",
       "<script>if (window.htmx) htmx.process(document.body)</script>"
      ],
      "text/plain": [
       "<IPython.core.display.HTML object>"
      ]
     },
     "metadata": {},
     "output_type": "display_data"
    }
   ],
   "source": [
    "def Octave(n):\n",
    "    return Div(*notes_in_octave.map(partial(Key,octave=n)),\n",
    "        style='display:inline-block;padding:0 6px 0 0;')\n",
    "show(Octave(4))"
   ]
  },
  {
   "cell_type": "markdown",
   "id": "0d37cc4f",
   "metadata": {},
   "source": [
    "## Keyboard"
   ]
  },
  {
   "cell_type": "code",
   "execution_count": 27,
   "id": "bc1a2d6e",
   "metadata": {},
   "outputs": [
    {
     "data": {
      "text/html": [
       "<div style=\"width:auto;padding:0;margin:0;\">\n",
       "  <div style=\"display:inline-block;padding:0 6px 0 0;\">\n",
       "    <div onmouseover=\"event.target.style.backgroundColor = '#eef';\" onmouseout=\"event.target.style.backgroundColor = '#fff';\" style='cursor:pointer;font:10px \"Open Sans\",\"Lucida Grande\",\"Arial\",sans-serif;text-align:center;border:1px solid black;border-radius:5px;width:22px;height:80px;margin-right:3px;box-shadow:2px 2px darkgray;display:inline-block;position:relative;user-select:none;-moz-user-select:none;-webkit-user-select:none;-ms-user-select:none;'>\n",
       "      <div style=\"position:absolute;bottom:1px;text-align:center;width:100%;pointer-events:none;\">\n",
       "        <div style=\"font-size:10px;transform:rotate(90deg);position:absolute;left:-6px;bottom:50px;\">16.4</div>\n",
       "C<sub style=\"font-size:10px;pointer-events:none;\">0</sub>      </div>\n",
       "    </div>\n",
       "    <div onmouseover=\"event.target.style.backgroundColor = '#eef';\" onmouseout=\"event.target.style.backgroundColor = '#fff';\" style='cursor:pointer;font:10px \"Open Sans\",\"Lucida Grande\",\"Arial\",sans-serif;text-align:center;border:1px solid black;border-radius:5px;width:22px;height:80px;margin-right:3px;box-shadow:2px 2px darkgray;display:inline-block;position:relative;user-select:none;-moz-user-select:none;-webkit-user-select:none;-ms-user-select:none;'>\n",
       "      <div style=\"position:absolute;bottom:1px;text-align:center;width:100%;pointer-events:none;\">\n",
       "        <div style=\"font-size:10px;transform:rotate(90deg);position:absolute;left:-6px;bottom:50px;\">17.3</div>\n",
       "C#<sub style=\"font-size:10px;pointer-events:none;\">0</sub>      </div>\n",
       "    </div>\n",
       "    <div onmouseover=\"event.target.style.backgroundColor = '#eef';\" onmouseout=\"event.target.style.backgroundColor = '#fff';\" style='cursor:pointer;font:10px \"Open Sans\",\"Lucida Grande\",\"Arial\",sans-serif;text-align:center;border:1px solid black;border-radius:5px;width:22px;height:80px;margin-right:3px;box-shadow:2px 2px darkgray;display:inline-block;position:relative;user-select:none;-moz-user-select:none;-webkit-user-select:none;-ms-user-select:none;'>\n",
       "      <div style=\"position:absolute;bottom:1px;text-align:center;width:100%;pointer-events:none;\">\n",
       "        <div style=\"font-size:10px;transform:rotate(90deg);position:absolute;left:-6px;bottom:50px;\">18.4</div>\n",
       "D<sub style=\"font-size:10px;pointer-events:none;\">0</sub>      </div>\n",
       "    </div>\n",
       "    <div onmouseover=\"event.target.style.backgroundColor = '#eef';\" onmouseout=\"event.target.style.backgroundColor = '#fff';\" style='cursor:pointer;font:10px \"Open Sans\",\"Lucida Grande\",\"Arial\",sans-serif;text-align:center;border:1px solid black;border-radius:5px;width:22px;height:80px;margin-right:3px;box-shadow:2px 2px darkgray;display:inline-block;position:relative;user-select:none;-moz-user-select:none;-webkit-user-select:none;-ms-user-select:none;'>\n",
       "      <div style=\"position:absolute;bottom:1px;text-align:center;width:100%;pointer-events:none;\">\n",
       "        <div style=\"font-size:10px;transform:rotate(90deg);position:absolute;left:-6px;bottom:50px;\">19.4</div>\n",
       "D#<sub style=\"font-size:10px;pointer-events:none;\">0</sub>      </div>\n",
       "    </div>\n",
       "    <div onmouseover=\"event.target.style.backgroundColor = '#eef';\" onmouseout=\"event.target.style.backgroundColor = '#fff';\" style='cursor:pointer;font:10px \"Open Sans\",\"Lucida Grande\",\"Arial\",sans-serif;text-align:center;border:1px solid black;border-radius:5px;width:22px;height:80px;margin-right:3px;box-shadow:2px 2px darkgray;display:inline-block;position:relative;user-select:none;-moz-user-select:none;-webkit-user-select:none;-ms-user-select:none;'>\n",
       "      <div style=\"position:absolute;bottom:1px;text-align:center;width:100%;pointer-events:none;\">\n",
       "        <div style=\"font-size:10px;transform:rotate(90deg);position:absolute;left:-6px;bottom:50px;\">20.6</div>\n",
       "E<sub style=\"font-size:10px;pointer-events:none;\">0</sub>      </div>\n",
       "    </div>\n",
       "    <div onmouseover=\"event.target.style.backgroundColor = '#eef';\" onmouseout=\"event.target.style.backgroundColor = '#fff';\" style='cursor:pointer;font:10px \"Open Sans\",\"Lucida Grande\",\"Arial\",sans-serif;text-align:center;border:1px solid black;border-radius:5px;width:22px;height:80px;margin-right:3px;box-shadow:2px 2px darkgray;display:inline-block;position:relative;user-select:none;-moz-user-select:none;-webkit-user-select:none;-ms-user-select:none;'>\n",
       "      <div style=\"position:absolute;bottom:1px;text-align:center;width:100%;pointer-events:none;\">\n",
       "        <div style=\"font-size:10px;transform:rotate(90deg);position:absolute;left:-6px;bottom:50px;\">21.8</div>\n",
       "F<sub style=\"font-size:10px;pointer-events:none;\">0</sub>      </div>\n",
       "    </div>\n",
       "    <div onmouseover=\"event.target.style.backgroundColor = '#eef';\" onmouseout=\"event.target.style.backgroundColor = '#fff';\" style='cursor:pointer;font:10px \"Open Sans\",\"Lucida Grande\",\"Arial\",sans-serif;text-align:center;border:1px solid black;border-radius:5px;width:22px;height:80px;margin-right:3px;box-shadow:2px 2px darkgray;display:inline-block;position:relative;user-select:none;-moz-user-select:none;-webkit-user-select:none;-ms-user-select:none;'>\n",
       "      <div style=\"position:absolute;bottom:1px;text-align:center;width:100%;pointer-events:none;\">\n",
       "        <div style=\"font-size:10px;transform:rotate(90deg);position:absolute;left:-6px;bottom:50px;\">23.1</div>\n",
       "F#<sub style=\"font-size:10px;pointer-events:none;\">0</sub>      </div>\n",
       "    </div>\n",
       "    <div onmouseover=\"event.target.style.backgroundColor = '#eef';\" onmouseout=\"event.target.style.backgroundColor = '#fff';\" style='cursor:pointer;font:10px \"Open Sans\",\"Lucida Grande\",\"Arial\",sans-serif;text-align:center;border:1px solid black;border-radius:5px;width:22px;height:80px;margin-right:3px;box-shadow:2px 2px darkgray;display:inline-block;position:relative;user-select:none;-moz-user-select:none;-webkit-user-select:none;-ms-user-select:none;'>\n",
       "      <div style=\"position:absolute;bottom:1px;text-align:center;width:100%;pointer-events:none;\">\n",
       "        <div style=\"font-size:10px;transform:rotate(90deg);position:absolute;left:-6px;bottom:50px;\">24.5</div>\n",
       "G<sub style=\"font-size:10px;pointer-events:none;\">0</sub>      </div>\n",
       "    </div>\n",
       "    <div onmouseover=\"event.target.style.backgroundColor = '#eef';\" onmouseout=\"event.target.style.backgroundColor = '#fff';\" style='cursor:pointer;font:10px \"Open Sans\",\"Lucida Grande\",\"Arial\",sans-serif;text-align:center;border:1px solid black;border-radius:5px;width:22px;height:80px;margin-right:3px;box-shadow:2px 2px darkgray;display:inline-block;position:relative;user-select:none;-moz-user-select:none;-webkit-user-select:none;-ms-user-select:none;'>\n",
       "      <div style=\"position:absolute;bottom:1px;text-align:center;width:100%;pointer-events:none;\">\n",
       "        <div style=\"font-size:10px;transform:rotate(90deg);position:absolute;left:-6px;bottom:50px;\">26.0</div>\n",
       "G#<sub style=\"font-size:10px;pointer-events:none;\">0</sub>      </div>\n",
       "    </div>\n",
       "    <div onmouseover=\"event.target.style.backgroundColor = '#eef';\" onmouseout=\"event.target.style.backgroundColor = '#fff';\" style='cursor:pointer;font:10px \"Open Sans\",\"Lucida Grande\",\"Arial\",sans-serif;text-align:center;border:1px solid black;border-radius:5px;width:22px;height:80px;margin-right:3px;box-shadow:2px 2px darkgray;display:inline-block;position:relative;user-select:none;-moz-user-select:none;-webkit-user-select:none;-ms-user-select:none;'>\n",
       "      <div style=\"position:absolute;bottom:1px;text-align:center;width:100%;pointer-events:none;\">\n",
       "        <div style=\"font-size:10px;transform:rotate(90deg);position:absolute;left:-6px;bottom:50px;\">27.5</div>\n",
       "A<sub style=\"font-size:10px;pointer-events:none;\">0</sub>      </div>\n",
       "    </div>\n",
       "    <div onmouseover=\"event.target.style.backgroundColor = '#eef';\" onmouseout=\"event.target.style.backgroundColor = '#fff';\" style='cursor:pointer;font:10px \"Open Sans\",\"Lucida Grande\",\"Arial\",sans-serif;text-align:center;border:1px solid black;border-radius:5px;width:22px;height:80px;margin-right:3px;box-shadow:2px 2px darkgray;display:inline-block;position:relative;user-select:none;-moz-user-select:none;-webkit-user-select:none;-ms-user-select:none;'>\n",
       "      <div style=\"position:absolute;bottom:1px;text-align:center;width:100%;pointer-events:none;\">\n",
       "        <div style=\"font-size:10px;transform:rotate(90deg);position:absolute;left:-6px;bottom:50px;\">29.1</div>\n",
       "A#<sub style=\"font-size:10px;pointer-events:none;\">0</sub>      </div>\n",
       "    </div>\n",
       "    <div onmouseover=\"event.target.style.backgroundColor = '#eef';\" onmouseout=\"event.target.style.backgroundColor = '#fff';\" style='cursor:pointer;font:10px \"Open Sans\",\"Lucida Grande\",\"Arial\",sans-serif;text-align:center;border:1px solid black;border-radius:5px;width:22px;height:80px;margin-right:3px;box-shadow:2px 2px darkgray;display:inline-block;position:relative;user-select:none;-moz-user-select:none;-webkit-user-select:none;-ms-user-select:none;'>\n",
       "      <div style=\"position:absolute;bottom:1px;text-align:center;width:100%;pointer-events:none;\">\n",
       "        <div style=\"font-size:10px;transform:rotate(90deg);position:absolute;left:-6px;bottom:50px;\">30.9</div>\n",
       "B<sub style=\"font-size:10px;pointer-events:none;\">0</sub>      </div>\n",
       "    </div>\n",
       "  </div>\n",
       "  <div style=\"display:inline-block;padding:0 6px 0 0;\">\n",
       "    <div onmouseover=\"event.target.style.backgroundColor = '#eef';\" onmouseout=\"event.target.style.backgroundColor = '#fff';\" style='cursor:pointer;font:10px \"Open Sans\",\"Lucida Grande\",\"Arial\",sans-serif;text-align:center;border:1px solid black;border-radius:5px;width:22px;height:80px;margin-right:3px;box-shadow:2px 2px darkgray;display:inline-block;position:relative;user-select:none;-moz-user-select:none;-webkit-user-select:none;-ms-user-select:none;'>\n",
       "      <div style=\"position:absolute;bottom:1px;text-align:center;width:100%;pointer-events:none;\">\n",
       "        <div style=\"font-size:10px;transform:rotate(90deg);position:absolute;left:-6px;bottom:50px;\">32.7</div>\n",
       "C<sub style=\"font-size:10px;pointer-events:none;\">1</sub>      </div>\n",
       "    </div>\n",
       "    <div onmouseover=\"event.target.style.backgroundColor = '#eef';\" onmouseout=\"event.target.style.backgroundColor = '#fff';\" style='cursor:pointer;font:10px \"Open Sans\",\"Lucida Grande\",\"Arial\",sans-serif;text-align:center;border:1px solid black;border-radius:5px;width:22px;height:80px;margin-right:3px;box-shadow:2px 2px darkgray;display:inline-block;position:relative;user-select:none;-moz-user-select:none;-webkit-user-select:none;-ms-user-select:none;'>\n",
       "      <div style=\"position:absolute;bottom:1px;text-align:center;width:100%;pointer-events:none;\">\n",
       "        <div style=\"font-size:10px;transform:rotate(90deg);position:absolute;left:-6px;bottom:50px;\">34.6</div>\n",
       "C#<sub style=\"font-size:10px;pointer-events:none;\">1</sub>      </div>\n",
       "    </div>\n",
       "    <div onmouseover=\"event.target.style.backgroundColor = '#eef';\" onmouseout=\"event.target.style.backgroundColor = '#fff';\" style='cursor:pointer;font:10px \"Open Sans\",\"Lucida Grande\",\"Arial\",sans-serif;text-align:center;border:1px solid black;border-radius:5px;width:22px;height:80px;margin-right:3px;box-shadow:2px 2px darkgray;display:inline-block;position:relative;user-select:none;-moz-user-select:none;-webkit-user-select:none;-ms-user-select:none;'>\n",
       "      <div style=\"position:absolute;bottom:1px;text-align:center;width:100%;pointer-events:none;\">\n",
       "        <div style=\"font-size:10px;transform:rotate(90deg);position:absolute;left:-6px;bottom:50px;\">36.7</div>\n",
       "D<sub style=\"font-size:10px;pointer-events:none;\">1</sub>      </div>\n",
       "    </div>\n",
       "    <div onmouseover=\"event.target.style.backgroundColor = '#eef';\" onmouseout=\"event.target.style.backgroundColor = '#fff';\" style='cursor:pointer;font:10px \"Open Sans\",\"Lucida Grande\",\"Arial\",sans-serif;text-align:center;border:1px solid black;border-radius:5px;width:22px;height:80px;margin-right:3px;box-shadow:2px 2px darkgray;display:inline-block;position:relative;user-select:none;-moz-user-select:none;-webkit-user-select:none;-ms-user-select:none;'>\n",
       "      <div style=\"position:absolute;bottom:1px;text-align:center;width:100%;pointer-events:none;\">\n",
       "        <div style=\"font-size:10px;transform:rotate(90deg);position:absolute;left:-6px;bottom:50px;\">38.9</div>\n",
       "D#<sub style=\"font-size:10px;pointer-events:none;\">1</sub>      </div>\n",
       "    </div>\n",
       "    <div onmouseover=\"event.target.style.backgroundColor = '#eef';\" onmouseout=\"event.target.style.backgroundColor = '#fff';\" style='cursor:pointer;font:10px \"Open Sans\",\"Lucida Grande\",\"Arial\",sans-serif;text-align:center;border:1px solid black;border-radius:5px;width:22px;height:80px;margin-right:3px;box-shadow:2px 2px darkgray;display:inline-block;position:relative;user-select:none;-moz-user-select:none;-webkit-user-select:none;-ms-user-select:none;'>\n",
       "      <div style=\"position:absolute;bottom:1px;text-align:center;width:100%;pointer-events:none;\">\n",
       "        <div style=\"font-size:10px;transform:rotate(90deg);position:absolute;left:-6px;bottom:50px;\">41.2</div>\n",
       "E<sub style=\"font-size:10px;pointer-events:none;\">1</sub>      </div>\n",
       "    </div>\n",
       "    <div onmouseover=\"event.target.style.backgroundColor = '#eef';\" onmouseout=\"event.target.style.backgroundColor = '#fff';\" style='cursor:pointer;font:10px \"Open Sans\",\"Lucida Grande\",\"Arial\",sans-serif;text-align:center;border:1px solid black;border-radius:5px;width:22px;height:80px;margin-right:3px;box-shadow:2px 2px darkgray;display:inline-block;position:relative;user-select:none;-moz-user-select:none;-webkit-user-select:none;-ms-user-select:none;'>\n",
       "      <div style=\"position:absolute;bottom:1px;text-align:center;width:100%;pointer-events:none;\">\n",
       "        <div style=\"font-size:10px;transform:rotate(90deg);position:absolute;left:-6px;bottom:50px;\">43.7</div>\n",
       "F<sub style=\"font-size:10px;pointer-events:none;\">1</sub>      </div>\n",
       "    </div>\n",
       "    <div onmouseover=\"event.target.style.backgroundColor = '#eef';\" onmouseout=\"event.target.style.backgroundColor = '#fff';\" style='cursor:pointer;font:10px \"Open Sans\",\"Lucida Grande\",\"Arial\",sans-serif;text-align:center;border:1px solid black;border-radius:5px;width:22px;height:80px;margin-right:3px;box-shadow:2px 2px darkgray;display:inline-block;position:relative;user-select:none;-moz-user-select:none;-webkit-user-select:none;-ms-user-select:none;'>\n",
       "      <div style=\"position:absolute;bottom:1px;text-align:center;width:100%;pointer-events:none;\">\n",
       "        <div style=\"font-size:10px;transform:rotate(90deg);position:absolute;left:-6px;bottom:50px;\">46.2</div>\n",
       "F#<sub style=\"font-size:10px;pointer-events:none;\">1</sub>      </div>\n",
       "    </div>\n",
       "    <div onmouseover=\"event.target.style.backgroundColor = '#eef';\" onmouseout=\"event.target.style.backgroundColor = '#fff';\" style='cursor:pointer;font:10px \"Open Sans\",\"Lucida Grande\",\"Arial\",sans-serif;text-align:center;border:1px solid black;border-radius:5px;width:22px;height:80px;margin-right:3px;box-shadow:2px 2px darkgray;display:inline-block;position:relative;user-select:none;-moz-user-select:none;-webkit-user-select:none;-ms-user-select:none;'>\n",
       "      <div style=\"position:absolute;bottom:1px;text-align:center;width:100%;pointer-events:none;\">\n",
       "        <div style=\"font-size:10px;transform:rotate(90deg);position:absolute;left:-6px;bottom:50px;\">49.0</div>\n",
       "G<sub style=\"font-size:10px;pointer-events:none;\">1</sub>      </div>\n",
       "    </div>\n",
       "    <div onmouseover=\"event.target.style.backgroundColor = '#eef';\" onmouseout=\"event.target.style.backgroundColor = '#fff';\" style='cursor:pointer;font:10px \"Open Sans\",\"Lucida Grande\",\"Arial\",sans-serif;text-align:center;border:1px solid black;border-radius:5px;width:22px;height:80px;margin-right:3px;box-shadow:2px 2px darkgray;display:inline-block;position:relative;user-select:none;-moz-user-select:none;-webkit-user-select:none;-ms-user-select:none;'>\n",
       "      <div style=\"position:absolute;bottom:1px;text-align:center;width:100%;pointer-events:none;\">\n",
       "        <div style=\"font-size:10px;transform:rotate(90deg);position:absolute;left:-6px;bottom:50px;\">51.9</div>\n",
       "G#<sub style=\"font-size:10px;pointer-events:none;\">1</sub>      </div>\n",
       "    </div>\n",
       "    <div onmouseover=\"event.target.style.backgroundColor = '#eef';\" onmouseout=\"event.target.style.backgroundColor = '#fff';\" style='cursor:pointer;font:10px \"Open Sans\",\"Lucida Grande\",\"Arial\",sans-serif;text-align:center;border:1px solid black;border-radius:5px;width:22px;height:80px;margin-right:3px;box-shadow:2px 2px darkgray;display:inline-block;position:relative;user-select:none;-moz-user-select:none;-webkit-user-select:none;-ms-user-select:none;'>\n",
       "      <div style=\"position:absolute;bottom:1px;text-align:center;width:100%;pointer-events:none;\">\n",
       "        <div style=\"font-size:10px;transform:rotate(90deg);position:absolute;left:-6px;bottom:50px;\">55.0</div>\n",
       "A<sub style=\"font-size:10px;pointer-events:none;\">1</sub>      </div>\n",
       "    </div>\n",
       "    <div onmouseover=\"event.target.style.backgroundColor = '#eef';\" onmouseout=\"event.target.style.backgroundColor = '#fff';\" style='cursor:pointer;font:10px \"Open Sans\",\"Lucida Grande\",\"Arial\",sans-serif;text-align:center;border:1px solid black;border-radius:5px;width:22px;height:80px;margin-right:3px;box-shadow:2px 2px darkgray;display:inline-block;position:relative;user-select:none;-moz-user-select:none;-webkit-user-select:none;-ms-user-select:none;'>\n",
       "      <div style=\"position:absolute;bottom:1px;text-align:center;width:100%;pointer-events:none;\">\n",
       "        <div style=\"font-size:10px;transform:rotate(90deg);position:absolute;left:-6px;bottom:50px;\">58.3</div>\n",
       "A#<sub style=\"font-size:10px;pointer-events:none;\">1</sub>      </div>\n",
       "    </div>\n",
       "    <div onmouseover=\"event.target.style.backgroundColor = '#eef';\" onmouseout=\"event.target.style.backgroundColor = '#fff';\" style='cursor:pointer;font:10px \"Open Sans\",\"Lucida Grande\",\"Arial\",sans-serif;text-align:center;border:1px solid black;border-radius:5px;width:22px;height:80px;margin-right:3px;box-shadow:2px 2px darkgray;display:inline-block;position:relative;user-select:none;-moz-user-select:none;-webkit-user-select:none;-ms-user-select:none;'>\n",
       "      <div style=\"position:absolute;bottom:1px;text-align:center;width:100%;pointer-events:none;\">\n",
       "        <div style=\"font-size:10px;transform:rotate(90deg);position:absolute;left:-6px;bottom:50px;\">61.7</div>\n",
       "B<sub style=\"font-size:10px;pointer-events:none;\">1</sub>      </div>\n",
       "    </div>\n",
       "  </div>\n",
       "  <div style=\"display:inline-block;padding:0 6px 0 0;\">\n",
       "    <div onmouseover=\"event.target.style.backgroundColor = '#eef';\" onmouseout=\"event.target.style.backgroundColor = '#fff';\" style='cursor:pointer;font:10px \"Open Sans\",\"Lucida Grande\",\"Arial\",sans-serif;text-align:center;border:1px solid black;border-radius:5px;width:22px;height:80px;margin-right:3px;box-shadow:2px 2px darkgray;display:inline-block;position:relative;user-select:none;-moz-user-select:none;-webkit-user-select:none;-ms-user-select:none;'>\n",
       "      <div style=\"position:absolute;bottom:1px;text-align:center;width:100%;pointer-events:none;\">\n",
       "        <div style=\"font-size:10px;transform:rotate(90deg);position:absolute;left:-6px;bottom:50px;\">65.4</div>\n",
       "C<sub style=\"font-size:10px;pointer-events:none;\">2</sub>      </div>\n",
       "    </div>\n",
       "    <div onmouseover=\"event.target.style.backgroundColor = '#eef';\" onmouseout=\"event.target.style.backgroundColor = '#fff';\" style='cursor:pointer;font:10px \"Open Sans\",\"Lucida Grande\",\"Arial\",sans-serif;text-align:center;border:1px solid black;border-radius:5px;width:22px;height:80px;margin-right:3px;box-shadow:2px 2px darkgray;display:inline-block;position:relative;user-select:none;-moz-user-select:none;-webkit-user-select:none;-ms-user-select:none;'>\n",
       "      <div style=\"position:absolute;bottom:1px;text-align:center;width:100%;pointer-events:none;\">\n",
       "        <div style=\"font-size:10px;transform:rotate(90deg);position:absolute;left:-6px;bottom:50px;\">69.3</div>\n",
       "C#<sub style=\"font-size:10px;pointer-events:none;\">2</sub>      </div>\n",
       "    </div>\n",
       "    <div onmouseover=\"event.target.style.backgroundColor = '#eef';\" onmouseout=\"event.target.style.backgroundColor = '#fff';\" style='cursor:pointer;font:10px \"Open Sans\",\"Lucida Grande\",\"Arial\",sans-serif;text-align:center;border:1px solid black;border-radius:5px;width:22px;height:80px;margin-right:3px;box-shadow:2px 2px darkgray;display:inline-block;position:relative;user-select:none;-moz-user-select:none;-webkit-user-select:none;-ms-user-select:none;'>\n",
       "      <div style=\"position:absolute;bottom:1px;text-align:center;width:100%;pointer-events:none;\">\n",
       "        <div style=\"font-size:10px;transform:rotate(90deg);position:absolute;left:-6px;bottom:50px;\">73.4</div>\n",
       "D<sub style=\"font-size:10px;pointer-events:none;\">2</sub>      </div>\n",
       "    </div>\n",
       "    <div onmouseover=\"event.target.style.backgroundColor = '#eef';\" onmouseout=\"event.target.style.backgroundColor = '#fff';\" style='cursor:pointer;font:10px \"Open Sans\",\"Lucida Grande\",\"Arial\",sans-serif;text-align:center;border:1px solid black;border-radius:5px;width:22px;height:80px;margin-right:3px;box-shadow:2px 2px darkgray;display:inline-block;position:relative;user-select:none;-moz-user-select:none;-webkit-user-select:none;-ms-user-select:none;'>\n",
       "      <div style=\"position:absolute;bottom:1px;text-align:center;width:100%;pointer-events:none;\">\n",
       "        <div style=\"font-size:10px;transform:rotate(90deg);position:absolute;left:-6px;bottom:50px;\">77.8</div>\n",
       "D#<sub style=\"font-size:10px;pointer-events:none;\">2</sub>      </div>\n",
       "    </div>\n",
       "    <div onmouseover=\"event.target.style.backgroundColor = '#eef';\" onmouseout=\"event.target.style.backgroundColor = '#fff';\" style='cursor:pointer;font:10px \"Open Sans\",\"Lucida Grande\",\"Arial\",sans-serif;text-align:center;border:1px solid black;border-radius:5px;width:22px;height:80px;margin-right:3px;box-shadow:2px 2px darkgray;display:inline-block;position:relative;user-select:none;-moz-user-select:none;-webkit-user-select:none;-ms-user-select:none;'>\n",
       "      <div style=\"position:absolute;bottom:1px;text-align:center;width:100%;pointer-events:none;\">\n",
       "        <div style=\"font-size:10px;transform:rotate(90deg);position:absolute;left:-6px;bottom:50px;\">82.4</div>\n",
       "E<sub style=\"font-size:10px;pointer-events:none;\">2</sub>      </div>\n",
       "    </div>\n",
       "    <div onmouseover=\"event.target.style.backgroundColor = '#eef';\" onmouseout=\"event.target.style.backgroundColor = '#fff';\" style='cursor:pointer;font:10px \"Open Sans\",\"Lucida Grande\",\"Arial\",sans-serif;text-align:center;border:1px solid black;border-radius:5px;width:22px;height:80px;margin-right:3px;box-shadow:2px 2px darkgray;display:inline-block;position:relative;user-select:none;-moz-user-select:none;-webkit-user-select:none;-ms-user-select:none;'>\n",
       "      <div style=\"position:absolute;bottom:1px;text-align:center;width:100%;pointer-events:none;\">\n",
       "        <div style=\"font-size:10px;transform:rotate(90deg);position:absolute;left:-6px;bottom:50px;\">87.3</div>\n",
       "F<sub style=\"font-size:10px;pointer-events:none;\">2</sub>      </div>\n",
       "    </div>\n",
       "    <div onmouseover=\"event.target.style.backgroundColor = '#eef';\" onmouseout=\"event.target.style.backgroundColor = '#fff';\" style='cursor:pointer;font:10px \"Open Sans\",\"Lucida Grande\",\"Arial\",sans-serif;text-align:center;border:1px solid black;border-radius:5px;width:22px;height:80px;margin-right:3px;box-shadow:2px 2px darkgray;display:inline-block;position:relative;user-select:none;-moz-user-select:none;-webkit-user-select:none;-ms-user-select:none;'>\n",
       "      <div style=\"position:absolute;bottom:1px;text-align:center;width:100%;pointer-events:none;\">\n",
       "        <div style=\"font-size:10px;transform:rotate(90deg);position:absolute;left:-6px;bottom:50px;\">92.5</div>\n",
       "F#<sub style=\"font-size:10px;pointer-events:none;\">2</sub>      </div>\n",
       "    </div>\n",
       "    <div onmouseover=\"event.target.style.backgroundColor = '#eef';\" onmouseout=\"event.target.style.backgroundColor = '#fff';\" style='cursor:pointer;font:10px \"Open Sans\",\"Lucida Grande\",\"Arial\",sans-serif;text-align:center;border:1px solid black;border-radius:5px;width:22px;height:80px;margin-right:3px;box-shadow:2px 2px darkgray;display:inline-block;position:relative;user-select:none;-moz-user-select:none;-webkit-user-select:none;-ms-user-select:none;'>\n",
       "      <div style=\"position:absolute;bottom:1px;text-align:center;width:100%;pointer-events:none;\">\n",
       "        <div style=\"font-size:10px;transform:rotate(90deg);position:absolute;left:-6px;bottom:50px;\">98.0</div>\n",
       "G<sub style=\"font-size:10px;pointer-events:none;\">2</sub>      </div>\n",
       "    </div>\n",
       "    <div onmouseover=\"event.target.style.backgroundColor = '#eef';\" onmouseout=\"event.target.style.backgroundColor = '#fff';\" style='cursor:pointer;font:10px \"Open Sans\",\"Lucida Grande\",\"Arial\",sans-serif;text-align:center;border:1px solid black;border-radius:5px;width:22px;height:80px;margin-right:3px;box-shadow:2px 2px darkgray;display:inline-block;position:relative;user-select:none;-moz-user-select:none;-webkit-user-select:none;-ms-user-select:none;'>\n",
       "      <div style=\"position:absolute;bottom:1px;text-align:center;width:100%;pointer-events:none;\">\n",
       "        <div style=\"font-size:10px;transform:rotate(90deg);position:absolute;left:-6px;bottom:50px;\">103.8</div>\n",
       "G#<sub style=\"font-size:10px;pointer-events:none;\">2</sub>      </div>\n",
       "    </div>\n",
       "    <div onmouseover=\"event.target.style.backgroundColor = '#eef';\" onmouseout=\"event.target.style.backgroundColor = '#fff';\" style='cursor:pointer;font:10px \"Open Sans\",\"Lucida Grande\",\"Arial\",sans-serif;text-align:center;border:1px solid black;border-radius:5px;width:22px;height:80px;margin-right:3px;box-shadow:2px 2px darkgray;display:inline-block;position:relative;user-select:none;-moz-user-select:none;-webkit-user-select:none;-ms-user-select:none;'>\n",
       "      <div style=\"position:absolute;bottom:1px;text-align:center;width:100%;pointer-events:none;\">\n",
       "        <div style=\"font-size:10px;transform:rotate(90deg);position:absolute;left:-6px;bottom:50px;\">110.0</div>\n",
       "A<sub style=\"font-size:10px;pointer-events:none;\">2</sub>      </div>\n",
       "    </div>\n",
       "    <div onmouseover=\"event.target.style.backgroundColor = '#eef';\" onmouseout=\"event.target.style.backgroundColor = '#fff';\" style='cursor:pointer;font:10px \"Open Sans\",\"Lucida Grande\",\"Arial\",sans-serif;text-align:center;border:1px solid black;border-radius:5px;width:22px;height:80px;margin-right:3px;box-shadow:2px 2px darkgray;display:inline-block;position:relative;user-select:none;-moz-user-select:none;-webkit-user-select:none;-ms-user-select:none;'>\n",
       "      <div style=\"position:absolute;bottom:1px;text-align:center;width:100%;pointer-events:none;\">\n",
       "        <div style=\"font-size:10px;transform:rotate(90deg);position:absolute;left:-6px;bottom:50px;\">116.5</div>\n",
       "A#<sub style=\"font-size:10px;pointer-events:none;\">2</sub>      </div>\n",
       "    </div>\n",
       "    <div onmouseover=\"event.target.style.backgroundColor = '#eef';\" onmouseout=\"event.target.style.backgroundColor = '#fff';\" style='cursor:pointer;font:10px \"Open Sans\",\"Lucida Grande\",\"Arial\",sans-serif;text-align:center;border:1px solid black;border-radius:5px;width:22px;height:80px;margin-right:3px;box-shadow:2px 2px darkgray;display:inline-block;position:relative;user-select:none;-moz-user-select:none;-webkit-user-select:none;-ms-user-select:none;'>\n",
       "      <div style=\"position:absolute;bottom:1px;text-align:center;width:100%;pointer-events:none;\">\n",
       "        <div style=\"font-size:10px;transform:rotate(90deg);position:absolute;left:-6px;bottom:50px;\">123.5</div>\n",
       "B<sub style=\"font-size:10px;pointer-events:none;\">2</sub>      </div>\n",
       "    </div>\n",
       "  </div>\n",
       "  <div style=\"display:inline-block;padding:0 6px 0 0;\">\n",
       "    <div onmouseover=\"event.target.style.backgroundColor = '#eef';\" onmouseout=\"event.target.style.backgroundColor = '#fff';\" style='cursor:pointer;font:10px \"Open Sans\",\"Lucida Grande\",\"Arial\",sans-serif;text-align:center;border:1px solid black;border-radius:5px;width:22px;height:80px;margin-right:3px;box-shadow:2px 2px darkgray;display:inline-block;position:relative;user-select:none;-moz-user-select:none;-webkit-user-select:none;-ms-user-select:none;'>\n",
       "      <div style=\"position:absolute;bottom:1px;text-align:center;width:100%;pointer-events:none;\">\n",
       "        <div style=\"font-size:10px;transform:rotate(90deg);position:absolute;left:-6px;bottom:50px;\">130.8</div>\n",
       "C<sub style=\"font-size:10px;pointer-events:none;\">3</sub>      </div>\n",
       "    </div>\n",
       "    <div onmouseover=\"event.target.style.backgroundColor = '#eef';\" onmouseout=\"event.target.style.backgroundColor = '#fff';\" style='cursor:pointer;font:10px \"Open Sans\",\"Lucida Grande\",\"Arial\",sans-serif;text-align:center;border:1px solid black;border-radius:5px;width:22px;height:80px;margin-right:3px;box-shadow:2px 2px darkgray;display:inline-block;position:relative;user-select:none;-moz-user-select:none;-webkit-user-select:none;-ms-user-select:none;'>\n",
       "      <div style=\"position:absolute;bottom:1px;text-align:center;width:100%;pointer-events:none;\">\n",
       "        <div style=\"font-size:10px;transform:rotate(90deg);position:absolute;left:-6px;bottom:50px;\">138.6</div>\n",
       "C#<sub style=\"font-size:10px;pointer-events:none;\">3</sub>      </div>\n",
       "    </div>\n",
       "    <div onmouseover=\"event.target.style.backgroundColor = '#eef';\" onmouseout=\"event.target.style.backgroundColor = '#fff';\" style='cursor:pointer;font:10px \"Open Sans\",\"Lucida Grande\",\"Arial\",sans-serif;text-align:center;border:1px solid black;border-radius:5px;width:22px;height:80px;margin-right:3px;box-shadow:2px 2px darkgray;display:inline-block;position:relative;user-select:none;-moz-user-select:none;-webkit-user-select:none;-ms-user-select:none;'>\n",
       "      <div style=\"position:absolute;bottom:1px;text-align:center;width:100%;pointer-events:none;\">\n",
       "        <div style=\"font-size:10px;transform:rotate(90deg);position:absolute;left:-6px;bottom:50px;\">146.8</div>\n",
       "D<sub style=\"font-size:10px;pointer-events:none;\">3</sub>      </div>\n",
       "    </div>\n",
       "    <div onmouseover=\"event.target.style.backgroundColor = '#eef';\" onmouseout=\"event.target.style.backgroundColor = '#fff';\" style='cursor:pointer;font:10px \"Open Sans\",\"Lucida Grande\",\"Arial\",sans-serif;text-align:center;border:1px solid black;border-radius:5px;width:22px;height:80px;margin-right:3px;box-shadow:2px 2px darkgray;display:inline-block;position:relative;user-select:none;-moz-user-select:none;-webkit-user-select:none;-ms-user-select:none;'>\n",
       "      <div style=\"position:absolute;bottom:1px;text-align:center;width:100%;pointer-events:none;\">\n",
       "        <div style=\"font-size:10px;transform:rotate(90deg);position:absolute;left:-6px;bottom:50px;\">155.6</div>\n",
       "D#<sub style=\"font-size:10px;pointer-events:none;\">3</sub>      </div>\n",
       "    </div>\n",
       "    <div onmouseover=\"event.target.style.backgroundColor = '#eef';\" onmouseout=\"event.target.style.backgroundColor = '#fff';\" style='cursor:pointer;font:10px \"Open Sans\",\"Lucida Grande\",\"Arial\",sans-serif;text-align:center;border:1px solid black;border-radius:5px;width:22px;height:80px;margin-right:3px;box-shadow:2px 2px darkgray;display:inline-block;position:relative;user-select:none;-moz-user-select:none;-webkit-user-select:none;-ms-user-select:none;'>\n",
       "      <div style=\"position:absolute;bottom:1px;text-align:center;width:100%;pointer-events:none;\">\n",
       "        <div style=\"font-size:10px;transform:rotate(90deg);position:absolute;left:-6px;bottom:50px;\">164.8</div>\n",
       "E<sub style=\"font-size:10px;pointer-events:none;\">3</sub>      </div>\n",
       "    </div>\n",
       "    <div onmouseover=\"event.target.style.backgroundColor = '#eef';\" onmouseout=\"event.target.style.backgroundColor = '#fff';\" style='cursor:pointer;font:10px \"Open Sans\",\"Lucida Grande\",\"Arial\",sans-serif;text-align:center;border:1px solid black;border-radius:5px;width:22px;height:80px;margin-right:3px;box-shadow:2px 2px darkgray;display:inline-block;position:relative;user-select:none;-moz-user-select:none;-webkit-user-select:none;-ms-user-select:none;'>\n",
       "      <div style=\"position:absolute;bottom:1px;text-align:center;width:100%;pointer-events:none;\">\n",
       "        <div style=\"font-size:10px;transform:rotate(90deg);position:absolute;left:-6px;bottom:50px;\">174.6</div>\n",
       "F<sub style=\"font-size:10px;pointer-events:none;\">3</sub>      </div>\n",
       "    </div>\n",
       "    <div onmouseover=\"event.target.style.backgroundColor = '#eef';\" onmouseout=\"event.target.style.backgroundColor = '#fff';\" style='cursor:pointer;font:10px \"Open Sans\",\"Lucida Grande\",\"Arial\",sans-serif;text-align:center;border:1px solid black;border-radius:5px;width:22px;height:80px;margin-right:3px;box-shadow:2px 2px darkgray;display:inline-block;position:relative;user-select:none;-moz-user-select:none;-webkit-user-select:none;-ms-user-select:none;'>\n",
       "      <div style=\"position:absolute;bottom:1px;text-align:center;width:100%;pointer-events:none;\">\n",
       "        <div style=\"font-size:10px;transform:rotate(90deg);position:absolute;left:-6px;bottom:50px;\">185.0</div>\n",
       "F#<sub style=\"font-size:10px;pointer-events:none;\">3</sub>      </div>\n",
       "    </div>\n",
       "    <div onmouseover=\"event.target.style.backgroundColor = '#eef';\" onmouseout=\"event.target.style.backgroundColor = '#fff';\" style='cursor:pointer;font:10px \"Open Sans\",\"Lucida Grande\",\"Arial\",sans-serif;text-align:center;border:1px solid black;border-radius:5px;width:22px;height:80px;margin-right:3px;box-shadow:2px 2px darkgray;display:inline-block;position:relative;user-select:none;-moz-user-select:none;-webkit-user-select:none;-ms-user-select:none;'>\n",
       "      <div style=\"position:absolute;bottom:1px;text-align:center;width:100%;pointer-events:none;\">\n",
       "        <div style=\"font-size:10px;transform:rotate(90deg);position:absolute;left:-6px;bottom:50px;\">196.0</div>\n",
       "G<sub style=\"font-size:10px;pointer-events:none;\">3</sub>      </div>\n",
       "    </div>\n",
       "    <div onmouseover=\"event.target.style.backgroundColor = '#eef';\" onmouseout=\"event.target.style.backgroundColor = '#fff';\" style='cursor:pointer;font:10px \"Open Sans\",\"Lucida Grande\",\"Arial\",sans-serif;text-align:center;border:1px solid black;border-radius:5px;width:22px;height:80px;margin-right:3px;box-shadow:2px 2px darkgray;display:inline-block;position:relative;user-select:none;-moz-user-select:none;-webkit-user-select:none;-ms-user-select:none;'>\n",
       "      <div style=\"position:absolute;bottom:1px;text-align:center;width:100%;pointer-events:none;\">\n",
       "        <div style=\"font-size:10px;transform:rotate(90deg);position:absolute;left:-6px;bottom:50px;\">207.7</div>\n",
       "G#<sub style=\"font-size:10px;pointer-events:none;\">3</sub>      </div>\n",
       "    </div>\n",
       "    <div onmouseover=\"event.target.style.backgroundColor = '#eef';\" onmouseout=\"event.target.style.backgroundColor = '#fff';\" style='cursor:pointer;font:10px \"Open Sans\",\"Lucida Grande\",\"Arial\",sans-serif;text-align:center;border:1px solid black;border-radius:5px;width:22px;height:80px;margin-right:3px;box-shadow:2px 2px darkgray;display:inline-block;position:relative;user-select:none;-moz-user-select:none;-webkit-user-select:none;-ms-user-select:none;'>\n",
       "      <div style=\"position:absolute;bottom:1px;text-align:center;width:100%;pointer-events:none;\">\n",
       "        <div style=\"font-size:10px;transform:rotate(90deg);position:absolute;left:-6px;bottom:50px;\">220.0</div>\n",
       "A<sub style=\"font-size:10px;pointer-events:none;\">3</sub>      </div>\n",
       "    </div>\n",
       "    <div onmouseover=\"event.target.style.backgroundColor = '#eef';\" onmouseout=\"event.target.style.backgroundColor = '#fff';\" style='cursor:pointer;font:10px \"Open Sans\",\"Lucida Grande\",\"Arial\",sans-serif;text-align:center;border:1px solid black;border-radius:5px;width:22px;height:80px;margin-right:3px;box-shadow:2px 2px darkgray;display:inline-block;position:relative;user-select:none;-moz-user-select:none;-webkit-user-select:none;-ms-user-select:none;'>\n",
       "      <div style=\"position:absolute;bottom:1px;text-align:center;width:100%;pointer-events:none;\">\n",
       "        <div style=\"font-size:10px;transform:rotate(90deg);position:absolute;left:-6px;bottom:50px;\">233.1</div>\n",
       "A#<sub style=\"font-size:10px;pointer-events:none;\">3</sub>      </div>\n",
       "    </div>\n",
       "    <div onmouseover=\"event.target.style.backgroundColor = '#eef';\" onmouseout=\"event.target.style.backgroundColor = '#fff';\" style='cursor:pointer;font:10px \"Open Sans\",\"Lucida Grande\",\"Arial\",sans-serif;text-align:center;border:1px solid black;border-radius:5px;width:22px;height:80px;margin-right:3px;box-shadow:2px 2px darkgray;display:inline-block;position:relative;user-select:none;-moz-user-select:none;-webkit-user-select:none;-ms-user-select:none;'>\n",
       "      <div style=\"position:absolute;bottom:1px;text-align:center;width:100%;pointer-events:none;\">\n",
       "        <div style=\"font-size:10px;transform:rotate(90deg);position:absolute;left:-6px;bottom:50px;\">246.9</div>\n",
       "B<sub style=\"font-size:10px;pointer-events:none;\">3</sub>      </div>\n",
       "    </div>\n",
       "  </div>\n",
       "  <div style=\"display:inline-block;padding:0 6px 0 0;\">\n",
       "    <div onmouseover=\"event.target.style.backgroundColor = '#eef';\" onmouseout=\"event.target.style.backgroundColor = '#fff';\" style='cursor:pointer;font:10px \"Open Sans\",\"Lucida Grande\",\"Arial\",sans-serif;text-align:center;border:1px solid black;border-radius:5px;width:22px;height:80px;margin-right:3px;box-shadow:2px 2px darkgray;display:inline-block;position:relative;user-select:none;-moz-user-select:none;-webkit-user-select:none;-ms-user-select:none;'>\n",
       "      <div style=\"position:absolute;bottom:1px;text-align:center;width:100%;pointer-events:none;\">\n",
       "        <div style=\"font-size:10px;transform:rotate(90deg);position:absolute;left:-6px;bottom:50px;\">261.6</div>\n",
       "C<sub style=\"font-size:10px;pointer-events:none;\">4</sub>      </div>\n",
       "    </div>\n",
       "    <div onmouseover=\"event.target.style.backgroundColor = '#eef';\" onmouseout=\"event.target.style.backgroundColor = '#fff';\" style='cursor:pointer;font:10px \"Open Sans\",\"Lucida Grande\",\"Arial\",sans-serif;text-align:center;border:1px solid black;border-radius:5px;width:22px;height:80px;margin-right:3px;box-shadow:2px 2px darkgray;display:inline-block;position:relative;user-select:none;-moz-user-select:none;-webkit-user-select:none;-ms-user-select:none;'>\n",
       "      <div style=\"position:absolute;bottom:1px;text-align:center;width:100%;pointer-events:none;\">\n",
       "        <div style=\"font-size:10px;transform:rotate(90deg);position:absolute;left:-6px;bottom:50px;\">277.2</div>\n",
       "C#<sub style=\"font-size:10px;pointer-events:none;\">4</sub>      </div>\n",
       "    </div>\n",
       "    <div onmouseover=\"event.target.style.backgroundColor = '#eef';\" onmouseout=\"event.target.style.backgroundColor = '#fff';\" style='cursor:pointer;font:10px \"Open Sans\",\"Lucida Grande\",\"Arial\",sans-serif;text-align:center;border:1px solid black;border-radius:5px;width:22px;height:80px;margin-right:3px;box-shadow:2px 2px darkgray;display:inline-block;position:relative;user-select:none;-moz-user-select:none;-webkit-user-select:none;-ms-user-select:none;'>\n",
       "      <div style=\"position:absolute;bottom:1px;text-align:center;width:100%;pointer-events:none;\">\n",
       "        <div style=\"font-size:10px;transform:rotate(90deg);position:absolute;left:-6px;bottom:50px;\">293.7</div>\n",
       "D<sub style=\"font-size:10px;pointer-events:none;\">4</sub>      </div>\n",
       "    </div>\n",
       "    <div onmouseover=\"event.target.style.backgroundColor = '#eef';\" onmouseout=\"event.target.style.backgroundColor = '#fff';\" style='cursor:pointer;font:10px \"Open Sans\",\"Lucida Grande\",\"Arial\",sans-serif;text-align:center;border:1px solid black;border-radius:5px;width:22px;height:80px;margin-right:3px;box-shadow:2px 2px darkgray;display:inline-block;position:relative;user-select:none;-moz-user-select:none;-webkit-user-select:none;-ms-user-select:none;'>\n",
       "      <div style=\"position:absolute;bottom:1px;text-align:center;width:100%;pointer-events:none;\">\n",
       "        <div style=\"font-size:10px;transform:rotate(90deg);position:absolute;left:-6px;bottom:50px;\">311.1</div>\n",
       "D#<sub style=\"font-size:10px;pointer-events:none;\">4</sub>      </div>\n",
       "    </div>\n",
       "    <div onmouseover=\"event.target.style.backgroundColor = '#eef';\" onmouseout=\"event.target.style.backgroundColor = '#fff';\" style='cursor:pointer;font:10px \"Open Sans\",\"Lucida Grande\",\"Arial\",sans-serif;text-align:center;border:1px solid black;border-radius:5px;width:22px;height:80px;margin-right:3px;box-shadow:2px 2px darkgray;display:inline-block;position:relative;user-select:none;-moz-user-select:none;-webkit-user-select:none;-ms-user-select:none;'>\n",
       "      <div style=\"position:absolute;bottom:1px;text-align:center;width:100%;pointer-events:none;\">\n",
       "        <div style=\"font-size:10px;transform:rotate(90deg);position:absolute;left:-6px;bottom:50px;\">329.6</div>\n",
       "E<sub style=\"font-size:10px;pointer-events:none;\">4</sub>      </div>\n",
       "    </div>\n",
       "    <div onmouseover=\"event.target.style.backgroundColor = '#eef';\" onmouseout=\"event.target.style.backgroundColor = '#fff';\" style='cursor:pointer;font:10px \"Open Sans\",\"Lucida Grande\",\"Arial\",sans-serif;text-align:center;border:1px solid black;border-radius:5px;width:22px;height:80px;margin-right:3px;box-shadow:2px 2px darkgray;display:inline-block;position:relative;user-select:none;-moz-user-select:none;-webkit-user-select:none;-ms-user-select:none;'>\n",
       "      <div style=\"position:absolute;bottom:1px;text-align:center;width:100%;pointer-events:none;\">\n",
       "        <div style=\"font-size:10px;transform:rotate(90deg);position:absolute;left:-6px;bottom:50px;\">349.2</div>\n",
       "F<sub style=\"font-size:10px;pointer-events:none;\">4</sub>      </div>\n",
       "    </div>\n",
       "    <div onmouseover=\"event.target.style.backgroundColor = '#eef';\" onmouseout=\"event.target.style.backgroundColor = '#fff';\" style='cursor:pointer;font:10px \"Open Sans\",\"Lucida Grande\",\"Arial\",sans-serif;text-align:center;border:1px solid black;border-radius:5px;width:22px;height:80px;margin-right:3px;box-shadow:2px 2px darkgray;display:inline-block;position:relative;user-select:none;-moz-user-select:none;-webkit-user-select:none;-ms-user-select:none;'>\n",
       "      <div style=\"position:absolute;bottom:1px;text-align:center;width:100%;pointer-events:none;\">\n",
       "        <div style=\"font-size:10px;transform:rotate(90deg);position:absolute;left:-6px;bottom:50px;\">370.0</div>\n",
       "F#<sub style=\"font-size:10px;pointer-events:none;\">4</sub>      </div>\n",
       "    </div>\n",
       "    <div onmouseover=\"event.target.style.backgroundColor = '#eef';\" onmouseout=\"event.target.style.backgroundColor = '#fff';\" style='cursor:pointer;font:10px \"Open Sans\",\"Lucida Grande\",\"Arial\",sans-serif;text-align:center;border:1px solid black;border-radius:5px;width:22px;height:80px;margin-right:3px;box-shadow:2px 2px darkgray;display:inline-block;position:relative;user-select:none;-moz-user-select:none;-webkit-user-select:none;-ms-user-select:none;'>\n",
       "      <div style=\"position:absolute;bottom:1px;text-align:center;width:100%;pointer-events:none;\">\n",
       "        <div style=\"font-size:10px;transform:rotate(90deg);position:absolute;left:-6px;bottom:50px;\">392.0</div>\n",
       "G<sub style=\"font-size:10px;pointer-events:none;\">4</sub>      </div>\n",
       "    </div>\n",
       "    <div onmouseover=\"event.target.style.backgroundColor = '#eef';\" onmouseout=\"event.target.style.backgroundColor = '#fff';\" style='cursor:pointer;font:10px \"Open Sans\",\"Lucida Grande\",\"Arial\",sans-serif;text-align:center;border:1px solid black;border-radius:5px;width:22px;height:80px;margin-right:3px;box-shadow:2px 2px darkgray;display:inline-block;position:relative;user-select:none;-moz-user-select:none;-webkit-user-select:none;-ms-user-select:none;'>\n",
       "      <div style=\"position:absolute;bottom:1px;text-align:center;width:100%;pointer-events:none;\">\n",
       "        <div style=\"font-size:10px;transform:rotate(90deg);position:absolute;left:-6px;bottom:50px;\">415.3</div>\n",
       "G#<sub style=\"font-size:10px;pointer-events:none;\">4</sub>      </div>\n",
       "    </div>\n",
       "    <div onmouseover=\"event.target.style.backgroundColor = '#eef';\" onmouseout=\"event.target.style.backgroundColor = '#fff';\" style='cursor:pointer;font:10px \"Open Sans\",\"Lucida Grande\",\"Arial\",sans-serif;text-align:center;border:1px solid black;border-radius:5px;width:22px;height:80px;margin-right:3px;box-shadow:2px 2px darkgray;display:inline-block;position:relative;user-select:none;-moz-user-select:none;-webkit-user-select:none;-ms-user-select:none;'>\n",
       "      <div style=\"position:absolute;bottom:1px;text-align:center;width:100%;pointer-events:none;\">\n",
       "        <div style=\"font-size:10px;transform:rotate(90deg);position:absolute;left:-6px;bottom:50px;\">440.0</div>\n",
       "A<sub style=\"font-size:10px;pointer-events:none;\">4</sub>      </div>\n",
       "    </div>\n",
       "    <div onmouseover=\"event.target.style.backgroundColor = '#eef';\" onmouseout=\"event.target.style.backgroundColor = '#fff';\" style='cursor:pointer;font:10px \"Open Sans\",\"Lucida Grande\",\"Arial\",sans-serif;text-align:center;border:1px solid black;border-radius:5px;width:22px;height:80px;margin-right:3px;box-shadow:2px 2px darkgray;display:inline-block;position:relative;user-select:none;-moz-user-select:none;-webkit-user-select:none;-ms-user-select:none;'>\n",
       "      <div style=\"position:absolute;bottom:1px;text-align:center;width:100%;pointer-events:none;\">\n",
       "        <div style=\"font-size:10px;transform:rotate(90deg);position:absolute;left:-6px;bottom:50px;\">466.2</div>\n",
       "A#<sub style=\"font-size:10px;pointer-events:none;\">4</sub>      </div>\n",
       "    </div>\n",
       "    <div onmouseover=\"event.target.style.backgroundColor = '#eef';\" onmouseout=\"event.target.style.backgroundColor = '#fff';\" style='cursor:pointer;font:10px \"Open Sans\",\"Lucida Grande\",\"Arial\",sans-serif;text-align:center;border:1px solid black;border-radius:5px;width:22px;height:80px;margin-right:3px;box-shadow:2px 2px darkgray;display:inline-block;position:relative;user-select:none;-moz-user-select:none;-webkit-user-select:none;-ms-user-select:none;'>\n",
       "      <div style=\"position:absolute;bottom:1px;text-align:center;width:100%;pointer-events:none;\">\n",
       "        <div style=\"font-size:10px;transform:rotate(90deg);position:absolute;left:-6px;bottom:50px;\">493.9</div>\n",
       "B<sub style=\"font-size:10px;pointer-events:none;\">4</sub>      </div>\n",
       "    </div>\n",
       "  </div>\n",
       "  <div style=\"display:inline-block;padding:0 6px 0 0;\">\n",
       "    <div onmouseover=\"event.target.style.backgroundColor = '#eef';\" onmouseout=\"event.target.style.backgroundColor = '#fff';\" style='cursor:pointer;font:10px \"Open Sans\",\"Lucida Grande\",\"Arial\",sans-serif;text-align:center;border:1px solid black;border-radius:5px;width:22px;height:80px;margin-right:3px;box-shadow:2px 2px darkgray;display:inline-block;position:relative;user-select:none;-moz-user-select:none;-webkit-user-select:none;-ms-user-select:none;'>\n",
       "      <div style=\"position:absolute;bottom:1px;text-align:center;width:100%;pointer-events:none;\">\n",
       "        <div style=\"font-size:10px;transform:rotate(90deg);position:absolute;left:-6px;bottom:50px;\">523.3</div>\n",
       "C<sub style=\"font-size:10px;pointer-events:none;\">5</sub>      </div>\n",
       "    </div>\n",
       "    <div onmouseover=\"event.target.style.backgroundColor = '#eef';\" onmouseout=\"event.target.style.backgroundColor = '#fff';\" style='cursor:pointer;font:10px \"Open Sans\",\"Lucida Grande\",\"Arial\",sans-serif;text-align:center;border:1px solid black;border-radius:5px;width:22px;height:80px;margin-right:3px;box-shadow:2px 2px darkgray;display:inline-block;position:relative;user-select:none;-moz-user-select:none;-webkit-user-select:none;-ms-user-select:none;'>\n",
       "      <div style=\"position:absolute;bottom:1px;text-align:center;width:100%;pointer-events:none;\">\n",
       "        <div style=\"font-size:10px;transform:rotate(90deg);position:absolute;left:-6px;bottom:50px;\">554.4</div>\n",
       "C#<sub style=\"font-size:10px;pointer-events:none;\">5</sub>      </div>\n",
       "    </div>\n",
       "    <div onmouseover=\"event.target.style.backgroundColor = '#eef';\" onmouseout=\"event.target.style.backgroundColor = '#fff';\" style='cursor:pointer;font:10px \"Open Sans\",\"Lucida Grande\",\"Arial\",sans-serif;text-align:center;border:1px solid black;border-radius:5px;width:22px;height:80px;margin-right:3px;box-shadow:2px 2px darkgray;display:inline-block;position:relative;user-select:none;-moz-user-select:none;-webkit-user-select:none;-ms-user-select:none;'>\n",
       "      <div style=\"position:absolute;bottom:1px;text-align:center;width:100%;pointer-events:none;\">\n",
       "        <div style=\"font-size:10px;transform:rotate(90deg);position:absolute;left:-6px;bottom:50px;\">587.3</div>\n",
       "D<sub style=\"font-size:10px;pointer-events:none;\">5</sub>      </div>\n",
       "    </div>\n",
       "    <div onmouseover=\"event.target.style.backgroundColor = '#eef';\" onmouseout=\"event.target.style.backgroundColor = '#fff';\" style='cursor:pointer;font:10px \"Open Sans\",\"Lucida Grande\",\"Arial\",sans-serif;text-align:center;border:1px solid black;border-radius:5px;width:22px;height:80px;margin-right:3px;box-shadow:2px 2px darkgray;display:inline-block;position:relative;user-select:none;-moz-user-select:none;-webkit-user-select:none;-ms-user-select:none;'>\n",
       "      <div style=\"position:absolute;bottom:1px;text-align:center;width:100%;pointer-events:none;\">\n",
       "        <div style=\"font-size:10px;transform:rotate(90deg);position:absolute;left:-6px;bottom:50px;\">622.3</div>\n",
       "D#<sub style=\"font-size:10px;pointer-events:none;\">5</sub>      </div>\n",
       "    </div>\n",
       "    <div onmouseover=\"event.target.style.backgroundColor = '#eef';\" onmouseout=\"event.target.style.backgroundColor = '#fff';\" style='cursor:pointer;font:10px \"Open Sans\",\"Lucida Grande\",\"Arial\",sans-serif;text-align:center;border:1px solid black;border-radius:5px;width:22px;height:80px;margin-right:3px;box-shadow:2px 2px darkgray;display:inline-block;position:relative;user-select:none;-moz-user-select:none;-webkit-user-select:none;-ms-user-select:none;'>\n",
       "      <div style=\"position:absolute;bottom:1px;text-align:center;width:100%;pointer-events:none;\">\n",
       "        <div style=\"font-size:10px;transform:rotate(90deg);position:absolute;left:-6px;bottom:50px;\">659.3</div>\n",
       "E<sub style=\"font-size:10px;pointer-events:none;\">5</sub>      </div>\n",
       "    </div>\n",
       "    <div onmouseover=\"event.target.style.backgroundColor = '#eef';\" onmouseout=\"event.target.style.backgroundColor = '#fff';\" style='cursor:pointer;font:10px \"Open Sans\",\"Lucida Grande\",\"Arial\",sans-serif;text-align:center;border:1px solid black;border-radius:5px;width:22px;height:80px;margin-right:3px;box-shadow:2px 2px darkgray;display:inline-block;position:relative;user-select:none;-moz-user-select:none;-webkit-user-select:none;-ms-user-select:none;'>\n",
       "      <div style=\"position:absolute;bottom:1px;text-align:center;width:100%;pointer-events:none;\">\n",
       "        <div style=\"font-size:10px;transform:rotate(90deg);position:absolute;left:-6px;bottom:50px;\">698.5</div>\n",
       "F<sub style=\"font-size:10px;pointer-events:none;\">5</sub>      </div>\n",
       "    </div>\n",
       "    <div onmouseover=\"event.target.style.backgroundColor = '#eef';\" onmouseout=\"event.target.style.backgroundColor = '#fff';\" style='cursor:pointer;font:10px \"Open Sans\",\"Lucida Grande\",\"Arial\",sans-serif;text-align:center;border:1px solid black;border-radius:5px;width:22px;height:80px;margin-right:3px;box-shadow:2px 2px darkgray;display:inline-block;position:relative;user-select:none;-moz-user-select:none;-webkit-user-select:none;-ms-user-select:none;'>\n",
       "      <div style=\"position:absolute;bottom:1px;text-align:center;width:100%;pointer-events:none;\">\n",
       "        <div style=\"font-size:10px;transform:rotate(90deg);position:absolute;left:-6px;bottom:50px;\">740.0</div>\n",
       "F#<sub style=\"font-size:10px;pointer-events:none;\">5</sub>      </div>\n",
       "    </div>\n",
       "    <div onmouseover=\"event.target.style.backgroundColor = '#eef';\" onmouseout=\"event.target.style.backgroundColor = '#fff';\" style='cursor:pointer;font:10px \"Open Sans\",\"Lucida Grande\",\"Arial\",sans-serif;text-align:center;border:1px solid black;border-radius:5px;width:22px;height:80px;margin-right:3px;box-shadow:2px 2px darkgray;display:inline-block;position:relative;user-select:none;-moz-user-select:none;-webkit-user-select:none;-ms-user-select:none;'>\n",
       "      <div style=\"position:absolute;bottom:1px;text-align:center;width:100%;pointer-events:none;\">\n",
       "        <div style=\"font-size:10px;transform:rotate(90deg);position:absolute;left:-6px;bottom:50px;\">784.0</div>\n",
       "G<sub style=\"font-size:10px;pointer-events:none;\">5</sub>      </div>\n",
       "    </div>\n",
       "    <div onmouseover=\"event.target.style.backgroundColor = '#eef';\" onmouseout=\"event.target.style.backgroundColor = '#fff';\" style='cursor:pointer;font:10px \"Open Sans\",\"Lucida Grande\",\"Arial\",sans-serif;text-align:center;border:1px solid black;border-radius:5px;width:22px;height:80px;margin-right:3px;box-shadow:2px 2px darkgray;display:inline-block;position:relative;user-select:none;-moz-user-select:none;-webkit-user-select:none;-ms-user-select:none;'>\n",
       "      <div style=\"position:absolute;bottom:1px;text-align:center;width:100%;pointer-events:none;\">\n",
       "        <div style=\"font-size:10px;transform:rotate(90deg);position:absolute;left:-6px;bottom:50px;\">830.6</div>\n",
       "G#<sub style=\"font-size:10px;pointer-events:none;\">5</sub>      </div>\n",
       "    </div>\n",
       "    <div onmouseover=\"event.target.style.backgroundColor = '#eef';\" onmouseout=\"event.target.style.backgroundColor = '#fff';\" style='cursor:pointer;font:10px \"Open Sans\",\"Lucida Grande\",\"Arial\",sans-serif;text-align:center;border:1px solid black;border-radius:5px;width:22px;height:80px;margin-right:3px;box-shadow:2px 2px darkgray;display:inline-block;position:relative;user-select:none;-moz-user-select:none;-webkit-user-select:none;-ms-user-select:none;'>\n",
       "      <div style=\"position:absolute;bottom:1px;text-align:center;width:100%;pointer-events:none;\">\n",
       "        <div style=\"font-size:10px;transform:rotate(90deg);position:absolute;left:-6px;bottom:50px;\">880.0</div>\n",
       "A<sub style=\"font-size:10px;pointer-events:none;\">5</sub>      </div>\n",
       "    </div>\n",
       "    <div onmouseover=\"event.target.style.backgroundColor = '#eef';\" onmouseout=\"event.target.style.backgroundColor = '#fff';\" style='cursor:pointer;font:10px \"Open Sans\",\"Lucida Grande\",\"Arial\",sans-serif;text-align:center;border:1px solid black;border-radius:5px;width:22px;height:80px;margin-right:3px;box-shadow:2px 2px darkgray;display:inline-block;position:relative;user-select:none;-moz-user-select:none;-webkit-user-select:none;-ms-user-select:none;'>\n",
       "      <div style=\"position:absolute;bottom:1px;text-align:center;width:100%;pointer-events:none;\">\n",
       "        <div style=\"font-size:10px;transform:rotate(90deg);position:absolute;left:-6px;bottom:50px;\">932.3</div>\n",
       "A#<sub style=\"font-size:10px;pointer-events:none;\">5</sub>      </div>\n",
       "    </div>\n",
       "    <div onmouseover=\"event.target.style.backgroundColor = '#eef';\" onmouseout=\"event.target.style.backgroundColor = '#fff';\" style='cursor:pointer;font:10px \"Open Sans\",\"Lucida Grande\",\"Arial\",sans-serif;text-align:center;border:1px solid black;border-radius:5px;width:22px;height:80px;margin-right:3px;box-shadow:2px 2px darkgray;display:inline-block;position:relative;user-select:none;-moz-user-select:none;-webkit-user-select:none;-ms-user-select:none;'>\n",
       "      <div style=\"position:absolute;bottom:1px;text-align:center;width:100%;pointer-events:none;\">\n",
       "        <div style=\"font-size:10px;transform:rotate(90deg);position:absolute;left:-6px;bottom:50px;\">987.8</div>\n",
       "B<sub style=\"font-size:10px;pointer-events:none;\">5</sub>      </div>\n",
       "    </div>\n",
       "  </div>\n",
       "  <div style=\"display:inline-block;padding:0 6px 0 0;\">\n",
       "    <div onmouseover=\"event.target.style.backgroundColor = '#eef';\" onmouseout=\"event.target.style.backgroundColor = '#fff';\" style='cursor:pointer;font:10px \"Open Sans\",\"Lucida Grande\",\"Arial\",sans-serif;text-align:center;border:1px solid black;border-radius:5px;width:22px;height:80px;margin-right:3px;box-shadow:2px 2px darkgray;display:inline-block;position:relative;user-select:none;-moz-user-select:none;-webkit-user-select:none;-ms-user-select:none;'>\n",
       "      <div style=\"position:absolute;bottom:1px;text-align:center;width:100%;pointer-events:none;\">\n",
       "        <div style=\"font-size:10px;transform:rotate(90deg);position:absolute;left:-6px;bottom:50px;\">1046.5</div>\n",
       "C<sub style=\"font-size:10px;pointer-events:none;\">6</sub>      </div>\n",
       "    </div>\n",
       "    <div onmouseover=\"event.target.style.backgroundColor = '#eef';\" onmouseout=\"event.target.style.backgroundColor = '#fff';\" style='cursor:pointer;font:10px \"Open Sans\",\"Lucida Grande\",\"Arial\",sans-serif;text-align:center;border:1px solid black;border-radius:5px;width:22px;height:80px;margin-right:3px;box-shadow:2px 2px darkgray;display:inline-block;position:relative;user-select:none;-moz-user-select:none;-webkit-user-select:none;-ms-user-select:none;'>\n",
       "      <div style=\"position:absolute;bottom:1px;text-align:center;width:100%;pointer-events:none;\">\n",
       "        <div style=\"font-size:10px;transform:rotate(90deg);position:absolute;left:-6px;bottom:50px;\">1108.7</div>\n",
       "C#<sub style=\"font-size:10px;pointer-events:none;\">6</sub>      </div>\n",
       "    </div>\n",
       "    <div onmouseover=\"event.target.style.backgroundColor = '#eef';\" onmouseout=\"event.target.style.backgroundColor = '#fff';\" style='cursor:pointer;font:10px \"Open Sans\",\"Lucida Grande\",\"Arial\",sans-serif;text-align:center;border:1px solid black;border-radius:5px;width:22px;height:80px;margin-right:3px;box-shadow:2px 2px darkgray;display:inline-block;position:relative;user-select:none;-moz-user-select:none;-webkit-user-select:none;-ms-user-select:none;'>\n",
       "      <div style=\"position:absolute;bottom:1px;text-align:center;width:100%;pointer-events:none;\">\n",
       "        <div style=\"font-size:10px;transform:rotate(90deg);position:absolute;left:-6px;bottom:50px;\">1174.7</div>\n",
       "D<sub style=\"font-size:10px;pointer-events:none;\">6</sub>      </div>\n",
       "    </div>\n",
       "    <div onmouseover=\"event.target.style.backgroundColor = '#eef';\" onmouseout=\"event.target.style.backgroundColor = '#fff';\" style='cursor:pointer;font:10px \"Open Sans\",\"Lucida Grande\",\"Arial\",sans-serif;text-align:center;border:1px solid black;border-radius:5px;width:22px;height:80px;margin-right:3px;box-shadow:2px 2px darkgray;display:inline-block;position:relative;user-select:none;-moz-user-select:none;-webkit-user-select:none;-ms-user-select:none;'>\n",
       "      <div style=\"position:absolute;bottom:1px;text-align:center;width:100%;pointer-events:none;\">\n",
       "        <div style=\"font-size:10px;transform:rotate(90deg);position:absolute;left:-6px;bottom:50px;\">1244.5</div>\n",
       "D#<sub style=\"font-size:10px;pointer-events:none;\">6</sub>      </div>\n",
       "    </div>\n",
       "    <div onmouseover=\"event.target.style.backgroundColor = '#eef';\" onmouseout=\"event.target.style.backgroundColor = '#fff';\" style='cursor:pointer;font:10px \"Open Sans\",\"Lucida Grande\",\"Arial\",sans-serif;text-align:center;border:1px solid black;border-radius:5px;width:22px;height:80px;margin-right:3px;box-shadow:2px 2px darkgray;display:inline-block;position:relative;user-select:none;-moz-user-select:none;-webkit-user-select:none;-ms-user-select:none;'>\n",
       "      <div style=\"position:absolute;bottom:1px;text-align:center;width:100%;pointer-events:none;\">\n",
       "        <div style=\"font-size:10px;transform:rotate(90deg);position:absolute;left:-6px;bottom:50px;\">1318.5</div>\n",
       "E<sub style=\"font-size:10px;pointer-events:none;\">6</sub>      </div>\n",
       "    </div>\n",
       "    <div onmouseover=\"event.target.style.backgroundColor = '#eef';\" onmouseout=\"event.target.style.backgroundColor = '#fff';\" style='cursor:pointer;font:10px \"Open Sans\",\"Lucida Grande\",\"Arial\",sans-serif;text-align:center;border:1px solid black;border-radius:5px;width:22px;height:80px;margin-right:3px;box-shadow:2px 2px darkgray;display:inline-block;position:relative;user-select:none;-moz-user-select:none;-webkit-user-select:none;-ms-user-select:none;'>\n",
       "      <div style=\"position:absolute;bottom:1px;text-align:center;width:100%;pointer-events:none;\">\n",
       "        <div style=\"font-size:10px;transform:rotate(90deg);position:absolute;left:-6px;bottom:50px;\">1396.9</div>\n",
       "F<sub style=\"font-size:10px;pointer-events:none;\">6</sub>      </div>\n",
       "    </div>\n",
       "    <div onmouseover=\"event.target.style.backgroundColor = '#eef';\" onmouseout=\"event.target.style.backgroundColor = '#fff';\" style='cursor:pointer;font:10px \"Open Sans\",\"Lucida Grande\",\"Arial\",sans-serif;text-align:center;border:1px solid black;border-radius:5px;width:22px;height:80px;margin-right:3px;box-shadow:2px 2px darkgray;display:inline-block;position:relative;user-select:none;-moz-user-select:none;-webkit-user-select:none;-ms-user-select:none;'>\n",
       "      <div style=\"position:absolute;bottom:1px;text-align:center;width:100%;pointer-events:none;\">\n",
       "        <div style=\"font-size:10px;transform:rotate(90deg);position:absolute;left:-6px;bottom:50px;\">1480.0</div>\n",
       "F#<sub style=\"font-size:10px;pointer-events:none;\">6</sub>      </div>\n",
       "    </div>\n",
       "    <div onmouseover=\"event.target.style.backgroundColor = '#eef';\" onmouseout=\"event.target.style.backgroundColor = '#fff';\" style='cursor:pointer;font:10px \"Open Sans\",\"Lucida Grande\",\"Arial\",sans-serif;text-align:center;border:1px solid black;border-radius:5px;width:22px;height:80px;margin-right:3px;box-shadow:2px 2px darkgray;display:inline-block;position:relative;user-select:none;-moz-user-select:none;-webkit-user-select:none;-ms-user-select:none;'>\n",
       "      <div style=\"position:absolute;bottom:1px;text-align:center;width:100%;pointer-events:none;\">\n",
       "        <div style=\"font-size:10px;transform:rotate(90deg);position:absolute;left:-6px;bottom:50px;\">1568.0</div>\n",
       "G<sub style=\"font-size:10px;pointer-events:none;\">6</sub>      </div>\n",
       "    </div>\n",
       "    <div onmouseover=\"event.target.style.backgroundColor = '#eef';\" onmouseout=\"event.target.style.backgroundColor = '#fff';\" style='cursor:pointer;font:10px \"Open Sans\",\"Lucida Grande\",\"Arial\",sans-serif;text-align:center;border:1px solid black;border-radius:5px;width:22px;height:80px;margin-right:3px;box-shadow:2px 2px darkgray;display:inline-block;position:relative;user-select:none;-moz-user-select:none;-webkit-user-select:none;-ms-user-select:none;'>\n",
       "      <div style=\"position:absolute;bottom:1px;text-align:center;width:100%;pointer-events:none;\">\n",
       "        <div style=\"font-size:10px;transform:rotate(90deg);position:absolute;left:-6px;bottom:50px;\">1661.2</div>\n",
       "G#<sub style=\"font-size:10px;pointer-events:none;\">6</sub>      </div>\n",
       "    </div>\n",
       "    <div onmouseover=\"event.target.style.backgroundColor = '#eef';\" onmouseout=\"event.target.style.backgroundColor = '#fff';\" style='cursor:pointer;font:10px \"Open Sans\",\"Lucida Grande\",\"Arial\",sans-serif;text-align:center;border:1px solid black;border-radius:5px;width:22px;height:80px;margin-right:3px;box-shadow:2px 2px darkgray;display:inline-block;position:relative;user-select:none;-moz-user-select:none;-webkit-user-select:none;-ms-user-select:none;'>\n",
       "      <div style=\"position:absolute;bottom:1px;text-align:center;width:100%;pointer-events:none;\">\n",
       "        <div style=\"font-size:10px;transform:rotate(90deg);position:absolute;left:-6px;bottom:50px;\">1760.0</div>\n",
       "A<sub style=\"font-size:10px;pointer-events:none;\">6</sub>      </div>\n",
       "    </div>\n",
       "    <div onmouseover=\"event.target.style.backgroundColor = '#eef';\" onmouseout=\"event.target.style.backgroundColor = '#fff';\" style='cursor:pointer;font:10px \"Open Sans\",\"Lucida Grande\",\"Arial\",sans-serif;text-align:center;border:1px solid black;border-radius:5px;width:22px;height:80px;margin-right:3px;box-shadow:2px 2px darkgray;display:inline-block;position:relative;user-select:none;-moz-user-select:none;-webkit-user-select:none;-ms-user-select:none;'>\n",
       "      <div style=\"position:absolute;bottom:1px;text-align:center;width:100%;pointer-events:none;\">\n",
       "        <div style=\"font-size:10px;transform:rotate(90deg);position:absolute;left:-6px;bottom:50px;\">1864.7</div>\n",
       "A#<sub style=\"font-size:10px;pointer-events:none;\">6</sub>      </div>\n",
       "    </div>\n",
       "    <div onmouseover=\"event.target.style.backgroundColor = '#eef';\" onmouseout=\"event.target.style.backgroundColor = '#fff';\" style='cursor:pointer;font:10px \"Open Sans\",\"Lucida Grande\",\"Arial\",sans-serif;text-align:center;border:1px solid black;border-radius:5px;width:22px;height:80px;margin-right:3px;box-shadow:2px 2px darkgray;display:inline-block;position:relative;user-select:none;-moz-user-select:none;-webkit-user-select:none;-ms-user-select:none;'>\n",
       "      <div style=\"position:absolute;bottom:1px;text-align:center;width:100%;pointer-events:none;\">\n",
       "        <div style=\"font-size:10px;transform:rotate(90deg);position:absolute;left:-6px;bottom:50px;\">1975.5</div>\n",
       "B<sub style=\"font-size:10px;pointer-events:none;\">6</sub>      </div>\n",
       "    </div>\n",
       "  </div>\n",
       "  <div style=\"display:inline-block;padding:0 6px 0 0;\">\n",
       "    <div onmouseover=\"event.target.style.backgroundColor = '#eef';\" onmouseout=\"event.target.style.backgroundColor = '#fff';\" style='cursor:pointer;font:10px \"Open Sans\",\"Lucida Grande\",\"Arial\",sans-serif;text-align:center;border:1px solid black;border-radius:5px;width:22px;height:80px;margin-right:3px;box-shadow:2px 2px darkgray;display:inline-block;position:relative;user-select:none;-moz-user-select:none;-webkit-user-select:none;-ms-user-select:none;'>\n",
       "      <div style=\"position:absolute;bottom:1px;text-align:center;width:100%;pointer-events:none;\">\n",
       "        <div style=\"font-size:10px;transform:rotate(90deg);position:absolute;left:-6px;bottom:50px;\">2093.0</div>\n",
       "C<sub style=\"font-size:10px;pointer-events:none;\">7</sub>      </div>\n",
       "    </div>\n",
       "    <div onmouseover=\"event.target.style.backgroundColor = '#eef';\" onmouseout=\"event.target.style.backgroundColor = '#fff';\" style='cursor:pointer;font:10px \"Open Sans\",\"Lucida Grande\",\"Arial\",sans-serif;text-align:center;border:1px solid black;border-radius:5px;width:22px;height:80px;margin-right:3px;box-shadow:2px 2px darkgray;display:inline-block;position:relative;user-select:none;-moz-user-select:none;-webkit-user-select:none;-ms-user-select:none;'>\n",
       "      <div style=\"position:absolute;bottom:1px;text-align:center;width:100%;pointer-events:none;\">\n",
       "        <div style=\"font-size:10px;transform:rotate(90deg);position:absolute;left:-6px;bottom:50px;\">2217.5</div>\n",
       "C#<sub style=\"font-size:10px;pointer-events:none;\">7</sub>      </div>\n",
       "    </div>\n",
       "    <div onmouseover=\"event.target.style.backgroundColor = '#eef';\" onmouseout=\"event.target.style.backgroundColor = '#fff';\" style='cursor:pointer;font:10px \"Open Sans\",\"Lucida Grande\",\"Arial\",sans-serif;text-align:center;border:1px solid black;border-radius:5px;width:22px;height:80px;margin-right:3px;box-shadow:2px 2px darkgray;display:inline-block;position:relative;user-select:none;-moz-user-select:none;-webkit-user-select:none;-ms-user-select:none;'>\n",
       "      <div style=\"position:absolute;bottom:1px;text-align:center;width:100%;pointer-events:none;\">\n",
       "        <div style=\"font-size:10px;transform:rotate(90deg);position:absolute;left:-6px;bottom:50px;\">2349.3</div>\n",
       "D<sub style=\"font-size:10px;pointer-events:none;\">7</sub>      </div>\n",
       "    </div>\n",
       "    <div onmouseover=\"event.target.style.backgroundColor = '#eef';\" onmouseout=\"event.target.style.backgroundColor = '#fff';\" style='cursor:pointer;font:10px \"Open Sans\",\"Lucida Grande\",\"Arial\",sans-serif;text-align:center;border:1px solid black;border-radius:5px;width:22px;height:80px;margin-right:3px;box-shadow:2px 2px darkgray;display:inline-block;position:relative;user-select:none;-moz-user-select:none;-webkit-user-select:none;-ms-user-select:none;'>\n",
       "      <div style=\"position:absolute;bottom:1px;text-align:center;width:100%;pointer-events:none;\">\n",
       "        <div style=\"font-size:10px;transform:rotate(90deg);position:absolute;left:-6px;bottom:50px;\">2489.0</div>\n",
       "D#<sub style=\"font-size:10px;pointer-events:none;\">7</sub>      </div>\n",
       "    </div>\n",
       "    <div onmouseover=\"event.target.style.backgroundColor = '#eef';\" onmouseout=\"event.target.style.backgroundColor = '#fff';\" style='cursor:pointer;font:10px \"Open Sans\",\"Lucida Grande\",\"Arial\",sans-serif;text-align:center;border:1px solid black;border-radius:5px;width:22px;height:80px;margin-right:3px;box-shadow:2px 2px darkgray;display:inline-block;position:relative;user-select:none;-moz-user-select:none;-webkit-user-select:none;-ms-user-select:none;'>\n",
       "      <div style=\"position:absolute;bottom:1px;text-align:center;width:100%;pointer-events:none;\">\n",
       "        <div style=\"font-size:10px;transform:rotate(90deg);position:absolute;left:-6px;bottom:50px;\">2637.0</div>\n",
       "E<sub style=\"font-size:10px;pointer-events:none;\">7</sub>      </div>\n",
       "    </div>\n",
       "    <div onmouseover=\"event.target.style.backgroundColor = '#eef';\" onmouseout=\"event.target.style.backgroundColor = '#fff';\" style='cursor:pointer;font:10px \"Open Sans\",\"Lucida Grande\",\"Arial\",sans-serif;text-align:center;border:1px solid black;border-radius:5px;width:22px;height:80px;margin-right:3px;box-shadow:2px 2px darkgray;display:inline-block;position:relative;user-select:none;-moz-user-select:none;-webkit-user-select:none;-ms-user-select:none;'>\n",
       "      <div style=\"position:absolute;bottom:1px;text-align:center;width:100%;pointer-events:none;\">\n",
       "        <div style=\"font-size:10px;transform:rotate(90deg);position:absolute;left:-6px;bottom:50px;\">2793.8</div>\n",
       "F<sub style=\"font-size:10px;pointer-events:none;\">7</sub>      </div>\n",
       "    </div>\n",
       "    <div onmouseover=\"event.target.style.backgroundColor = '#eef';\" onmouseout=\"event.target.style.backgroundColor = '#fff';\" style='cursor:pointer;font:10px \"Open Sans\",\"Lucida Grande\",\"Arial\",sans-serif;text-align:center;border:1px solid black;border-radius:5px;width:22px;height:80px;margin-right:3px;box-shadow:2px 2px darkgray;display:inline-block;position:relative;user-select:none;-moz-user-select:none;-webkit-user-select:none;-ms-user-select:none;'>\n",
       "      <div style=\"position:absolute;bottom:1px;text-align:center;width:100%;pointer-events:none;\">\n",
       "        <div style=\"font-size:10px;transform:rotate(90deg);position:absolute;left:-6px;bottom:50px;\">2960.0</div>\n",
       "F#<sub style=\"font-size:10px;pointer-events:none;\">7</sub>      </div>\n",
       "    </div>\n",
       "    <div onmouseover=\"event.target.style.backgroundColor = '#eef';\" onmouseout=\"event.target.style.backgroundColor = '#fff';\" style='cursor:pointer;font:10px \"Open Sans\",\"Lucida Grande\",\"Arial\",sans-serif;text-align:center;border:1px solid black;border-radius:5px;width:22px;height:80px;margin-right:3px;box-shadow:2px 2px darkgray;display:inline-block;position:relative;user-select:none;-moz-user-select:none;-webkit-user-select:none;-ms-user-select:none;'>\n",
       "      <div style=\"position:absolute;bottom:1px;text-align:center;width:100%;pointer-events:none;\">\n",
       "        <div style=\"font-size:10px;transform:rotate(90deg);position:absolute;left:-6px;bottom:50px;\">3136.0</div>\n",
       "G<sub style=\"font-size:10px;pointer-events:none;\">7</sub>      </div>\n",
       "    </div>\n",
       "    <div onmouseover=\"event.target.style.backgroundColor = '#eef';\" onmouseout=\"event.target.style.backgroundColor = '#fff';\" style='cursor:pointer;font:10px \"Open Sans\",\"Lucida Grande\",\"Arial\",sans-serif;text-align:center;border:1px solid black;border-radius:5px;width:22px;height:80px;margin-right:3px;box-shadow:2px 2px darkgray;display:inline-block;position:relative;user-select:none;-moz-user-select:none;-webkit-user-select:none;-ms-user-select:none;'>\n",
       "      <div style=\"position:absolute;bottom:1px;text-align:center;width:100%;pointer-events:none;\">\n",
       "        <div style=\"font-size:10px;transform:rotate(90deg);position:absolute;left:-6px;bottom:50px;\">3322.4</div>\n",
       "G#<sub style=\"font-size:10px;pointer-events:none;\">7</sub>      </div>\n",
       "    </div>\n",
       "    <div onmouseover=\"event.target.style.backgroundColor = '#eef';\" onmouseout=\"event.target.style.backgroundColor = '#fff';\" style='cursor:pointer;font:10px \"Open Sans\",\"Lucida Grande\",\"Arial\",sans-serif;text-align:center;border:1px solid black;border-radius:5px;width:22px;height:80px;margin-right:3px;box-shadow:2px 2px darkgray;display:inline-block;position:relative;user-select:none;-moz-user-select:none;-webkit-user-select:none;-ms-user-select:none;'>\n",
       "      <div style=\"position:absolute;bottom:1px;text-align:center;width:100%;pointer-events:none;\">\n",
       "        <div style=\"font-size:10px;transform:rotate(90deg);position:absolute;left:-6px;bottom:50px;\">3520.0</div>\n",
       "A<sub style=\"font-size:10px;pointer-events:none;\">7</sub>      </div>\n",
       "    </div>\n",
       "    <div onmouseover=\"event.target.style.backgroundColor = '#eef';\" onmouseout=\"event.target.style.backgroundColor = '#fff';\" style='cursor:pointer;font:10px \"Open Sans\",\"Lucida Grande\",\"Arial\",sans-serif;text-align:center;border:1px solid black;border-radius:5px;width:22px;height:80px;margin-right:3px;box-shadow:2px 2px darkgray;display:inline-block;position:relative;user-select:none;-moz-user-select:none;-webkit-user-select:none;-ms-user-select:none;'>\n",
       "      <div style=\"position:absolute;bottom:1px;text-align:center;width:100%;pointer-events:none;\">\n",
       "        <div style=\"font-size:10px;transform:rotate(90deg);position:absolute;left:-6px;bottom:50px;\">3729.3</div>\n",
       "A#<sub style=\"font-size:10px;pointer-events:none;\">7</sub>      </div>\n",
       "    </div>\n",
       "    <div onmouseover=\"event.target.style.backgroundColor = '#eef';\" onmouseout=\"event.target.style.backgroundColor = '#fff';\" style='cursor:pointer;font:10px \"Open Sans\",\"Lucida Grande\",\"Arial\",sans-serif;text-align:center;border:1px solid black;border-radius:5px;width:22px;height:80px;margin-right:3px;box-shadow:2px 2px darkgray;display:inline-block;position:relative;user-select:none;-moz-user-select:none;-webkit-user-select:none;-ms-user-select:none;'>\n",
       "      <div style=\"position:absolute;bottom:1px;text-align:center;width:100%;pointer-events:none;\">\n",
       "        <div style=\"font-size:10px;transform:rotate(90deg);position:absolute;left:-6px;bottom:50px;\">3951.1</div>\n",
       "B<sub style=\"font-size:10px;pointer-events:none;\">7</sub>      </div>\n",
       "    </div>\n",
       "  </div>\n",
       "</div>\n",
       "<script>if (window.htmx) htmx.process(document.body)</script>"
      ],
      "text/plain": [
       "<IPython.core.display.HTML object>"
      ]
     },
     "metadata": {},
     "output_type": "display_data"
    }
   ],
   "source": [
    "def Keyboard(): return Div(*L(range(8)).map(Octave), style=\"width:auto;padding:0;margin:0;\")\n",
    "show(Keyboard())"
   ]
  },
  {
   "cell_type": "markdown",
   "id": "d99744f6",
   "metadata": {},
   "source": [
    "The MDN article had this:"
   ]
  },
  {
   "cell_type": "code",
   "execution_count": 28,
   "id": "f070dd3a",
   "metadata": {},
   "outputs": [
    {
     "data": {
      "text/html": [
       "<div style=\"overflow-x:scroll;overflow-y:hidden;width:100%;height:110px;white-space:nowrap;margin:10px;\">\n",
       "  <div style=\"width:auto;padding:0;margin:0;\">\n",
       "    <div style=\"display:inline-block;padding:0 6px 0 0;\">\n",
       "      <div onmouseover=\"event.target.style.backgroundColor = '#eef';\" onmouseout=\"event.target.style.backgroundColor = '#fff';\" style='cursor:pointer;font:10px \"Open Sans\",\"Lucida Grande\",\"Arial\",sans-serif;text-align:center;border:1px solid black;border-radius:5px;width:22px;height:80px;margin-right:3px;box-shadow:2px 2px darkgray;display:inline-block;position:relative;user-select:none;-moz-user-select:none;-webkit-user-select:none;-ms-user-select:none;'>\n",
       "        <div style=\"position:absolute;bottom:1px;text-align:center;width:100%;pointer-events:none;\">\n",
       "          <div style=\"font-size:10px;transform:rotate(90deg);position:absolute;left:-6px;bottom:50px;\">16.4</div>\n",
       "C<sub style=\"font-size:10px;pointer-events:none;\">0</sub>        </div>\n",
       "      </div>\n",
       "      <div onmouseover=\"event.target.style.backgroundColor = '#eef';\" onmouseout=\"event.target.style.backgroundColor = '#fff';\" style='cursor:pointer;font:10px \"Open Sans\",\"Lucida Grande\",\"Arial\",sans-serif;text-align:center;border:1px solid black;border-radius:5px;width:22px;height:80px;margin-right:3px;box-shadow:2px 2px darkgray;display:inline-block;position:relative;user-select:none;-moz-user-select:none;-webkit-user-select:none;-ms-user-select:none;'>\n",
       "        <div style=\"position:absolute;bottom:1px;text-align:center;width:100%;pointer-events:none;\">\n",
       "          <div style=\"font-size:10px;transform:rotate(90deg);position:absolute;left:-6px;bottom:50px;\">17.3</div>\n",
       "C#<sub style=\"font-size:10px;pointer-events:none;\">0</sub>        </div>\n",
       "      </div>\n",
       "      <div onmouseover=\"event.target.style.backgroundColor = '#eef';\" onmouseout=\"event.target.style.backgroundColor = '#fff';\" style='cursor:pointer;font:10px \"Open Sans\",\"Lucida Grande\",\"Arial\",sans-serif;text-align:center;border:1px solid black;border-radius:5px;width:22px;height:80px;margin-right:3px;box-shadow:2px 2px darkgray;display:inline-block;position:relative;user-select:none;-moz-user-select:none;-webkit-user-select:none;-ms-user-select:none;'>\n",
       "        <div style=\"position:absolute;bottom:1px;text-align:center;width:100%;pointer-events:none;\">\n",
       "          <div style=\"font-size:10px;transform:rotate(90deg);position:absolute;left:-6px;bottom:50px;\">18.4</div>\n",
       "D<sub style=\"font-size:10px;pointer-events:none;\">0</sub>        </div>\n",
       "      </div>\n",
       "      <div onmouseover=\"event.target.style.backgroundColor = '#eef';\" onmouseout=\"event.target.style.backgroundColor = '#fff';\" style='cursor:pointer;font:10px \"Open Sans\",\"Lucida Grande\",\"Arial\",sans-serif;text-align:center;border:1px solid black;border-radius:5px;width:22px;height:80px;margin-right:3px;box-shadow:2px 2px darkgray;display:inline-block;position:relative;user-select:none;-moz-user-select:none;-webkit-user-select:none;-ms-user-select:none;'>\n",
       "        <div style=\"position:absolute;bottom:1px;text-align:center;width:100%;pointer-events:none;\">\n",
       "          <div style=\"font-size:10px;transform:rotate(90deg);position:absolute;left:-6px;bottom:50px;\">19.4</div>\n",
       "D#<sub style=\"font-size:10px;pointer-events:none;\">0</sub>        </div>\n",
       "      </div>\n",
       "      <div onmouseover=\"event.target.style.backgroundColor = '#eef';\" onmouseout=\"event.target.style.backgroundColor = '#fff';\" style='cursor:pointer;font:10px \"Open Sans\",\"Lucida Grande\",\"Arial\",sans-serif;text-align:center;border:1px solid black;border-radius:5px;width:22px;height:80px;margin-right:3px;box-shadow:2px 2px darkgray;display:inline-block;position:relative;user-select:none;-moz-user-select:none;-webkit-user-select:none;-ms-user-select:none;'>\n",
       "        <div style=\"position:absolute;bottom:1px;text-align:center;width:100%;pointer-events:none;\">\n",
       "          <div style=\"font-size:10px;transform:rotate(90deg);position:absolute;left:-6px;bottom:50px;\">20.6</div>\n",
       "E<sub style=\"font-size:10px;pointer-events:none;\">0</sub>        </div>\n",
       "      </div>\n",
       "      <div onmouseover=\"event.target.style.backgroundColor = '#eef';\" onmouseout=\"event.target.style.backgroundColor = '#fff';\" style='cursor:pointer;font:10px \"Open Sans\",\"Lucida Grande\",\"Arial\",sans-serif;text-align:center;border:1px solid black;border-radius:5px;width:22px;height:80px;margin-right:3px;box-shadow:2px 2px darkgray;display:inline-block;position:relative;user-select:none;-moz-user-select:none;-webkit-user-select:none;-ms-user-select:none;'>\n",
       "        <div style=\"position:absolute;bottom:1px;text-align:center;width:100%;pointer-events:none;\">\n",
       "          <div style=\"font-size:10px;transform:rotate(90deg);position:absolute;left:-6px;bottom:50px;\">21.8</div>\n",
       "F<sub style=\"font-size:10px;pointer-events:none;\">0</sub>        </div>\n",
       "      </div>\n",
       "      <div onmouseover=\"event.target.style.backgroundColor = '#eef';\" onmouseout=\"event.target.style.backgroundColor = '#fff';\" style='cursor:pointer;font:10px \"Open Sans\",\"Lucida Grande\",\"Arial\",sans-serif;text-align:center;border:1px solid black;border-radius:5px;width:22px;height:80px;margin-right:3px;box-shadow:2px 2px darkgray;display:inline-block;position:relative;user-select:none;-moz-user-select:none;-webkit-user-select:none;-ms-user-select:none;'>\n",
       "        <div style=\"position:absolute;bottom:1px;text-align:center;width:100%;pointer-events:none;\">\n",
       "          <div style=\"font-size:10px;transform:rotate(90deg);position:absolute;left:-6px;bottom:50px;\">23.1</div>\n",
       "F#<sub style=\"font-size:10px;pointer-events:none;\">0</sub>        </div>\n",
       "      </div>\n",
       "      <div onmouseover=\"event.target.style.backgroundColor = '#eef';\" onmouseout=\"event.target.style.backgroundColor = '#fff';\" style='cursor:pointer;font:10px \"Open Sans\",\"Lucida Grande\",\"Arial\",sans-serif;text-align:center;border:1px solid black;border-radius:5px;width:22px;height:80px;margin-right:3px;box-shadow:2px 2px darkgray;display:inline-block;position:relative;user-select:none;-moz-user-select:none;-webkit-user-select:none;-ms-user-select:none;'>\n",
       "        <div style=\"position:absolute;bottom:1px;text-align:center;width:100%;pointer-events:none;\">\n",
       "          <div style=\"font-size:10px;transform:rotate(90deg);position:absolute;left:-6px;bottom:50px;\">24.5</div>\n",
       "G<sub style=\"font-size:10px;pointer-events:none;\">0</sub>        </div>\n",
       "      </div>\n",
       "      <div onmouseover=\"event.target.style.backgroundColor = '#eef';\" onmouseout=\"event.target.style.backgroundColor = '#fff';\" style='cursor:pointer;font:10px \"Open Sans\",\"Lucida Grande\",\"Arial\",sans-serif;text-align:center;border:1px solid black;border-radius:5px;width:22px;height:80px;margin-right:3px;box-shadow:2px 2px darkgray;display:inline-block;position:relative;user-select:none;-moz-user-select:none;-webkit-user-select:none;-ms-user-select:none;'>\n",
       "        <div style=\"position:absolute;bottom:1px;text-align:center;width:100%;pointer-events:none;\">\n",
       "          <div style=\"font-size:10px;transform:rotate(90deg);position:absolute;left:-6px;bottom:50px;\">26.0</div>\n",
       "G#<sub style=\"font-size:10px;pointer-events:none;\">0</sub>        </div>\n",
       "      </div>\n",
       "      <div onmouseover=\"event.target.style.backgroundColor = '#eef';\" onmouseout=\"event.target.style.backgroundColor = '#fff';\" style='cursor:pointer;font:10px \"Open Sans\",\"Lucida Grande\",\"Arial\",sans-serif;text-align:center;border:1px solid black;border-radius:5px;width:22px;height:80px;margin-right:3px;box-shadow:2px 2px darkgray;display:inline-block;position:relative;user-select:none;-moz-user-select:none;-webkit-user-select:none;-ms-user-select:none;'>\n",
       "        <div style=\"position:absolute;bottom:1px;text-align:center;width:100%;pointer-events:none;\">\n",
       "          <div style=\"font-size:10px;transform:rotate(90deg);position:absolute;left:-6px;bottom:50px;\">27.5</div>\n",
       "A<sub style=\"font-size:10px;pointer-events:none;\">0</sub>        </div>\n",
       "      </div>\n",
       "      <div onmouseover=\"event.target.style.backgroundColor = '#eef';\" onmouseout=\"event.target.style.backgroundColor = '#fff';\" style='cursor:pointer;font:10px \"Open Sans\",\"Lucida Grande\",\"Arial\",sans-serif;text-align:center;border:1px solid black;border-radius:5px;width:22px;height:80px;margin-right:3px;box-shadow:2px 2px darkgray;display:inline-block;position:relative;user-select:none;-moz-user-select:none;-webkit-user-select:none;-ms-user-select:none;'>\n",
       "        <div style=\"position:absolute;bottom:1px;text-align:center;width:100%;pointer-events:none;\">\n",
       "          <div style=\"font-size:10px;transform:rotate(90deg);position:absolute;left:-6px;bottom:50px;\">29.1</div>\n",
       "A#<sub style=\"font-size:10px;pointer-events:none;\">0</sub>        </div>\n",
       "      </div>\n",
       "      <div onmouseover=\"event.target.style.backgroundColor = '#eef';\" onmouseout=\"event.target.style.backgroundColor = '#fff';\" style='cursor:pointer;font:10px \"Open Sans\",\"Lucida Grande\",\"Arial\",sans-serif;text-align:center;border:1px solid black;border-radius:5px;width:22px;height:80px;margin-right:3px;box-shadow:2px 2px darkgray;display:inline-block;position:relative;user-select:none;-moz-user-select:none;-webkit-user-select:none;-ms-user-select:none;'>\n",
       "        <div style=\"position:absolute;bottom:1px;text-align:center;width:100%;pointer-events:none;\">\n",
       "          <div style=\"font-size:10px;transform:rotate(90deg);position:absolute;left:-6px;bottom:50px;\">30.9</div>\n",
       "B<sub style=\"font-size:10px;pointer-events:none;\">0</sub>        </div>\n",
       "      </div>\n",
       "    </div>\n",
       "    <div style=\"display:inline-block;padding:0 6px 0 0;\">\n",
       "      <div onmouseover=\"event.target.style.backgroundColor = '#eef';\" onmouseout=\"event.target.style.backgroundColor = '#fff';\" style='cursor:pointer;font:10px \"Open Sans\",\"Lucida Grande\",\"Arial\",sans-serif;text-align:center;border:1px solid black;border-radius:5px;width:22px;height:80px;margin-right:3px;box-shadow:2px 2px darkgray;display:inline-block;position:relative;user-select:none;-moz-user-select:none;-webkit-user-select:none;-ms-user-select:none;'>\n",
       "        <div style=\"position:absolute;bottom:1px;text-align:center;width:100%;pointer-events:none;\">\n",
       "          <div style=\"font-size:10px;transform:rotate(90deg);position:absolute;left:-6px;bottom:50px;\">32.7</div>\n",
       "C<sub style=\"font-size:10px;pointer-events:none;\">1</sub>        </div>\n",
       "      </div>\n",
       "      <div onmouseover=\"event.target.style.backgroundColor = '#eef';\" onmouseout=\"event.target.style.backgroundColor = '#fff';\" style='cursor:pointer;font:10px \"Open Sans\",\"Lucida Grande\",\"Arial\",sans-serif;text-align:center;border:1px solid black;border-radius:5px;width:22px;height:80px;margin-right:3px;box-shadow:2px 2px darkgray;display:inline-block;position:relative;user-select:none;-moz-user-select:none;-webkit-user-select:none;-ms-user-select:none;'>\n",
       "        <div style=\"position:absolute;bottom:1px;text-align:center;width:100%;pointer-events:none;\">\n",
       "          <div style=\"font-size:10px;transform:rotate(90deg);position:absolute;left:-6px;bottom:50px;\">34.6</div>\n",
       "C#<sub style=\"font-size:10px;pointer-events:none;\">1</sub>        </div>\n",
       "      </div>\n",
       "      <div onmouseover=\"event.target.style.backgroundColor = '#eef';\" onmouseout=\"event.target.style.backgroundColor = '#fff';\" style='cursor:pointer;font:10px \"Open Sans\",\"Lucida Grande\",\"Arial\",sans-serif;text-align:center;border:1px solid black;border-radius:5px;width:22px;height:80px;margin-right:3px;box-shadow:2px 2px darkgray;display:inline-block;position:relative;user-select:none;-moz-user-select:none;-webkit-user-select:none;-ms-user-select:none;'>\n",
       "        <div style=\"position:absolute;bottom:1px;text-align:center;width:100%;pointer-events:none;\">\n",
       "          <div style=\"font-size:10px;transform:rotate(90deg);position:absolute;left:-6px;bottom:50px;\">36.7</div>\n",
       "D<sub style=\"font-size:10px;pointer-events:none;\">1</sub>        </div>\n",
       "      </div>\n",
       "      <div onmouseover=\"event.target.style.backgroundColor = '#eef';\" onmouseout=\"event.target.style.backgroundColor = '#fff';\" style='cursor:pointer;font:10px \"Open Sans\",\"Lucida Grande\",\"Arial\",sans-serif;text-align:center;border:1px solid black;border-radius:5px;width:22px;height:80px;margin-right:3px;box-shadow:2px 2px darkgray;display:inline-block;position:relative;user-select:none;-moz-user-select:none;-webkit-user-select:none;-ms-user-select:none;'>\n",
       "        <div style=\"position:absolute;bottom:1px;text-align:center;width:100%;pointer-events:none;\">\n",
       "          <div style=\"font-size:10px;transform:rotate(90deg);position:absolute;left:-6px;bottom:50px;\">38.9</div>\n",
       "D#<sub style=\"font-size:10px;pointer-events:none;\">1</sub>        </div>\n",
       "      </div>\n",
       "      <div onmouseover=\"event.target.style.backgroundColor = '#eef';\" onmouseout=\"event.target.style.backgroundColor = '#fff';\" style='cursor:pointer;font:10px \"Open Sans\",\"Lucida Grande\",\"Arial\",sans-serif;text-align:center;border:1px solid black;border-radius:5px;width:22px;height:80px;margin-right:3px;box-shadow:2px 2px darkgray;display:inline-block;position:relative;user-select:none;-moz-user-select:none;-webkit-user-select:none;-ms-user-select:none;'>\n",
       "        <div style=\"position:absolute;bottom:1px;text-align:center;width:100%;pointer-events:none;\">\n",
       "          <div style=\"font-size:10px;transform:rotate(90deg);position:absolute;left:-6px;bottom:50px;\">41.2</div>\n",
       "E<sub style=\"font-size:10px;pointer-events:none;\">1</sub>        </div>\n",
       "      </div>\n",
       "      <div onmouseover=\"event.target.style.backgroundColor = '#eef';\" onmouseout=\"event.target.style.backgroundColor = '#fff';\" style='cursor:pointer;font:10px \"Open Sans\",\"Lucida Grande\",\"Arial\",sans-serif;text-align:center;border:1px solid black;border-radius:5px;width:22px;height:80px;margin-right:3px;box-shadow:2px 2px darkgray;display:inline-block;position:relative;user-select:none;-moz-user-select:none;-webkit-user-select:none;-ms-user-select:none;'>\n",
       "        <div style=\"position:absolute;bottom:1px;text-align:center;width:100%;pointer-events:none;\">\n",
       "          <div style=\"font-size:10px;transform:rotate(90deg);position:absolute;left:-6px;bottom:50px;\">43.7</div>\n",
       "F<sub style=\"font-size:10px;pointer-events:none;\">1</sub>        </div>\n",
       "      </div>\n",
       "      <div onmouseover=\"event.target.style.backgroundColor = '#eef';\" onmouseout=\"event.target.style.backgroundColor = '#fff';\" style='cursor:pointer;font:10px \"Open Sans\",\"Lucida Grande\",\"Arial\",sans-serif;text-align:center;border:1px solid black;border-radius:5px;width:22px;height:80px;margin-right:3px;box-shadow:2px 2px darkgray;display:inline-block;position:relative;user-select:none;-moz-user-select:none;-webkit-user-select:none;-ms-user-select:none;'>\n",
       "        <div style=\"position:absolute;bottom:1px;text-align:center;width:100%;pointer-events:none;\">\n",
       "          <div style=\"font-size:10px;transform:rotate(90deg);position:absolute;left:-6px;bottom:50px;\">46.2</div>\n",
       "F#<sub style=\"font-size:10px;pointer-events:none;\">1</sub>        </div>\n",
       "      </div>\n",
       "      <div onmouseover=\"event.target.style.backgroundColor = '#eef';\" onmouseout=\"event.target.style.backgroundColor = '#fff';\" style='cursor:pointer;font:10px \"Open Sans\",\"Lucida Grande\",\"Arial\",sans-serif;text-align:center;border:1px solid black;border-radius:5px;width:22px;height:80px;margin-right:3px;box-shadow:2px 2px darkgray;display:inline-block;position:relative;user-select:none;-moz-user-select:none;-webkit-user-select:none;-ms-user-select:none;'>\n",
       "        <div style=\"position:absolute;bottom:1px;text-align:center;width:100%;pointer-events:none;\">\n",
       "          <div style=\"font-size:10px;transform:rotate(90deg);position:absolute;left:-6px;bottom:50px;\">49.0</div>\n",
       "G<sub style=\"font-size:10px;pointer-events:none;\">1</sub>        </div>\n",
       "      </div>\n",
       "      <div onmouseover=\"event.target.style.backgroundColor = '#eef';\" onmouseout=\"event.target.style.backgroundColor = '#fff';\" style='cursor:pointer;font:10px \"Open Sans\",\"Lucida Grande\",\"Arial\",sans-serif;text-align:center;border:1px solid black;border-radius:5px;width:22px;height:80px;margin-right:3px;box-shadow:2px 2px darkgray;display:inline-block;position:relative;user-select:none;-moz-user-select:none;-webkit-user-select:none;-ms-user-select:none;'>\n",
       "        <div style=\"position:absolute;bottom:1px;text-align:center;width:100%;pointer-events:none;\">\n",
       "          <div style=\"font-size:10px;transform:rotate(90deg);position:absolute;left:-6px;bottom:50px;\">51.9</div>\n",
       "G#<sub style=\"font-size:10px;pointer-events:none;\">1</sub>        </div>\n",
       "      </div>\n",
       "      <div onmouseover=\"event.target.style.backgroundColor = '#eef';\" onmouseout=\"event.target.style.backgroundColor = '#fff';\" style='cursor:pointer;font:10px \"Open Sans\",\"Lucida Grande\",\"Arial\",sans-serif;text-align:center;border:1px solid black;border-radius:5px;width:22px;height:80px;margin-right:3px;box-shadow:2px 2px darkgray;display:inline-block;position:relative;user-select:none;-moz-user-select:none;-webkit-user-select:none;-ms-user-select:none;'>\n",
       "        <div style=\"position:absolute;bottom:1px;text-align:center;width:100%;pointer-events:none;\">\n",
       "          <div style=\"font-size:10px;transform:rotate(90deg);position:absolute;left:-6px;bottom:50px;\">55.0</div>\n",
       "A<sub style=\"font-size:10px;pointer-events:none;\">1</sub>        </div>\n",
       "      </div>\n",
       "      <div onmouseover=\"event.target.style.backgroundColor = '#eef';\" onmouseout=\"event.target.style.backgroundColor = '#fff';\" style='cursor:pointer;font:10px \"Open Sans\",\"Lucida Grande\",\"Arial\",sans-serif;text-align:center;border:1px solid black;border-radius:5px;width:22px;height:80px;margin-right:3px;box-shadow:2px 2px darkgray;display:inline-block;position:relative;user-select:none;-moz-user-select:none;-webkit-user-select:none;-ms-user-select:none;'>\n",
       "        <div style=\"position:absolute;bottom:1px;text-align:center;width:100%;pointer-events:none;\">\n",
       "          <div style=\"font-size:10px;transform:rotate(90deg);position:absolute;left:-6px;bottom:50px;\">58.3</div>\n",
       "A#<sub style=\"font-size:10px;pointer-events:none;\">1</sub>        </div>\n",
       "      </div>\n",
       "      <div onmouseover=\"event.target.style.backgroundColor = '#eef';\" onmouseout=\"event.target.style.backgroundColor = '#fff';\" style='cursor:pointer;font:10px \"Open Sans\",\"Lucida Grande\",\"Arial\",sans-serif;text-align:center;border:1px solid black;border-radius:5px;width:22px;height:80px;margin-right:3px;box-shadow:2px 2px darkgray;display:inline-block;position:relative;user-select:none;-moz-user-select:none;-webkit-user-select:none;-ms-user-select:none;'>\n",
       "        <div style=\"position:absolute;bottom:1px;text-align:center;width:100%;pointer-events:none;\">\n",
       "          <div style=\"font-size:10px;transform:rotate(90deg);position:absolute;left:-6px;bottom:50px;\">61.7</div>\n",
       "B<sub style=\"font-size:10px;pointer-events:none;\">1</sub>        </div>\n",
       "      </div>\n",
       "    </div>\n",
       "    <div style=\"display:inline-block;padding:0 6px 0 0;\">\n",
       "      <div onmouseover=\"event.target.style.backgroundColor = '#eef';\" onmouseout=\"event.target.style.backgroundColor = '#fff';\" style='cursor:pointer;font:10px \"Open Sans\",\"Lucida Grande\",\"Arial\",sans-serif;text-align:center;border:1px solid black;border-radius:5px;width:22px;height:80px;margin-right:3px;box-shadow:2px 2px darkgray;display:inline-block;position:relative;user-select:none;-moz-user-select:none;-webkit-user-select:none;-ms-user-select:none;'>\n",
       "        <div style=\"position:absolute;bottom:1px;text-align:center;width:100%;pointer-events:none;\">\n",
       "          <div style=\"font-size:10px;transform:rotate(90deg);position:absolute;left:-6px;bottom:50px;\">65.4</div>\n",
       "C<sub style=\"font-size:10px;pointer-events:none;\">2</sub>        </div>\n",
       "      </div>\n",
       "      <div onmouseover=\"event.target.style.backgroundColor = '#eef';\" onmouseout=\"event.target.style.backgroundColor = '#fff';\" style='cursor:pointer;font:10px \"Open Sans\",\"Lucida Grande\",\"Arial\",sans-serif;text-align:center;border:1px solid black;border-radius:5px;width:22px;height:80px;margin-right:3px;box-shadow:2px 2px darkgray;display:inline-block;position:relative;user-select:none;-moz-user-select:none;-webkit-user-select:none;-ms-user-select:none;'>\n",
       "        <div style=\"position:absolute;bottom:1px;text-align:center;width:100%;pointer-events:none;\">\n",
       "          <div style=\"font-size:10px;transform:rotate(90deg);position:absolute;left:-6px;bottom:50px;\">69.3</div>\n",
       "C#<sub style=\"font-size:10px;pointer-events:none;\">2</sub>        </div>\n",
       "      </div>\n",
       "      <div onmouseover=\"event.target.style.backgroundColor = '#eef';\" onmouseout=\"event.target.style.backgroundColor = '#fff';\" style='cursor:pointer;font:10px \"Open Sans\",\"Lucida Grande\",\"Arial\",sans-serif;text-align:center;border:1px solid black;border-radius:5px;width:22px;height:80px;margin-right:3px;box-shadow:2px 2px darkgray;display:inline-block;position:relative;user-select:none;-moz-user-select:none;-webkit-user-select:none;-ms-user-select:none;'>\n",
       "        <div style=\"position:absolute;bottom:1px;text-align:center;width:100%;pointer-events:none;\">\n",
       "          <div style=\"font-size:10px;transform:rotate(90deg);position:absolute;left:-6px;bottom:50px;\">73.4</div>\n",
       "D<sub style=\"font-size:10px;pointer-events:none;\">2</sub>        </div>\n",
       "      </div>\n",
       "      <div onmouseover=\"event.target.style.backgroundColor = '#eef';\" onmouseout=\"event.target.style.backgroundColor = '#fff';\" style='cursor:pointer;font:10px \"Open Sans\",\"Lucida Grande\",\"Arial\",sans-serif;text-align:center;border:1px solid black;border-radius:5px;width:22px;height:80px;margin-right:3px;box-shadow:2px 2px darkgray;display:inline-block;position:relative;user-select:none;-moz-user-select:none;-webkit-user-select:none;-ms-user-select:none;'>\n",
       "        <div style=\"position:absolute;bottom:1px;text-align:center;width:100%;pointer-events:none;\">\n",
       "          <div style=\"font-size:10px;transform:rotate(90deg);position:absolute;left:-6px;bottom:50px;\">77.8</div>\n",
       "D#<sub style=\"font-size:10px;pointer-events:none;\">2</sub>        </div>\n",
       "      </div>\n",
       "      <div onmouseover=\"event.target.style.backgroundColor = '#eef';\" onmouseout=\"event.target.style.backgroundColor = '#fff';\" style='cursor:pointer;font:10px \"Open Sans\",\"Lucida Grande\",\"Arial\",sans-serif;text-align:center;border:1px solid black;border-radius:5px;width:22px;height:80px;margin-right:3px;box-shadow:2px 2px darkgray;display:inline-block;position:relative;user-select:none;-moz-user-select:none;-webkit-user-select:none;-ms-user-select:none;'>\n",
       "        <div style=\"position:absolute;bottom:1px;text-align:center;width:100%;pointer-events:none;\">\n",
       "          <div style=\"font-size:10px;transform:rotate(90deg);position:absolute;left:-6px;bottom:50px;\">82.4</div>\n",
       "E<sub style=\"font-size:10px;pointer-events:none;\">2</sub>        </div>\n",
       "      </div>\n",
       "      <div onmouseover=\"event.target.style.backgroundColor = '#eef';\" onmouseout=\"event.target.style.backgroundColor = '#fff';\" style='cursor:pointer;font:10px \"Open Sans\",\"Lucida Grande\",\"Arial\",sans-serif;text-align:center;border:1px solid black;border-radius:5px;width:22px;height:80px;margin-right:3px;box-shadow:2px 2px darkgray;display:inline-block;position:relative;user-select:none;-moz-user-select:none;-webkit-user-select:none;-ms-user-select:none;'>\n",
       "        <div style=\"position:absolute;bottom:1px;text-align:center;width:100%;pointer-events:none;\">\n",
       "          <div style=\"font-size:10px;transform:rotate(90deg);position:absolute;left:-6px;bottom:50px;\">87.3</div>\n",
       "F<sub style=\"font-size:10px;pointer-events:none;\">2</sub>        </div>\n",
       "      </div>\n",
       "      <div onmouseover=\"event.target.style.backgroundColor = '#eef';\" onmouseout=\"event.target.style.backgroundColor = '#fff';\" style='cursor:pointer;font:10px \"Open Sans\",\"Lucida Grande\",\"Arial\",sans-serif;text-align:center;border:1px solid black;border-radius:5px;width:22px;height:80px;margin-right:3px;box-shadow:2px 2px darkgray;display:inline-block;position:relative;user-select:none;-moz-user-select:none;-webkit-user-select:none;-ms-user-select:none;'>\n",
       "        <div style=\"position:absolute;bottom:1px;text-align:center;width:100%;pointer-events:none;\">\n",
       "          <div style=\"font-size:10px;transform:rotate(90deg);position:absolute;left:-6px;bottom:50px;\">92.5</div>\n",
       "F#<sub style=\"font-size:10px;pointer-events:none;\">2</sub>        </div>\n",
       "      </div>\n",
       "      <div onmouseover=\"event.target.style.backgroundColor = '#eef';\" onmouseout=\"event.target.style.backgroundColor = '#fff';\" style='cursor:pointer;font:10px \"Open Sans\",\"Lucida Grande\",\"Arial\",sans-serif;text-align:center;border:1px solid black;border-radius:5px;width:22px;height:80px;margin-right:3px;box-shadow:2px 2px darkgray;display:inline-block;position:relative;user-select:none;-moz-user-select:none;-webkit-user-select:none;-ms-user-select:none;'>\n",
       "        <div style=\"position:absolute;bottom:1px;text-align:center;width:100%;pointer-events:none;\">\n",
       "          <div style=\"font-size:10px;transform:rotate(90deg);position:absolute;left:-6px;bottom:50px;\">98.0</div>\n",
       "G<sub style=\"font-size:10px;pointer-events:none;\">2</sub>        </div>\n",
       "      </div>\n",
       "      <div onmouseover=\"event.target.style.backgroundColor = '#eef';\" onmouseout=\"event.target.style.backgroundColor = '#fff';\" style='cursor:pointer;font:10px \"Open Sans\",\"Lucida Grande\",\"Arial\",sans-serif;text-align:center;border:1px solid black;border-radius:5px;width:22px;height:80px;margin-right:3px;box-shadow:2px 2px darkgray;display:inline-block;position:relative;user-select:none;-moz-user-select:none;-webkit-user-select:none;-ms-user-select:none;'>\n",
       "        <div style=\"position:absolute;bottom:1px;text-align:center;width:100%;pointer-events:none;\">\n",
       "          <div style=\"font-size:10px;transform:rotate(90deg);position:absolute;left:-6px;bottom:50px;\">103.8</div>\n",
       "G#<sub style=\"font-size:10px;pointer-events:none;\">2</sub>        </div>\n",
       "      </div>\n",
       "      <div onmouseover=\"event.target.style.backgroundColor = '#eef';\" onmouseout=\"event.target.style.backgroundColor = '#fff';\" style='cursor:pointer;font:10px \"Open Sans\",\"Lucida Grande\",\"Arial\",sans-serif;text-align:center;border:1px solid black;border-radius:5px;width:22px;height:80px;margin-right:3px;box-shadow:2px 2px darkgray;display:inline-block;position:relative;user-select:none;-moz-user-select:none;-webkit-user-select:none;-ms-user-select:none;'>\n",
       "        <div style=\"position:absolute;bottom:1px;text-align:center;width:100%;pointer-events:none;\">\n",
       "          <div style=\"font-size:10px;transform:rotate(90deg);position:absolute;left:-6px;bottom:50px;\">110.0</div>\n",
       "A<sub style=\"font-size:10px;pointer-events:none;\">2</sub>        </div>\n",
       "      </div>\n",
       "      <div onmouseover=\"event.target.style.backgroundColor = '#eef';\" onmouseout=\"event.target.style.backgroundColor = '#fff';\" style='cursor:pointer;font:10px \"Open Sans\",\"Lucida Grande\",\"Arial\",sans-serif;text-align:center;border:1px solid black;border-radius:5px;width:22px;height:80px;margin-right:3px;box-shadow:2px 2px darkgray;display:inline-block;position:relative;user-select:none;-moz-user-select:none;-webkit-user-select:none;-ms-user-select:none;'>\n",
       "        <div style=\"position:absolute;bottom:1px;text-align:center;width:100%;pointer-events:none;\">\n",
       "          <div style=\"font-size:10px;transform:rotate(90deg);position:absolute;left:-6px;bottom:50px;\">116.5</div>\n",
       "A#<sub style=\"font-size:10px;pointer-events:none;\">2</sub>        </div>\n",
       "      </div>\n",
       "      <div onmouseover=\"event.target.style.backgroundColor = '#eef';\" onmouseout=\"event.target.style.backgroundColor = '#fff';\" style='cursor:pointer;font:10px \"Open Sans\",\"Lucida Grande\",\"Arial\",sans-serif;text-align:center;border:1px solid black;border-radius:5px;width:22px;height:80px;margin-right:3px;box-shadow:2px 2px darkgray;display:inline-block;position:relative;user-select:none;-moz-user-select:none;-webkit-user-select:none;-ms-user-select:none;'>\n",
       "        <div style=\"position:absolute;bottom:1px;text-align:center;width:100%;pointer-events:none;\">\n",
       "          <div style=\"font-size:10px;transform:rotate(90deg);position:absolute;left:-6px;bottom:50px;\">123.5</div>\n",
       "B<sub style=\"font-size:10px;pointer-events:none;\">2</sub>        </div>\n",
       "      </div>\n",
       "    </div>\n",
       "    <div style=\"display:inline-block;padding:0 6px 0 0;\">\n",
       "      <div onmouseover=\"event.target.style.backgroundColor = '#eef';\" onmouseout=\"event.target.style.backgroundColor = '#fff';\" style='cursor:pointer;font:10px \"Open Sans\",\"Lucida Grande\",\"Arial\",sans-serif;text-align:center;border:1px solid black;border-radius:5px;width:22px;height:80px;margin-right:3px;box-shadow:2px 2px darkgray;display:inline-block;position:relative;user-select:none;-moz-user-select:none;-webkit-user-select:none;-ms-user-select:none;'>\n",
       "        <div style=\"position:absolute;bottom:1px;text-align:center;width:100%;pointer-events:none;\">\n",
       "          <div style=\"font-size:10px;transform:rotate(90deg);position:absolute;left:-6px;bottom:50px;\">130.8</div>\n",
       "C<sub style=\"font-size:10px;pointer-events:none;\">3</sub>        </div>\n",
       "      </div>\n",
       "      <div onmouseover=\"event.target.style.backgroundColor = '#eef';\" onmouseout=\"event.target.style.backgroundColor = '#fff';\" style='cursor:pointer;font:10px \"Open Sans\",\"Lucida Grande\",\"Arial\",sans-serif;text-align:center;border:1px solid black;border-radius:5px;width:22px;height:80px;margin-right:3px;box-shadow:2px 2px darkgray;display:inline-block;position:relative;user-select:none;-moz-user-select:none;-webkit-user-select:none;-ms-user-select:none;'>\n",
       "        <div style=\"position:absolute;bottom:1px;text-align:center;width:100%;pointer-events:none;\">\n",
       "          <div style=\"font-size:10px;transform:rotate(90deg);position:absolute;left:-6px;bottom:50px;\">138.6</div>\n",
       "C#<sub style=\"font-size:10px;pointer-events:none;\">3</sub>        </div>\n",
       "      </div>\n",
       "      <div onmouseover=\"event.target.style.backgroundColor = '#eef';\" onmouseout=\"event.target.style.backgroundColor = '#fff';\" style='cursor:pointer;font:10px \"Open Sans\",\"Lucida Grande\",\"Arial\",sans-serif;text-align:center;border:1px solid black;border-radius:5px;width:22px;height:80px;margin-right:3px;box-shadow:2px 2px darkgray;display:inline-block;position:relative;user-select:none;-moz-user-select:none;-webkit-user-select:none;-ms-user-select:none;'>\n",
       "        <div style=\"position:absolute;bottom:1px;text-align:center;width:100%;pointer-events:none;\">\n",
       "          <div style=\"font-size:10px;transform:rotate(90deg);position:absolute;left:-6px;bottom:50px;\">146.8</div>\n",
       "D<sub style=\"font-size:10px;pointer-events:none;\">3</sub>        </div>\n",
       "      </div>\n",
       "      <div onmouseover=\"event.target.style.backgroundColor = '#eef';\" onmouseout=\"event.target.style.backgroundColor = '#fff';\" style='cursor:pointer;font:10px \"Open Sans\",\"Lucida Grande\",\"Arial\",sans-serif;text-align:center;border:1px solid black;border-radius:5px;width:22px;height:80px;margin-right:3px;box-shadow:2px 2px darkgray;display:inline-block;position:relative;user-select:none;-moz-user-select:none;-webkit-user-select:none;-ms-user-select:none;'>\n",
       "        <div style=\"position:absolute;bottom:1px;text-align:center;width:100%;pointer-events:none;\">\n",
       "          <div style=\"font-size:10px;transform:rotate(90deg);position:absolute;left:-6px;bottom:50px;\">155.6</div>\n",
       "D#<sub style=\"font-size:10px;pointer-events:none;\">3</sub>        </div>\n",
       "      </div>\n",
       "      <div onmouseover=\"event.target.style.backgroundColor = '#eef';\" onmouseout=\"event.target.style.backgroundColor = '#fff';\" style='cursor:pointer;font:10px \"Open Sans\",\"Lucida Grande\",\"Arial\",sans-serif;text-align:center;border:1px solid black;border-radius:5px;width:22px;height:80px;margin-right:3px;box-shadow:2px 2px darkgray;display:inline-block;position:relative;user-select:none;-moz-user-select:none;-webkit-user-select:none;-ms-user-select:none;'>\n",
       "        <div style=\"position:absolute;bottom:1px;text-align:center;width:100%;pointer-events:none;\">\n",
       "          <div style=\"font-size:10px;transform:rotate(90deg);position:absolute;left:-6px;bottom:50px;\">164.8</div>\n",
       "E<sub style=\"font-size:10px;pointer-events:none;\">3</sub>        </div>\n",
       "      </div>\n",
       "      <div onmouseover=\"event.target.style.backgroundColor = '#eef';\" onmouseout=\"event.target.style.backgroundColor = '#fff';\" style='cursor:pointer;font:10px \"Open Sans\",\"Lucida Grande\",\"Arial\",sans-serif;text-align:center;border:1px solid black;border-radius:5px;width:22px;height:80px;margin-right:3px;box-shadow:2px 2px darkgray;display:inline-block;position:relative;user-select:none;-moz-user-select:none;-webkit-user-select:none;-ms-user-select:none;'>\n",
       "        <div style=\"position:absolute;bottom:1px;text-align:center;width:100%;pointer-events:none;\">\n",
       "          <div style=\"font-size:10px;transform:rotate(90deg);position:absolute;left:-6px;bottom:50px;\">174.6</div>\n",
       "F<sub style=\"font-size:10px;pointer-events:none;\">3</sub>        </div>\n",
       "      </div>\n",
       "      <div onmouseover=\"event.target.style.backgroundColor = '#eef';\" onmouseout=\"event.target.style.backgroundColor = '#fff';\" style='cursor:pointer;font:10px \"Open Sans\",\"Lucida Grande\",\"Arial\",sans-serif;text-align:center;border:1px solid black;border-radius:5px;width:22px;height:80px;margin-right:3px;box-shadow:2px 2px darkgray;display:inline-block;position:relative;user-select:none;-moz-user-select:none;-webkit-user-select:none;-ms-user-select:none;'>\n",
       "        <div style=\"position:absolute;bottom:1px;text-align:center;width:100%;pointer-events:none;\">\n",
       "          <div style=\"font-size:10px;transform:rotate(90deg);position:absolute;left:-6px;bottom:50px;\">185.0</div>\n",
       "F#<sub style=\"font-size:10px;pointer-events:none;\">3</sub>        </div>\n",
       "      </div>\n",
       "      <div onmouseover=\"event.target.style.backgroundColor = '#eef';\" onmouseout=\"event.target.style.backgroundColor = '#fff';\" style='cursor:pointer;font:10px \"Open Sans\",\"Lucida Grande\",\"Arial\",sans-serif;text-align:center;border:1px solid black;border-radius:5px;width:22px;height:80px;margin-right:3px;box-shadow:2px 2px darkgray;display:inline-block;position:relative;user-select:none;-moz-user-select:none;-webkit-user-select:none;-ms-user-select:none;'>\n",
       "        <div style=\"position:absolute;bottom:1px;text-align:center;width:100%;pointer-events:none;\">\n",
       "          <div style=\"font-size:10px;transform:rotate(90deg);position:absolute;left:-6px;bottom:50px;\">196.0</div>\n",
       "G<sub style=\"font-size:10px;pointer-events:none;\">3</sub>        </div>\n",
       "      </div>\n",
       "      <div onmouseover=\"event.target.style.backgroundColor = '#eef';\" onmouseout=\"event.target.style.backgroundColor = '#fff';\" style='cursor:pointer;font:10px \"Open Sans\",\"Lucida Grande\",\"Arial\",sans-serif;text-align:center;border:1px solid black;border-radius:5px;width:22px;height:80px;margin-right:3px;box-shadow:2px 2px darkgray;display:inline-block;position:relative;user-select:none;-moz-user-select:none;-webkit-user-select:none;-ms-user-select:none;'>\n",
       "        <div style=\"position:absolute;bottom:1px;text-align:center;width:100%;pointer-events:none;\">\n",
       "          <div style=\"font-size:10px;transform:rotate(90deg);position:absolute;left:-6px;bottom:50px;\">207.7</div>\n",
       "G#<sub style=\"font-size:10px;pointer-events:none;\">3</sub>        </div>\n",
       "      </div>\n",
       "      <div onmouseover=\"event.target.style.backgroundColor = '#eef';\" onmouseout=\"event.target.style.backgroundColor = '#fff';\" style='cursor:pointer;font:10px \"Open Sans\",\"Lucida Grande\",\"Arial\",sans-serif;text-align:center;border:1px solid black;border-radius:5px;width:22px;height:80px;margin-right:3px;box-shadow:2px 2px darkgray;display:inline-block;position:relative;user-select:none;-moz-user-select:none;-webkit-user-select:none;-ms-user-select:none;'>\n",
       "        <div style=\"position:absolute;bottom:1px;text-align:center;width:100%;pointer-events:none;\">\n",
       "          <div style=\"font-size:10px;transform:rotate(90deg);position:absolute;left:-6px;bottom:50px;\">220.0</div>\n",
       "A<sub style=\"font-size:10px;pointer-events:none;\">3</sub>        </div>\n",
       "      </div>\n",
       "      <div onmouseover=\"event.target.style.backgroundColor = '#eef';\" onmouseout=\"event.target.style.backgroundColor = '#fff';\" style='cursor:pointer;font:10px \"Open Sans\",\"Lucida Grande\",\"Arial\",sans-serif;text-align:center;border:1px solid black;border-radius:5px;width:22px;height:80px;margin-right:3px;box-shadow:2px 2px darkgray;display:inline-block;position:relative;user-select:none;-moz-user-select:none;-webkit-user-select:none;-ms-user-select:none;'>\n",
       "        <div style=\"position:absolute;bottom:1px;text-align:center;width:100%;pointer-events:none;\">\n",
       "          <div style=\"font-size:10px;transform:rotate(90deg);position:absolute;left:-6px;bottom:50px;\">233.1</div>\n",
       "A#<sub style=\"font-size:10px;pointer-events:none;\">3</sub>        </div>\n",
       "      </div>\n",
       "      <div onmouseover=\"event.target.style.backgroundColor = '#eef';\" onmouseout=\"event.target.style.backgroundColor = '#fff';\" style='cursor:pointer;font:10px \"Open Sans\",\"Lucida Grande\",\"Arial\",sans-serif;text-align:center;border:1px solid black;border-radius:5px;width:22px;height:80px;margin-right:3px;box-shadow:2px 2px darkgray;display:inline-block;position:relative;user-select:none;-moz-user-select:none;-webkit-user-select:none;-ms-user-select:none;'>\n",
       "        <div style=\"position:absolute;bottom:1px;text-align:center;width:100%;pointer-events:none;\">\n",
       "          <div style=\"font-size:10px;transform:rotate(90deg);position:absolute;left:-6px;bottom:50px;\">246.9</div>\n",
       "B<sub style=\"font-size:10px;pointer-events:none;\">3</sub>        </div>\n",
       "      </div>\n",
       "    </div>\n",
       "    <div style=\"display:inline-block;padding:0 6px 0 0;\">\n",
       "      <div onmouseover=\"event.target.style.backgroundColor = '#eef';\" onmouseout=\"event.target.style.backgroundColor = '#fff';\" style='cursor:pointer;font:10px \"Open Sans\",\"Lucida Grande\",\"Arial\",sans-serif;text-align:center;border:1px solid black;border-radius:5px;width:22px;height:80px;margin-right:3px;box-shadow:2px 2px darkgray;display:inline-block;position:relative;user-select:none;-moz-user-select:none;-webkit-user-select:none;-ms-user-select:none;'>\n",
       "        <div style=\"position:absolute;bottom:1px;text-align:center;width:100%;pointer-events:none;\">\n",
       "          <div style=\"font-size:10px;transform:rotate(90deg);position:absolute;left:-6px;bottom:50px;\">261.6</div>\n",
       "C<sub style=\"font-size:10px;pointer-events:none;\">4</sub>        </div>\n",
       "      </div>\n",
       "      <div onmouseover=\"event.target.style.backgroundColor = '#eef';\" onmouseout=\"event.target.style.backgroundColor = '#fff';\" style='cursor:pointer;font:10px \"Open Sans\",\"Lucida Grande\",\"Arial\",sans-serif;text-align:center;border:1px solid black;border-radius:5px;width:22px;height:80px;margin-right:3px;box-shadow:2px 2px darkgray;display:inline-block;position:relative;user-select:none;-moz-user-select:none;-webkit-user-select:none;-ms-user-select:none;'>\n",
       "        <div style=\"position:absolute;bottom:1px;text-align:center;width:100%;pointer-events:none;\">\n",
       "          <div style=\"font-size:10px;transform:rotate(90deg);position:absolute;left:-6px;bottom:50px;\">277.2</div>\n",
       "C#<sub style=\"font-size:10px;pointer-events:none;\">4</sub>        </div>\n",
       "      </div>\n",
       "      <div onmouseover=\"event.target.style.backgroundColor = '#eef';\" onmouseout=\"event.target.style.backgroundColor = '#fff';\" style='cursor:pointer;font:10px \"Open Sans\",\"Lucida Grande\",\"Arial\",sans-serif;text-align:center;border:1px solid black;border-radius:5px;width:22px;height:80px;margin-right:3px;box-shadow:2px 2px darkgray;display:inline-block;position:relative;user-select:none;-moz-user-select:none;-webkit-user-select:none;-ms-user-select:none;'>\n",
       "        <div style=\"position:absolute;bottom:1px;text-align:center;width:100%;pointer-events:none;\">\n",
       "          <div style=\"font-size:10px;transform:rotate(90deg);position:absolute;left:-6px;bottom:50px;\">293.7</div>\n",
       "D<sub style=\"font-size:10px;pointer-events:none;\">4</sub>        </div>\n",
       "      </div>\n",
       "      <div onmouseover=\"event.target.style.backgroundColor = '#eef';\" onmouseout=\"event.target.style.backgroundColor = '#fff';\" style='cursor:pointer;font:10px \"Open Sans\",\"Lucida Grande\",\"Arial\",sans-serif;text-align:center;border:1px solid black;border-radius:5px;width:22px;height:80px;margin-right:3px;box-shadow:2px 2px darkgray;display:inline-block;position:relative;user-select:none;-moz-user-select:none;-webkit-user-select:none;-ms-user-select:none;'>\n",
       "        <div style=\"position:absolute;bottom:1px;text-align:center;width:100%;pointer-events:none;\">\n",
       "          <div style=\"font-size:10px;transform:rotate(90deg);position:absolute;left:-6px;bottom:50px;\">311.1</div>\n",
       "D#<sub style=\"font-size:10px;pointer-events:none;\">4</sub>        </div>\n",
       "      </div>\n",
       "      <div onmouseover=\"event.target.style.backgroundColor = '#eef';\" onmouseout=\"event.target.style.backgroundColor = '#fff';\" style='cursor:pointer;font:10px \"Open Sans\",\"Lucida Grande\",\"Arial\",sans-serif;text-align:center;border:1px solid black;border-radius:5px;width:22px;height:80px;margin-right:3px;box-shadow:2px 2px darkgray;display:inline-block;position:relative;user-select:none;-moz-user-select:none;-webkit-user-select:none;-ms-user-select:none;'>\n",
       "        <div style=\"position:absolute;bottom:1px;text-align:center;width:100%;pointer-events:none;\">\n",
       "          <div style=\"font-size:10px;transform:rotate(90deg);position:absolute;left:-6px;bottom:50px;\">329.6</div>\n",
       "E<sub style=\"font-size:10px;pointer-events:none;\">4</sub>        </div>\n",
       "      </div>\n",
       "      <div onmouseover=\"event.target.style.backgroundColor = '#eef';\" onmouseout=\"event.target.style.backgroundColor = '#fff';\" style='cursor:pointer;font:10px \"Open Sans\",\"Lucida Grande\",\"Arial\",sans-serif;text-align:center;border:1px solid black;border-radius:5px;width:22px;height:80px;margin-right:3px;box-shadow:2px 2px darkgray;display:inline-block;position:relative;user-select:none;-moz-user-select:none;-webkit-user-select:none;-ms-user-select:none;'>\n",
       "        <div style=\"position:absolute;bottom:1px;text-align:center;width:100%;pointer-events:none;\">\n",
       "          <div style=\"font-size:10px;transform:rotate(90deg);position:absolute;left:-6px;bottom:50px;\">349.2</div>\n",
       "F<sub style=\"font-size:10px;pointer-events:none;\">4</sub>        </div>\n",
       "      </div>\n",
       "      <div onmouseover=\"event.target.style.backgroundColor = '#eef';\" onmouseout=\"event.target.style.backgroundColor = '#fff';\" style='cursor:pointer;font:10px \"Open Sans\",\"Lucida Grande\",\"Arial\",sans-serif;text-align:center;border:1px solid black;border-radius:5px;width:22px;height:80px;margin-right:3px;box-shadow:2px 2px darkgray;display:inline-block;position:relative;user-select:none;-moz-user-select:none;-webkit-user-select:none;-ms-user-select:none;'>\n",
       "        <div style=\"position:absolute;bottom:1px;text-align:center;width:100%;pointer-events:none;\">\n",
       "          <div style=\"font-size:10px;transform:rotate(90deg);position:absolute;left:-6px;bottom:50px;\">370.0</div>\n",
       "F#<sub style=\"font-size:10px;pointer-events:none;\">4</sub>        </div>\n",
       "      </div>\n",
       "      <div onmouseover=\"event.target.style.backgroundColor = '#eef';\" onmouseout=\"event.target.style.backgroundColor = '#fff';\" style='cursor:pointer;font:10px \"Open Sans\",\"Lucida Grande\",\"Arial\",sans-serif;text-align:center;border:1px solid black;border-radius:5px;width:22px;height:80px;margin-right:3px;box-shadow:2px 2px darkgray;display:inline-block;position:relative;user-select:none;-moz-user-select:none;-webkit-user-select:none;-ms-user-select:none;'>\n",
       "        <div style=\"position:absolute;bottom:1px;text-align:center;width:100%;pointer-events:none;\">\n",
       "          <div style=\"font-size:10px;transform:rotate(90deg);position:absolute;left:-6px;bottom:50px;\">392.0</div>\n",
       "G<sub style=\"font-size:10px;pointer-events:none;\">4</sub>        </div>\n",
       "      </div>\n",
       "      <div onmouseover=\"event.target.style.backgroundColor = '#eef';\" onmouseout=\"event.target.style.backgroundColor = '#fff';\" style='cursor:pointer;font:10px \"Open Sans\",\"Lucida Grande\",\"Arial\",sans-serif;text-align:center;border:1px solid black;border-radius:5px;width:22px;height:80px;margin-right:3px;box-shadow:2px 2px darkgray;display:inline-block;position:relative;user-select:none;-moz-user-select:none;-webkit-user-select:none;-ms-user-select:none;'>\n",
       "        <div style=\"position:absolute;bottom:1px;text-align:center;width:100%;pointer-events:none;\">\n",
       "          <div style=\"font-size:10px;transform:rotate(90deg);position:absolute;left:-6px;bottom:50px;\">415.3</div>\n",
       "G#<sub style=\"font-size:10px;pointer-events:none;\">4</sub>        </div>\n",
       "      </div>\n",
       "      <div onmouseover=\"event.target.style.backgroundColor = '#eef';\" onmouseout=\"event.target.style.backgroundColor = '#fff';\" style='cursor:pointer;font:10px \"Open Sans\",\"Lucida Grande\",\"Arial\",sans-serif;text-align:center;border:1px solid black;border-radius:5px;width:22px;height:80px;margin-right:3px;box-shadow:2px 2px darkgray;display:inline-block;position:relative;user-select:none;-moz-user-select:none;-webkit-user-select:none;-ms-user-select:none;'>\n",
       "        <div style=\"position:absolute;bottom:1px;text-align:center;width:100%;pointer-events:none;\">\n",
       "          <div style=\"font-size:10px;transform:rotate(90deg);position:absolute;left:-6px;bottom:50px;\">440.0</div>\n",
       "A<sub style=\"font-size:10px;pointer-events:none;\">4</sub>        </div>\n",
       "      </div>\n",
       "      <div onmouseover=\"event.target.style.backgroundColor = '#eef';\" onmouseout=\"event.target.style.backgroundColor = '#fff';\" style='cursor:pointer;font:10px \"Open Sans\",\"Lucida Grande\",\"Arial\",sans-serif;text-align:center;border:1px solid black;border-radius:5px;width:22px;height:80px;margin-right:3px;box-shadow:2px 2px darkgray;display:inline-block;position:relative;user-select:none;-moz-user-select:none;-webkit-user-select:none;-ms-user-select:none;'>\n",
       "        <div style=\"position:absolute;bottom:1px;text-align:center;width:100%;pointer-events:none;\">\n",
       "          <div style=\"font-size:10px;transform:rotate(90deg);position:absolute;left:-6px;bottom:50px;\">466.2</div>\n",
       "A#<sub style=\"font-size:10px;pointer-events:none;\">4</sub>        </div>\n",
       "      </div>\n",
       "      <div onmouseover=\"event.target.style.backgroundColor = '#eef';\" onmouseout=\"event.target.style.backgroundColor = '#fff';\" style='cursor:pointer;font:10px \"Open Sans\",\"Lucida Grande\",\"Arial\",sans-serif;text-align:center;border:1px solid black;border-radius:5px;width:22px;height:80px;margin-right:3px;box-shadow:2px 2px darkgray;display:inline-block;position:relative;user-select:none;-moz-user-select:none;-webkit-user-select:none;-ms-user-select:none;'>\n",
       "        <div style=\"position:absolute;bottom:1px;text-align:center;width:100%;pointer-events:none;\">\n",
       "          <div style=\"font-size:10px;transform:rotate(90deg);position:absolute;left:-6px;bottom:50px;\">493.9</div>\n",
       "B<sub style=\"font-size:10px;pointer-events:none;\">4</sub>        </div>\n",
       "      </div>\n",
       "    </div>\n",
       "    <div style=\"display:inline-block;padding:0 6px 0 0;\">\n",
       "      <div onmouseover=\"event.target.style.backgroundColor = '#eef';\" onmouseout=\"event.target.style.backgroundColor = '#fff';\" style='cursor:pointer;font:10px \"Open Sans\",\"Lucida Grande\",\"Arial\",sans-serif;text-align:center;border:1px solid black;border-radius:5px;width:22px;height:80px;margin-right:3px;box-shadow:2px 2px darkgray;display:inline-block;position:relative;user-select:none;-moz-user-select:none;-webkit-user-select:none;-ms-user-select:none;'>\n",
       "        <div style=\"position:absolute;bottom:1px;text-align:center;width:100%;pointer-events:none;\">\n",
       "          <div style=\"font-size:10px;transform:rotate(90deg);position:absolute;left:-6px;bottom:50px;\">523.3</div>\n",
       "C<sub style=\"font-size:10px;pointer-events:none;\">5</sub>        </div>\n",
       "      </div>\n",
       "      <div onmouseover=\"event.target.style.backgroundColor = '#eef';\" onmouseout=\"event.target.style.backgroundColor = '#fff';\" style='cursor:pointer;font:10px \"Open Sans\",\"Lucida Grande\",\"Arial\",sans-serif;text-align:center;border:1px solid black;border-radius:5px;width:22px;height:80px;margin-right:3px;box-shadow:2px 2px darkgray;display:inline-block;position:relative;user-select:none;-moz-user-select:none;-webkit-user-select:none;-ms-user-select:none;'>\n",
       "        <div style=\"position:absolute;bottom:1px;text-align:center;width:100%;pointer-events:none;\">\n",
       "          <div style=\"font-size:10px;transform:rotate(90deg);position:absolute;left:-6px;bottom:50px;\">554.4</div>\n",
       "C#<sub style=\"font-size:10px;pointer-events:none;\">5</sub>        </div>\n",
       "      </div>\n",
       "      <div onmouseover=\"event.target.style.backgroundColor = '#eef';\" onmouseout=\"event.target.style.backgroundColor = '#fff';\" style='cursor:pointer;font:10px \"Open Sans\",\"Lucida Grande\",\"Arial\",sans-serif;text-align:center;border:1px solid black;border-radius:5px;width:22px;height:80px;margin-right:3px;box-shadow:2px 2px darkgray;display:inline-block;position:relative;user-select:none;-moz-user-select:none;-webkit-user-select:none;-ms-user-select:none;'>\n",
       "        <div style=\"position:absolute;bottom:1px;text-align:center;width:100%;pointer-events:none;\">\n",
       "          <div style=\"font-size:10px;transform:rotate(90deg);position:absolute;left:-6px;bottom:50px;\">587.3</div>\n",
       "D<sub style=\"font-size:10px;pointer-events:none;\">5</sub>        </div>\n",
       "      </div>\n",
       "      <div onmouseover=\"event.target.style.backgroundColor = '#eef';\" onmouseout=\"event.target.style.backgroundColor = '#fff';\" style='cursor:pointer;font:10px \"Open Sans\",\"Lucida Grande\",\"Arial\",sans-serif;text-align:center;border:1px solid black;border-radius:5px;width:22px;height:80px;margin-right:3px;box-shadow:2px 2px darkgray;display:inline-block;position:relative;user-select:none;-moz-user-select:none;-webkit-user-select:none;-ms-user-select:none;'>\n",
       "        <div style=\"position:absolute;bottom:1px;text-align:center;width:100%;pointer-events:none;\">\n",
       "          <div style=\"font-size:10px;transform:rotate(90deg);position:absolute;left:-6px;bottom:50px;\">622.3</div>\n",
       "D#<sub style=\"font-size:10px;pointer-events:none;\">5</sub>        </div>\n",
       "      </div>\n",
       "      <div onmouseover=\"event.target.style.backgroundColor = '#eef';\" onmouseout=\"event.target.style.backgroundColor = '#fff';\" style='cursor:pointer;font:10px \"Open Sans\",\"Lucida Grande\",\"Arial\",sans-serif;text-align:center;border:1px solid black;border-radius:5px;width:22px;height:80px;margin-right:3px;box-shadow:2px 2px darkgray;display:inline-block;position:relative;user-select:none;-moz-user-select:none;-webkit-user-select:none;-ms-user-select:none;'>\n",
       "        <div style=\"position:absolute;bottom:1px;text-align:center;width:100%;pointer-events:none;\">\n",
       "          <div style=\"font-size:10px;transform:rotate(90deg);position:absolute;left:-6px;bottom:50px;\">659.3</div>\n",
       "E<sub style=\"font-size:10px;pointer-events:none;\">5</sub>        </div>\n",
       "      </div>\n",
       "      <div onmouseover=\"event.target.style.backgroundColor = '#eef';\" onmouseout=\"event.target.style.backgroundColor = '#fff';\" style='cursor:pointer;font:10px \"Open Sans\",\"Lucida Grande\",\"Arial\",sans-serif;text-align:center;border:1px solid black;border-radius:5px;width:22px;height:80px;margin-right:3px;box-shadow:2px 2px darkgray;display:inline-block;position:relative;user-select:none;-moz-user-select:none;-webkit-user-select:none;-ms-user-select:none;'>\n",
       "        <div style=\"position:absolute;bottom:1px;text-align:center;width:100%;pointer-events:none;\">\n",
       "          <div style=\"font-size:10px;transform:rotate(90deg);position:absolute;left:-6px;bottom:50px;\">698.5</div>\n",
       "F<sub style=\"font-size:10px;pointer-events:none;\">5</sub>        </div>\n",
       "      </div>\n",
       "      <div onmouseover=\"event.target.style.backgroundColor = '#eef';\" onmouseout=\"event.target.style.backgroundColor = '#fff';\" style='cursor:pointer;font:10px \"Open Sans\",\"Lucida Grande\",\"Arial\",sans-serif;text-align:center;border:1px solid black;border-radius:5px;width:22px;height:80px;margin-right:3px;box-shadow:2px 2px darkgray;display:inline-block;position:relative;user-select:none;-moz-user-select:none;-webkit-user-select:none;-ms-user-select:none;'>\n",
       "        <div style=\"position:absolute;bottom:1px;text-align:center;width:100%;pointer-events:none;\">\n",
       "          <div style=\"font-size:10px;transform:rotate(90deg);position:absolute;left:-6px;bottom:50px;\">740.0</div>\n",
       "F#<sub style=\"font-size:10px;pointer-events:none;\">5</sub>        </div>\n",
       "      </div>\n",
       "      <div onmouseover=\"event.target.style.backgroundColor = '#eef';\" onmouseout=\"event.target.style.backgroundColor = '#fff';\" style='cursor:pointer;font:10px \"Open Sans\",\"Lucida Grande\",\"Arial\",sans-serif;text-align:center;border:1px solid black;border-radius:5px;width:22px;height:80px;margin-right:3px;box-shadow:2px 2px darkgray;display:inline-block;position:relative;user-select:none;-moz-user-select:none;-webkit-user-select:none;-ms-user-select:none;'>\n",
       "        <div style=\"position:absolute;bottom:1px;text-align:center;width:100%;pointer-events:none;\">\n",
       "          <div style=\"font-size:10px;transform:rotate(90deg);position:absolute;left:-6px;bottom:50px;\">784.0</div>\n",
       "G<sub style=\"font-size:10px;pointer-events:none;\">5</sub>        </div>\n",
       "      </div>\n",
       "      <div onmouseover=\"event.target.style.backgroundColor = '#eef';\" onmouseout=\"event.target.style.backgroundColor = '#fff';\" style='cursor:pointer;font:10px \"Open Sans\",\"Lucida Grande\",\"Arial\",sans-serif;text-align:center;border:1px solid black;border-radius:5px;width:22px;height:80px;margin-right:3px;box-shadow:2px 2px darkgray;display:inline-block;position:relative;user-select:none;-moz-user-select:none;-webkit-user-select:none;-ms-user-select:none;'>\n",
       "        <div style=\"position:absolute;bottom:1px;text-align:center;width:100%;pointer-events:none;\">\n",
       "          <div style=\"font-size:10px;transform:rotate(90deg);position:absolute;left:-6px;bottom:50px;\">830.6</div>\n",
       "G#<sub style=\"font-size:10px;pointer-events:none;\">5</sub>        </div>\n",
       "      </div>\n",
       "      <div onmouseover=\"event.target.style.backgroundColor = '#eef';\" onmouseout=\"event.target.style.backgroundColor = '#fff';\" style='cursor:pointer;font:10px \"Open Sans\",\"Lucida Grande\",\"Arial\",sans-serif;text-align:center;border:1px solid black;border-radius:5px;width:22px;height:80px;margin-right:3px;box-shadow:2px 2px darkgray;display:inline-block;position:relative;user-select:none;-moz-user-select:none;-webkit-user-select:none;-ms-user-select:none;'>\n",
       "        <div style=\"position:absolute;bottom:1px;text-align:center;width:100%;pointer-events:none;\">\n",
       "          <div style=\"font-size:10px;transform:rotate(90deg);position:absolute;left:-6px;bottom:50px;\">880.0</div>\n",
       "A<sub style=\"font-size:10px;pointer-events:none;\">5</sub>        </div>\n",
       "      </div>\n",
       "      <div onmouseover=\"event.target.style.backgroundColor = '#eef';\" onmouseout=\"event.target.style.backgroundColor = '#fff';\" style='cursor:pointer;font:10px \"Open Sans\",\"Lucida Grande\",\"Arial\",sans-serif;text-align:center;border:1px solid black;border-radius:5px;width:22px;height:80px;margin-right:3px;box-shadow:2px 2px darkgray;display:inline-block;position:relative;user-select:none;-moz-user-select:none;-webkit-user-select:none;-ms-user-select:none;'>\n",
       "        <div style=\"position:absolute;bottom:1px;text-align:center;width:100%;pointer-events:none;\">\n",
       "          <div style=\"font-size:10px;transform:rotate(90deg);position:absolute;left:-6px;bottom:50px;\">932.3</div>\n",
       "A#<sub style=\"font-size:10px;pointer-events:none;\">5</sub>        </div>\n",
       "      </div>\n",
       "      <div onmouseover=\"event.target.style.backgroundColor = '#eef';\" onmouseout=\"event.target.style.backgroundColor = '#fff';\" style='cursor:pointer;font:10px \"Open Sans\",\"Lucida Grande\",\"Arial\",sans-serif;text-align:center;border:1px solid black;border-radius:5px;width:22px;height:80px;margin-right:3px;box-shadow:2px 2px darkgray;display:inline-block;position:relative;user-select:none;-moz-user-select:none;-webkit-user-select:none;-ms-user-select:none;'>\n",
       "        <div style=\"position:absolute;bottom:1px;text-align:center;width:100%;pointer-events:none;\">\n",
       "          <div style=\"font-size:10px;transform:rotate(90deg);position:absolute;left:-6px;bottom:50px;\">987.8</div>\n",
       "B<sub style=\"font-size:10px;pointer-events:none;\">5</sub>        </div>\n",
       "      </div>\n",
       "    </div>\n",
       "    <div style=\"display:inline-block;padding:0 6px 0 0;\">\n",
       "      <div onmouseover=\"event.target.style.backgroundColor = '#eef';\" onmouseout=\"event.target.style.backgroundColor = '#fff';\" style='cursor:pointer;font:10px \"Open Sans\",\"Lucida Grande\",\"Arial\",sans-serif;text-align:center;border:1px solid black;border-radius:5px;width:22px;height:80px;margin-right:3px;box-shadow:2px 2px darkgray;display:inline-block;position:relative;user-select:none;-moz-user-select:none;-webkit-user-select:none;-ms-user-select:none;'>\n",
       "        <div style=\"position:absolute;bottom:1px;text-align:center;width:100%;pointer-events:none;\">\n",
       "          <div style=\"font-size:10px;transform:rotate(90deg);position:absolute;left:-6px;bottom:50px;\">1046.5</div>\n",
       "C<sub style=\"font-size:10px;pointer-events:none;\">6</sub>        </div>\n",
       "      </div>\n",
       "      <div onmouseover=\"event.target.style.backgroundColor = '#eef';\" onmouseout=\"event.target.style.backgroundColor = '#fff';\" style='cursor:pointer;font:10px \"Open Sans\",\"Lucida Grande\",\"Arial\",sans-serif;text-align:center;border:1px solid black;border-radius:5px;width:22px;height:80px;margin-right:3px;box-shadow:2px 2px darkgray;display:inline-block;position:relative;user-select:none;-moz-user-select:none;-webkit-user-select:none;-ms-user-select:none;'>\n",
       "        <div style=\"position:absolute;bottom:1px;text-align:center;width:100%;pointer-events:none;\">\n",
       "          <div style=\"font-size:10px;transform:rotate(90deg);position:absolute;left:-6px;bottom:50px;\">1108.7</div>\n",
       "C#<sub style=\"font-size:10px;pointer-events:none;\">6</sub>        </div>\n",
       "      </div>\n",
       "      <div onmouseover=\"event.target.style.backgroundColor = '#eef';\" onmouseout=\"event.target.style.backgroundColor = '#fff';\" style='cursor:pointer;font:10px \"Open Sans\",\"Lucida Grande\",\"Arial\",sans-serif;text-align:center;border:1px solid black;border-radius:5px;width:22px;height:80px;margin-right:3px;box-shadow:2px 2px darkgray;display:inline-block;position:relative;user-select:none;-moz-user-select:none;-webkit-user-select:none;-ms-user-select:none;'>\n",
       "        <div style=\"position:absolute;bottom:1px;text-align:center;width:100%;pointer-events:none;\">\n",
       "          <div style=\"font-size:10px;transform:rotate(90deg);position:absolute;left:-6px;bottom:50px;\">1174.7</div>\n",
       "D<sub style=\"font-size:10px;pointer-events:none;\">6</sub>        </div>\n",
       "      </div>\n",
       "      <div onmouseover=\"event.target.style.backgroundColor = '#eef';\" onmouseout=\"event.target.style.backgroundColor = '#fff';\" style='cursor:pointer;font:10px \"Open Sans\",\"Lucida Grande\",\"Arial\",sans-serif;text-align:center;border:1px solid black;border-radius:5px;width:22px;height:80px;margin-right:3px;box-shadow:2px 2px darkgray;display:inline-block;position:relative;user-select:none;-moz-user-select:none;-webkit-user-select:none;-ms-user-select:none;'>\n",
       "        <div style=\"position:absolute;bottom:1px;text-align:center;width:100%;pointer-events:none;\">\n",
       "          <div style=\"font-size:10px;transform:rotate(90deg);position:absolute;left:-6px;bottom:50px;\">1244.5</div>\n",
       "D#<sub style=\"font-size:10px;pointer-events:none;\">6</sub>        </div>\n",
       "      </div>\n",
       "      <div onmouseover=\"event.target.style.backgroundColor = '#eef';\" onmouseout=\"event.target.style.backgroundColor = '#fff';\" style='cursor:pointer;font:10px \"Open Sans\",\"Lucida Grande\",\"Arial\",sans-serif;text-align:center;border:1px solid black;border-radius:5px;width:22px;height:80px;margin-right:3px;box-shadow:2px 2px darkgray;display:inline-block;position:relative;user-select:none;-moz-user-select:none;-webkit-user-select:none;-ms-user-select:none;'>\n",
       "        <div style=\"position:absolute;bottom:1px;text-align:center;width:100%;pointer-events:none;\">\n",
       "          <div style=\"font-size:10px;transform:rotate(90deg);position:absolute;left:-6px;bottom:50px;\">1318.5</div>\n",
       "E<sub style=\"font-size:10px;pointer-events:none;\">6</sub>        </div>\n",
       "      </div>\n",
       "      <div onmouseover=\"event.target.style.backgroundColor = '#eef';\" onmouseout=\"event.target.style.backgroundColor = '#fff';\" style='cursor:pointer;font:10px \"Open Sans\",\"Lucida Grande\",\"Arial\",sans-serif;text-align:center;border:1px solid black;border-radius:5px;width:22px;height:80px;margin-right:3px;box-shadow:2px 2px darkgray;display:inline-block;position:relative;user-select:none;-moz-user-select:none;-webkit-user-select:none;-ms-user-select:none;'>\n",
       "        <div style=\"position:absolute;bottom:1px;text-align:center;width:100%;pointer-events:none;\">\n",
       "          <div style=\"font-size:10px;transform:rotate(90deg);position:absolute;left:-6px;bottom:50px;\">1396.9</div>\n",
       "F<sub style=\"font-size:10px;pointer-events:none;\">6</sub>        </div>\n",
       "      </div>\n",
       "      <div onmouseover=\"event.target.style.backgroundColor = '#eef';\" onmouseout=\"event.target.style.backgroundColor = '#fff';\" style='cursor:pointer;font:10px \"Open Sans\",\"Lucida Grande\",\"Arial\",sans-serif;text-align:center;border:1px solid black;border-radius:5px;width:22px;height:80px;margin-right:3px;box-shadow:2px 2px darkgray;display:inline-block;position:relative;user-select:none;-moz-user-select:none;-webkit-user-select:none;-ms-user-select:none;'>\n",
       "        <div style=\"position:absolute;bottom:1px;text-align:center;width:100%;pointer-events:none;\">\n",
       "          <div style=\"font-size:10px;transform:rotate(90deg);position:absolute;left:-6px;bottom:50px;\">1480.0</div>\n",
       "F#<sub style=\"font-size:10px;pointer-events:none;\">6</sub>        </div>\n",
       "      </div>\n",
       "      <div onmouseover=\"event.target.style.backgroundColor = '#eef';\" onmouseout=\"event.target.style.backgroundColor = '#fff';\" style='cursor:pointer;font:10px \"Open Sans\",\"Lucida Grande\",\"Arial\",sans-serif;text-align:center;border:1px solid black;border-radius:5px;width:22px;height:80px;margin-right:3px;box-shadow:2px 2px darkgray;display:inline-block;position:relative;user-select:none;-moz-user-select:none;-webkit-user-select:none;-ms-user-select:none;'>\n",
       "        <div style=\"position:absolute;bottom:1px;text-align:center;width:100%;pointer-events:none;\">\n",
       "          <div style=\"font-size:10px;transform:rotate(90deg);position:absolute;left:-6px;bottom:50px;\">1568.0</div>\n",
       "G<sub style=\"font-size:10px;pointer-events:none;\">6</sub>        </div>\n",
       "      </div>\n",
       "      <div onmouseover=\"event.target.style.backgroundColor = '#eef';\" onmouseout=\"event.target.style.backgroundColor = '#fff';\" style='cursor:pointer;font:10px \"Open Sans\",\"Lucida Grande\",\"Arial\",sans-serif;text-align:center;border:1px solid black;border-radius:5px;width:22px;height:80px;margin-right:3px;box-shadow:2px 2px darkgray;display:inline-block;position:relative;user-select:none;-moz-user-select:none;-webkit-user-select:none;-ms-user-select:none;'>\n",
       "        <div style=\"position:absolute;bottom:1px;text-align:center;width:100%;pointer-events:none;\">\n",
       "          <div style=\"font-size:10px;transform:rotate(90deg);position:absolute;left:-6px;bottom:50px;\">1661.2</div>\n",
       "G#<sub style=\"font-size:10px;pointer-events:none;\">6</sub>        </div>\n",
       "      </div>\n",
       "      <div onmouseover=\"event.target.style.backgroundColor = '#eef';\" onmouseout=\"event.target.style.backgroundColor = '#fff';\" style='cursor:pointer;font:10px \"Open Sans\",\"Lucida Grande\",\"Arial\",sans-serif;text-align:center;border:1px solid black;border-radius:5px;width:22px;height:80px;margin-right:3px;box-shadow:2px 2px darkgray;display:inline-block;position:relative;user-select:none;-moz-user-select:none;-webkit-user-select:none;-ms-user-select:none;'>\n",
       "        <div style=\"position:absolute;bottom:1px;text-align:center;width:100%;pointer-events:none;\">\n",
       "          <div style=\"font-size:10px;transform:rotate(90deg);position:absolute;left:-6px;bottom:50px;\">1760.0</div>\n",
       "A<sub style=\"font-size:10px;pointer-events:none;\">6</sub>        </div>\n",
       "      </div>\n",
       "      <div onmouseover=\"event.target.style.backgroundColor = '#eef';\" onmouseout=\"event.target.style.backgroundColor = '#fff';\" style='cursor:pointer;font:10px \"Open Sans\",\"Lucida Grande\",\"Arial\",sans-serif;text-align:center;border:1px solid black;border-radius:5px;width:22px;height:80px;margin-right:3px;box-shadow:2px 2px darkgray;display:inline-block;position:relative;user-select:none;-moz-user-select:none;-webkit-user-select:none;-ms-user-select:none;'>\n",
       "        <div style=\"position:absolute;bottom:1px;text-align:center;width:100%;pointer-events:none;\">\n",
       "          <div style=\"font-size:10px;transform:rotate(90deg);position:absolute;left:-6px;bottom:50px;\">1864.7</div>\n",
       "A#<sub style=\"font-size:10px;pointer-events:none;\">6</sub>        </div>\n",
       "      </div>\n",
       "      <div onmouseover=\"event.target.style.backgroundColor = '#eef';\" onmouseout=\"event.target.style.backgroundColor = '#fff';\" style='cursor:pointer;font:10px \"Open Sans\",\"Lucida Grande\",\"Arial\",sans-serif;text-align:center;border:1px solid black;border-radius:5px;width:22px;height:80px;margin-right:3px;box-shadow:2px 2px darkgray;display:inline-block;position:relative;user-select:none;-moz-user-select:none;-webkit-user-select:none;-ms-user-select:none;'>\n",
       "        <div style=\"position:absolute;bottom:1px;text-align:center;width:100%;pointer-events:none;\">\n",
       "          <div style=\"font-size:10px;transform:rotate(90deg);position:absolute;left:-6px;bottom:50px;\">1975.5</div>\n",
       "B<sub style=\"font-size:10px;pointer-events:none;\">6</sub>        </div>\n",
       "      </div>\n",
       "    </div>\n",
       "    <div style=\"display:inline-block;padding:0 6px 0 0;\">\n",
       "      <div onmouseover=\"event.target.style.backgroundColor = '#eef';\" onmouseout=\"event.target.style.backgroundColor = '#fff';\" style='cursor:pointer;font:10px \"Open Sans\",\"Lucida Grande\",\"Arial\",sans-serif;text-align:center;border:1px solid black;border-radius:5px;width:22px;height:80px;margin-right:3px;box-shadow:2px 2px darkgray;display:inline-block;position:relative;user-select:none;-moz-user-select:none;-webkit-user-select:none;-ms-user-select:none;'>\n",
       "        <div style=\"position:absolute;bottom:1px;text-align:center;width:100%;pointer-events:none;\">\n",
       "          <div style=\"font-size:10px;transform:rotate(90deg);position:absolute;left:-6px;bottom:50px;\">2093.0</div>\n",
       "C<sub style=\"font-size:10px;pointer-events:none;\">7</sub>        </div>\n",
       "      </div>\n",
       "      <div onmouseover=\"event.target.style.backgroundColor = '#eef';\" onmouseout=\"event.target.style.backgroundColor = '#fff';\" style='cursor:pointer;font:10px \"Open Sans\",\"Lucida Grande\",\"Arial\",sans-serif;text-align:center;border:1px solid black;border-radius:5px;width:22px;height:80px;margin-right:3px;box-shadow:2px 2px darkgray;display:inline-block;position:relative;user-select:none;-moz-user-select:none;-webkit-user-select:none;-ms-user-select:none;'>\n",
       "        <div style=\"position:absolute;bottom:1px;text-align:center;width:100%;pointer-events:none;\">\n",
       "          <div style=\"font-size:10px;transform:rotate(90deg);position:absolute;left:-6px;bottom:50px;\">2217.5</div>\n",
       "C#<sub style=\"font-size:10px;pointer-events:none;\">7</sub>        </div>\n",
       "      </div>\n",
       "      <div onmouseover=\"event.target.style.backgroundColor = '#eef';\" onmouseout=\"event.target.style.backgroundColor = '#fff';\" style='cursor:pointer;font:10px \"Open Sans\",\"Lucida Grande\",\"Arial\",sans-serif;text-align:center;border:1px solid black;border-radius:5px;width:22px;height:80px;margin-right:3px;box-shadow:2px 2px darkgray;display:inline-block;position:relative;user-select:none;-moz-user-select:none;-webkit-user-select:none;-ms-user-select:none;'>\n",
       "        <div style=\"position:absolute;bottom:1px;text-align:center;width:100%;pointer-events:none;\">\n",
       "          <div style=\"font-size:10px;transform:rotate(90deg);position:absolute;left:-6px;bottom:50px;\">2349.3</div>\n",
       "D<sub style=\"font-size:10px;pointer-events:none;\">7</sub>        </div>\n",
       "      </div>\n",
       "      <div onmouseover=\"event.target.style.backgroundColor = '#eef';\" onmouseout=\"event.target.style.backgroundColor = '#fff';\" style='cursor:pointer;font:10px \"Open Sans\",\"Lucida Grande\",\"Arial\",sans-serif;text-align:center;border:1px solid black;border-radius:5px;width:22px;height:80px;margin-right:3px;box-shadow:2px 2px darkgray;display:inline-block;position:relative;user-select:none;-moz-user-select:none;-webkit-user-select:none;-ms-user-select:none;'>\n",
       "        <div style=\"position:absolute;bottom:1px;text-align:center;width:100%;pointer-events:none;\">\n",
       "          <div style=\"font-size:10px;transform:rotate(90deg);position:absolute;left:-6px;bottom:50px;\">2489.0</div>\n",
       "D#<sub style=\"font-size:10px;pointer-events:none;\">7</sub>        </div>\n",
       "      </div>\n",
       "      <div onmouseover=\"event.target.style.backgroundColor = '#eef';\" onmouseout=\"event.target.style.backgroundColor = '#fff';\" style='cursor:pointer;font:10px \"Open Sans\",\"Lucida Grande\",\"Arial\",sans-serif;text-align:center;border:1px solid black;border-radius:5px;width:22px;height:80px;margin-right:3px;box-shadow:2px 2px darkgray;display:inline-block;position:relative;user-select:none;-moz-user-select:none;-webkit-user-select:none;-ms-user-select:none;'>\n",
       "        <div style=\"position:absolute;bottom:1px;text-align:center;width:100%;pointer-events:none;\">\n",
       "          <div style=\"font-size:10px;transform:rotate(90deg);position:absolute;left:-6px;bottom:50px;\">2637.0</div>\n",
       "E<sub style=\"font-size:10px;pointer-events:none;\">7</sub>        </div>\n",
       "      </div>\n",
       "      <div onmouseover=\"event.target.style.backgroundColor = '#eef';\" onmouseout=\"event.target.style.backgroundColor = '#fff';\" style='cursor:pointer;font:10px \"Open Sans\",\"Lucida Grande\",\"Arial\",sans-serif;text-align:center;border:1px solid black;border-radius:5px;width:22px;height:80px;margin-right:3px;box-shadow:2px 2px darkgray;display:inline-block;position:relative;user-select:none;-moz-user-select:none;-webkit-user-select:none;-ms-user-select:none;'>\n",
       "        <div style=\"position:absolute;bottom:1px;text-align:center;width:100%;pointer-events:none;\">\n",
       "          <div style=\"font-size:10px;transform:rotate(90deg);position:absolute;left:-6px;bottom:50px;\">2793.8</div>\n",
       "F<sub style=\"font-size:10px;pointer-events:none;\">7</sub>        </div>\n",
       "      </div>\n",
       "      <div onmouseover=\"event.target.style.backgroundColor = '#eef';\" onmouseout=\"event.target.style.backgroundColor = '#fff';\" style='cursor:pointer;font:10px \"Open Sans\",\"Lucida Grande\",\"Arial\",sans-serif;text-align:center;border:1px solid black;border-radius:5px;width:22px;height:80px;margin-right:3px;box-shadow:2px 2px darkgray;display:inline-block;position:relative;user-select:none;-moz-user-select:none;-webkit-user-select:none;-ms-user-select:none;'>\n",
       "        <div style=\"position:absolute;bottom:1px;text-align:center;width:100%;pointer-events:none;\">\n",
       "          <div style=\"font-size:10px;transform:rotate(90deg);position:absolute;left:-6px;bottom:50px;\">2960.0</div>\n",
       "F#<sub style=\"font-size:10px;pointer-events:none;\">7</sub>        </div>\n",
       "      </div>\n",
       "      <div onmouseover=\"event.target.style.backgroundColor = '#eef';\" onmouseout=\"event.target.style.backgroundColor = '#fff';\" style='cursor:pointer;font:10px \"Open Sans\",\"Lucida Grande\",\"Arial\",sans-serif;text-align:center;border:1px solid black;border-radius:5px;width:22px;height:80px;margin-right:3px;box-shadow:2px 2px darkgray;display:inline-block;position:relative;user-select:none;-moz-user-select:none;-webkit-user-select:none;-ms-user-select:none;'>\n",
       "        <div style=\"position:absolute;bottom:1px;text-align:center;width:100%;pointer-events:none;\">\n",
       "          <div style=\"font-size:10px;transform:rotate(90deg);position:absolute;left:-6px;bottom:50px;\">3136.0</div>\n",
       "G<sub style=\"font-size:10px;pointer-events:none;\">7</sub>        </div>\n",
       "      </div>\n",
       "      <div onmouseover=\"event.target.style.backgroundColor = '#eef';\" onmouseout=\"event.target.style.backgroundColor = '#fff';\" style='cursor:pointer;font:10px \"Open Sans\",\"Lucida Grande\",\"Arial\",sans-serif;text-align:center;border:1px solid black;border-radius:5px;width:22px;height:80px;margin-right:3px;box-shadow:2px 2px darkgray;display:inline-block;position:relative;user-select:none;-moz-user-select:none;-webkit-user-select:none;-ms-user-select:none;'>\n",
       "        <div style=\"position:absolute;bottom:1px;text-align:center;width:100%;pointer-events:none;\">\n",
       "          <div style=\"font-size:10px;transform:rotate(90deg);position:absolute;left:-6px;bottom:50px;\">3322.4</div>\n",
       "G#<sub style=\"font-size:10px;pointer-events:none;\">7</sub>        </div>\n",
       "      </div>\n",
       "      <div onmouseover=\"event.target.style.backgroundColor = '#eef';\" onmouseout=\"event.target.style.backgroundColor = '#fff';\" style='cursor:pointer;font:10px \"Open Sans\",\"Lucida Grande\",\"Arial\",sans-serif;text-align:center;border:1px solid black;border-radius:5px;width:22px;height:80px;margin-right:3px;box-shadow:2px 2px darkgray;display:inline-block;position:relative;user-select:none;-moz-user-select:none;-webkit-user-select:none;-ms-user-select:none;'>\n",
       "        <div style=\"position:absolute;bottom:1px;text-align:center;width:100%;pointer-events:none;\">\n",
       "          <div style=\"font-size:10px;transform:rotate(90deg);position:absolute;left:-6px;bottom:50px;\">3520.0</div>\n",
       "A<sub style=\"font-size:10px;pointer-events:none;\">7</sub>        </div>\n",
       "      </div>\n",
       "      <div onmouseover=\"event.target.style.backgroundColor = '#eef';\" onmouseout=\"event.target.style.backgroundColor = '#fff';\" style='cursor:pointer;font:10px \"Open Sans\",\"Lucida Grande\",\"Arial\",sans-serif;text-align:center;border:1px solid black;border-radius:5px;width:22px;height:80px;margin-right:3px;box-shadow:2px 2px darkgray;display:inline-block;position:relative;user-select:none;-moz-user-select:none;-webkit-user-select:none;-ms-user-select:none;'>\n",
       "        <div style=\"position:absolute;bottom:1px;text-align:center;width:100%;pointer-events:none;\">\n",
       "          <div style=\"font-size:10px;transform:rotate(90deg);position:absolute;left:-6px;bottom:50px;\">3729.3</div>\n",
       "A#<sub style=\"font-size:10px;pointer-events:none;\">7</sub>        </div>\n",
       "      </div>\n",
       "      <div onmouseover=\"event.target.style.backgroundColor = '#eef';\" onmouseout=\"event.target.style.backgroundColor = '#fff';\" style='cursor:pointer;font:10px \"Open Sans\",\"Lucida Grande\",\"Arial\",sans-serif;text-align:center;border:1px solid black;border-radius:5px;width:22px;height:80px;margin-right:3px;box-shadow:2px 2px darkgray;display:inline-block;position:relative;user-select:none;-moz-user-select:none;-webkit-user-select:none;-ms-user-select:none;'>\n",
       "        <div style=\"position:absolute;bottom:1px;text-align:center;width:100%;pointer-events:none;\">\n",
       "          <div style=\"font-size:10px;transform:rotate(90deg);position:absolute;left:-6px;bottom:50px;\">3951.1</div>\n",
       "B<sub style=\"font-size:10px;pointer-events:none;\">7</sub>        </div>\n",
       "      </div>\n",
       "    </div>\n",
       "  </div>\n",
       "</div>\n",
       "<script>if (window.htmx) htmx.process(document.body)</script>"
      ],
      "text/plain": [
       "<IPython.core.display.HTML object>"
      ]
     },
     "metadata": {},
     "output_type": "display_data"
    }
   ],
   "source": [
    "show(Div(Keyboard(), style=\"overflow-x:scroll;overflow-y:hidden;width:100%;height:110px;white-space:nowrap;margin:10px;\"))"
   ]
  },
  {
   "cell_type": "markdown",
   "id": "2890db6b",
   "metadata": {},
   "source": [
    "But I think wrapping the keys without a horizontal scrollbar is nicer."
   ]
  },
  {
   "cell_type": "markdown",
   "id": "84a4bd0d",
   "metadata": {},
   "source": [
    "## Settings Bar"
   ]
  },
  {
   "cell_type": "markdown",
   "id": "69f21660",
   "metadata": {},
   "source": [
    "For now, I convert the original to a FastTag here:"
   ]
  },
  {
   "cell_type": "code",
   "execution_count": 29,
   "id": "074af5d9",
   "metadata": {},
   "outputs": [],
   "source": [
    "def SettingsBar():\n",
    "    return Div(\n",
    "        Div(\n",
    "            Span(\"Volume: \",style=\"vertical-align:middle;\"),\n",
    "            Input(type=\"range\",min=0,max=1.0,step=0.01,value=0.5,list=\"volumes\",name=\"volume\",style=\"vertical-align:middle;\"),\n",
    "            Datalist(\n",
    "                Option(value=0.0,label=\"Mute\"),\n",
    "                Option(value=1.0,label=\"100%\"),\n",
    "                id=\"volumes\",),\n",
    "            style=\"width:50%;position:absolute;left:0;display:table-cell;vertical-align:middle;\"),\n",
    "        Div(\n",
    "            Span(\"Waveform: \", style=\"vertical-align:middle;\"),\n",
    "            Select(\n",
    "                Option(\"Sine\", value=\"sine\"),\n",
    "                Option(\"Square\", value=\"square\"),\n",
    "                Option(\"Sawtooth\", value=\"sawtooth\"),\n",
    "                Option(\"Triangle\", value=\"triangle\"),\n",
    "                Option(\"Custom\", value=\"custom\"),\n",
    "                name=\"waveform\",\n",
    "                style=\"vertical-align:middle;\"),\n",
    "            style=\"width:50%;position:absolute;right:0;display:table-cell;vertical-align:middle;\"),\n",
    "        style='padding-top:8px;font:14px \"Open Sans\",\"Lucida Grande\",\"Arial\",sans-serif;position:relative;vertical-align:middle;width:100%;height:80px;')"
   ]
  },
  {
   "cell_type": "code",
   "execution_count": 260,
   "id": "fbb78411",
   "metadata": {},
   "outputs": [
    {
     "data": {
      "text/html": [
       "<div style='padding-top:8px;font:14px \"Open Sans\",\"Lucida Grande\",\"Arial\",sans-serif;position:relative;vertical-align:middle;width:100%;height:80px;'>\n",
       "  <div style=\"width:50%;position:absolute;left:0;display:table-cell;vertical-align:middle;\">\n",
       "<span style=\"vertical-align:middle;\">Volume: </span>    <input type=\"range\" max=\"1.0\" step=\"0.01\" value=\"0.5\" list=\"volumes\" name=\"volume\" style=\"vertical-align:middle;\">\n",
       "<datalist id=\"volumes\"><option label=\"Mute\"></option><option value=\"1.0\" label=\"100%\"></option></datalist>  </div>\n",
       "  <div style=\"width:50%;position:absolute;right:0;display:table-cell;vertical-align:middle;\">\n",
       "<span style=\"vertical-align:middle;\">Waveform: </span><select name=\"waveform\" style=\"vertical-align:middle;\"><option value=\"sine\">Sine</option><option value=\"square\">Square</option><option value=\"sawtooth\">Sawtooth</option><option value=\"triangle\">Triangle</option><option value=\"custom\">Custom</option></select>  </div>\n",
       "</div>\n",
       "<script>if (window.htmx) htmx.process(document.body)</script>"
      ],
      "text/plain": [
       "<IPython.core.display.HTML object>"
      ]
     },
     "metadata": {},
     "output_type": "display_data"
    }
   ],
   "source": [
    "show(SettingsBar())"
   ]
  },
  {
   "cell_type": "markdown",
   "id": "cb54d4ee",
   "metadata": {},
   "source": [
    "## Creating Oscillators in JS"
   ]
  },
  {
   "cell_type": "code",
   "execution_count": 30,
   "id": "cf121b2b",
   "metadata": {},
   "outputs": [
    {
     "data": {
      "application/javascript": [
       "window.audioContext = new AudioContext();\n",
       "window.gainNode = audioContext.createGain();\n",
       "window.gainNode.gain.value = 0.5;\n",
       "\n",
       "function playTone(freq) {\n",
       "    const osc = window.audioContext.createOscillator();\n",
       "    osc.type = 'sine';\n",
       "    osc.frequency.value = freq;\n",
       "    osc.connect(window.gainNode);\n",
       "    window.gainNode.connect(window.audioContext.destination);\n",
       "    osc.start();\n",
       "}\n",
       "playTone(400)\n"
      ],
      "text/plain": [
       "<IPython.core.display.Javascript object>"
      ]
     },
     "metadata": {},
     "output_type": "display_data"
    }
   ],
   "source": [
    "%%javascript\n",
    "window.audioContext = new AudioContext();\n",
    "window.gainNode = audioContext.createGain();\n",
    "window.gainNode.gain.value = 0.5;\n",
    "\n",
    "function playTone(freq) {\n",
    "    const osc = window.audioContext.createOscillator();\n",
    "    osc.type = 'sine';\n",
    "    osc.frequency.value = freq;\n",
    "    osc.connect(window.gainNode);\n",
    "    window.gainNode.connect(window.audioContext.destination);\n",
    "    osc.start();\n",
    "}\n",
    "playTone(400)"
   ]
  },
  {
   "cell_type": "markdown",
   "id": "fa367562",
   "metadata": {},
   "source": [
    "## Creating Oscillators in Python"
   ]
  },
  {
   "cell_type": "markdown",
   "id": "c445b959",
   "metadata": {},
   "source": [
    "The MDN example creates 1 oscillator per note. I'm just playing around here and may change this later: instead of doing it in JS, I define a Python function to generate the Web Audio API JS code to do this:"
   ]
  },
  {
   "cell_type": "code",
   "execution_count": 292,
   "id": "8ad4ab2d",
   "metadata": {},
   "outputs": [],
   "source": [
    "def mk_osc(freq): \n",
    "    return f\"\"\"if (!window.audioContext) {{\n",
    "      window.audioContext = new AudioContext();\n",
    "      window.gainNode = audioContext.createGain();\n",
    "      window.gainNode.gain.value = 0.5;\n",
    "    }}\n",
    "    const osc=window.audioContext.createOscillator();\n",
    "    osc.type='sine';\n",
    "    osc.frequency.value={freq};\n",
    "    osc.connect(window.gainNode);\n",
    "    window.gainNode.connect(window.audioContext.destination);\n",
    "    console.log('Starting freq {freq}');\n",
    "    osc.start()\"\"\""
   ]
  },
  {
   "cell_type": "code",
   "execution_count": 293,
   "id": "72d1b012",
   "metadata": {},
   "outputs": [
    {
     "data": {
      "text/plain": [
       "\"if (!window.audioContext) {\\n      window.audioContext = new AudioContext();\\n      window.gainNode = audioContext.createGain();\\n      window.gainNode.gain.value = 0.5;\\n    }\\n    const osc=window.audioContext.createOscillator();\\n    osc.type='sine';\\n    osc.frequency.value=440.0;\\n    osc.connect(window.gainNode);\\n    window.gainNode.connect(window.audioContext.destination);\\n    console.log('Starting freq 440.0');\\n    osc.start()\""
      ]
     },
     "execution_count": 293,
     "metadata": {},
     "output_type": "execute_result"
    }
   ],
   "source": [
    "mk_osc(440.0)"
   ]
  },
  {
   "cell_type": "markdown",
   "id": "14825a81",
   "metadata": {},
   "source": [
    "Running this cell plays the 440Hz tone:"
   ]
  },
  {
   "cell_type": "code",
   "execution_count": 294,
   "id": "c70b63d1",
   "metadata": {},
   "outputs": [
    {
     "data": {
      "application/javascript": [
       "if (!window.audioContext) {\n",
       "      window.audioContext = new AudioContext();\n",
       "      window.gainNode = audioContext.createGain();\n",
       "      window.gainNode.gain.value = 0.5;\n",
       "    }\n",
       "    const osc=window.audioContext.createOscillator();\n",
       "    osc.type='sine';\n",
       "    osc.frequency.value=440.0;\n",
       "    osc.connect(window.gainNode);\n",
       "    window.gainNode.connect(window.audioContext.destination);\n",
       "    console.log('Starting freq 440.0');\n",
       "    osc.start()"
      ],
      "text/plain": [
       "<IPython.core.display.Javascript object>"
      ]
     },
     "metadata": {},
     "output_type": "display_data"
    }
   ],
   "source": [
    "display(Javascript(mk_osc(440.0)))"
   ]
  },
  {
   "cell_type": "code",
   "execution_count": 295,
   "id": "05e9656e",
   "metadata": {},
   "outputs": [],
   "source": [
    "def mk_stoposc(freq): return f\"console.log('Stopping freq {freq}');osc.stop();\";"
   ]
  },
  {
   "cell_type": "code",
   "execution_count": 296,
   "id": "5948b1eb",
   "metadata": {
    "scrolled": false
   },
   "outputs": [
    {
     "data": {
      "text/plain": [
       "\"console.log('Stopping freq 440.0');osc.stop();\""
      ]
     },
     "execution_count": 296,
     "metadata": {},
     "output_type": "execute_result"
    }
   ],
   "source": [
    "mk_stoposc(440.0)"
   ]
  },
  {
   "cell_type": "code",
   "execution_count": 297,
   "id": "83028264",
   "metadata": {},
   "outputs": [
    {
     "data": {
      "application/javascript": [
       "console.log('Stopping freq 440.0');osc.stop();"
      ],
      "text/plain": [
       "<IPython.core.display.Javascript object>"
      ]
     },
     "metadata": {},
     "output_type": "display_data"
    }
   ],
   "source": [
    "display(Javascript(mk_stoposc(440.0)))"
   ]
  },
  {
   "cell_type": "markdown",
   "id": "6f24344b",
   "metadata": {},
   "source": [
    "This is tricker than I thought. mk_stoposc needs to get osc from window, I think. We probably want to create a list of oscillators for all note frequencies and waveforms, and attach it to window."
   ]
  },
  {
   "cell_type": "markdown",
   "id": "660f475e",
   "metadata": {},
   "source": [
    "## Playing Frequencies"
   ]
  },
  {
   "cell_type": "code",
   "execution_count": 316,
   "id": "25555546",
   "metadata": {},
   "outputs": [],
   "source": [
    "def Key(note, octave): \n",
    "    f = freq(note,octave)\n",
    "    return Div(\n",
    "        Div(Div(f, style=\"font-size:10px;transform:rotate(90deg);position:absolute;left:-6px;bottom:50px;\"), note, Sub(octave, style='font-size:10px;pointer-events:none;'), style='position:absolute;bottom:1px;text-align:center;width:100%;pointer-events:none;'),\n",
    "        onmouseover=\"event.target.style.backgroundColor = '#eef';\",\n",
    "        onmouseout=\"event.target.style.backgroundColor = '#fff';\",\n",
    "        onmousedown=mk_osc(f),\n",
    "        onmouseup=mk_stoposc(f),\n",
    "        style='cursor:pointer;font:10px \"Open Sans\",\"Lucida Grande\",\"Arial\",sans-serif;text-align:center;border:1px solid black;border-radius:5px;width:22px;height:80px;margin-right:3px;box-shadow:2px 2px darkgray;display:inline-block;position:relative;user-select:none;-moz-user-select:none;-webkit-user-select:none;-ms-user-select:none;')"
   ]
  },
  {
   "cell_type": "code",
   "execution_count": 317,
   "id": "6e3ec5ac",
   "metadata": {
    "scrolled": true
   },
   "outputs": [
    {
     "data": {
      "text/html": [
       "<div onmouseover=\"event.target.style.backgroundColor = '#eef';\" onmouseout=\"event.target.style.backgroundColor = '#fff';\" onmousedown=\"if (!window.audioContext) {\n",
       "      window.audioContext = new AudioContext();\n",
       "      window.gainNode = audioContext.createGain();\n",
       "      window.gainNode.gain.value = 0.5;\n",
       "    }\n",
       "    const osc=window.audioContext.createOscillator();\n",
       "    osc.type='sine';\n",
       "    osc.frequency.value=440.0;\n",
       "    osc.connect(window.gainNode);\n",
       "    window.gainNode.connect(window.audioContext.destination);\n",
       "    console.log('Starting freq 440.0');\n",
       "    osc.start()\" onmouseup=\"console.log('Stopping freq 440.0');osc.stop();\" style='cursor:pointer;font:10px \"Open Sans\",\"Lucida Grande\",\"Arial\",sans-serif;text-align:center;border:1px solid black;border-radius:5px;width:22px;height:80px;margin-right:3px;box-shadow:2px 2px darkgray;display:inline-block;position:relative;user-select:none;-moz-user-select:none;-webkit-user-select:none;-ms-user-select:none;'>\n",
       "  <div style=\"position:absolute;bottom:1px;text-align:center;width:100%;pointer-events:none;\">\n",
       "    <div style=\"font-size:10px;transform:rotate(90deg);position:absolute;left:-6px;bottom:50px;\">440.0</div>\n",
       "A<sub style=\"font-size:10px;pointer-events:none;\">4</sub>  </div>\n",
       "</div>\n",
       "<script>if (window.htmx) htmx.process(document.body)</script>"
      ],
      "text/plain": [
       "<IPython.core.display.HTML object>"
      ]
     },
     "metadata": {},
     "output_type": "display_data"
    }
   ],
   "source": [
    "show(Key('A', 4))"
   ]
  },
  {
   "cell_type": "markdown",
   "id": "d667fd3c",
   "metadata": {},
   "source": [
    "The tone plays, but `mk_stoposc` doesn't actually work here. To be continued..."
   ]
  }
 ],
 "metadata": {
  "kernelspec": {
   "display_name": "Python 3 (ipykernel)",
   "language": "python",
   "name": "python3"
  },
  "language_info": {
   "codemirror_mode": {
    "name": "ipython",
    "version": 3
   },
   "file_extension": ".py",
   "mimetype": "text/x-python",
   "name": "python",
   "nbconvert_exporter": "python",
   "pygments_lexer": "ipython3",
   "version": "3.12.8"
  }
 },
 "nbformat": 4,
 "nbformat_minor": 5
}
