{
 "cells": [
  {
   "cell_type": "markdown",
   "id": "2828b11b",
   "metadata": {},
   "source": [
    "# Accessing CSS Classes in FastHTML"
   ]
  },
  {
   "cell_type": "markdown",
   "id": "c713644a",
   "metadata": {},
   "source": [
    "How to retrieve the CSS classes for a FastHTML FastTag instance."
   ]
  },
  {
   "cell_type": "code",
   "execution_count": 15,
   "id": "09cb5bfc",
   "metadata": {},
   "outputs": [],
   "source": [
    "from fasthtml.common import *"
   ]
  },
  {
   "cell_type": "markdown",
   "id": "2662ead0",
   "metadata": {},
   "source": [
    "## Define a Div in FastHTML, With Tailwind Classes"
   ]
  },
  {
   "cell_type": "markdown",
   "id": "d4f66c9a",
   "metadata": {},
   "source": [
    "Here's a typical div with several Tailwind CSS classes:"
   ]
  },
  {
   "cell_type": "code",
   "execution_count": 17,
   "id": "709c9105",
   "metadata": {},
   "outputs": [],
   "source": [
    "d = Div(cls=\"container mx-auto p-4 bg-white dark:bg-gray-800\")"
   ]
  },
  {
   "cell_type": "code",
   "execution_count": 18,
   "id": "2e57512e",
   "metadata": {},
   "outputs": [
    {
     "data": {
      "text/markdown": [
       "```html\n",
       "<div class=\"container mx-auto p-4 bg-white dark:bg-gray-800\"></div>\n",
       "\n",
       "```"
      ],
      "text/plain": [
       "div((),{'class': 'container mx-auto p-4 bg-white dark:bg-gray-800'})"
      ]
     },
     "execution_count": 18,
     "metadata": {},
     "output_type": "execute_result"
    }
   ],
   "source": [
    "d"
   ]
  },
  {
   "cell_type": "markdown",
   "id": "7c8bb60b",
   "metadata": {},
   "source": [
    "## Get the CSS Classes"
   ]
  },
  {
   "cell_type": "markdown",
   "id": "5ee9ec1b",
   "metadata": {},
   "source": [
    "The FT variable `d` has these `attrs`:"
   ]
  },
  {
   "cell_type": "code",
   "execution_count": 35,
   "id": "eea2ef7b",
   "metadata": {},
   "outputs": [
    {
     "data": {
      "text/plain": [
       "{'class': 'container mx-auto p-4 bg-white dark:bg-gray-800'}"
      ]
     },
     "execution_count": 35,
     "metadata": {},
     "output_type": "execute_result"
    }
   ],
   "source": [
    "d.attrs"
   ]
  },
  {
   "cell_type": "markdown",
   "id": "40267ac3",
   "metadata": {},
   "source": [
    "To get the CSS classes, you get the `class` attribute of `d`:"
   ]
  },
  {
   "cell_type": "code",
   "execution_count": 33,
   "id": "35c71dd9",
   "metadata": {},
   "outputs": [
    {
     "data": {
      "text/plain": [
       "'container mx-auto p-4 bg-white dark:bg-gray-800'"
      ]
     },
     "execution_count": 33,
     "metadata": {},
     "output_type": "execute_result"
    }
   ],
   "source": [
    "d.attrs['class']"
   ]
  },
  {
   "cell_type": "markdown",
   "id": "3aa4c667",
   "metadata": {},
   "source": [
    "## Parse Them Into a List"
   ]
  },
  {
   "cell_type": "markdown",
   "id": "14e4ad8c",
   "metadata": {},
   "source": [
    "Then you can split the space-separated string into a list, if you like:"
   ]
  },
  {
   "cell_type": "code",
   "execution_count": 25,
   "id": "2634955a",
   "metadata": {},
   "outputs": [
    {
     "data": {
      "text/plain": [
       "['container', 'mx-auto', 'p-4', 'bg-white', 'dark:bg-gray-800']"
      ]
     },
     "execution_count": 25,
     "metadata": {},
     "output_type": "execute_result"
    }
   ],
   "source": [
    "css_classes = d.attrs['class'].split()\n",
    "css_classes"
   ]
  }
 ],
 "metadata": {
  "kernelspec": {
   "display_name": "Python 3 (ipykernel)",
   "language": "python",
   "name": "python3"
  },
  "language_info": {
   "codemirror_mode": {
    "name": "ipython",
    "version": 3
   },
   "file_extension": ".py",
   "mimetype": "text/x-python",
   "name": "python",
   "nbconvert_exporter": "python",
   "pygments_lexer": "ipython3",
   "version": "3.12.8"
  }
 },
 "nbformat": 4,
 "nbformat_minor": 5
}
