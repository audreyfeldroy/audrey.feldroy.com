{
 "cells": [
  {
   "cell_type": "markdown",
   "id": "2fe4e78b",
   "metadata": {},
   "source": [
    "# Alarm Sounds App"
   ]
  },
  {
   "cell_type": "markdown",
   "id": "1ae609c9",
   "metadata": {},
   "source": [
    "Demo of adding sounds to a FastHTML app with Tone.js. Sounds make web apps come alive and feel interactive."
   ]
  },
  {
   "cell_type": "markdown",
   "id": "d5e4a8db",
   "metadata": {},
   "source": [
    "Here I notebookify and improve [alarmsounds](https://github.com/audreyfeldroy/alarmsounds/blob/main/main.py)."
   ]
  },
  {
   "cell_type": "markdown",
   "id": "cdc0bb0e",
   "metadata": {},
   "source": [
    "## Setup"
   ]
  },
  {
   "cell_type": "code",
   "execution_count": 18,
   "id": "a3e007c6",
   "metadata": {},
   "outputs": [],
   "source": [
    "from fasthtml.common import *\n",
    "from fasthtml.jupyter import *\n",
    "from monsterui.all import *"
   ]
  },
  {
   "cell_type": "code",
   "execution_count": 19,
   "id": "e635aa58",
   "metadata": {},
   "outputs": [],
   "source": [
    "app, rt = fast_app(hdrs=(Theme.slate.headers(), Script(src=\"https://unpkg.com/tone\")))"
   ]
  },
  {
   "cell_type": "markdown",
   "id": "e3b3e339",
   "metadata": {},
   "source": [
    "## The Sounds"
   ]
  },
  {
   "cell_type": "code",
   "execution_count": 20,
   "id": "733181c3",
   "metadata": {},
   "outputs": [],
   "source": [
    "beeping_sounds = (\n",
    "    (\"Classic\", \"Repeating beeps\", \"\"\"const synth = new Tone.Synth().toDestination();\n",
    "        const loopA = new Tone.Loop((time) => {\n",
    "            synth.triggerAttackRelease(\"C5\", \"16n\");\n",
    "        }, \"4n\").start(0);\n",
    "     Tone.getTransport().start();\"\"\"),\n",
    "        \n",
    "    (\"Digital Beep\", \"Modern digital alarm\", \"\"\"\n",
    "        const synth = new Tone.Synth({\n",
    "            oscillator: {type: \"square\"},\n",
    "            envelope: {attack: 0.001, decay: 0.1, sustain: 1, release: 0.1}\n",
    "        }).toDestination();\n",
    "        \n",
    "        const loop = new Tone.Loop(time => {\n",
    "            synth.triggerAttackRelease(\"C6\", \"16n\");\n",
    "        }, \"0.25\").start(0);\n",
    "        \n",
    "        Tone.Transport.start();\"\"\"),\n",
    "    \n",
    "    (\"Pulsing Alarm\", \"Pulsing alarm with rising intensity\", \"\"\"\n",
    "        const pulseA = new Tone.Synth({\n",
    "            oscillator: {type: \"triangle\"},\n",
    "            envelope: {attack: 0.01, decay: 0.3, sustain: 0.1, release: 0.1}\n",
    "        }).toDestination();\n",
    "        pulseA.volume.value = -12;\n",
    "\n",
    "        const pulseB = new Tone.Synth({\n",
    "            oscillator: {type: \"square\"},\n",
    "            envelope: {attack: 0.01, decay: 0.2, sustain: 0.1, release: 0.1}\n",
    "        }).toDestination();\n",
    "        pulseB.volume.value = -20;\n",
    "\n",
    "        // Start quiet and get louder\n",
    "        const vol = new Tone.Volume(-20).toDestination();\n",
    "        pulseA.connect(vol);\n",
    "        pulseB.connect(vol);\n",
    "        vol.volume.rampTo(-5, 5);\n",
    "\n",
    "        const loop = new Tone.Loop(time => {\n",
    "            pulseA.triggerAttackRelease(\"E5\", \"16n\", time);\n",
    "            pulseB.triggerAttackRelease(\"B5\", \"16n\", time + 0.1);\n",
    "        }, \"0.3\").start(0);\n",
    "\n",
    "        Tone.Transport.start();\"\"\")\n",
    ")"
   ]
  },
  {
   "cell_type": "code",
   "execution_count": 21,
   "id": "bf0d14dc",
   "metadata": {},
   "outputs": [],
   "source": [
    "musical_sounds = (\n",
    "    (\"Good Morning\", \"Bright polyphonic tones\", \"\"\"const synth = new Tone.PolySynth(Tone.Synth).toDestination();\n",
    "        const now = Tone.now();\n",
    "        synth.triggerAttack(\"D4\", now);\n",
    "        synth.triggerAttack(\"F4\", now + 0.5);\n",
    "        synth.triggerAttack(\"A4\", now + 1);\n",
    "        synth.triggerAttack(\"C5\", now + 1.5);\n",
    "        synth.triggerAttack(\"E5\", now + 2);\n",
    "        synth.triggerRelease([\"D4\", \"F4\", \"A4\", \"C5\", \"E5\"], now + 4);\"\"\"),\n",
    "    (\"Metallophone\", \"Striking metal\", \"\"\"\n",
    "        const bell = new Tone.MetalSynth({\n",
    "            frequency: 150,\n",
    "            envelope: {\n",
    "                attack: 0.001,\n",
    "                decay: 2.0,\n",
    "                release: 0.8\n",
    "            },\n",
    "            harmonicity: 12,\n",
    "            modulationIndex: 20,\n",
    "            resonance: 1000,\n",
    "            octaves: 1.2\n",
    "        }).toDestination();\n",
    "        \n",
    "        const loop = new Tone.Loop(time => {\n",
    "            bell.triggerAttackRelease(\"32n\", time);\n",
    "        }, \"0.4\").start(0);\n",
    "        \n",
    "        Tone.Transport.start();\"\"\"),\n",
    "\n",
    ")"
   ]
  },
  {
   "cell_type": "code",
   "execution_count": 22,
   "id": "b974d740",
   "metadata": {},
   "outputs": [],
   "source": [
    "nature_sounds = (\n",
    "        \n",
    "    (\"Forest Morning\", \"Birds and rustling leaves\", \"\"\"\n",
    "        // Bird chirps\n",
    "        const bird1 = new Tone.FMSynth({\n",
    "            modulationIndex: 10,\n",
    "            envelope: {attack: 0.001, decay: 0.1}\n",
    "        }).toDestination();\n",
    "        const bird2 = new Tone.FMSynth({\n",
    "            modulationIndex: 8,\n",
    "            envelope: {attack: 0.001, decay: 0.08}\n",
    "        }).toDestination();\n",
    "        \n",
    "        // Leaves rustling (filtered noise)\n",
    "        const noise = new Tone.Noise(\"pink\").toDestination();\n",
    "        noise.volume.value = -30;\n",
    "        const filter = new Tone.Filter({\n",
    "            frequency: 2000,\n",
    "            type: \"highpass\"\n",
    "        }).toDestination();\n",
    "        noise.connect(filter);\n",
    "        \n",
    "        // Random bird calls\n",
    "        const birdLoop = new Tone.Loop(time => {\n",
    "            const notes = [\"E6\", \"G6\", \"A6\"];\n",
    "            bird1.triggerAttackRelease(notes[Math.floor(Math.random() * notes.length)], \"16n\");\n",
    "            if(Math.random() > 0.7) {\n",
    "                bird2.triggerAttackRelease(\"C7\", \"32n\", \"+0.1\");\n",
    "            }\n",
    "        }, \"4n\").start();\n",
    "        \n",
    "        noise.start();\n",
    "        Tone.Transport.start();\"\"\"),\n",
    "        \n",
    "    (\"Mountain Stream\", \"Bubbling water and morning birds\", \"\"\"\n",
    "        // Water sounds\n",
    "        const water = new Tone.Noise(\"white\").toDestination();\n",
    "        water.volume.value = -25;\n",
    "        const waterFilter = new Tone.Filter({\n",
    "            frequency: 1000,\n",
    "            type: \"bandpass\",\n",
    "            Q: 2\n",
    "        }).toDestination();\n",
    "        water.connect(waterFilter);\n",
    "        \n",
    "        // Occasional bird chirps\n",
    "        const bird = new Tone.Synth({\n",
    "            oscillator: {type: \"triangle\"},\n",
    "            envelope: {attack: 0.001, decay: 0.1, sustain: 0, release: 0.1}\n",
    "        }).toDestination();\n",
    "        \n",
    "        const birdLoop = new Tone.Loop(time => {\n",
    "            if(Math.random() > 0.8) {\n",
    "                const note = Math.random() > 0.5 ? \"E6\" : \"G6\";\n",
    "                bird.triggerAttackRelease(note, \"16n\");\n",
    "                bird.triggerAttackRelease(note, \"16n\", \"+0.1\");\n",
    "            }\n",
    "        }, \"2n\").start();\n",
    "        \n",
    "        water.start();\n",
    "        Tone.Transport.start();\"\"\")\n",
    ")"
   ]
  },
  {
   "cell_type": "code",
   "execution_count": 23,
   "id": "4a63fb57",
   "metadata": {},
   "outputs": [],
   "source": [
    "emergency_sounds = (\n",
    "    (\"Fire Alarm\", \"Standard emergency siren\", \"\"\"\n",
    "        const synth = new Tone.Synth({\n",
    "            oscillator: {type: \"sawtooth\"},\n",
    "            envelope: {attack: 0.01, decay: 0.1, sustain: 1, release: 0.1}\n",
    "        }).toDestination();\n",
    "        \n",
    "        let pitch = true;\n",
    "        const loop = new Tone.Loop(time => {\n",
    "            synth.triggerAttackRelease(pitch ? \"C5\" : \"G5\", \"0.25\");\n",
    "            pitch = !pitch;\n",
    "        }, \"0.25\").start(0);\n",
    "        \n",
    "        Tone.Transport.start();\"\"\"),\n",
    "\n",
    ")"
   ]
  },
  {
   "cell_type": "code",
   "execution_count": 24,
   "id": "502ae613",
   "metadata": {},
   "outputs": [],
   "source": [
    "def MusicLi(t,hk=''): return Li(A(DivFullySpaced(t,P(hk,cls=TextFont.muted_sm))))"
   ]
  },
  {
   "cell_type": "code",
   "execution_count": 25,
   "id": "da624eec",
   "metadata": {},
   "outputs": [],
   "source": [
    "def Album(title,artist,scr):\n",
    "    return Div(\n",
    "        Div(\n",
    "            UkIcon('alarm-clock', height=150, width=150,\n",
    "                cls=\"transition-transform duration-200 hover:scale-105\", \n",
    "                onmousedown=scr),\n",
    "            cls=\"overflow-hidden rounded-md\"),\n",
    "        Div(cls='space-y-1')(P(title,cls=TextT.bold),P(artist,cls=TextT.muted)))"
   ]
  },
  {
   "cell_type": "markdown",
   "id": "b8f0b813",
   "metadata": {},
   "source": [
    "## Tabs"
   ]
  },
  {
   "cell_type": "markdown",
   "id": "c1868db1",
   "metadata": {},
   "source": [
    "Currently the app only has an Alarms tab:"
   ]
  },
  {
   "cell_type": "markdown",
   "id": "d954e0dd",
   "metadata": {},
   "source": [
    "I'm not using these at the moment but may re-add them in later, or I may just remove them:"
   ]
  },
  {
   "cell_type": "code",
   "execution_count": 26,
   "id": "ac382448",
   "metadata": {},
   "outputs": [],
   "source": [
    "def Tab(title, desc, sounds):\n",
    "    return (\n",
    "        Div(H2(title), cls=\"mt-6 space-y-1\"),\n",
    "                    P(desc, cls=TextFont.muted_sm),\n",
    "                    DividerLine(),\n",
    "                    Grid(*[Album(t,a,s) for t,a,s in sounds], cls='gap-8'))"
   ]
  },
  {
   "cell_type": "code",
   "execution_count": 27,
   "id": "84739612",
   "metadata": {},
   "outputs": [],
   "source": [
    "def BeepingTab():\n",
    "    return Tab(\"Beeping\", \"Listen to your favorite beeping alarm clock sounds.\", beeping_sounds)"
   ]
  },
  {
   "cell_type": "code",
   "execution_count": 28,
   "id": "805b4389",
   "metadata": {},
   "outputs": [],
   "source": [
    "def MusicalTab():\n",
    "    return Tab(\"Musical\", \"Alarm sounds that add music to your waking experience.\", musical_sounds)"
   ]
  },
  {
   "cell_type": "code",
   "execution_count": 29,
   "id": "28550d8c",
   "metadata": {},
   "outputs": [],
   "source": [
    "def NatureTab():\n",
    "    return Tab(\"Nature\", \"Wake up to nature-inspired sounds.\", nature_sounds)"
   ]
  },
  {
   "cell_type": "code",
   "execution_count": 30,
   "id": "9378d46e",
   "metadata": {},
   "outputs": [],
   "source": [
    "def EmergencyTab():\n",
    "    return Tab(\"Emergency\", \"Startle yourself out of bed with emergency-inspired sounds.\", emergency_sounds)"
   ]
  },
  {
   "cell_type": "markdown",
   "id": "e898be4f",
   "metadata": {},
   "source": [
    "## Main Page"
   ]
  },
  {
   "cell_type": "code",
   "execution_count": 31,
   "id": "9896265e",
   "metadata": {},
   "outputs": [],
   "source": [
    "@rt('/')\n",
    "def page():\n",
    "    return Container(\n",
    "            H1(\"Alarm Sounds\", cls=\"mb-6\"),\n",
    "            Div(cls=\"col-span-4\")(\n",
    "                Div(\n",
    "                    DivFullySpaced(\n",
    "                        Div(\n",
    "                            TabContainer(\n",
    "                                Li(A('Beeping', href='#'), cls='uk-active'),\n",
    "                                Li(A('Musical',    href='#'),\n",
    "                                Li(A('Nature'), href='#'),\n",
    "                                Li(A('Emergency'), href='#')),\n",
    "                                uk_switcher='connect: #component-nav; animation: uk-animation-fade',\n",
    "                                alt=True), \n",
    "                            cls=\"max-w-80\"),\n",
    "                    ),\n",
    "                    Ul(\n",
    "                        Li(BeepingTab()),\n",
    "                        Li(MusicalTab()),\n",
    "                        Li(NatureTab()),\n",
    "                        Li(EmergencyTab()),\n",
    "                        id=\"component-nav\", \n",
    "                        cls=\"uk-switcher\")\n",
    "                )\n",
    "            ),\n",
    "            cols=5)"
   ]
  },
  {
   "cell_type": "markdown",
   "id": "16b8499e",
   "metadata": {},
   "source": [
    "## Serve"
   ]
  },
  {
   "cell_type": "code",
   "execution_count": null,
   "id": "4a1b3c8d",
   "metadata": {
    "scrolled": true
   },
   "outputs": [
    {
     "name": "stderr",
     "output_type": "stream",
     "text": [
      "ERROR:    [Errno 48] error while attempting to bind on address ('0.0.0.0', 8000): [errno 48] address already in use\n"
     ]
    }
   ],
   "source": [
    "server = JupyUvi(app)"
   ]
  },
  {
   "cell_type": "markdown",
   "id": "db658b3f",
   "metadata": {},
   "source": [
    "## Show App in This Notebook"
   ]
  },
  {
   "cell_type": "code",
   "execution_count": 1,
   "id": "b220c5a0",
   "metadata": {
    "scrolled": true
   },
   "outputs": [],
   "source": [
    "# HTMX(page, height=500)"
   ]
  },
  {
   "cell_type": "markdown",
   "id": "39aca0ff",
   "metadata": {},
   "source": [
    "## Stop"
   ]
  },
  {
   "cell_type": "code",
   "execution_count": null,
   "id": "3441426b",
   "metadata": {},
   "outputs": [],
   "source": [
    "server.stop()"
   ]
  },
  {
   "cell_type": "markdown",
   "id": "ba2f9cf8",
   "metadata": {},
   "source": [
    "## Next Steps"
   ]
  },
  {
   "cell_type": "markdown",
   "id": "fc1ddeb5",
   "metadata": {},
   "source": [
    "* This is shaping up enough that I think I'll bring it back to the https://github.com/audreyfeldroy/alarmsounds/ repo.\n",
    "* It needs refactoring\n",
    "* Currently you have to refresh the page to stop sounds. It would be nice if when you click a button, it's pressed down until you turn it off."
   ]
  }
 ],
 "metadata": {
  "kernelspec": {
   "display_name": "Python 3 (ipykernel)",
   "language": "python",
   "name": "python3"
  },
  "language_info": {
   "codemirror_mode": {
    "name": "ipython",
    "version": 3
   },
   "file_extension": ".py",
   "mimetype": "text/x-python",
   "name": "python",
   "nbconvert_exporter": "python",
   "pygments_lexer": "ipython3",
   "version": "3.12.8"
  }
 },
 "nbformat": 4,
 "nbformat_minor": 5
}
