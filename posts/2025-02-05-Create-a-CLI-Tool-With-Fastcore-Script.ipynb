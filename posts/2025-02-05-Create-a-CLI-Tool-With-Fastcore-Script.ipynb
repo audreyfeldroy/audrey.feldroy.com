{
 "cells": [
  {
   "cell_type": "markdown",
   "id": "a877d5fd",
   "metadata": {},
   "source": [
    "# Create a CLI Tool With fastcore.script"
   ]
  },
  {
   "cell_type": "markdown",
   "id": "cda3e1a5",
   "metadata": {},
   "source": [
    "Fastcore's call_parse decorator turns Python functions into CLI tools quickly. It's nowhere near as fancy as Typer or Click, but it's super quick to use."
   ]
  },
  {
   "cell_type": "markdown",
   "id": "026e52e5",
   "metadata": {},
   "source": [
    "## Study the Example"
   ]
  },
  {
   "cell_type": "markdown",
   "id": "079cdeff",
   "metadata": {},
   "source": [
    "From https://fastcore.fast.ai/script.html#example"
   ]
  },
  {
   "cell_type": "code",
   "execution_count": 23,
   "id": "5aca58c5",
   "metadata": {},
   "outputs": [],
   "source": [
    "#| export\n",
    "from fastcore.script import *\n",
    "from fastcore.utils import *\n",
    "from pathlib import Path\n",
    "import time"
   ]
  },
  {
   "cell_type": "code",
   "execution_count": 24,
   "id": "594164e8",
   "metadata": {},
   "outputs": [],
   "source": [
    "from nbdev.export import nb_export"
   ]
  },
  {
   "cell_type": "code",
   "execution_count": 4,
   "id": "7b8158c6",
   "metadata": {},
   "outputs": [],
   "source": [
    "@call_parse\n",
    "def main(msg:str,     # The message\n",
    "         upper:bool): # Convert to uppercase?\n",
    "    \"Print `msg`, optionally converting to uppercase\"\n",
    "    print(msg.upper() if upper else msg)"
   ]
  },
  {
   "cell_type": "markdown",
   "id": "5adf1913",
   "metadata": {},
   "source": [
    "We can use the function right here, which is nice:"
   ]
  },
  {
   "cell_type": "code",
   "execution_count": 5,
   "id": "839690f0",
   "metadata": {},
   "outputs": [
    {
     "name": "stdout",
     "output_type": "stream",
     "text": [
      "HEY\n"
     ]
    }
   ],
   "source": [
    "main(\"hey\", upper=True)"
   ]
  },
  {
   "cell_type": "code",
   "execution_count": 6,
   "id": "da013f82",
   "metadata": {},
   "outputs": [
    {
     "name": "stdout",
     "output_type": "stream",
     "text": [
      "hey\n"
     ]
    }
   ],
   "source": [
    "main(\"hey\", upper=False)"
   ]
  },
  {
   "cell_type": "markdown",
   "id": "181e94f3",
   "metadata": {},
   "source": [
    "As for using it as a CLI tool, the docs say \"If you copy that info a file and run it, you’ll see:\n",
    "    \n",
    "```sh\n",
    "$ examples/test_fastcore.py --help\n",
    "usage: test_fastcore.py [-h] [--upper] msg\n",
    "\n",
    "Print `msg`, optionally converting to uppercase\n",
    "\n",
    "positional arguments:\n",
    "  msg          The message\n",
    "\n",
    "optional arguments:\n",
    "  -h, --help   show this help message and exit\n",
    "  --upper      Convert to uppercase? (default: False)\n",
    "```\n",
    "\""
   ]
  },
  {
   "cell_type": "markdown",
   "id": "0786f5d6",
   "metadata": {},
   "source": [
    "## Real-World Example: Prepending Notebook Filenames With Dates"
   ]
  },
  {
   "cell_type": "markdown",
   "id": "1b5ad49e",
   "metadata": {},
   "source": [
    "I have many notebooks like Docker-Run.ipynb that I'd like prepended with the ISO 8601 date that they were last updated. My script will be prepend_nbs_with_dates.py because of the next line:"
   ]
  },
  {
   "cell_type": "code",
   "execution_count": 17,
   "id": "7be510da",
   "metadata": {},
   "outputs": [],
   "source": [
    "#| default_exp prepend_nbs_with_dates"
   ]
  },
  {
   "cell_type": "markdown",
   "id": "4a650689",
   "metadata": {},
   "source": [
    "I'll define a function to get all of them:"
   ]
  },
  {
   "cell_type": "code",
   "execution_count": 7,
   "id": "39c9cc0f",
   "metadata": {},
   "outputs": [],
   "source": [
    "#| export\n",
    "def get_undated_nbs(): return L(Path().glob('[!0-9]*.ipynb'))"
   ]
  },
  {
   "cell_type": "code",
   "execution_count": 8,
   "id": "a41be973",
   "metadata": {},
   "outputs": [
    {
     "data": {
      "text/plain": [
       "(#14) [Path('Publish-Command-for-This-Blog.ipynb'),Path('Title-Generation.ipynb'),Path('ShellSage-Ghostty-and-Tmux.ipynb'),Path('Understanding-Gradient-Descent.ipynb'),Path('SVG-Animation-Via-CSS-Keyframes.ipynb'),Path('AI-Trajectory.ipynb'),Path('asyncio-in-Jupyter-Notebooks.ipynb'),Path('Writing-for-the-AIs.ipynb'),Path('ai_server_load_testing.ipynb'),Path('SVG-Paths-in-FastHTML.ipynb'),Path('fastai-WordTokenizer.ipynb'),Path('Matplotlib-Charts-in-FastHTML.ipynb'),Path('fastcore-and-anki.ipynb'),Path('Docker-Run.ipynb')]"
      ]
     },
     "execution_count": 8,
     "metadata": {},
     "output_type": "execute_result"
    }
   ],
   "source": [
    "nbs = get_undated_nbs()\n",
    "nbs"
   ]
  },
  {
   "cell_type": "code",
   "execution_count": 9,
   "id": "481e5163",
   "metadata": {},
   "outputs": [
    {
     "data": {
      "text/plain": [
       "Path('Title-Generation.ipynb')"
      ]
     },
     "execution_count": 9,
     "metadata": {},
     "output_type": "execute_result"
    }
   ],
   "source": [
    "nbs[1]"
   ]
  },
  {
   "cell_type": "markdown",
   "id": "3f8dcf16",
   "metadata": {},
   "source": [
    "Then I'll define a function to prepend a date to a filename:"
   ]
  },
  {
   "cell_type": "code",
   "execution_count": 10,
   "id": "13f79651",
   "metadata": {},
   "outputs": [],
   "source": [
    "#| export\n",
    "def prepend_date(fn):\n",
    "    \"Prepend ISO 8601 date to filename if not already present\"\n",
    "    if fn.stem[0].isdigit(): return  # Already has date\n",
    "    mtime = fn.stat().st_mtime\n",
    "    date = time.strftime('%Y-%m-%d', time.localtime(mtime))\n",
    "    new_name = fn.parent/f\"{date}-{fn.name}\"\n",
    "    fn.rename(new_name)\n",
    "    return new_name"
   ]
  },
  {
   "cell_type": "code",
   "execution_count": 11,
   "id": "8fd43481",
   "metadata": {},
   "outputs": [],
   "source": [
    "# prepend_date(nbs[1])"
   ]
  },
  {
   "cell_type": "markdown",
   "id": "009c472b",
   "metadata": {},
   "source": [
    "Finally, I'll define a main function that gets all undated notebooks and prepends dates to their filenames:"
   ]
  },
  {
   "cell_type": "code",
   "execution_count": 12,
   "id": "a7542e5a",
   "metadata": {},
   "outputs": [],
   "source": [
    "#| export\n",
    "@call_parse\n",
    "def main(dry_run:bool=True): # Don't actually rename if True\n",
    "    \"Prepend dates to notebook filenames\"\n",
    "    fns = get_undated_nbs()\n",
    "    print(f\"Found {len(fns)} undated notebooks\")\n",
    "    if dry_run:\n",
    "        for f in fns:\n",
    "            mtime = f.stat().st_mtime\n",
    "            date = time.strftime('%Y-%m-%d', time.localtime(mtime))\n",
    "            print(f\"{f} -> {date}-{f.name}\")\n",
    "    else:\n",
    "        for f in fns: prepend_date(f)"
   ]
  },
  {
   "cell_type": "markdown",
   "id": "fa53fa80",
   "metadata": {},
   "source": [
    "By default this does a dry run:"
   ]
  },
  {
   "cell_type": "code",
   "execution_count": 13,
   "id": "527dcb80",
   "metadata": {},
   "outputs": [
    {
     "name": "stdout",
     "output_type": "stream",
     "text": [
      "Found 14 undated notebooks\n",
      "Publish-Command-for-This-Blog.ipynb -> 2025-01-11-Publish-Command-for-This-Blog.ipynb\n",
      "Title-Generation.ipynb -> 2025-01-29-Title-Generation.ipynb\n",
      "ShellSage-Ghostty-and-Tmux.ipynb -> 2025-01-29-ShellSage-Ghostty-and-Tmux.ipynb\n",
      "Understanding-Gradient-Descent.ipynb -> 2025-01-16-Understanding-Gradient-Descent.ipynb\n",
      "SVG-Animation-Via-CSS-Keyframes.ipynb -> 2025-01-25-SVG-Animation-Via-CSS-Keyframes.ipynb\n",
      "AI-Trajectory.ipynb -> 2025-02-04-AI-Trajectory.ipynb\n",
      "asyncio-in-Jupyter-Notebooks.ipynb -> 2025-01-25-asyncio-in-Jupyter-Notebooks.ipynb\n",
      "Writing-for-the-AIs.ipynb -> 2025-01-27-Writing-for-the-AIs.ipynb\n",
      "ai_server_load_testing.ipynb -> 2024-11-25-ai_server_load_testing.ipynb\n",
      "SVG-Paths-in-FastHTML.ipynb -> 2025-01-27-SVG-Paths-in-FastHTML.ipynb\n",
      "fastai-WordTokenizer.ipynb -> 2025-01-11-fastai-WordTokenizer.ipynb\n",
      "Matplotlib-Charts-in-FastHTML.ipynb -> 2025-01-22-Matplotlib-Charts-in-FastHTML.ipynb\n",
      "fastcore-and-anki.ipynb -> 2025-01-19-fastcore-and-anki.ipynb\n",
      "Docker-Run.ipynb -> 2025-01-20-Docker-Run.ipynb\n"
     ]
    }
   ],
   "source": [
    "main()"
   ]
  },
  {
   "cell_type": "markdown",
   "id": "45b8eb25",
   "metadata": {},
   "source": [
    "Here we run it for real:"
   ]
  },
  {
   "cell_type": "code",
   "execution_count": 14,
   "id": "a779adfd",
   "metadata": {},
   "outputs": [
    {
     "name": "stdout",
     "output_type": "stream",
     "text": [
      "Found 14 undated notebooks\n"
     ]
    }
   ],
   "source": [
    "main(dry_run=False)"
   ]
  },
  {
   "cell_type": "markdown",
   "id": "17a68050",
   "metadata": {},
   "source": [
    "Now there are no more undated notebooks:"
   ]
  },
  {
   "cell_type": "code",
   "execution_count": 15,
   "id": "82a51daf",
   "metadata": {},
   "outputs": [
    {
     "data": {
      "text/plain": [
       "(#0) []"
      ]
     },
     "execution_count": 15,
     "metadata": {},
     "output_type": "execute_result"
    }
   ],
   "source": [
    "get_undated_nbs()"
   ]
  },
  {
   "cell_type": "markdown",
   "id": "96b9f330",
   "metadata": {},
   "source": [
    "## Export It"
   ]
  },
  {
   "cell_type": "code",
   "execution_count": 25,
   "id": "36c3296f",
   "metadata": {},
   "outputs": [],
   "source": [
    "nb_export(\"2025-02-05-Create-a-CLI-Tool-With-Fastcore-Script.ipynb\", lib_path=\"../scripts\")"
   ]
  },
  {
   "cell_type": "code",
   "execution_count": 26,
   "id": "b0b2c5e9",
   "metadata": {},
   "outputs": [
    {
     "name": "stdout",
     "output_type": "stream",
     "text": [
      "prepend_nbs_with_dates.py prepend_with_dates.py\r\n"
     ]
    }
   ],
   "source": [
    "!ls ../scripts/"
   ]
  },
  {
   "cell_type": "markdown",
   "id": "2d4e0d4b",
   "metadata": {},
   "source": [
    "## Run It"
   ]
  },
  {
   "cell_type": "markdown",
   "id": "aac59d95",
   "metadata": {},
   "source": [
    "I ran it as a function earlier, so I don't have undated notebooks at the moment!"
   ]
  },
  {
   "cell_type": "markdown",
   "id": "5d2d49d4",
   "metadata": {},
   "source": [
    "```sh\n",
    "% python ../scripts/prepend_nbs_with_dates.py\n",
    "Found 0 undated notebooks\n",
    "```"
   ]
  },
  {
   "cell_type": "markdown",
   "id": "8eae063a",
   "metadata": {},
   "source": [
    "Give me a few hours or days, and I'll update this post..."
   ]
  }
 ],
 "metadata": {
  "kernelspec": {
   "display_name": "Python 3 (ipykernel)",
   "language": "python",
   "name": "python3"
  },
  "language_info": {
   "codemirror_mode": {
    "name": "ipython",
    "version": 3
   },
   "file_extension": ".py",
   "mimetype": "text/x-python",
   "name": "python",
   "nbconvert_exporter": "python",
   "pygments_lexer": "ipython3",
   "version": "3.12.8"
  }
 },
 "nbformat": 4,
 "nbformat_minor": 5
}
