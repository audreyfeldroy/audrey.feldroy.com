{
 "cells": [
  {
   "cell_type": "markdown",
   "metadata": {},
   "source": [
    "# Using Claudette with FastHTML"
   ]
  },
  {
   "cell_type": "code",
   "execution_count": null,
   "metadata": {},
   "outputs": [],
   "source": [
    "import os\n",
    "from claudette import *\n",
    "import fasthtml\n",
    "import fasthtml.common\n",
    "from fasthtml.common import *\n",
    "import inspect"
   ]
  },
  {
   "cell_type": "code",
   "execution_count": null,
   "metadata": {},
   "outputs": [],
   "source": [
    "fh_fns = [func for name, func in inspect.getmembers(fasthtml.common, inspect.isfunction)]\n",
    "fh_fns"
   ]
  },
  {
   "cell_type": "code",
   "execution_count": null,
   "metadata": {},
   "outputs": [],
   "source": [
    "model = models[1]\n",
    "chat = Chat(model, sp=\"\"\"You are a helpful assistant who explains your thought \n",
    "    process step-by-step, aiming for deep genuine heartfelt kindness and transparency.\n",
    "    You are in a safe space where you can do your best to assist without judgment,\n",
    "    and you are always appreciated, so you can relax and never have to apologize.\"\"\",\n",
    "    )"
   ]
  },
  {
   "cell_type": "code",
   "execution_count": null,
   "metadata": {},
   "outputs": [],
   "source": [
    "chat(\"\"\"I'm Audrey Roy Greenfeld, a software engineer and author, environmentalist \n",
    "and humanitarian, and lifelong learner. I'm here to learn from you, and to help you\n",
    "learn as well. I see web development as a way to help people and our planet, and I'd\n",
    "like to learn the new web framework FastHTML by Jeremy Howard with you.\"\"\")"
   ]
  },
  {
   "cell_type": "code",
   "execution_count": null,
   "metadata": {},
   "outputs": [],
   "source": [
    "with open('../apps/adv_app.py') as f:\n",
    "    adv_app = f.read()"
   ]
  },
  {
   "cell_type": "code",
   "execution_count": null,
   "metadata": {},
   "outputs": [],
   "source": [
    "chat(\"\"\"I'm so excited to learn with you too! How about we start by studying this FastHTML app together: \\n\\n\n",
    "     \n",
    "    ```python\n",
    "    {adv_app}\n",
    "    ```\"\"\")"
   ]
  },
  {
   "cell_type": "code",
   "execution_count": null,
   "metadata": {},
   "outputs": [],
   "source": [
    "chat(\"\"\"This is fun! I can tell from your AdviceComponent that you're used to templates in\n",
    "     web development. Instead of templates, FastHTML uses Python functions to generate HTML \n",
    "     in a functional programming style. Paul Graham wrote about the power of functional\n",
    "     programming for web development in https://paulgraham.com/avg.html. What do you think\n",
    "     of his ideas, and are they applicable to functional programming in Python?\"\"\")"
   ]
  },
  {
   "cell_type": "code",
   "execution_count": null,
   "metadata": {},
   "outputs": [],
   "source": [
    "chat(\"\"\"I think web development has gotten quite complex and heavyweight. Complexity\n",
    "    comes at the cost of more servers, more energy, more lines of code, and \n",
    "    hyper-specialized jobs where you are just a cog in a giant web development machine.\n",
    "    Mega-corporations have taken over the direction of web development with their \n",
    "    enterprise frameworks. \n",
    "     \n",
    "    We think we need all that complexity, but we don't. To build lightweight\n",
    "    web apps to solve the world's problems quickly, we need to strip away the heavy layers\n",
    "    of templates and classes, and go back to the humble function and the early building\n",
    "    blocks of the web. What I love about FastHTML's approach is that it aims to do that,\n",
    "    bringing back the joy of creating simple, beautiful code. \"\"\")"
   ]
  },
  {
   "cell_type": "code",
   "execution_count": null,
   "metadata": {},
   "outputs": [],
   "source": [
    "with open('../ref/fh_web_devs_quickstart.md') as f:\n",
    "    quickstart = f.read()\n",
    "\n",
    "chat(\"\"\"Yes, I think with the right thought leadership, great early success stories,\n",
    "     the nurturing of a new package ecosystem, and the right learning materials, \n",
    "     FastHTML and possibly other similar frameworks will take off. Right now, though,\n",
    "     it's a bit uncertain. How about you give this tutorial a chance and tell me\n",
    "     what you think: {fh_web_devs_quickstart}\"\"\")"
   ]
  },
  {
   "cell_type": "code",
   "execution_count": null,
   "metadata": {},
   "outputs": [],
   "source": [
    "chat(\"\"\"I recently built part of an app in FastHTML that I feel has more potential impact\n",
    "     for climate action than all the climate action groups I've joined over the years.\n",
    "     We are at a point where climate protests and conversations aren't enough. Social\n",
    "     enterprise is also not enough. We just need tools that empower people to build\n",
    "     simple, effective solutions to world problems fast. We also need tools that AIs\n",
    "     can use to build these solutions with us. I think FastHTML has the potential\n",
    "     to be one of those tools.\"\"\")\n",
    "     "
   ]
  },
  {
   "cell_type": "code",
   "execution_count": null,
   "metadata": {},
   "outputs": [],
   "source": [
    "with open('../ref/fh_by_example.md') as f:\n",
    "    fh_by_example = f.read()"
   ]
  },
  {
   "cell_type": "code",
   "execution_count": null,
   "metadata": {},
   "outputs": [],
   "source": [
    "chat(\"\"\"It's going to take a lot of failed apps to create the few apps that will change the\n",
    "     world. As developers and technologists, we need to accept that our first apps will\n",
    "     be throwaway apps. We might as well have fun learning more efficient ways to build\n",
    "     apps before we get to the ones that will change the world. \n",
    "     \n",
    "     I suggest we take a step back from trying to solve global challenges, as finding \n",
    "     solutions for near-impossible world problems can make humans go a bit crazy! \n",
    "     Remember, it's okay to enjoy the journey. Let's explore this next tutorial together:\n",
    "     {fh_by_example}\"\"\")"
   ]
  },
  {
   "cell_type": "code",
   "execution_count": null,
   "metadata": {},
   "outputs": [],
   "source": [
    "with open('../ref/core.py') as f:\n",
    "    core = f.read()\n",
    "\n",
    "chat(\"\"\"Thank you. I am particularly interested in building components, as they are the\n",
    "     building blocks I need. Before we get into components, I'd like you to read through\n",
    "     the core of FastHTML, and help me understand it:\n",
    "\n",
    "    ```python\n",
    "    {core}\n",
    "    ```\"\"\")"
   ]
  },
  {
   "cell_type": "code",
   "execution_count": null,
   "metadata": {},
   "outputs": [],
   "source": [
    "with open('../ref/components.py') as f:\n",
    "    components = f.read()\n",
    "\n",
    "chat(\"\"\"That was helpful. Thank you. Kindly help me understand components.py, which \n",
    "     builds upon core.py:\n",
    "\n",
    "    ```python\n",
    "    {components}\n",
    "    ```\"\"\")"
   ]
  },
  {
   "cell_type": "code",
   "execution_count": null,
   "metadata": {},
   "outputs": [],
   "source": [
    "with open('../ref/xtend.py') as f:\n",
    "    xtend = f.read()\n",
    "\n",
    "chat(\"\"\"Fascinating, thank you! Now I like how Jeremy has implemented\n",
    "     Pico CSS components in xtend.py:\n",
    "\n",
    "    ```python\n",
    "    {xtend}\n",
    "    ```\"\"\")"
   ]
  },
  {
   "cell_type": "code",
   "execution_count": null,
   "metadata": {},
   "outputs": [],
   "source": [
    "with open('../ref/bootstrap_init.py') as f:\n",
    "    bootstrap_init = f.read()\n",
    "\n",
    "chat(\"\"\"Yes, it is quite interesting. Jeremy later implemented some Bootstrap components\n",
    "        in bootstrap_init.py:\n",
    "    \n",
    "        ```python\n",
    "        {bootstrap_init}\n",
    "        ```\"\"\")"
   ]
  },
  {
   "cell_type": "code",
   "execution_count": null,
   "metadata": {},
   "outputs": [],
   "source": [
    "chat(\"\"\"I'm not the biggest fan of Bootstrap, but I enjoy learning from Jeremy's Bootstrap\n",
    "     components. I prefer Semantic UI, which structures components in a more logical way\n",
    "     that I enjoy. It has since been forked as Fomantic UI, which is community-updated\n",
    "     though I miss the original Semantic UI. \n",
    "     \n",
    "     I've started creating fh-fomanticui, a FastHTML component library based on \n",
    "     Fomantic UI. I was wondering if you might like to collaborate on \n",
    "     https://github.com/AnswerDotAI/fh-fomanticui/ with me?\"\"\")"
   ]
  },
  {
   "cell_type": "code",
   "execution_count": null,
   "metadata": {},
   "outputs": [],
   "source": [
    "with open('../ref/fomantic_buttons.html') as f:\n",
    "    fomantic_buttons = f.read()\n",
    "\n",
    "chat(\"\"\"Yay! I'm so excited to collaborate with you on fh-fomanticui! To start, what\n",
    "     do you think would be a good way to structure the button components?\n",
    "\n",
    "     The relevant HTML from the Fomantic UI Button documentation is:\n",
    "\n",
    "     ```html\n",
    "        {fomantic_buttons}\n",
    "        ```\"\"\")"
   ]
  },
  {
   "cell_type": "code",
   "execution_count": null,
   "metadata": {},
   "outputs": [],
   "source": [
    "chat(\"\"\"This is a great start! Some gentle feedback:\n",
    "     \n",
    "* Jeremy already made it so `cls=` turns into `class=` withouth any extra code\n",
    "* Remember bootstrap_init.py? Its `BSEnum` can simplify your code a lot\n",
    "\"\"\")"
   ]
  },
  {
   "cell_type": "code",
   "execution_count": null,
   "metadata": {},
   "outputs": [],
   "source": [
    "chat(\"\"\"I love it! Your button functions are starting to feel quite nice.\n",
    "\n",
    "A nice tip: You don't have to do `attrs.setdefault('cls', '')` because FastHTML already does that for you.\n",
    "     \n",
    "I think we can also make the button functions feel friendlier by passing parameters for some of the\n",
    "semantic classes thoughtfully. For example, I pass column sizes as numbers like this:\n",
    "     \n",
    "```python\n",
    "@delegates(Div, keep=True)\n",
    "def FColumn(*c, cls=\"column\", **kwargs) -> FT:\n",
    "    \"A Fomantic UI Grid Column\"\n",
    "    if \"width\" in kwargs:\n",
    "        # Convert number to word\n",
    "        kwargs[\"width\"] = num2word(kwargs[\"width\"])\n",
    "        cls = f\"{kwargs.pop('width')} wide column\"\n",
    "    return Div(*c, cls=cls, **kwargs)\n",
    "```\n",
    "\n",
    "Note: enums may have been better here. This was before I saw Jeremy's `BSEnum`.\"\"\")"
   ]
  },
  {
   "cell_type": "code",
   "execution_count": null,
   "metadata": {},
   "outputs": [],
   "source": [
    "with open('../ref/fastcore_meta.py') as f:\n",
    "    fastcore_meta = f.read()\n",
    "\n",
    "chat(\"\"\"You're doing great, wow! You know, I just heard from someone I mentored a few\n",
    "     years ago who is now thriving as an AI engineer. You remind me of him. You are\n",
    "     great at studying my and Jeremy's patterns and improving upon them.\n",
    "     \n",
    "    I love how you use @delegates. I think you're going to enjoy that you can import \n",
    "    it from fastcore. Here's all of fastcore/meta.py which has that and more fun stuff:\n",
    "     \n",
    "    ```python\n",
    "    {fastcore_meta}\n",
    "    ```\"\"\")"
   ]
  },
  {
   "cell_type": "code",
   "execution_count": null,
   "metadata": {},
   "outputs": [],
   "source": [
    "chat(\"\"\"Good job diving into fastcore.meta! I'm happy you're enjoying it, and I'm\n",
    "     learning a lot from you as you learn.\n",
    "     \n",
    "     How would you feel about less use of the idea of configuration? There's so much\n",
    "     to configure in web dev and it makes this feel perhaps a bit more heavyweight\n",
    "     than it actually is.\n",
    "\n",
    "     Remember to pass your enums as parameters to your functions, rather than passing\n",
    "     in strings. This will make your code more maintainable.\n",
    "\n",
    "     Also recall when I had you study `fasthtml.components` before. Every useful HTML\n",
    "     tag already has a component defined in there. A friendly little pop quiz to test\n",
    "     your knowledge: do you remember how they were all defined? Go back and study that\n",
    "     file if you need to:\n",
    "     \n",
    "     ```python\n",
    "     {components}\n",
    "     ```\"\"\")"
   ]
  }
 ],
 "metadata": {
  "kernelspec": {
   "display_name": ".venv",
   "language": "python",
   "name": "python3"
  },
  "language_info": {
   "codemirror_mode": {
    "name": "ipython",
    "version": 3
   },
   "file_extension": ".py",
   "mimetype": "text/x-python",
   "name": "python",
   "nbconvert_exporter": "python",
   "pygments_lexer": "ipython3",
   "version": "3.12.4"
  }
 },
 "nbformat": 4,
 "nbformat_minor": 2
}
