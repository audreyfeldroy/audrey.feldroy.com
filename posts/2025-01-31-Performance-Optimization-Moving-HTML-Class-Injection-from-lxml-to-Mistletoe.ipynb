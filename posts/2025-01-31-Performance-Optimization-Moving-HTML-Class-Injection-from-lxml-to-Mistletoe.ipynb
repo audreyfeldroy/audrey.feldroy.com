{
 "cells": [
  {
   "cell_type": "markdown",
   "id": "0ff97aaf",
   "metadata": {},
   "source": [
    "# Performance Optimization: Moving HTML Class Injection from lxml to Mistletoe"
   ]
  },
  {
   "cell_type": "markdown",
   "id": "27cedc7d",
   "metadata": {},
   "source": [
    "This is a proof-of-concept of moving MonsterUI's HTML class injection from lxml post-processing to a custom Mistletoe renderer. Looks like we can get 3x faster Markdown rendering using this simple MonsterHTMLRenderer vs. parsing the rendered HTML to inject the classes."
   ]
  },
  {
   "cell_type": "code",
   "execution_count": 22,
   "id": "0db7cb24",
   "metadata": {},
   "outputs": [],
   "source": [
    "from fasthtml.common import *\n",
    "from lxml import html, etree\n",
    "from monsterui.all import *\n",
    "import mistletoe\n",
    "from mistletoe import markdown\n",
    "from mistletoe.html_renderer import block_token, HtmlRenderer\n",
    "import timeit"
   ]
  },
  {
   "cell_type": "markdown",
   "id": "502436ab",
   "metadata": {},
   "source": [
    "## My Current Markdown to HTML FastTag"
   ]
  },
  {
   "cell_type": "markdown",
   "id": "9a46f20c",
   "metadata": {},
   "source": [
    "This is what I currently use on this site to render Markdown cells from my Jupyter notebooks:"
   ]
  },
  {
   "cell_type": "code",
   "execution_count": 2,
   "id": "1c05ea01",
   "metadata": {},
   "outputs": [],
   "source": [
    "def StyledMd(m):\n",
    "    return Safe(markdown(m))"
   ]
  },
  {
   "cell_type": "code",
   "execution_count": 3,
   "id": "823fa1a3",
   "metadata": {},
   "outputs": [],
   "source": [
    "x = \"## A Test Level 2 Heading\""
   ]
  },
  {
   "cell_type": "code",
   "execution_count": 4,
   "id": "2ed9ed4c",
   "metadata": {},
   "outputs": [
    {
     "data": {
      "text/plain": [
       "'<h2>A Test Level 2 Heading</h2>\\n'"
      ]
     },
     "execution_count": 4,
     "metadata": {},
     "output_type": "execute_result"
    }
   ],
   "source": [
    "StyledMd(x)"
   ]
  },
  {
   "cell_type": "markdown",
   "id": "42d237f6",
   "metadata": {},
   "source": [
    "## How MonsterUI Uses Mistletoe"
   ]
  },
  {
   "cell_type": "markdown",
   "id": "b15dfa02",
   "metadata": {},
   "source": [
    "`monsterui.franken` has this function. This seems promising! My goal is to add the `uk-h2` class to the above:"
   ]
  },
  {
   "cell_type": "code",
   "execution_count": 5,
   "id": "b3cde25d",
   "metadata": {},
   "outputs": [],
   "source": [
    "def render_md(md_content:str, # Markdown content\n",
    "               class_map=None, # Class map\n",
    "               class_map_mods=None # Additional class map\n",
    "              )->FT: # Rendered markdown\n",
    "    \"Renders markdown using mistletoe and lxml\"\n",
    "    if md_content=='': return md_content\n",
    "    # Check for required dependencies        \n",
    "    html_content = mistletoe.markdown(md_content) #, mcp.PygmentsRenderer)\n",
    "    return NotStr(apply_classes(html_content, class_map, class_map_mods))"
   ]
  },
  {
   "cell_type": "code",
   "execution_count": 6,
   "id": "10dee0af",
   "metadata": {},
   "outputs": [
    {
     "data": {
      "text/plain": [
       "'<h2 class=\"uk-h2 text-3xl font-bold mt-10 mb-5\">A Test Level 2 Heading</h2>\\n'"
      ]
     },
     "execution_count": 6,
     "metadata": {},
     "output_type": "execute_result"
    }
   ],
   "source": [
    "render_md(x)"
   ]
  },
  {
   "cell_type": "markdown",
   "id": "315fbb51",
   "metadata": {},
   "source": [
    "That looks like too many classes? Aha, I see `monsterui.franken` defines:"
   ]
  },
  {
   "cell_type": "code",
   "execution_count": 7,
   "id": "503f4a5f",
   "metadata": {},
   "outputs": [],
   "source": [
    "franken_class_map = {\n",
    "    'h1': 'uk-h1 text-4xl font-bold mt-12 mb-6',\n",
    "    'h2': 'uk-h2 text-3xl font-bold mt-10 mb-5', \n",
    "    'h3': 'uk-h3 text-2xl font-semibold mt-8 mb-4',\n",
    "    'h4': 'uk-h4 text-xl font-semibold mt-6 mb-3',\n",
    "    \n",
    "    # Body text and links\n",
    "    'p': 'text-lg leading-relaxed mb-6',\n",
    "    'a': 'uk-link text-primary hover:text-primary-focus underline',\n",
    "    \n",
    "    # Lists with proper spacing\n",
    "    'ul': 'uk-list uk-list-disc space-y-2 mb-6 ml-6',\n",
    "    'ol': 'uk-list uk-list-decimal space-y-2 mb-6 ml-6',\n",
    "    'li': 'leading-relaxed',\n",
    "    \n",
    "    # Code and quotes\n",
    "    'pre': 'bg-base-200 rounded-lg p-4 mb-6',\n",
    "    'code': 'uk-codespan px-1',\n",
    "    'pre code': 'uk-codespan px-1 block overflow-x-auto',\n",
    "    'blockquote': 'uk-blockquote pl-4 border-l-4 border-primary italic mb-6',\n",
    "    \n",
    "    # Tables\n",
    "    'table': 'uk-table uk-table-divider uk-table-hover uk-table-small w-full mb-6',\n",
    "    'th': 'text-left p-2',\n",
    "    'td': 'p-2',\n",
    "    \n",
    "    # Other elements\n",
    "    'hr': 'uk-divider-icon my-8',\n",
    "    'img': 'max-w-full h-auto rounded-lg mb-6'\n",
    "}"
   ]
  },
  {
   "cell_type": "markdown",
   "id": "23cc7d94",
   "metadata": {},
   "source": [
    "Let's try updating just the headings to remove the non-UIkit Tailwind classes:"
   ]
  },
  {
   "cell_type": "code",
   "execution_count": 8,
   "id": "c1172340",
   "metadata": {},
   "outputs": [],
   "source": [
    "franken_class_map = {\n",
    "    'h1': 'uk-h1',\n",
    "    'h2': 'uk-h2', \n",
    "    'h3': 'uk-h3',\n",
    "    'h4': 'uk-h4',\n",
    "    \n",
    "    # Body text and links\n",
    "    'p': 'text-lg leading-relaxed mb-6',\n",
    "    'a': 'uk-link text-primary hover:text-primary-focus underline',\n",
    "    \n",
    "    # Lists with proper spacing\n",
    "    'ul': 'uk-list uk-list-disc space-y-2 mb-6 ml-6',\n",
    "    'ol': 'uk-list uk-list-decimal space-y-2 mb-6 ml-6',\n",
    "    'li': 'leading-relaxed',\n",
    "    \n",
    "    # Code and quotes\n",
    "    'pre': 'bg-base-200 rounded-lg p-4 mb-6',\n",
    "    'code': 'uk-codespan px-1',\n",
    "    'pre code': 'uk-codespan px-1 block overflow-x-auto',\n",
    "    'blockquote': 'uk-blockquote pl-4 border-l-4 border-primary italic mb-6',\n",
    "    \n",
    "    # Tables\n",
    "    'table': 'uk-table uk-table-divider uk-table-hover uk-table-small w-full mb-6',\n",
    "    'th': 'text-left p-2',\n",
    "    'td': 'p-2',\n",
    "    \n",
    "    # Other elements\n",
    "    'hr': 'uk-divider-icon my-8',\n",
    "    'img': 'max-w-full h-auto rounded-lg mb-6'\n",
    "}"
   ]
  },
  {
   "cell_type": "markdown",
   "id": "9daaeab2",
   "metadata": {},
   "source": [
    "Now explicitly passing in the updated one:"
   ]
  },
  {
   "cell_type": "code",
   "execution_count": 9,
   "id": "f1f5c827",
   "metadata": {},
   "outputs": [
    {
     "data": {
      "text/plain": [
       "'<h2 class=\"uk-h2\">A Test Level 2 Heading</h2>\\n'"
      ]
     },
     "execution_count": 9,
     "metadata": {},
     "output_type": "execute_result"
    }
   ],
   "source": [
    "render_md(x, class_map=franken_class_map)"
   ]
  },
  {
   "cell_type": "markdown",
   "id": "a9c95681",
   "metadata": {},
   "source": [
    "That worked!"
   ]
  },
  {
   "cell_type": "markdown",
   "id": "fab9e996",
   "metadata": {},
   "source": [
    "## Understanding render_md"
   ]
  },
  {
   "cell_type": "markdown",
   "id": "f890e45c",
   "metadata": {},
   "source": [
    "`render_md` calls `apply_classes`:"
   ]
  },
  {
   "cell_type": "code",
   "execution_count": 10,
   "id": "9bd41a31",
   "metadata": {},
   "outputs": [],
   "source": [
    "def apply_classes(html_str:str, # Html string\n",
    "                  class_map=None, # Class map\n",
    "                  class_map_mods=None # Class map that will modify the class map map (useful for small changes to a base class map)\n",
    "                 )->str: # Html string with classes applied\n",
    "    \"Apply classes to html string\"\n",
    "    if not html_str: return html_str\n",
    "    try:\n",
    "        class_map = ifnone(class_map, franken_class_map)\n",
    "        if class_map_mods: class_map = {**class_map, **class_map_mods}\n",
    "        html_str = html.fromstring(html_str)\n",
    "        for selector, classes in class_map.items():\n",
    "            # Handle descendant selectors (e.g., 'pre code')\n",
    "            xpath = '//' + '/descendant::'.join(selector.split())\n",
    "            for element in html_str.xpath(xpath):\n",
    "                existing_class = element.get('class', '')\n",
    "                new_class = f\"{existing_class} {classes}\".strip()\n",
    "                element.set('class', new_class)\n",
    "        return etree.tostring(html_str, encoding='unicode', method='html')\n",
    "    except etree.ParserError:\n",
    "        return html_str"
   ]
  },
  {
   "cell_type": "markdown",
   "id": "d0d8480e",
   "metadata": {},
   "source": [
    "Here, lxml matches and appends the classes after mistletoe generates the HTML. This could probably be improved by implementing a custom Mistletoe HTML renderer instead of parsing its rendered HTML. [html_renderer.py](https://github.com/miyuchina/mistletoe/blob/master/mistletoe/html_renderer.py) looks nicely customizable."
   ]
  },
  {
   "cell_type": "code",
   "execution_count": 11,
   "id": "13577f30",
   "metadata": {},
   "outputs": [],
   "source": [
    "class MonsterHtmlRenderer(HtmlRenderer):\n",
    "    def render_heading(self, token: block_token.Heading) -> str:\n",
    "        template = '<h{level} class=\"uk-h{level}\">{inner}</h{level}>'\n",
    "        inner = self.render_inner(token)\n",
    "        return template.format(level=token.level, inner=inner)"
   ]
  },
  {
   "cell_type": "markdown",
   "id": "db652ab3",
   "metadata": {},
   "source": [
    "Now we try it:"
   ]
  },
  {
   "cell_type": "code",
   "execution_count": 12,
   "id": "43798d88",
   "metadata": {},
   "outputs": [
    {
     "data": {
      "text/plain": [
       "'<h2 class=\"uk-h2\">Heading 2</h2>\\n'"
      ]
     },
     "execution_count": 12,
     "metadata": {},
     "output_type": "execute_result"
    }
   ],
   "source": [
    "markdown(\"## Heading 2\", MonsterHtmlRenderer)"
   ]
  },
  {
   "cell_type": "markdown",
   "id": "f50fcd20",
   "metadata": {},
   "source": [
    "That worked!"
   ]
  },
  {
   "cell_type": "markdown",
   "id": "415622e2",
   "metadata": {},
   "source": [
    "## Updating StyledMd"
   ]
  },
  {
   "cell_type": "code",
   "execution_count": 13,
   "id": "8381d78e",
   "metadata": {},
   "outputs": [],
   "source": [
    "def StyledMd(m):\n",
    "    return Safe(markdown(m, MonsterHtmlRenderer))"
   ]
  },
  {
   "cell_type": "code",
   "execution_count": 14,
   "id": "705b46d9",
   "metadata": {},
   "outputs": [
    {
     "data": {
      "text/plain": [
       "'<h2 class=\"uk-h2\">Heading 2</h2>\\n'"
      ]
     },
     "execution_count": 14,
     "metadata": {},
     "output_type": "execute_result"
    }
   ],
   "source": [
    "StyledMd(\"## Heading 2\")"
   ]
  },
  {
   "cell_type": "markdown",
   "id": "9192d9f1",
   "metadata": {},
   "source": [
    "## Benchmarks"
   ]
  },
  {
   "cell_type": "markdown",
   "id": "fb7c69b7",
   "metadata": {},
   "source": [
    "Over 100,000 iterations I dramatically improved Markdown rendering performance:"
   ]
  },
  {
   "cell_type": "code",
   "execution_count": 33,
   "id": "68cc2c8f",
   "metadata": {},
   "outputs": [],
   "source": [
    "test_md = \"## Heading\\n\\nParagraph\\n\\n* List item 1\\n* List item 2\"\n",
    "\n",
    "def benchmark_old():\n",
    "    return render_md(test_md, class_map=franken_class_map)\n",
    "\n",
    "def benchmark_new():\n",
    "    return markdown(test_md, MonsterHtmlRenderer)"
   ]
  },
  {
   "cell_type": "code",
   "execution_count": 38,
   "id": "f2b7bebf",
   "metadata": {},
   "outputs": [],
   "source": [
    "n = 100000"
   ]
  },
  {
   "cell_type": "code",
   "execution_count": 42,
   "id": "576e9827",
   "metadata": {},
   "outputs": [
    {
     "name": "stdout",
     "output_type": "stream",
     "text": [
      "Old method: 0.15ms per iteration\n"
     ]
    }
   ],
   "source": [
    "t_old = timeit.timeit('benchmark_old()', globals=globals(), number=n)\n",
    "print(f\"Old method: {t_old/n*1000:.2f}ms per iteration\")"
   ]
  },
  {
   "cell_type": "code",
   "execution_count": 43,
   "id": "5fb9491b",
   "metadata": {},
   "outputs": [
    {
     "name": "stdout",
     "output_type": "stream",
     "text": [
      "New method: 0.05ms per iteration\n"
     ]
    }
   ],
   "source": [
    "t_new = timeit.timeit('benchmark_new()', globals=globals(), number=n)\n",
    "print(f\"New method: {t_new/n*1000:.2f}ms per iteration\")"
   ]
  },
  {
   "cell_type": "markdown",
   "id": "e054d8ec",
   "metadata": {},
   "source": [
    "## Next Steps"
   ]
  },
  {
   "cell_type": "markdown",
   "id": "1fed873c",
   "metadata": {},
   "source": [
    "This is ready to back-integrate into this site. I hope to contribute the relevant parts of this back to MonsterUI as well, to improve Markdown rendering performance in sites that use it."
   ]
  }
 ],
 "metadata": {
  "kernelspec": {
   "display_name": "Python 3 (ipykernel)",
   "language": "python",
   "name": "python3"
  },
  "language_info": {
   "codemirror_mode": {
    "name": "ipython",
    "version": 3
   },
   "file_extension": ".py",
   "mimetype": "text/x-python",
   "name": "python",
   "nbconvert_exporter": "python",
   "pygments_lexer": "ipython3",
   "version": "3.12.8"
  }
 },
 "nbformat": 4,
 "nbformat_minor": 5
}
