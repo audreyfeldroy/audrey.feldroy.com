{
 "cells": [
  {
   "cell_type": "markdown",
   "id": "29692644",
   "metadata": {},
   "source": [
    "# FastHTML and MonsterUI Time Converter"
   ]
  },
  {
   "cell_type": "markdown",
   "id": "f40d1944",
   "metadata": {},
   "source": [
    "A FastHTML app that converts times to different timezones, and to Discord timestamps."
   ]
  },
  {
   "cell_type": "code",
   "execution_count": 1,
   "id": "02a0c192",
   "metadata": {},
   "outputs": [],
   "source": [
    "from datetime import datetime\n",
    "from fastcore.utils import *\n",
    "from fasthtml.common import *\n",
    "from fasthtml.jupyter import *\n",
    "from monsterui.all import *\n",
    "from zoneinfo import ZoneInfo"
   ]
  },
  {
   "cell_type": "markdown",
   "id": "18cbc135",
   "metadata": {},
   "source": [
    "## Bring Over Time Conversion Functions"
   ]
  },
  {
   "cell_type": "markdown",
   "id": "48604a76",
   "metadata": {},
   "source": [
    "This code is from [Functional Programming with datetime, and Omni-Timezone Discord Timestamps](https://audrey.feldroy.com/nbs/2025-01-28-Functional-Programming-with-datetime-and-Omni-Timezone-Discord-Timestamps)."
   ]
  },
  {
   "cell_type": "code",
   "execution_count": 2,
   "id": "734dd07c",
   "metadata": {},
   "outputs": [
    {
     "data": {
      "text/plain": [
       "(#6) ['America/Los_Angeles','America/Chicago','America/New_York','Europe/London','Europe/Istanbul','Australia/Brisbane']"
      ]
     },
     "execution_count": 2,
     "metadata": {},
     "output_type": "execute_result"
    }
   ],
   "source": [
    "#| export\n",
    "tzs = L('America/Los_Angeles', 'America/Chicago', 'America/New_York', 'Europe/London', 'Europe/Istanbul', 'Australia/Brisbane',)\n",
    "tzs"
   ]
  },
  {
   "cell_type": "code",
   "execution_count": 3,
   "id": "540a6761",
   "metadata": {},
   "outputs": [
    {
     "name": "stdout",
     "output_type": "stream",
     "text": [
      "America/Los_Angeles  07:49\n",
      "America/Chicago      09:49\n",
      "America/New_York     10:49\n",
      "Europe/London        15:49\n",
      "Europe/Istanbul      18:49\n",
      "Australia/Brisbane   01:49\n"
     ]
    },
    {
     "data": {
      "text/plain": [
       "(#6) [None,None,None,None,None,None]"
      ]
     },
     "execution_count": 3,
     "metadata": {},
     "output_type": "execute_result"
    }
   ],
   "source": [
    "#| export\n",
    "def time_in_tz(tz:str, dt:datetime|None=None) -> str: \n",
    "    if dt is None: dt = datetime.now()\n",
    "    dt = dt.astimezone(ZoneInfo(tz))\n",
    "    return f\"{tz:20} {dt:%H:%M}\"\n",
    "tzs.map(time_in_tz).map(print)"
   ]
  },
  {
   "cell_type": "code",
   "execution_count": 4,
   "id": "8deacf49",
   "metadata": {},
   "outputs": [
    {
     "name": "stdout",
     "output_type": "stream",
     "text": [
      "Discord              <t:1738597748:f>\n"
     ]
    }
   ],
   "source": [
    "#| export\n",
    "def print_discord_time(dt:datetime|None=None) -> None:\n",
    "    if dt is None: dt = datetime.now()\n",
    "    print(f\"{\"Discord\":20} <t:{int(dt.timestamp())}:f>\")\n",
    "print_discord_time()"
   ]
  },
  {
   "cell_type": "code",
   "execution_count": 5,
   "id": "aaa8937c",
   "metadata": {
    "scrolled": true
   },
   "outputs": [
    {
     "name": "stdout",
     "output_type": "stream",
     "text": [
      "America/Los_Angeles  07:49\n",
      "America/Chicago      09:49\n",
      "America/New_York     10:49\n",
      "Europe/London        15:49\n",
      "Europe/Istanbul      18:49\n",
      "Australia/Brisbane   01:49\n",
      "Discord              <t:1738597748:f>\n"
     ]
    }
   ],
   "source": [
    "#| export\n",
    "def print_times(dt:datetime|None=None) -> None:\n",
    "    if dt is None: dt = datetime.now()\n",
    "    tzs = L('America/Los_Angeles', 'America/Chicago', 'America/New_York', 'Europe/London', 'Europe/Istanbul', 'Australia/Brisbane')\n",
    "    tzs.map(time_in_tz).map(print)\n",
    "    print_discord_time(dt)\n",
    "print_times()"
   ]
  },
  {
   "cell_type": "markdown",
   "id": "f6ef4db4",
   "metadata": {},
   "source": [
    "## Make a TimeConverter FastTag"
   ]
  },
  {
   "cell_type": "code",
   "execution_count": 8,
   "id": "1442541f",
   "metadata": {},
   "outputs": [],
   "source": [
    "app, rt = fast_app(hdrs=(Theme.slate.headers(),))"
   ]
  },
  {
   "cell_type": "code",
   "execution_count": 79,
   "id": "1013a735",
   "metadata": {},
   "outputs": [
    {
     "data": {
      "text/html": [
       "<form enctype=\"multipart/form-data\" hx-post=\"/convert\" hx-swap=\"outerHTML\" hx-target=\"#grid\" class=\"space-y-3\">  <h3 class=\"uk-h3 text-base font-semibold text-gray-900 dark:text-slate-100\">Convert a Time</h3>\n",
       "  <input name=\"dt\" type=\"datetime-local\" value=\"2025-02-03T14:30\" class=\"uk-input \">\n",
       "<button type=\"submit\" class=\"uk-button uk-button-primary\">Submit</button></form><script>if (window.htmx) htmx.process(document.body)</script>"
      ],
      "text/plain": [
       "<IPython.core.display.HTML object>"
      ]
     },
     "metadata": {},
     "output_type": "display_data"
    }
   ],
   "source": [
    "def TimeConverter():\n",
    "    return Form(\n",
    "        H3(\"Convert a Time\", cls=\"text-base font-semibold text-gray-900 dark:text-slate-100\"),\n",
    "        Input(name=\"dt\", type=\"datetime-local\", value=\"2025-02-03T14:30\"),\n",
    "        Button(\"Submit\", cls=ButtonT.primary), hx_post=\"/convert\", hx_target=\"#grid\", hx_swap=\"outerHTML\")\n",
    "\n",
    "show(TimeConverter())"
   ]
  },
  {
   "cell_type": "code",
   "execution_count": 70,
   "id": "9ecc10b9",
   "metadata": {},
   "outputs": [
    {
     "data": {
      "text/plain": [
       "datetime.datetime(2025, 2, 3, 16, 8, 55, 368904)"
      ]
     },
     "execution_count": 70,
     "metadata": {},
     "output_type": "execute_result"
    }
   ],
   "source": [
    "dt = datetime.now()\n",
    "dt"
   ]
  },
  {
   "cell_type": "code",
   "execution_count": 71,
   "id": "8a0c31a4",
   "metadata": {},
   "outputs": [],
   "source": [
    "def TimeTable(dt):\n",
    "    tzs = L('America/Los_Angeles', 'America/Chicago', 'America/New_York', 'Europe/London', 'Europe/Istanbul', 'Australia/Brisbane',)\n",
    "    return Table(\n",
    "        Thead(Tr(Th(f\"{dt:%a, %b %-d, %Y %H:%M} GMT is also\", colspan=2))),\n",
    "        *[Tr(\n",
    "            Td(tz),\n",
    "            Td(time_in_tz(tz, dt).split()[-1])\n",
    "          ) for tz in tzs],\n",
    "        Tr(Td(\"Discord\"), Td(f\"<t:{int(dt.timestamp())}:f>\"))\n",
    "    )"
   ]
  },
  {
   "cell_type": "code",
   "execution_count": 72,
   "id": "1c014763",
   "metadata": {},
   "outputs": [
    {
     "data": {
      "text/html": [
       "<table class=\"uk-table uk-table-middle uk-table-divider uk-table-hover uk-table-small\">\n",
       "  <thead>\n",
       "    <tr>\n",
       "      <th colspan=\"2\">Mon, Feb 3, 2025 16:08 GMT is also</th>\n",
       "    </tr>\n",
       "  </thead>\n",
       "  <tr>\n",
       "    <td>America/Los_Angeles</td>\n",
       "    <td>08:08</td>\n",
       "  </tr>\n",
       "  <tr>\n",
       "    <td>America/Chicago</td>\n",
       "    <td>10:08</td>\n",
       "  </tr>\n",
       "  <tr>\n",
       "    <td>America/New_York</td>\n",
       "    <td>11:08</td>\n",
       "  </tr>\n",
       "  <tr>\n",
       "    <td>Europe/London</td>\n",
       "    <td>16:08</td>\n",
       "  </tr>\n",
       "  <tr>\n",
       "    <td>Europe/Istanbul</td>\n",
       "    <td>19:08</td>\n",
       "  </tr>\n",
       "  <tr>\n",
       "    <td>Australia/Brisbane</td>\n",
       "    <td>02:08</td>\n",
       "  </tr>\n",
       "  <tr>\n",
       "    <td>Discord</td>\n",
       "    <td>&lt;t:1738598935:f&gt;</td>\n",
       "  </tr>\n",
       "</table>\n",
       "<script>if (window.htmx) htmx.process(document.body)</script>"
      ],
      "text/plain": [
       "<IPython.core.display.HTML object>"
      ]
     },
     "metadata": {},
     "output_type": "display_data"
    }
   ],
   "source": [
    "show(TimeTable(dt))"
   ]
  },
  {
   "cell_type": "markdown",
   "id": "ec64ee82",
   "metadata": {},
   "source": [
    "## Define Routes"
   ]
  },
  {
   "cell_type": "code",
   "execution_count": 76,
   "id": "93884331",
   "metadata": {},
   "outputs": [],
   "source": [
    "@rt\n",
    "def index():\n",
    "    dt = datetime.now()\n",
    "    return Grid(TimeTable(dt), TimeConverter(), id=\"grid\")"
   ]
  },
  {
   "cell_type": "code",
   "execution_count": 74,
   "id": "024e57b3",
   "metadata": {},
   "outputs": [],
   "source": [
    "@rt\n",
    "def convert(dt:str):\n",
    "    dt = datetime.fromisoformat(dt).replace(tzinfo=ZoneInfo('Europe/London'))\n",
    "    return (TimeTable(dt), TimeConverter())"
   ]
  },
  {
   "cell_type": "code",
   "execution_count": 15,
   "id": "ed63a883",
   "metadata": {},
   "outputs": [
    {
     "data": {
      "text/html": [
       "\n",
       "<script>\n",
       "document.body.addEventListener('htmx:configRequest', (event) => {\n",
       "    if(event.detail.path.includes('://')) return;\n",
       "    htmx.config.selfRequestsOnly=false;\n",
       "    event.detail.path = `${location.protocol}//${location.hostname}:8000${event.detail.path}`;\n",
       "});\n",
       "</script>"
      ],
      "text/plain": [
       "<IPython.core.display.HTML object>"
      ]
     },
     "metadata": {},
     "output_type": "display_data"
    }
   ],
   "source": [
    "server = JupyUvi(app)"
   ]
  },
  {
   "cell_type": "code",
   "execution_count": 16,
   "id": "a717d646",
   "metadata": {},
   "outputs": [
    {
     "ename": "NameError",
     "evalue": "name 'server' is not defined",
     "output_type": "error",
     "traceback": [
      "\u001b[0;31m---------------------------------------------------------------------------\u001b[0m",
      "\u001b[0;31mNameError\u001b[0m                                 Traceback (most recent call last)",
      "Cell \u001b[0;32mIn[16], line 1\u001b[0m\n\u001b[0;32m----> 1\u001b[0m \u001b[43mserver\u001b[49m\u001b[38;5;241m.\u001b[39mstop()\n",
      "\u001b[0;31mNameError\u001b[0m: name 'server' is not defined"
     ]
    }
   ],
   "source": [
    "server.stop()"
   ]
  },
  {
   "cell_type": "code",
   "execution_count": null,
   "id": "97d3cd5b",
   "metadata": {},
   "outputs": [],
   "source": []
  }
 ],
 "metadata": {
  "kernelspec": {
   "display_name": "Python 3 (ipykernel)",
   "language": "python",
   "name": "python3"
  },
  "language_info": {
   "codemirror_mode": {
    "name": "ipython",
    "version": 3
   },
   "file_extension": ".py",
   "mimetype": "text/x-python",
   "name": "python",
   "nbconvert_exporter": "python",
   "pygments_lexer": "ipython3",
   "version": "3.12.8"
  }
 },
 "nbformat": 4,
 "nbformat_minor": 5
}
