{
 "cells": [
  {
   "cell_type": "markdown",
   "id": "e865206a",
   "metadata": {},
   "source": [
    "# Cosine Similarity Breakdown in LaTeX"
   ]
  },
  {
   "cell_type": "markdown",
   "id": "5dc1aea0",
   "metadata": {},
   "source": [
    "A mathematical breakdown of cosine similarity, with copy-pastable LaTeX."
   ]
  },
  {
   "cell_type": "markdown",
   "id": "1bbf957e",
   "metadata": {},
   "source": [
    "## Overview"
   ]
  },
  {
   "cell_type": "markdown",
   "id": "faad9583",
   "metadata": {},
   "source": [
    "After hearing so much about cosine similarity, I thought it was something extremely difficult to understand. It turns out it's just the similarity of 2 word vectors, calculated as the cosine of the angle between them.\n",
    "\n",
    "The result ranges from -1 to 1, where:\n",
    "\n",
    "* 1 means the vectors point in the same direction (most similar)\n",
    "* 0 means they're perpendicular (totally unrelated)\n",
    "* -1 means they point in opposite directions (complete opposites)\n",
    "\n",
    "Similarity is just about the angle. The vectors are typically normalized to make comparisons make more sense intuitively, and to avoid having to deal with magnitudes as well.\n",
    "\n",
    "Note: I'm reading that the range used with word vectors is usually [0,1] because word vectors typically are non-negative."
   ]
  },
  {
   "cell_type": "markdown",
   "id": "f5b4b6e0",
   "metadata": {},
   "source": [
    "## The Cosine Similarity Formula"
   ]
  },
  {
   "cell_type": "markdown",
   "id": "11d974a5",
   "metadata": {},
   "source": [
    "The cosine similarity formula in LaTeX:"
   ]
  },
  {
   "cell_type": "code",
   "execution_count": 7,
   "id": "06004824",
   "metadata": {},
   "outputs": [
    {
     "data": {
      "text/latex": [
       "$$\\text{cos}(\\theta) = \\frac{\\mathbf{A} \\cdot \\mathbf{B}}{\\|\\mathbf{A}\\| \\|\\mathbf{B}\\|}$$\n"
      ],
      "text/plain": [
       "<IPython.core.display.Latex object>"
      ]
     },
     "metadata": {},
     "output_type": "display_data"
    }
   ],
   "source": [
    "%%latex\n",
    "$$\\text{cos}(\\theta) = \\frac{\\mathbf{A} \\cdot \\mathbf{B}}{\\|\\mathbf{A}\\| \\|\\mathbf{B}\\|}$$"
   ]
  },
  {
   "cell_type": "markdown",
   "id": "1932bca7",
   "metadata": {},
   "source": [
    "## Dot Product"
   ]
  },
  {
   "cell_type": "markdown",
   "id": "83e774a9",
   "metadata": {},
   "source": [
    "If you're wondering why it looks so familiar, it's probably because you can get it by rewriting the definition of the dot product:"
   ]
  },
  {
   "cell_type": "code",
   "execution_count": 20,
   "id": "e2d0f64b",
   "metadata": {},
   "outputs": [
    {
     "data": {
      "text/latex": [
       "$$\\mathbf{A} \\cdot \\mathbf{B} = {\\|\\mathbf{A}\\| \\|\\mathbf{B}\\|}\\cos(\\theta)$$\n"
      ],
      "text/plain": [
       "<IPython.core.display.Latex object>"
      ]
     },
     "metadata": {},
     "output_type": "display_data"
    }
   ],
   "source": [
    "%%latex\n",
    "$$\\mathbf{A} \\cdot \\mathbf{B} = {\\|\\mathbf{A}\\| \\|\\mathbf{B}\\|}\\cos(\\theta)$$"
   ]
  },
  {
   "cell_type": "markdown",
   "id": "148fa3a6",
   "metadata": {},
   "source": [
    "## Expanding Dot Product Sum"
   ]
  },
  {
   "cell_type": "markdown",
   "id": "dd419125",
   "metadata": {},
   "source": [
    "In the cosine similarity formula, the numerator is the dot product **A** . **B**. Expanding that, you get the sum of all the vector components multiplied together:"
   ]
  },
  {
   "cell_type": "code",
   "execution_count": 14,
   "id": "23508bba",
   "metadata": {},
   "outputs": [
    {
     "data": {
      "text/latex": [
       "$$\\mathbf{A} \\cdot \\mathbf{B} = \\sum_{i=1}^n A_i B_i$$\n"
      ],
      "text/plain": [
       "<IPython.core.display.Latex object>"
      ]
     },
     "metadata": {},
     "output_type": "display_data"
    }
   ],
   "source": [
    "%%latex\n",
    "$$\\mathbf{A} \\cdot \\mathbf{B} = \\sum_{i=1}^n A_i B_i$$"
   ]
  },
  {
   "cell_type": "markdown",
   "id": "eb3a082d",
   "metadata": {},
   "source": [
    "## Magnitude: Sqrt of Sum of Squares"
   ]
  },
  {
   "cell_type": "markdown",
   "id": "ff564e70",
   "metadata": {},
   "source": [
    "The magnitude ‖A‖ is the square root of the sum of the squares of its components:"
   ]
  },
  {
   "cell_type": "code",
   "execution_count": 30,
   "id": "f7e26a86",
   "metadata": {},
   "outputs": [
    {
     "data": {
      "text/latex": [
       "$$\\|\\mathbf{A}\\| = \\sqrt{\\sum_{i=1}^{n} A_i^2}$$\n"
      ],
      "text/plain": [
       "<IPython.core.display.Latex object>"
      ]
     },
     "metadata": {},
     "output_type": "display_data"
    }
   ],
   "source": [
    "%%latex\n",
    "$$\\|\\mathbf{A}\\| = \\sqrt{\\sum_{i=1}^{n} A_i^2}$$"
   ]
  },
  {
   "cell_type": "markdown",
   "id": "7badf992",
   "metadata": {},
   "source": [
    "It's just the length of the vector."
   ]
  },
  {
   "cell_type": "markdown",
   "id": "7fbc3d12",
   "metadata": {},
   "source": [
    "## Multiplying Vector Magnitudes"
   ]
  },
  {
   "cell_type": "markdown",
   "id": "69241573",
   "metadata": {},
   "source": [
    "In the cosine similarity formula, the denominator is multiplying magnitudes $\\|\\mathbf{A}\\| \\|\\mathbf{B}\\|$ together:"
   ]
  },
  {
   "cell_type": "code",
   "execution_count": 26,
   "id": "504444b0",
   "metadata": {},
   "outputs": [
    {
     "data": {
      "text/latex": [
       "$$\\|\\mathbf{A}\\| \\|\\mathbf{B}\\| = {\\sqrt{\\sum_{i=1}^{n} A_i^2} \\sqrt{\\sum_{i=1}^{n} B_i^2}}$$\n"
      ],
      "text/plain": [
       "<IPython.core.display.Latex object>"
      ]
     },
     "metadata": {},
     "output_type": "display_data"
    }
   ],
   "source": [
    "%%latex\n",
    "$$\\|\\mathbf{A}\\| \\|\\mathbf{B}\\| = {\\sqrt{\\sum_{i=1}^{n} A_i^2} \\sqrt{\\sum_{i=1}^{n} B_i^2}}$$"
   ]
  },
  {
   "cell_type": "markdown",
   "id": "5d0bc906",
   "metadata": {},
   "source": [
    "## Putting It All Together"
   ]
  },
  {
   "cell_type": "code",
   "execution_count": 28,
   "id": "498ba4c2",
   "metadata": {},
   "outputs": [
    {
     "data": {
      "text/latex": [
       "$$\\text{cos}(\\theta) = \\frac{\\mathbf{A} \\cdot \\mathbf{B}}{\\|\\mathbf{A}\\| \\|\\mathbf{B}\\|} = \\frac{\\sum_{i=1}^{n} A_i B_i}{\\sqrt{\\sum_{i=1}^{n} A_i^2} \\sqrt{\\sum_{i=1}^{n} B_i^2}}$$\n"
      ],
      "text/plain": [
       "<IPython.core.display.Latex object>"
      ]
     },
     "metadata": {},
     "output_type": "display_data"
    }
   ],
   "source": [
    "%%latex\n",
    "$$\\text{cos}(\\theta) = \\frac{\\mathbf{A} \\cdot \\mathbf{B}}{\\|\\mathbf{A}\\| \\|\\mathbf{B}\\|} = \\frac{\\sum_{i=1}^{n} A_i B_i}{\\sqrt{\\sum_{i=1}^{n} A_i^2} \\sqrt{\\sum_{i=1}^{n} B_i^2}}$$"
   ]
  },
  {
   "cell_type": "markdown",
   "id": "f3281e54",
   "metadata": {},
   "source": [
    "## Simplifying With Normalization"
   ]
  },
  {
   "cell_type": "code",
   "execution_count": null,
   "id": "1a3b2b61",
   "metadata": {},
   "outputs": [],
   "source": []
  },
  {
   "cell_type": "markdown",
   "id": "0c562278",
   "metadata": {},
   "source": [
    "## Summary"
   ]
  },
  {
   "cell_type": "markdown",
   "id": "1260a44f",
   "metadata": {},
   "source": [
    "Cosine similarity measures how similar two vectors are by finding the cosine of the angle between them. \n",
    "\n",
    "The math is not as bad as it looks: we're just comparing the directions vectors point in, normalized by their lengths."
   ]
  }
 ],
 "metadata": {
  "kernelspec": {
   "display_name": "Python 3 (ipykernel)",
   "language": "python",
   "name": "python3"
  },
  "language_info": {
   "codemirror_mode": {
    "name": "ipython",
    "version": 3
   },
   "file_extension": ".py",
   "mimetype": "text/x-python",
   "name": "python",
   "nbconvert_exporter": "python",
   "pygments_lexer": "ipython3",
   "version": "3.12.8"
  }
 },
 "nbformat": 4,
 "nbformat_minor": 5
}
