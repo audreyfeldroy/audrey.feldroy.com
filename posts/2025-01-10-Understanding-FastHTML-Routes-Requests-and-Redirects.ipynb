{
 "cells": [
  {
   "cell_type": "markdown",
   "id": "0",
   "metadata": {},
   "source": [
    "# Understanding FastHTML Routes, Requests, and Redirects"
   ]
  },
  {
   "cell_type": "markdown",
   "id": "1",
   "metadata": {},
   "source": [
    "In this tutorial we'll look at the simplest routes and route handlers you can create with FastHTML. We'll define the handlers as little functions, and then call them as we would any other Python function. After that, we'll make simple GET requests to a simple index route/handler, a parameterized one, and a parameterized one with a redirect."
   ]
  },
  {
   "cell_type": "markdown",
   "id": "2",
   "metadata": {},
   "source": [
    "## Setup"
   ]
  },
  {
   "cell_type": "code",
   "execution_count": 4,
   "id": "3",
   "metadata": {},
   "outputs": [],
   "source": [
    "from fasthtml.common import *"
   ]
  },
  {
   "cell_type": "code",
   "execution_count": 5,
   "id": "4",
   "metadata": {},
   "outputs": [],
   "source": [
    "app,rt = fast_app(pico=False)"
   ]
  },
  {
   "cell_type": "markdown",
   "id": "5",
   "metadata": {},
   "source": [
    "We start with a FastHTML app as usual. `fast_app` is a convenience wrapper for `FastHTML` with some nice defaults."
   ]
  },
  {
   "cell_type": "code",
   "execution_count": 6,
   "id": "6",
   "metadata": {},
   "outputs": [
    {
     "data": {
      "text/plain": [
       "<fasthtml.core.Client at 0x113dbcdd0>"
      ]
     },
     "execution_count": 6,
     "metadata": {},
     "output_type": "execute_result"
    }
   ],
   "source": [
    "cli = Client(app)\n",
    "cli"
   ]
  },
  {
   "cell_type": "markdown",
   "id": "7",
   "metadata": {},
   "source": [
    "We set up an HTTP client to make requests with. `Client` is defined in `fasthtml.core` and wraps httpx's `AsyncClient`."
   ]
  },
  {
   "cell_type": "markdown",
   "id": "8",
   "metadata": {},
   "source": [
    "## Defining a Homepage"
   ]
  },
  {
   "cell_type": "code",
   "execution_count": 7,
   "id": "9",
   "metadata": {},
   "outputs": [],
   "source": [
    "@rt\n",
    "def index(): return Titled(\"My Homepage\")"
   ]
  },
  {
   "cell_type": "markdown",
   "id": "10",
   "metadata": {},
   "source": [
    "Here's a really simple index route handler, to give us something to request. `@rt` is my favorite way to define routes. It makes the index route in particular quick to type out fast because you don't even need a route string."
   ]
  },
  {
   "cell_type": "code",
   "execution_count": 8,
   "id": "11",
   "metadata": {},
   "outputs": [
    {
     "data": {
      "text/plain": [
       "<Response [200 OK]>"
      ]
     },
     "execution_count": 8,
     "metadata": {},
     "output_type": "execute_result"
    }
   ],
   "source": [
    "r = cli.get('/')\n",
    "r"
   ]
  },
  {
   "cell_type": "markdown",
   "id": "12",
   "metadata": {},
   "source": [
    "We requested that page and got a successful 200 response with our client!"
   ]
  },
  {
   "cell_type": "code",
   "execution_count": 9,
   "id": "13",
   "metadata": {},
   "outputs": [
    {
     "data": {
      "text/plain": [
       "' <!doctype html>\\n <html>\\n   <head>\\n     <title>My Homepage</title>\\n     <meta charset=\"utf-8\">\\n     <meta name=\"viewport\" content=\"width=device-width, initial-scale=1, viewport-fit=cover\">\\n<script src=\"https://unpkg.com/htmx.org@2.0.4/dist/htmx.min.js\"></script><script src=\"https://cdn.jsdelivr.net/gh/answerdotai/fasthtml-js@1.0.12/fasthtml.js\"></script><script src=\"https://cdn.jsdelivr.net/gh/answerdotai/surreal@main/surreal.js\"></script><script src=\"https://cdn.jsdelivr.net/gh/gnat/css-scope-inline@main/script.js\"></script><script>\\n    function sendmsg() {\\n        window.parent.postMessage({height: document.documentElement.offsetHeight}, \\'*\\');\\n    }\\n    window.onload = function() {\\n        sendmsg();\\n        document.body.addEventListener(\\'htmx:afterSettle\\',    sendmsg);\\n        document.body.addEventListener(\\'htmx:wsAfterMessage\\', sendmsg);\\n    };</script>   </head>\\n   <body>\\n<main class=\"container\">       <h1>My Homepage</h1>\\n</main>   </body>\\n </html>\\n'"
      ]
     },
     "execution_count": 9,
     "metadata": {},
     "output_type": "execute_result"
    }
   ],
   "source": [
    "r.text"
   ]
  },
  {
   "cell_type": "markdown",
   "id": "14",
   "metadata": {},
   "source": [
    "The response contains this text. If you look closely, you'll see it's a full HTML page containing `<h1>My Homepage</h1>` toward the end."
   ]
  },
  {
   "cell_type": "code",
   "execution_count": 10,
   "id": "15",
   "metadata": {},
   "outputs": [
    {
     "data": {
      "text/plain": [
       "Headers({'content-length': '971', 'content-type': 'text/html; charset=utf-8'})"
      ]
     },
     "execution_count": 10,
     "metadata": {},
     "output_type": "execute_result"
    }
   ],
   "source": [
    "r.headers"
   ]
  },
  {
   "cell_type": "markdown",
   "id": "16",
   "metadata": {},
   "source": [
    "These are the HTTP response headers."
   ]
  },
  {
   "cell_type": "markdown",
   "id": "17",
   "metadata": {},
   "source": [
    "## Defining a Route With a Parameter"
   ]
  },
  {
   "cell_type": "code",
   "execution_count": 11,
   "id": "18",
   "metadata": {},
   "outputs": [],
   "source": [
    "@rt('/pages/{pagename}')\n",
    "def page(pagename:str):\n",
    "    return Titled(pagename)"
   ]
  },
  {
   "cell_type": "markdown",
   "id": "19",
   "metadata": {},
   "source": [
    "Here you see a route defined with `@rt` plus a parameterized route string. \n",
    "\n",
    "The string value of `pagename` from the route turns into the `pagename` argument to the `page` function. \n",
    "\n",
    "Then it's used in the function definition any way we want. For simple examples like this, I use `Titled` to create quick web pages with the string used twice: as a `<title>` and `<h1>` element."
   ]
  },
  {
   "cell_type": "markdown",
   "id": "20",
   "metadata": {},
   "source": [
    "## Calling the Route Handler as a Function"
   ]
  },
  {
   "cell_type": "code",
   "execution_count": 12,
   "id": "21",
   "metadata": {},
   "outputs": [
    {
     "data": {
      "text/plain": [
       "(title(('HEYHEYHEYHEY',),{}),\n",
       " main((h1(('HEYHEYHEYHEY',),{}),),{'class': 'container'}))"
      ]
     },
     "execution_count": 12,
     "metadata": {},
     "output_type": "execute_result"
    }
   ],
   "source": [
    "heypage = page(\"HEYHEYHEYHEY\")\n",
    "heypage"
   ]
  },
  {
   "cell_type": "markdown",
   "id": "22",
   "metadata": {},
   "source": [
    "You can call a route handler function like `page(\"HEYHEYHEYHEY\")` manually, like you would any other Python function. This can be good when you want to make sure your function behaves correctly."
   ]
  },
  {
   "cell_type": "code",
   "execution_count": 13,
   "id": "23",
   "metadata": {},
   "outputs": [
    {
     "data": {
      "text/plain": [
       "'<title>HEYHEYHEYHEY</title>\\n<main class=\"container\">  <h1>HEYHEYHEYHEY</h1>\\n</main>'"
      ]
     },
     "execution_count": 13,
     "metadata": {},
     "output_type": "execute_result"
    }
   ],
   "source": [
    "to_xml(heypage)"
   ]
  },
  {
   "cell_type": "markdown",
   "id": "24",
   "metadata": {},
   "source": [
    "When you pass the returned value into `to_xml`, you can see that you only have a subset of an HTML page. When you call a route handler function manually, you're not making a full HTTP request."
   ]
  },
  {
   "cell_type": "markdown",
   "id": "25",
   "metadata": {},
   "source": [
    "## Making a Full HTTP Request"
   ]
  },
  {
   "cell_type": "code",
   "execution_count": 14,
   "id": "26",
   "metadata": {},
   "outputs": [
    {
     "data": {
      "text/plain": [
       "<Response [200 OK]>"
      ]
     },
     "execution_count": 14,
     "metadata": {},
     "output_type": "execute_result"
    }
   ],
   "source": [
    "rp = cli.get('/pages/HEYHEYHEYHEY')\n",
    "rp"
   ]
  },
  {
   "cell_type": "markdown",
   "id": "27",
   "metadata": {},
   "source": [
    "This is much more like typing `example.com/pages/HEYHEYHEYHEY` in your browser. You get not just what the function returns, but a whole HTTP request-response round trip."
   ]
  },
  {
   "cell_type": "code",
   "execution_count": 15,
   "id": "28",
   "metadata": {},
   "outputs": [
    {
     "data": {
      "text/plain": [
       "' <!doctype html>\\n <html>\\n   <head>\\n     <title>HEYHEYHEYHEY</title>\\n     <meta charset=\"utf-8\">\\n     <meta name=\"viewport\" content=\"width=device-width, initial-scale=1, viewport-fit=cover\">\\n<script src=\"https://unpkg.com/htmx.org@2.0.4/dist/htmx.min.js\"></script><script src=\"https://cdn.jsdelivr.net/gh/answerdotai/fasthtml-js@1.0.12/fasthtml.js\"></script><script src=\"https://cdn.jsdelivr.net/gh/answerdotai/surreal@main/surreal.js\"></script><script src=\"https://cdn.jsdelivr.net/gh/gnat/css-scope-inline@main/script.js\"></script><script>\\n    function sendmsg() {\\n        window.parent.postMessage({height: document.documentElement.offsetHeight}, \\'*\\');\\n    }\\n    window.onload = function() {\\n        sendmsg();\\n        document.body.addEventListener(\\'htmx:afterSettle\\',    sendmsg);\\n        document.body.addEventListener(\\'htmx:wsAfterMessage\\', sendmsg);\\n    };</script>   </head>\\n   <body>\\n<main class=\"container\">       <h1>HEYHEYHEYHEY</h1>\\n</main>   </body>\\n </html>\\n'"
      ]
     },
     "execution_count": 15,
     "metadata": {},
     "output_type": "execute_result"
    }
   ],
   "source": [
    "rp.text"
   ]
  },
  {
   "cell_type": "markdown",
   "id": "29",
   "metadata": {},
   "source": [
    "You can inspect the response text like you would the HTTP response of any site. Now you see why I capitalized `pagename` and made it so long and obvious. That makes it easy to spot in the 2 places it shows up in the response string: in the title and in the h1 within the main element."
   ]
  },
  {
   "cell_type": "code",
   "execution_count": 16,
   "id": "30",
   "metadata": {},
   "outputs": [
    {
     "data": {
      "text/plain": [
       "Headers({'content-length': '973', 'content-type': 'text/html; charset=utf-8'})"
      ]
     },
     "execution_count": 16,
     "metadata": {},
     "output_type": "execute_result"
    }
   ],
   "source": [
    "rp.headers"
   ]
  },
  {
   "cell_type": "markdown",
   "id": "31",
   "metadata": {},
   "source": [
    "The response has HTTP response headers."
   ]
  },
  {
   "cell_type": "markdown",
   "id": "32",
   "metadata": {},
   "source": [
    "## Implementing a Redirect"
   ]
  },
  {
   "cell_type": "markdown",
   "id": "33",
   "metadata": {},
   "source": [
    "Now imagine the above route had an old location that we needed to redirect from."
   ]
  },
  {
   "cell_type": "code",
   "execution_count": 17,
   "id": "34",
   "metadata": {},
   "outputs": [],
   "source": [
    "@rt('/pageswasherebefore/{pagename}')\n",
    "def old_page(pagename:str): return Redirect(f\"/pages/{pagename}\")"
   ]
  },
  {
   "cell_type": "markdown",
   "id": "35",
   "metadata": {},
   "source": [
    "Here we define a second route with the old URL path string. It returns a redirect pointing to the new location. The redirect uses the `Redirect` class from fasthtml.core."
   ]
  },
  {
   "cell_type": "markdown",
   "id": "36",
   "metadata": {},
   "source": [
    "## Making a Request and Inspecting the Redirect's Response"
   ]
  },
  {
   "cell_type": "code",
   "execution_count": 18,
   "id": "37",
   "metadata": {},
   "outputs": [
    {
     "data": {
      "text/plain": [
       "<Response [303 See Other]>"
      ]
     },
     "execution_count": 18,
     "metadata": {},
     "output_type": "execute_result"
    }
   ],
   "source": [
    "rop = cli.get('/pageswasherebefore/HIHIHIHIHIHIHIHI')\n",
    "rop"
   ]
  },
  {
   "cell_type": "markdown",
   "id": "38",
   "metadata": {},
   "source": [
    "We can make a GET request with our HTTP client the way we did before, and assign the returned response object to a variable."
   ]
  },
  {
   "cell_type": "code",
   "execution_count": 19,
   "id": "39",
   "metadata": {},
   "outputs": [
    {
     "data": {
      "text/plain": [
       "Headers({'content-length': '0', 'location': '/pages/HIHIHIHIHIHIHIHI'})"
      ]
     },
     "execution_count": 19,
     "metadata": {},
     "output_type": "execute_result"
    }
   ],
   "source": [
    "rop.headers"
   ]
  },
  {
   "cell_type": "markdown",
   "id": "40",
   "metadata": {},
   "source": [
    "Looking at the HTTP response headers, we now see a location. That's the new location you're getting redirected to, not the old one."
   ]
  },
  {
   "cell_type": "code",
   "execution_count": 20,
   "id": "41",
   "metadata": {},
   "outputs": [
    {
     "data": {
      "text/plain": [
       "''"
      ]
     },
     "execution_count": 20,
     "metadata": {},
     "output_type": "execute_result"
    }
   ],
   "source": [
    "rop.text"
   ]
  },
  {
   "cell_type": "markdown",
   "id": "42",
   "metadata": {},
   "source": [
    "And there's no response text content, which matches the length of 0 that we saw in the headers."
   ]
  },
  {
   "cell_type": "markdown",
   "id": "43",
   "metadata": {},
   "source": [
    "## Making a Request that Follows the Redirect"
   ]
  },
  {
   "cell_type": "code",
   "execution_count": 21,
   "id": "44",
   "metadata": {},
   "outputs": [
    {
     "data": {
      "text/plain": [
       "<Response [200 OK]>"
      ]
     },
     "execution_count": 21,
     "metadata": {},
     "output_type": "execute_result"
    }
   ],
   "source": [
    "rop2 = cli.get('/pageswasherebefore/HIHIHIHIHIHIHIHI', follow_redirects=True)\n",
    "rop2"
   ]
  },
  {
   "cell_type": "code",
   "execution_count": 22,
   "id": "45",
   "metadata": {},
   "outputs": [
    {
     "data": {
      "text/plain": [
       "Headers({'content-length': '981', 'content-type': 'text/html; charset=utf-8'})"
      ]
     },
     "execution_count": 22,
     "metadata": {},
     "output_type": "execute_result"
    }
   ],
   "source": [
    "rop2.headers"
   ]
  },
  {
   "cell_type": "markdown",
   "id": "46",
   "metadata": {},
   "source": [
    "Now we see a 200 response, content, and no location!"
   ]
  },
  {
   "cell_type": "code",
   "execution_count": 23,
   "id": "47",
   "metadata": {},
   "outputs": [
    {
     "data": {
      "text/plain": [
       "' <!doctype html>\\n <html>\\n   <head>\\n     <title>HIHIHIHIHIHIHIHI</title>\\n     <meta charset=\"utf-8\">\\n     <meta name=\"viewport\" content=\"width=device-width, initial-scale=1, viewport-fit=cover\">\\n<script src=\"https://unpkg.com/htmx.org@2.0.4/dist/htmx.min.js\"></script><script src=\"https://cdn.jsdelivr.net/gh/answerdotai/fasthtml-js@1.0.12/fasthtml.js\"></script><script src=\"https://cdn.jsdelivr.net/gh/answerdotai/surreal@main/surreal.js\"></script><script src=\"https://cdn.jsdelivr.net/gh/gnat/css-scope-inline@main/script.js\"></script><script>\\n    function sendmsg() {\\n        window.parent.postMessage({height: document.documentElement.offsetHeight}, \\'*\\');\\n    }\\n    window.onload = function() {\\n        sendmsg();\\n        document.body.addEventListener(\\'htmx:afterSettle\\',    sendmsg);\\n        document.body.addEventListener(\\'htmx:wsAfterMessage\\', sendmsg);\\n    };</script>   </head>\\n   <body>\\n<main class=\"container\">       <h1>HIHIHIHIHIHIHIHI</h1>\\n</main>   </body>\\n </html>\\n'"
      ]
     },
     "execution_count": 23,
     "metadata": {},
     "output_type": "execute_result"
    }
   ],
   "source": [
    "rop2.text"
   ]
  },
  {
   "cell_type": "markdown",
   "id": "48",
   "metadata": {},
   "source": [
    "This looks like the HTTP response for the new route, which is what we want to see."
   ]
  },
  {
   "cell_type": "markdown",
   "id": "49",
   "metadata": {},
   "source": [
    "## Wrapping Up\n",
    "\n",
    "We've seen how FastHTML makes it easy to create routes and handle HTTP requests. We covered:\n",
    "- Creating a simple homepage with `@rt`\n",
    "- Adding a parameterized route with `@rt('/pages/{pagename}')`\n",
    "- Testing route handlers by calling them directly as Python functions\n",
    "- Making HTTP requests with FastHTML's `Client`\n",
    "- Setting up redirects and seeing how they work both with and without following them\n",
    "\n",
    "What I love here is how much FastHTML development feels so much like regular Python development. You can call handlers like normal functions to make sure they work as expected, and they still work great as full web endpoints."
   ]
  }
 ],
 "metadata": {
  "kernelspec": {
   "display_name": ".venv",
   "language": "python",
   "name": "python3"
  },
  "language_info": {
   "codemirror_mode": {
    "name": "ipython",
    "version": 3
   },
   "file_extension": ".py",
   "mimetype": "text/x-python",
   "name": "python",
   "nbconvert_exporter": "python",
   "pygments_lexer": "ipython3",
   "version": "3.12.6"
  }
 },
 "nbformat": 4,
 "nbformat_minor": 5
}
