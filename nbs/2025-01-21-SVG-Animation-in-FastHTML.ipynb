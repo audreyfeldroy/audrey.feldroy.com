{
 "cells": [
  {
   "cell_type": "markdown",
   "id": "cbea5dc1",
   "metadata": {},
   "source": [
    "# SVG Animations in FastHTML"
   ]
  },
  {
   "cell_type": "markdown",
   "id": "c15ec9f1",
   "metadata": {},
   "source": [
    "Exploring how to make basic SVG animations work with FastHTML."
   ]
  },
  {
   "cell_type": "code",
   "execution_count": 1,
   "id": "453d7bfc",
   "metadata": {},
   "outputs": [],
   "source": [
    "from fastcore.meta import delegates\n",
    "from fastcore.utils import snake2camel\n",
    "from fasthtml.common import *\n",
    "from fasthtml.svg import *"
   ]
  },
  {
   "cell_type": "markdown",
   "id": "73772b79",
   "metadata": {},
   "source": [
    "## FastHTML SVG Docs Examples"
   ]
  },
  {
   "cell_type": "markdown",
   "id": "620359c5",
   "metadata": {},
   "source": [
    "The [FastHTML SVG API Docs](https://docs.fastht.ml/api/svg.html) introduce you to `fasthtml.svg` with this nice circle specified as an SVG string:"
   ]
  },
  {
   "cell_type": "code",
   "execution_count": 2,
   "id": "b1ab0a9e",
   "metadata": {
    "scrolled": true
   },
   "outputs": [
    {
     "data": {
      "text/html": [
       "<svg width=\"50\" height=\"50\"><circle cx=\"20\" cy=\"20\" r=\"15\" fill=\"red\"></circle></svg>"
      ],
      "text/plain": [
       "<IPython.core.display.HTML object>"
      ]
     },
     "metadata": {},
     "output_type": "display_data"
    }
   ],
   "source": [
    "svg = '<svg width=\"50\" height=\"50\"><circle cx=\"20\" cy=\"20\" r=\"15\" fill=\"red\"></circle></svg>'\n",
    "show(NotStr(svg))"
   ]
  },
  {
   "cell_type": "markdown",
   "id": "e5e13170",
   "metadata": {},
   "source": [
    "Often you'll just want to paste these strings into your FastHTML apps, and that's fine. However, when you want to construct SVG elements programmatically via Python, you can!"
   ]
  },
  {
   "cell_type": "code",
   "execution_count": 3,
   "id": "84362ceb",
   "metadata": {},
   "outputs": [],
   "source": [
    "def demo(el, h=50, w=50): return show(Svg(h=h,w=w)(el))"
   ]
  },
  {
   "cell_type": "code",
   "execution_count": 4,
   "id": "03e6780b",
   "metadata": {},
   "outputs": [
    {
     "data": {
      "text/html": [
       "<svg xmlns=\"http://www.w3.org/2000/svg\" viewbox=\"0 0 50 50\" height=\"50\" width=\"50\"><rect width=\"30\" height=\"30\" fill=\"blue\" rx=\"8\" ry=\"8\"></rect></svg>"
      ],
      "text/plain": [
       "<IPython.core.display.HTML object>"
      ]
     },
     "metadata": {},
     "output_type": "display_data"
    }
   ],
   "source": [
    "demo(Rect(30, 30, fill='blue', rx=8, ry=8))"
   ]
  },
  {
   "cell_type": "markdown",
   "id": "03cea3dd",
   "metadata": {},
   "source": [
    "## MDN Example"
   ]
  },
  {
   "cell_type": "markdown",
   "id": "a8355ed2",
   "metadata": {},
   "source": [
    "[MDN's SVG <animate> example](https://developer.mozilla.org/en-US/docs/Web/SVG/Element/animate) is:"
   ]
  },
  {
   "cell_type": "code",
   "execution_count": 5,
   "id": "cc8272a2",
   "metadata": {},
   "outputs": [],
   "source": [
    "svg = \"\"\"<svg viewBox=\"0 0 10 10\" xmlns=\"http://www.w3.org/2000/svg\">\n",
    "  <rect width=\"10\" height=\"10\">\n",
    "    <animate\n",
    "      attributeName=\"rx\"\n",
    "      values=\"0;5;0\"\n",
    "      dur=\"10s\"\n",
    "      repeatCount=\"indefinite\" />\n",
    "  </rect>\n",
    "</svg>\n",
    "\"\"\""
   ]
  },
  {
   "cell_type": "code",
   "execution_count": 6,
   "id": "6d092480",
   "metadata": {
    "scrolled": true
   },
   "outputs": [
    {
     "data": {
      "text/html": [
       "<svg viewBox=\"0 0 10 10\" xmlns=\"http://www.w3.org/2000/svg\">\n",
       "  <rect width=\"10\" height=\"10\">\n",
       "    <animate\n",
       "      attributeName=\"rx\"\n",
       "      values=\"0;5;0\"\n",
       "      dur=\"10s\"\n",
       "      repeatCount=\"indefinite\" />\n",
       "  </rect>\n",
       "</svg>\n"
      ],
      "text/plain": [
       "<IPython.core.display.HTML object>"
      ]
     },
     "metadata": {},
     "output_type": "display_data"
    }
   ],
   "source": [
    "show(NotStr(svg))"
   ]
  },
  {
   "cell_type": "markdown",
   "id": "654ab66d",
   "metadata": {},
   "source": [
    "Why is that rectangle so big here? Let's try"
   ]
  },
  {
   "cell_type": "code",
   "execution_count": 7,
   "id": "b53385b3",
   "metadata": {
    "scrolled": true
   },
   "outputs": [
    {
     "data": {
      "text/html": [
       "<svg width=\"100\" height=\"100\">\n",
       "  <rect width=\"10\" height=\"10\">\n",
       "    <animate\n",
       "      attributeName=\"rx\"\n",
       "      values=\"0;5;0\"\n",
       "      dur=\"10s\"\n",
       "      repeatCount=\"indefinite\" />\n",
       "  </rect>\n",
       "</svg>\n"
      ],
      "text/plain": [
       "<IPython.core.display.HTML object>"
      ]
     },
     "metadata": {},
     "output_type": "display_data"
    }
   ],
   "source": [
    "svg2 = \"\"\"<svg width=\"100\" height=\"100\">\n",
    "  <rect width=\"10\" height=\"10\">\n",
    "    <animate\n",
    "      attributeName=\"rx\"\n",
    "      values=\"0;5;0\"\n",
    "      dur=\"10s\"\n",
    "      repeatCount=\"indefinite\" />\n",
    "  </rect>\n",
    "</svg>\n",
    "\"\"\"\n",
    "show(NotStr(svg2))"
   ]
  },
  {
   "cell_type": "markdown",
   "id": "479e1b63",
   "metadata": {},
   "source": [
    "## MDN Example in FastHTML"
   ]
  },
  {
   "cell_type": "markdown",
   "id": "23759750",
   "metadata": {},
   "source": [
    "Currently `Rect()` doesn't accept an `animate` child. Seeing if I can make that work:"
   ]
  },
  {
   "cell_type": "code",
   "execution_count": 8,
   "id": "8bf1cc6e",
   "metadata": {},
   "outputs": [],
   "source": [
    "def Animate(attributeName, values, dur, repeatCount):\n",
    "    return Safe(f\"<animate {attributeName=} {values=} {dur=} {repeatCount=} />\")"
   ]
  },
  {
   "cell_type": "code",
   "execution_count": 9,
   "id": "ad19dafb",
   "metadata": {},
   "outputs": [
    {
     "data": {
      "text/plain": [
       "\"<animate attributeName='rx' values='0;5;0' dur='10s' repeatCount='indefinite' />\""
      ]
     },
     "execution_count": 9,
     "metadata": {},
     "output_type": "execute_result"
    }
   ],
   "source": [
    "Animate(attributeName=\"rx\", values=\"0;5;0\", dur=\"10s\", repeatCount=\"indefinite\")"
   ]
  },
  {
   "cell_type": "code",
   "execution_count": 10,
   "id": "db131986",
   "metadata": {},
   "outputs": [],
   "source": [
    "@delegates(ft_svg)\n",
    "def AnimatedRect(animate, width, height, x=0, y=0, fill=None, stroke=None, stroke_width=None, rx=None, ry=None, **kwargs):\n",
    "    \"An animated standard SVG `rect` element\"\n",
    "    return ft_svg('rect', animate, width=width, height=height, x=x, y=y, fill=fill,\n",
    "                 stroke=stroke, stroke_width=stroke_width, rx=rx, ry=ry, **kwargs)"
   ]
  },
  {
   "cell_type": "code",
   "execution_count": 11,
   "id": "2e3ac9c5",
   "metadata": {
    "scrolled": false
   },
   "outputs": [
    {
     "data": {
      "text/html": [
       "<svg xmlns=\"http://www.w3.org/2000/svg\" viewbox=\"0 0 10 10\" height=\"10\" width=\"10\"><rect width=\"10\" height=\"10\"><animate attributeName='rx' values='0;5;0' dur='10s' repeatCount='indefinite' /></rect></svg>"
      ],
      "text/plain": [
       "<IPython.core.display.HTML object>"
      ]
     },
     "metadata": {},
     "output_type": "display_data"
    }
   ],
   "source": [
    "show(Svg(AnimatedRect(\n",
    "    Animate(attributeName=\"rx\", values=\"0;5;0\", dur=\"10s\", repeatCount=\"indefinite\"), \n",
    "    width=10, height=10), h=10, w=10))"
   ]
  },
  {
   "cell_type": "code",
   "execution_count": 12,
   "id": "4a768902",
   "metadata": {
    "scrolled": false
   },
   "outputs": [
    {
     "data": {
      "text/html": [
       "<svg xmlns=\"http://www.w3.org/2000/svg\" viewbox=\"0 0 100 100\" height=\"100\" width=\"100\"><rect width=\"100\" height=\"100\"><animate attributeName='rx' values='0;50;0' dur='10s' repeatCount='indefinite' /></rect></svg>"
      ],
      "text/plain": [
       "<IPython.core.display.HTML object>"
      ]
     },
     "metadata": {},
     "output_type": "display_data"
    }
   ],
   "source": [
    "show(Svg(AnimatedRect(\n",
    "    Animate(attributeName=\"rx\", values=\"0;50;0\", dur=\"10s\", repeatCount=\"indefinite\"), \n",
    "    width=100, height=100), h=100, w=100))"
   ]
  },
  {
   "cell_type": "code",
   "execution_count": 13,
   "id": "c2f7d025",
   "metadata": {},
   "outputs": [
    {
     "data": {
      "text/html": [
       "<svg xmlns=\"http://www.w3.org/2000/svg\" viewbox=\"0 0 100 100\" height=\"100\" width=\"100\"><rect width=\"100\" height=\"100\"><animate attributeName='rx' values='0;50;0' dur='1s' repeatCount='indefinite' /></rect></svg>"
      ],
      "text/plain": [
       "<IPython.core.display.HTML object>"
      ]
     },
     "metadata": {},
     "output_type": "display_data"
    }
   ],
   "source": [
    "demo(AnimatedRect(\n",
    "        Animate(attributeName=\"rx\", values=\"0;50;0\", dur=\"1s\", repeatCount=\"indefinite\"), \n",
    "    width=100, height=100), h=100, w=100)"
   ]
  },
  {
   "cell_type": "markdown",
   "id": "291a3c1b",
   "metadata": {},
   "source": [
    "## More Complex SVG Animation"
   ]
  },
  {
   "cell_type": "code",
   "execution_count": 14,
   "id": "6e323f17",
   "metadata": {
    "scrolled": true
   },
   "outputs": [
    {
     "data": {
      "text/html": [
       "<svg width=\"100\" height=\"100\" viewBox=\"0 0 100 100\" xmlns=\"http://www.w3.org/2000/svg\">\n",
       "  <!-- Gradient definitions -->\n",
       "  <defs>\n",
       "    <linearGradient id=\"gradient1\" x1=\"0%\" y1=\"0%\" x2=\"100%\" y2=\"100%\">\n",
       "      <stop offset=\"0%\" stop-color=\"#60a5fa\">\n",
       "        <animate attributeName=\"stop-color\" \n",
       "          values=\"#60a5fa;#8b5cf6;#ec4899;#60a5fa\"\n",
       "          dur=\"8s\" repeatCount=\"indefinite\" />\n",
       "      </stop>\n",
       "      <stop offset=\"100%\" stop-color=\"#8b5cf6\">\n",
       "        <animate attributeName=\"stop-color\" \n",
       "          values=\"#8b5cf6;#ec4899;#60a5fa;#8b5cf6\"\n",
       "          dur=\"8s\" repeatCount=\"indefinite\" />\n",
       "      </stop>\n",
       "    </linearGradient>\n",
       "  </defs>\n",
       "\n",
       "  <!-- Background star burst -->\n",
       "  <g>\n",
       "    <circle cx=\"50\" cy=\"50\" r=\"45\" fill=\"url(#gradient1)\">\n",
       "      <animate attributeName=\"opacity\"\n",
       "        values=\"0.3;0.5;0.3\"\n",
       "        dur=\"3s\" repeatCount=\"indefinite\" />\n",
       "    </circle>\n",
       "  </g>\n",
       "\n",
       "  <!-- Spinning triangles -->\n",
       "  <g transform=\"translate(50 50)\">\n",
       "    <path d=\"M0,-30 L26,15 L-26,15 Z\" fill=\"#fcd34d\" opacity=\"0.8\">\n",
       "      <animateTransform attributeName=\"transform\"\n",
       "        type=\"rotate\"\n",
       "        from=\"0\"\n",
       "        to=\"360\"\n",
       "        dur=\"8s\"\n",
       "        repeatCount=\"indefinite\" />\n",
       "      <animate attributeName=\"d\"\n",
       "        values=\"M0,-30 L26,15 L-26,15 Z;M0,-20 L35,25 L-35,25 Z;M0,-30 L26,15 L-26,15 Z\"\n",
       "        dur=\"4s\"\n",
       "        repeatCount=\"indefinite\" />\n",
       "    </path>\n",
       "  </g>\n",
       "\n",
       "  <!-- Bouncing squares -->\n",
       "  <rect x=\"40\" y=\"40\" width=\"20\" height=\"20\" fill=\"#34d399\" opacity=\"0.8\">\n",
       "    <animate attributeName=\"x\" \n",
       "      values=\"40;30;50;40\"\n",
       "      dur=\"3s\"\n",
       "      repeatCount=\"indefinite\" />\n",
       "    <animate attributeName=\"y\"\n",
       "      values=\"40;50;30;40\"\n",
       "      dur=\"3s\"\n",
       "      repeatCount=\"indefinite\" />\n",
       "    <animate attributeName=\"rx\"\n",
       "      values=\"0;10;0\"\n",
       "      dur=\"3s\"\n",
       "      repeatCount=\"indefinite\" />\n",
       "  </rect>\n",
       "\n",
       "  <!-- Orbiting particles -->\n",
       "  <g>\n",
       "    <circle cx=\"50\" cy=\"20\" r=\"4\" fill=\"#f472b6\">\n",
       "      <animateMotion\n",
       "        path=\"M 0,0 a 30,30 0 1,1 0,0\"\n",
       "        dur=\"3s\"\n",
       "        repeatCount=\"indefinite\" />\n",
       "      <animate attributeName=\"r\"\n",
       "        values=\"4;6;4\"\n",
       "        dur=\"1.5s\"\n",
       "        repeatCount=\"indefinite\" />\n",
       "    </circle>\n",
       "    <circle cx=\"80\" cy=\"50\" r=\"4\" fill=\"#60a5fa\">\n",
       "      <animateMotion\n",
       "        path=\"M 0,0 a 30,30 0 1,0 0,0\"\n",
       "        dur=\"4s\"\n",
       "        repeatCount=\"indefinite\" />\n",
       "      <animate attributeName=\"r\"\n",
       "        values=\"4;6;4\"\n",
       "        dur=\"2s\"\n",
       "        repeatCount=\"indefinite\" />\n",
       "    </circle>\n",
       "  </g>\n",
       "\n",
       "  <!-- Dancing dots -->\n",
       "  <g>\n",
       "    <circle cx=\"50\" cy=\"50\" r=\"3\" fill=\"#fcd34d\">\n",
       "      <animateMotion\n",
       "        path=\"M 0,0 q 15,15 0,30 q -15,15 0,0\"\n",
       "        dur=\"2.5s\"\n",
       "        repeatCount=\"indefinite\" />\n",
       "    </circle>\n",
       "    <circle cx=\"50\" cy=\"50\" r=\"3\" fill=\"#f472b6\">\n",
       "      <animateMotion\n",
       "        path=\"M 0,0 q -15,-15 -30,0 q -15,15 0,0\"\n",
       "        dur=\"2.5s\"\n",
       "        repeatCount=\"indefinite\" />\n",
       "    </circle>\n",
       "  </g>\n",
       "\n",
       "  <!-- Pulsing rings -->\n",
       "  <circle cx=\"50\" cy=\"50\" r=\"20\" fill=\"none\" stroke=\"#93c5fd\" stroke-width=\"1\">\n",
       "    <animate attributeName=\"r\"\n",
       "      values=\"20;30;20\"\n",
       "      dur=\"4s\"\n",
       "      repeatCount=\"indefinite\" />\n",
       "    <animate attributeName=\"stroke-opacity\"\n",
       "      values=\"1;0;1\"\n",
       "      dur=\"4s\"\n",
       "      repeatCount=\"indefinite\" />\n",
       "  </circle>\n",
       "  <circle cx=\"50\" cy=\"50\" r=\"25\" fill=\"none\" stroke=\"#93c5fd\" stroke-width=\"1\">\n",
       "    <animate attributeName=\"r\"\n",
       "      values=\"25;35;25\"\n",
       "      dur=\"4s\"\n",
       "      repeatCount=\"indefinite\" />\n",
       "    <animate attributeName=\"stroke-opacity\"\n",
       "      values=\"0;1;0\"\n",
       "      dur=\"4s\"\n",
       "      repeatCount=\"indefinite\" />\n",
       "  </circle>\n",
       "</svg>"
      ],
      "text/plain": [
       "<IPython.core.display.HTML object>"
      ]
     },
     "metadata": {},
     "output_type": "display_data"
    }
   ],
   "source": [
    "svg4 = \"\"\"<svg width=\"100\" height=\"100\" viewBox=\"0 0 100 100\" xmlns=\"http://www.w3.org/2000/svg\">\n",
    "  <!-- Gradient definitions -->\n",
    "  <defs>\n",
    "    <linearGradient id=\"gradient1\" x1=\"0%\" y1=\"0%\" x2=\"100%\" y2=\"100%\">\n",
    "      <stop offset=\"0%\" stop-color=\"#60a5fa\">\n",
    "        <animate attributeName=\"stop-color\" \n",
    "          values=\"#60a5fa;#8b5cf6;#ec4899;#60a5fa\"\n",
    "          dur=\"8s\" repeatCount=\"indefinite\" />\n",
    "      </stop>\n",
    "      <stop offset=\"100%\" stop-color=\"#8b5cf6\">\n",
    "        <animate attributeName=\"stop-color\" \n",
    "          values=\"#8b5cf6;#ec4899;#60a5fa;#8b5cf6\"\n",
    "          dur=\"8s\" repeatCount=\"indefinite\" />\n",
    "      </stop>\n",
    "    </linearGradient>\n",
    "  </defs>\n",
    "\n",
    "  <!-- Background star burst -->\n",
    "  <g>\n",
    "    <circle cx=\"50\" cy=\"50\" r=\"45\" fill=\"url(#gradient1)\">\n",
    "      <animate attributeName=\"opacity\"\n",
    "        values=\"0.3;0.5;0.3\"\n",
    "        dur=\"3s\" repeatCount=\"indefinite\" />\n",
    "    </circle>\n",
    "  </g>\n",
    "\n",
    "  <!-- Spinning triangles -->\n",
    "  <g transform=\"translate(50 50)\">\n",
    "    <path d=\"M0,-30 L26,15 L-26,15 Z\" fill=\"#fcd34d\" opacity=\"0.8\">\n",
    "      <animateTransform attributeName=\"transform\"\n",
    "        type=\"rotate\"\n",
    "        from=\"0\"\n",
    "        to=\"360\"\n",
    "        dur=\"8s\"\n",
    "        repeatCount=\"indefinite\" />\n",
    "      <animate attributeName=\"d\"\n",
    "        values=\"M0,-30 L26,15 L-26,15 Z;M0,-20 L35,25 L-35,25 Z;M0,-30 L26,15 L-26,15 Z\"\n",
    "        dur=\"4s\"\n",
    "        repeatCount=\"indefinite\" />\n",
    "    </path>\n",
    "  </g>\n",
    "\n",
    "  <!-- Bouncing squares -->\n",
    "  <rect x=\"40\" y=\"40\" width=\"20\" height=\"20\" fill=\"#34d399\" opacity=\"0.8\">\n",
    "    <animate attributeName=\"x\" \n",
    "      values=\"40;30;50;40\"\n",
    "      dur=\"3s\"\n",
    "      repeatCount=\"indefinite\" />\n",
    "    <animate attributeName=\"y\"\n",
    "      values=\"40;50;30;40\"\n",
    "      dur=\"3s\"\n",
    "      repeatCount=\"indefinite\" />\n",
    "    <animate attributeName=\"rx\"\n",
    "      values=\"0;10;0\"\n",
    "      dur=\"3s\"\n",
    "      repeatCount=\"indefinite\" />\n",
    "  </rect>\n",
    "\n",
    "  <!-- Orbiting particles -->\n",
    "  <g>\n",
    "    <circle cx=\"50\" cy=\"20\" r=\"4\" fill=\"#f472b6\">\n",
    "      <animateMotion\n",
    "        path=\"M 0,0 a 30,30 0 1,1 0,0\"\n",
    "        dur=\"3s\"\n",
    "        repeatCount=\"indefinite\" />\n",
    "      <animate attributeName=\"r\"\n",
    "        values=\"4;6;4\"\n",
    "        dur=\"1.5s\"\n",
    "        repeatCount=\"indefinite\" />\n",
    "    </circle>\n",
    "    <circle cx=\"80\" cy=\"50\" r=\"4\" fill=\"#60a5fa\">\n",
    "      <animateMotion\n",
    "        path=\"M 0,0 a 30,30 0 1,0 0,0\"\n",
    "        dur=\"4s\"\n",
    "        repeatCount=\"indefinite\" />\n",
    "      <animate attributeName=\"r\"\n",
    "        values=\"4;6;4\"\n",
    "        dur=\"2s\"\n",
    "        repeatCount=\"indefinite\" />\n",
    "    </circle>\n",
    "  </g>\n",
    "\n",
    "  <!-- Dancing dots -->\n",
    "  <g>\n",
    "    <circle cx=\"50\" cy=\"50\" r=\"3\" fill=\"#fcd34d\">\n",
    "      <animateMotion\n",
    "        path=\"M 0,0 q 15,15 0,30 q -15,15 0,0\"\n",
    "        dur=\"2.5s\"\n",
    "        repeatCount=\"indefinite\" />\n",
    "    </circle>\n",
    "    <circle cx=\"50\" cy=\"50\" r=\"3\" fill=\"#f472b6\">\n",
    "      <animateMotion\n",
    "        path=\"M 0,0 q -15,-15 -30,0 q -15,15 0,0\"\n",
    "        dur=\"2.5s\"\n",
    "        repeatCount=\"indefinite\" />\n",
    "    </circle>\n",
    "  </g>\n",
    "\n",
    "  <!-- Pulsing rings -->\n",
    "  <circle cx=\"50\" cy=\"50\" r=\"20\" fill=\"none\" stroke=\"#93c5fd\" stroke-width=\"1\">\n",
    "    <animate attributeName=\"r\"\n",
    "      values=\"20;30;20\"\n",
    "      dur=\"4s\"\n",
    "      repeatCount=\"indefinite\" />\n",
    "    <animate attributeName=\"stroke-opacity\"\n",
    "      values=\"1;0;1\"\n",
    "      dur=\"4s\"\n",
    "      repeatCount=\"indefinite\" />\n",
    "  </circle>\n",
    "  <circle cx=\"50\" cy=\"50\" r=\"25\" fill=\"none\" stroke=\"#93c5fd\" stroke-width=\"1\">\n",
    "    <animate attributeName=\"r\"\n",
    "      values=\"25;35;25\"\n",
    "      dur=\"4s\"\n",
    "      repeatCount=\"indefinite\" />\n",
    "    <animate attributeName=\"stroke-opacity\"\n",
    "      values=\"0;1;0\"\n",
    "      dur=\"4s\"\n",
    "      repeatCount=\"indefinite\" />\n",
    "  </circle>\n",
    "</svg>\"\"\"\n",
    "show(NotStr(svg4))"
   ]
  },
  {
   "cell_type": "markdown",
   "id": "2e5388ed",
   "metadata": {},
   "source": [
    "I kind of like this one for representing \"a sound is currently playing\" for experimental audio apps."
   ]
  }
 ],
 "metadata": {
  "kernelspec": {
   "display_name": "Python 3 (ipykernel)",
   "language": "python",
   "name": "python3"
  },
  "language_info": {
   "codemirror_mode": {
    "name": "ipython",
    "version": 3
   },
   "file_extension": ".py",
   "mimetype": "text/x-python",
   "name": "python",
   "nbconvert_exporter": "python",
   "pygments_lexer": "ipython3",
   "version": "3.12.8"
  }
 },
 "nbformat": 4,
 "nbformat_minor": 5
}
