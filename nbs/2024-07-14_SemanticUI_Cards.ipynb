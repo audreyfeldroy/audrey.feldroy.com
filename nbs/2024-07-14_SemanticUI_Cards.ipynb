{
 "cells": [
  {
   "cell_type": "markdown",
   "metadata": {},
   "source": [
    "# SemanticUI FastHTML Cards"
   ]
  },
  {
   "cell_type": "markdown",
   "metadata": {},
   "source": [
    "Caution: I’ve learned better patterns since I wrote this. Leaving this here for posterity."
   ]
  },
  {
   "cell_type": "code",
   "execution_count": null,
   "metadata": {},
   "outputs": [],
   "source": [
    "from fasthtml.common import *"
   ]
  },
  {
   "cell_type": "markdown",
   "metadata": {},
   "source": [
    "I pasted the code for [Semantic UI's group of button cards](https://fomantic-ui.com/views/card.html#buttons) into [HTML to XT](https://h2x-production-16c0.up.railway.app/) and got:"
   ]
  },
  {
   "cell_type": "code",
   "execution_count": null,
   "metadata": {},
   "outputs": [],
   "source": [
    "Div(\n",
    "  Div(\n",
    "    Div(\n",
    "      Div('Elliot Fu', cls='header'),\n",
    "      Div('Elliot Fu is a film-maker from New York.', cls='description'),\n",
    "      cls='content'\n",
    "    ),\n",
    "    Div(\n",
    "      I(cls='add icon'),\n",
    "      'Add Friend',\n",
    "      cls='ui button'\n",
    "    ),\n",
    "    cls='card'\n",
    "  ),\n",
    "  Div(\n",
    "    Div(\n",
    "      Div('Veronika Ossi', cls='header'),\n",
    "      Div('Veronika Ossi is a set designer living in New York who enjoys kittens, music, and partying.', cls='description'),\n",
    "      cls='content'\n",
    "    ),\n",
    "    Div(\n",
    "      I(cls='add icon'),\n",
    "      'Add Friend',\n",
    "      cls='ui button'\n",
    "    ),\n",
    "    cls='card'\n",
    "  ),\n",
    "  Div(\n",
    "    Div(\n",
    "      Div('Jenny Hess', cls='header'),\n",
    "      Div('Jenny is a student studying Media Management at the New School', cls='description'),\n",
    "      cls='content'\n",
    "    ),\n",
    "    Div(\n",
    "      I(cls='add icon'),\n",
    "      'Add Friend',\n",
    "      cls='ui button'\n",
    "    ),\n",
    "    cls='card'\n",
    "  ),\n",
    "  cls='ui cards'\n",
    ")"
   ]
  },
  {
   "cell_type": "markdown",
   "metadata": {},
   "source": [
    "Extracting the data into a Python list of tuples:"
   ]
  },
  {
   "cell_type": "code",
   "execution_count": null,
   "metadata": {},
   "outputs": [],
   "source": [
    "cards_data = [\n",
    "    ('Elliot Fu', 'Elliot Fu is a film-maker from New York.'),\n",
    "    ('Veronika Ossi', 'Veronika Ossi is a set designer living in New York who enjoys kittens, music, and partying.'),\n",
    "    ('Jenny Hess', 'Jenny is a student studying Media Management at the New School')\n",
    "]"
   ]
  },
  {
   "cell_type": "markdown",
   "metadata": {},
   "source": [
    "We could hardcode the Semantic UI tree structure in like this..."
   ]
  },
  {
   "cell_type": "code",
   "execution_count": null,
   "metadata": {},
   "outputs": [],
   "source": [
    "def Card(name, description):\n",
    "    return Div(\n",
    "        Div(\n",
    "            Div(name, cls='header'),\n",
    "            Div(description, cls='description'),\n",
    "            cls='content'\n",
    "        ),\n",
    "        Div(\n",
    "            I(cls='add icon'),\n",
    "            'Add Friend',\n",
    "            cls='ui button'\n",
    "        ),\n",
    "        cls='card'\n",
    "    )"
   ]
  },
  {
   "cell_type": "code",
   "execution_count": null,
   "metadata": {},
   "outputs": [],
   "source": [
    "cards = [Card(name, description) for name, description in cards_data]\n",
    "cards"
   ]
  },
  {
   "cell_type": "code",
   "execution_count": null,
   "metadata": {},
   "outputs": [],
   "source": [
    "result = Div(*cards, cls='ui cards')\n",
    "result"
   ]
  },
  {
   "cell_type": "markdown",
   "metadata": {},
   "source": [
    "But it might be nice to separate card text/values from how it is rendered as an XT, and offer different rendering options"
   ]
  },
  {
   "cell_type": "code",
   "execution_count": null,
   "metadata": {},
   "outputs": [],
   "source": [
    "@dataclass\n",
    "class Card():\n",
    "    title: str\n",
    "    image: str\n",
    "    description: str\n",
    "    # button_links: list of text, link pairs maybe\n",
    "\n",
    "    def __xt__(self, uiframework='semanticui'):\n",
    "        if uiframework == 'semanticui':\n",
    "            ...\n",
    "        elif uiframework == 'frankenui':\n",
    "            ...\n",
    "        elif uiframework == 'bootstrap':\n",
    "            ...\n",
    "        else:\n",
    "            raise ValueError(f\"Unknown uiframework {uiframework}\")"
   ]
  },
  {
   "cell_type": "markdown",
   "metadata": {},
   "source": [
    "This would be hard to maintain, though. I feel like a system to allow devs to make their own CSS framework plugins for XT would be nice.\n",
    "\n",
    "Daniel suggested using dataclasses like in his blog.\n",
    "\n",
    "Claude 3.5 Sonnet suggested renderers for each framework could look like:"
   ]
  },
  {
   "cell_type": "code",
   "execution_count": null,
   "metadata": {},
   "outputs": [],
   "source": [
    "from typing import List, Tuple, Optional, Callable, Dict\n",
    "\n",
    "# Global registry for renderers\n",
    "renderer_registry: Dict[str, Callable] = {}\n",
    "\n",
    "def register_renderer(framework: str):\n",
    "    \"\"\"Decorator to register a renderer for a specific framework.\"\"\"\n",
    "    def decorator(func: Callable):\n",
    "        renderer_registry[framework] = func\n",
    "        return func\n",
    "    return decorator"
   ]
  },
  {
   "cell_type": "code",
   "execution_count": null,
   "metadata": {},
   "outputs": [],
   "source": [
    "from dataclasses import dataclass\n",
    "\n",
    "@dataclass\n",
    "class Card:\n",
    "    title: str\n",
    "    description: str\n",
    "    image: Optional[str] = None\n",
    "    button_links: List[Tuple[str, str]] = ()\n",
    "\n",
    "    def __xt__(self, uiframework='semanticui'):\n",
    "        if uiframework not in renderer_registry:\n",
    "            raise ValueError(f\"No renderer registered for framework: {uiframework}\")\n",
    "        return renderer_registry[uiframework](self)"
   ]
  },
  {
   "cell_type": "code",
   "execution_count": null,
   "metadata": {},
   "outputs": [],
   "source": [
    "@register_renderer('semanticui')\n",
    "def render_semanticui(card: Card):\n",
    "    content = [\n",
    "        Div(card.title, cls='header'),\n",
    "        Div(card.description, cls='description')\n",
    "    ]\n",
    "    if card.image:\n",
    "        content.insert(0, Div(Img(src=card.image, cls='ui image'), cls='image'))\n",
    "    \n",
    "    buttons = [\n",
    "        A(text, href=link, cls='ui button')\n",
    "        for text, link in card.button_links\n",
    "    ]\n",
    "\n",
    "    return Div(\n",
    "        Div(*content, cls='content'),\n",
    "        *buttons,\n",
    "        cls='ui card'\n",
    "    )"
   ]
  },
  {
   "cell_type": "markdown",
   "metadata": {},
   "source": [
    "Let's try rendering out a simple card with this"
   ]
  },
  {
   "cell_type": "code",
   "execution_count": null,
   "metadata": {},
   "outputs": [],
   "source": [
    "hannah_card = Card('Hannah', 'Hannah is a girl who likes to dance.', image='hannah.jpg', button_links=[('Add Friend', '#')])\n",
    "hannah_card.__xt__()"
   ]
  },
  {
   "cell_type": "markdown",
   "metadata": {},
   "source": [
    "Note: I've learned better patterns since I wrote this. Leaving this here for posterity."
   ]
  }
 ],
 "metadata": {
  "kernelspec": {
   "display_name": "python3",
   "language": "python",
   "name": "python3"
  }
 },
 "nbformat": 4,
 "nbformat_minor": 2
}
