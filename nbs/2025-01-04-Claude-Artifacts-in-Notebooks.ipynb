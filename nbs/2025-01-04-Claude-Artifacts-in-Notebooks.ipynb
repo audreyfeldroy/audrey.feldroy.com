{
 "cells": [
  {
   "cell_type": "markdown",
   "id": "9bebe2c4",
   "metadata": {},
   "source": [
    "# Showing Claude Artifacts in Jupyter Notebooks"
   ]
  },
  {
   "cell_type": "code",
   "execution_count": 2,
   "id": "815837d3",
   "metadata": {},
   "outputs": [],
   "source": [
    "from fastcore.all import *\n",
    "from fasthtml.common import *\n",
    "from fasthtml.jupyter import *\n",
    "from IPython.display import IFrame\n",
    "from pathlib import *"
   ]
  },
  {
   "cell_type": "markdown",
   "id": "a519cda2",
   "metadata": {},
   "source": [
    "## Prompt for HTML and Vanilla JS"
   ]
  },
  {
   "cell_type": "markdown",
   "id": "e3936329",
   "metadata": {},
   "source": [
    "I prompted Claude 3.5 Sonnet with:\n",
    "\n",
    "> Make an HTML and vanilla JS birthday app for my daughter who just turned six\n",
    "\n",
    "The `HTML and vanilla JS` part is important. Otherwise it'll make React artifacts which I don't want."
   ]
  },
  {
   "cell_type": "markdown",
   "id": "14514e32",
   "metadata": {},
   "source": [
    "Then I downloaded the artifact it generated to https://github.com/audreyfeldroy/arg-static/tree/main/artifacts-html/2025-01-04"
   ]
  },
  {
   "cell_type": "markdown",
   "id": "6d4ae849",
   "metadata": {},
   "source": [
    "## Inline Display in an IFrame"
   ]
  },
  {
   "cell_type": "markdown",
   "id": "65d7c081",
   "metadata": {},
   "source": [
    "To show the artifact in a Jupyter notebook iframe:"
   ]
  },
  {
   "cell_type": "code",
   "execution_count": 3,
   "id": "0084a6c0",
   "metadata": {},
   "outputs": [
    {
     "data": {
      "text/html": [
       "\n",
       "        <iframe\n",
       "            width=\"700\"\n",
       "            height=\"600\"\n",
       "            src=\"https://audreyfeldroy.github.io/arg-static/artifacts-html/2025-01-04/birthday-app.html\"\n",
       "            frameborder=\"0\"\n",
       "            allowfullscreen\n",
       "            \n",
       "        ></iframe>\n",
       "        "
      ],
      "text/plain": [
       "<IPython.lib.display.IFrame at 0x109f08290>"
      ]
     },
     "execution_count": 3,
     "metadata": {},
     "output_type": "execute_result"
    }
   ],
   "source": [
    "IFrame(src=\"https://audreyfeldroy.github.io/arg-static/artifacts-html/2025-01-04/birthday-app.html\", width=700, height=600)"
   ]
  },
  {
   "cell_type": "markdown",
   "id": "ad324531",
   "metadata": {},
   "source": [
    "## New Artifact: 3D Shape Coloring App"
   ]
  },
  {
   "cell_type": "markdown",
   "id": "ff06cf3a",
   "metadata": {},
   "source": [
    "She then asked me to make her a coloring app. Yesterday she asked me how it was possible to draw 3D shapes, so I prompted:\n",
    "\n",
    "> Create a simple HTML and vanilla JS coloring app for my daughter. Show 3D shapes that she can use the paint bucket to color."
   ]
  },
  {
   "cell_type": "code",
   "execution_count": 5,
   "id": "ab3cf5c0",
   "metadata": {
    "scrolled": false
   },
   "outputs": [
    {
     "data": {
      "text/html": [
       "\n",
       "        <iframe\n",
       "            width=\"800\"\n",
       "            height=\"700\"\n",
       "            src=\"https://audreyfeldroy.github.io/arg-static/artifacts-html/2025-01-04/3D-shape-coloring-app.html\"\n",
       "            frameborder=\"0\"\n",
       "            allowfullscreen\n",
       "            \n",
       "        ></iframe>\n",
       "        "
      ],
      "text/plain": [
       "<IPython.lib.display.IFrame at 0x10ee15f10>"
      ]
     },
     "execution_count": 5,
     "metadata": {},
     "output_type": "execute_result"
    }
   ],
   "source": [
    "IFrame(src=\"https://audreyfeldroy.github.io/arg-static/artifacts-html/2025-01-04/3D-shape-coloring-app.html\", width=800, height=700)"
   ]
  }
 ],
 "metadata": {
  "kernelspec": {
   "display_name": "Python 3 (ipykernel)",
   "language": "python",
   "name": "python3"
  },
  "language_info": {
   "codemirror_mode": {
    "name": "ipython",
    "version": 3
   },
   "file_extension": ".py",
   "mimetype": "text/x-python",
   "name": "python",
   "nbconvert_exporter": "python",
   "pygments_lexer": "ipython3",
   "version": "3.12.8"
  }
 },
 "nbformat": 4,
 "nbformat_minor": 5
}
