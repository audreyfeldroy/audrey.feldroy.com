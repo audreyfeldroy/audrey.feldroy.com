{
 "cells": [
  {
   "cell_type": "markdown",
   "id": "0",
   "metadata": {},
   "source": [
    "# HTML Title Tag in FastHTML"
   ]
  },
  {
   "cell_type": "markdown",
   "id": "1",
   "metadata": {},
   "source": [
    "I get so lazy about title tags. The point of today's notebook is to make me less lazy, so I actually fix the title of this site. Oh, and to explore `Title` and `Titled` in FastHTML."
   ]
  },
  {
   "cell_type": "code",
   "execution_count": 2,
   "id": "2",
   "metadata": {},
   "outputs": [],
   "source": [
    "from fasthtml.common import *\n",
    "from fasthtml.jupyter import *\n",
    "from nb2fasthtml.core import render_nb"
   ]
  },
  {
   "cell_type": "markdown",
   "id": "3",
   "metadata": {},
   "source": [
    "To create a `<title>` tag, you use the Title FT:"
   ]
  },
  {
   "cell_type": "code",
   "execution_count": 3,
   "id": "4",
   "metadata": {},
   "outputs": [
    {
     "data": {
      "text/markdown": [
       "```html\n",
       "<title>Hey</title>\n",
       "\n",
       "```"
      ],
      "text/plain": [
       "title(('Hey',),{})"
      ]
     },
     "execution_count": 3,
     "metadata": {},
     "output_type": "execute_result"
    }
   ],
   "source": [
    "Title(\"Hey\")"
   ]
  },
  {
   "cell_type": "markdown",
   "id": "5",
   "metadata": {},
   "source": [
    "`Titled` is a shortcut to give you `<title>` and `<h1>` containing the same thing, with the `<h1>` wrapped in a main container:"
   ]
  },
  {
   "cell_type": "code",
   "execution_count": 4,
   "id": "6",
   "metadata": {},
   "outputs": [
    {
     "data": {
      "text/plain": [
       "'<title>Hey this is Titled</title>\\n<main class=\"container\">  <h1>Hey this is Titled</h1>\\n</main>'"
      ]
     },
     "execution_count": 4,
     "metadata": {},
     "output_type": "execute_result"
    }
   ],
   "source": [
    "to_xml(Titled(\"Hey this is Titled\"))"
   ]
  },
  {
   "cell_type": "markdown",
   "id": "7",
   "metadata": {},
   "source": [
    "It doesn't make much sense until you add a list of FTs to `Titled`:"
   ]
  },
  {
   "cell_type": "code",
   "execution_count": 5,
   "id": "8",
   "metadata": {},
   "outputs": [
    {
     "name": "stdout",
     "output_type": "stream",
     "text": [
      "<title>Hey this is Titled</title>\n",
      "<main class=\"container\">  <h1>Hey this is Titled</h1>\n",
      "  <p>Here&#x27;s some page content in a paragraph.</p>\n",
      "  <div>\n",
      "    <p>And here&#x27;s a paragraph in a div.</p>\n",
      "  </div>\n",
      "  <ol>\n",
      "    <li>You can add stuff here</li>\n",
      "    <li>And more stuff</li>\n",
      "    <li>And the page can go on and on.</li>\n",
      "  </ol>\n",
      "</main>\n"
     ]
    }
   ],
   "source": [
    "print(to_xml(Titled(\"Hey this is Titled\", P(\"Here's some page content in a paragraph.\"), \n",
    "             Div(P(\"And here's a paragraph in a div.\")),\n",
    "             Ol(Li(\"You can add stuff here\"), Li(\"And more stuff\"), Li(\"And the page can go on and on.\")))))"
   ]
  },
  {
   "cell_type": "markdown",
   "id": "9",
   "metadata": {},
   "source": [
    "## FastHTML App With Titled Pages"
   ]
  },
  {
   "cell_type": "markdown",
   "id": "10",
   "metadata": {},
   "source": [
    "Here's a FastHTML app I'm running from this notebook. "
   ]
  },
  {
   "cell_type": "code",
   "execution_count": 6,
   "id": "11",
   "metadata": {},
   "outputs": [],
   "source": [
    "app,rt = fast_app(pico=False)"
   ]
  },
  {
   "cell_type": "code",
   "execution_count": 7,
   "id": "12",
   "metadata": {},
   "outputs": [],
   "source": [
    "@rt\n",
    "def index():\n",
    "    return Titled(\"My Homepage\",\n",
    "        Div(P(\"This page has a title and h1.\")),\n",
    "        P(\"Here's some page content in a paragraph.\"), \n",
    "        Div(P(\"And here's a paragraph in a div.\")),\n",
    "        Ol(Li(\"You can add stuff here\"), Li(\"And more stuff\"), Li(\"The page can go on and on.\")))"
   ]
  },
  {
   "cell_type": "code",
   "execution_count": 8,
   "id": "13",
   "metadata": {},
   "outputs": [
    {
     "data": {
      "text/html": [
       "\n",
       "<script>\n",
       "document.body.addEventListener('htmx:configRequest', (event) => {\n",
       "    if(event.detail.path.includes('://')) return;\n",
       "    htmx.config.selfRequestsOnly=false;\n",
       "    event.detail.path = `${location.protocol}//${location.hostname}:8000${event.detail.path}`;\n",
       "});\n",
       "</script>"
      ],
      "text/plain": [
       "<IPython.core.display.HTML object>"
      ]
     },
     "metadata": {},
     "output_type": "display_data"
    }
   ],
   "source": [
    "server = JupyUvi(app)"
   ]
  },
  {
   "cell_type": "code",
   "execution_count": 9,
   "id": "14",
   "metadata": {},
   "outputs": [],
   "source": [
    "@rt('/pages/{title}')\n",
    "def page(title:str):\n",
    "    return Titled(title,\n",
    "        Div(P(\"The title and h1 match the title page URL slug\")))"
   ]
  },
  {
   "cell_type": "code",
   "execution_count": 10,
   "id": "15",
   "metadata": {},
   "outputs": [],
   "source": [
    "server.stop()"
   ]
  },
  {
   "cell_type": "markdown",
   "id": "16",
   "metadata": {},
   "source": [
    "## Titles From `nb2fasthtml`"
   ]
  },
  {
   "cell_type": "code",
   "execution_count": 11,
   "id": "17",
   "metadata": {},
   "outputs": [],
   "source": [
    "name = \"2025-01-07-Verifying-Bluesky-Domain-in-FastHTML\"\n",
    "css = ':root {font-family: system-ui, -apple-system, \"Segoe UI\", Roboto, \"Helvetica Neue\", sans-serif;} p {line-height: 1.5;}'\n",
    "nb = Path(f'{name}.ipynb')"
   ]
  },
  {
   "cell_type": "markdown",
   "id": "18",
   "metadata": {},
   "source": [
    "`render_nb` from the `nb2fasthtml` package already turns the notebook's title into an h1, but it appears it doesn't add a title tag.\n",
    "\n",
    "To get around that, I have my notebook route handler return:"
   ]
  },
  {
   "cell_type": "code",
   "execution_count": 12,
   "id": "19",
   "metadata": {},
   "outputs": [
    {
     "data": {
      "text/plain": [
       "(title(('Verifying Bluesky Domain in FastHTML',),{}),\n",
       " style((':root {font-family: system-ui, -apple-system, \"Segoe UI\", Roboto, \"Helvetica Neue\", sans-serif;} p {line-height: 1.5;}',),{}),\n",
       " div((div((h1(('Verifying a Bluesky Domain Handle on a FastHTML Site',),{}),),{'class': 'frontmatter'}), div((div(('I just changed my Bluesky to [@audrey.feldroy.com](https://bsky.app/profile/audrey.feldroy.com). To verify my domain ownership, I added this route handler to my FastHTML website:',),{'class': 'marked'}),),{}), article((div((\"\\n```python\\n@rt('/.well-known/{fname}')\\ndef wellknown(fname: str):\\n    return Path(f'.well-known/{fname}').read_text()\\n```\\n\",),{'class': 'marked'}), ''),{}), div((div((\"In my website's repo [arg-blog-fasthtml](https://github.com/audreyfeldroy/arg-blog-fasthtml) I created a `.well-known` directory.\",),{'class': 'marked'}),),{}), div((div(('Within that, I created a file called `atproto-did`, containing the verification text string shown under:\\n\\n> https://bsky.app/settings/account > Change Handle > I have my own domain > No DNS Panel',),{'class': 'marked'}),),{}), div((div(('Then I redeployed my site and clicked the *Verify Text File* button, and my handle was updated.',),{'class': 'marked'}),),{}), div((div(('## A Full Minimal FastHTML App for This',),{'class': 'marked'}),),{}), div((div((\"If you have a domain but no website yet, here's a FastHTML app for verifying your domain as your Bluesky handle:\",),{'class': 'marked'}),),{}), article((div(('\\n```python\\nfrom fasthtml.common import *\\n\\napp,rt = fast_app()\\n\\n@rt\\ndef get(): return Div(P(\"Welcome to my homepage!\"))\\n\\n@rt(\\'/.well-known/{fname}\\')\\ndef wellknown(fname: str):\\n    return Path(f\\'.well-known/{fname}\\').read_text()\\n\\nserve()\\n```\\n',),{'class': 'marked'}), ''),{}), article((div(('\\n```python\\nThen add the `.well-known/atproto-did` file, deploy, and verify.\\n```\\n',),{'class': 'marked'}), ''),{})),{'class': 'container'}))"
      ]
     },
     "execution_count": 12,
     "metadata": {},
     "output_type": "execute_result"
    }
   ],
   "source": [
    "r = (Title(name[11:].replace('-', ' ').replace('_', ' ')),\n",
    "Style(css),\n",
    "render_nb(nb, wrapper=Div))\n",
    "r"
   ]
  },
  {
   "cell_type": "markdown",
   "id": "20",
   "metadata": {},
   "source": [
    "Which we can see generally more readably with:"
   ]
  },
  {
   "cell_type": "code",
   "execution_count": 13,
   "id": "21",
   "metadata": {},
   "outputs": [
    {
     "name": "stdout",
     "output_type": "stream",
     "text": [
      "<title>Verifying Bluesky Domain in FastHTML</title>\n",
      "<style>:root {font-family: system-ui, -apple-system, \"Segoe UI\", Roboto, \"Helvetica Neue\", sans-serif;} p {line-height: 1.5;}</style>\n",
      "<div class=\"container\">\n",
      "  <div class=\"frontmatter\">\n",
      "    <h1>Verifying a Bluesky Domain Handle on a FastHTML Site</h1>\n",
      "  </div>\n",
      "  <div>\n",
      "    <div class=\"marked\">I just changed my Bluesky to [@audrey.feldroy.com](https://bsky.app/profile/audrey.feldroy.com). To verify my domain ownership, I added this route handler to my FastHTML website:</div>\n",
      "  </div>\n",
      "  <article>\n",
      "    <div class=\"marked\">\n",
      "```python\n",
      "@rt(&#x27;/.well-known/{fname}&#x27;)\n",
      "def wellknown(fname: str):\n",
      "    return Path(f&#x27;.well-known/{fname}&#x27;).read_text()\n",
      "```\n",
      "</div>\n",
      "  </article>\n",
      "  <div>\n",
      "    <div class=\"marked\">In my website&#x27;s repo [arg-blog-fasthtml](https://github.com/audreyfeldroy/arg-blog-fasthtml) I created a `.well-known` directory.</div>\n",
      "  </div>\n",
      "  <div>\n",
      "    <div class=\"marked\">Within that, I created a file called `atproto-did`, containing the verification text string shown under:\n",
      "\n",
      "&gt; https://bsky.app/settings/account &gt; Change Handle &gt; I have my own domain &gt; No DNS Panel</div>\n",
      "  </div>\n",
      "  <div>\n",
      "    <div class=\"marked\">Then I redeployed my site and clicked the *Verify Text File* button, and my handle was updated.</div>\n",
      "  </div>\n",
      "  <div>\n",
      "    <div class=\"marked\">## A Full Minimal FastHTML App for This</div>\n",
      "  </div>\n",
      "  <div>\n",
      "    <div class=\"marked\">If you have a domain but no website yet, here&#x27;s a FastHTML app for verifying your domain as your Bluesky handle:</div>\n",
      "  </div>\n",
      "  <article>\n",
      "    <div class=\"marked\">\n",
      "```python\n",
      "from fasthtml.common import *\n",
      "\n",
      "app,rt = fast_app()\n",
      "\n",
      "@rt\n",
      "def get(): return Div(P(&quot;Welcome to my homepage!&quot;))\n",
      "\n",
      "@rt(&#x27;/.well-known/{fname}&#x27;)\n",
      "def wellknown(fname: str):\n",
      "    return Path(f&#x27;.well-known/{fname}&#x27;).read_text()\n",
      "\n",
      "serve()\n",
      "```\n",
      "</div>\n",
      "  </article>\n",
      "  <article>\n",
      "    <div class=\"marked\">\n",
      "```python\n",
      "Then add the `.well-known/atproto-did` file, deploy, and verify.\n",
      "```\n",
      "</div>\n",
      "  </article>\n",
      "</div>\n",
      "\n"
     ]
    }
   ],
   "source": [
    "print(to_xml(r))"
   ]
  }
 ],
 "metadata": {
  "kernelspec": {
   "display_name": "Python 3 (ipykernel)",
   "language": "python",
   "name": "python3"
  },
  "language_info": {
   "codemirror_mode": {
    "name": "ipython",
    "version": 3
   },
   "file_extension": ".py",
   "mimetype": "text/x-python",
   "name": "python",
   "nbconvert_exporter": "python",
   "pygments_lexer": "ipython3",
   "version": "3.12.8"
  }
 },
 "nbformat": 4,
 "nbformat_minor": 5
}
