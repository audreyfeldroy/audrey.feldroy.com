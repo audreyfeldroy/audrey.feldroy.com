{
 "cells": [
  {
   "cell_type": "markdown",
   "id": "04f1c283",
   "metadata": {},
   "source": [
    "# This Site Is Now Powered by This Notebook, Part 5"
   ]
  },
  {
   "cell_type": "markdown",
   "id": "0cb385d4",
   "metadata": {},
   "source": [
    "Just little tweaks to make sure the site still works with all the new MonsterUI stuff."
   ]
  },
  {
   "cell_type": "code",
   "execution_count": 1,
   "id": "0eb85e85",
   "metadata": {},
   "outputs": [],
   "source": [
    "#| default_exp main"
   ]
  },
  {
   "cell_type": "code",
   "execution_count": 2,
   "id": "add19f62",
   "metadata": {},
   "outputs": [],
   "source": [
    "#| export\n",
    "from datetime import datetime\n",
    "from execnb.nbio import read_nb\n",
    "from nb2fasthtml.core import render_code_output\n",
    "from fasthtml.common import *\n",
    "from fasthtml.jupyter import *\n",
    "from importlib.metadata import distributions\n",
    "from IPython.display import display, HTML\n",
    "from monsterui import franken\n",
    "from monsterui.all import Theme\n",
    "from mistletoe import markdown\n",
    "from mistletoe.html_renderer import block_token, HtmlRenderer\n",
    "import pygments\n",
    "from pygments import highlight\n",
    "from pygments.lexers import PythonLexer\n",
    "from pygments.formatters import HtmlFormatter"
   ]
  },
  {
   "cell_type": "code",
   "execution_count": 3,
   "id": "0aede159",
   "metadata": {},
   "outputs": [
    {
     "data": {
      "text/plain": [
       "True"
      ]
     },
     "execution_count": 3,
     "metadata": {},
     "output_type": "execute_result"
    }
   ],
   "source": [
    "IN_NOTEBOOK"
   ]
  },
  {
   "cell_type": "markdown",
   "id": "62baa1df",
   "metadata": {},
   "source": [
    "## Setup"
   ]
  },
  {
   "cell_type": "code",
   "execution_count": 4,
   "id": "f620a8b3",
   "metadata": {},
   "outputs": [],
   "source": [
    "#| export\n",
    "app,rt = fast_app(pico=False)"
   ]
  },
  {
   "cell_type": "code",
   "execution_count": 33,
   "id": "ef898649",
   "metadata": {
    "scrolled": false
   },
   "outputs": [
    {
     "data": {
      "text/html": [
       "\n",
       "<script>\n",
       "document.body.addEventListener('htmx:configRequest', (event) => {\n",
       "    if(event.detail.path.includes('://')) return;\n",
       "    htmx.config.selfRequestsOnly=false;\n",
       "    event.detail.path = `${location.protocol}//${location.hostname}:8000${event.detail.path}`;\n",
       "});\n",
       "</script>"
      ],
      "text/plain": [
       "<IPython.core.display.HTML object>"
      ]
     },
     "metadata": {},
     "output_type": "display_data"
    }
   ],
   "source": [
    "server = JupyUvi(app)"
   ]
  },
  {
   "cell_type": "code",
   "execution_count": 32,
   "id": "cdf12a88",
   "metadata": {},
   "outputs": [],
   "source": [
    "# server.stop()"
   ]
  },
  {
   "cell_type": "markdown",
   "id": "6e42d290",
   "metadata": {},
   "source": [
    "## Utilities"
   ]
  },
  {
   "cell_type": "code",
   "execution_count": 7,
   "id": "86b59795",
   "metadata": {},
   "outputs": [],
   "source": [
    "#| export\n",
    "def get_nb_paths(): \n",
    "    root = Path() if IN_NOTEBOOK else Path(\"nbs/\")\n",
    "    return L(root.glob(\"*.ipynb\")).sorted(reverse=True)"
   ]
  },
  {
   "cell_type": "code",
   "execution_count": 8,
   "id": "5fa48a4c",
   "metadata": {},
   "outputs": [
    {
     "data": {
      "text/plain": [
       "(#56) [Path('Applying-MonsterUI-Classes-to-Markdown-Headings-Rendered-With-Mistletoe.ipynb'),Path('2025-01-30-This-Site-Is-Now-Powered-by-This-Notebook-Part-5.ipynb'),Path('2025-01-30-Docker-and-vanilla-asyncio.ipynb'),Path('2025-01-29-This-Site-Is-Now-Powered-by-This-Notebook-Part-4.ipynb'),Path('2025-01-28-Functional-Programming-with-datetime-and-Omni-Timezone-Discord-Timestamps.ipynb'),Path('2025-01-27-This-Site-Is-Now-Powered-by-This-Notebook-Part-3.ipynb'),Path('2025-01-26-Improving-Pygments-Code-Block-Display.ipynb'),Path('2025-01-25-This-Site-Is-Now-Powered-by-This-Notebook-Part-2.ipynb'),Path('2025-01-24-Creating-In-Notebook-Images-for-Social-Media-With-PIL-Pillow.ipynb'),Path('2025-01-23-Troubleshooting-MonsterUI-on-This-Site.ipynb'),Path('2025-01-23-This-Site-Is-Now-Powered-by-This-Notebook.ipynb'),Path('2025-01-22-MonsterUI-Buttons-and-Links.ipynb'),Path('2025-01-22-Customizing-FastHTML-Headers-From-Notebook-Contents.ipynb'),Path('2025-01-21-SVG-Animation-in-FastHTML.ipynb'),Path('2025-01-20-Dark-and-Light-Mode-in-FastHTML.ipynb'),Path('2025-01-19-Genanki-and-fastcore.ipynb'),Path('2025-01-18-Alarm-Sounds-App.ipynb'),Path('2025-01-17-Alarm-Clock-Sounds.ipynb'),Path('2025-01-16-Cosine-Similarity-Breakdown-in-LaTeX.ipynb'),Path('2025-01-14-Constructing-SQLite-Tables-for-Notebooks-and-Search.ipynb')...]"
      ]
     },
     "execution_count": 8,
     "metadata": {},
     "output_type": "execute_result"
    }
   ],
   "source": [
    "nb_paths = get_nb_paths()\n",
    "nb_paths"
   ]
  },
  {
   "cell_type": "code",
   "execution_count": 9,
   "id": "276f6cf6",
   "metadata": {},
   "outputs": [],
   "source": [
    "#| export\n",
    "def get_title_and_desc(fpath):\n",
    "    nb = read_nb(fpath)\n",
    "    title = nb.cells[0].source.lstrip(\"# \")\n",
    "    desc = nb.cells[1].source\n",
    "    return title,desc"
   ]
  },
  {
   "cell_type": "code",
   "execution_count": 10,
   "id": "4af76a99",
   "metadata": {},
   "outputs": [
    {
     "data": {
      "text/plain": [
       "('Applying MonsterUI Classes to Markdown Headings Rendered With Mistletoe',\n",
       " 'Mistletoe works well to generate HTML from Markdown. I extend it to add the heading classes that MonsterUI uses, which come from FrankenUI.')"
      ]
     },
     "execution_count": 10,
     "metadata": {},
     "output_type": "execute_result"
    }
   ],
   "source": [
    "get_title_and_desc(nb_paths[0])"
   ]
  },
  {
   "cell_type": "code",
   "execution_count": 11,
   "id": "2e2447f8",
   "metadata": {},
   "outputs": [],
   "source": [
    "#| export\n",
    "def get_date_from_iso8601_prefix(fname):\n",
    "    \"Gets date from first 10 chars YYYY-MM-DD of `fname`, where `fname` is like `2025-01-12-Get-Date-From-This.whatever\"\n",
    "    try:\n",
    "        return datetime.fromisoformat(str(fname)[0:10])\n",
    "    except ValueError: return datetime.now()"
   ]
  },
  {
   "cell_type": "code",
   "execution_count": 12,
   "id": "62de68ef",
   "metadata": {},
   "outputs": [
    {
     "data": {
      "text/plain": [
       "datetime.datetime(2025, 1, 31, 1, 45, 35, 922967)"
      ]
     },
     "execution_count": 12,
     "metadata": {},
     "output_type": "execute_result"
    }
   ],
   "source": [
    "date = get_date_from_iso8601_prefix(nb_paths[0].name)\n",
    "date"
   ]
  },
  {
   "cell_type": "code",
   "execution_count": 13,
   "id": "16c96b40",
   "metadata": {},
   "outputs": [
    {
     "data": {
      "text/plain": [
       "datetime.datetime(2025, 1, 31, 1, 45, 35, 940219)"
      ]
     },
     "execution_count": 13,
     "metadata": {},
     "output_type": "execute_result"
    }
   ],
   "source": [
    "date = get_date_from_iso8601_prefix(None)\n",
    "date"
   ]
  },
  {
   "cell_type": "markdown",
   "id": "334c90d4",
   "metadata": {},
   "source": [
    "## Notebook Cards"
   ]
  },
  {
   "cell_type": "code",
   "execution_count": 14,
   "id": "808592df",
   "metadata": {},
   "outputs": [],
   "source": [
    "#| export\n",
    "def NBCard(title,desc,href,date):\n",
    "    return A(\n",
    "        franken.Card(\n",
    "        franken.CardTitle(franken.H3(title)), \n",
    "        franken.P(f\"{date:%a, %b %-d, %Y}\", cls=franken.TextPresets.muted_sm),\n",
    "        franken.P(desc),\n",
    "        body_cls='space-y-2'\n",
    "    ), href=href)"
   ]
  },
  {
   "cell_type": "code",
   "execution_count": 15,
   "id": "17b9b07c",
   "metadata": {},
   "outputs": [],
   "source": [
    "#| export\n",
    "def mk_nbcard_from_nb_path(nb_path):\n",
    "    date = get_date_from_iso8601_prefix(nb_path.name) or datetime.now()\n",
    "    return NBCard(*get_title_and_desc(nb_path), href=f'/nbs/{nb_path.name[:-6]}', date=date)"
   ]
  },
  {
   "cell_type": "markdown",
   "id": "0365d895",
   "metadata": {},
   "source": [
    "## Index Page"
   ]
  },
  {
   "cell_type": "code",
   "execution_count": 16,
   "id": "be20a58d",
   "metadata": {},
   "outputs": [],
   "source": [
    "#| export\n",
    "@rt\n",
    "def index():\n",
    "    nb_paths = get_nb_paths()\n",
    "    return (\n",
    "        Theme.blue.headers(),\n",
    "        Title(\"audrey.feldroy.com\"),\n",
    "        franken.Container(\n",
    "            Div(\n",
    "                franken.H1('audrey.feldroy.com'), franken.P(\"The experimental Jupyter notebooks of Audrey M. Roy Greenfeld. This website and all its notebooks are open-source at \", franken.A(\"github.com/audreyfeldroy/arg-blog-fasthtml\", href=\"https://github.com/audreyfeldroy/arg-blog-fasthtml\"), cls=\"mb-6\"),\n",
    "            ),\n",
    "            franken.Grid(*nb_paths.map(mk_nbcard_from_nb_path), cols_sm=1, cols_md=1, cols_lg=2, cols_xl=3)\n",
    "        )\n",
    "    )"
   ]
  },
  {
   "cell_type": "markdown",
   "id": "2a75a334",
   "metadata": {},
   "source": [
    "## Notebook Cells"
   ]
  },
  {
   "cell_type": "code",
   "execution_count": 17,
   "id": "d80d771e",
   "metadata": {},
   "outputs": [],
   "source": [
    "#| export\n",
    "def StyledCode(c, style='monokai'):\n",
    "    fm = HtmlFormatter(style=style, cssclass=style, prestyles=\"padding:10px 0;\")\n",
    "    h = highlight(c, PythonLexer(), fm)\n",
    "    sd = fm.get_style_defs(f\".{style}\")\n",
    "    return Style(sd), NotStr(h)"
   ]
  },
  {
   "cell_type": "code",
   "execution_count": 18,
   "id": "e6877c0a",
   "metadata": {},
   "outputs": [],
   "source": [
    "#| export\n",
    "class MonsterHtmlRenderer(HtmlRenderer):\n",
    "    def render_heading(self, token: block_token.Heading) -> str:\n",
    "        template = '<h{level} class=\"uk-h{level}\">{inner}</h{level}>'\n",
    "        inner = self.render_inner(token)\n",
    "        return template.format(level=token.level, inner=inner)"
   ]
  },
  {
   "cell_type": "code",
   "execution_count": 19,
   "id": "f597b0c5",
   "metadata": {},
   "outputs": [],
   "source": [
    "#| export\n",
    "def StyledMd(m):\n",
    "    return Safe(markdown(m, MonsterHtmlRenderer))"
   ]
  },
  {
   "cell_type": "code",
   "execution_count": 20,
   "id": "68b75481",
   "metadata": {},
   "outputs": [],
   "source": [
    "#| export\n",
    "def StyledCell(c):\n",
    "    if c.cell_type == \"markdown\": return StyledMd(c.source)\n",
    "    if c.cell_type == \"code\": \n",
    "        if not c.outputs: return StyledCode(c.source)\n",
    "        return StyledCode(c.source), render_code_output(c)"
   ]
  },
  {
   "cell_type": "markdown",
   "id": "60ede619",
   "metadata": {},
   "source": [
    "## Detail Page"
   ]
  },
  {
   "cell_type": "code",
   "execution_count": 31,
   "id": "8a993e3c",
   "metadata": {},
   "outputs": [],
   "source": [
    "#| export\n",
    "@rt(\"/nbs/{name}\")\n",
    "def notebook(name:str):\n",
    "#     root = Path() if IN_NOTEBOOK else Path(\"nbs/\")\n",
    "    fname = f\"{name}.ipynb\" if IN_NOTEBOOK else f\"nbs/{name}.ipynb\"\n",
    "    fpath = Path(fname)\n",
    "    nb = read_nb(fpath)\n",
    "    title = nb.cells[0].source.lstrip(\"# \")\n",
    "    date = get_date_from_iso8601_prefix(fname.lstrip(\"nbs/\"))\n",
    "    desc = nb.cells[1].source\n",
    "    if \"MonsterUI\" in title:\n",
    "        return (\n",
    "            Theme.slate.headers(),\n",
    "            Title(title),\n",
    "            franken.Container(\n",
    "                Header(\n",
    "                    # TODO: refactor Tailwind margin classes to use MonsterUI DivVStacked or DivFullySpaced\n",
    "                    franken.H1(title, cls=(\"my-6\",)),\n",
    "                    franken.P(f\"by Audrey M. Roy Greenfeld | {date:%a, %b %-d, %Y}\", cls=(franken.TextT.sm, franken.PaddingT.lg, \"mb-6\")),\n",
    "                    franken.P(desc, cls=(\"mb-6\",)),\n",
    "                    Hr()\n",
    "                ),\n",
    "                *L(nb.cells[2:]).map(StyledCell),\n",
    "                cls=\"space-y-5\"\n",
    "            )\n",
    "    )\n",
    "    return (\n",
    "        Style(':root {font-family: system-ui, -apple-system, \"Segoe UI\", Roboto, \"Helvetica Neue\", sans-serif; color-scheme: light dark;} body {background-color: light-dark(#ffffff, #1a1a1a); color: light-dark(#1a1a1a, #ffffff);} p {line-height: 1.5;}'),\n",
    "        Title(title),\n",
    "        Div(\n",
    "            H1(title), # Title\n",
    "            P(Small(f\"by Audrey M. Roy Greenfeld | {date:%a, %b %-d, %Y}\")),\n",
    "            P(desc),\n",
    "            Hr(),\n",
    "            *L(nb.cells[2:]).map(StyledCell),\n",
    "            cls=\"space-y-5\"\n",
    "        )\n",
    "    )"
   ]
  },
  {
   "cell_type": "markdown",
   "id": "f3f89fb0",
   "metadata": {},
   "source": [
    "## Python Package Versions"
   ]
  },
  {
   "cell_type": "code",
   "execution_count": 22,
   "id": "a55b6d0d",
   "metadata": {},
   "outputs": [],
   "source": [
    "#| export\n",
    "@rt\n",
    "def versions():\n",
    "    dists = L([NS(name=dist.metadata['Name'], version=dist.version) for dist in distributions()]).sorted('name')\n",
    "    dists = [Li(f'{d.name}: {d.version}') for d in dists]\n",
    "    return (Title('Python Package Versions'),\n",
    "        Style(':root {font-family: system-ui, -apple-system, \"Segoe UI\", Roboto, \"Helvetica Neue\", sans-serif; color-scheme: light dark;} body {background-color: light-dark(#ffffff, #1a1a1a); color: light-dark(#1a1a1a, #ffffff);} p {line-height: 1.5;}'),   \n",
    "        Div(\n",
    "            H1('Python Package Versions'),\n",
    "            Ul(*dists)          \n",
    "        )       \n",
    "    )"
   ]
  },
  {
   "cell_type": "markdown",
   "id": "b514e4fc",
   "metadata": {},
   "source": [
    "## .well-known"
   ]
  },
  {
   "cell_type": "code",
   "execution_count": 23,
   "id": "98b89d38",
   "metadata": {},
   "outputs": [],
   "source": [
    "#| export\n",
    "@rt('/.well-known/{fname}')\n",
    "def wellknown(fname: str):\n",
    "    fpath = f\"../.well-known/{fname}\" if IN_NOTEBOOK else f\".well-known/{fname}\"\n",
    "    return Path(fpath).read_text()"
   ]
  },
  {
   "cell_type": "markdown",
   "id": "effdceaf",
   "metadata": {},
   "source": [
    "## Serve"
   ]
  },
  {
   "cell_type": "code",
   "execution_count": 36,
   "id": "1d2ac54d",
   "metadata": {},
   "outputs": [],
   "source": [
    "#| export\n",
    "serve()"
   ]
  },
  {
   "cell_type": "markdown",
   "id": "2e83a46b",
   "metadata": {},
   "source": [
    "## Export"
   ]
  },
  {
   "cell_type": "markdown",
   "id": "e211798f",
   "metadata": {},
   "source": [
    "To export this notebook as arg-blog-fasthtml's main.py:\n",
    "\n",
    "```bash\n",
    "nb_export nbs/2025-01-30-This-Site-Is-Now-Powered-by-This-Notebook-Part-5.ipynb --lib_path .\n",
    "```"
   ]
  }
 ],
 "metadata": {
  "kernelspec": {
   "display_name": "Python 3 (ipykernel)",
   "language": "python",
   "name": "python3"
  },
  "language_info": {
   "codemirror_mode": {
    "name": "ipython",
    "version": 3
   },
   "file_extension": ".py",
   "mimetype": "text/x-python",
   "name": "python",
   "nbconvert_exporter": "python",
   "pygments_lexer": "ipython3",
   "version": "3.12.8"
  }
 },
 "nbformat": 4,
 "nbformat_minor": 5
}
