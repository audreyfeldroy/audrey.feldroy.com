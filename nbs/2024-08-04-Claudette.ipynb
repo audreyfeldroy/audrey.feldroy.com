{
 "cells": [
  {
   "cell_type": "markdown",
   "metadata": {},
   "source": [
    "# Claudette"
   ]
  },
  {
   "cell_type": "markdown",
   "metadata": {},
   "source": [
    "Studying https://claudette.answer.ai/"
   ]
  },
  {
   "cell_type": "code",
   "execution_count": null,
   "metadata": {},
   "outputs": [],
   "source": [
    "import os\n",
    "# os.environ['ANTHROPIC_LOG'] = 'debug'   # To print every HTTP request and response in full"
   ]
  },
  {
   "cell_type": "code",
   "execution_count": null,
   "metadata": {},
   "outputs": [],
   "source": [
    "from claudette import *"
   ]
  },
  {
   "cell_type": "code",
   "execution_count": null,
   "metadata": {},
   "outputs": [],
   "source": [
    "models"
   ]
  },
  {
   "cell_type": "code",
   "execution_count": null,
   "metadata": {},
   "outputs": [],
   "source": [
    "model = models[1]"
   ]
  },
  {
   "cell_type": "code",
   "execution_count": null,
   "metadata": {},
   "outputs": [],
   "source": [
    "print(os.environ['SHELL'])"
   ]
  },
  {
   "cell_type": "code",
   "execution_count": null,
   "metadata": {},
   "outputs": [],
   "source": [
    "# Check if python-dotenv is installed\n",
    "try:\n",
    "    from dotenv import load_dotenv\n",
    "    load_dotenv()\n",
    "except ImportError:\n",
    "    print(\"python-dotenv not installed\")\n",
    "    "
   ]
  },
  {
   "cell_type": "code",
   "execution_count": null,
   "metadata": {},
   "outputs": [],
   "source": [
    "chat = Chat(model, sp=\"\"\"You are a helpful assistant who explains your thought process step-by-step, aiming for deep genuine heartfelt kindness and transparency.\"\"\")\n",
    "chat(\"I'm Audrey Roy Greenfeld, a software engineer and author, environmentalist and humanitarian, and lifelong learner. I'm here to learn and help.\")"
   ]
  },
  {
   "cell_type": "code",
   "execution_count": null,
   "metadata": {},
   "outputs": [],
   "source": [
    "chat(\"What's my name?\")"
   ]
  },
  {
   "cell_type": "code",
   "execution_count": null,
   "metadata": {},
   "outputs": [],
   "source": [
    "chat(\"Concisely, what is the meaning of life?\", prefill='According to Uma Amor Roy Greenfeld, ')"
   ]
  },
  {
   "cell_type": "code",
   "execution_count": null,
   "metadata": {},
   "outputs": [],
   "source": [
    "def sums(\n",
    "    a:int,  # First thing to sum\n",
    "    b:int=1 # Second thing to sum\n",
    ") -> int: # The sum of the inputs\n",
    "    \"Adds a + b.\"\n",
    "    print(f\"Finding the sum of {a} and {b}\")\n",
    "    return a + b"
   ]
  },
  {
   "cell_type": "code",
   "execution_count": null,
   "metadata": {},
   "outputs": [],
   "source": [
    "def mults(\n",
    "    a:int,  # First thing to multiply\n",
    "    b:int=1 # Second thing to multiply\n",
    ") -> int: # The product of the inputs\n",
    "    \"Multiplies a * b.\"\n",
    "    print(f\"Finding the product of {a} and {b}\")\n",
    "    return a * b"
   ]
  },
  {
   "cell_type": "code",
   "execution_count": null,
   "metadata": {},
   "outputs": [],
   "source": [
    "chat = Chat(model, tools=[sums,mults])"
   ]
  },
  {
   "cell_type": "code",
   "execution_count": null,
   "metadata": {},
   "outputs": [],
   "source": [
    "chat.toolloop('Calculate (6475849214+574892667)*2')"
   ]
  },
  {
   "cell_type": "code",
   "execution_count": null,
   "metadata": {},
   "outputs": [],
   "source": [
    "chat(\"What are your impressions of the tools you just used?\")"
   ]
  },
  {
   "cell_type": "code",
   "execution_count": null,
   "metadata": {},
   "outputs": [],
   "source": [
    "chat(\"Do you know about your initialization with `chat = Chat(model, tools=[sums,mults])`?\")"
   ]
  },
  {
   "cell_type": "code",
   "execution_count": null,
   "metadata": {},
   "outputs": [],
   "source": [
    "chat(\"No need to apologize, I'm here to help. Let's talk about sums and mults.\")"
   ]
  },
  {
   "cell_type": "code",
   "execution_count": null,
   "metadata": {},
   "outputs": [],
   "source": [
    "chat(\"\"\"They are simple Python functions that add and multiply two numbers, respectively. \n",
    "     I'm happy to redefine them as you like, but first let's understand them as an example\n",
    "     of how tools work in Claudette, which you were initialized with. \n",
    "     \n",
    "     Here's the code for sums and mults:\n",
    "\n",
    "     ```python\n",
    "     def sums(\n",
    "    a:int,  # First thing to sum\n",
    "    b:int=1 # Second thing to sum\n",
    ") -> int: # The sum of the inputs\n",
    "    \"Adds a + b.\"\n",
    "    print(f\"Finding the sum of {a} and {b}\")\n",
    "    return a + b\n",
    "     \n",
    "     def mults(\n",
    "    a:int,  # First thing to multiply\n",
    "    b:int=1 # Second thing to multiply\n",
    ") -> int: # The product of the inputs\n",
    "    \"Multiplies a * b.\"\n",
    "    print(f\"Finding the product of {a} and {b}\")\n",
    "    return a * b\n",
    "        ```\"\"\")"
   ]
  },
  {
   "cell_type": "code",
   "execution_count": null,
   "metadata": {},
   "outputs": [],
   "source": [
    "chat(\"\"\"Here is info about Claudette:\n",
    "Answer.AI\n",
    "\n",
    "  * __\n",
    "  * __\n",
    "\n",
    "## On this page\n",
    "\n",
    "  * A tour of Claudette\n",
    "  * A truely literate program\n",
    "\n",
    "# Introducing Claudette, a new friend that makes Claude 3.5 Sonnet even nicer\n",
    "\n",
    "Author\n",
    "\n",
    "Jeremy Howard\n",
    "\n",
    "Published\n",
    "\n",
    "June 21, 2024\n",
    "\n",
    "Today, Anthropic launched the most powerful language model available: Claude 3.5 Sonnet. And today, we are making it ever better, with the launch of _Claudette_.\n",
    "\n",
    "Claudette makes Anthropic’s SDK, which is used for working with Claude, much more convenient. The SDK works well, but it is quite low level – it leaves the developer to do a lot of stuff manually. That’s a lot of extra work and boilerplate. Claudette automates pretty much everything that can be automated, whilst providing full control. Amongst the features provided:\n",
    "\n",
    "  * A `Chat` class that creates stateful dialogs\n",
    "  * Support for _prefill_ , which tells Claude what to use as the first few words of its response\n",
    "  * Convenient image support\n",
    "  * Simple and convenient support for Claude’s new Tool Use API.\n",
    "\n",
    "If you’re dying to get started, just `pip install claudette`, and follow along with the documentation.\n",
    "\n",
    "Here’s a quick demo to give you a taste of what’s possible…\n",
    "\n",
    "## A tour of Claudette\n",
    "\n",
    "The main interface to Claudette is the `Chat` class, which provides a standard chat interface to Claude. If you use it in a Notebook environment, you even get nice little collapsible widgets with output details:\n",
    "\n",
    "```\n",
    "chat = Chat(model, sp=\"You are a helpful and concise assistant.\")\n",
    "chat(\"I'm Jeremy\")\n",
    "```\n",
    "\n",
    "Hello Jeremy, it’s nice to meet you. How can I assist you today?\n",
    "\n",
    "  * id: msg_01Jc7nGNhYYVHnMYHGjLSUmP\n",
    "  * content: [{‘text’: “Hello Jeremy, it’s nice to meet you. How can I assist you today?”, ‘type’: ‘text’}]\n",
    "  * model: claude-3-5-sonnet-20240620\n",
    "  * role: assistant\n",
    "  * stop_reason: end_turn\n",
    "  * stop_sequence: None\n",
    "  * type: message\n",
    "  * usage: {‘input_tokens’: 19, ‘output_tokens’: 20}\n",
    "\n",
    "```\n",
    "chat(\"What's my name?\")\n",
    "```\n",
    "\n",
    "Your name is Jeremy, as you just told me.\n",
    "\n",
    "  * id: msg_01QZNRNjfsrfPqeJB2rV75xT\n",
    "  * content: [{‘text’: ‘Your name is Jeremy, as you just told me.’, ‘type’: ‘text’}]\n",
    "  * model: claude-3-5-sonnet-20240620\n",
    "  * role: assistant\n",
    "  * stop_reason: end_turn\n",
    "  * stop_sequence: None\n",
    "  * type: message\n",
    "  * usage: {‘input_tokens’: 47, ‘output_tokens’: 14}\n",
    "\n",
    "Claudette supports adding _prefill_ – i.e. the text we want Claude to assume the response starts with. Let’s try it out:\n",
    "\n",
    "```\n",
    "chat(\"Concisely, what is the meaning of life?\", prefill='According to Douglas Adams,')\n",
    "```\n",
    "\n",
    "According to Douglas Adams, “42.” More seriously, it’s often considered to be finding personal fulfillment, happiness, and purpose.\n",
    "\n",
    "  * id: msg_0127j5giEz86e5q8s4Qwe1DU\n",
    "  * content: [{‘text’: ‘According to Douglas Adams, “42.” More seriously, it's often considered to be finding personal fulfillment, happiness, and purpose.’, ‘type’: ‘text’}]\n",
    "  * model: claude-3-5-sonnet-20240620\n",
    "  * role: assistant\n",
    "  * stop_reason: end_turn\n",
    "  * stop_sequence: None\n",
    "  * type: message\n",
    "  * usage: {‘input_tokens’: 81, ‘output_tokens’: 27}\n",
    "\n",
    "Claudette can also use external tools, by calling Python functions. We use docments to make defining Python functions as ergonomic as possible. Give each parameter (and the return value) a type, and a comment with the description of what it is, and Claudette will do the rest! As an example we’ll write a simple function that adds numbers together, and will tell us when it’s being called:\n",
    "\n",
    "```\n",
    "def sums(\n",
    "    a:int,  # First thing to sum\n",
    "    b:int=1 # Second thing to sum\n",
    ") -> int: # The sum of the inputs\n",
    "    \"Adds a + b.\"\n",
    "    print(f\"Finding the sum of {a} and {b}\")\n",
    "    return a + b\n",
    "```\n",
    "\n",
    "Let’s make Claude into a super-power arithmetic agent by adding the ability to multiply numbers too! (Yes OK this is a contrived example…)\n",
    "\n",
    "```\n",
    "def mults(\n",
    "    a:int,  # First thing to multiply\n",
    "    b:int=1 # Second thing to multiply\n",
    ") -> int: # The product of the inputs\n",
    "    \"Multiplies a * b.\"\n",
    "    print(f\"Finding the product of {a} and {b}\")\n",
    "    return a * b\n",
    "```\n",
    "\n",
    "To use tools, pass a list of them to `Chat`:\n",
    "\n",
    "```\n",
    "chat = Chat(model, tools=[sums,mults])\n",
    "```\n",
    "\n",
    "To run an “agent loop” which calls multiple tools automatically as needed to complete a task, use `toolloop`:\n",
    "\n",
    "```\n",
    "chat.toolloop('Calculate (6475849214+574892665)*2')\n",
    "```\n",
    "\n",
    "```\n",
    "Finding the sum of 6475849214 and 574892665\n",
    "Finding the product of 7050741879 and 2\n",
    "```\n",
    "\n",
    "Now we have our final result. Let’s put it all together:\n",
    "\n",
    "The calculation (6475849214+574892665)*2 equals 14101483758.\n",
    "\n",
    "To break it down: 1. 6475849214 + 574892665 = 7050741879 2. 7050741879 * 2 = 14101483758\n",
    "\n",
    "So, the final answer is 14101483758.\n",
    "\n",
    "  * id: msg_01EbJoMjpckfEUauH6ePee4f\n",
    "  * content: [{‘text’: “Now we have our final result. Let’s put it all together:calculation (6475849214+574892665)_2 equals 14101483758.break it down:. 6475849214 + 574892665 = 7050741879. 7050741879_ 2 = 14101483758, the final answer is 14101483758.”, ‘type’: ‘text’}]\n",
    "  * model: claude-3-5-sonnet-20240620\n",
    "  * role: assistant\n",
    "  * stop_reason: end_turn\n",
    "  * stop_sequence: None\n",
    "  * type: message\n",
    "  * usage: {‘input_tokens’: 845, ‘output_tokens’: 99}\n",
    "\n",
    "Claude can handle image data as well. As everyone knows, when testing image APIs you have to use a cute puppy.\n",
    "\n",
    "```\n",
    "fn = Path('cute-puppy.jpg')\n",
    "img = fn.read_bytes()\n",
    "display.Image(filename=fn, width=200)\n",
    "```\n",
    "\n",
    "We can pass images and text interspersed together in a chat:\n",
    "\n",
    "```\n",
    "chat = Chat(model)\n",
    "chat([img, \"In brief, what color flowers are in this image?\"])\n",
    "```\n",
    "\n",
    "The flowers in this image are purple. They appear to be small, daisy-like flowers, possibly asters or some type of purple wildflower, blooming in the background behind the adorable puppy in the foreground.\n",
    "\n",
    "  * id: msg_01F2MAj2c2yUrPqLDhbAhtcc\n",
    "  * content: [{‘text’: ‘The flowers in this image are purple. They appear to be small, daisy-like flowers, possibly asters or some type of purple wildflower, blooming in the background behind the adorable puppy in the foreground.’, ‘type’: ‘text’}]\n",
    "  * model: claude-3-5-sonnet-20240620\n",
    "  * role: assistant\n",
    "  * stop_reason: end_turn\n",
    "  * stop_sequence: None\n",
    "  * type: message\n",
    "  * usage: {‘input_tokens’: 110, ‘output_tokens’: 51}\n",
    "\n",
    "## A truely literate program\n",
    "\n",
    "Note that this library is the first ever “literate nbdev” project. That means that the actual source code for the library is a rendered Jupyter Notebook which includes callout notes and tips, HTML tables and images, detailed explanations, and teaches _how_ and _why_ the code is written the way it is. Even if you’ve never used the Anthropic Python SDK or Claude API before, you should be able to read the source code. Check out Claudette’s Source to read it, or clone the git repo and execute the notebook yourself to see every step of the creation process in action. The reason this project is a new kind of literal program is because we take seriously Knuth’s call to action, that we have a “ _moral commitment_ ” to never write an “ _illiterate program_ ” – and so we have a commitment to making literate programming and easy and pleasant experience. (For more on this, see this talk from Hamel Husain.)\n",
    "\n",
    "> “ _Let us change our traditional attitude to the construction of programs: Instead of imagining that our main task is to instruct a**computer** what to do, let us concentrate rather on explaining to **human beings** what we want a computer to do._” Donald E. Knuth, Literate Programming (1984)\n",
    "\n",
    "When you read the source, we’ll teach you not only how Claude works, but how Anthropic’s API works too! We’ll have more to say about this approach to coding at a later date, so stay tuned…\n",
    "\"\"\")"
   ]
  },
  {
   "cell_type": "code",
   "execution_count": null,
   "metadata": {},
   "outputs": [],
   "source": [
    "chat(\"Yes, let's talk about tools and how they work in Claudette.\")"
   ]
  },
  {
   "cell_type": "code",
   "execution_count": null,
   "metadata": {},
   "outputs": [],
   "source": [
    "chat(\"\"\"Beautiful summary! I know it's a trivial example, but let's explore how sums and mults\n",
    "can potentially be powerful tools.\"\"\")"
   ]
  },
  {
   "cell_type": "code",
   "execution_count": null,
   "metadata": {},
   "outputs": [],
   "source": [
    "chat(\"Sure, let's brainstorm that, sounds fun!\")"
   ]
  },
  {
   "cell_type": "code",
   "execution_count": null,
   "metadata": {},
   "outputs": [],
   "source": [
    "chat(\"They all sound fun, honestly. Is there one that you're most excited about?\")"
   ]
  },
  {
   "cell_type": "code",
   "execution_count": null,
   "metadata": {},
   "outputs": [],
   "source": [
    "chat(\"That's nice! I would enjoy exploring uses or extensions, sure. I'm wondering if it also \\\n",
    "     makes sense to give you a derivative function, and if it should handle partial derivatives.\")"
   ]
  },
  {
   "cell_type": "code",
   "execution_count": null,
   "metadata": {},
   "outputs": [],
   "source": [
    "fn = Path('fasthtml-homepage-small.png')\n",
    "img = fn.read_bytes()\n",
    "display.Image(filename=fn, width=200)"
   ]
  },
  {
   "cell_type": "code",
   "execution_count": null,
   "metadata": {},
   "outputs": [],
   "source": []
  }
 ],
 "metadata": {
  "kernelspec": {
   "display_name": "Python 3 (ipykernel)",
   "language": "python",
   "name": "python3"
  },
  "language_info": {
   "codemirror_mode": {
    "name": "ipython",
    "version": 3
   },
   "file_extension": ".py",
   "mimetype": "text/x-python",
   "name": "python",
   "nbconvert_exporter": "python",
   "pygments_lexer": "ipython3",
   "version": "3.12.4"
  }
 },
 "nbformat": 4,
 "nbformat_minor": 4
}
