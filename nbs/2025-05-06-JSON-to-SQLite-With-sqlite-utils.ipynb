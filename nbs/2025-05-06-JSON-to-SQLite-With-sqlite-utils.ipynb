{
 "cells": [
  {
   "cell_type": "markdown",
   "id": "00c70d7f",
   "metadata": {},
   "source": [
    "# JSON to SQLite With sqlite-utils"
   ]
  },
  {
   "cell_type": "markdown",
   "id": "57d04be3",
   "metadata": {},
   "source": [
    "How to get JSON into a local SQLite database fast."
   ]
  },
  {
   "cell_type": "markdown",
   "id": "b5754e1c",
   "metadata": {},
   "source": [
    "## Background"
   ]
  },
  {
   "cell_type": "markdown",
   "id": "e971c503",
   "metadata": {},
   "source": [
    "Last year I downloaded and read the sqlite-utils docs as an .epub file to read like a book on the Eurostar from Paris to London. It was then that I discovered the amazing command-line side of sqlite-utils. It's powerful and I'm only scratching the surface of what can be done with it."
   ]
  },
  {
   "cell_type": "markdown",
   "id": "36175c99",
   "metadata": {},
   "source": [
    "## Create or Download the JSON"
   ]
  },
  {
   "cell_type": "markdown",
   "id": "d7867662",
   "metadata": {},
   "source": [
    "To start, I had Grok 3 generate a list of Filipino languages in JSON. I saved it as langs.json. I had it include an integer primary key. (I also tried Claude 3.7, Deepseek, Gemini 2.5 Pro, ChatGPT 4.5. Grok 3 gave me the longest list, though quite incorrect.)"
   ]
  },
  {
   "cell_type": "markdown",
   "id": "2efe7bce",
   "metadata": {},
   "source": [
    "## Import With sqlite-utils"
   ]
  },
  {
   "cell_type": "markdown",
   "id": "715f2896",
   "metadata": {},
   "source": [
    "I like to use the sqlite-utils CLI tool as a uvx tool, giving it its own isolated environment. This one-liner turns the JSON into a SQLite database:"
   ]
  },
  {
   "cell_type": "markdown",
   "id": "4138e14f",
   "metadata": {},
   "source": [
    "```sh\n",
    "uvx sqlite-utils insert langs.db langs langs.json --pk=id\n",
    "```"
   ]
  },
  {
   "cell_type": "markdown",
   "id": "6b52c363",
   "metadata": {},
   "source": [
    "* `langs.db` is the database filename\n",
    "* `langs` is the table name I want for the data\n",
    "* `langs.json` is the file containing the data to import, which I created earlier."
   ]
  },
  {
   "cell_type": "markdown",
   "id": "8cdfcfb8",
   "metadata": {},
   "source": [
    "## Check It"
   ]
  },
  {
   "cell_type": "markdown",
   "id": "faf605f2",
   "metadata": {},
   "source": [
    "```sh\n",
    "uvx datasette langs.db\n",
    "```"
   ]
  },
  {
   "cell_type": "markdown",
   "id": "da65434d",
   "metadata": {},
   "source": [
    "Then go to http://127.0.0.1:8001/langs/langs and you should see all the entries in a nicely-browsable table."
   ]
  }
 ],
 "metadata": {
  "kernelspec": {
   "display_name": "Python 3 (ipykernel)",
   "language": "python",
   "name": "python3"
  },
  "language_info": {
   "codemirror_mode": {
    "name": "ipython",
    "version": 3
   },
   "file_extension": ".py",
   "mimetype": "text/x-python",
   "name": "python",
   "nbconvert_exporter": "python",
   "pygments_lexer": "ipython3",
   "version": "3.12.8"
  }
 },
 "nbformat": 4,
 "nbformat_minor": 5
}
