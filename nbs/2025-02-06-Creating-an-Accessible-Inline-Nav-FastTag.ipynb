{
 "cells": [
  {
   "cell_type": "markdown",
   "id": "b8026a7c",
   "metadata": {},
   "source": [
    "# Creating an Accessible Inline Nav FastTag"
   ]
  },
  {
   "cell_type": "markdown",
   "id": "13a2ebbc",
   "metadata": {},
   "source": [
    "I make a lightweight vanilla InlineNav FT with FastHTML, using the HTML nav element and as minimal styling as I can get away with."
   ]
  },
  {
   "cell_type": "markdown",
   "id": "b9faac02",
   "metadata": {},
   "source": [
    "## References"
   ]
  },
  {
   "cell_type": "markdown",
   "id": "2833eddf",
   "metadata": {},
   "source": [
    "* [MDN nav examples](https://developer.mozilla.org/en-US/docs/Web/HTML/Element/nav#examples)\n",
    "* [HTML spec nav element - multipage](https://html.spec.whatwg.org/multipage/sections.html#the-nav-element)\n",
    "* [Should I use `<ul>`s and `<li>`s inside my `<nav>`s?](https://stackoverflow.com/questions/5544885/should-i-use-uls-and-lis-inside-my-navs)"
   ]
  },
  {
   "cell_type": "markdown",
   "id": "16f53e5e",
   "metadata": {},
   "source": [
    "## Setup"
   ]
  },
  {
   "cell_type": "code",
   "execution_count": 26,
   "id": "6ebd0467",
   "metadata": {},
   "outputs": [],
   "source": [
    "from fastcore.utils import *\n",
    "from fasthtml.common import *\n",
    "from fasthtml.jupyter import *"
   ]
  },
  {
   "cell_type": "markdown",
   "id": "f071ebad",
   "metadata": {},
   "source": [
    "## Basic HTML Elements"
   ]
  },
  {
   "cell_type": "markdown",
   "id": "975f01c9",
   "metadata": {},
   "source": [
    "This generates an HTML nav element:"
   ]
  },
  {
   "cell_type": "code",
   "execution_count": 2,
   "id": "b0e16f10",
   "metadata": {},
   "outputs": [
    {
     "data": {
      "text/markdown": [
       "```html\n",
       "<nav></nav>\n",
       "\n",
       "```"
      ],
      "text/plain": [
       "nav((),{})"
      ]
     },
     "execution_count": 2,
     "metadata": {},
     "output_type": "execute_result"
    }
   ],
   "source": [
    "Nav()"
   ]
  },
  {
   "cell_type": "markdown",
   "id": "b36749ea",
   "metadata": {},
   "source": [
    "Within a nav element, screen readers handle lists best. "
   ]
  },
  {
   "cell_type": "code",
   "execution_count": 14,
   "id": "91ba26fd",
   "metadata": {},
   "outputs": [
    {
     "data": {
      "text/markdown": [
       "```html\n",
       "<nav>\n",
       "  <ul>\n",
       "    <li>\n",
       "<a href=\"https://audrey.feldroy.com/\">audrey.feldroy.com</a>    </li>\n",
       "    <li>\n",
       "<a href=\"https://github.com/audreyfeldroy/audrey.feldroy.com\">Source</a>    </li>\n",
       "  </ul>\n",
       "</nav>\n",
       "\n",
       "```"
      ],
      "text/plain": [
       "nav((ul((li((a(('audrey.feldroy.com',),{'href': 'https://audrey.feldroy.com/'}),),{}), li((a(('Source',),{'href': 'https://github.com/audreyfeldroy/audrey.feldroy.com'}),),{})),{}),),{})"
      ]
     },
     "execution_count": 14,
     "metadata": {},
     "output_type": "execute_result"
    }
   ],
   "source": [
    "nv = Nav(\n",
    "    Ul(\n",
    "        Li(A(\"audrey.feldroy.com\", href=\"https://audrey.feldroy.com/\")),\n",
    "        Li(A(\"Source\", href=\"https://github.com/audreyfeldroy/audrey.feldroy.com\"))\n",
    "    ))\n",
    "nv"
   ]
  },
  {
   "cell_type": "code",
   "execution_count": 15,
   "id": "994bf408",
   "metadata": {},
   "outputs": [
    {
     "data": {
      "text/html": [
       "<nav>\n",
       "  <ul>\n",
       "    <li>\n",
       "<a href=\"https://audrey.feldroy.com/\">audrey.feldroy.com</a>    </li>\n",
       "    <li>\n",
       "<a href=\"https://github.com/audreyfeldroy/audrey.feldroy.com\">Source</a>    </li>\n",
       "  </ul>\n",
       "</nav>\n",
       "<script>if (window.htmx) htmx.process(document.body)</script>"
      ],
      "text/plain": [
       "<IPython.core.display.HTML object>"
      ]
     },
     "metadata": {},
     "output_type": "display_data"
    }
   ],
   "source": [
    "show(nv)"
   ]
  },
  {
   "cell_type": "markdown",
   "id": "70198983",
   "metadata": {},
   "source": [
    "## Custom FastTags to Add Minimal CSS Styles"
   ]
  },
  {
   "cell_type": "markdown",
   "id": "ae06198d",
   "metadata": {},
   "source": [
    "I often see Jeremy and Isaac simply overriding the existing FTs. I tried that at first, but it didn't feel right to me. Maybe in the future I'll switch to that pattern. Here I'll name them differently. "
   ]
  },
  {
   "cell_type": "markdown",
   "id": "f69622d6",
   "metadata": {},
   "source": [
    "Mainly I didn't want to have `style=\"display:inline\"` twice."
   ]
  },
  {
   "cell_type": "code",
   "execution_count": 9,
   "id": "f1061ced",
   "metadata": {},
   "outputs": [],
   "source": [
    "def InLi(*c): return Li(*c, style=\"display:inline\")"
   ]
  },
  {
   "cell_type": "markdown",
   "id": "610a7ed3",
   "metadata": {},
   "source": [
    "Then it felt natural to do one for the parent Ul, but not really necessary. Rather, it felt awkward not to give it a partner element."
   ]
  },
  {
   "cell_type": "code",
   "execution_count": 8,
   "id": "ec8ab2b8",
   "metadata": {},
   "outputs": [],
   "source": [
    "def InUl(*c): return Ul(*c, style=\"list-style:none\")"
   ]
  },
  {
   "cell_type": "markdown",
   "id": "7c41182e",
   "metadata": {},
   "source": [
    "But now it feels awkward to not have an inline version of the main nav element. Hmm."
   ]
  },
  {
   "cell_type": "code",
   "execution_count": 10,
   "id": "76e30cdc",
   "metadata": {
    "scrolled": true
   },
   "outputs": [
    {
     "data": {
      "text/html": [
       "<nav>\n",
       "  <ul style=\"list-style:none\">\n",
       "    <li style=\"display:inline\">\n",
       "<a href=\"https://audrey.feldroy.com/\">audrey.feldroy.com</a>    </li>\n",
       "    <li style=\"display:inline\">\n",
       "<a href=\"https://github.com/audreyfeldroy/audrey.feldroy.com\">Source</a>    </li>\n",
       "  </ul>\n",
       "</nav>\n",
       "<script>if (window.htmx) htmx.process(document.body)</script>"
      ],
      "text/plain": [
       "<IPython.core.display.HTML object>"
      ]
     },
     "metadata": {},
     "output_type": "display_data"
    }
   ],
   "source": [
    "nv = Nav(\n",
    "    InUl(\n",
    "        InLi(A(\"audrey.feldroy.com\", href=\"https://audrey.feldroy.com/\")),\n",
    "        InLi(A(\"Source\", href=\"https://github.com/audreyfeldroy/audrey.feldroy.com\"))\n",
    "    )\n",
    ")\n",
    "show(nv)"
   ]
  },
  {
   "cell_type": "markdown",
   "id": "1db5211c",
   "metadata": {},
   "source": [
    "I guess I could do it this way:"
   ]
  },
  {
   "cell_type": "code",
   "execution_count": 19,
   "id": "6e6cdda7",
   "metadata": {
    "scrolled": true
   },
   "outputs": [
    {
     "data": {
      "text/html": [
       "<nav>\n",
       "  <ul style=\"list-style:none\">\n",
       "    <li style=\"display:inline;margin-right:1em\">\n",
       "<a href=\"https://audrey.feldroy.com/\">audrey.feldroy.com</a>    </li>\n",
       "    <li style=\"display:inline;margin-right:1em\">\n",
       "<a href=\"https://github.com/audreyfeldroy/audrey.feldroy.com\">Source</a>    </li>\n",
       "  </ul>\n",
       "</nav>\n",
       "<script>if (window.htmx) htmx.process(document.body)</script>"
      ],
      "text/plain": [
       "<IPython.core.display.HTML object>"
      ]
     },
     "metadata": {},
     "output_type": "display_data"
    }
   ],
   "source": [
    "nv = Nav(\n",
    "    Ul(\n",
    "        InLi(A(\"audrey.feldroy.com\", href=\"https://audrey.feldroy.com/\")),\n",
    "        InLi(A(\"Source\", href=\"https://github.com/audreyfeldroy/audrey.feldroy.com\")),\n",
    "        style=\"list-style:none\"\n",
    "    )\n",
    ")\n",
    "show(nv)"
   ]
  },
  {
   "cell_type": "markdown",
   "id": "26aab50a",
   "metadata": {},
   "source": [
    "Or maybe this way:"
   ]
  },
  {
   "cell_type": "code",
   "execution_count": 23,
   "id": "2409f509",
   "metadata": {
    "scrolled": true
   },
   "outputs": [
    {
     "data": {
      "text/html": [
       "<ul style=\"list-style:none\">\n",
       "  <li style=\"display:inline;margin-right:1em\">\n",
       "<a href=\"https://audrey.feldroy.com/\">audrey.feldroy.com</a>  </li>\n",
       "  <li style=\"display:inline;margin-right:1em\">\n",
       "<a href=\"https://github.com/audreyfeldroy/audrey.feldroy.com\">Source</a>  </li>\n",
       "</ul>\n",
       "<script>if (window.htmx) htmx.process(document.body)</script>"
      ],
      "text/plain": [
       "<IPython.core.display.HTML object>"
      ]
     },
     "metadata": {},
     "output_type": "display_data"
    }
   ],
   "source": [
    "def InlineNav():\n",
    "    return Ul(\n",
    "        InLi(A(\"audrey.feldroy.com\", href=\"https://audrey.feldroy.com/\")),\n",
    "        InLi(A(\"Source\", href=\"https://github.com/audreyfeldroy/audrey.feldroy.com\")),\n",
    "        style=\"list-style:none\"\n",
    "    )\n",
    "nv = InlineNav()\n",
    "show(nv)"
   ]
  },
  {
   "cell_type": "markdown",
   "id": "d8fbe432",
   "metadata": {},
   "source": [
    "Let's refactor to pull out the parts that matter:"
   ]
  },
  {
   "cell_type": "code",
   "execution_count": 57,
   "id": "9371ac22",
   "metadata": {},
   "outputs": [],
   "source": [
    "navlinks = L(\n",
    "    (\"audrey.feldroy.com\", \"https://audrey.feldroy.com/\"),\n",
    "    (\"GitHub repo for this site\", \"https://github.com/audreyfeldroy/audrey.feldroy.com\")\n",
    ")"
   ]
  },
  {
   "cell_type": "code",
   "execution_count": 58,
   "id": "c8187bd6",
   "metadata": {},
   "outputs": [],
   "source": [
    "def InLi(linktuple):\n",
    "    txt, href = linktuple\n",
    "    return Li(A(txt, href=href), style=\"display:inline\")"
   ]
  },
  {
   "cell_type": "code",
   "execution_count": 59,
   "id": "10b2ea81",
   "metadata": {},
   "outputs": [
    {
     "data": {
      "text/plain": [
       "(#2) [li((a(('audrey.feldroy.com',),{'href': 'https://audrey.feldroy.com/'}),),{'style': 'display:inline'}),li((a(('GitHub repo for this site',),{'href': 'https://github.com/audreyfeldroy/audrey.feldroy.com'}),),{'style': 'display:inline'})]"
      ]
     },
     "execution_count": 59,
     "metadata": {},
     "output_type": "execute_result"
    }
   ],
   "source": [
    "navlinks.map(InLi)"
   ]
  },
  {
   "cell_type": "code",
   "execution_count": 60,
   "id": "14603480",
   "metadata": {
    "scrolled": true
   },
   "outputs": [
    {
     "data": {
      "text/html": [
       "<nav>\n",
       "  <ul style=\"list-style:none\">\n",
       "    <li style=\"display:inline\">\n",
       "<a href=\"https://audrey.feldroy.com/\">audrey.feldroy.com</a>    </li>\n",
       "    <li style=\"display:inline\">\n",
       "<a href=\"https://github.com/audreyfeldroy/audrey.feldroy.com\">GitHub repo for this site</a>    </li>\n",
       "  </ul>\n",
       "</nav>\n",
       "<script>if (window.htmx) htmx.process(document.body)</script>"
      ],
      "text/plain": [
       "<IPython.core.display.HTML object>"
      ]
     },
     "metadata": {},
     "output_type": "display_data"
    }
   ],
   "source": [
    "def InlineNav(navlinks):\n",
    "    return Nav(Ul(\n",
    "        *navlinks.map(InLi),\n",
    "        style=\"list-style:none\"\n",
    "    ))\n",
    "nv = InlineNav(navlinks)\n",
    "show(nv)"
   ]
  },
  {
   "cell_type": "markdown",
   "id": "18e17b4a",
   "metadata": {},
   "source": [
    "## Improve Accessibility"
   ]
  },
  {
   "cell_type": "markdown",
   "id": "594d14a0",
   "metadata": {},
   "source": [
    "To follow accessibility best practices, including making this useful to screen readers:"
   ]
  },
  {
   "cell_type": "markdown",
   "id": "d48266d8",
   "metadata": {},
   "source": [
    "1. Descriptive `aria-label` on `Nav`\n",
    "2. Visual space between inline list items\n",
    "3. `role=\"navigation\"` (redundant with `<nav>` but helps old assistive tech)"
   ]
  },
  {
   "cell_type": "code",
   "execution_count": 61,
   "id": "7eebca1a",
   "metadata": {},
   "outputs": [],
   "source": [
    "def InLi(linktuple):\n",
    "    txt, href = linktuple\n",
    "    return Li(A(txt, href=href), style=\"display:inline;margin-right:1em\")"
   ]
  },
  {
   "cell_type": "code",
   "execution_count": 62,
   "id": "b02b3076",
   "metadata": {
    "scrolled": false
   },
   "outputs": [
    {
     "data": {
      "text/html": [
       "<nav aria-label=\"Main navigation\" role=\"navigation\">\n",
       "  <ul style=\"list-style:none;padding-left:0\">\n",
       "    <li style=\"display:inline;margin-right:1em\">\n",
       "<a href=\"https://audrey.feldroy.com/\">audrey.feldroy.com</a>    </li>\n",
       "    <li style=\"display:inline;margin-right:1em\">\n",
       "<a href=\"https://github.com/audreyfeldroy/audrey.feldroy.com\">GitHub repo for this site</a>    </li>\n",
       "  </ul>\n",
       "</nav>\n",
       "<script>if (window.htmx) htmx.process(document.body)</script>"
      ],
      "text/plain": [
       "<IPython.core.display.HTML object>"
      ]
     },
     "metadata": {},
     "output_type": "display_data"
    }
   ],
   "source": [
    "def InlineNav(navlinks):\n",
    "    return Nav(\n",
    "        Ul(\n",
    "            *navlinks.map(InLi),\n",
    "            style=\"list-style:none;padding-left:0\"\n",
    "        ),\n",
    "        aria_label=\"Main navigation\",\n",
    "        role=\"navigation\"\n",
    "    )\n",
    "nv = InlineNav(navlinks)\n",
    "show(nv)"
   ]
  }
 ],
 "metadata": {
  "kernelspec": {
   "display_name": "Python 3 (ipykernel)",
   "language": "python",
   "name": "python3"
  },
  "language_info": {
   "codemirror_mode": {
    "name": "ipython",
    "version": 3
   },
   "file_extension": ".py",
   "mimetype": "text/x-python",
   "name": "python",
   "nbconvert_exporter": "python",
   "pygments_lexer": "ipython3",
   "version": "3.12.8"
  }
 },
 "nbformat": 4,
 "nbformat_minor": 5
}
