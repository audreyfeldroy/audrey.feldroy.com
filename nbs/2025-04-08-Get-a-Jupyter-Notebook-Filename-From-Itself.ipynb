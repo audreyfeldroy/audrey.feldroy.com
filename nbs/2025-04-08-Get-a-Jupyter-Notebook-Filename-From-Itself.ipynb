{
 "cells": [
  {
   "cell_type": "markdown",
   "id": "8e4070eb",
   "metadata": {},
   "source": [
    "# Get a Jupyter Notebook Filename From Itself"
   ]
  },
  {
   "cell_type": "markdown",
   "id": "17d7d59a",
   "metadata": {},
   "source": [
    "When working in notebooks, you'll occasionally need to access the notebook's own filename. Here's code to do it, which I've verified works in Jupyter Notebook Classic."
   ]
  },
  {
   "cell_type": "code",
   "execution_count": 8,
   "id": "6bf08d51",
   "metadata": {},
   "outputs": [],
   "source": [
    "import IPython"
   ]
  },
  {
   "cell_type": "markdown",
   "id": "883417f6",
   "metadata": {},
   "source": [
    "## The Trick: JS to Python Bridge"
   ]
  },
  {
   "cell_type": "markdown",
   "id": "aa52827f",
   "metadata": {},
   "source": [
    "You can't get the notebook's name from Python. But you can get it from JavaScript, and then execute Python code to store it into a Python variable:"
   ]
  },
  {
   "cell_type": "code",
   "execution_count": 2,
   "id": "cda09df8",
   "metadata": {},
   "outputs": [
    {
     "data": {
      "application/javascript": [
       "IPython.notebook.kernel.execute('nbname = \"' + IPython.notebook.notebook_name + '\"')\n"
      ],
      "text/plain": [
       "<IPython.core.display.Javascript object>"
      ]
     },
     "metadata": {},
     "output_type": "display_data"
    }
   ],
   "source": [
    "%%javascript\n",
    "IPython.notebook.kernel.execute('nbname = \"' + IPython.notebook.notebook_name + '\"')"
   ]
  },
  {
   "cell_type": "markdown",
   "id": "8f244906",
   "metadata": {},
   "source": [
    "`IPython.notebook.kernel.execute()` is a JS method that tells the Jupyter kernel to execute a string of Python."
   ]
  },
  {
   "cell_type": "markdown",
   "id": "1d5f23dc",
   "metadata": {},
   "source": [
    "## Verify It Worked"
   ]
  },
  {
   "cell_type": "markdown",
   "id": "8bc3f267",
   "metadata": {},
   "source": [
    "Let's print the Python variable we set via JS:"
   ]
  },
  {
   "cell_type": "code",
   "execution_count": 3,
   "id": "d008048a",
   "metadata": {},
   "outputs": [
    {
     "data": {
      "text/plain": [
       "'2025-04-08-Get-a-Jupyter-Notebook-Filename-From-Itself.ipynb'"
      ]
     },
     "execution_count": 3,
     "metadata": {},
     "output_type": "execute_result"
    }
   ],
   "source": [
    "nbname"
   ]
  }
 ],
 "metadata": {
  "kernelspec": {
   "display_name": "Python 3 (ipykernel)",
   "language": "python",
   "name": "python3"
  },
  "language_info": {
   "codemirror_mode": {
    "name": "ipython",
    "version": 3
   },
   "file_extension": ".py",
   "mimetype": "text/x-python",
   "name": "python",
   "nbconvert_exporter": "python",
   "pygments_lexer": "ipython3",
   "version": "3.12.8"
  }
 },
 "nbformat": 4,
 "nbformat_minor": 5
}
