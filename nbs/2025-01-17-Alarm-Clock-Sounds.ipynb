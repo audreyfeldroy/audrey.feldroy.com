{
 "cells": [
  {
   "cell_type": "markdown",
   "id": "6274a219",
   "metadata": {},
   "source": [
    "# Alarm Clock Sounds"
   ]
  },
  {
   "cell_type": "markdown",
   "id": "d25a2fbc",
   "metadata": {},
   "source": [
    "FastHTML MonsterUI example app that uses Tone.js to make different alarm clock sounds."
   ]
  },
  {
   "cell_type": "markdown",
   "id": "cbaff4d3",
   "metadata": {},
   "source": [
    "The backstory: I've been adjusting my sleep schedule to match up better with my coworkers. This afternoon I found myself quite sleepy at the wrong time. I made this as a little utility for myself."
   ]
  },
  {
   "cell_type": "markdown",
   "id": "a5733443",
   "metadata": {},
   "source": [
    "## Setup"
   ]
  },
  {
   "cell_type": "code",
   "execution_count": 6,
   "id": "3a8c86f2",
   "metadata": {},
   "outputs": [],
   "source": [
    "from fasthtml.common import *\n",
    "from fasthtml.jupyter import *\n",
    "from monsterui.all import *"
   ]
  },
  {
   "cell_type": "code",
   "execution_count": 7,
   "id": "f0409f59",
   "metadata": {},
   "outputs": [],
   "source": [
    "app,rt = fast_app(hdrs=(Theme.blue.headers(),Script(src=\"https://unpkg.com/tone\")))"
   ]
  },
  {
   "cell_type": "code",
   "execution_count": 8,
   "id": "35a79dca",
   "metadata": {
    "scrolled": false
   },
   "outputs": [
    {
     "data": {
      "text/html": [
       "\n",
       "<script>\n",
       "document.body.addEventListener('htmx:configRequest', (event) => {\n",
       "    if(event.detail.path.includes('://')) return;\n",
       "    htmx.config.selfRequestsOnly=false;\n",
       "    event.detail.path = `${location.protocol}//${location.hostname}:8000${event.detail.path}`;\n",
       "});\n",
       "</script>"
      ],
      "text/plain": [
       "<IPython.core.display.HTML object>"
      ]
     },
     "metadata": {},
     "output_type": "display_data"
    }
   ],
   "source": [
    "server = JupyUvi(app)"
   ]
  },
  {
   "cell_type": "markdown",
   "id": "5e6d2627",
   "metadata": {},
   "source": [
    "## Sounds JS"
   ]
  },
  {
   "cell_type": "markdown",
   "id": "393de4aa",
   "metadata": {},
   "source": [
    "Note: I may break this up, putting the code for each function into its corresponding FT. I feel like that would be a little cleaner."
   ]
  },
  {
   "cell_type": "code",
   "execution_count": 9,
   "id": "b112b9e4",
   "metadata": {},
   "outputs": [],
   "source": [
    "sounds_js = \"\"\"const synth = new Tone.PolySynth().toDestination();\n",
    "const pingPong = new Tone.PingPongDelay(\"4n\", 0.2).toDestination();\n",
    "synth.connect(pingPong);\n",
    "\n",
    "let currentInterval;\n",
    "\n",
    "// Classic alarm sound (repeating high-pitched beeps)\n",
    "function playClassicAlarm() {\n",
    "    stopCurrentSound();\n",
    "    currentInterval = setInterval(() => {\n",
    "        synth.triggerAttackRelease(\"C5\", \"16n\");\n",
    "        setTimeout(() => {\n",
    "            synth.triggerAttackRelease(\"G4\", \"16n\");\n",
    "        }, 200);\n",
    "    }, 400);\n",
    "}\n",
    "\n",
    "// Digital alarm sound (ascending beeps)\n",
    "function playDigitalAlarm() {\n",
    "    stopCurrentSound();\n",
    "    const notes = [\"C4\", \"E4\", \"G4\", \"C5\"];\n",
    "    let index = 0;\n",
    "    currentInterval = setInterval(() => {\n",
    "        synth.triggerAttackRelease(notes[index % notes.length], \"8n\");\n",
    "        index++;\n",
    "    }, 200);\n",
    "}\n",
    "\n",
    "// Gentle wake sound (soft pulsing chord)\n",
    "function playGentleAlarm() {\n",
    "    stopCurrentSound();\n",
    "    const chord = [\"C4\", \"E4\", \"G4\"];\n",
    "    currentInterval = setInterval(() => {\n",
    "        synth.volume.value = -10;\n",
    "        synth.triggerAttackRelease(chord, \"2n\");\n",
    "    }, 2000);\n",
    "}\n",
    "\n",
    "// Stop all sounds\n",
    "function stopCurrentSound() {\n",
    "    if (currentInterval) {\n",
    "        clearInterval(currentInterval);\n",
    "        currentInterval = null;\n",
    "    }\n",
    "    synth.volume.value = 0;\n",
    "}\"\"\""
   ]
  },
  {
   "cell_type": "code",
   "execution_count": 10,
   "id": "da0fbbe3",
   "metadata": {},
   "outputs": [],
   "source": [
    "alarms = (\n",
    "    ('Classic', 'Repeating high-pitched beeps', 'playClassicAlarm'),\n",
    "    ('Digital Beep', 'Ascending beeps', 'playDigitalAlarm'),\n",
    "    ('Gentle Wake', 'Soft pulsing chord', 'playGentleAlarm')\n",
    ")"
   ]
  },
  {
   "cell_type": "markdown",
   "id": "1aee6351",
   "metadata": {},
   "source": [
    "## SoundBar Page"
   ]
  },
  {
   "cell_type": "code",
   "execution_count": 12,
   "id": "6e29f690",
   "metadata": {},
   "outputs": [],
   "source": [
    "def SoundBar():\n",
    "    mbrs1 = [Li('Classic', onmousedown=\"playClassicAlarm()\"), Li('Digital Beep', onmousedown=\"playDigitalAlarm()\"), Li('Gentle Wake', onmousedown=\"playGentleAlarm()\"), Li('Stop', onmousedown=\"stopCurrentSound()\")]\n",
    "    return NavContainer(*mbrs1)"
   ]
  },
  {
   "cell_type": "code",
   "execution_count": 13,
   "id": "668e501a",
   "metadata": {},
   "outputs": [
    {
     "data": {
      "text/markdown": [
       "```html\n",
       "<ul class=\"uk-nav uk-nav-primary\">\n",
       "  <li onmousedown=\"playClassicAlarm()\">Classic</li>\n",
       "  <li onmousedown=\"playDigitalAlarm()\">Digital Beep</li>\n",
       "  <li onmousedown=\"playGentleAlarm()\">Gentle Wake</li>\n",
       "  <li onmousedown=\"stopCurrentSound()\">Stop</li>\n",
       "</ul>\n",
       "\n",
       "```"
      ],
      "text/plain": [
       "ul((li(('Classic',),{'onmousedown': 'playClassicAlarm()'}), li(('Digital Beep',),{'onmousedown': 'playDigitalAlarm()'}), li(('Gentle Wake',),{'onmousedown': 'playGentleAlarm()'}), li(('Stop',),{'onmousedown': 'stopCurrentSound()'})),{'uk-nav': False, 'class': 'uk-nav uk-nav-primary'})"
      ]
     },
     "execution_count": 13,
     "metadata": {},
     "output_type": "execute_result"
    }
   ],
   "source": [
    "SoundBar()"
   ]
  },
  {
   "cell_type": "code",
   "execution_count": 14,
   "id": "4cc62973",
   "metadata": {},
   "outputs": [],
   "source": [
    "@rt\n",
    "def index():\n",
    "    return Titled(\"Alarm Clock Sounds\", SoundBar(), Script(sounds_js))"
   ]
  },
  {
   "cell_type": "markdown",
   "id": "983f41ab",
   "metadata": {},
   "source": [
    "Click on the first 3 to play their sounds, and \"Stop\" to stop:"
   ]
  },
  {
   "cell_type": "code",
   "execution_count": 1,
   "id": "7be0ea27",
   "metadata": {
    "scrolled": true
   },
   "outputs": [],
   "source": [
    "# HTMX(index)"
   ]
  },
  {
   "cell_type": "markdown",
   "id": "1350c1fc",
   "metadata": {},
   "source": [
    "At this point I have clickable `Li` elements with `onmousedown` handlers. I could call this done if my goal is just to play different alarm clock sounds."
   ]
  },
  {
   "cell_type": "markdown",
   "id": "1a417862",
   "metadata": {},
   "source": [
    "## Better Alarm Display"
   ]
  },
  {
   "cell_type": "markdown",
   "id": "40a27929",
   "metadata": {},
   "source": [
    "Let's take it up a level with UI improvements with MonsterUI."
   ]
  },
  {
   "cell_type": "code",
   "execution_count": 16,
   "id": "129da971",
   "metadata": {},
   "outputs": [
    {
     "data": {
      "text/plain": [
       "('Classic', 'Repeating high-pitched beeps', 'playClassicAlarm')"
      ]
     },
     "execution_count": 16,
     "metadata": {},
     "output_type": "execute_result"
    }
   ],
   "source": [
    "alarms[0]"
   ]
  },
  {
   "cell_type": "code",
   "execution_count": 17,
   "id": "6a93e029",
   "metadata": {},
   "outputs": [],
   "source": [
    "Card?"
   ]
  },
  {
   "cell_type": "code",
   "execution_count": 18,
   "id": "bd4e0899",
   "metadata": {},
   "outputs": [
    {
     "data": {
      "text/markdown": [
       "```html\n",
       "<div onmousedown=\"playClassicAlarm()\" class=\"uk-card \">\n",
       "  <div class=\"uk-card-header \">\n",
       "    <h2 class=\"uk-h2 \">Classic</h2>\n",
       "  </div>\n",
       "  <div class=\"uk-card-body space-y-6\">\n",
       "<img>Repeating high-pitched beeps  </div>\n",
       "</div>\n",
       "\n",
       "```"
      ],
      "text/plain": [
       "div((div((h2(('Classic',),{'class': 'uk-h2 '}),),{'class': 'uk-card-header '}), div((img(('Repeating high-pitched beeps',),{}),),{'class': 'uk-card-body space-y-6'})),{'onmousedown': 'playClassicAlarm()', 'class': 'uk-card '})"
      ]
     },
     "execution_count": 18,
     "metadata": {},
     "output_type": "execute_result"
    }
   ],
   "source": [
    "c = Card((Img(alarms[0][1])), header=H2(alarms[0][0]), onmousedown=f\"{alarms[0][2]}()\")\n",
    "c"
   ]
  },
  {
   "cell_type": "code",
   "execution_count": 19,
   "id": "ce9cf1d4",
   "metadata": {
    "scrolled": true
   },
   "outputs": [
    {
     "data": {
      "text/html": [
       "<div onmousedown=\"playClassicAlarm()\" class=\"uk-card \">\n",
       "  <div class=\"uk-card-header \">\n",
       "    <h2 class=\"uk-h2 \">Classic</h2>\n",
       "  </div>\n",
       "  <div class=\"uk-card-body space-y-6\">\n",
       "<img>Repeating high-pitched beeps  </div>\n",
       "</div>\n",
       "<script>if (window.htmx) htmx.process(document.body)</script>"
      ],
      "text/plain": [
       "<IPython.core.display.HTML object>"
      ]
     },
     "metadata": {},
     "output_type": "display_data"
    }
   ],
   "source": [
    "show(c)"
   ]
  },
  {
   "cell_type": "markdown",
   "id": "52c65e6b",
   "metadata": {},
   "source": [
    "Note: It would be nice if the card looked like a MonsterUI card here, so I could build them up cell by cell. Instead let's look at it by redefining the index handler."
   ]
  },
  {
   "cell_type": "code",
   "execution_count": 20,
   "id": "ecd8c735",
   "metadata": {},
   "outputs": [],
   "source": [
    "@rt\n",
    "def index():\n",
    "    return Titled(\"Alarm Clock Sounds\", c, Script(sounds_js))"
   ]
  },
  {
   "cell_type": "markdown",
   "id": "ef0dc78f",
   "metadata": {},
   "source": [
    "It works when I click on it on the index page. In the notebook it doesn't. Maybe I will break up the JS to fix that. Maybe."
   ]
  },
  {
   "cell_type": "markdown",
   "id": "cdb8ae08",
   "metadata": {},
   "source": [
    "But first let's show all the cards."
   ]
  },
  {
   "cell_type": "code",
   "execution_count": 21,
   "id": "6be8e55c",
   "metadata": {},
   "outputs": [
    {
     "data": {
      "text/html": [
       "<div onmousedown=\"playGentleAlarm()\" class=\"uk-card \">\n",
       "  <div class=\"uk-card-header \">\n",
       "    <h2 class=\"uk-h2 \">Gentle Wake</h2>\n",
       "  </div>\n",
       "  <div class=\"uk-card-body space-y-6\">\n",
       "<img>Soft pulsing chord  </div>\n",
       "</div>\n",
       "<script>if (window.htmx) htmx.process(document.body)</script>"
      ],
      "text/plain": [
       "<IPython.core.display.HTML object>"
      ]
     },
     "metadata": {},
     "output_type": "display_data"
    }
   ],
   "source": [
    "def AlarmCard(alarm): return Card((Img(alarm[1])), header=H2(alarm[0]), onmousedown=f\"{alarm[2]}()\")\n",
    "show(AlarmCard(alarms[2]))"
   ]
  },
  {
   "cell_type": "code",
   "execution_count": 22,
   "id": "2d7ac2d6",
   "metadata": {},
   "outputs": [],
   "source": [
    "@rt\n",
    "def index():\n",
    "    return Titled(\"Alarm Clock Sounds\", \n",
    "        *[AlarmCard(a) for a in alarms], Script(sounds_js))"
   ]
  },
  {
   "cell_type": "code",
   "execution_count": 3,
   "id": "5af39882",
   "metadata": {
    "scrolled": true
   },
   "outputs": [],
   "source": [
    "# HTMX(index)"
   ]
  },
  {
   "cell_type": "code",
   "execution_count": 32,
   "id": "8f7281fa",
   "metadata": {},
   "outputs": [],
   "source": [
    "@rt\n",
    "def index():\n",
    "    return Titled(\"Alarm Clock Sounds\", \n",
    "        *[AlarmCard(a) for a in alarms], \n",
    "        Card(\"Stop the current alarm\", header=H2(\"STOP\"), onmousedown=\"stopCurrentSound()\"),\n",
    "        Script(sounds_js))"
   ]
  },
  {
   "cell_type": "code",
   "execution_count": 4,
   "id": "6ee0fb75",
   "metadata": {
    "scrolled": true
   },
   "outputs": [],
   "source": [
    "# HTMX(index)"
   ]
  },
  {
   "cell_type": "code",
   "execution_count": 35,
   "id": "c7dba1a6",
   "metadata": {},
   "outputs": [],
   "source": [
    "@rt\n",
    "def index():\n",
    "    return Titled(\"Alarm Clock Sounds\", \n",
    "        DivFullySpaced(\n",
    "            *[AlarmCard(a) for a in alarms], \n",
    "            Card(\"Stop the current alarm\", header=H2(\"STOP\"), onmousedown=\"stopCurrentSound()\"),\n",
    "        ),\n",
    "        Script(sounds_js))"
   ]
  },
  {
   "cell_type": "code",
   "execution_count": 5,
   "id": "ff1c196c",
   "metadata": {
    "scrolled": true
   },
   "outputs": [],
   "source": [
    "# HTMX(index)"
   ]
  },
  {
   "cell_type": "code",
   "execution_count": 37,
   "id": "2e8ee67a",
   "metadata": {},
   "outputs": [],
   "source": [
    "@rt\n",
    "def index():\n",
    "    return Titled(\"Alarm Clock Sounds\", \n",
    "        DivFullySpaced(\n",
    "            Div(\n",
    "                *[AlarmCard(a) for a in alarms], \n",
    "            ),\n",
    "            Card(\"Stop the current alarm\", header=H2(\"STOP\"), onmousedown=\"stopCurrentSound()\"),\n",
    "        ),\n",
    "        Script(sounds_js))"
   ]
  },
  {
   "cell_type": "code",
   "execution_count": 2,
   "id": "9bc59ea5",
   "metadata": {
    "scrolled": true
   },
   "outputs": [],
   "source": [
    "# HTMX(index)"
   ]
  },
  {
   "cell_type": "markdown",
   "id": "911c68c1",
   "metadata": {},
   "source": [
    "## Stop the Server"
   ]
  },
  {
   "cell_type": "code",
   "execution_count": null,
   "id": "158b779a",
   "metadata": {},
   "outputs": [],
   "source": [
    "server.stop()"
   ]
  },
  {
   "cell_type": "code",
   "execution_count": null,
   "id": "b5c53f04",
   "metadata": {},
   "outputs": [],
   "source": []
  }
 ],
 "metadata": {
  "kernelspec": {
   "display_name": "Python 3 (ipykernel)",
   "language": "python",
   "name": "python3"
  },
  "language_info": {
   "codemirror_mode": {
    "name": "ipython",
    "version": 3
   },
   "file_extension": ".py",
   "mimetype": "text/x-python",
   "name": "python",
   "nbconvert_exporter": "python",
   "pygments_lexer": "ipython3",
   "version": "3.12.8"
  }
 },
 "nbformat": 4,
 "nbformat_minor": 5
}
