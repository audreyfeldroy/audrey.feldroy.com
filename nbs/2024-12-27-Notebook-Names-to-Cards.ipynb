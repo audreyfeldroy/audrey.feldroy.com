{
 "cells": [
  {
   "cell_type": "markdown",
   "id": "0",
   "metadata": {},
   "source": [
    "# Transforming Notebook Names to Cards"
   ]
  },
  {
   "cell_type": "markdown",
   "id": "1",
   "metadata": {},
   "source": [
    "I have Jupyter notebooks in `nbs/`. I want to turn them into cards from the filenames, without having to read the file contents."
   ]
  },
  {
   "cell_type": "markdown",
   "id": "2",
   "metadata": {},
   "source": [
    "I'm on a train without wifi, so I'll make simple cards for now and maybe later convert them to MonsterUI."
   ]
  },
  {
   "cell_type": "code",
   "execution_count": null,
   "id": "3",
   "metadata": {},
   "outputs": [],
   "source": [
    "from fasthtml.common import *\n",
    "from IPython.display import display, HTML\n",
    "from pathlib import Path\n",
    "import regex"
   ]
  },
  {
   "cell_type": "code",
   "execution_count": null,
   "id": "4",
   "metadata": {},
   "outputs": [],
   "source": [
    "nb_dir = Path('.')\n",
    "nbs = L(sorted(nb_dir.glob('*.ipynb'), reverse=True)).map(str)\n",
    "nbs"
   ]
  },
  {
   "cell_type": "code",
   "execution_count": null,
   "id": "5",
   "metadata": {},
   "outputs": [],
   "source": [
    "nbs[0]"
   ]
  },
  {
   "cell_type": "code",
   "execution_count": null,
   "id": "6",
   "metadata": {},
   "outputs": [],
   "source": [
    "x = nbs[0]\n",
    "x"
   ]
  },
  {
   "cell_type": "code",
   "execution_count": null,
   "id": "7",
   "metadata": {},
   "outputs": [],
   "source": [
    "L(regex.findall(r\"\\d+\", x))"
   ]
  },
  {
   "cell_type": "code",
   "execution_count": null,
   "id": "8",
   "metadata": {},
   "outputs": [],
   "source": [
    "def get_date_from_fname(fname):\n",
    "    year, month, day = L(regex.findall(r\"\\d+\", fname))[0:3]\n",
    "    return f\"{year}-{month}-{day}\""
   ]
  },
  {
   "cell_type": "code",
   "execution_count": null,
   "id": "9",
   "metadata": {},
   "outputs": [],
   "source": [
    "get_date_from_fname(x)"
   ]
  },
  {
   "cell_type": "code",
   "execution_count": null,
   "id": "10",
   "metadata": {},
   "outputs": [],
   "source": [
    "get_date_from_fname('2024-12-23-Exploring-execnb-and-nb2fasthtml.ipynb')"
   ]
  },
  {
   "cell_type": "code",
   "execution_count": null,
   "id": "11",
   "metadata": {},
   "outputs": [],
   "source": [
    "L(regex.finditer(r\"\\d+\", x))"
   ]
  },
  {
   "cell_type": "code",
   "execution_count": null,
   "id": "12",
   "metadata": {},
   "outputs": [],
   "source": [
    "x[11:][:-6].replace('-', ' ')"
   ]
  },
  {
   "cell_type": "code",
   "execution_count": null,
   "id": "13",
   "metadata": {},
   "outputs": [],
   "source": [
    "def get_title_from_fname(fname): return fname[11:][:-6].replace('-', ' ').replace('_', ' ')"
   ]
  },
  {
   "cell_type": "code",
   "execution_count": null,
   "id": "14",
   "metadata": {},
   "outputs": [],
   "source": [
    "[get_title_from_fname(x) for x in nbs]"
   ]
  },
  {
   "cell_type": "code",
   "execution_count": null,
   "id": "15",
   "metadata": {},
   "outputs": [],
   "source": [
    "L(nbs).map(get_title_from_fname)"
   ]
  },
  {
   "cell_type": "code",
   "execution_count": null,
   "id": "16",
   "metadata": {},
   "outputs": [],
   "source": [
    "date = get_date_from_fname(x)\n",
    "title = get_title_from_fname(x)\n",
    "a = Div(Header(H2(title)),I(date),style=\"border:1px lightgray solid;padding:10px;\")\n",
    "a"
   ]
  },
  {
   "cell_type": "code",
   "execution_count": null,
   "id": "17",
   "metadata": {},
   "outputs": [],
   "source": [
    "HTML(to_xml(a))"
   ]
  },
  {
   "cell_type": "markdown",
   "id": "18",
   "metadata": {},
   "source": [
    "I have wifi now! Monster UI cards use FrankenUI Card CSS, which is defined in https://github.com/franken-ui/ui/blob/master/src/lib/shadcn-ui/components/card.ts which apply Tailwind classes like [pt-0](https://tailwindcss.com/docs/padding). It's a bit involved to set up that whole build pipeline to extract and modify card styles, and I have to get off this train in 2 stops, so for now I'll continue with the simple CSS one-liner."
   ]
  },
  {
   "cell_type": "code",
   "execution_count": null,
   "id": "19",
   "metadata": {},
   "outputs": [],
   "source": [
    "def Card(fname):\n",
    "    date = get_date_from_fname(fname)\n",
    "    title = get_title_from_fname(fname)\n",
    "    c = Div(Header(H2(title)),I(date),style=\"border:1px lightgray solid;padding:10px;display:grid;grid-template-rows: max-content 30px 1fr;\")\n",
    "    return c\n",
    "HTML(to_xml(Card(x)))"
   ]
  },
  {
   "cell_type": "code",
   "execution_count": null,
   "id": "20",
   "metadata": {},
   "outputs": [],
   "source": [
    "HTML(to_xml(Div(*L(nbs).map(Card), style=\"margin:1em auto;display:grid;grid-template-columns:repeat(auto-fill, minmax(180px,1fr));grid-gap:20px;\")))"
   ]
  },
  {
   "cell_type": "markdown",
   "id": "21",
   "metadata": {},
   "source": [
    "I asked AI: How to make the cards look better?"
   ]
  },
  {
   "cell_type": "code",
   "execution_count": null,
   "id": "22",
   "metadata": {},
   "outputs": [],
   "source": [
    "def Card(fname):\n",
    "    date = get_date_from_fname(fname)\n",
    "    title = get_title_from_fname(fname)\n",
    "    style = \"\"\"\n",
    "        border: 1px solid #e2e8f0;\n",
    "        padding: 1.25rem;\n",
    "        border-radius: 0.5rem;\n",
    "        background: white;\n",
    "        box-shadow: 0 1px 3px rgba(0,0,0,0.12);\n",
    "        transition: transform 0.2s ease;\n",
    "        cursor: pointer;\n",
    "    \"\"\"\n",
    "    header_style = \"margin-bottom: 0.5rem; font-weight: 600;\"\n",
    "    date_style = \"color: #666; font-size: 0.875rem;\"\n",
    "    \n",
    "    c = Div(\n",
    "        Header(H2(title, style=header_style)),\n",
    "        I(date, style=date_style),\n",
    "        style=style,\n",
    "        onmouseover=\"this.style.transform='translateY(-2px)';this.style.boxShadow='0 4px 6px rgba(0,0,0,0.1)'\",\n",
    "        onmouseout=\"this.style.transform='none';this.style.boxShadow='0 1px 3px rgba(0,0,0,0.12)'\"\n",
    "    )\n",
    "    return c"
   ]
  },
  {
   "cell_type": "code",
   "execution_count": null,
   "id": "23",
   "metadata": {},
   "outputs": [],
   "source": [
    "# Container style with some padding and max-width\n",
    "container_style = \"\"\"\n",
    "    margin: 2em auto;\n",
    "    display: grid;\n",
    "    grid-template-columns: repeat(auto-fill, minmax(220px,1fr));\n",
    "    grid-gap: 1.5rem;\n",
    "    padding: 1rem;\n",
    "    max-width: 1200px;\n",
    "\"\"\"\n",
    "\n",
    "HTML(to_xml(Div(*L(nbs).map(Card), style=container_style)))"
   ]
  },
  {
   "cell_type": "markdown",
   "id": "24",
   "metadata": {},
   "source": [
    "This adds:\n",
    "- Softer borders and subtle shadow\n",
    "- Hover effect with lift animation\n",
    "- Better spacing and typography\n",
    "- Rounded corners\n",
    "- Wider cards and more gap between them\n",
    "- Container max-width and padding\n",
    "- Pointer cursor to indicate clickable"
   ]
  }
 ],
 "metadata": {
  "kernelspec": {
   "display_name": "Python 3 (ipykernel)",
   "language": "python",
   "name": "python3"
  },
  "language_info": {
   "codemirror_mode": {
    "name": "ipython",
    "version": 3
   },
   "file_extension": ".py",
   "mimetype": "text/x-python",
   "name": "python",
   "nbconvert_exporter": "python",
   "pygments_lexer": "ipython3",
   "version": "3.12.7"
  },
  "toc": {
   "base_numbering": 1,
   "nav_menu": {},
   "number_sections": true,
   "sideBar": true,
   "skip_h1_title": false,
   "title_cell": "Table of Contents",
   "title_sidebar": "Contents",
   "toc_cell": false,
   "toc_position": {},
   "toc_section_display": true,
   "toc_window_display": false
  }
 },
 "nbformat": 4,
 "nbformat_minor": 5
}
