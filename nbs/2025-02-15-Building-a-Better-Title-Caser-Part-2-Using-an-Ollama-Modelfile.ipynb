{
 "cells": [
  {
   "cell_type": "markdown",
   "id": "a4476f59",
   "metadata": {},
   "source": [
    "# Building a Better Title-Caser, Part 2: Using an Ollama Modelfile"
   ]
  },
  {
   "cell_type": "markdown",
   "id": "b6cfdbf0",
   "metadata": {},
   "source": [
    "Here I create a local titlecase model based on Mistral, using a local Ollama modelfile and a solid prompt."
   ]
  },
  {
   "cell_type": "markdown",
   "id": "e5f0597b",
   "metadata": {},
   "source": [
    "## Setup"
   ]
  },
  {
   "cell_type": "code",
   "execution_count": 1,
   "id": "bdf98b1e",
   "metadata": {},
   "outputs": [],
   "source": [
    "import google.generativeai as genai\n",
    "import ollama\n",
    "from titlecase import titlecase"
   ]
  },
  {
   "cell_type": "markdown",
   "id": "b154a0ad",
   "metadata": {},
   "source": [
    "## Create an Mistral-Based Model With an Ollama Modelfile"
   ]
  },
  {
   "cell_type": "markdown",
   "id": "260a738a",
   "metadata": {},
   "source": [
    "For better title casing, perhaps I can create an Ollama modelfile starting with a good model like mistral. I put this into `tc.modelfile`:"
   ]
  },
  {
   "cell_type": "markdown",
   "id": "c66e7bbc",
   "metadata": {},
   "source": [
    "```\n",
    "FROM mistral\n",
    "PARAMETER temperature 0.1\n",
    "PARAMETER num_ctx 512\n",
    "\n",
    "# System prompt to specialize the model\n",
    "SYSTEM \"\"\"You are a title case expert. You follow these rules:\n",
    "- Capitalize brand names correctly (e.g. iPhone, iPad)\n",
    "- Keep acronyms in all caps (e.g. PDF, HTML)\n",
    "- Hyphenated words have first letter of each word capitalized (e.g. E-Mail)\n",
    "- Don't capitalize articles/conjunctions unless first word\n",
    "Return only the properly title-cased text with no explanation.\"\"\"\n",
    "```"
   ]
  },
  {
   "cell_type": "markdown",
   "id": "7ea8aa90",
   "metadata": {},
   "source": [
    "I created and used this model with:"
   ]
  },
  {
   "cell_type": "markdown",
   "id": "ef53cf00",
   "metadata": {},
   "source": [
    "```sh\n",
    "ollama create titlecase -f tc.modelfile\n",
    "```"
   ]
  },
  {
   "cell_type": "markdown",
   "id": "59ea3276",
   "metadata": {},
   "source": [
    "I can see my new model with:"
   ]
  },
  {
   "cell_type": "markdown",
   "id": "5884fe1c",
   "metadata": {},
   "source": [
    "```sh\n",
    "(uv) ~ % ollama list\n",
    "NAME                  ID              SIZE      MODIFIED\n",
    "titlecase:latest      255c41b01169    4.1 GB    14 minutes ago\n",
    "```"
   ]
  },
  {
   "cell_type": "markdown",
   "id": "85afc93b",
   "metadata": {},
   "source": [
    "I then defined a titlecase function with it:"
   ]
  },
  {
   "cell_type": "code",
   "execution_count": 2,
   "id": "1c40180e",
   "metadata": {},
   "outputs": [],
   "source": [
    "def tc(s):\n",
    "    return ollama.chat(model='titlecase', messages=[{\n",
    "        'role': 'user',\n",
    "        'content': f\"Convert to title case: {s}\"\n",
    "    }])['message']['content'].strip()"
   ]
  },
  {
   "cell_type": "code",
   "execution_count": 4,
   "id": "7656b7f2",
   "metadata": {},
   "outputs": [
    {
     "name": "stderr",
     "output_type": "stream",
     "text": [
      "[2025-02-16 09:25:08 - httpx:1025 - INFO] HTTP Request: POST http://127.0.0.1:11434/api/chat \"HTTP/1.1 200 OK\"\n"
     ]
    },
    {
     "data": {
      "text/plain": [
       "'iPhone and E-Mail Tips for PDFs'"
      ]
     },
     "execution_count": 4,
     "metadata": {},
     "output_type": "execute_result"
    }
   ],
   "source": [
    "tc(\"iphone and e-mail tips for pdfs\")"
   ]
  },
  {
   "cell_type": "code",
   "execution_count": 5,
   "id": "6621ee13",
   "metadata": {},
   "outputs": [
    {
     "name": "stderr",
     "output_type": "stream",
     "text": [
      "[2025-02-16 09:25:19 - httpx:1025 - INFO] HTTP Request: POST http://127.0.0.1:11434/api/chat \"HTTP/1.1 200 OK\"\n"
     ]
    },
    {
     "data": {
      "text/plain": [
       "'iPhone and Email Tips for PDFs'"
      ]
     },
     "execution_count": 5,
     "metadata": {},
     "output_type": "execute_result"
    }
   ],
   "source": [
    "tc(\"iphone and email tips for pdfs\")"
   ]
  },
  {
   "cell_type": "markdown",
   "id": "d71f648d",
   "metadata": {},
   "source": [
    "The results are great. Of course this is just one test case. "
   ]
  },
  {
   "cell_type": "markdown",
   "id": "410132b0",
   "metadata": {},
   "source": [
    "## Future Topics\n",
    "\n",
    "* Compare the different title case functions more, using other test cases. \n",
    "* See if I can get great performance out of another more lightweight local model. "
   ]
  }
 ],
 "metadata": {
  "kernelspec": {
   "display_name": "Python 3 (ipykernel)",
   "language": "python",
   "name": "python3"
  },
  "language_info": {
   "codemirror_mode": {
    "name": "ipython",
    "version": 3
   },
   "file_extension": ".py",
   "mimetype": "text/x-python",
   "name": "python",
   "nbconvert_exporter": "python",
   "pygments_lexer": "ipython3",
   "version": "3.12.8"
  }
 },
 "nbformat": 4,
 "nbformat_minor": 5
}
