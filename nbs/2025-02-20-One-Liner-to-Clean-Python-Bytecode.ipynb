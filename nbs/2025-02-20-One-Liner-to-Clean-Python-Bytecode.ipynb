{
 "cells": [
  {
   "cell_type": "markdown",
   "id": "c6b8367f",
   "metadata": {},
   "source": [
    "# One-Liner to Clean Python Bytecode"
   ]
  },
  {
   "cell_type": "markdown",
   "id": "ca61e7e6",
   "metadata": {},
   "source": [
    "How to remove stale .pyc files and __pycache__ directories, using uvx + pyclean."
   ]
  },
  {
   "cell_type": "markdown",
   "id": "62626051",
   "metadata": {},
   "source": [
    "## Overview"
   ]
  },
  {
   "cell_type": "markdown",
   "id": "75ec8eef",
   "metadata": {},
   "source": [
    "I like to use the [PyClean](https://github.com/bittner/pyclean) tool by [Peter Bittner](https://peter.bittner.it/) like this:"
   ]
  },
  {
   "cell_type": "markdown",
   "id": "5970a51f",
   "metadata": {},
   "source": [
    "```sh\n",
    "uvx pyclean .\n",
    "```"
   ]
  },
  {
   "cell_type": "markdown",
   "id": "ae7a36e3",
   "metadata": {},
   "source": [
    "This one-liner:\n",
    "\n",
    "1. Creates an ephemeral virtualenv with `uvx`\n",
    "2. Installs pyclean from PyPI into it\n",
    "3. Runs it to remove all Python bytecode files from the current dir, recursively\n",
    "4. Auto-deletes the venv, including pyclean"
   ]
  },
  {
   "cell_type": "markdown",
   "id": "30feea75",
   "metadata": {},
   "source": [
    "## Example"
   ]
  },
  {
   "cell_type": "markdown",
   "id": "25292401",
   "metadata": {},
   "source": [
    "Here I run it on several of my git repos:"
   ]
  },
  {
   "cell_type": "markdown",
   "id": "16703677",
   "metadata": {},
   "source": [
    "```sh\n",
    "(uv) fun % uvx pyclean .\n",
    "Cleaning directory .\n",
    "Total 93 files, 34 directories removed.\n",
    "```"
   ]
  },
  {
   "cell_type": "markdown",
   "id": "a4990d56",
   "metadata": {},
   "source": [
    "## uvx and the uv Tool Interface"
   ]
  },
  {
   "cell_type": "markdown",
   "id": "14d01b4c",
   "metadata": {},
   "source": [
    "`uvx` is an alias for `uv tool run`, part of the [uv Python package manager](https://github.com/astral-sh/uv). \n",
    "\n",
    "It creates a single-use disposable virtualenv for whatever tool you install and run with it. Here the tool name matches the PyPI package name, but it does also support uvx `<package-name>:<command-name>`."
   ]
  }
 ],
 "metadata": {
  "kernelspec": {
   "display_name": "Python 3 (ipykernel)",
   "language": "python",
   "name": "python3"
  },
  "language_info": {
   "codemirror_mode": {
    "name": "ipython",
    "version": 3
   },
   "file_extension": ".py",
   "mimetype": "text/x-python",
   "name": "python",
   "nbconvert_exporter": "python",
   "pygments_lexer": "ipython3",
   "version": "3.12.8"
  }
 },
 "nbformat": 4,
 "nbformat_minor": 5
}
