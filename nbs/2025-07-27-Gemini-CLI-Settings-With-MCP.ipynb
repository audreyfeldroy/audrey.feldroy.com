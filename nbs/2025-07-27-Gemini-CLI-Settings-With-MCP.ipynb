{
 "cells": [
  {
   "cell_type": "markdown",
   "id": "4ed48043",
   "metadata": {},
   "source": [
    "# Gemini CLI settings.json with MCP Config"
   ]
  },
  {
   "cell_type": "markdown",
   "id": "d1b64181",
   "metadata": {},
   "source": [
    "Here is a sample settings.json file for the Gemini CLI, configured with the Git and GitHub MCP servers."
   ]
  },
  {
   "cell_type": "markdown",
   "id": "6ed4a5dc",
   "metadata": {
    "vscode": {
     "languageId": "plaintext"
    }
   },
   "source": [
    "Put this into `~/.gemini/settings.json`:"
   ]
  },
  {
   "cell_type": "code",
   "execution_count": null,
   "id": "4fa6ad6e",
   "metadata": {},
   "outputs": [
    {
     "ename": "",
     "evalue": "",
     "output_type": "error",
     "traceback": [
      "\u001b[1;31mRunning cells with 'audrey.feldroy.com (Python 3.13.1)' requires the ipykernel package.\n",
      "\u001b[1;31mInstall 'ipykernel' into the Python environment. \n",
      "\u001b[1;31mCommand: '/Users/arg/fun/audrey.feldroy.com/.venv/bin/python -m pip install ipykernel -U --force-reinstall'"
     ]
    }
   ],
   "source": [
    "```json\n",
    "{\n",
    "  \"selectedAuthType\": \"gemini-api-key\",\n",
    "  \"theme\": \"Dracula\",\n",
    "  \"preferredEditor\": \"vscode\",\n",
    "  \"mcpServers\": {\n",
    "    \"git\": {\n",
    "      \"command\": \"uvx\",\n",
    "      \"args\": [\n",
    "        \"mcp-server-git\"\n",
    "      ]\n",
    "    },\n",
    "    \"github\": {\n",
    "      \"httpUrl\": \"https://api.githubcopilot.com/mcp/\",\n",
    "      \"headers\": {\n",
    "        \"Authorization\": \"<your GitHub Personal Access Token here>\"\n",
    "      },\n",
    "      \"timeout\": 5000\n",
    "    }\n",
    "  }\n",
    "}\n",
    "```"
   ]
  },
  {
   "cell_type": "markdown",
   "id": "ad099436",
   "metadata": {
    "vscode": {
     "languageId": "plaintext"
    }
   },
   "source": [
    "## Getting a GitHub Personal Access Token\n",
    "\n",
    "Go to https://github.com/settings/tokens and generate a token with the scopes you need. \n",
    "\n",
    "Then paste it into settings.json.\n",
    "\n",
    "Note: I had hoped to get the token from an environment variable, but the Gemini CLI does not support that as far as I can tell from the documentation."
   ]
  },
  {
   "cell_type": "markdown",
   "id": "287b4c2f",
   "metadata": {},
   "source": [
    "## Verifying that the MCP Servers Work\n",
    "\n",
    "In Gemini CLI, run `/mcp`. You should see a list of all the tools Gemini CLI now has access to, from each MCP server.\n",
    "\n",
    "If you have your settings.json in the right location and your GitHub PAT set correctly, you should see something like:"
   ]
  },
  {
   "cell_type": "markdown",
   "id": "09499a96",
   "metadata": {},
   "source": [
    "```txt\n",
    "╭──────────╮\n",
    "│  > /mcp  │\n",
    "╰──────────╯\n",
    "\n",
    "\n",
    "ℹ Configured MCP servers:\n",
    "\n",
    "  🟢 git - Ready (13 tools)\n",
    "    - git_add\n",
    "    - git_branch\n",
    "    - git_checkout\n",
    "    - git_commit\n",
    "    - git_create_branch\n",
    "    - git_diff\n",
    "    - git_diff_staged\n",
    "    - git_diff_unstaged\n",
    "    - git_init\n",
    "    - git_log\n",
    "    - git_reset\n",
    "    - git_show\n",
    "    - git_status\n",
    "\n",
    "  🟢 github - Ready (74 tools)\n",
    "    - add_comment_to_pending_review\n",
    "    - add_issue_comment\n",
    "    - assign_copilot_to_issue\n",
    "    - cancel_workflow_run\n",
    "    - create_and_submit_pull_request_review\n",
    "    - create_branch\n",
    "    - create_issue\n",
    "    - create_or_update_file\n",
    "    - create_pending_pull_request_review\n",
    "    - create_pull_request\n",
    "    - create_pull_request_with_copilot\n",
    "    - create_repository\n",
    "    - delete_file\n",
    "    - delete_pending_pull_request_review\n",
    "    - delete_workflow_run_logs\n",
    "    - dismiss_notification\n",
    "    - download_workflow_run_artifact\n",
    "    - fork_repository\n",
    "    - get_code_scanning_alert\n",
    "    - get_commit\n",
    "    - get_dependabot_alert\n",
    "    - get_discussion\n",
    "    - get_discussion_comments\n",
    "    - get_file_contents\n",
    "    - get_issue\n",
    "    - get_issue_comments\n",
    "    - get_job_logs\n",
    "    - get_me\n",
    "    - get_notification_details\n",
    "    - get_pull_request\n",
    "    - get_pull_request_comments\n",
    "    - get_pull_request_diff\n",
    "    - get_pull_request_files\n",
    "    - get_pull_request_reviews\n",
    "    - get_pull_request_status\n",
    "    - get_secret_scanning_alert\n",
    "    - get_tag\n",
    "    - get_workflow_run\n",
    "    - get_workflow_run_logs\n",
    "    - get_workflow_run_usage\n",
    "    - list_branches\n",
    "    - list_code_scanning_alerts\n",
    "    - list_commits\n",
    "    - list_dependabot_alerts\n",
    "    - list_discussion_categories\n",
    "    - list_discussions\n",
    "    - list_issues\n",
    "    - list_notifications\n",
    "    - list_pull_requests\n",
    "    - list_secret_scanning_alerts\n",
    "    - list_tags\n",
    "    - list_workflow_jobs\n",
    "    - list_workflow_run_artifacts\n",
    "    - list_workflow_runs\n",
    "    - list_workflows\n",
    "    - manage_notification_subscription\n",
    "    - manage_repository_notification_subscription\n",
    "    - mark_all_notifications_read\n",
    "    - merge_pull_request\n",
    "    - push_files\n",
    "    - request_copilot_review\n",
    "    - rerun_failed_jobs\n",
    "    - rerun_workflow_run\n",
    "    - run_workflow\n",
    "    - search_code\n",
    "    - search_issues\n",
    "    - search_orgs\n",
    "    - search_pull_requests\n",
    "    - search_repositories\n",
    "    - search_users\n",
    "    - submit_pending_pull_request_review\n",
    "    - update_issue\n",
    "    - update_pull_request\n",
    "    - update_pull_request_branch\n",
    "```"
   ]
  },
  {
   "cell_type": "markdown",
   "id": "644533ad",
   "metadata": {},
   "source": [
    "## Using the Git and GitHub MCP Tools from Gemini CLI\n",
    "\n",
    "Then you can prompt things like this:\n",
    "\n",
    "> ╭──────────────────────────────────────────────────────────────────────────────────────────────╮\n",
    "> │  > Fill out the description of https://github.com/audreyfeldroy/audrey.feldroy.com/issues/8  │\n",
    "> ╰──────────────────────────────────────────────────────────────────────────────────────────────╯\n",
    "\n",
    "Just those two MCP servers give you a lot of useful things you can do."
   ]
  }
 ],
 "metadata": {
  "kernelspec": {
   "display_name": "audrey.feldroy.com",
   "language": "python",
   "name": "python3"
  },
  "language_info": {
   "name": "python",
   "version": "3.13.1"
  }
 },
 "nbformat": 4,
 "nbformat_minor": 5
}
