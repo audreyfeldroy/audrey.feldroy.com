{
 "cells": [
  {
   "cell_type": "markdown",
   "metadata": {},
   "source": [
    "# execnb's read_nb and nb2fasthtml's render_nb"
   ]
  },
  {
   "cell_type": "code",
   "execution_count": 18,
   "metadata": {},
   "outputs": [],
   "source": [
    "import glob\n",
    "from pathlib import Path\n",
    "from fastcore.all import *\n",
    "from nb2fasthtml.core import *\n",
    "from execnb.nbio import *"
   ]
  },
  {
   "cell_type": "code",
   "execution_count": 7,
   "metadata": {},
   "outputs": [
    {
     "data": {
      "text/plain": [
       "(#11) [Path('../nbs/2024-07-29-Delegates-Decorator.ipynb'),Path('../nbs/2024-07-16_Xtend_Pico.ipynb'),Path('../nbs/2024-08-05-Claudette-FastHTML.ipynb'),Path('../nbs/2024-12-23-nb2fasthtml.ipynb'),Path('../nbs/2024-07-29-Auth.ipynb'),Path('../nbs/2024-12-23-Daddys_Snowman_Card.ipynb'),Path('../nbs/2024-07-15-Printing_Components.ipynb'),Path('../nbs/2024-07-14_SemanticUI_Cards.ipynb'),Path('../nbs/2024-07-29-FH-by-Example.ipynb'),Path('../nbs/2023-07-29-nbdev.ipynb'),Path('../nbs/2024-08-04-Claudette.ipynb')]"
      ]
     },
     "execution_count": 7,
     "metadata": {},
     "output_type": "execute_result"
    }
   ],
   "source": [
    "nbs = L(Path('../nbs').glob('*.ipynb'))\n",
    "nbs"
   ]
  },
  {
   "cell_type": "code",
   "execution_count": 9,
   "metadata": {},
   "outputs": [
    {
     "data": {
      "text/plain": [
       "[Path('../nbs/2023-07-29-nbdev.ipynb'),\n",
       " Path('../nbs/2024-07-14_SemanticUI_Cards.ipynb'),\n",
       " Path('../nbs/2024-07-15-Printing_Components.ipynb'),\n",
       " Path('../nbs/2024-07-16_Xtend_Pico.ipynb'),\n",
       " Path('../nbs/2024-07-29-Auth.ipynb'),\n",
       " Path('../nbs/2024-07-29-Delegates-Decorator.ipynb'),\n",
       " Path('../nbs/2024-07-29-FH-by-Example.ipynb'),\n",
       " Path('../nbs/2024-08-04-Claudette.ipynb'),\n",
       " Path('../nbs/2024-08-05-Claudette-FastHTML.ipynb'),\n",
       " Path('../nbs/2024-12-23-Daddys_Snowman_Card.ipynb'),\n",
       " Path('../nbs/2024-12-23-nb2fasthtml.ipynb')]"
      ]
     },
     "execution_count": 9,
     "metadata": {},
     "output_type": "execute_result"
    }
   ],
   "source": [
    "nbs = sorted(nbs)\n",
    "nbs"
   ]
  },
  {
   "cell_type": "code",
   "execution_count": 15,
   "metadata": {},
   "outputs": [
    {
     "data": {
      "text/plain": [
       "Path('../nbs/2024-12-23-Daddys_Snowman_Card.ipynb')"
      ]
     },
     "execution_count": 15,
     "metadata": {},
     "output_type": "execute_result"
    }
   ],
   "source": [
    "x = nbs[-2]\n",
    "x"
   ]
  },
  {
   "cell_type": "code",
   "execution_count": 16,
   "metadata": {},
   "outputs": [
    {
     "data": {
      "text/markdown": [
       "```json\n",
       "{ 'cells': [ { 'cell_type': 'markdown',\n",
       "               'idx_': 0,\n",
       "               'metadata': {},\n",
       "               'source': \"# Daddy's Snowman Card\"},\n",
       "             { 'cell_type': 'markdown',\n",
       "               'idx_': 1,\n",
       "               'metadata': {},\n",
       "               'source': \"Here we are checking the numbers from our daughter's \"\n",
       "                         'snowman card to Daddy. She gave him math problems to '\n",
       "                         'solve and a snowman joke.'},\n",
       "             { 'cell_type': 'code',\n",
       "               'execution_count': None,\n",
       "               'idx_': 2,\n",
       "               'metadata': {},\n",
       "               'outputs': [ { 'data': {'text/plain': ['200000']},\n",
       "                              'execution_count': None,\n",
       "                              'metadata': {},\n",
       "                              'output_type': 'execute_result'}],\n",
       "               'source': '200000'},\n",
       "             { 'cell_type': 'markdown',\n",
       "               'idx_': 3,\n",
       "               'metadata': {},\n",
       "               'source': '**AI Prompt**\\n'\n",
       "                         '\\n'\n",
       "                         'What is 200000 (2 followed by 5 zeroes)?'},\n",
       "             { 'cell_type': 'markdown',\n",
       "               'idx_': 4,\n",
       "               'metadata': {},\n",
       "               'source': \"**AI Response**\\n\\nThat's two hundred thousand.\"},\n",
       "             { 'cell_type': 'code',\n",
       "               'execution_count': None,\n",
       "               'idx_': 5,\n",
       "               'metadata': {},\n",
       "               'outputs': [ { 'data': {'text/plain': ['200100']},\n",
       "                              'execution_count': None,\n",
       "                              'metadata': {},\n",
       "                              'output_type': 'execute_result'}],\n",
       "               'source': '100+200000'}],\n",
       "  'metadata': { 'kernelspec': { 'display_name': '.venv',\n",
       "                                'language': 'python',\n",
       "                                'name': 'python3'},\n",
       "                'language_info': { 'codemirror_mode': { 'name': 'ipython',\n",
       "                                                        'version': 3},\n",
       "                                   'file_extension': '.py',\n",
       "                                   'mimetype': 'text/x-python',\n",
       "                                   'name': 'python',\n",
       "                                   'nbconvert_exporter': 'python',\n",
       "                                   'pygments_lexer': 'ipython3',\n",
       "                                   'version': '3.12.7'}},\n",
       "  'nbformat': 4,\n",
       "  'nbformat_minor': 4,\n",
       "  'path_': '../nbs/2024-12-23-Daddys_Snowman_Card.ipynb'}\n",
       "```"
      ],
      "text/plain": [
       "{'cells': [{'cell_type': 'markdown',\n",
       "   'metadata': {},\n",
       "   'source': \"# Daddy's Snowman Card\",\n",
       "   'idx_': 0},\n",
       "  {'cell_type': 'markdown',\n",
       "   'metadata': {},\n",
       "   'source': \"Here we are checking the numbers from our daughter's snowman card to Daddy. She gave him math problems to solve and a snowman joke.\",\n",
       "   'idx_': 1},\n",
       "  {'cell_type': 'code',\n",
       "   'execution_count': None,\n",
       "   'metadata': {},\n",
       "   'outputs': [{'data': {'text/plain': ['200000']},\n",
       "     'execution_count': None,\n",
       "     'metadata': {},\n",
       "     'output_type': 'execute_result'}],\n",
       "   'source': '200000',\n",
       "   'idx_': 2},\n",
       "  {'cell_type': 'markdown',\n",
       "   'metadata': {},\n",
       "   'source': '**AI Prompt**\\n\\nWhat is 200000 (2 followed by 5 zeroes)?',\n",
       "   'idx_': 3},\n",
       "  {'cell_type': 'markdown',\n",
       "   'metadata': {},\n",
       "   'source': \"**AI Response**\\n\\nThat's two hundred thousand.\",\n",
       "   'idx_': 4},\n",
       "  {'cell_type': 'code',\n",
       "   'execution_count': None,\n",
       "   'metadata': {},\n",
       "   'outputs': [{'data': {'text/plain': ['200100']},\n",
       "     'execution_count': None,\n",
       "     'metadata': {},\n",
       "     'output_type': 'execute_result'}],\n",
       "   'source': '100+200000',\n",
       "   'idx_': 5}],\n",
       " 'metadata': {'kernelspec': {'display_name': '.venv',\n",
       "   'language': 'python',\n",
       "   'name': 'python3'},\n",
       "  'language_info': {'codemirror_mode': {'name': 'ipython', 'version': 3},\n",
       "   'file_extension': '.py',\n",
       "   'mimetype': 'text/x-python',\n",
       "   'name': 'python',\n",
       "   'nbconvert_exporter': 'python',\n",
       "   'pygments_lexer': 'ipython3',\n",
       "   'version': '3.12.7'}},\n",
       " 'nbformat': 4,\n",
       " 'nbformat_minor': 4,\n",
       " 'path_': '../nbs/2024-12-23-Daddys_Snowman_Card.ipynb'}"
      ]
     },
     "execution_count": 16,
     "metadata": {},
     "output_type": "execute_result"
    }
   ],
   "source": [
    "read_nb(x)"
   ]
  },
  {
   "cell_type": "code",
   "execution_count": 19,
   "metadata": {},
   "outputs": [
    {
     "data": {
      "text/markdown": [
       "```html\n",
       "<main class=\"container\">  <div class=\"frontmatter\">\n",
       "    <h1>Daddy&#x27;s Snowman Card</h1>\n",
       "  </div>\n",
       "  <div>\n",
       "    <div class=\"marked\">Here we are checking the numbers from our daughter&#x27;s snowman card to Daddy. She gave him math problems to solve and a snowman joke.</div>\n",
       "  </div>\n",
       "  <article>\n",
       "    <div class=\"marked\">\n",
       "```python\n",
       "200000\n",
       "```\n",
       "</div>\n",
       "    <footer><pre ><code>200000</code></pre></footer>\n",
       "  </article>\n",
       "  <div>\n",
       "    <div class=\"marked\">**AI Prompt**\n",
       "\n",
       "What is 200000 (2 followed by 5 zeroes)?</div>\n",
       "  </div>\n",
       "  <div>\n",
       "    <div class=\"marked\">**AI Response**\n",
       "\n",
       "That&#x27;s two hundred thousand.</div>\n",
       "  </div>\n",
       "  <article>\n",
       "    <div class=\"marked\">\n",
       "```python\n",
       "100+200000\n",
       "```\n",
       "</div>\n",
       "    <footer><pre ><code>200100</code></pre></footer>\n",
       "  </article>\n",
       "</main>\n",
       "```"
      ],
      "text/plain": [
       "main((div((h1((\"Daddy's Snowman Card\",),{}),),{'class': 'frontmatter'}), div((div((\"Here we are checking the numbers from our daughter's snowman card to Daddy. She gave him math problems to solve and a snowman joke.\",),{'class': 'marked'}),),{}), article((div(('\\n```python\\n200000\\n```\\n',),{'class': 'marked'}), footer(('<pre ><code>200000</code></pre>',),{})),{}), div((div(('**AI Prompt**\\n\\nWhat is 200000 (2 followed by 5 zeroes)?',),{'class': 'marked'}),),{}), div((div((\"**AI Response**\\n\\nThat's two hundred thousand.\",),{'class': 'marked'}),),{}), article((div(('\\n```python\\n100+200000\\n```\\n',),{'class': 'marked'}), footer(('<pre ><code>200100</code></pre>',),{})),{})),{'class': 'container'})"
      ]
     },
     "execution_count": 19,
     "metadata": {},
     "output_type": "execute_result"
    }
   ],
   "source": [
    "render_nb(x)"
   ]
  },
  {
   "cell_type": "code",
   "execution_count": null,
   "metadata": {},
   "outputs": [],
   "source": []
  }
 ],
 "metadata": {
  "kernelspec": {
   "display_name": "Python 3 (ipykernel)",
   "language": "python",
   "name": "python3"
  },
  "language_info": {
   "codemirror_mode": {
    "name": "ipython",
    "version": 3
   },
   "file_extension": ".py",
   "mimetype": "text/x-python",
   "name": "python",
   "nbconvert_exporter": "python",
   "pygments_lexer": "ipython3",
   "version": "3.12.8"
  },
  "toc": {
   "base_numbering": 1,
   "nav_menu": {},
   "number_sections": true,
   "sideBar": true,
   "skip_h1_title": false,
   "title_cell": "Table of Contents",
   "title_sidebar": "Contents",
   "toc_cell": false,
   "toc_position": {},
   "toc_section_display": true,
   "toc_window_display": false
  }
 },
 "nbformat": 4,
 "nbformat_minor": 2
}
