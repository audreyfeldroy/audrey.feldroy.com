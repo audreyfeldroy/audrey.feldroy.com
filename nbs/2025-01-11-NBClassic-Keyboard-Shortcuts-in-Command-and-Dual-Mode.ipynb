{
 "cells": [
  {
   "cell_type": "markdown",
   "id": "0",
   "metadata": {},
   "source": [
    "# NBClassic Keyboard Shortcuts: Command and Dual-Mode"
   ]
  },
  {
   "cell_type": "markdown",
   "id": "1",
   "metadata": {},
   "source": [
    "I'm taking inventory of all the Command Mode and dual-mode nbclassic keyboard shortcuts on macOS, with my random musings about each. This is part of my deliberate practice to master all of the useful ones, and will serve as a reference for myself later."
   ]
  },
  {
   "cell_type": "markdown",
   "id": "2",
   "metadata": {},
   "source": [
    "## From Command Mode\n",
    "\n",
    "Press `Esc` to get out of editing a cell (Edit Mode), then:"
   ]
  },
  {
   "cell_type": "markdown",
   "id": "3",
   "metadata": {},
   "source": [
    "`p`: Open the Command Palette\n",
    "\n",
    "This opens the little dialog with commands. Then you can press up or down arrows to select commands.\n",
    "\n",
    "* There's a scroll bug so when you go down past the bottom edge, the whole window doesn't scroll. When I go past the bottom edge, I can only see command names and not their shortcuts. It basically means the commands not shown by default are hardly usable unless I already know them. The ones shown by default are also not that useful: I rarely want to press number keys to convert a cell to a heading when Markdown `#` is so easy.\n",
    "* It would be nice if this dialog took up the whole screen. So much wasted space where I wish I could just see more commands. Beyond taking up the whole screen, it would be nice if it were multi-column so you could see tons of commands all at once. \n",
    "* Oh! I can rename a notebook from here without using my mouse! That's game-changing for me."
   ]
  },
  {
   "cell_type": "markdown",
   "id": "4",
   "metadata": {},
   "source": [
    "Change cell type:\n",
    "\n",
    "* `M`: Markdown. I use it often.\n",
    "* `Y`: Code. I use it often, but I usually accidentally type C instead of Y. Y on the other hand feels like it should yank, which is sort of what C does.\n",
    "* `R`: Raw. I've never used this. Let's try it now. Oh, that's a good one. \n",
    "    * Probably useful for frontmatter in blog apps that require it. This may actually be one of the key pieces that ends up converting me over to the frontmatter side.\n",
    "    * Occasionally I have other code that I want to stick into a notebook without it being interpreted, and I use fenced no-syntax code blocks within Markdown to do it. Advent of Code puzzle inputs come to mind, stuff like:"
   ]
  },
  {
   "cell_type": "raw",
   "id": "5",
   "metadata": {},
   "source": [
    "aa\n",
    "bb\n",
    "  cc\n",
    "  d e\n",
    "    e"
   ]
  },
  {
   "cell_type": "markdown",
   "id": "6",
   "metadata": {},
   "source": [
    "`f`: Find and replace. I've never used this. I always use Cmd F and use Chrome or Firefox's search. I'm trying it. That's cool that it can take regular expressions! I tried `\\w+` and that was fun. To get those to work, I had to toggle the button off and then on again."
   ]
  },
  {
   "cell_type": "markdown",
   "id": "7",
   "metadata": {},
   "source": [
    "`k` or `Up arrow`: Select previous cell\n",
    "\n",
    "`j` or `Down arrow`: Select next cell\n",
    "\n",
    "* I always use the arrows, never `k` and `j`, but I'll try them since they're nice Vim workalikes."
   ]
  },
  {
   "cell_type": "markdown",
   "id": "8",
   "metadata": {},
   "source": [
    "`Shift` `k` or `Shift` `Up arrow`: Add previous cell to selection"
   ]
  },
  {
   "cell_type": "markdown",
   "id": "9",
   "metadata": {},
   "source": [
    "`Shift` `j` or `Shift` `Down arrow`: Add next cell to selection"
   ]
  },
  {
   "cell_type": "markdown",
   "id": "10",
   "metadata": {},
   "source": [
    "* I use `Shift` with up and down arrows sometimes. I didn't know I could use those with `k` and `j`. I'll try to use those.\n",
    "* \"Extend selected cells\" in the docs didn't make sense to me until I tried it."
   ]
  },
  {
   "cell_type": "markdown",
   "id": "11",
   "metadata": {},
   "source": [
    "`Cmd` `a`: Select all cells. I never use this and it seems not very useful. Could I be wrong? Copy-pasting cells between notebook browser tabs doesn't work for me, and it may be related to that use case. "
   ]
  },
  {
   "cell_type": "markdown",
   "id": "12",
   "metadata": {},
   "source": [
    "`a` / `b`: Insert cell above/below. I use this often."
   ]
  },
  {
   "cell_type": "markdown",
   "id": "13",
   "metadata": {},
   "source": [
    "Copy-pasting:\n",
    "\n",
    "* `x` / `c` / `v`: Cut/copy/paste selected cells. I use this often.\n",
    "* `Shift` `v`: Paste above current cell. I never use this but it feels incredibly useful.\n",
    "* `Cmd` `v`: Dialog for paste from system clipboard. Sometimes I accidentally press this. I never use this deliberately, because pasting from my system clipboard into Edit Mode works fine. Would I want to paste in Command Mode? I'll look out for the opportunity. Oh wait, this looks like it would be useful in conjunction with `Cmd` `a` to bring a whole notebook over into a new one."
   ]
  },
  {
   "cell_type": "markdown",
   "id": "14",
   "metadata": {},
   "source": [
    "`d` then `d` again: Delete cell. I mostly use `x` instead of this, out of muscle memory not intentionality."
   ]
  },
  {
   "cell_type": "markdown",
   "id": "15",
   "metadata": {},
   "source": [
    "`z`: Undo cell deletion. This usually doesn't work for me because I press `x`. I can press `Shift` `v` when that happens, I now know."
   ]
  },
  {
   "cell_type": "markdown",
   "id": "16",
   "metadata": {},
   "source": [
    "`Shift` `m`: Merge cells. I occasionally do this by accident. \n",
    "\n",
    "* Every time that happens, I think, \"Oh, that's useful, I should do that on purpose sometimes.\" Then I try to undo with `z` and it doesn't work, because `z` only undoes `dd`. Then I re-split the cells with `Ctrl` `Shift` `-`.\n",
    "* But I never actually do it on purpose. My need to merge cells these days is rare enough that I don't remember this. I suppose with imports maybe it'll be good.\n",
    "* That's cool that if you have only 1 cell selected, it'll merge with the next cell."
   ]
  },
  {
   "cell_type": "markdown",
   "id": "17",
   "metadata": {},
   "source": [
    "`s` or `Ctrl` `s`: Save and checkpoint. I use `Ctrl` `s` often. I didn't realize `s` does the same exact thing. That saves my pinky a bit."
   ]
  },
  {
   "cell_type": "markdown",
   "id": "18",
   "metadata": {},
   "source": [
    "`l`: Toggle line numbers. I rarely use this other than when [Danny](https://daniel.feldroy.com) asks me to turn the line numbers on."
   ]
  },
  {
   "cell_type": "markdown",
   "id": "19",
   "metadata": {},
   "source": [
    "`o`: Toggle output of selected cells. I never use this, but I'll try it now on the time cell. Okay, I could see that being useful if a cell's output is huge, I can't truncate it, and the output iframe doesn't turn on, which happens occasionally for me."
   ]
  },
  {
   "cell_type": "markdown",
   "id": "20",
   "metadata": {},
   "source": [
    "`Shift` `o`: Toggle output scrolling of selected cells. I never use this. Maybe it'll solve my pain point of not being able to see the full version via keyboard of an iframe-truncated output. Oh, wow, I'll use this all the time now that I know about it. Wow, this would have saved me a lot of trackpad scrolling pain yesterday."
   ]
  },
  {
   "cell_type": "markdown",
   "id": "21",
   "metadata": {},
   "source": [
    "Kernel problem sequences:\n",
    "\n",
    "* `i` then `i`: Interrupt the kernel. I never use this but plan to. But AI tells me it's essential to stop deep learning training runs early, or to stop overfitting as soon as I see it happening. Yeah, I'll try that then.\n",
    "* `0` then `0`: Restart the kernel. I rarely use this but should do it more."
   ]
  },
  {
   "cell_type": "markdown",
   "id": "22",
   "metadata": {},
   "source": [
    "Commands I don't understand, or that are broken for me, possibly due to my customizations or nbextensions:\n",
    "\n",
    "* `Esc` or `q` from Command Mode to \"Close the pager\". Does that mean to close Command Palette? If I have Command Palette open, that's what it does. If I have regular Command Mode open, it doesn't seem to do anything.\n",
    "* `h`: The [docs](https://jupyter-tutorial.readthedocs.io/en/24.1.0/notebook/shortcuts.html) say it'll \"show keyboard shortcuts\", but nothing shows for me."
   ]
  },
  {
   "cell_type": "markdown",
   "id": "23",
   "metadata": {},
   "source": [
    "## From Both Modes"
   ]
  },
  {
   "cell_type": "markdown",
   "id": "24",
   "metadata": {},
   "source": [
    "Running cells:\n",
    "\n",
    "* `Shift` `Enter`: Run the current cell and create a new one below, or select the existing one below. I use this often. \"Run cell, select below\" in the docs isn't quite right.\n",
    "* `Cmd` `Enter` or `Ctrl` `Enter`: Run the current cell, keep it selected, and switch to Command Mode if not already there. I never use this. \n",
    "    * I sort of like it better than my current habit of `Esc` then `Shift` `Enter`, so I'll start using it. \n",
    "    * Oh, that's also cool that you can multi-select cells via keyboard and run them all. After you do that, the last cell gets selected.\n"
   ]
  },
  {
   "cell_type": "markdown",
   "id": "25",
   "metadata": {},
   "source": [
    "## Cells for Testing"
   ]
  },
  {
   "cell_type": "code",
   "execution_count": null,
   "id": "26",
   "metadata": {},
   "outputs": [],
   "source": [
    "print(datetime.now().strftime('%I:%M:%S %p'))"
   ]
  },
  {
   "cell_type": "markdown",
   "id": "27",
   "metadata": {},
   "source": [
    "Here I print the time in a test cell. That way I can see if the cell is actually run."
   ]
  },
  {
   "cell_type": "code",
   "execution_count": null,
   "id": "28",
   "metadata": {},
   "outputs": [],
   "source": [
    "[i for i in range(1000)]"
   ]
  },
  {
   "cell_type": "markdown",
   "id": "29",
   "metadata": {},
   "source": [
    "Here's a cell with long output, to test `Shift` `o`."
   ]
  }
 ],
 "metadata": {
  "kernelspec": {
   "display_name": "Python 3 (ipykernel)",
   "language": "python",
   "name": "python3"
  },
  "language_info": {
   "codemirror_mode": {
    "name": "ipython",
    "version": 3
   },
   "file_extension": ".py",
   "mimetype": "text/x-python",
   "name": "python",
   "nbconvert_exporter": "python",
   "pygments_lexer": "ipython3",
   "version": "3.12.8"
  }
 },
 "nbformat": 4,
 "nbformat_minor": 5
}
