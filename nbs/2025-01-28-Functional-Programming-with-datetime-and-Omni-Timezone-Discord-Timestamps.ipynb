{
 "cells": [
  {
   "cell_type": "markdown",
   "id": "bb49fbfe",
   "metadata": {},
   "source": [
    "# Functional Programming with datetime, and Omni-Timezone Discord Timestamps"
   ]
  },
  {
   "cell_type": "markdown",
   "id": "7a0abdbc",
   "metadata": {},
   "source": [
    "I define various useful datetime utilities with the help of fastcore's L and map, and functools' partial. Then I extend that to generate Discord timestamps, which localize Unix timestamps to the reader's timezone."
   ]
  },
  {
   "cell_type": "code",
   "execution_count": 11,
   "id": "a6f3fe5d",
   "metadata": {},
   "outputs": [],
   "source": [
    "from datetime import datetime\n",
    "from fastcore.utils import *\n",
    "from functools import partial\n",
    "from zoneinfo import ZoneInfo"
   ]
  },
  {
   "cell_type": "markdown",
   "id": "5497676d",
   "metadata": {},
   "source": [
    "## Overview"
   ]
  },
  {
   "cell_type": "markdown",
   "id": "6cdb925b",
   "metadata": {},
   "source": [
    "I've been finding it helpful to use datetime with fastcore's L and map, and functools' partial. \n",
    "\n",
    "I shared some useful functions here to print my colleagues' current times, and generate Discord timestamps which localize Unix timestamps to the user's timezone."
   ]
  },
  {
   "cell_type": "markdown",
   "id": "49272053",
   "metadata": {},
   "source": [
    "## Converting the Current Time"
   ]
  },
  {
   "cell_type": "markdown",
   "id": "bc1c601c",
   "metadata": {},
   "source": [
    "We start off by doing things the classic way using Python stdlib datetime, which is actually quite good."
   ]
  },
  {
   "cell_type": "code",
   "execution_count": 12,
   "id": "9ae98112",
   "metadata": {},
   "outputs": [
    {
     "data": {
      "text/plain": [
       "datetime.datetime(2025, 2, 3, 10, 42, 15, 930074)"
      ]
     },
     "execution_count": 12,
     "metadata": {},
     "output_type": "execute_result"
    }
   ],
   "source": [
    "datetime.now()"
   ]
  },
  {
   "cell_type": "markdown",
   "id": "27e7e640",
   "metadata": {},
   "source": [
    "`now()` can take a timezone:"
   ]
  },
  {
   "cell_type": "code",
   "execution_count": 13,
   "id": "5d8eeac0",
   "metadata": {},
   "outputs": [
    {
     "data": {
      "text/plain": [
       "datetime.datetime(2025, 2, 3, 10, 42, 16, 763220, tzinfo=zoneinfo.ZoneInfo(key='Europe/London'))"
      ]
     },
     "execution_count": 13,
     "metadata": {},
     "output_type": "execute_result"
    }
   ],
   "source": [
    "dt = datetime.now(tz=ZoneInfo('Europe/London'))\n",
    "dt"
   ]
  },
  {
   "cell_type": "code",
   "execution_count": 14,
   "id": "a0fb3e02",
   "metadata": {},
   "outputs": [
    {
     "data": {
      "text/plain": [
       "datetime.datetime(2025, 2, 3, 5, 42, 16, 763220, tzinfo=zoneinfo.ZoneInfo(key='America/New_York'))"
      ]
     },
     "execution_count": 14,
     "metadata": {},
     "output_type": "execute_result"
    }
   ],
   "source": [
    "nyc = dt.astimezone(ZoneInfo('America/New_York'))\n",
    "nyc"
   ]
  },
  {
   "cell_type": "markdown",
   "id": "f3db3569",
   "metadata": {},
   "source": [
    "Let's make a list of timezones:"
   ]
  },
  {
   "cell_type": "code",
   "execution_count": 15,
   "id": "0ce10183",
   "metadata": {},
   "outputs": [
    {
     "data": {
      "text/plain": [
       "(#6) ['America/Los_Angeles','America/Chicago','America/New_York','Europe/London','Europe/Istanbul','Australia/Brisbane']"
      ]
     },
     "execution_count": 15,
     "metadata": {},
     "output_type": "execute_result"
    }
   ],
   "source": [
    "tzs = L('America/Los_Angeles', 'America/Chicago', 'America/New_York', 'Europe/London', 'Europe/Istanbul', 'Australia/Brisbane',)\n",
    "tzs"
   ]
  },
  {
   "cell_type": "markdown",
   "id": "23956647",
   "metadata": {},
   "source": [
    "Now we map that timezone list to a \"time in that timezone\" function:"
   ]
  },
  {
   "cell_type": "code",
   "execution_count": 16,
   "id": "9816952d",
   "metadata": {
    "scrolled": true
   },
   "outputs": [
    {
     "name": "stdout",
     "output_type": "stream",
     "text": [
      "America/Los_Angeles  02:42\n",
      "America/Chicago      04:42\n",
      "America/New_York     05:42\n",
      "Europe/London        10:42\n",
      "Europe/Istanbul      13:42\n",
      "Australia/Brisbane   20:42\n"
     ]
    },
    {
     "data": {
      "text/plain": [
       "(#6) [None,None,None,None,None,None]"
      ]
     },
     "execution_count": 16,
     "metadata": {},
     "output_type": "execute_result"
    }
   ],
   "source": [
    "def time_in_tz(tz:str, dt:datetime|None=None) -> str: \n",
    "    if dt is None: dt = datetime.now()\n",
    "    dt = dt.astimezone(ZoneInfo(tz))\n",
    "    return f\"{tz:20} {dt:%H:%M}\"\n",
    "tzs.map(time_in_tz).map(print)"
   ]
  },
  {
   "cell_type": "markdown",
   "id": "190020fc",
   "metadata": {},
   "source": [
    "## Converting a Future Time With Timezone"
   ]
  },
  {
   "cell_type": "markdown",
   "id": "88691f44",
   "metadata": {},
   "source": [
    "To get a time in the future for a particular timezone:"
   ]
  },
  {
   "cell_type": "code",
   "execution_count": 17,
   "id": "6a6b4c34",
   "metadata": {},
   "outputs": [],
   "source": [
    "tomorrow_3pm_est = datetime.now(ZoneInfo('America/New_York')).replace(hour=15, minute=0, second=0, microsecond=0) + timedelta(days=1)"
   ]
  },
  {
   "cell_type": "markdown",
   "id": "f1e72b4d",
   "metadata": {},
   "source": [
    "This also works and is more readable:"
   ]
  },
  {
   "cell_type": "code",
   "execution_count": 18,
   "id": "50c73962",
   "metadata": {},
   "outputs": [
    {
     "data": {
      "text/plain": [
       "datetime.datetime(2025, 1, 30, 15, 0, tzinfo=zoneinfo.ZoneInfo(key='America/New_York'))"
      ]
     },
     "execution_count": 18,
     "metadata": {},
     "output_type": "execute_result"
    }
   ],
   "source": [
    "datetime.fromisoformat('2025-01-30 15:00').replace(tzinfo=ZoneInfo('America/New_York'))"
   ]
  },
  {
   "cell_type": "code",
   "execution_count": 19,
   "id": "5db4eda1",
   "metadata": {},
   "outputs": [
    {
     "name": "stdout",
     "output_type": "stream",
     "text": [
      "America/Los_Angeles  12:00\n",
      "America/Chicago      14:00\n",
      "America/New_York     15:00\n",
      "Europe/London        20:00\n",
      "Europe/Istanbul      23:00\n",
      "Australia/Brisbane   06:00\n"
     ]
    },
    {
     "data": {
      "text/plain": [
       "(#6) [None,None,None,None,None,None]"
      ]
     },
     "execution_count": 19,
     "metadata": {},
     "output_type": "execute_result"
    }
   ],
   "source": [
    "current_times = partial(time_in_tz, dt=tomorrow_3pm_est)\n",
    "tzs.map(current_times).map(print)"
   ]
  },
  {
   "cell_type": "markdown",
   "id": "eee10970",
   "metadata": {},
   "source": [
    "## Adding Discord Timestamp"
   ]
  },
  {
   "cell_type": "markdown",
   "id": "efa72adb",
   "metadata": {},
   "source": [
    "A Discord timestamp looks like <t:1738094460:F> where:\n",
    "\n",
    "* 1738094460 is a Unix timestamp\n",
    "* F is long date/time like \"Tuesday, January 28, 2025 2:20 PM\"\n",
    "\n",
    "When you put one of those into a Discord message, it automatically shows in each user's local timezone."
   ]
  },
  {
   "cell_type": "code",
   "execution_count": 20,
   "id": "2ded5265",
   "metadata": {},
   "outputs": [
    {
     "data": {
      "text/plain": [
       "'<t:1738579336:f>'"
      ]
     },
     "execution_count": 20,
     "metadata": {},
     "output_type": "execute_result"
    }
   ],
   "source": [
    "f\"<t:{int(dt.timestamp())}:f>\""
   ]
  },
  {
   "cell_type": "code",
   "execution_count": 21,
   "id": "f3ec6e69",
   "metadata": {},
   "outputs": [
    {
     "name": "stdout",
     "output_type": "stream",
     "text": [
      "Discord              <t:1738579349:f>\n"
     ]
    }
   ],
   "source": [
    "def print_discord_time(dt:datetime|None=None) -> None:\n",
    "    if dt is None: dt = datetime.now()\n",
    "    print(f\"{\"Discord\":20} <t:{int(dt.timestamp())}:f>\")\n",
    "print_discord_time()"
   ]
  },
  {
   "cell_type": "code",
   "execution_count": 22,
   "id": "9b6901ae",
   "metadata": {},
   "outputs": [
    {
     "name": "stdout",
     "output_type": "stream",
     "text": [
      "Discord              <t:1738699200:f>\n"
     ]
    }
   ],
   "source": [
    "print_discord_time(tomorrow_3pm_est)"
   ]
  },
  {
   "cell_type": "markdown",
   "id": "3f820923",
   "metadata": {},
   "source": [
    "## Printing It All"
   ]
  },
  {
   "cell_type": "code",
   "execution_count": 23,
   "id": "90be2c23",
   "metadata": {},
   "outputs": [
    {
     "name": "stdout",
     "output_type": "stream",
     "text": [
      "America/Los_Angeles  02:42\n",
      "America/Chicago      04:42\n",
      "America/New_York     05:42\n",
      "Europe/London        10:42\n",
      "Europe/Istanbul      13:42\n",
      "Australia/Brisbane   20:42\n",
      "Discord              <t:1738579355:f>\n"
     ]
    }
   ],
   "source": [
    "def print_times(dt:datetime|None=None) -> None:\n",
    "    if dt is None: dt = datetime.now()\n",
    "    tzs = L('America/Los_Angeles', 'America/Chicago', 'America/New_York', 'Europe/London', 'Europe/Istanbul', 'Australia/Brisbane')\n",
    "    tzs.map(time_in_tz).map(print)\n",
    "    print_discord_time(dt)\n",
    "print_times()"
   ]
  },
  {
   "cell_type": "markdown",
   "id": "2539dc3c",
   "metadata": {},
   "source": [
    "## Next Steps"
   ]
  },
  {
   "cell_type": "markdown",
   "id": "43136934",
   "metadata": {},
   "source": [
    "Create a Time Converter tool: a FastTag I can use to convert time whenever I need to."
   ]
  }
 ],
 "metadata": {
  "kernelspec": {
   "display_name": "Python 3 (ipykernel)",
   "language": "python",
   "name": "python3"
  },
  "language_info": {
   "codemirror_mode": {
    "name": "ipython",
    "version": 3
   },
   "file_extension": ".py",
   "mimetype": "text/x-python",
   "name": "python",
   "nbconvert_exporter": "python",
   "pygments_lexer": "ipython3",
   "version": "3.12.8"
  }
 },
 "nbformat": 4,
 "nbformat_minor": 5
}
