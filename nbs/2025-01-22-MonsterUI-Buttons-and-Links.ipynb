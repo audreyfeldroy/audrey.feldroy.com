{
 "cells": [
  {
   "cell_type": "markdown",
   "metadata": {},
   "source": [
    "# MonsterUI Buttons and Links"
   ]
  },
  {
   "cell_type": "markdown",
   "metadata": {},
   "source": [
    "Iterating through the ButtonT enum to show all MonsterUI button types visually."
   ]
  },
  {
   "cell_type": "code",
   "execution_count": 4,
   "metadata": {},
   "outputs": [],
   "source": [
    "from fastcore.utils import *\n",
    "from fasthtml.common import *\n",
    "from monsterui.all import *"
   ]
  },
  {
   "cell_type": "code",
   "execution_count": 2,
   "metadata": {},
   "outputs": [],
   "source": [
    "tags = [\"MonsterUI\"]"
   ]
  },
  {
   "cell_type": "markdown",
   "metadata": {},
   "source": [
    "## Setup"
   ]
  },
  {
   "cell_type": "code",
   "execution_count": null,
   "metadata": {},
   "outputs": [
    {
     "data": {
      "text/markdown": [
       "```html\n",
       "<button type=\"submit\" class=\"uk-button uk-button-default\"></button>\n",
       "```"
      ],
      "text/plain": [
       "button((),{'type': 'submit', 'class': 'uk-button uk-button-default'})"
      ]
     },
     "execution_count": null,
     "metadata": {},
     "output_type": "execute_result"
    }
   ],
   "source": [
    "Button()"
   ]
  },
  {
   "cell_type": "code",
   "execution_count": null,
   "metadata": {},
   "outputs": [
    {
     "data": {
      "text/html": [
       "<button type=\"submit\" class=\"uk-button uk-button-default\">Click me</button>"
      ],
      "text/plain": [
       "<IPython.core.display.HTML object>"
      ]
     },
     "metadata": {},
     "output_type": "display_data"
    }
   ],
   "source": [
    "show(Button(\"Click me\"))"
   ]
  },
  {
   "cell_type": "code",
   "execution_count": null,
   "metadata": {},
   "outputs": [
    {
     "data": {
      "text/html": [
       "<a href=\"example.com\" class=\"uk-link-muted\">My link</a>"
      ],
      "text/plain": [
       "<IPython.core.display.HTML object>"
      ]
     },
     "metadata": {},
     "output_type": "display_data"
    }
   ],
   "source": [
    "show(A(\"My link\", href=\"example.com\", cls=AT.muted))"
   ]
  },
  {
   "cell_type": "code",
   "execution_count": null,
   "metadata": {},
   "outputs": [
    {
     "data": {
      "text/html": [
       "<div>\n",
       "  <div class=\"uk-container mt-5 uk-container-xlarge\">\n",
       "    <div class=\"md:flex md:relative\">\n",
       "      <div class=\"uk-navbar-left \">\n",
       "        <h1 class=\"uk-h1 \">MySite</h1>\n",
       "<uk-icon icon=\"menu\" height=\"30\" width=\"30\" hx-on-click=\"htmx.find('#_S_0fkn7ATy2jXQuJL72PNg').classList.toggle('hidden')\" class=\"md:hidden\"></uk-icon>      </div>\n",
       "      <div id=\"_S_0fkn7ATy2jXQuJL72PNg\" class=\"uk-navbar-right hidden md:flex md:justify-between\">\n",
       "        <nav class=\"uk-navbar-nav w-full flex-col md:flex-row\">\n",
       "<a href=\"#\">Link 1</a><a href=\"#\">Link 2</a>        </nav>\n",
       "      </div>\n",
       "    </div>\n",
       "  </div>\n",
       "</div>\n"
      ],
      "text/plain": [
       "<IPython.core.display.HTML object>"
      ]
     },
     "metadata": {},
     "output_type": "display_data"
    }
   ],
   "source": [
    "show(NavBar(title=\"MySite\", nav_links=(A(\"Link 1\"), A(\"Link 2\"))))"
   ]
  },
  {
   "cell_type": "code",
   "execution_count": null,
   "metadata": {},
   "outputs": [
    {
     "data": {
      "text/html": [
       "<button type=\"submit\" class=\"uk-button uk-button-primary\">Hey</button>"
      ],
      "text/plain": [
       "<IPython.core.display.HTML object>"
      ]
     },
     "metadata": {},
     "output_type": "display_data"
    }
   ],
   "source": [
    "show(Button(\"Hey\",cls=ButtonT.primary))"
   ]
  },
  {
   "cell_type": "code",
   "execution_count": null,
   "metadata": {},
   "outputs": [
    {
     "data": {
      "text/plain": [
       "<enum 'ButtonT'>"
      ]
     },
     "execution_count": null,
     "metadata": {},
     "output_type": "execute_result"
    }
   ],
   "source": [
    "ButtonT"
   ]
  },
  {
   "cell_type": "code",
   "execution_count": null,
   "metadata": {},
   "outputs": [
    {
     "data": {
      "text/plain": [
       "['default', 'primary', 'secondary', 'danger', 'text', 'link', 'ghost']"
      ]
     },
     "execution_count": null,
     "metadata": {},
     "output_type": "execute_result"
    }
   ],
   "source": [
    "[t.name for t in ButtonT]"
   ]
  },
  {
   "cell_type": "markdown",
   "metadata": {},
   "source": [
    "**AI Prompt**\n",
    "\n",
    "Is there a convenience function in enum to list all these?"
   ]
  },
  {
   "cell_type": "markdown",
   "metadata": {},
   "source": [
    "**AI Response**\n",
    "\n",
    "Yes! The `Enum` class in Python has a built-in method called `__members__`. You can use it like this:\n",
    "\n",
    "```python\n",
    "ButtonT.__members__\n",
    "```\n",
    "\n",
    "Would you like me to explain more about what this returns and how it differs from the list comprehension approach you used?"
   ]
  },
  {
   "cell_type": "code",
   "execution_count": null,
   "metadata": {},
   "outputs": [
    {
     "data": {
      "text/plain": [
       "mappingproxy({'default': <ButtonT.default: 'uk-button-default'>,\n",
       "              'primary': <ButtonT.primary: 'uk-button-primary'>,\n",
       "              'secondary': <ButtonT.secondary: 'uk-button-secondary'>,\n",
       "              'danger': <ButtonT.danger: 'uk-button-danger'>,\n",
       "              'text': <ButtonT.text: 'uk-button-text'>,\n",
       "              'link': <ButtonT.link: 'uk-button-link'>,\n",
       "              'ghost': <ButtonT.ghost: 'uk-button-ghost'>})"
      ]
     },
     "execution_count": null,
     "metadata": {},
     "output_type": "execute_result"
    }
   ],
   "source": [
    "ButtonT.__members__"
   ]
  },
  {
   "cell_type": "code",
   "execution_count": null,
   "metadata": {},
   "outputs": [
    {
     "data": {
      "text/plain": [
       "(#7) ['default','primary','secondary','danger','text','link','ghost']"
      ]
     },
     "execution_count": null,
     "metadata": {},
     "output_type": "execute_result"
    }
   ],
   "source": [
    "L(ButtonT.__members__)"
   ]
  },
  {
   "cell_type": "code",
   "execution_count": null,
   "metadata": {},
   "outputs": [
    {
     "data": {
      "text/plain": [
       "(#7) [button(('default button',),{'type': 'submit', 'class': 'uk-button default'}),button(('primary button',),{'type': 'submit', 'class': 'uk-button primary'}),button(('secondary button',),{'type': 'submit', 'class': 'uk-button secondary'}),button(('danger button',),{'type': 'submit', 'class': 'uk-button danger'}),button(('text button',),{'type': 'submit', 'class': 'uk-button text'}),button(('link button',),{'type': 'submit', 'class': 'uk-button link'}),button(('ghost button',),{'type': 'submit', 'class': 'uk-button ghost'})]"
      ]
     },
     "execution_count": null,
     "metadata": {},
     "output_type": "execute_result"
    }
   ],
   "source": [
    "def _Button(t): return Button(f\"{t} button\",cls=t)\n",
    "btns = L(ButtonT.__members__).map(_Button)\n",
    "btns"
   ]
  },
  {
   "cell_type": "code",
   "execution_count": null,
   "metadata": {},
   "outputs": [
    {
     "data": {
      "text/plain": [
       "'<div>\\n<button type=\"submit\" class=\"uk-button default\">default button</button><button type=\"submit\" class=\"uk-button primary\">primary button</button><button type=\"submit\" class=\"uk-button secondary\">secondary button</button><button type=\"submit\" class=\"uk-button danger\">danger button</button><button type=\"submit\" class=\"uk-button text\">text button</button><button type=\"submit\" class=\"uk-button link\">link button</button><button type=\"submit\" class=\"uk-button ghost\">ghost button</button></div>\\n'"
      ]
     },
     "execution_count": null,
     "metadata": {},
     "output_type": "execute_result"
    }
   ],
   "source": [
    "to_xml(Div(*btns))"
   ]
  },
  {
   "cell_type": "code",
   "execution_count": null,
   "metadata": {},
   "outputs": [
    {
     "data": {
      "text/html": [
       "<div>\n",
       "<button type=\"submit\" class=\"uk-button default\">default button</button><button type=\"submit\" class=\"uk-button primary\">primary button</button><button type=\"submit\" class=\"uk-button secondary\">secondary button</button><button type=\"submit\" class=\"uk-button danger\">danger button</button><button type=\"submit\" class=\"uk-button text\">text button</button><button type=\"submit\" class=\"uk-button link\">link button</button><button type=\"submit\" class=\"uk-button ghost\">ghost button</button></div>\n"
      ],
      "text/plain": [
       "<IPython.core.display.HTML object>"
      ]
     },
     "metadata": {},
     "output_type": "display_data"
    }
   ],
   "source": [
    "show(to_xml(Div(*btns)))"
   ]
  },
  {
   "cell_type": "markdown",
   "metadata": {},
   "source": [
    "**AI Prompt**\n",
    "\n",
    "Why don't the buttons look right?"
   ]
  },
  {
   "cell_type": "markdown",
   "metadata": {},
   "source": [
    "**AI Response**\n",
    "\n",
    "Looking at the button classes in the HTML output, I notice the classes are missing the `uk-button-` prefix that we saw in the `ButtonT` enum values. Instead, they just have `uk-button default`, `uk-button primary`, etc.\n",
    "\n",
    "Let's check what's happening by looking at one button directly:\n",
    "\n",
    "```python\n",
    "show(Button(\"test\", cls=ButtonT.primary))\n",
    "```\n",
    "\n",
    "This should help us see if the issue is in how we're passing the enum values to the Button constructor."
   ]
  },
  {
   "cell_type": "markdown",
   "metadata": {},
   "source": [
    "**AI Prompt**\n",
    "\n",
    "def _Button(t): return Button(f\"{t} button\",cls=ButtonT.t)\n",
    "btns = L(ButtonT.__members__).map(_Button)\n",
    "btns"
   ]
  },
  {
   "cell_type": "markdown",
   "metadata": {},
   "source": [
    "**AI Response**\n",
    "\n",
    "Ah, I see the issue in your code. `ButtonT.t` isn't correct - you're trying to access a property `t` on `ButtonT`, but `t` is actually the variable in your function containing the member name.\n",
    "\n",
    "Instead, you should use `ButtonT[t]` or `getattr(ButtonT, t)` to look up the enum member by name. Would you like to try fixing this?"
   ]
  },
  {
   "cell_type": "code",
   "execution_count": null,
   "metadata": {},
   "outputs": [
    {
     "data": {
      "text/html": [
       "<div>\n",
       "<button type=\"submit\" class=\"uk-button uk-button-default\">default button</button><button type=\"submit\" class=\"uk-button uk-button-primary\">primary button</button><button type=\"submit\" class=\"uk-button uk-button-secondary\">secondary button</button><button type=\"submit\" class=\"uk-button uk-button-danger\">danger button</button><button type=\"submit\" class=\"uk-button uk-button-text\">text button</button><button type=\"submit\" class=\"uk-button uk-button-link\">link button</button><button type=\"submit\" class=\"uk-button uk-button-ghost\">ghost button</button></div>\n"
      ],
      "text/plain": [
       "<IPython.core.display.HTML object>"
      ]
     },
     "metadata": {},
     "output_type": "display_data"
    }
   ],
   "source": [
    "def _Button(t): return Button(f\"{t} button\",cls=ButtonT[t])\n",
    "btns = L(ButtonT.__members__).map(_Button)\n",
    "show(Div(*btns))"
   ]
  },
  {
   "cell_type": "markdown",
   "metadata": {},
   "source": [
    "## Improvements "
   ]
  },
  {
   "cell_type": "markdown",
   "metadata": {},
   "source": [
    "This part is from SolveIt office hours with Isaac Flath."
   ]
  },
  {
   "cell_type": "markdown",
   "metadata": {},
   "source": [
    "**AI Prompt**\n",
    "\n",
    "Is there any other way to get `ButtonT.__members__` in enum or otherwise?"
   ]
  },
  {
   "cell_type": "markdown",
   "metadata": {},
   "source": [
    "**AI Response**\n",
    "\n",
    "Yes! There are a few other ways to get enum members:\n",
    "\n",
    "1. Using `list(ButtonT)` - this gives you the values\n",
    "2. Using `ButtonT._member_names_` - this gives you just the names\n",
    "3. Using `ButtonT._member_map_` - similar to `__members__` but returns a regular dict\n",
    "\n",
    "Would you like to try any of these to see how they differ?"
   ]
  },
  {
   "cell_type": "code",
   "execution_count": null,
   "metadata": {},
   "outputs": [
    {
     "data": {
      "text/plain": [
       "'uk-button-default'"
      ]
     },
     "execution_count": null,
     "metadata": {},
     "output_type": "execute_result"
    }
   ],
   "source": [
    "list(ButtonT)[0].value"
   ]
  },
  {
   "cell_type": "code",
   "execution_count": null,
   "metadata": {},
   "outputs": [
    {
     "data": {
      "text/markdown": [
       "```html\n",
       "<div>\n",
       "<button type=\"submit\" class=\"uk-button uk-button-default\">uk-button-default</button><button type=\"submit\" class=\"uk-button uk-button-primary\">uk-button-primary</button><button type=\"submit\" class=\"uk-button uk-button-secondary\">uk-button-secondary</button><button type=\"submit\" class=\"uk-button uk-button-danger\">uk-button-danger</button><button type=\"submit\" class=\"uk-button uk-button-text\">uk-button-text</button><button type=\"submit\" class=\"uk-button uk-button-link\">uk-button-link</button><button type=\"submit\" class=\"uk-button uk-button-ghost\">uk-button-ghost</button></div>\n",
       "\n",
       "```"
      ],
      "text/plain": [
       "div((button((<ButtonT.default: 'uk-button-default'>,),{'type': 'submit', 'class': 'uk-button uk-button-default'}), button((<ButtonT.primary: 'uk-button-primary'>,),{'type': 'submit', 'class': 'uk-button uk-button-primary'}), button((<ButtonT.secondary: 'uk-button-secondary'>,),{'type': 'submit', 'class': 'uk-button uk-button-secondary'}), button((<ButtonT.danger: 'uk-button-danger'>,),{'type': 'submit', 'class': 'uk-button uk-button-danger'}), button((<ButtonT.text: 'uk-button-text'>,),{'type': 'submit', 'class': 'uk-button uk-button-text'}), button((<ButtonT.link: 'uk-button-link'>,),{'type': 'submit', 'class': 'uk-button uk-button-link'}), button((<ButtonT.ghost: 'uk-button-ghost'>,),{'type': 'submit', 'class': 'uk-button uk-button-ghost'})),{})"
      ]
     },
     "execution_count": null,
     "metadata": {},
     "output_type": "execute_result"
    }
   ],
   "source": [
    "Div(*[Button(v,cls=v) for v in list(ButtonT)])"
   ]
  },
  {
   "cell_type": "code",
   "execution_count": null,
   "metadata": {},
   "outputs": [
    {
     "data": {
      "text/html": [
       "<div>\n",
       "<button type=\"submit\" class=\"uk-button uk-button-default\">uk-button-default</button><button type=\"submit\" class=\"uk-button uk-button-primary\">uk-button-primary</button><button type=\"submit\" class=\"uk-button uk-button-secondary\">uk-button-secondary</button><button type=\"submit\" class=\"uk-button uk-button-danger\">uk-button-danger</button><button type=\"submit\" class=\"uk-button uk-button-text\">uk-button-text</button><button type=\"submit\" class=\"uk-button uk-button-link\">uk-button-link</button><button type=\"submit\" class=\"uk-button uk-button-ghost\">uk-button-ghost</button></div>\n"
      ],
      "text/plain": [
       "<IPython.core.display.HTML object>"
      ]
     },
     "metadata": {},
     "output_type": "display_data"
    }
   ],
   "source": [
    "show(Div(*[Button(v,cls=v) for v in list(ButtonT)]))"
   ]
  },
  {
   "cell_type": "code",
   "execution_count": null,
   "metadata": {},
   "outputs": [
    {
     "data": {
      "text/html": [
       "<div class=\"uk-flex uk-flex-left uk-flex-middle space-x-4\">\n",
       "<button type=\"submit\" class=\"uk-button uk-button-default\">uk-button-default</button><button type=\"submit\" class=\"uk-button uk-button-primary\">uk-button-primary</button><button type=\"submit\" class=\"uk-button uk-button-secondary\">uk-button-secondary</button><button type=\"submit\" class=\"uk-button uk-button-danger\">uk-button-danger</button><button type=\"submit\" class=\"uk-button uk-button-text\">uk-button-text</button><button type=\"submit\" class=\"uk-button uk-button-link\">uk-button-link</button><button type=\"submit\" class=\"uk-button uk-button-ghost\">uk-button-ghost</button></div>\n"
      ],
      "text/plain": [
       "<IPython.core.display.HTML object>"
      ]
     },
     "metadata": {},
     "output_type": "display_data"
    }
   ],
   "source": [
    "show(DivLAligned(*[Button(v,cls=v) for v in list(ButtonT)]))"
   ]
  },
  {
   "cell_type": "code",
   "execution_count": null,
   "metadata": {},
   "outputs": [
    {
     "data": {
      "text/html": [
       "<div class=\"grid grid-cols-1 sm:grid-cols-1 md:grid-cols-2 lg:grid-cols-3 xl:grid-cols-4 gap-4\">\n",
       "<button type=\"submit\" class=\"uk-button uk-button-default\">uk-button-default</button><button type=\"submit\" class=\"uk-button uk-button-primary\">uk-button-primary</button><button type=\"submit\" class=\"uk-button uk-button-secondary\">uk-button-secondary</button><button type=\"submit\" class=\"uk-button uk-button-danger\">uk-button-danger</button><button type=\"submit\" class=\"uk-button uk-button-text\">uk-button-text</button><button type=\"submit\" class=\"uk-button uk-button-link\">uk-button-link</button><button type=\"submit\" class=\"uk-button uk-button-ghost\">uk-button-ghost</button></div>\n"
      ],
      "text/plain": [
       "<IPython.core.display.HTML object>"
      ]
     },
     "metadata": {},
     "output_type": "display_data"
    }
   ],
   "source": [
    "show(Grid(*[Button(v,cls=v) for v in list(ButtonT)]))"
   ]
  }
 ],
 "metadata": {
  "kernelspec": {
   "display_name": "Python 3 (ipykernel)",
   "language": "python",
   "name": "python3"
  },
  "language_info": {
   "codemirror_mode": {
    "name": "ipython",
    "version": 3
   },
   "file_extension": ".py",
   "mimetype": "text/x-python",
   "name": "python",
   "nbconvert_exporter": "python",
   "pygments_lexer": "ipython3",
   "version": "3.12.8"
  }
 },
 "nbformat": 4,
 "nbformat_minor": 4
}
