{
 "cells": [
  {
   "cell_type": "markdown",
   "id": "a6a7d713",
   "metadata": {},
   "source": [
    "# Minimal Screen Recording on macOS: No Third-Party Apps Required"
   ]
  },
  {
   "cell_type": "markdown",
   "id": "4a8dd37c",
   "metadata": {},
   "source": [
    "How to record screen capture videos on Mac OS, using the screencapture command or the Cmd+Shift+5 shortcut. "
   ]
  },
  {
   "cell_type": "markdown",
   "id": "5fc00277",
   "metadata": {},
   "source": [
    "## Option 1: Command Line"
   ]
  },
  {
   "cell_type": "markdown",
   "id": "08269384",
   "metadata": {},
   "source": [
    "Capture a video recording (-v) with audio (-g) and save it as out.mov:\n",
    "\n",
    "```sh\n",
    "screencapture -v -g out.mov\n",
    "```"
   ]
  },
  {
   "cell_type": "markdown",
   "id": "2788a383",
   "metadata": {},
   "source": [
    "To stop, press any key in the terminal. "
   ]
  },
  {
   "cell_type": "markdown",
   "id": "01880e22",
   "metadata": {},
   "source": [
    "## Option 2: Keyboard Shortcut"
   ]
  },
  {
   "cell_type": "markdown",
   "id": "36e82b29",
   "metadata": {},
   "source": [
    "* Press Cmd+Shift+5\n",
    "* Make sure audio recording is on with the correct input. Then click the record button."
   ]
  },
  {
   "cell_type": "markdown",
   "id": "83a9913d",
   "metadata": {},
   "source": [
    "To stop, click the stop button in the top menu bar. "
   ]
  }
 ],
 "metadata": {
  "kernelspec": {
   "display_name": "Python 3 (ipykernel)",
   "language": "python",
   "name": "python3"
  },
  "language_info": {
   "codemirror_mode": {
    "name": "ipython",
    "version": 3
   },
   "file_extension": ".py",
   "mimetype": "text/x-python",
   "name": "python",
   "nbconvert_exporter": "python",
   "pygments_lexer": "ipython3",
   "version": "3.12.8"
  }
 },
 "nbformat": 4,
 "nbformat_minor": 5
}
