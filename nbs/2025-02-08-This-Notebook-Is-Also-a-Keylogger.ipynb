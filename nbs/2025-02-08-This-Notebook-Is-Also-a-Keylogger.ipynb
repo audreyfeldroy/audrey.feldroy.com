{
 "cells": [
  {
   "cell_type": "markdown",
   "id": "3d4a4cce",
   "metadata": {},
   "source": [
    "# This Notebook Is Also a Keylogger"
   ]
  },
  {
   "cell_type": "markdown",
   "id": "351e2b68",
   "metadata": {},
   "source": [
    "Here I play with using Pynput as a system level keylogger, from within my Jupyter notebook version of this."
   ]
  },
  {
   "cell_type": "code",
   "execution_count": 2,
   "id": "9da23f8a",
   "metadata": {},
   "outputs": [],
   "source": [
    "from pynput import keyboard "
   ]
  },
  {
   "cell_type": "markdown",
   "id": "0ad8ce71",
   "metadata": {},
   "source": [
    "## Print Key Presses and Releases"
   ]
  },
  {
   "cell_type": "code",
   "execution_count": 4,
   "id": "cce7ad0e",
   "metadata": {},
   "outputs": [],
   "source": [
    "def on_press(key):\n",
    "    try: print(key.char, end='', flush=True)\n",
    "    except AttributeError: print(key, end='', flush=True)"
   ]
  },
  {
   "cell_type": "code",
   "execution_count": 23,
   "id": "67652835",
   "metadata": {},
   "outputs": [],
   "source": [
    "def on_release(key):\n",
    "    print(f\"↑{key.char if hasattr(key, 'char') else key}\", end='', flush=True)\n",
    "    if key == keyboard.Key.esc: return False  # Stop listener"
   ]
  },
  {
   "cell_type": "markdown",
   "id": "87141d20",
   "metadata": {},
   "source": [
    "Yeah, I implemented them differently for variety, since this is all just for fun. The second feels nicer. "
   ]
  },
  {
   "cell_type": "markdown",
   "id": "73fbf6fa",
   "metadata": {},
   "source": [
    "## Listen (Non-Blocking)"
   ]
  },
  {
   "cell_type": "code",
   "execution_count": 24,
   "id": "b887c6c1",
   "metadata": {},
   "outputs": [
    {
     "name": "stdout",
     "output_type": "stream",
     "text": [
      "↑Key.enter↑Key.shifta↑aa↑aKey.enter↑Key.entera↑aaaaa↑aa↑as↑sKey.shift↑Key.shiftKey.shift_r↑Key.shift_rd↑dd↑dddddddddd↑dKey.esc↑Key.esc"
     ]
    }
   ],
   "source": [
    "listener = keyboard.Listener(on_press=on_press, on_release=on_release)\n",
    "listener.start()"
   ]
  }
 ],
 "metadata": {
  "kernelspec": {
   "display_name": "Python 3 (ipykernel)",
   "language": "python",
   "name": "python3"
  },
  "language_info": {
   "codemirror_mode": {
    "name": "ipython",
    "version": 3
   },
   "file_extension": ".py",
   "mimetype": "text/x-python",
   "name": "python",
   "nbconvert_exporter": "python",
   "pygments_lexer": "ipython3",
   "version": "3.12.8"
  }
 },
 "nbformat": 4,
 "nbformat_minor": 5
}
