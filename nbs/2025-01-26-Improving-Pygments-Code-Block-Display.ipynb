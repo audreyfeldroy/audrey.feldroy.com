{
 "cells": [
  {
   "cell_type": "markdown",
   "id": "d47db58b",
   "metadata": {},
   "source": [
    "# Improving Pygments Code Block Display"
   ]
  },
  {
   "cell_type": "markdown",
   "id": "7b32e05b",
   "metadata": {},
   "source": [
    "Using Pygments, CSS and Ruff to improve how code blocks are displayed on my daily notebook blog."
   ]
  },
  {
   "cell_type": "code",
   "execution_count": 163,
   "id": "85de07ae",
   "metadata": {},
   "outputs": [],
   "source": [
    "from execnb.nbio import read_nb\n",
    "from fasthtml.common import *\n",
    "from fasthtml.jupyter import JupyUvi\n",
    "from fastcore.utils import L\n",
    "import pygments\n",
    "from pygments import highlight\n",
    "from pygments.lexers import PythonLexer\n",
    "from pygments.formatters import HtmlFormatter"
   ]
  },
  {
   "cell_type": "markdown",
   "id": "a69dbc98",
   "metadata": {},
   "source": [
    "## Listing My Notebooks' File Paths"
   ]
  },
  {
   "cell_type": "markdown",
   "id": "53030dfb",
   "metadata": {},
   "source": [
    "My new favorite way of grabbing all my notebooks:\n",
    "\n",
    "* Set `root` based on if I'm in a notebook or not. (`IN_NOTEBOOK` comes from `fasthtml.common`)\n",
    "* Get a fastcore `L` list of my notebook paths sorted from newest to oldest"
   ]
  },
  {
   "cell_type": "code",
   "execution_count": 162,
   "id": "520e6339",
   "metadata": {},
   "outputs": [
    {
     "data": {
      "text/plain": [
       "(#50) [Path('2025-01-26-Improving-Pygments-Code-Block-Display.ipynb'),Path('2025-01-25-This-Site-Is-Now-Powered-by-This-Notebook-Part-2.ipynb'),Path('2025-01-24-Creating-In-Notebook-Images-for-Social-Media-With-PIL-Pillow.ipynb'),Path('2025-01-23-Troubleshooting-MonsterUI-on-This-Site.ipynb'),Path('2025-01-23-This-Site-Is-Now-Powered-by-This-Notebook.ipynb'),Path('2025-01-22-MonsterUI-Buttons-and-Links.ipynb'),Path('2025-01-22-Customizing-FastHTML-Headers-From-Notebook-Contents.ipynb'),Path('2025-01-21-SVG-Animation-in-FastHTML.ipynb'),Path('2025-01-20-Dark-and-Light-Mode-in-FastHTML.ipynb'),Path('2025-01-19-Genanki-and-fastcore.ipynb'),Path('2025-01-18-Alarm-Sounds-App.ipynb'),Path('2025-01-17-Alarm-Clock-Sounds.ipynb'),Path('2025-01-16-Cosine-Similarity-Breakdown-in-LaTeX.ipynb'),Path('2025-01-14-Constructing-SQLite-Tables-for-Notebooks-and-Search.ipynb'),Path('2025-01-13-SQLite-FTS5-Tokenizers-unicode61-and-ascii.ipynb'),Path('2025-01-12-A-Better-Notebook-Index-Page.ipynb'),Path('2025-01-11-NBClassic-Keyboard-Shortcuts-in-Command-and-Dual-Mode.ipynb'),Path('2025-01-10-Understanding-FastHTML-Routes-Requests-and-Redirects.ipynb'),Path('2025-01-09-Reading-and-Writing-Jupyter-Notebooks-With-Python.ipynb'),Path('2025-01-08-HTML-Title-Tag-in-FastHTML.ipynb')...]"
      ]
     },
     "execution_count": 162,
     "metadata": {},
     "output_type": "execute_result"
    }
   ],
   "source": [
    "root = Path() if IN_NOTEBOOK else Path(\"nbs/\")\n",
    "nb_paths = L(root.glob(\"*.ipynb\")).sorted(reverse=True)\n",
    "nb_paths"
   ]
  },
  {
   "cell_type": "markdown",
   "id": "c62e0b24",
   "metadata": {},
   "source": [
    "## Get Sample Cells to Work With"
   ]
  },
  {
   "cell_type": "markdown",
   "id": "c0c4b4ca",
   "metadata": {},
   "source": [
    "Here I grab a specific cell of a notebook that looks good to play with."
   ]
  },
  {
   "cell_type": "code",
   "execution_count": 103,
   "id": "bc817926",
   "metadata": {},
   "outputs": [],
   "source": [
    "nb = read_nb(nb_paths[10])"
   ]
  },
  {
   "cell_type": "code",
   "execution_count": 104,
   "id": "5e225078",
   "metadata": {},
   "outputs": [
    {
     "data": {
      "text/markdown": [
       "```json\n",
       "{ 'cell_type': 'code',\n",
       "  'execution_count': 16,\n",
       "  'id': '00540ad9',\n",
       "  'idx_': 10,\n",
       "  'metadata': {},\n",
       "  'outputs': [ { 'data': { 'text/plain': [ \"(#3) [['Magandang hapon', 'Good \"\n",
       "                                           \"afternoon'],['Magandang gabi', \"\n",
       "                                           \"'Good evening'],['Paalam', \"\n",
       "                                           \"'Goodbye']]\"]},\n",
       "                 'execution_count': 16,\n",
       "                 'metadata': {},\n",
       "                 'output_type': 'execute_result'}],\n",
       "  'source': \"notes = L(['Magandang hapon', 'Good afternoon'],\\n\"\n",
       "            \"    ['Magandang gabi', 'Good evening'],\\n\"\n",
       "            \"    ['Paalam', 'Goodbye'])\\n\"\n",
       "            'notes'}\n",
       "```"
      ],
      "text/plain": [
       "{'cell_type': 'code',\n",
       " 'execution_count': 16,\n",
       " 'id': '00540ad9',\n",
       " 'metadata': {},\n",
       " 'outputs': [{'data': {'text/plain': [\"(#3) [['Magandang hapon', 'Good afternoon'],['Magandang gabi', 'Good evening'],['Paalam', 'Goodbye']]\"]},\n",
       "   'execution_count': 16,\n",
       "   'metadata': {},\n",
       "   'output_type': 'execute_result'}],\n",
       " 'source': \"notes = L(['Magandang hapon', 'Good afternoon'],\\n    ['Magandang gabi', 'Good evening'],\\n    ['Paalam', 'Goodbye'])\\nnotes\",\n",
       " 'idx_': 10}"
      ]
     },
     "execution_count": 104,
     "metadata": {},
     "output_type": "execute_result"
    }
   ],
   "source": [
    "def is_code(c): return c.cell_type=='code'\n",
    "c = L(nb.cells).filter(is_code)[3]\n",
    "c"
   ]
  },
  {
   "cell_type": "markdown",
   "id": "3d19c43c",
   "metadata": {},
   "source": [
    "## Style the Cell"
   ]
  },
  {
   "cell_type": "markdown",
   "id": "c326815d",
   "metadata": {},
   "source": [
    "My FT function for styling cells that I built up to in [How I Fixed CSS Scope Leakage in Pygments Syntax Highlighting](https://audrey.feldroy.com/nbs/2024-12-27-CSS-Scope-Leakage-Pygments):"
   ]
  },
  {
   "cell_type": "code",
   "execution_count": 105,
   "id": "24dcfbd6",
   "metadata": {},
   "outputs": [],
   "source": [
    "def StyledCode(c, style='monokai'):\n",
    "    \"A notebook cell styled as code, with style name as its css class for scope limiting\"\n",
    "    fm = HtmlFormatter(style=style, cssclass=style)\n",
    "    h = highlight(c, PythonLexer(), fm)\n",
    "    sd = fm.get_style_defs(f\".{style}\")\n",
    "    return Div(Style(sd), NotStr(h), id=style)"
   ]
  },
  {
   "cell_type": "code",
   "execution_count": 106,
   "id": "33c09adf",
   "metadata": {},
   "outputs": [
    {
     "data": {
      "text/html": [
       "<div id=\"monokai\">\n",
       "  <style>pre { line-height: 125%; }\n",
       "td.linenos .normal { color: inherit; background-color: transparent; padding-left: 5px; padding-right: 5px; }\n",
       "span.linenos { color: inherit; background-color: transparent; padding-left: 5px; padding-right: 5px; }\n",
       "td.linenos .special { color: #000000; background-color: #ffffc0; padding-left: 5px; padding-right: 5px; }\n",
       "span.linenos.special { color: #000000; background-color: #ffffc0; padding-left: 5px; padding-right: 5px; }\n",
       ".monokai .hll { background-color: #49483e }\n",
       ".monokai { background: #272822; color: #F8F8F2 }\n",
       ".monokai .c { color: #959077 } /* Comment */\n",
       ".monokai .err { color: #ED007E; background-color: #1E0010 } /* Error */\n",
       ".monokai .esc { color: #F8F8F2 } /* Escape */\n",
       ".monokai .g { color: #F8F8F2 } /* Generic */\n",
       ".monokai .k { color: #66D9EF } /* Keyword */\n",
       ".monokai .l { color: #AE81FF } /* Literal */\n",
       ".monokai .n { color: #F8F8F2 } /* Name */\n",
       ".monokai .o { color: #FF4689 } /* Operator */\n",
       ".monokai .x { color: #F8F8F2 } /* Other */\n",
       ".monokai .p { color: #F8F8F2 } /* Punctuation */\n",
       ".monokai .ch { color: #959077 } /* Comment.Hashbang */\n",
       ".monokai .cm { color: #959077 } /* Comment.Multiline */\n",
       ".monokai .cp { color: #959077 } /* Comment.Preproc */\n",
       ".monokai .cpf { color: #959077 } /* Comment.PreprocFile */\n",
       ".monokai .c1 { color: #959077 } /* Comment.Single */\n",
       ".monokai .cs { color: #959077 } /* Comment.Special */\n",
       ".monokai .gd { color: #FF4689 } /* Generic.Deleted */\n",
       ".monokai .ge { color: #F8F8F2; font-style: italic } /* Generic.Emph */\n",
       ".monokai .ges { color: #F8F8F2; font-weight: bold; font-style: italic } /* Generic.EmphStrong */\n",
       ".monokai .gr { color: #F8F8F2 } /* Generic.Error */\n",
       ".monokai .gh { color: #F8F8F2 } /* Generic.Heading */\n",
       ".monokai .gi { color: #A6E22E } /* Generic.Inserted */\n",
       ".monokai .go { color: #66D9EF } /* Generic.Output */\n",
       ".monokai .gp { color: #FF4689; font-weight: bold } /* Generic.Prompt */\n",
       ".monokai .gs { color: #F8F8F2; font-weight: bold } /* Generic.Strong */\n",
       ".monokai .gu { color: #959077 } /* Generic.Subheading */\n",
       ".monokai .gt { color: #F8F8F2 } /* Generic.Traceback */\n",
       ".monokai .kc { color: #66D9EF } /* Keyword.Constant */\n",
       ".monokai .kd { color: #66D9EF } /* Keyword.Declaration */\n",
       ".monokai .kn { color: #FF4689 } /* Keyword.Namespace */\n",
       ".monokai .kp { color: #66D9EF } /* Keyword.Pseudo */\n",
       ".monokai .kr { color: #66D9EF } /* Keyword.Reserved */\n",
       ".monokai .kt { color: #66D9EF } /* Keyword.Type */\n",
       ".monokai .ld { color: #E6DB74 } /* Literal.Date */\n",
       ".monokai .m { color: #AE81FF } /* Literal.Number */\n",
       ".monokai .s { color: #E6DB74 } /* Literal.String */\n",
       ".monokai .na { color: #A6E22E } /* Name.Attribute */\n",
       ".monokai .nb { color: #F8F8F2 } /* Name.Builtin */\n",
       ".monokai .nc { color: #A6E22E } /* Name.Class */\n",
       ".monokai .no { color: #66D9EF } /* Name.Constant */\n",
       ".monokai .nd { color: #A6E22E } /* Name.Decorator */\n",
       ".monokai .ni { color: #F8F8F2 } /* Name.Entity */\n",
       ".monokai .ne { color: #A6E22E } /* Name.Exception */\n",
       ".monokai .nf { color: #A6E22E } /* Name.Function */\n",
       ".monokai .nl { color: #F8F8F2 } /* Name.Label */\n",
       ".monokai .nn { color: #F8F8F2 } /* Name.Namespace */\n",
       ".monokai .nx { color: #A6E22E } /* Name.Other */\n",
       ".monokai .py { color: #F8F8F2 } /* Name.Property */\n",
       ".monokai .nt { color: #FF4689 } /* Name.Tag */\n",
       ".monokai .nv { color: #F8F8F2 } /* Name.Variable */\n",
       ".monokai .ow { color: #FF4689 } /* Operator.Word */\n",
       ".monokai .pm { color: #F8F8F2 } /* Punctuation.Marker */\n",
       ".monokai .w { color: #F8F8F2 } /* Text.Whitespace */\n",
       ".monokai .mb { color: #AE81FF } /* Literal.Number.Bin */\n",
       ".monokai .mf { color: #AE81FF } /* Literal.Number.Float */\n",
       ".monokai .mh { color: #AE81FF } /* Literal.Number.Hex */\n",
       ".monokai .mi { color: #AE81FF } /* Literal.Number.Integer */\n",
       ".monokai .mo { color: #AE81FF } /* Literal.Number.Oct */\n",
       ".monokai .sa { color: #E6DB74 } /* Literal.String.Affix */\n",
       ".monokai .sb { color: #E6DB74 } /* Literal.String.Backtick */\n",
       ".monokai .sc { color: #E6DB74 } /* Literal.String.Char */\n",
       ".monokai .dl { color: #E6DB74 } /* Literal.String.Delimiter */\n",
       ".monokai .sd { color: #E6DB74 } /* Literal.String.Doc */\n",
       ".monokai .s2 { color: #E6DB74 } /* Literal.String.Double */\n",
       ".monokai .se { color: #AE81FF } /* Literal.String.Escape */\n",
       ".monokai .sh { color: #E6DB74 } /* Literal.String.Heredoc */\n",
       ".monokai .si { color: #E6DB74 } /* Literal.String.Interpol */\n",
       ".monokai .sx { color: #E6DB74 } /* Literal.String.Other */\n",
       ".monokai .sr { color: #E6DB74 } /* Literal.String.Regex */\n",
       ".monokai .s1 { color: #E6DB74 } /* Literal.String.Single */\n",
       ".monokai .ss { color: #E6DB74 } /* Literal.String.Symbol */\n",
       ".monokai .bp { color: #F8F8F2 } /* Name.Builtin.Pseudo */\n",
       ".monokai .fm { color: #A6E22E } /* Name.Function.Magic */\n",
       ".monokai .vc { color: #F8F8F2 } /* Name.Variable.Class */\n",
       ".monokai .vg { color: #F8F8F2 } /* Name.Variable.Global */\n",
       ".monokai .vi { color: #F8F8F2 } /* Name.Variable.Instance */\n",
       ".monokai .vm { color: #F8F8F2 } /* Name.Variable.Magic */\n",
       ".monokai .il { color: #AE81FF } /* Literal.Number.Integer.Long */</style>\n",
       "<div class=\"monokai\"><pre><span></span><span class=\"n\">notes</span> <span class=\"o\">=</span> <span class=\"n\">L</span><span class=\"p\">([</span><span class=\"s1\">&#39;Magandang hapon&#39;</span><span class=\"p\">,</span> <span class=\"s1\">&#39;Good afternoon&#39;</span><span class=\"p\">],</span>\n",
       "    <span class=\"p\">[</span><span class=\"s1\">&#39;Magandang gabi&#39;</span><span class=\"p\">,</span> <span class=\"s1\">&#39;Good evening&#39;</span><span class=\"p\">],</span>\n",
       "    <span class=\"p\">[</span><span class=\"s1\">&#39;Paalam&#39;</span><span class=\"p\">,</span> <span class=\"s1\">&#39;Goodbye&#39;</span><span class=\"p\">])</span>\n",
       "<span class=\"n\">notes</span>\n",
       "</pre></div>\n",
       "</div>\n"
      ],
      "text/plain": [
       "<IPython.core.display.HTML object>"
      ]
     },
     "metadata": {},
     "output_type": "display_data"
    }
   ],
   "source": [
    "show(StyledCode(c.source))"
   ]
  },
  {
   "cell_type": "markdown",
   "id": "3d5d011d",
   "metadata": {},
   "source": [
    "## Pad the Cell"
   ]
  },
  {
   "cell_type": "markdown",
   "id": "bd1ef5a0",
   "metadata": {},
   "source": [
    "I just want to pad the top and bottom with 10 pixels here."
   ]
  },
  {
   "cell_type": "code",
   "execution_count": 138,
   "id": "70f57b03",
   "metadata": {},
   "outputs": [],
   "source": [
    "def StyledCode(c, style='monokai'):\n",
    "    \"A notebook cell styled as code, with style name as its css class for scope limiting\"\n",
    "    fm = HtmlFormatter(style=style, cssclass=f\"my-{style}\", prestyles=\"padding:10px 0;\")\n",
    "    h = highlight(c, PythonLexer(), fm)\n",
    "    sd = fm.get_style_defs(f\".my-{style}\")\n",
    "    return Style(sd), NotStr(h)"
   ]
  },
  {
   "cell_type": "markdown",
   "id": "fc5c17ad",
   "metadata": {},
   "source": [
    "Pygments lets you add inline styles to `<pre>`. That's nice."
   ]
  },
  {
   "cell_type": "code",
   "execution_count": 139,
   "id": "01569b98",
   "metadata": {},
   "outputs": [],
   "source": [
    "st, sc = StyledCode(c.source)"
   ]
  },
  {
   "cell_type": "code",
   "execution_count": 140,
   "id": "9268718b",
   "metadata": {},
   "outputs": [
    {
     "data": {
      "text/markdown": [
       "```html\n",
       "<div><div class=\"my-monokai\"><pre style=\"padding:10px 0;\"><span></span><span class=\"n\">notes</span> <span class=\"o\">=</span> <span class=\"n\">L</span><span class=\"p\">([</span><span class=\"s1\">&#39;Magandang hapon&#39;</span><span class=\"p\">,</span> <span class=\"s1\">&#39;Good afternoon&#39;</span><span class=\"p\">],</span>\n",
       "    <span class=\"p\">[</span><span class=\"s1\">&#39;Magandang gabi&#39;</span><span class=\"p\">,</span> <span class=\"s1\">&#39;Good evening&#39;</span><span class=\"p\">],</span>\n",
       "    <span class=\"p\">[</span><span class=\"s1\">&#39;Paalam&#39;</span><span class=\"p\">,</span> <span class=\"s1\">&#39;Goodbye&#39;</span><span class=\"p\">])</span>\n",
       "<span class=\"n\">notes</span>\n",
       "</pre></div>\n",
       "</div>\n",
       "\n",
       "```"
      ],
      "text/plain": [
       "div(('<div class=\"my-monokai\"><pre style=\"padding:10px 0;\"><span></span><span class=\"n\">notes</span> <span class=\"o\">=</span> <span class=\"n\">L</span><span class=\"p\">([</span><span class=\"s1\">&#39;Magandang hapon&#39;</span><span class=\"p\">,</span> <span class=\"s1\">&#39;Good afternoon&#39;</span><span class=\"p\">],</span>\\n    <span class=\"p\">[</span><span class=\"s1\">&#39;Magandang gabi&#39;</span><span class=\"p\">,</span> <span class=\"s1\">&#39;Good evening&#39;</span><span class=\"p\">],</span>\\n    <span class=\"p\">[</span><span class=\"s1\">&#39;Paalam&#39;</span><span class=\"p\">,</span> <span class=\"s1\">&#39;Goodbye&#39;</span><span class=\"p\">])</span>\\n<span class=\"n\">notes</span>\\n</pre></div>\\n',),{})"
      ]
     },
     "execution_count": 140,
     "metadata": {},
     "output_type": "execute_result"
    }
   ],
   "source": [
    "Div(sc)"
   ]
  },
  {
   "cell_type": "code",
   "execution_count": 141,
   "id": "eb66dea2",
   "metadata": {},
   "outputs": [
    {
     "data": {
      "text/html": [
       "<style>pre { line-height: 125%; }\n",
       "td.linenos .normal { color: inherit; background-color: transparent; padding-left: 5px; padding-right: 5px; }\n",
       "span.linenos { color: inherit; background-color: transparent; padding-left: 5px; padding-right: 5px; }\n",
       "td.linenos .special { color: #000000; background-color: #ffffc0; padding-left: 5px; padding-right: 5px; }\n",
       "span.linenos.special { color: #000000; background-color: #ffffc0; padding-left: 5px; padding-right: 5px; }\n",
       ".my-monokai .hll { background-color: #49483e }\n",
       ".my-monokai { background: #272822; color: #F8F8F2 }\n",
       ".my-monokai .c { color: #959077 } /* Comment */\n",
       ".my-monokai .err { color: #ED007E; background-color: #1E0010 } /* Error */\n",
       ".my-monokai .esc { color: #F8F8F2 } /* Escape */\n",
       ".my-monokai .g { color: #F8F8F2 } /* Generic */\n",
       ".my-monokai .k { color: #66D9EF } /* Keyword */\n",
       ".my-monokai .l { color: #AE81FF } /* Literal */\n",
       ".my-monokai .n { color: #F8F8F2 } /* Name */\n",
       ".my-monokai .o { color: #FF4689 } /* Operator */\n",
       ".my-monokai .x { color: #F8F8F2 } /* Other */\n",
       ".my-monokai .p { color: #F8F8F2 } /* Punctuation */\n",
       ".my-monokai .ch { color: #959077 } /* Comment.Hashbang */\n",
       ".my-monokai .cm { color: #959077 } /* Comment.Multiline */\n",
       ".my-monokai .cp { color: #959077 } /* Comment.Preproc */\n",
       ".my-monokai .cpf { color: #959077 } /* Comment.PreprocFile */\n",
       ".my-monokai .c1 { color: #959077 } /* Comment.Single */\n",
       ".my-monokai .cs { color: #959077 } /* Comment.Special */\n",
       ".my-monokai .gd { color: #FF4689 } /* Generic.Deleted */\n",
       ".my-monokai .ge { color: #F8F8F2; font-style: italic } /* Generic.Emph */\n",
       ".my-monokai .ges { color: #F8F8F2; font-weight: bold; font-style: italic } /* Generic.EmphStrong */\n",
       ".my-monokai .gr { color: #F8F8F2 } /* Generic.Error */\n",
       ".my-monokai .gh { color: #F8F8F2 } /* Generic.Heading */\n",
       ".my-monokai .gi { color: #A6E22E } /* Generic.Inserted */\n",
       ".my-monokai .go { color: #66D9EF } /* Generic.Output */\n",
       ".my-monokai .gp { color: #FF4689; font-weight: bold } /* Generic.Prompt */\n",
       ".my-monokai .gs { color: #F8F8F2; font-weight: bold } /* Generic.Strong */\n",
       ".my-monokai .gu { color: #959077 } /* Generic.Subheading */\n",
       ".my-monokai .gt { color: #F8F8F2 } /* Generic.Traceback */\n",
       ".my-monokai .kc { color: #66D9EF } /* Keyword.Constant */\n",
       ".my-monokai .kd { color: #66D9EF } /* Keyword.Declaration */\n",
       ".my-monokai .kn { color: #FF4689 } /* Keyword.Namespace */\n",
       ".my-monokai .kp { color: #66D9EF } /* Keyword.Pseudo */\n",
       ".my-monokai .kr { color: #66D9EF } /* Keyword.Reserved */\n",
       ".my-monokai .kt { color: #66D9EF } /* Keyword.Type */\n",
       ".my-monokai .ld { color: #E6DB74 } /* Literal.Date */\n",
       ".my-monokai .m { color: #AE81FF } /* Literal.Number */\n",
       ".my-monokai .s { color: #E6DB74 } /* Literal.String */\n",
       ".my-monokai .na { color: #A6E22E } /* Name.Attribute */\n",
       ".my-monokai .nb { color: #F8F8F2 } /* Name.Builtin */\n",
       ".my-monokai .nc { color: #A6E22E } /* Name.Class */\n",
       ".my-monokai .no { color: #66D9EF } /* Name.Constant */\n",
       ".my-monokai .nd { color: #A6E22E } /* Name.Decorator */\n",
       ".my-monokai .ni { color: #F8F8F2 } /* Name.Entity */\n",
       ".my-monokai .ne { color: #A6E22E } /* Name.Exception */\n",
       ".my-monokai .nf { color: #A6E22E } /* Name.Function */\n",
       ".my-monokai .nl { color: #F8F8F2 } /* Name.Label */\n",
       ".my-monokai .nn { color: #F8F8F2 } /* Name.Namespace */\n",
       ".my-monokai .nx { color: #A6E22E } /* Name.Other */\n",
       ".my-monokai .py { color: #F8F8F2 } /* Name.Property */\n",
       ".my-monokai .nt { color: #FF4689 } /* Name.Tag */\n",
       ".my-monokai .nv { color: #F8F8F2 } /* Name.Variable */\n",
       ".my-monokai .ow { color: #FF4689 } /* Operator.Word */\n",
       ".my-monokai .pm { color: #F8F8F2 } /* Punctuation.Marker */\n",
       ".my-monokai .w { color: #F8F8F2 } /* Text.Whitespace */\n",
       ".my-monokai .mb { color: #AE81FF } /* Literal.Number.Bin */\n",
       ".my-monokai .mf { color: #AE81FF } /* Literal.Number.Float */\n",
       ".my-monokai .mh { color: #AE81FF } /* Literal.Number.Hex */\n",
       ".my-monokai .mi { color: #AE81FF } /* Literal.Number.Integer */\n",
       ".my-monokai .mo { color: #AE81FF } /* Literal.Number.Oct */\n",
       ".my-monokai .sa { color: #E6DB74 } /* Literal.String.Affix */\n",
       ".my-monokai .sb { color: #E6DB74 } /* Literal.String.Backtick */\n",
       ".my-monokai .sc { color: #E6DB74 } /* Literal.String.Char */\n",
       ".my-monokai .dl { color: #E6DB74 } /* Literal.String.Delimiter */\n",
       ".my-monokai .sd { color: #E6DB74 } /* Literal.String.Doc */\n",
       ".my-monokai .s2 { color: #E6DB74 } /* Literal.String.Double */\n",
       ".my-monokai .se { color: #AE81FF } /* Literal.String.Escape */\n",
       ".my-monokai .sh { color: #E6DB74 } /* Literal.String.Heredoc */\n",
       ".my-monokai .si { color: #E6DB74 } /* Literal.String.Interpol */\n",
       ".my-monokai .sx { color: #E6DB74 } /* Literal.String.Other */\n",
       ".my-monokai .sr { color: #E6DB74 } /* Literal.String.Regex */\n",
       ".my-monokai .s1 { color: #E6DB74 } /* Literal.String.Single */\n",
       ".my-monokai .ss { color: #E6DB74 } /* Literal.String.Symbol */\n",
       ".my-monokai .bp { color: #F8F8F2 } /* Name.Builtin.Pseudo */\n",
       ".my-monokai .fm { color: #A6E22E } /* Name.Function.Magic */\n",
       ".my-monokai .vc { color: #F8F8F2 } /* Name.Variable.Class */\n",
       ".my-monokai .vg { color: #F8F8F2 } /* Name.Variable.Global */\n",
       ".my-monokai .vi { color: #F8F8F2 } /* Name.Variable.Instance */\n",
       ".my-monokai .vm { color: #F8F8F2 } /* Name.Variable.Magic */\n",
       ".my-monokai .il { color: #AE81FF } /* Literal.Number.Integer.Long */</style>\n",
       "<div class=\"my-monokai\"><pre style=\"padding:10px 0;\"><span></span><span class=\"n\">notes</span> <span class=\"o\">=</span> <span class=\"n\">L</span><span class=\"p\">([</span><span class=\"s1\">&#39;Magandang hapon&#39;</span><span class=\"p\">,</span> <span class=\"s1\">&#39;Good afternoon&#39;</span><span class=\"p\">],</span>\n",
       "    <span class=\"p\">[</span><span class=\"s1\">&#39;Magandang gabi&#39;</span><span class=\"p\">,</span> <span class=\"s1\">&#39;Good evening&#39;</span><span class=\"p\">],</span>\n",
       "    <span class=\"p\">[</span><span class=\"s1\">&#39;Paalam&#39;</span><span class=\"p\">,</span> <span class=\"s1\">&#39;Goodbye&#39;</span><span class=\"p\">])</span>\n",
       "<span class=\"n\">notes</span>\n",
       "</pre></div>\n"
      ],
      "text/plain": [
       "<IPython.core.display.HTML object>"
      ]
     },
     "metadata": {},
     "output_type": "display_data"
    }
   ],
   "source": [
    "show(StyledCode(c.source))"
   ]
  },
  {
   "cell_type": "markdown",
   "id": "35590691",
   "metadata": {},
   "source": [
    "Success: the code is padded on top and bottom with 10px now."
   ]
  },
  {
   "cell_type": "markdown",
   "id": "9163f628",
   "metadata": {},
   "source": [
    "## Limiting Line Length on Mobile Devices"
   ]
  },
  {
   "cell_type": "markdown",
   "id": "be9cc4f8",
   "metadata": {},
   "source": [
    "On my phone I counted that 52 characters is the maximum I can read on a line of code, before having to scroll. Let's see if Ruff's textwrap breaks lines in a way that keeps Python code valid."
   ]
  },
  {
   "cell_type": "code",
   "execution_count": 153,
   "id": "18542486",
   "metadata": {},
   "outputs": [],
   "source": [
    "def wrap_text(text, width=52):\n",
    "    wrapper = textwrap.TextWrapper(width=width)\n",
    "    wrapped_text = wrapper.fill(text)\n",
    "    return wrapped_text"
   ]
  },
  {
   "cell_type": "code",
   "execution_count": 154,
   "id": "b504c274",
   "metadata": {},
   "outputs": [
    {
     "name": "stdout",
     "output_type": "stream",
     "text": [
      "notes = L(['Magandang hapon', 'Good afternoon'],\n",
      "['Magandang gabi', 'Good evening'],     ['Paalam',\n",
      "'Goodbye']) notes\n"
     ]
    }
   ],
   "source": [
    "wrapped_text = wrap_text(c.source)\n",
    "print(wrapped_text)"
   ]
  },
  {
   "cell_type": "code",
   "execution_count": 160,
   "id": "97eeda32",
   "metadata": {},
   "outputs": [
    {
     "name": "stdout",
     "output_type": "stream",
     "text": [
      "notes = L(['Magandang hapon', 'Good\n",
      "afternoon'],     ['Magandang gabi', 'Good\n",
      "evening'],     ['Paalam', 'Goodbye']) notes\n"
     ]
    }
   ],
   "source": [
    "wrapped_text = wrap_text(c.source, width=43)\n",
    "print(wrapped_text)"
   ]
  },
  {
   "cell_type": "markdown",
   "id": "cec1026d",
   "metadata": {},
   "source": [
    "## Next Steps\n",
    "\n",
    "If I continue this approach, the next steps will be:\n",
    "\n",
    "* Find another way to wrap lines while ensuring they're still valid Python after wrapping\n",
    "* Choose line length to return based on User-Agent header\n",
    "* Put it all together\n",
    "\n",
    "Or I may just implement the padding and move on. We'll see."
   ]
  }
 ],
 "metadata": {
  "kernelspec": {
   "display_name": "Python 3 (ipykernel)",
   "language": "python",
   "name": "python3"
  },
  "language_info": {
   "codemirror_mode": {
    "name": "ipython",
    "version": 3
   },
   "file_extension": ".py",
   "mimetype": "text/x-python",
   "name": "python",
   "nbconvert_exporter": "python",
   "pygments_lexer": "ipython3",
   "version": "3.12.8"
  }
 },
 "nbformat": 4,
 "nbformat_minor": 5
}
