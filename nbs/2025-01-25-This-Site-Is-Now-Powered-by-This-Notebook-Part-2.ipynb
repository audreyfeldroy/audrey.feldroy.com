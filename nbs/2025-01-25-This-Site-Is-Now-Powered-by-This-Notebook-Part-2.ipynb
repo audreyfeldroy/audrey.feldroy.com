{
 "cells": [
  {
   "cell_type": "markdown",
   "id": "04f1c283",
   "metadata": {},
   "source": [
    "# This Site Is Now Powered by This Notebook, Part 2"
   ]
  },
  {
   "cell_type": "markdown",
   "id": "0cb385d4",
   "metadata": {},
   "source": [
    "Here I clean up the code, back-integrate the manual fixes I've since made, and reduce the steps it takes to export."
   ]
  },
  {
   "cell_type": "code",
   "execution_count": 1,
   "id": "0eb85e85",
   "metadata": {},
   "outputs": [],
   "source": [
    "#| default_exp main"
   ]
  },
  {
   "cell_type": "code",
   "execution_count": 65,
   "id": "add19f62",
   "metadata": {},
   "outputs": [],
   "source": [
    "#| export\n",
    "from datetime import datetime\n",
    "from execnb.nbio import read_nb\n",
    "from nb2fasthtml.core import render_code_output\n",
    "from fasthtml.common import *\n",
    "from fasthtml.jupyter import *\n",
    "from importlib.metadata import distributions\n",
    "from IPython.display import display, HTML\n",
    "from monsterui import franken\n",
    "from monsterui.all import Theme\n",
    "import mistletoe\n",
    "import pygments\n",
    "from pygments import highlight\n",
    "from pygments.lexers import PythonLexer\n",
    "from pygments.formatters import HtmlFormatter"
   ]
  },
  {
   "cell_type": "code",
   "execution_count": 41,
   "id": "0aede159",
   "metadata": {},
   "outputs": [
    {
     "data": {
      "text/plain": [
       "True"
      ]
     },
     "execution_count": 41,
     "metadata": {},
     "output_type": "execute_result"
    }
   ],
   "source": [
    "IN_NOTEBOOK"
   ]
  },
  {
   "cell_type": "markdown",
   "id": "62baa1df",
   "metadata": {},
   "source": [
    "## Setup"
   ]
  },
  {
   "cell_type": "code",
   "execution_count": 42,
   "id": "f620a8b3",
   "metadata": {},
   "outputs": [],
   "source": [
    "#| export\n",
    "app,rt = fast_app(pico=False)"
   ]
  },
  {
   "cell_type": "code",
   "execution_count": 74,
   "id": "ef898649",
   "metadata": {},
   "outputs": [
    {
     "data": {
      "text/html": [
       "\n",
       "<script>\n",
       "document.body.addEventListener('htmx:configRequest', (event) => {\n",
       "    if(event.detail.path.includes('://')) return;\n",
       "    htmx.config.selfRequestsOnly=false;\n",
       "    event.detail.path = `${location.protocol}//${location.hostname}:8000${event.detail.path}`;\n",
       "});\n",
       "</script>"
      ],
      "text/plain": [
       "<IPython.core.display.HTML object>"
      ]
     },
     "metadata": {},
     "output_type": "display_data"
    }
   ],
   "source": [
    "server = JupyUvi(app)"
   ]
  },
  {
   "cell_type": "markdown",
   "id": "6e42d290",
   "metadata": {},
   "source": [
    "## Utilities"
   ]
  },
  {
   "cell_type": "code",
   "execution_count": 44,
   "id": "86b59795",
   "metadata": {},
   "outputs": [],
   "source": [
    "#| export\n",
    "def get_nb_paths(): \n",
    "    if IN_NOTEBOOK:\n",
    "        return L(sorted(Path().glob(\"*.ipynb\"), reverse=True))\n",
    "    return L(sorted(Path(\"nbs/\").glob(\"*.ipynb\"), reverse=True))"
   ]
  },
  {
   "cell_type": "code",
   "execution_count": 45,
   "id": "5fa48a4c",
   "metadata": {},
   "outputs": [
    {
     "data": {
      "text/plain": [
       "(#49) [Path('2025-01-25-This-Site-Is-Now-Powered-by-This-Notebook-Part-2.ipynb'),Path('2025-01-24-Creating-In-Notebook-Images-for-Social-Media-With-PIL-Pillow.ipynb'),Path('2025-01-23-Troubleshooting-MonsterUI-on-This-Site.ipynb'),Path('2025-01-23-This-Site-Is-Now-Powered-by-This-Notebook.ipynb'),Path('2025-01-22-MonsterUI-Buttons-and-Links.ipynb'),Path('2025-01-22-Customizing-FastHTML-Headers-From-Notebook-Contents.ipynb'),Path('2025-01-21-SVG-Animation-in-FastHTML.ipynb'),Path('2025-01-20-Dark-and-Light-Mode-in-FastHTML.ipynb'),Path('2025-01-19-Genanki-and-fastcore.ipynb'),Path('2025-01-18-Alarm-Sounds-App.ipynb'),Path('2025-01-17-Alarm-Clock-Sounds.ipynb'),Path('2025-01-16-Cosine-Similarity-Breakdown-in-LaTeX.ipynb'),Path('2025-01-14-Constructing-SQLite-Tables-for-Notebooks-and-Search.ipynb'),Path('2025-01-13-SQLite-FTS5-Tokenizers-unicode61-and-ascii.ipynb'),Path('2025-01-12-A-Better-Notebook-Index-Page.ipynb'),Path('2025-01-11-NBClassic-Keyboard-Shortcuts-in-Command-and-Dual-Mode.ipynb'),Path('2025-01-10-Understanding-FastHTML-Routes-Requests-and-Redirects.ipynb'),Path('2025-01-09-Reading-and-Writing-Jupyter-Notebooks-With-Python.ipynb'),Path('2025-01-08-HTML-Title-Tag-in-FastHTML.ipynb'),Path('2025-01-07-Verifying-Bluesky-Domain-in-FastHTML.ipynb')...]"
      ]
     },
     "execution_count": 45,
     "metadata": {},
     "output_type": "execute_result"
    }
   ],
   "source": [
    "nb_paths = get_nb_paths()\n",
    "nb_paths"
   ]
  },
  {
   "cell_type": "code",
   "execution_count": 46,
   "id": "276f6cf6",
   "metadata": {},
   "outputs": [],
   "source": [
    "#| export\n",
    "def get_title_and_desc(fpath):\n",
    "    nb = read_nb(fpath)\n",
    "    title = nb.cells[0].source.lstrip(\"# \")\n",
    "    desc = nb.cells[1].source\n",
    "    return title,desc"
   ]
  },
  {
   "cell_type": "code",
   "execution_count": 47,
   "id": "4af76a99",
   "metadata": {},
   "outputs": [
    {
     "data": {
      "text/plain": [
       "('This Site Is Now Powered by This Notebook, Part 2',\n",
       " \"Here I clean up the code, back-integrate the manual fixes I've since made, and reduce the steps it takes to export.\")"
      ]
     },
     "execution_count": 47,
     "metadata": {},
     "output_type": "execute_result"
    }
   ],
   "source": [
    "get_title_and_desc(nb_paths[0])"
   ]
  },
  {
   "cell_type": "code",
   "execution_count": 48,
   "id": "2e2447f8",
   "metadata": {},
   "outputs": [],
   "source": [
    "#| export\n",
    "def get_date_from_iso8601_prefix(fname):\n",
    "    \"Gets date from first 10 chars YYYY-MM-DD of `fname`, where `fname` is like `2025-01-12-Get-Date-From-This.whatever\"\n",
    "    try:\n",
    "        return datetime.fromisoformat(str(fname)[0:10])\n",
    "    except ValueError: return None"
   ]
  },
  {
   "cell_type": "code",
   "execution_count": 49,
   "id": "62de68ef",
   "metadata": {},
   "outputs": [
    {
     "data": {
      "text/plain": [
       "datetime.datetime(2025, 1, 25, 0, 0)"
      ]
     },
     "execution_count": 49,
     "metadata": {},
     "output_type": "execute_result"
    }
   ],
   "source": [
    "date = get_date_from_iso8601_prefix(nb_paths[0].name)\n",
    "date"
   ]
  },
  {
   "cell_type": "markdown",
   "id": "334c90d4",
   "metadata": {},
   "source": [
    "## Notebook Cards"
   ]
  },
  {
   "cell_type": "code",
   "execution_count": 50,
   "id": "808592df",
   "metadata": {},
   "outputs": [],
   "source": [
    "#| export\n",
    "def NBCard(title,desc,href,date):\n",
    "    return A(\n",
    "        franken.Card(\n",
    "        franken.CardTitle(franken.H3(title)), \n",
    "        franken.PSmall(f\"{date:%a, %b %-d, %Y}\", cls=\"uk-text-muted\"),\n",
    "        franken.P(desc),\n",
    "        body_cls='space-y-2'\n",
    "    ), href=href)"
   ]
  },
  {
   "cell_type": "code",
   "execution_count": 60,
   "id": "17b9b07c",
   "metadata": {},
   "outputs": [],
   "source": [
    "#| export\n",
    "def mk_nbcard_from_nb_path(nb_path):\n",
    "    date = get_date_from_iso8601_prefix(nb_path.name) or datetime.now()\n",
    "    return NBCard(*get_title_and_desc(nb_path), href=f'/nbs/{nb_path.name[:-6]}', date=date)"
   ]
  },
  {
   "cell_type": "markdown",
   "id": "0365d895",
   "metadata": {},
   "source": [
    "## Index Page"
   ]
  },
  {
   "cell_type": "code",
   "execution_count": 61,
   "id": "be20a58d",
   "metadata": {},
   "outputs": [],
   "source": [
    "#| export\n",
    "@rt\n",
    "def index():\n",
    "    nb_paths = get_nb_paths()\n",
    "    return (\n",
    "        Theme.blue.headers(),\n",
    "        Title(\"audrey.feldroy.com\"),\n",
    "        franken.Container(\n",
    "            Div(\n",
    "                franken.H1('audrey.feldroy.com'), franken.PParagraph(\"The experimental Jupyter notebooks of Audrey M. Roy Greenfeld. This website and all its notebooks are open-source at \", franken.A(\"github.com/audreyfeldroy/arg-blog-fasthtml\", href=\"https://github.com/audreyfeldroy/arg-blog-fasthtml\"), cls=\"mb-6\"),\n",
    "            ),\n",
    "            franken.Grid(*nb_paths.map(mk_nbcard_from_nb_path), cols_sm=1, cols_md=1, cols_lg=2, cols_xl=3)\n",
    "        )\n",
    "    )"
   ]
  },
  {
   "cell_type": "markdown",
   "id": "2a75a334",
   "metadata": {},
   "source": [
    "## Notebook Cells"
   ]
  },
  {
   "cell_type": "code",
   "execution_count": 53,
   "id": "d80d771e",
   "metadata": {},
   "outputs": [],
   "source": [
    "#| export\n",
    "def StyledCode(c, style='monokai'):\n",
    "    fm = HtmlFormatter(style=style, cssclass=style)\n",
    "    h = highlight(c, PythonLexer(), fm)\n",
    "    sd = fm.get_style_defs(f\".{style}\")\n",
    "    return Div(Style(sd), NotStr(h), id=style)"
   ]
  },
  {
   "cell_type": "code",
   "execution_count": 54,
   "id": "f597b0c5",
   "metadata": {},
   "outputs": [],
   "source": [
    "#| export\n",
    "def StyledMd(m):\n",
    "    return Safe(mistletoe.markdown(m))"
   ]
  },
  {
   "cell_type": "code",
   "execution_count": 55,
   "id": "68b75481",
   "metadata": {},
   "outputs": [],
   "source": [
    "#| export\n",
    "def StyledCell(c):\n",
    "    if c.cell_type == \"markdown\": return StyledMd(c.source)\n",
    "    if c.cell_type == \"code\": \n",
    "        if not c.outputs: return StyledCode(c.source)\n",
    "        return StyledCode(c.source), render_code_output(c)"
   ]
  },
  {
   "cell_type": "markdown",
   "id": "60ede619",
   "metadata": {},
   "source": [
    "## Detail Page"
   ]
  },
  {
   "cell_type": "code",
   "execution_count": 62,
   "id": "8a993e3c",
   "metadata": {},
   "outputs": [],
   "source": [
    "#| export\n",
    "@rt(\"/nbs/{name}\")\n",
    "def notebook(name:str):\n",
    "    fname = f\"{name}.ipynb\" if IN_NOTEBOOK else f\"nbs/{name}.ipynb\"\n",
    "    fpath = Path(fname)\n",
    "    nb = read_nb(fpath)\n",
    "    title = nb.cells[0].source.lstrip(\"# \")\n",
    "    desc = nb.cells[1].source\n",
    "    if \"MonsterUI\" in title:\n",
    "        return (\n",
    "            Theme.slate.headers(),\n",
    "            Title(title),\n",
    "            franken.Container(\n",
    "                franken.H1(title), # Title\n",
    "                franken.P(desc), # Desc\n",
    "                *L(nb.cells[2:]).map(StyledCell),\n",
    "                cls=\"space-y-5\"\n",
    "            )\n",
    "    )\n",
    "    return (\n",
    "        Style(':root {font-family: system-ui, -apple-system, \"Segoe UI\", Roboto, \"Helvetica Neue\", sans-serif; color-scheme: light dark;} body {background-color: light-dark(#ffffff, #1a1a1a); color: light-dark(#1a1a1a, #ffffff);} p {line-height: 1.5;}'),\n",
    "        Title(title),\n",
    "        Div(\n",
    "            H1(title), # Title\n",
    "            P(desc), # Desc\n",
    "            *L(nb.cells[2:]).map(StyledCell),\n",
    "            cls=\"space-y-5\"\n",
    "        )\n",
    "    )"
   ]
  },
  {
   "cell_type": "markdown",
   "id": "f3f89fb0",
   "metadata": {},
   "source": [
    "## Python Package Versions"
   ]
  },
  {
   "cell_type": "code",
   "execution_count": 66,
   "id": "a55b6d0d",
   "metadata": {},
   "outputs": [],
   "source": [
    "@rt\n",
    "def versions():\n",
    "    dists = L([NS(name=dist.metadata['Name'], version=dist.version) for dist in distributions()]).sorted('name')\n",
    "    dists = [Li(f'{d.name}: {d.version}') for d in dists]\n",
    "    return (Title('Python Package Versions'),\n",
    "        Style(':root {font-family: system-ui, -apple-system, \"Segoe UI\", Roboto, \"Helvetica Neue\", sans-serif; color-scheme: light dark;} body {background-color: light-dark(#ffffff, #1a1a1a); color: light-dark(#1a1a1a, #ffffff);} p {line-height: 1.5;}'),   \n",
    "        Div(\n",
    "            H1('Python Package Versions'),\n",
    "            Ul(*dists)          \n",
    "        )       \n",
    "    )"
   ]
  },
  {
   "cell_type": "markdown",
   "id": "b514e4fc",
   "metadata": {},
   "source": [
    "## .well-known"
   ]
  },
  {
   "cell_type": "code",
   "execution_count": 72,
   "id": "98b89d38",
   "metadata": {},
   "outputs": [],
   "source": [
    "@rt('/.well-known/{fname}')\n",
    "def wellknown(fname: str):\n",
    "    fpath = f\"../.well-known/{fname}\" if IN_NOTEBOOK else f\".well-known/{fname}\"\n",
    "    return Path(fpath).read_text()"
   ]
  },
  {
   "cell_type": "markdown",
   "id": "effdceaf",
   "metadata": {},
   "source": [
    "## Serve"
   ]
  },
  {
   "cell_type": "code",
   "execution_count": 36,
   "id": "1d2ac54d",
   "metadata": {},
   "outputs": [],
   "source": [
    "#| export\n",
    "serve()"
   ]
  },
  {
   "cell_type": "code",
   "execution_count": 75,
   "id": "ef689aeb",
   "metadata": {},
   "outputs": [],
   "source": [
    "server.stop()"
   ]
  },
  {
   "cell_type": "markdown",
   "id": "2e83a46b",
   "metadata": {},
   "source": [
    "## Export"
   ]
  },
  {
   "cell_type": "markdown",
   "id": "e211798f",
   "metadata": {},
   "source": [
    "To export this notebook as arg-blog-fasthtml's main.py:\n",
    "\n",
    "```bash\n",
    "nb_export nbs/2025-01-25-This-Site-Is-Now-Powered-by-This-Notebook-Part-2.ipynb --lib_path .\n",
    "```"
   ]
  }
 ],
 "metadata": {
  "kernelspec": {
   "display_name": "Python 3 (ipykernel)",
   "language": "python",
   "name": "python3"
  },
  "language_info": {
   "codemirror_mode": {
    "name": "ipython",
    "version": 3
   },
   "file_extension": ".py",
   "mimetype": "text/x-python",
   "name": "python",
   "nbconvert_exporter": "python",
   "pygments_lexer": "ipython3",
   "version": "3.12.8"
  }
 },
 "nbformat": 4,
 "nbformat_minor": 5
}
